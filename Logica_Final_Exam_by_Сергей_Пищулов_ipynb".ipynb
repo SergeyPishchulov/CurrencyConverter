{
  "nbformat": 4,
  "nbformat_minor": 0,
  "metadata": {
    "colab": {
      "name": "Logica: Final Exam by Сергей Пищулов.ipynb\"",
      "provenance": [],
      "collapsed_sections": [],
      "include_colab_link": true
    },
    "kernelspec": {
      "name": "python3",
      "display_name": "Python 3"
    },
    "language_info": {
      "name": "python"
    }
  },
  "cells": [
    {
      "cell_type": "markdown",
      "metadata": {
        "id": "view-in-github",
        "colab_type": "text"
      },
      "source": [
        "<a href=\"https://colab.research.google.com/github/SergeyPishchulov/CurrencyConverter/blob/main/Logica_Final_Exam_by_%D0%A1%D0%B5%D1%80%D0%B3%D0%B5%D0%B9_%D0%9F%D0%B8%D1%89%D1%83%D0%BB%D0%BE%D0%B2_ipynb%22.ipynb\" target=\"_parent\"><img src=\"https://colab.research.google.com/assets/colab-badge.svg\" alt=\"Open In Colab\"/></a>"
      ]
    },
    {
      "cell_type": "markdown",
      "source": [
        "# Logic Programming for Data Analysis 2021: Final Exam\n",
        "\n",
        "`Сергей Пищулов`\n",
        "\n",
        "`spishulov@gmail.com`\n",
        "\n",
        "Original data sources:\n",
        "* https://www.kaggle.com/kenshoresearch/kensho-derived-wikimedia-data\n",
        "* https://www.kaggle.com/wosaku/crime-in-vancouver\n"
      ],
      "metadata": {
        "id": "NJNzz5W37fke"
      }
    },
    {
      "cell_type": "code",
      "execution_count": 1,
      "metadata": {
        "colab": {
          "base_uri": "https://localhost:8080/"
        },
        "id": "NRZBWCZvzc5f",
        "outputId": "cfe1aa1c-69c3-4ba1-9c99-23cd35ad0b7d"
      },
      "outputs": [
        {
          "output_type": "stream",
          "name": "stdout",
          "text": [
            "Cloning into 'logica'...\n",
            "remote: Enumerating objects: 1610, done.\u001b[K\n",
            "remote: Counting objects: 100% (802/802), done.\u001b[K\n",
            "remote: Compressing objects: 100% (555/555), done.\u001b[K\n",
            "remote: Total 1610 (delta 493), reused 379 (delta 225), pack-reused 808\u001b[K\n",
            "Receiving objects: 100% (1610/1610), 3.87 MiB | 11.48 MiB/s, done.\n",
            "Resolving deltas: 100% (932/932), done.\n"
          ]
        }
      ],
      "source": [
        "!git clone https://github.com/evgskv/logica\n",
        "from logica import colab_logica"
      ]
    },
    {
      "cell_type": "code",
      "source": [
        "%load_ext google.colab.data_table"
      ],
      "metadata": {
        "id": "b04bL2wDmm3e"
      },
      "execution_count": 2,
      "outputs": []
    },
    {
      "cell_type": "code",
      "source": [
        "!gdown https://drive.google.com/uc?id=1sPVUx7LzqofzvEdcB-9JUX4qlrqW7gbe\n",
        "!unzip showbiz_and_vancouver.zip"
      ],
      "metadata": {
        "colab": {
          "base_uri": "https://localhost:8080/"
        },
        "id": "vr_XYOQIzsuV",
        "outputId": "026fa0a9-c14b-44fd-c33b-146686a220ae"
      },
      "execution_count": 3,
      "outputs": [
        {
          "output_type": "stream",
          "name": "stdout",
          "text": [
            "Downloading...\n",
            "From: https://drive.google.com/uc?id=1sPVUx7LzqofzvEdcB-9JUX4qlrqW7gbe\n",
            "To: /content/showbiz_and_vancouver.zip\n",
            "\r  0% 0.00/25.3M [00:00<?, ?B/s]\r 79% 19.9M/25.3M [00:00<00:00, 199MB/s]\r100% 25.3M/25.3M [00:00<00:00, 154MB/s]\n",
            "Archive:  showbiz_and_vancouver.zip\n",
            "replace showbusiness.db? [y]es, [n]o, [A]ll, [N]one, [r]ename: y\n",
            "  inflating: showbusiness.db         \n",
            "replace vancouver_crime.db? [y]es, [n]o, [A]ll, [N]one, [r]ename: y\n",
            "  inflating: vancouver_crime.db      \n"
          ]
        }
      ]
    },
    {
      "cell_type": "code",
      "source": [
        "print([\"Award\" for i in range(1,7)])"
      ],
      "metadata": {
        "colab": {
          "base_uri": "https://localhost:8080/"
        },
        "id": "Xwwkfq6joQ4m",
        "outputId": "a7246043-6131-48d5-945f-bffb81c52f67"
      },
      "execution_count": 24,
      "outputs": [
        {
          "output_type": "stream",
          "name": "stdout",
          "text": [
            "['Award', 'Award', 'Award', 'Award', 'Award', 'Award']\n"
          ]
        }
      ]
    },
    {
      "cell_type": "code",
      "source": [
        "%%logica SomeMovies, SomePeople, SomeRockBands, SomeAwards, ShowbusinessStats,RockArtistInMovie, RockBandCastedInMovies, RockBandMovies, MockMedalistTest, MockAward, MedalistCountTest, OnlyThreeMedalistsTest, AIsMedalistTest, BIsNotMedalistTest, BsAwardsInCircleAwardsOfA\n",
        "\n",
        "\n",
        "@Engine(\"sqlite\");\n",
        "@AttachDatabase(\"db\", \"showbusiness.db\");\n",
        "\n",
        "@Limit(SomeMovies, 10);\n",
        "SomeMovies(..r) :- db.movie(..r);\n",
        "\n",
        "@Limit(SomePeople, 10);\n",
        "SomePeople(..r) :- db.person(..r);\n",
        "\n",
        "@Limit(SomeRockBands, 10);\n",
        "SomeRockBands(..r) :- db.rockband(..r);\n",
        "\n",
        "@Limit(SomeAwards, 10);\n",
        "SomeAwards(..r) :- db.award(..r);\n",
        "\n",
        "ShowbusinessStats(num_movies:,\n",
        "                  num_people:,\n",
        "                  num_bands:) :-\n",
        "  num_movies += (1 :- db.movie()),\n",
        "  num_people += (1 :- db.person()),\n",
        "  num_bands += (1 :- db.rockband());\n",
        "\n",
        "#TODO Проверить на всех non-distinct предикатах, влияет ли на них distinct.\n",
        "#TODO вызвать все предикаты.\n",
        "\n",
        "#1\n",
        "LordOfRock(person_id:, person_name:) distinct :- \n",
        "  db.award(awardee_id:person_id, awardee_name:person_name, award:\"Order of the British Empire\"),\n",
        "  db.award(awardee_id:person_id, awardee_name:person_name, award:\"Rock and Roll Hall of Fame\");\n",
        "\n",
        "#2\n",
        "JuniorOrderMember(person_id:, person_name:) distinct :-\n",
        "  db.award(awardee_id:person_id, awardee_name:person_name, award:\"Order of the British Empire\"),\n",
        "  ~db.award(awardee_id:person_id, awardee_name:person_name, award:\"Commander of the Order of the British Empire\");\n",
        "\n",
        "#3 TODO\n",
        "ProminentSovietArtist(person_id:, person_name:) distinct :- \n",
        "  db.award(awardee_id:person_id, awardee_name:person_name, award:\"USSR State Prize\") | \n",
        "  db.award(awardee_id:person_id, awardee_name:person_name, award:\"People's Artist of the USSR\");\n",
        "\n",
        "#4\n",
        "BillAndCharlieButNotKevin(award:) distinct :- \n",
        "  db.award(awardee_name:\"Bill Gates\", award:),\n",
        "  db.award(awardee_name:\"Charlie Chaplin\", award:),\n",
        "  ~db.award(awardee_name:\"Kevin Spacey\", award:);\n",
        "\n",
        "#5\n",
        "RussianRockArtist(person_id:, person_name:) :- db.person(person_id:, name:person_name, citizenships:),\n",
        "  \"Russia\" in citizenships, RockArtist(person_id:);\n",
        "\n",
        "@Ground(RockArtist); \n",
        "RockArtist(person_id:) distinct :- db.rockband(members:), person_id in members;\n",
        "\n",
        "#6\n",
        "RockBandMovies(rockband_id:, rockband_name:, movies:) :- \n",
        "  RockBandCastedInMovies(rockband_id:, rockband_name:, movies:);\n",
        "RockBandMovies(rockband_id:, rockband_name:, movies:[]) :- \n",
        "  db.rockband(band_id:rockband_id, name:rockband_name), ~RockBandCastedInMovies(rockband_id:);\n",
        "\n",
        "RockBandCastedInMovies(rockband_id:, rockband_name:, movies? Set=movie) distinct :-\n",
        "  db.rockband(band_id:rockband_id, name:rockband_name, members:),\n",
        "  member in members, \n",
        "  RockArtistInMovie(person_id:member, movie:);\n",
        "\n",
        "@Ground(RockArtistInMovie); \n",
        "RockArtistInMovie(person_id:, movie:movie_name) distinct:- \n",
        "  db.movie(name:movie_name, casting:), person_id in casting, RockArtist(person_id:);\n",
        "\n",
        "#7\n",
        "Medalist(person_name:, person_id:, number_of_awards:, awards:, social_circle_awards:) distinct :-\n",
        "  MedalistPartial(person_name:, person_id:, awards:, social_circle_awards:),\n",
        "  number_of_awards == Size(awards),\n",
        "  number_of_awards > 5;\n",
        "\n",
        "@Ground(MedalistPartial); \n",
        "MedalistPartial(person_name:, person_id:, awards? List= award, social_circle_awards:) distinct :-\n",
        "  db.person(person_id:, name:person_name),\n",
        "  db.award(awardee_id:person_id, award:),\n",
        "  SocialCircleAwards(person_id:, friends_awards:social_circle_awards);\n",
        "\n",
        "@Ground(SocialCircleAwards); \n",
        "SocialCircleAwards(person_id:, friends_awards? Set= friend_award) distinct :-\n",
        "  Circle(person1_id:person_id, person2_id:friend_id),\n",
        "  db.award(awardee_id:friend_id, award:friend_award);\n",
        "\n",
        "@Ground(Circle); \n",
        "Circle(person1_id:, person2_id:) :- db.movie(casting:),\n",
        "  person1_id in casting, \n",
        "  person2_id  in casting,\n",
        "  person1_id != person2_id;\n",
        "Circle(person1_id:, person2_id:) :- db.rockband(members:),\n",
        "  person1_id in members, \n",
        "  person2_id  in members,\n",
        "  person1_id != person2_id;\n",
        "\n",
        "Flatten(list_of_lists) = r :- r List= x, x in xs, xs in list_of_lists;\n",
        "# Unique(l) = r :- r Set= x, x in l;\n",
        "\n",
        "#8 TODO: D не снимался ни в одном фильме. Почему он не может быть medalist'ом?\n",
        "MockPerson(person_id:\"A\", name:\"A\");\n",
        "MockPerson(person_id:\"B\", name:\"B\");\n",
        "MockPerson(person_id:\"C\", name:\"C\");\n",
        "MockPerson(person_id:\"D\", name:\"D\");\n",
        "\n",
        "\n",
        "MockAward(awardee_id:, award:) :- awardee_id in [\"A\", \"C\", \"D\"], \n",
        "  award in [\"Award 1\", \"Award 2\", \"Award 3\", \"Award 4\", \"Award 5\", \"Award 6\"]; \n",
        "\n",
        "\n",
        "MockAward(awardee_id:\"B\", award:\"Only B's award 1\");#не должен попасть в Medalist\n",
        "MockAward(awardee_id:\"B\", award:\"Only B's award 2\");#эти нагарады должны попасть в social_circle_awards of A\n",
        "\n",
        "MockMovie(name:\"MovieWih_A_and_B\", casting:[\"A\", \"B\", \"C\"]);\n",
        "MockMovie(name:\"MovieWih_A\", casting:[\"A\"]);\n",
        "MockMovie(name:\"MovieWih_B\", casting:[\"B\"]);\n",
        "MockMovie(name:\"MovieWih_C\", casting:[\"C\"]);\n",
        "\n",
        "MockMedalistTest := Medalist(db.person: MockPerson, db.award: MockAward, db.movie: MockMovie);\n",
        "MedalistCountTest() +=1 :- MockMedalistTest(); \n",
        "OnlyThreeMedalistsTest() =  if (MedalistCountTest() == 3) then \"Pass\" else \"Fail\";\n",
        "AIsMedalistTest() = if (\"A\" in medalists) then \"Pass\" else \"Fail\" :- medalists List= (person_name :- MockMedalistTest(person_name:));\n",
        "BIsNotMedalistTest() = if (\"B\" in medalists) then \"Fail\" else \"Pass\" :- medalists List= (person_name :- MockMedalistTest(person_name:));\n",
        "BsAwardsInCircleAwardsOfA() = if (\"Only B's award 1\" in circle_of_a) then \"Pass\" else \"Fail\" :- MockMedalistTest(person_name:\"A\", social_circle_awards:circle_of_a);\n",
        "\n",
        "#9 TODO записей примерно на 1000 меньше чем фильмов. Кажется, не все актеры есть в persons\n",
        "@Ground(CitizenshipsInMovies); \n",
        "CitizenshipsInMovies(movie_id:, movie_name:, citizenships? Set= x) distinct :-\n",
        "  db.movie(movie_id:, name:movie_name, casting:),\n",
        "  person_id in casting,\n",
        "  person(person_id:, citizenships:person_citizenships),\n",
        "  all_persons_citizenships List= person_citizenships,\n",
        "  x in Flatten(all_persons_citizenships);\n",
        "\n",
        "AukusMovie(movie_id:, movie_name:, citizenships:) :-\n",
        "  CitizenshipsInMovies(movie_id:, movie_name:, citizenships:),\n",
        "  \"Australia\" in citizenships,\n",
        "  \"United Kingdom\" in citizenships,\n",
        "  \"United States of America\" in citizenships;\n",
        "\n",
        "#10\n",
        "@Ground(CastTogether); \n",
        "CastTogether(x, y, movie:name) :- db.movie(casting:, name:),\n",
        "  x in casting, \n",
        "  y  in casting,\n",
        "  x != y;\n",
        "@Ground(VysotskyId); \n",
        "VysotskyId() = person_id :- db.person(person_id:, name:\"Vladimir Vysotsky\");\n",
        "@Ground(SchwarzeneggerId);\n",
        "SchwarzeneggerId() = person_id :- db.person(person_id:, name:\"Arnold Schwarzenegger\");\n",
        "\n",
        "@Ground(PathTo); \n",
        "@Recursive(PathTo, 3);\n",
        "PathTo(VysotskyId()) ArgMin= [VysotskyId()] -> 0;\n",
        "PathTo(y) ArgMin= path -> Size(path) :-\n",
        " PathTo(x) == path_to_x,\n",
        " CastTogether(x, y),\n",
        " path == ArrayConcat(path_to_x, [y]);\n",
        "\n",
        "\n",
        "@Ground(OnlyPath); \n",
        "OnlyPath() =  PathTo(SchwarzeneggerId());\n",
        "PathFromVladimirToArnold(step_number:i+1, from_person:, to_person:, movie:) :-\n",
        "  i in Range(Size(path) - 1),\n",
        "  from_person_id == Element(path, i),\n",
        "  to_person_id == Element(path, i+1),\n",
        "  path == OnlyPath(),\n",
        "  MovieLink(from_person_id, to_person_id, movies:),\n",
        "  movie == Element(movies, 0),\n",
        "  db.person(person_id:from_person_id, name:from_person),\n",
        "  db.person(person_id:to_person_id, name:to_person);\n",
        "\n",
        "\n",
        "MovieLink(x, y, movies? List=movie) distinct :- CastTogether(x, y, movie:);\n",
        "\n",
        "\n",
        "@Ground(GurchenkoId); \n",
        "GurchenkoId() = person_id :- db.person(person_id:, name:\"Lyudmila Gurchenko\");\n",
        "@Ground(MonroeId);\n",
        "MonroeId() = person_id :- db.person(person_id:, name:\"Marilyn Monroe\");\n",
        "\n",
        "PathFromLyudmilaToMarilyn := PathFromVladimirToArnold(VysotskyId:GurchenkoId, SchwarzeneggerId: MonroeId );\n"
      ],
      "metadata": {
        "colab": {
          "base_uri": "https://localhost:8080/",
          "resources": {
            "http://localhost:8080/nbextensions/google.colab/tabbar.css": {
              "data": "Lmdvb2ctdGFie3Bvc2l0aW9uOnJlbGF0aXZlO3BhZGRpbmc6NHB4IDhweDtjb2xvcjojMDBjO3RleHQtZGVjb3JhdGlvbjp1bmRlcmxpbmU7Y3Vyc29yOmRlZmF1bHR9Lmdvb2ctdGFiLWJhci10b3AgLmdvb2ctdGFie21hcmdpbjoxcHggNHB4IDAgMDtib3JkZXItYm90dG9tOjA7ZmxvYXQ6bGVmdH0uZ29vZy10YWItYmFyLXRvcDphZnRlciwuZ29vZy10YWItYmFyLWJvdHRvbTphZnRlcntjb250ZW50OiIgIjtkaXNwbGF5OmJsb2NrO2hlaWdodDowO2NsZWFyOmJvdGg7dmlzaWJpbGl0eTpoaWRkZW59Lmdvb2ctdGFiLWJhci1ib3R0b20gLmdvb2ctdGFie21hcmdpbjowIDRweCAxcHggMDtib3JkZXItdG9wOjA7ZmxvYXQ6bGVmdH0uZ29vZy10YWItYmFyLXN0YXJ0IC5nb29nLXRhYnttYXJnaW46MCAwIDRweCAxcHg7Ym9yZGVyLXJpZ2h0OjB9Lmdvb2ctdGFiLWJhci1lbmQgLmdvb2ctdGFie21hcmdpbjowIDFweCA0cHggMDtib3JkZXItbGVmdDowfS5nb29nLXRhYi1ob3ZlcntiYWNrZ3JvdW5kOiNlZWV9Lmdvb2ctdGFiLWRpc2FibGVke2NvbG9yOiM2NjZ9Lmdvb2ctdGFiLXNlbGVjdGVke2NvbG9yOiMwMDA7YmFja2dyb3VuZDojZmZmO3RleHQtZGVjb3JhdGlvbjpub25lO2ZvbnQtd2VpZ2h0OmJvbGQ7Ym9yZGVyOjFweCBzb2xpZCAjNmI5MGRhfS5nb29nLXRhYi1iYXItdG9we3BhZGRpbmctdG9wOjVweCFpbXBvcnRhbnQ7cGFkZGluZy1sZWZ0OjVweCFpbXBvcnRhbnQ7Ym9yZGVyLWJvdHRvbToxcHggc29saWQgIzZiOTBkYSFpbXBvcnRhbnR9Lmdvb2ctdGFiLWJhci10b3AgLmdvb2ctdGFiLXNlbGVjdGVke3RvcDoxcHg7bWFyZ2luLXRvcDowO3BhZGRpbmctYm90dG9tOjVweH0uZ29vZy10YWItYmFyLWJvdHRvbSAuZ29vZy10YWItc2VsZWN0ZWR7dG9wOi0xcHg7bWFyZ2luLWJvdHRvbTowO3BhZGRpbmctdG9wOjVweH0uZ29vZy10YWItYmFyLXN0YXJ0IC5nb29nLXRhYi1zZWxlY3RlZHtsZWZ0OjFweDttYXJnaW4tbGVmdDowO3BhZGRpbmctcmlnaHQ6OXB4fS5nb29nLXRhYi1iYXItZW5kIC5nb29nLXRhYi1zZWxlY3RlZHtsZWZ0Oi0xcHg7bWFyZ2luLXJpZ2h0OjA7cGFkZGluZy1sZWZ0OjlweH0uZ29vZy10YWItYmFye21hcmdpbjowO2JvcmRlcjowO3BhZGRpbmc6MDtsaXN0LXN0eWxlOm5vbmU7Y3Vyc29yOmRlZmF1bHQ7b3V0bGluZTpub25lO2JhY2tncm91bmQ6I2ViZWZmOX0uZ29vZy10YWItYmFyLWNsZWFye2NsZWFyOmJvdGg7aGVpZ2h0OjA7b3ZlcmZsb3c6aGlkZGVufS5nb29nLXRhYi1iYXItc3RhcnR7ZmxvYXQ6bGVmdH0uZ29vZy10YWItYmFyLWVuZHtmbG9hdDpyaWdodH0qIGh0bWwgLmdvb2ctdGFiLWJhci1zdGFydHttYXJnaW4tcmlnaHQ6LTNweH0qIGh0bWwgLmdvb2ctdGFiLWJhci1lbmR7bWFyZ2luLWxlZnQ6LTNweH0=",
              "ok": true,
              "headers": [
                [
                  "content-type",
                  "text/css"
                ]
              ],
              "status": 200,
              "status_text": ""
            },
            "http://localhost:8080/nbextensions/google.colab/tabbar_main.min.js": {
              "data": "Ly8gY2xhbmctZm9ybWF0IG9mZgooZnVuY3Rpb24oKXt2YXIgaCxhYT1mdW5jdGlvbihhKXt2YXIgYj0wO3JldHVybiBmdW5jdGlvbigpe3JldHVybiBiPGEubGVuZ3RoP3tkb25lOiExLHZhbHVlOmFbYisrXX06e2RvbmU6ITB9fX0sYmE9ZnVuY3Rpb24oYSl7dmFyIGI9InVuZGVmaW5lZCIhPXR5cGVvZiBTeW1ib2wmJlN5bWJvbC5pdGVyYXRvciYmYVtTeW1ib2wuaXRlcmF0b3JdO3JldHVybiBiP2IuY2FsbChhKTp7bmV4dDphYShhKX19LGw9dGhpc3x8c2VsZixjYT1mdW5jdGlvbigpe30sZGE9ZnVuY3Rpb24oYSl7YS5CYT12b2lkIDA7YS5SPWZ1bmN0aW9uKCl7cmV0dXJuIGEuQmE/YS5CYTphLkJhPW5ldyBhfX0sZWE9ZnVuY3Rpb24oYSl7dmFyIGI9dHlwZW9mIGE7aWYoIm9iamVjdCI9PWIpaWYoYSl7aWYoYSBpbnN0YW5jZW9mIEFycmF5KXJldHVybiJhcnJheSI7aWYoYSBpbnN0YW5jZW9mIE9iamVjdClyZXR1cm4gYjt2YXIgYz1PYmplY3QucHJvdG90eXBlLnRvU3RyaW5nLmNhbGwoYSk7aWYoIltvYmplY3QgV2luZG93XSI9PWMpcmV0dXJuIm9iamVjdCI7CmlmKCJbb2JqZWN0IEFycmF5XSI9PWN8fCJudW1iZXIiPT10eXBlb2YgYS5sZW5ndGgmJiJ1bmRlZmluZWQiIT10eXBlb2YgYS5zcGxpY2UmJiJ1bmRlZmluZWQiIT10eXBlb2YgYS5wcm9wZXJ0eUlzRW51bWVyYWJsZSYmIWEucHJvcGVydHlJc0VudW1lcmFibGUoInNwbGljZSIpKXJldHVybiJhcnJheSI7aWYoIltvYmplY3QgRnVuY3Rpb25dIj09Y3x8InVuZGVmaW5lZCIhPXR5cGVvZiBhLmNhbGwmJiJ1bmRlZmluZWQiIT10eXBlb2YgYS5wcm9wZXJ0eUlzRW51bWVyYWJsZSYmIWEucHJvcGVydHlJc0VudW1lcmFibGUoImNhbGwiKSlyZXR1cm4iZnVuY3Rpb24ifWVsc2UgcmV0dXJuIm51bGwiO2Vsc2UgaWYoImZ1bmN0aW9uIj09YiYmInVuZGVmaW5lZCI9PXR5cGVvZiBhLmNhbGwpcmV0dXJuIm9iamVjdCI7cmV0dXJuIGJ9LGZhPWZ1bmN0aW9uKGEpe3JldHVybiJhcnJheSI9PWVhKGEpfSxoYT1mdW5jdGlvbihhKXt2YXIgYj1lYShhKTtyZXR1cm4iYXJyYXkiPT1ifHwib2JqZWN0Ij09CmImJiJudW1iZXIiPT10eXBlb2YgYS5sZW5ndGh9LGlhPWZ1bmN0aW9uKGEpe3JldHVybiJmdW5jdGlvbiI9PWVhKGEpfSxtPWZ1bmN0aW9uKGEpe3ZhciBiPXR5cGVvZiBhO3JldHVybiJvYmplY3QiPT1iJiZudWxsIT1hfHwiZnVuY3Rpb24iPT1ifSxqYT0iY2xvc3VyZV91aWRfIisoMUU5Kk1hdGgucmFuZG9tKCk+Pj4wKSxrYT0wLGxhPWZ1bmN0aW9uKGEsYil7dmFyIGM9QXJyYXkucHJvdG90eXBlLnNsaWNlLmNhbGwoYXJndW1lbnRzLDEpO3JldHVybiBmdW5jdGlvbigpe3ZhciBkPWMuc2xpY2UoKTtkLnB1c2guYXBwbHkoZCxhcmd1bWVudHMpO3JldHVybiBhLmFwcGx5KHRoaXMsZCl9fSxuPWZ1bmN0aW9uKGEsYil7ZnVuY3Rpb24gYygpe31jLnByb3RvdHlwZT1iLnByb3RvdHlwZTthLmk9Yi5wcm90b3R5cGU7YS5wcm90b3R5cGU9bmV3IGM7YS5wcm90b3R5cGUuY29uc3RydWN0b3I9YX07dmFyIG1hLG5hPXtlYjoiYWN0aXZlZGVzY2VuZGFudCIsamI6ImF0b21pYyIsa2I6ImF1dG9jb21wbGV0ZSIsbWI6ImJ1c3kiLHBiOiJjaGVja2VkIixxYjoiY29saW5kZXgiLHZiOiJjb250cm9scyIseGI6ImRlc2NyaWJlZGJ5IixBYjoiZGlzYWJsZWQiLENiOiJkcm9wZWZmZWN0IixEYjoiZXhwYW5kZWQiLEViOiJmbG93dG8iLEdiOiJncmFiYmVkIixLYjoiaGFzcG9wdXAiLE1iOiJoaWRkZW4iLE9iOiJpbnZhbGlkIixQYjoibGFiZWwiLFFiOiJsYWJlbGxlZGJ5IixSYjoibGV2ZWwiLFdiOiJsaXZlIixrYzoibXVsdGlsaW5lIixsYzoibXVsdGlzZWxlY3RhYmxlIixwYzoib3JpZW50YXRpb24iLHFjOiJvd25zIixyYzoicG9zaW5zZXQiLHRjOiJwcmVzc2VkIix4YzoicmVhZG9ubHkiLHpjOiJyZWxldmFudCIsQWM6InJlcXVpcmVkIixFYzoicm93aW5kZXgiLEhjOiJzZWxlY3RlZCIsSmM6InNldHNpemUiLExjOiJzb3J0IixaYzoidmFsdWVtYXgiLCRjOiJ2YWx1ZW1pbiIsYWQ6InZhbHVlbm93IiwKYmQ6InZhbHVldGV4dCJ9O3ZhciBvYT1mdW5jdGlvbihhLGIsYyl7Zm9yKHZhciBkIGluIGEpYi5jYWxsKGMsYVtkXSxkLGEpfSxwYT1mdW5jdGlvbihhLGIpe2Zvcih2YXIgYyBpbiBhKWlmKGFbY109PWIpcmV0dXJuITA7cmV0dXJuITF9LHFhPWZ1bmN0aW9uKGEsYixjKXtpZihudWxsIT09YSYmYiBpbiBhKXRocm93IEVycm9yKCdUaGUgb2JqZWN0IGFscmVhZHkgY29udGFpbnMgdGhlIGtleSAiJytiKyciJyk7YVtiXT1jfSxzYT1mdW5jdGlvbihhKXt2YXIgYj17fSxjO2ZvcihjIGluIGEpYlthW2NdXT1jO3JldHVybiBifSx0YT0iY29uc3RydWN0b3IgaGFzT3duUHJvcGVydHkgaXNQcm90b3R5cGVPZiBwcm9wZXJ0eUlzRW51bWVyYWJsZSB0b0xvY2FsZVN0cmluZyB0b1N0cmluZyB2YWx1ZU9mIi5zcGxpdCgiICIpLHVhPWZ1bmN0aW9uKGEsYil7Zm9yKHZhciBjLGQsZT0xO2U8YXJndW1lbnRzLmxlbmd0aDtlKyspe2Q9YXJndW1lbnRzW2VdO2ZvcihjIGluIGQpYVtjXT1kW2NdO2Zvcih2YXIgZj0wO2Y8dGEubGVuZ3RoO2YrKyljPQp0YVtmXSxPYmplY3QucHJvdG90eXBlLmhhc093blByb3BlcnR5LmNhbGwoZCxjKSYmKGFbY109ZFtjXSl9fTt2YXIgdmE9e2ZiOiJhbGVydCIsZ2I6ImFsZXJ0ZGlhbG9nIixoYjoiYXBwbGljYXRpb24iLGliOiJhcnRpY2xlIixsYjoiYmFubmVyIixuYjoiYnV0dG9uIixvYjoiY2hlY2tib3giLHJiOiJjb2x1bW5oZWFkZXIiLHNiOiJjb21ib2JveCIsdGI6ImNvbXBsZW1lbnRhcnkiLHViOiJjb250ZW50aW5mbyIsd2I6ImRlZmluaXRpb24iLHliOiJkaWFsb2ciLHpiOiJkaXJlY3RvcnkiLEJiOiJkb2N1bWVudCIsRmI6ImZvcm0iLEhiOiJncmlkIixJYjoiZ3JpZGNlbGwiLEpiOiJncm91cCIsTGI6ImhlYWRpbmciLE5iOiJpbWciLFNiOiJsaW5rIixUYjoibGlzdCIsVWI6Imxpc3Rib3giLFZiOiJsaXN0aXRlbSIsWGI6ImxvZyIsWWI6Im1haW4iLFpiOiJtYXJxdWVlIiwkYjoibWF0aCIsYWM6Im1lbnUiLGJjOiJtZW51YmFyIixjYzoibWVudWl0ZW0iLGRjOiJtZW51aXRlbWNoZWNrYm94IixlYzoibWVudWl0ZW1yYWRpbyIsbWM6Im5hdmlnYXRpb24iLG5jOiJub3RlIixvYzoib3B0aW9uIiwKc2M6InByZXNlbnRhdGlvbiIsdWM6InByb2dyZXNzYmFyIix2YzoicmFkaW8iLHdjOiJyYWRpb2dyb3VwIix5YzoicmVnaW9uIixCYzoicm93IixDYzoicm93Z3JvdXAiLERjOiJyb3doZWFkZXIiLEZjOiJzY3JvbGxiYXIiLEdjOiJzZWFyY2giLEljOiJzZXBhcmF0b3IiLEtjOiJzbGlkZXIiLE1jOiJzcGluYnV0dG9uIixOYzoic3RhdHVzIixPYzoidGFiIixQYzoidGFibGlzdCIsUWM6InRhYnBhbmVsIixSYzoidGV4dGJveCIsU2M6InRleHRpbmZvIixUYzoidGltZXIiLFVjOiJ0b29sYmFyIixWYzoidG9vbHRpcCIsV2M6InRyZWUiLFhjOiJ0cmVlZ3JpZCIsWWM6InRyZWVpdGVtIn07dmFyIHdhPWZ1bmN0aW9uKGEpe2lmKEVycm9yLmNhcHR1cmVTdGFja1RyYWNlKUVycm9yLmNhcHR1cmVTdGFja1RyYWNlKHRoaXMsd2EpO2Vsc2V7dmFyIGI9RXJyb3IoKS5zdGFjaztiJiYodGhpcy5zdGFjaz1iKX1hJiYodGhpcy5tZXNzYWdlPVN0cmluZyhhKSl9O24od2EsRXJyb3IpO3dhLnByb3RvdHlwZS5uYW1lPSJDdXN0b21FcnJvciI7dmFyIHhhO3ZhciB5YT1mdW5jdGlvbihhLGIpe2E9YS5zcGxpdCgiJXMiKTtmb3IodmFyIGM9IiIsZD1hLmxlbmd0aC0xLGU9MDtlPGQ7ZSsrKWMrPWFbZV0rKGU8Yi5sZW5ndGg/YltlXToiJXMiKTt3YS5jYWxsKHRoaXMsYythW2RdKX07bih5YSx3YSk7eWEucHJvdG90eXBlLm5hbWU9IkFzc2VydGlvbkVycm9yIjsKdmFyIHphPWZ1bmN0aW9uKGEsYixjLGQpe3ZhciBlPSJBc3NlcnRpb24gZmFpbGVkIjtpZihjKXtlKz0iOiAiK2M7dmFyIGY9ZH1lbHNlIGEmJihlKz0iOiAiK2EsZj1iKTt0aHJvdyBuZXcgeWEoIiIrZSxmfHxbXSk7fSxxPWZ1bmN0aW9uKGEsYixjKXthfHx6YSgiIixudWxsLGIsQXJyYXkucHJvdG90eXBlLnNsaWNlLmNhbGwoYXJndW1lbnRzLDIpKTtyZXR1cm4gYX0sQWE9ZnVuY3Rpb24oYSxiLGMpe20oYSkmJjE9PWEubm9kZVR5cGV8fHphKCJFeHBlY3RlZCBFbGVtZW50IGJ1dCBnb3QgJXM6ICVzLiIsW2VhKGEpLGFdLGIsQXJyYXkucHJvdG90eXBlLnNsaWNlLmNhbGwoYXJndW1lbnRzLDIpKX0sQ2E9ZnVuY3Rpb24oYSxiLGMsZCl7YSBpbnN0YW5jZW9mIGJ8fHphKCJFeHBlY3RlZCBpbnN0YW5jZW9mICVzIGJ1dCBnb3QgJXMuIixbQmEoYiksQmEoYSldLGMsQXJyYXkucHJvdG90eXBlLnNsaWNlLmNhbGwoYXJndW1lbnRzLDMpKX0sQmE9ZnVuY3Rpb24oYSl7cmV0dXJuIGEgaW5zdGFuY2VvZgpGdW5jdGlvbj9hLmRpc3BsYXlOYW1lfHxhLm5hbWV8fCJ1bmtub3duIHR5cGUgbmFtZSI6YSBpbnN0YW5jZW9mIE9iamVjdD9hLmNvbnN0cnVjdG9yLmRpc3BsYXlOYW1lfHxhLmNvbnN0cnVjdG9yLm5hbWV8fE9iamVjdC5wcm90b3R5cGUudG9TdHJpbmcuY2FsbChhKTpudWxsPT09YT8ibnVsbCI6dHlwZW9mIGF9O3ZhciBEYT1BcnJheS5wcm90b3R5cGUuaW5kZXhPZj9mdW5jdGlvbihhLGIpe3EobnVsbCE9YS5sZW5ndGgpO3JldHVybiBBcnJheS5wcm90b3R5cGUuaW5kZXhPZi5jYWxsKGEsYix2b2lkIDApfTpmdW5jdGlvbihhLGIpe2lmKCJzdHJpbmciPT09dHlwZW9mIGEpcmV0dXJuInN0cmluZyIhPT10eXBlb2YgYnx8MSE9Yi5sZW5ndGg/LTE6YS5pbmRleE9mKGIsMCk7Zm9yKHZhciBjPTA7YzxhLmxlbmd0aDtjKyspaWYoYyBpbiBhJiZhW2NdPT09YilyZXR1cm4gYztyZXR1cm4tMX0scj1BcnJheS5wcm90b3R5cGUuZm9yRWFjaD9mdW5jdGlvbihhLGIsYyl7cShudWxsIT1hLmxlbmd0aCk7QXJyYXkucHJvdG90eXBlLmZvckVhY2guY2FsbChhLGIsYyl9OmZ1bmN0aW9uKGEsYixjKXtmb3IodmFyIGQ9YS5sZW5ndGgsZT0ic3RyaW5nIj09PXR5cGVvZiBhP2Euc3BsaXQoIiIpOmEsZj0wO2Y8ZDtmKyspZiBpbiBlJiZiLmNhbGwoYyxlW2ZdLGYsYSl9LEVhPUFycmF5LnByb3RvdHlwZS5maWx0ZXI/CmZ1bmN0aW9uKGEsYil7cShudWxsIT1hLmxlbmd0aCk7cmV0dXJuIEFycmF5LnByb3RvdHlwZS5maWx0ZXIuY2FsbChhLGIsdm9pZCAwKX06ZnVuY3Rpb24oYSxiKXtmb3IodmFyIGM9YS5sZW5ndGgsZD1bXSxlPTAsZj0ic3RyaW5nIj09PXR5cGVvZiBhP2Euc3BsaXQoIiIpOmEsZz0wO2c8YztnKyspaWYoZyBpbiBmKXt2YXIgaz1mW2ddO2IuY2FsbCh2b2lkIDAsayxnLGEpJiYoZFtlKytdPWspfXJldHVybiBkfSxGYT1BcnJheS5wcm90b3R5cGUuZXZlcnk/ZnVuY3Rpb24oYSxiKXtxKG51bGwhPWEubGVuZ3RoKTtyZXR1cm4gQXJyYXkucHJvdG90eXBlLmV2ZXJ5LmNhbGwoYSxiLHZvaWQgMCl9OmZ1bmN0aW9uKGEsYil7Zm9yKHZhciBjPWEubGVuZ3RoLGQ9InN0cmluZyI9PT10eXBlb2YgYT9hLnNwbGl0KCIiKTphLGU9MDtlPGM7ZSsrKWlmKGUgaW4gZCYmIWIuY2FsbCh2b2lkIDAsZFtlXSxlLGEpKXJldHVybiExO3JldHVybiEwfSxHYT1mdW5jdGlvbihhLGIpe3JldHVybiAwPD0KRGEoYSxiKX0sSGE9ZnVuY3Rpb24oYSxiKXtiPURhKGEsYik7dmFyIGM7aWYoYz0wPD1iKXEobnVsbCE9YS5sZW5ndGgpLEFycmF5LnByb3RvdHlwZS5zcGxpY2UuY2FsbChhLGIsMSk7cmV0dXJuIGN9LElhPWZ1bmN0aW9uKGEpe3JldHVybiBBcnJheS5wcm90b3R5cGUuY29uY2F0LmFwcGx5KFtdLGFyZ3VtZW50cyl9LEphPWZ1bmN0aW9uKGEpe3ZhciBiPWEubGVuZ3RoO2lmKDA8Yil7Zm9yKHZhciBjPUFycmF5KGIpLGQ9MDtkPGI7ZCsrKWNbZF09YVtkXTtyZXR1cm4gY31yZXR1cm5bXX0sTGE9ZnVuY3Rpb24oYSxiLGMsZCl7cShudWxsIT1hLmxlbmd0aCk7QXJyYXkucHJvdG90eXBlLnNwbGljZS5hcHBseShhLEthKGFyZ3VtZW50cywxKSl9LEthPWZ1bmN0aW9uKGEsYixjKXtxKG51bGwhPWEubGVuZ3RoKTtyZXR1cm4gMj49YXJndW1lbnRzLmxlbmd0aD9BcnJheS5wcm90b3R5cGUuc2xpY2UuY2FsbChhLGIpOkFycmF5LnByb3RvdHlwZS5zbGljZS5jYWxsKGEsYixjKX07dmFyIE1hPVN0cmluZy5wcm90b3R5cGUudHJpbT9mdW5jdGlvbihhKXtyZXR1cm4gYS50cmltKCl9OmZ1bmN0aW9uKGEpe3JldHVybi9eW1xzXHhhMF0qKFtcc1xTXSo/KVtcc1x4YTBdKiQvLmV4ZWMoYSlbMV19LE5hPS8mL2csT2E9LzwvZyxQYT0vPi9nLFFhPS8iL2csUmE9LycvZyxTYT0vXHgwMC9nLFRhPS9bXHgwMCY8PiInXS8sdD1mdW5jdGlvbihhLGIpe3JldHVybi0xIT1hLmluZGV4T2YoYil9LFVhPWZ1bmN0aW9uKGEsYil7cmV0dXJuIGE8Yj8tMTphPmI/MTowfTt2YXIgdTthOnt2YXIgVmE9bC5uYXZpZ2F0b3I7aWYoVmEpe3ZhciBXYT1WYS51c2VyQWdlbnQ7aWYoV2Epe3U9V2E7YnJlYWsgYX19dT0iIn07LyoKCiBDb3B5cmlnaHQgVGhlIENsb3N1cmUgTGlicmFyeSBBdXRob3JzLgogU1BEWC1MaWNlbnNlLUlkZW50aWZpZXI6IEFwYWNoZS0yLjAKKi8KdmFyIFhhPWZ1bmN0aW9uKGEpe1RhLnRlc3QoYSkmJigtMSE9YS5pbmRleE9mKCImIikmJihhPWEucmVwbGFjZShOYSwiJmFtcDsiKSksLTEhPWEuaW5kZXhPZigiPCIpJiYoYT1hLnJlcGxhY2UoT2EsIiZsdDsiKSksLTEhPWEuaW5kZXhPZigiPiIpJiYoYT1hLnJlcGxhY2UoUGEsIiZndDsiKSksLTEhPWEuaW5kZXhPZignIicpJiYoYT1hLnJlcGxhY2UoUWEsIiZxdW90OyIpKSwtMSE9YS5pbmRleE9mKCInIikmJihhPWEucmVwbGFjZShSYSwiJiMzOTsiKSksLTEhPWEuaW5kZXhPZigiXHgwMCIpJiYoYT1hLnJlcGxhY2UoU2EsIiYjMDsiKSkpO3JldHVybiBhfTt2YXIgWWE9ZnVuY3Rpb24oYSl7WWFbIiAiXShhKTtyZXR1cm4gYX07WWFbIiAiXT1jYTt2YXIgJGE9ZnVuY3Rpb24oYSxiKXt2YXIgYz1aYTtyZXR1cm4gT2JqZWN0LnByb3RvdHlwZS5oYXNPd25Qcm9wZXJ0eS5jYWxsKGMsYSk/Y1thXTpjW2FdPWIoYSl9O3ZhciBhYj10KHUsIk9wZXJhIiksdj10KHUsIlRyaWRlbnQiKXx8dCh1LCJNU0lFIiksYmI9dCh1LCJFZGdlIikseD10KHUsIkdlY2tvIikmJiEodCh1LnRvTG93ZXJDYXNlKCksIndlYmtpdCIpJiYhdCh1LCJFZGdlIikpJiYhKHQodSwiVHJpZGVudCIpfHx0KHUsIk1TSUUiKSkmJiF0KHUsIkVkZ2UiKSx5PXQodS50b0xvd2VyQ2FzZSgpLCJ3ZWJraXQiKSYmIXQodSwiRWRnZSIpLHo9dCh1LCJNYWNpbnRvc2giKSxjYj1mdW5jdGlvbigpe3ZhciBhPWwuZG9jdW1lbnQ7cmV0dXJuIGE/YS5kb2N1bWVudE1vZGU6dm9pZCAwfSxkYjsKYTp7dmFyIGViPSIiLGZiPWZ1bmN0aW9uKCl7dmFyIGE9dTtpZih4KXJldHVybi9ydjooW15cKTtdKykoXCl8OykvLmV4ZWMoYSk7aWYoYmIpcmV0dXJuL0VkZ2VcLyhbXGRcLl0rKS8uZXhlYyhhKTtpZih2KXJldHVybi9cYig/Ok1TSUV8cnYpWzogXShbXlwpO10rKShcKXw7KS8uZXhlYyhhKTtpZih5KXJldHVybi9XZWJLaXRcLyhcUyspLy5leGVjKGEpO2lmKGFiKXJldHVybi8oPzpWZXJzaW9uKVsgXC9dPyhcUyspLy5leGVjKGEpfSgpO2ZiJiYoZWI9ZmI/ZmJbMV06IiIpO2lmKHYpe3ZhciBnYj1jYigpO2lmKG51bGwhPWdiJiZnYj5wYXJzZUZsb2F0KGViKSl7ZGI9U3RyaW5nKGdiKTticmVhayBhfX1kYj1lYn0KdmFyIGhiPWRiLFphPXt9LEE9ZnVuY3Rpb24oYSl7cmV0dXJuICRhKGEsZnVuY3Rpb24oKXtmb3IodmFyIGI9MCxjPU1hKFN0cmluZyhoYikpLnNwbGl0KCIuIiksZD1NYShTdHJpbmcoYSkpLnNwbGl0KCIuIiksZT1NYXRoLm1heChjLmxlbmd0aCxkLmxlbmd0aCksZj0wOzA9PWImJmY8ZTtmKyspe3ZhciBnPWNbZl18fCIiLGs9ZFtmXXx8IiI7ZG97Zz0vKFxkKikoXEQqKSguKikvLmV4ZWMoZyl8fFsiIiwiIiwiIiwiIl07az0vKFxkKikoXEQqKSguKikvLmV4ZWMoayl8fFsiIiwiIiwiIiwiIl07aWYoMD09Z1swXS5sZW5ndGgmJjA9PWtbMF0ubGVuZ3RoKWJyZWFrO2I9VWEoMD09Z1sxXS5sZW5ndGg/MDpwYXJzZUludChnWzFdLDEwKSwwPT1rWzFdLmxlbmd0aD8wOnBhcnNlSW50KGtbMV0sMTApKXx8VWEoMD09Z1syXS5sZW5ndGgsMD09a1syXS5sZW5ndGgpfHxVYShnWzJdLGtbMl0pO2c9Z1szXTtrPWtbM119d2hpbGUoMD09Yil9cmV0dXJuIDA8PWJ9KX0saWI7CmliPWwuZG9jdW1lbnQmJnY/Y2IoKTp2b2lkIDA7dmFyIGpiPSF2fHw5PD1OdW1iZXIoaWIpO3ZhciBsYj1mdW5jdGlvbihhLGIpe29hKGIsZnVuY3Rpb24oYyxkKXtjJiYib2JqZWN0Ij09dHlwZW9mIGMmJmMuZGQmJihjPWMuY2QoKSk7InN0eWxlIj09ZD9hLnN0eWxlLmNzc1RleHQ9YzoiY2xhc3MiPT1kP2EuY2xhc3NOYW1lPWM6ImZvciI9PWQ/YS5odG1sRm9yPWM6a2IuaGFzT3duUHJvcGVydHkoZCk/YS5zZXRBdHRyaWJ1dGUoa2JbZF0sYyk6MD09ZC5sYXN0SW5kZXhPZigiYXJpYS0iLDApfHwwPT1kLmxhc3RJbmRleE9mKCJkYXRhLSIsMCk/YS5zZXRBdHRyaWJ1dGUoZCxjKTphW2RdPWN9KX0sa2I9e2NlbGxwYWRkaW5nOiJjZWxsUGFkZGluZyIsY2VsbHNwYWNpbmc6ImNlbGxTcGFjaW5nIixjb2xzcGFuOiJjb2xTcGFuIixmcmFtZWJvcmRlcjoiZnJhbWVCb3JkZXIiLGhlaWdodDoiaGVpZ2h0IixtYXhsZW5ndGg6Im1heExlbmd0aCIsbm9uY2U6Im5vbmNlIixyb2xlOiJyb2xlIixyb3dzcGFuOiJyb3dTcGFuIix0eXBlOiJ0eXBlIix1c2VtYXA6InVzZU1hcCIsdmFsaWduOiJ2QWxpZ24iLAp3aWR0aDoid2lkdGgifSxtYj1mdW5jdGlvbihhLGIsYyl7ZnVuY3Rpb24gZChrKXtrJiZiLmFwcGVuZENoaWxkKCJzdHJpbmciPT09dHlwZW9mIGs/YS5jcmVhdGVUZXh0Tm9kZShrKTprKX1mb3IodmFyIGU9MjtlPGMubGVuZ3RoO2UrKyl7dmFyIGY9Y1tlXTtpZighaGEoZil8fG0oZikmJjA8Zi5ub2RlVHlwZSlkKGYpO2Vsc2V7YTp7aWYoZiYmIm51bWJlciI9PXR5cGVvZiBmLmxlbmd0aCl7aWYobShmKSl7dmFyIGc9ImZ1bmN0aW9uIj09dHlwZW9mIGYuaXRlbXx8InN0cmluZyI9PXR5cGVvZiBmLml0ZW07YnJlYWsgYX1pZihpYShmKSl7Zz0iZnVuY3Rpb24iPT10eXBlb2YgZi5pdGVtO2JyZWFrIGF9fWc9ITF9cihnP0phKGYpOmYsZCl9fX0sbmI9ZnVuY3Rpb24oYSxiKXtiPVN0cmluZyhiKTsiYXBwbGljYXRpb24veGh0bWwreG1sIj09PWEuY29udGVudFR5cGUmJihiPWIudG9Mb3dlckNhc2UoKSk7cmV0dXJuIGEuY3JlYXRlRWxlbWVudChiKX0sb2I9ZnVuY3Rpb24oYSl7YSYmCmEucGFyZW50Tm9kZSYmYS5wYXJlbnROb2RlLnJlbW92ZUNoaWxkKGEpfSxwYj1mdW5jdGlvbihhLGIpe2lmKCFhfHwhYilyZXR1cm4hMTtpZihhLmNvbnRhaW5zJiYxPT1iLm5vZGVUeXBlKXJldHVybiBhPT1ifHxhLmNvbnRhaW5zKGIpO2lmKCJ1bmRlZmluZWQiIT10eXBlb2YgYS5jb21wYXJlRG9jdW1lbnRQb3NpdGlvbilyZXR1cm4gYT09Ynx8ISEoYS5jb21wYXJlRG9jdW1lbnRQb3NpdGlvbihiKSYxNik7Zm9yKDtiJiZhIT1iOyliPWIucGFyZW50Tm9kZTtyZXR1cm4gYj09YX0scWI9ZnVuY3Rpb24oYSl7cShhLCJOb2RlIGNhbm5vdCBiZSBudWxsIG9yIHVuZGVmaW5lZC4iKTtyZXR1cm4gOT09YS5ub2RlVHlwZT9hOmEub3duZXJEb2N1bWVudHx8YS5kb2N1bWVudH0scmI9ZnVuY3Rpb24oYSxiKXtiP2EudGFiSW5kZXg9MDooYS50YWJJbmRleD0tMSxhLnJlbW92ZUF0dHJpYnV0ZSgidGFiSW5kZXgiKSl9LHNiPWZ1bmN0aW9uKGEpe3JldHVybiB2JiYhQSgiOSIpPyhhPWEuZ2V0QXR0cmlidXRlTm9kZSgidGFiaW5kZXgiKSwKbnVsbCE9YSYmYS5zcGVjaWZpZWQpOmEuaGFzQXR0cmlidXRlKCJ0YWJpbmRleCIpfSx0Yj1mdW5jdGlvbihhKXthPWEudGFiSW5kZXg7cmV0dXJuIm51bWJlciI9PT10eXBlb2YgYSYmMDw9YSYmMzI3Njg+YX0sdWI9ZnVuY3Rpb24oYSl7dGhpcy5hPWF8fGwuZG9jdW1lbnR8fGRvY3VtZW50fTt1Yi5wcm90b3R5cGUuZj1mdW5jdGlvbihhKXtyZXR1cm4ic3RyaW5nIj09PXR5cGVvZiBhP3RoaXMuYS5nZXRFbGVtZW50QnlJZChhKTphfTsKdWIucHJvdG90eXBlLmI9ZnVuY3Rpb24oYSxiLGMpe3ZhciBkPXRoaXMuYSxlPWFyZ3VtZW50cyxmPVN0cmluZyhlWzBdKSxnPWVbMV07aWYoIWpiJiZnJiYoZy5uYW1lfHxnLnR5cGUpKXtmPVsiPCIsZl07Zy5uYW1lJiZmLnB1c2goJyBuYW1lPSInLFhhKGcubmFtZSksJyInKTtpZihnLnR5cGUpe2YucHVzaCgnIHR5cGU9IicsWGEoZy50eXBlKSwnIicpO3ZhciBrPXt9O3VhKGssZyk7ZGVsZXRlIGsudHlwZTtnPWt9Zi5wdXNoKCI+Iik7Zj1mLmpvaW4oIiIpfWY9bmIoZCxmKTtnJiYoInN0cmluZyI9PT10eXBlb2YgZz9mLmNsYXNzTmFtZT1nOmZhKGcpP2YuY2xhc3NOYW1lPWcuam9pbigiICIpOmxiKGYsZykpOzI8ZS5sZW5ndGgmJm1iKGQsZixlKTtyZXR1cm4gZn07dmFyIHZiPWZ1bmN0aW9uKGEsYil7Yj8ocShwYSh2YSxiKSwiTm8gc3VjaCBBUklBIHJvbGUgIitiKSxhLnNldEF0dHJpYnV0ZSgicm9sZSIsYikpOmEucmVtb3ZlQXR0cmlidXRlKCJyb2xlIil9LHhiPWZ1bmN0aW9uKGEsYixjKXtmYShjKSYmKGM9Yy5qb2luKCIgIikpO3ZhciBkPXdiKGIpOyIiPT09Y3x8dm9pZCAwPT1jPyhtYXx8KG1hPXthdG9taWM6ITEsYXV0b2NvbXBsZXRlOiJub25lIixkcm9wZWZmZWN0OiJub25lIixoYXNwb3B1cDohMSxsaXZlOiJvZmYiLG11bHRpbGluZTohMSxtdWx0aXNlbGVjdGFibGU6ITEsb3JpZW50YXRpb246InZlcnRpY2FsIixyZWFkb25seTohMSxyZWxldmFudDoiYWRkaXRpb25zIHRleHQiLHJlcXVpcmVkOiExLHNvcnQ6Im5vbmUiLGJ1c3k6ITEsZGlzYWJsZWQ6ITEsaGlkZGVuOiExLGludmFsaWQ6ImZhbHNlIn0pLGM9bWEsYiBpbiBjP2Euc2V0QXR0cmlidXRlKGQsY1tiXSk6YS5yZW1vdmVBdHRyaWJ1dGUoZCkpOmEuc2V0QXR0cmlidXRlKGQsCmMpfSx3Yj1mdW5jdGlvbihhKXtxKGEsIkFSSUEgYXR0cmlidXRlIGNhbm5vdCBiZSBlbXB0eS4iKTtxKHBhKG5hLGEpLCJObyBzdWNoIEFSSUEgYXR0cmlidXRlICIrYSk7cmV0dXJuImFyaWEtIithfTt2YXIgeWI9T2JqZWN0LmZyZWV6ZXx8ZnVuY3Rpb24oYSl7cmV0dXJuIGF9O3ZhciBDPWZ1bmN0aW9uKCl7dGhpcy5VPXRoaXMuVTt0aGlzLko9dGhpcy5KfTtDLnByb3RvdHlwZS5VPSExO0MucHJvdG90eXBlLk49ZnVuY3Rpb24oKXt0aGlzLlV8fCh0aGlzLlU9ITAsdGhpcy51KCkpfTt2YXIgemI9ZnVuY3Rpb24oYSxiKXthLlU/YigpOihhLkp8fChhLko9W10pLGEuSi5wdXNoKGIpKX07Qy5wcm90b3R5cGUudT1mdW5jdGlvbigpe2lmKHRoaXMuSilmb3IoO3RoaXMuSi5sZW5ndGg7KXRoaXMuSi5zaGlmdCgpKCl9O3ZhciBBYj1mdW5jdGlvbihhKXthJiYiZnVuY3Rpb24iPT10eXBlb2YgYS5OJiZhLk4oKX07dmFyIEJiPWZ1bmN0aW9uKGEpe3JldHVybiJzdHJpbmciPT10eXBlb2YgYS5jbGFzc05hbWU/YS5jbGFzc05hbWU6YS5nZXRBdHRyaWJ1dGUmJmEuZ2V0QXR0cmlidXRlKCJjbGFzcyIpfHwiIn0sRD1mdW5jdGlvbihhKXtyZXR1cm4gYS5jbGFzc0xpc3Q/YS5jbGFzc0xpc3Q6QmIoYSkubWF0Y2goL1xTKy9nKXx8W119LENiPWZ1bmN0aW9uKGEsYil7InN0cmluZyI9PXR5cGVvZiBhLmNsYXNzTmFtZT9hLmNsYXNzTmFtZT1iOmEuc2V0QXR0cmlidXRlJiZhLnNldEF0dHJpYnV0ZSgiY2xhc3MiLGIpfSxEYj1mdW5jdGlvbihhLGIpe3JldHVybiBhLmNsYXNzTGlzdD9hLmNsYXNzTGlzdC5jb250YWlucyhiKTpHYShEKGEpLGIpfSxFYj1mdW5jdGlvbihhLGIpe2lmKGEuY2xhc3NMaXN0KWEuY2xhc3NMaXN0LmFkZChiKTtlbHNlIGlmKCFEYihhLGIpKXt2YXIgYz1CYihhKTtDYihhLGMrKDA8Yy5sZW5ndGg/IiAiK2I6YikpfX0sRmI9ZnVuY3Rpb24oYSxiKXtpZihhLmNsYXNzTGlzdClyKGIsCmZ1bmN0aW9uKGUpe0ViKGEsZSl9KTtlbHNle3ZhciBjPXt9O3IoRChhKSxmdW5jdGlvbihlKXtjW2VdPSEwfSk7cihiLGZ1bmN0aW9uKGUpe2NbZV09ITB9KTtiPSIiO2Zvcih2YXIgZCBpbiBjKWIrPTA8Yi5sZW5ndGg/IiAiK2Q6ZDtDYihhLGIpfX0sR2I9ZnVuY3Rpb24oYSxiKXthLmNsYXNzTGlzdD9hLmNsYXNzTGlzdC5yZW1vdmUoYik6RGIoYSxiKSYmQ2IoYSxFYShEKGEpLGZ1bmN0aW9uKGMpe3JldHVybiBjIT1ifSkuam9pbigiICIpKX0sSGI9ZnVuY3Rpb24oYSxiKXthLmNsYXNzTGlzdD9yKGIsZnVuY3Rpb24oYyl7R2IoYSxjKX0pOkNiKGEsRWEoRChhKSxmdW5jdGlvbihjKXtyZXR1cm4hR2EoYixjKX0pLmpvaW4oIiAiKSl9O3ZhciBJYj0hdnx8OTw9TnVtYmVyKGliKSxKYj0hdnx8OTw9TnVtYmVyKGliKSxLYj12JiYhQSgiOSIpLExiPWZ1bmN0aW9uKCl7aWYoIWwuYWRkRXZlbnRMaXN0ZW5lcnx8IU9iamVjdC5kZWZpbmVQcm9wZXJ0eSlyZXR1cm4hMTt2YXIgYT0hMSxiPU9iamVjdC5kZWZpbmVQcm9wZXJ0eSh7fSwicGFzc2l2ZSIse2dldDpmdW5jdGlvbigpe2E9ITB9fSk7dHJ5e2wuYWRkRXZlbnRMaXN0ZW5lcigidGVzdCIsY2EsYiksbC5yZW1vdmVFdmVudExpc3RlbmVyKCJ0ZXN0IixjYSxiKX1jYXRjaChjKXt9cmV0dXJuIGF9KCk7dmFyIEU9ZnVuY3Rpb24oYSxiKXt0aGlzLnR5cGU9YTt0aGlzLmE9dGhpcy50YXJnZXQ9Yjt0aGlzLmg9ITE7dGhpcy5LYT0hMH07RS5wcm90b3R5cGUuaj1mdW5jdGlvbigpe3RoaXMuaD0hMH07RS5wcm90b3R5cGUuZz1mdW5jdGlvbigpe3RoaXMuS2E9ITF9O3ZhciBGPXtMOiJtb3VzZWRvd24iLE06Im1vdXNldXAiLGFhOiJtb3VzZWNhbmNlbCIsaGM6Im1vdXNlbW92ZSIsamM6Im1vdXNlb3ZlciIsaWM6Im1vdXNlb3V0IixmYzoibW91c2VlbnRlciIsZ2M6Im1vdXNlbGVhdmUifTt2YXIgRz1mdW5jdGlvbihhLGIpe0UuY2FsbCh0aGlzLGE/YS50eXBlOiIiKTt0aGlzLnJlbGF0ZWRUYXJnZXQ9dGhpcy5hPXRoaXMudGFyZ2V0PW51bGw7dGhpcy5idXR0b249dGhpcy5zY3JlZW5ZPXRoaXMuc2NyZWVuWD10aGlzLmNsaWVudFk9dGhpcy5jbGllbnRYPTA7dGhpcy5rZXk9IiI7dGhpcy5jPTA7dGhpcy5BPXRoaXMubWV0YUtleT10aGlzLnNoaWZ0S2V5PXRoaXMuYWx0S2V5PXRoaXMuY3RybEtleT0hMTt0aGlzLnBvaW50ZXJJZD0wO3RoaXMucG9pbnRlclR5cGU9IiI7dGhpcy5iPW51bGw7aWYoYSl7dmFyIGM9dGhpcy50eXBlPWEudHlwZSxkPWEuY2hhbmdlZFRvdWNoZXMmJmEuY2hhbmdlZFRvdWNoZXMubGVuZ3RoP2EuY2hhbmdlZFRvdWNoZXNbMF06bnVsbDt0aGlzLnRhcmdldD1hLnRhcmdldHx8YS5zcmNFbGVtZW50O3RoaXMuYT1iO2lmKGI9YS5yZWxhdGVkVGFyZ2V0KXtpZih4KXthOnt0cnl7WWEoYi5ub2RlTmFtZSk7dmFyIGU9ITA7YnJlYWsgYX1jYXRjaChmKXt9ZT0KITF9ZXx8KGI9bnVsbCl9fWVsc2UibW91c2VvdmVyIj09Yz9iPWEuZnJvbUVsZW1lbnQ6Im1vdXNlb3V0Ij09YyYmKGI9YS50b0VsZW1lbnQpO3RoaXMucmVsYXRlZFRhcmdldD1iO2Q/KHRoaXMuY2xpZW50WD12b2lkIDAhPT1kLmNsaWVudFg/ZC5jbGllbnRYOmQucGFnZVgsdGhpcy5jbGllbnRZPXZvaWQgMCE9PWQuY2xpZW50WT9kLmNsaWVudFk6ZC5wYWdlWSx0aGlzLnNjcmVlblg9ZC5zY3JlZW5YfHwwLHRoaXMuc2NyZWVuWT1kLnNjcmVlbll8fDApOih0aGlzLmNsaWVudFg9dm9pZCAwIT09YS5jbGllbnRYP2EuY2xpZW50WDphLnBhZ2VYLHRoaXMuY2xpZW50WT12b2lkIDAhPT1hLmNsaWVudFk/YS5jbGllbnRZOmEucGFnZVksdGhpcy5zY3JlZW5YPWEuc2NyZWVuWHx8MCx0aGlzLnNjcmVlblk9YS5zY3JlZW5ZfHwwKTt0aGlzLmJ1dHRvbj1hLmJ1dHRvbjt0aGlzLmM9YS5rZXlDb2RlfHwwO3RoaXMua2V5PWEua2V5fHwiIjt0aGlzLmN0cmxLZXk9YS5jdHJsS2V5O3RoaXMuYWx0S2V5PQphLmFsdEtleTt0aGlzLnNoaWZ0S2V5PWEuc2hpZnRLZXk7dGhpcy5tZXRhS2V5PWEubWV0YUtleTt0aGlzLkE9ej9hLm1ldGFLZXk6YS5jdHJsS2V5O3RoaXMucG9pbnRlcklkPWEucG9pbnRlcklkfHwwO3RoaXMucG9pbnRlclR5cGU9InN0cmluZyI9PT10eXBlb2YgYS5wb2ludGVyVHlwZT9hLnBvaW50ZXJUeXBlOk1iW2EucG9pbnRlclR5cGVdfHwiIjt0aGlzLmI9YTthLmRlZmF1bHRQcmV2ZW50ZWQmJnRoaXMuZygpfX07bihHLEUpO3ZhciBOYj15YihbMSw0LDJdKSxNYj15Yih7MjoidG91Y2giLDM6InBlbiIsNDoibW91c2UifSksT2I9ZnVuY3Rpb24oYSl7cmV0dXJuIEliPzA9PWEuYi5idXR0b246ImNsaWNrIj09YS50eXBlPyEwOiEhKGEuYi5idXR0b24mTmJbMF0pfTtHLnByb3RvdHlwZS5qPWZ1bmN0aW9uKCl7Ry5pLmouY2FsbCh0aGlzKTt0aGlzLmIuc3RvcFByb3BhZ2F0aW9uP3RoaXMuYi5zdG9wUHJvcGFnYXRpb24oKTp0aGlzLmIuY2FuY2VsQnViYmxlPSEwfTsKRy5wcm90b3R5cGUuZz1mdW5jdGlvbigpe0cuaS5nLmNhbGwodGhpcyk7dmFyIGE9dGhpcy5iO2lmKGEucHJldmVudERlZmF1bHQpYS5wcmV2ZW50RGVmYXVsdCgpO2Vsc2UgaWYoYS5yZXR1cm5WYWx1ZT0hMSxLYil0cnl7aWYoYS5jdHJsS2V5fHwxMTI8PWEua2V5Q29kZSYmMTIzPj1hLmtleUNvZGUpYS5rZXlDb2RlPS0xfWNhdGNoKGIpe319O3ZhciBQYj0iY2xvc3VyZV9saXN0ZW5hYmxlXyIrKDFFNipNYXRoLnJhbmRvbSgpfDApLFFiPWZ1bmN0aW9uKGEpe3JldHVybiEoIWF8fCFhW1BiXSl9LFJiPTA7dmFyIFNiPWZ1bmN0aW9uKGEsYixjLGQsZSl7dGhpcy5saXN0ZW5lcj1hO3RoaXMuYT1udWxsO3RoaXMuc3JjPWI7dGhpcy50eXBlPWM7dGhpcy5jYXB0dXJlPSEhZDt0aGlzLm1hPWU7dGhpcy5rZXk9KytSYjt0aGlzLlg9dGhpcy5oYT0hMX0sVGI9ZnVuY3Rpb24oYSl7YS5YPSEwO2EubGlzdGVuZXI9bnVsbDthLmE9bnVsbDthLnNyYz1udWxsO2EubWE9bnVsbH07dmFyIFViPWZ1bmN0aW9uKGEpe3RoaXMuc3JjPWE7dGhpcy5hPXt9O3RoaXMuYj0wfTtVYi5wcm90b3R5cGUuYWRkPWZ1bmN0aW9uKGEsYixjLGQsZSl7dmFyIGY9YS50b1N0cmluZygpO2E9dGhpcy5hW2ZdO2F8fChhPXRoaXMuYVtmXT1bXSx0aGlzLmIrKyk7dmFyIGc9VmIoYSxiLGQsZSk7LTE8Zz8oYj1hW2ddLGN8fChiLmhhPSExKSk6KGI9bmV3IFNiKGIsdGhpcy5zcmMsZiwhIWQsZSksYi5oYT1jLGEucHVzaChiKSk7cmV0dXJuIGJ9Owp2YXIgV2I9ZnVuY3Rpb24oYSxiKXt2YXIgYz1iLnR5cGU7YyBpbiBhLmEmJkhhKGEuYVtjXSxiKSYmKFRiKGIpLDA9PWEuYVtjXS5sZW5ndGgmJihkZWxldGUgYS5hW2NdLGEuYi0tKSl9LFhiPWZ1bmN0aW9uKGEsYixjLGQsZSl7YT1hLmFbYi50b1N0cmluZygpXTtiPS0xO2EmJihiPVZiKGEsYyxkLGUpKTtyZXR1cm4tMTxiP2FbYl06bnVsbH0sVmI9ZnVuY3Rpb24oYSxiLGMsZCl7Zm9yKHZhciBlPTA7ZTxhLmxlbmd0aDsrK2Upe3ZhciBmPWFbZV07aWYoIWYuWCYmZi5saXN0ZW5lcj09YiYmZi5jYXB0dXJlPT0hIWMmJmYubWE9PWQpcmV0dXJuIGV9cmV0dXJuLTF9O3ZhciBZYj0iY2xvc3VyZV9sbV8iKygxRTYqTWF0aC5yYW5kb20oKXwwKSxaYj17fSwkYj0wLGJjPWZ1bmN0aW9uKGEsYixjLGQsZSl7aWYoZCYmZC5vbmNlKXJldHVybiBhYyhhLGIsYyxkLGUpO2lmKGZhKGIpKXtmb3IodmFyIGY9MDtmPGIubGVuZ3RoO2YrKyliYyhhLGJbZl0sYyxkLGUpO3JldHVybiBudWxsfWM9Y2MoYyk7cmV0dXJuIFFiKGEpP2RjKGEsYixjLG0oZCk/ISFkLmNhcHR1cmU6ISFkLGUpOmVjKGEsYixjLCExLGQsZSl9LGVjPWZ1bmN0aW9uKGEsYixjLGQsZSxmKXtpZighYil0aHJvdyBFcnJvcigiSW52YWxpZCBldmVudCB0eXBlIik7dmFyIGc9bShlKT8hIWUuY2FwdHVyZTohIWUsaz1mYyhhKTtrfHwoYVtZYl09az1uZXcgVWIoYSkpO2M9ay5hZGQoYixjLGQsZyxmKTtpZihjLmEpcmV0dXJuIGM7ZD1nYygpO2MuYT1kO2Quc3JjPWE7ZC5saXN0ZW5lcj1jO2lmKGEuYWRkRXZlbnRMaXN0ZW5lcilMYnx8KGU9Zyksdm9pZCAwPT09ZSYmKGU9ITEpLGEuYWRkRXZlbnRMaXN0ZW5lcihiLnRvU3RyaW5nKCksCmQsZSk7ZWxzZSBpZihhLmF0dGFjaEV2ZW50KWEuYXR0YWNoRXZlbnQoaGMoYi50b1N0cmluZygpKSxkKTtlbHNlIGlmKGEuYWRkTGlzdGVuZXImJmEucmVtb3ZlTGlzdGVuZXIpcSgiY2hhbmdlIj09PWIsIk1lZGlhUXVlcnlMaXN0IG9ubHkgaGFzIGEgY2hhbmdlIGV2ZW50IiksYS5hZGRMaXN0ZW5lcihkKTtlbHNlIHRocm93IEVycm9yKCJhZGRFdmVudExpc3RlbmVyIGFuZCBhdHRhY2hFdmVudCBhcmUgdW5hdmFpbGFibGUuIik7JGIrKztyZXR1cm4gY30sZ2M9ZnVuY3Rpb24oKXt2YXIgYT1pYyxiPUpiP2Z1bmN0aW9uKGMpe3JldHVybiBhLmNhbGwoYi5zcmMsYi5saXN0ZW5lcixjKX06ZnVuY3Rpb24oYyl7Yz1hLmNhbGwoYi5zcmMsYi5saXN0ZW5lcixjKTtpZighYylyZXR1cm4gY307cmV0dXJuIGJ9LGFjPWZ1bmN0aW9uKGEsYixjLGQsZSl7aWYoZmEoYikpe2Zvcih2YXIgZj0wO2Y8Yi5sZW5ndGg7ZisrKWFjKGEsYltmXSxjLGQsZSk7cmV0dXJuIG51bGx9Yz1jYyhjKTtyZXR1cm4gUWIoYSk/CmEuaC5hZGQoU3RyaW5nKGIpLGMsITAsbShkKT8hIWQuY2FwdHVyZTohIWQsZSk6ZWMoYSxiLGMsITAsZCxlKX0samM9ZnVuY3Rpb24oYSxiLGMsZCxlKXtpZihmYShiKSlmb3IodmFyIGY9MDtmPGIubGVuZ3RoO2YrKylqYyhhLGJbZl0sYyxkLGUpO2Vsc2UgZD1tKGQpPyEhZC5jYXB0dXJlOiEhZCxjPWNjKGMpLFFiKGEpPyhhPWEuaCxiPVN0cmluZyhiKS50b1N0cmluZygpLGIgaW4gYS5hJiYoZj1hLmFbYl0sYz1WYihmLGMsZCxlKSwtMTxjJiYoVGIoZltjXSkscShudWxsIT1mLmxlbmd0aCksQXJyYXkucHJvdG90eXBlLnNwbGljZS5jYWxsKGYsYywxKSwwPT1mLmxlbmd0aCYmKGRlbGV0ZSBhLmFbYl0sYS5iLS0pKSkpOmEmJihhPWZjKGEpKSYmKGM9WGIoYSxiLGMsZCxlKSkmJmtjKGMpfSxrYz1mdW5jdGlvbihhKXtpZigibnVtYmVyIiE9PXR5cGVvZiBhJiZhJiYhYS5YKXt2YXIgYj1hLnNyYztpZihRYihiKSlXYihiLmgsYSk7ZWxzZXt2YXIgYz1hLnR5cGUsZD1hLmE7Yi5yZW1vdmVFdmVudExpc3RlbmVyPwpiLnJlbW92ZUV2ZW50TGlzdGVuZXIoYyxkLGEuY2FwdHVyZSk6Yi5kZXRhY2hFdmVudD9iLmRldGFjaEV2ZW50KGhjKGMpLGQpOmIuYWRkTGlzdGVuZXImJmIucmVtb3ZlTGlzdGVuZXImJmIucmVtb3ZlTGlzdGVuZXIoZCk7JGItLTsoYz1mYyhiKSk/KFdiKGMsYSksMD09Yy5iJiYoYy5zcmM9bnVsbCxiW1liXT1udWxsKSk6VGIoYSl9fX0saGM9ZnVuY3Rpb24oYSl7cmV0dXJuIGEgaW4gWmI/WmJbYV06WmJbYV09Im9uIithfSxtYz1mdW5jdGlvbihhLGIsYyxkKXt2YXIgZT0hMDtpZihhPWZjKGEpKWlmKGI9YS5hW2IudG9TdHJpbmcoKV0pZm9yKGI9Yi5jb25jYXQoKSxhPTA7YTxiLmxlbmd0aDthKyspe3ZhciBmPWJbYV07ZiYmZi5jYXB0dXJlPT1jJiYhZi5YJiYoZj1sYyhmLGQpLGU9ZSYmITEhPT1mKX1yZXR1cm4gZX0sbGM9ZnVuY3Rpb24oYSxiKXt2YXIgYz1hLmxpc3RlbmVyLGQ9YS5tYXx8YS5zcmM7YS5oYSYma2MoYSk7cmV0dXJuIGMuY2FsbChkLGIpfSxpYz1mdW5jdGlvbihhLApiKXtpZihhLlgpcmV0dXJuITA7aWYoIUpiKXtpZighYilhOntiPVsid2luZG93IiwiZXZlbnQiXTtmb3IodmFyIGM9bCxkPTA7ZDxiLmxlbmd0aDtkKyspaWYoYz1jW2JbZF1dLG51bGw9PWMpe2I9bnVsbDticmVhayBhfWI9Y31kPWI7Yj1uZXcgRyhkLHRoaXMpO2M9ITA7aWYoISgwPmQua2V5Q29kZXx8dm9pZCAwIT1kLnJldHVyblZhbHVlKSl7YTp7dmFyIGU9ITE7aWYoMD09ZC5rZXlDb2RlKXRyeXtkLmtleUNvZGU9LTE7YnJlYWsgYX1jYXRjaChnKXtlPSEwfWlmKGV8fHZvaWQgMD09ZC5yZXR1cm5WYWx1ZSlkLnJldHVyblZhbHVlPSEwfWQ9W107Zm9yKGU9Yi5hO2U7ZT1lLnBhcmVudE5vZGUpZC5wdXNoKGUpO2E9YS50eXBlO2ZvcihlPWQubGVuZ3RoLTE7IWIuaCYmMDw9ZTtlLS0pe2IuYT1kW2VdO3ZhciBmPW1jKGRbZV0sYSwhMCxiKTtjPWMmJmZ9Zm9yKGU9MDshYi5oJiZlPGQubGVuZ3RoO2UrKyliLmE9ZFtlXSxmPW1jKGRbZV0sYSwhMSxiKSxjPWMmJmZ9cmV0dXJuIGN9cmV0dXJuIGxjKGEsCm5ldyBHKGIsdGhpcykpfSxmYz1mdW5jdGlvbihhKXthPWFbWWJdO3JldHVybiBhIGluc3RhbmNlb2YgVWI/YTpudWxsfSxuYz0iX19jbG9zdXJlX2V2ZW50c19mbl8iKygxRTkqTWF0aC5yYW5kb20oKT4+PjApLGNjPWZ1bmN0aW9uKGEpe3EoYSwiTGlzdGVuZXIgY2FuIG5vdCBiZSBudWxsLiIpO2lmKGlhKGEpKXJldHVybiBhO3EoYS5oYW5kbGVFdmVudCwiQW4gb2JqZWN0IGxpc3RlbmVyIG11c3QgaGF2ZSBoYW5kbGVFdmVudCBtZXRob2QuIik7YVtuY118fChhW25jXT1mdW5jdGlvbihiKXtyZXR1cm4gYS5oYW5kbGVFdmVudChiKX0pO3JldHVybiBhW25jXX07dmFyIG9jPWZ1bmN0aW9uKGEpe0MuY2FsbCh0aGlzKTt0aGlzLmI9YTt0aGlzLmE9e319O24ob2MsQyk7CnZhciBwYz1bXSxIPWZ1bmN0aW9uKGEsYixjLGQpe2ZhKGMpfHwoYyYmKHBjWzBdPWMudG9TdHJpbmcoKSksYz1wYyk7Zm9yKHZhciBlPTA7ZTxjLmxlbmd0aDtlKyspe3ZhciBmPWJjKGIsY1tlXSxkfHxhLmhhbmRsZUV2ZW50LCExLGEuYnx8YSk7aWYoIWYpYnJlYWs7YS5hW2Yua2V5XT1mfXJldHVybiBhfSxxYz1mdW5jdGlvbihhLGIsYyxkLGUsZil7aWYoZmEoYykpZm9yKHZhciBnPTA7ZzxjLmxlbmd0aDtnKyspcWMoYSxiLGNbZ10sZCxlLGYpO2Vsc2UgZD1kfHxhLmhhbmRsZUV2ZW50LGU9bShlKT8hIWUuY2FwdHVyZTohIWUsZj1mfHxhLmJ8fGEsZD1jYyhkKSxlPSEhZSxjPVFiKGIpP1hiKGIuaCxTdHJpbmcoYyksZCxlLGYpOmI/KGI9ZmMoYikpP1hiKGIsYyxkLGUsZik6bnVsbDpudWxsLGMmJihrYyhjKSxkZWxldGUgYS5hW2Mua2V5XSk7cmV0dXJuIGF9LHJjPWZ1bmN0aW9uKGEpe29hKGEuYSxmdW5jdGlvbihiLGMpe3RoaXMuYS5oYXNPd25Qcm9wZXJ0eShjKSYma2MoYil9LAphKTthLmE9e319O29jLnByb3RvdHlwZS51PWZ1bmN0aW9uKCl7b2MuaS51LmNhbGwodGhpcyk7cmModGhpcyl9O29jLnByb3RvdHlwZS5oYW5kbGVFdmVudD1mdW5jdGlvbigpe3Rocm93IEVycm9yKCJFdmVudEhhbmRsZXIuaGFuZGxlRXZlbnQgbm90IGltcGxlbWVudGVkIik7fTt2YXIgST1mdW5jdGlvbigpe0MuY2FsbCh0aGlzKTt0aGlzLmg9bmV3IFViKHRoaXMpO3RoaXMuTWE9dGhpczt0aGlzLnBhPW51bGx9O24oSSxDKTtJLnByb3RvdHlwZVtQYl09ITA7SS5wcm90b3R5cGUucmE9ZnVuY3Rpb24oYSl7dGhpcy5wYT1hfTtJLnByb3RvdHlwZS5yZW1vdmVFdmVudExpc3RlbmVyPWZ1bmN0aW9uKGEsYixjLGQpe2pjKHRoaXMsYSxiLGMsZCl9Owp2YXIgdWM9ZnVuY3Rpb24oYSxiKXtzYyhhKTt2YXIgYz1hLnBhO2lmKGMpe3ZhciBkPVtdO2Zvcih2YXIgZT0xO2M7Yz1jLnBhKWQucHVzaChjKSxxKDFFMz4rK2UsImluZmluaXRlIGxvb3AiKX1hPWEuTWE7Yz1iLnR5cGV8fGI7InN0cmluZyI9PT10eXBlb2YgYj9iPW5ldyBFKGIsYSk6YiBpbnN0YW5jZW9mIEU/Yi50YXJnZXQ9Yi50YXJnZXR8fGE6KGU9YixiPW5ldyBFKGMsYSksdWEoYixlKSk7ZT0hMDtpZihkKWZvcih2YXIgZj1kLmxlbmd0aC0xOyFiLmgmJjA8PWY7Zi0tKXt2YXIgZz1iLmE9ZFtmXTtlPXRjKGcsYywhMCxiKSYmZX1iLmh8fChnPWIuYT1hLGU9dGMoZyxjLCEwLGIpJiZlLGIuaHx8KGU9dGMoZyxjLCExLGIpJiZlKSk7aWYoZClmb3IoZj0wOyFiLmgmJmY8ZC5sZW5ndGg7ZisrKWc9Yi5hPWRbZl0sZT10YyhnLGMsITEsYikmJmU7cmV0dXJuIGV9OwpJLnByb3RvdHlwZS51PWZ1bmN0aW9uKCl7SS5pLnUuY2FsbCh0aGlzKTtpZih0aGlzLmgpe3ZhciBhPXRoaXMuaCxiPTAsYztmb3IoYyBpbiBhLmEpe2Zvcih2YXIgZD1hLmFbY10sZT0wO2U8ZC5sZW5ndGg7ZSsrKSsrYixUYihkW2VdKTtkZWxldGUgYS5hW2NdO2EuYi0tfX10aGlzLnBhPW51bGx9O3ZhciBkYz1mdW5jdGlvbihhLGIsYyxkLGUpe3NjKGEpO3JldHVybiBhLmguYWRkKFN0cmluZyhiKSxjLCExLGQsZSl9LHRjPWZ1bmN0aW9uKGEsYixjLGQpe2I9YS5oLmFbU3RyaW5nKGIpXTtpZighYilyZXR1cm4hMDtiPWIuY29uY2F0KCk7Zm9yKHZhciBlPSEwLGY9MDtmPGIubGVuZ3RoOysrZil7dmFyIGc9YltmXTtpZihnJiYhZy5YJiZnLmNhcHR1cmU9PWMpe3ZhciBrPWcubGlzdGVuZXIscD1nLm1hfHxnLnNyYztnLmhhJiZXYihhLmgsZyk7ZT0hMSE9PWsuY2FsbChwLGQpJiZlfX1yZXR1cm4gZSYmMCE9ZC5LYX0sc2M9ZnVuY3Rpb24oYSl7cShhLmgsIkV2ZW50IHRhcmdldCBpcyBub3QgaW5pdGlhbGl6ZWQuIERpZCB5b3UgY2FsbCB0aGUgc3VwZXJjbGFzcyAoZ29vZy5ldmVudHMuRXZlbnRUYXJnZXQpIGNvbnN0cnVjdG9yPyIpfTt2YXIgeGM9ZnVuY3Rpb24oYSxiLGMsZCxlLGYpe2lmKHkmJiFBKCI1MjUiKSlyZXR1cm4hMDtpZih6JiZlKXJldHVybiB2YyhhKTtpZihlJiYhZClyZXR1cm4hMTtpZigheCl7Im51bWJlciI9PT10eXBlb2YgYiYmKGI9d2MoYikpO3ZhciBnPTE3PT1ifHwxOD09Ynx8eiYmOTE9PWI7aWYoKCFjfHx6KSYmZ3x8eiYmMTY9PWImJihkfHxmKSlyZXR1cm4hMX1pZigoeXx8YmIpJiZkJiZjKXN3aXRjaChhKXtjYXNlIDIyMDpjYXNlIDIxOTpjYXNlIDIyMTpjYXNlIDE5MjpjYXNlIDE4NjpjYXNlIDE4OTpjYXNlIDE4NzpjYXNlIDE4ODpjYXNlIDE5MDpjYXNlIDE5MTpjYXNlIDE5MjpjYXNlIDIyMjpyZXR1cm4hMX1pZih2JiZkJiZiPT1hKXJldHVybiExO3N3aXRjaChhKXtjYXNlIDEzOnJldHVybiB4P2Z8fGU/ITE6IShjJiZkKTohMDtjYXNlIDI3OnJldHVybiEoeXx8YmJ8fHgpfXJldHVybiB4JiYoZHx8ZXx8Zik/ITE6dmMoYSl9LHZjPWZ1bmN0aW9uKGEpe2lmKDQ4PD1hJiY1Nz49YXx8Cjk2PD1hJiYxMDY+PWF8fDY1PD1hJiY5MD49YXx8KHl8fGJiKSYmMD09YSlyZXR1cm4hMDtzd2l0Y2goYSl7Y2FzZSAzMjpjYXNlIDQzOmNhc2UgNjM6Y2FzZSA2NDpjYXNlIDEwNzpjYXNlIDEwOTpjYXNlIDExMDpjYXNlIDExMTpjYXNlIDE4NjpjYXNlIDU5OmNhc2UgMTg5OmNhc2UgMTg3OmNhc2UgNjE6Y2FzZSAxODg6Y2FzZSAxOTA6Y2FzZSAxOTE6Y2FzZSAxOTI6Y2FzZSAyMjI6Y2FzZSAyMTk6Y2FzZSAyMjA6Y2FzZSAyMjE6Y2FzZSAxNjM6Y2FzZSA1ODpyZXR1cm4hMDtjYXNlIDE3MzpyZXR1cm4geDtkZWZhdWx0OnJldHVybiExfX0sd2M9ZnVuY3Rpb24oYSl7aWYoeClhPXljKGEpO2Vsc2UgaWYoeiYmeSlzd2l0Y2goYSl7Y2FzZSA5MzphPTkxfXJldHVybiBhfSx5Yz1mdW5jdGlvbihhKXtzd2l0Y2goYSl7Y2FzZSA2MTpyZXR1cm4gMTg3O2Nhc2UgNTk6cmV0dXJuIDE4NjtjYXNlIDE3MzpyZXR1cm4gMTg5O2Nhc2UgMjI0OnJldHVybiA5MTtjYXNlIDA6cmV0dXJuIDIyNDsKZGVmYXVsdDpyZXR1cm4gYX19O3ZhciBKPWZ1bmN0aW9uKGEsYil7SS5jYWxsKHRoaXMpO2EmJnpjKHRoaXMsYSxiKX07bihKLEkpO2g9Si5wcm90b3R5cGU7aC5TPW51bGw7aC5uYT1udWxsO2guQ2E9bnVsbDtoLm9hPW51bGw7aC53PS0xO2guRj0tMTtoLnVhPSExOwp2YXIgQWM9ezM6MTMsMTI6MTQ0LDYzMjMyOjM4LDYzMjMzOjQwLDYzMjM0OjM3LDYzMjM1OjM5LDYzMjM2OjExMiw2MzIzNzoxMTMsNjMyMzg6MTE0LDYzMjM5OjExNSw2MzI0MDoxMTYsNjMyNDE6MTE3LDYzMjQyOjExOCw2MzI0MzoxMTksNjMyNDQ6MTIwLDYzMjQ1OjEyMSw2MzI0NjoxMjIsNjMyNDc6MTIzLDYzMjQ4OjQ0LDYzMjcyOjQ2LDYzMjczOjM2LDYzMjc1OjM1LDYzMjc2OjMzLDYzMjc3OjM0LDYzMjg5OjE0NCw2MzMwMjo0NX0sQmM9e1VwOjM4LERvd246NDAsTGVmdDozNyxSaWdodDozOSxFbnRlcjoxMyxGMToxMTIsRjI6MTEzLEYzOjExNCxGNDoxMTUsRjU6MTE2LEY2OjExNyxGNzoxMTgsRjg6MTE5LEY5OjEyMCxGMTA6MTIxLEYxMToxMjIsRjEyOjEyMywiVSswMDdGIjo0NixIb21lOjM2LEVuZDozNSxQYWdlVXA6MzMsUGFnZURvd246MzQsSW5zZXJ0OjQ1fSxDYz0heXx8QSgiNTI1IiksRGM9eiYmeDsKSi5wcm90b3R5cGUuYT1mdW5jdGlvbihhKXtpZih5fHxiYilpZigxNz09dGhpcy53JiYhYS5jdHJsS2V5fHwxOD09dGhpcy53JiYhYS5hbHRLZXl8fHomJjkxPT10aGlzLncmJiFhLm1ldGFLZXkpdGhpcy5GPXRoaXMudz0tMTstMT09dGhpcy53JiYoYS5jdHJsS2V5JiYxNyE9YS5jP3RoaXMudz0xNzphLmFsdEtleSYmMTghPWEuYz90aGlzLnc9MTg6YS5tZXRhS2V5JiY5MSE9YS5jJiYodGhpcy53PTkxKSk7Q2MmJiF4YyhhLmMsdGhpcy53LGEuc2hpZnRLZXksYS5jdHJsS2V5LGEuYWx0S2V5LGEubWV0YUtleSk/dGhpcy5oYW5kbGVFdmVudChhKToodGhpcy5GPXdjKGEuYyksRGMmJih0aGlzLnVhPWEuYWx0S2V5KSl9O0oucHJvdG90eXBlLmI9ZnVuY3Rpb24oYSl7dGhpcy5GPXRoaXMudz0tMTt0aGlzLnVhPWEuYWx0S2V5fTsKSi5wcm90b3R5cGUuaGFuZGxlRXZlbnQ9ZnVuY3Rpb24oYSl7dmFyIGI9YS5iLGM9Yi5hbHRLZXk7aWYodiYmImtleXByZXNzIj09YS50eXBlKXt2YXIgZD10aGlzLkY7dmFyIGU9MTMhPWQmJjI3IT1kP2Iua2V5Q29kZTowfWVsc2UoeXx8YmIpJiYia2V5cHJlc3MiPT1hLnR5cGU/KGQ9dGhpcy5GLGU9MDw9Yi5jaGFyQ29kZSYmNjMyMzI+Yi5jaGFyQ29kZSYmdmMoZCk/Yi5jaGFyQ29kZTowKTphYiYmIXk/KGQ9dGhpcy5GLGU9dmMoZCk/Yi5rZXlDb2RlOjApOigia2V5cHJlc3MiPT1hLnR5cGU/KERjJiYoYz10aGlzLnVhKSxiLmtleUNvZGU9PWIuY2hhckNvZGU/MzI+Yi5rZXlDb2RlPyhkPWIua2V5Q29kZSxlPTApOihkPXRoaXMuRixlPWIuY2hhckNvZGUpOihkPWIua2V5Q29kZXx8dGhpcy5GLGU9Yi5jaGFyQ29kZXx8MCkpOihkPWIua2V5Q29kZXx8dGhpcy5GLGU9Yi5jaGFyQ29kZXx8MCkseiYmNjM9PWUmJjIyND09ZCYmKGQ9MTkxKSk7dmFyIGY9ZD13YyhkKTtkPzYzMjMyPD0KZCYmZCBpbiBBYz9mPUFjW2RdOjI1PT1kJiZhLnNoaWZ0S2V5JiYoZj05KTpiLmtleUlkZW50aWZpZXImJmIua2V5SWRlbnRpZmllciBpbiBCYyYmKGY9QmNbYi5rZXlJZGVudGlmaWVyXSk7eCYmQ2MmJiJrZXlwcmVzcyI9PWEudHlwZSYmIXhjKGYsdGhpcy53LGEuc2hpZnRLZXksYS5jdHJsS2V5LGMsYS5tZXRhS2V5KXx8KGE9Zj09dGhpcy53LHRoaXMudz1mLGI9bmV3IEVjKGYsZSxhLGIpLGIuYWx0S2V5PWMsdWModGhpcyxiKSl9O0oucHJvdG90eXBlLmY9ZnVuY3Rpb24oKXtyZXR1cm4gdGhpcy5TfTsKdmFyIHpjPWZ1bmN0aW9uKGEsYixjKXthLm9hJiZGYyhhKTthLlM9YjthLm5hPWJjKGEuUywia2V5cHJlc3MiLGEsYyk7YS5DYT1iYyhhLlMsImtleWRvd24iLGEuYSxjLGEpO2Eub2E9YmMoYS5TLCJrZXl1cCIsYS5iLGMsYSl9LEZjPWZ1bmN0aW9uKGEpe2EubmEmJihrYyhhLm5hKSxrYyhhLkNhKSxrYyhhLm9hKSxhLm5hPW51bGwsYS5DYT1udWxsLGEub2E9bnVsbCk7YS5TPW51bGw7YS53PS0xO2EuRj0tMX07Si5wcm90b3R5cGUudT1mdW5jdGlvbigpe0ouaS51LmNhbGwodGhpcyk7RmModGhpcyl9O3ZhciBFYz1mdW5jdGlvbihhLGIsYyxkKXtHLmNhbGwodGhpcyxkKTt0aGlzLnR5cGU9ImtleSI7dGhpcy5jPWE7dGhpcy5yZXBlYXQ9Y307bihFYyxHKTt2YXIgR2M9eD8iTW96VXNlclNlbGVjdCI6eXx8YmI/IldlYmtpdFVzZXJTZWxlY3QiOm51bGwsSGM9ZnVuY3Rpb24oYSxiKXtiPWI/bnVsbDphLmdldEVsZW1lbnRzQnlUYWdOYW1lKCIqIik7aWYoR2Mpe3ZhciBjPSJub25lIjthLnN0eWxlJiYoYS5zdHlsZVtHY109Yyk7aWYoYil7YT0wO2Zvcih2YXIgZDtkPWJbYV07YSsrKWQuc3R5bGUmJihkLnN0eWxlW0djXT1jKX19ZWxzZSBpZih2fHxhYilpZihjPSJvbiIsYS5zZXRBdHRyaWJ1dGUoInVuc2VsZWN0YWJsZSIsYyksYilmb3IoYT0wO2Q9YlthXTthKyspZC5zZXRBdHRyaWJ1dGUoInVuc2VsZWN0YWJsZSIsYyl9O3ZhciBJYz1mdW5jdGlvbigpe307ZGEoSWMpO0ljLnByb3RvdHlwZS5hPTA7dmFyIEs9ZnVuY3Rpb24oYSl7SS5jYWxsKHRoaXMpO3RoaXMuaj1hfHx4YXx8KHhhPW5ldyB1Yik7dGhpcy5xYT1KYzt0aGlzLlk9bnVsbDt0aGlzLm09ITE7dGhpcy5hPW51bGw7dGhpcy5BPXZvaWQgMDt0aGlzLmc9dGhpcy5jPXRoaXMuYj1udWxsO3RoaXMuR2E9ITF9O24oSyxJKTtLLnByb3RvdHlwZS5PYT1JYy5SKCk7CnZhciBKYz1udWxsLEtjPWZ1bmN0aW9uKGEsYil7c3dpdGNoKGEpe2Nhc2UgMTpyZXR1cm4gYj8iZGlzYWJsZSI6ImVuYWJsZSI7Y2FzZSAyOnJldHVybiBiPyJoaWdobGlnaHQiOiJ1bmhpZ2hsaWdodCI7Y2FzZSA0OnJldHVybiBiPyJhY3RpdmF0ZSI6ImRlYWN0aXZhdGUiO2Nhc2UgODpyZXR1cm4gYj8ic2VsZWN0IjoidW5zZWxlY3QiO2Nhc2UgMTY6cmV0dXJuIGI/ImNoZWNrIjoidW5jaGVjayI7Y2FzZSAzMjpyZXR1cm4gYj8iZm9jdXMiOiJibHVyIjtjYXNlIDY0OnJldHVybiBiPyJvcGVuIjoiY2xvc2UifXRocm93IEVycm9yKCJJbnZhbGlkIGNvbXBvbmVudCBzdGF0ZSIpO30sTGM9ZnVuY3Rpb24oYSl7cmV0dXJuIGEuWXx8KGEuWT0iOiIrKGEuT2EuYSsrKS50b1N0cmluZygzNikpfSxNYz1mdW5jdGlvbihhLGIpe2lmKGEuYiYmYS5iLmcpe3ZhciBjPWEuYi5nLGQ9YS5ZO2QgaW4gYyYmZGVsZXRlIGNbZF07cWEoYS5iLmcsYixhKX1hLlk9Yn07Sy5wcm90b3R5cGUuZj1mdW5jdGlvbigpe3JldHVybiB0aGlzLmF9Owp2YXIgTmM9ZnVuY3Rpb24oYSl7YT1hLmE7cShhLCJDYW4gbm90IGNhbGwgZ2V0RWxlbWVudFN0cmljdCBiZWZvcmUgcmVuZGVyaW5nL2RlY29yYXRpbmcuIik7cmV0dXJuIGF9LE9jPWZ1bmN0aW9uKGEpe2EuQXx8KGEuQT1uZXcgb2MoYSkpO3JldHVybiBxKGEuQSl9O0sucHJvdG90eXBlLnJhPWZ1bmN0aW9uKGEpe2lmKHRoaXMuYiYmdGhpcy5iIT1hKXRocm93IEVycm9yKCJNZXRob2Qgbm90IHN1cHBvcnRlZCIpO0suaS5yYS5jYWxsKHRoaXMsYSl9O0sucHJvdG90eXBlLmlhPWZ1bmN0aW9uKCl7dGhpcy5hPW5iKHRoaXMuai5hLCJESVYiKX07CnZhciBQYz1mdW5jdGlvbihhLGIpe2lmKGEubSl0aHJvdyBFcnJvcigiQ29tcG9uZW50IGFscmVhZHkgcmVuZGVyZWQiKTtpZihiJiZhLnhhKGIpKXthLkdhPSEwO3ZhciBjPXFiKGIpO2EuaiYmYS5qLmE9PWN8fChhLmo9Yj9uZXcgdWIocWIoYikpOnhhfHwoeGE9bmV3IHViKSk7YS52YShiKTthLkQoKX1lbHNlIHRocm93IEVycm9yKCJJbnZhbGlkIGVsZW1lbnQgdG8gZGVjb3JhdGUiKTt9O2g9Sy5wcm90b3R5cGU7aC54YT1mdW5jdGlvbigpe3JldHVybiEwfTtoLnZhPWZ1bmN0aW9uKGEpe3RoaXMuYT1hfTtoLkQ9ZnVuY3Rpb24oKXt0aGlzLm09ITA7UWModGhpcyxmdW5jdGlvbihhKXshYS5tJiZhLmYoKSYmYS5EKCl9KX07aC5QPWZ1bmN0aW9uKCl7UWModGhpcyxmdW5jdGlvbihhKXthLm0mJmEuUCgpfSk7dGhpcy5BJiZyYyh0aGlzLkEpO3RoaXMubT0hMX07CmgudT1mdW5jdGlvbigpe3RoaXMubSYmdGhpcy5QKCk7dGhpcy5BJiYodGhpcy5BLk4oKSxkZWxldGUgdGhpcy5BKTtRYyh0aGlzLGZ1bmN0aW9uKGEpe2EuTigpfSk7IXRoaXMuR2EmJnRoaXMuYSYmb2IodGhpcy5hKTt0aGlzLmI9dGhpcy5hPXRoaXMuZz10aGlzLmM9bnVsbDtLLmkudS5jYWxsKHRoaXMpfTtoLnNhPWZ1bmN0aW9uKGEsYil7dGhpcy50YShhLFJjKHRoaXMpLGIpfTsKaC50YT1mdW5jdGlvbihhLGIsYyl7cSghIWEsIlByb3ZpZGVkIGVsZW1lbnQgbXVzdCBub3QgYmUgbnVsbC4iKTtpZihhLm0mJihjfHwhdGhpcy5tKSl0aHJvdyBFcnJvcigiQ29tcG9uZW50IGFscmVhZHkgcmVuZGVyZWQiKTtpZigwPmJ8fGI+UmModGhpcykpdGhyb3cgRXJyb3IoIkNoaWxkIGNvbXBvbmVudCBpbmRleCBvdXQgb2YgYm91bmRzIik7dGhpcy5nJiZ0aGlzLmN8fCh0aGlzLmc9e30sdGhpcy5jPVtdKTtpZihhLmI9PXRoaXMpe3ZhciBkPUxjKGEpO3RoaXMuZ1tkXT1hO0hhKHRoaXMuYyxhKX1lbHNlIHFhKHRoaXMuZyxMYyhhKSxhKTtpZihhPT10aGlzKXRocm93IEVycm9yKCJVbmFibGUgdG8gc2V0IHBhcmVudCBjb21wb25lbnQiKTtpZihkPXRoaXMmJmEuYiYmYS5ZKXt2YXIgZT1hLmI7ZD1hLlk7ZS5nJiZkPyhlPWUuZyxkPShudWxsIT09ZSYmZCBpbiBlP2VbZF06dm9pZCAwKXx8bnVsbCk6ZD1udWxsfWlmKGQmJmEuYiE9dGhpcyl0aHJvdyBFcnJvcigiVW5hYmxlIHRvIHNldCBwYXJlbnQgY29tcG9uZW50Iik7CmEuYj10aGlzO0suaS5yYS5jYWxsKGEsdGhpcyk7TGEodGhpcy5jLGIsMCxhKTtpZihhLm0mJnRoaXMubSYmYS5iPT10aGlzKWM9dGhpcy5qYSgpLGI9Yy5jaGlsZE5vZGVzW2JdfHxudWxsLGIhPWEuZigpJiZjLmluc2VydEJlZm9yZShhLmYoKSxiKTtlbHNlIGlmKGMpe3RoaXMuYXx8dGhpcy5pYSgpO2M9TCh0aGlzLGIrMSk7Yj10aGlzLmphKCk7Yz1jP2MuYTpudWxsO2lmKGEubSl0aHJvdyBFcnJvcigiQ29tcG9uZW50IGFscmVhZHkgcmVuZGVyZWQiKTthLmF8fGEuaWEoKTtiP2IuaW5zZXJ0QmVmb3JlKGEuYSxjfHxudWxsKTphLmouYS5ib2R5LmFwcGVuZENoaWxkKGEuYSk7YS5iJiYhYS5iLm18fGEuRCgpfWVsc2UgdGhpcy5tJiYhYS5tJiZhLmEmJmEuYS5wYXJlbnROb2RlJiYxPT1hLmEucGFyZW50Tm9kZS5ub2RlVHlwZSYmYS5EKCl9O2guamE9ZnVuY3Rpb24oKXtyZXR1cm4gdGhpcy5hfTsKdmFyIFNjPWZ1bmN0aW9uKGEpe2lmKG51bGw9PWEucWEpe3ZhciBiPWEubT9hLmE6YS5qLmEuYm9keTthOnt2YXIgYz1xYihiKTtpZihjLmRlZmF1bHRWaWV3JiZjLmRlZmF1bHRWaWV3LmdldENvbXB1dGVkU3R5bGUmJihjPWMuZGVmYXVsdFZpZXcuZ2V0Q29tcHV0ZWRTdHlsZShiLG51bGwpKSl7Yz1jLmRpcmVjdGlvbnx8Yy5nZXRQcm9wZXJ0eVZhbHVlKCJkaXJlY3Rpb24iKXx8IiI7YnJlYWsgYX1jPSIifWEucWE9InJ0bCI9PShjfHwoYi5jdXJyZW50U3R5bGU/Yi5jdXJyZW50U3R5bGUuZGlyZWN0aW9uOm51bGwpfHxiLnN0eWxlJiZiLnN0eWxlLmRpcmVjdGlvbil9cmV0dXJuIGEucWF9LFJjPWZ1bmN0aW9uKGEpe3JldHVybiBhLmM/YS5jLmxlbmd0aDowfSxMPWZ1bmN0aW9uKGEsYil7cmV0dXJuIGEuYz9hLmNbYl18fG51bGw6bnVsbH0sUWM9ZnVuY3Rpb24oYSxiLGMpe2EuYyYmcihhLmMsYixjKX0sVGM9ZnVuY3Rpb24oYSxiKXtyZXR1cm4gYS5jJiZiP0RhKGEuYyxiKTotMX07dmFyIFZjPWZ1bmN0aW9uKGEsYil7aWYoIWEpdGhyb3cgRXJyb3IoIkludmFsaWQgY2xhc3MgbmFtZSAiK2EpO2lmKCFpYShiKSl0aHJvdyBFcnJvcigiSW52YWxpZCBkZWNvcmF0b3IgZnVuY3Rpb24gIitiKTtVY1thXT1ifSxXYz17fSxVYz17fTt2YXIgWGM9ZnVuY3Rpb24oYSl7dGhpcy5oPWF9O2RhKFhjKTt2YXIgWWM9ZnVuY3Rpb24oYSxiKXthJiYoYS50YWJJbmRleD1iPzA6LTEpfSwkYz1mdW5jdGlvbihhLGIsYyl7Yy5pZCYmTWMoYixjLmlkKTt2YXIgZD1hLmIoKSxlPSExLGY9RChjKTtmJiZyKGYsZnVuY3Rpb24oZyl7Zz09ZD9lPSEwOmcmJnRoaXMuZyhiLGcsZCl9LGEpO2V8fEViKGMsZCk7WmMoYixjKTtyZXR1cm4gY307WGMucHJvdG90eXBlLmc9ZnVuY3Rpb24oYSxiLGMpe2I9PWMrIi1kaXNhYmxlZCI/YS5aKCExKTpiPT1jKyItaG9yaXpvbnRhbCI/YWQoYSwiaG9yaXpvbnRhbCIpOmI9PWMrIi12ZXJ0aWNhbCImJmFkKGEsInZlcnRpY2FsIil9Owp2YXIgWmM9ZnVuY3Rpb24oYSxiKXtpZihiKWZvcih2YXIgYz1iLmZpcnN0Q2hpbGQsZDtjJiZjLnBhcmVudE5vZGU9PWI7KXtkPWMubmV4dFNpYmxpbmc7aWYoMT09Yy5ub2RlVHlwZSl7YTp7dmFyIGU9YztxKGUpO2U9RChlKTtmb3IodmFyIGY9MCxnPWUubGVuZ3RoO2Y8ZztmKyspe3ZhciBrPWVbZl07aWYoaz1rIGluIFVjP1VjW2tdKCk6bnVsbCl7ZT1rO2JyZWFrIGF9fWU9bnVsbH1lJiYoZS5hPWMsYS5pc0VuYWJsZWQoKXx8ZS5aKCExKSxhLnNhKGUpLFBjKGUsYykpfWVsc2UgYy5ub2RlVmFsdWUmJiIiIT1NYShjLm5vZGVWYWx1ZSl8fGIucmVtb3ZlQ2hpbGQoYyk7Yz1kfX0sYmQ9ZnVuY3Rpb24oYSxiKXtiPWIuZigpO3EoYiwiVGhlIGNvbnRhaW5lciBET00gZWxlbWVudCBjYW5ub3QgYmUgbnVsbC4iKTtIYyhiLHgpO3YmJihiLmhpZGVGb2N1cz0hMCk7KGE9YS5oKSYmdmIoYixhKX07WGMucHJvdG90eXBlLmI9ZnVuY3Rpb24oKXtyZXR1cm4iZ29vZy1jb250YWluZXIifTsKWGMucHJvdG90eXBlLmM9ZnVuY3Rpb24oYSl7dmFyIGI9dGhpcy5iKCksYz1bYiwiaG9yaXpvbnRhbCI9PWEuSD9iKyItaG9yaXpvbnRhbCI6YisiLXZlcnRpY2FsIl07YS5pc0VuYWJsZWQoKXx8Yy5wdXNoKGIrIi1kaXNhYmxlZCIpO3JldHVybiBjfTt2YXIgTT1mdW5jdGlvbigpe30sY2Q7ZGEoTSk7dmFyIGRkPXtidXR0b246InByZXNzZWQiLGNoZWNrYm94OiJjaGVja2VkIixtZW51aXRlbToic2VsZWN0ZWQiLG1lbnVpdGVtY2hlY2tib3g6ImNoZWNrZWQiLG1lbnVpdGVtcmFkaW86ImNoZWNrZWQiLHJhZGlvOiJjaGVja2VkIix0YWI6InNlbGVjdGVkIix0cmVlaXRlbToic2VsZWN0ZWQifTtNLnByb3RvdHlwZS5oPWZ1bmN0aW9uKCl7fTtNLnByb3RvdHlwZS5jPWZ1bmN0aW9uKGEpe3JldHVybiBhLmouYigiRElWIixlZCh0aGlzLGEpLmpvaW4oIiAiKSxhLmJhKX07dmFyIGdkPWZ1bmN0aW9uKGEsYixjKXtpZihhPWEuZj9hLmYoKTphKXt2YXIgZD1bYl07diYmIUEoIjciKSYmKGQ9ZmQoRChhKSxiKSxkLnB1c2goYikpOyhjP0ZiOkhiKShhLGQpfX07Ck0ucHJvdG90eXBlLmc9ZnVuY3Rpb24oYSxiKXtiLmlkJiZNYyhhLGIuaWQpO2ImJmIuZmlyc3RDaGlsZD9oZChhLGIuZmlyc3RDaGlsZC5uZXh0U2libGluZz9KYShiLmNoaWxkTm9kZXMpOmIuZmlyc3RDaGlsZCk6YS5iYT1udWxsO3ZhciBjPTAsZD10aGlzLmEoKSxlPXRoaXMuYSgpLGY9ITEsZz0hMSxrPSExLHA9SmEoRChiKSk7cihwLGZ1bmN0aW9uKEIpe2Z8fEIhPWQ/Z3x8QiE9ZT9jfD1pZCh0aGlzLEIpOmc9ITA6KGY9ITAsZT09ZCYmKGc9ITApKTsxPT1pZCh0aGlzLEIpJiYoQWEoYiksc2IoYikmJnRiKGIpJiZyYihiLCExKSl9LHRoaXMpO2Eubz1jO2Z8fChwLnB1c2goZCksZT09ZCYmKGc9ITApKTtnfHxwLnB1c2goZSk7KGE9YS53YSkmJnAucHVzaC5hcHBseShwLGEpO2lmKHYmJiFBKCI3Iikpe3ZhciB3PWZkKHApOzA8dy5sZW5ndGgmJihwLnB1c2guYXBwbHkocCx3KSxrPSEwKX1mJiZnJiYhYSYmIWt8fENiKGIscC5qb2luKCIgIikpO3JldHVybiBifTsKdmFyIGpkPWZ1bmN0aW9uKGEsYil7aWYoYT1hLmgoKSl7cShiLCJUaGUgZWxlbWVudCBwYXNzZWQgYXMgYSBmaXJzdCBwYXJhbWV0ZXIgY2Fubm90IGJlIG51bGwuIik7dmFyIGM9Yi5nZXRBdHRyaWJ1dGUoInJvbGUiKXx8bnVsbDthIT1jJiZ2YihiLGEpfX0sa2Q9ZnVuY3Rpb24oYSxiKXt2YXIgYztpZihhLnYmMzImJihjPWEuZigpKSl7aWYoIWImJmEubyYzMil7dHJ5e2MuYmx1cigpfWNhdGNoKGQpe31hLm8mMzImJmEuRmEobnVsbCl9KHNiKGMpJiZ0YihjKSkhPWImJnJiKGMsYil9fSxsZD1mdW5jdGlvbihhLGIsYyl7Y2R8fChjZD17MToiZGlzYWJsZWQiLDg6InNlbGVjdGVkIiwxNjoiY2hlY2tlZCIsNjQ6ImV4cGFuZGVkIn0pO3EoYSwiVGhlIGVsZW1lbnQgcGFzc2VkIGFzIGEgZmlyc3QgcGFyYW1ldGVyIGNhbm5vdCBiZSBudWxsLiIpO2I9Y2RbYl07dmFyIGQ9YS5nZXRBdHRyaWJ1dGUoInJvbGUiKXx8bnVsbDtkJiYoZD1kZFtkXXx8YixiPSJjaGVja2VkIj09Ynx8InNlbGVjdGVkIj09CmI/ZDpiKTtiJiZ4YihhLGIsYyl9O00ucHJvdG90eXBlLmE9ZnVuY3Rpb24oKXtyZXR1cm4iZ29vZy1jb250cm9sIn07CnZhciBlZD1mdW5jdGlvbihhLGIpe3ZhciBjPWEuYSgpLGQ9W2NdLGU9YS5hKCk7ZSE9YyYmZC5wdXNoKGUpO2M9Yi5vO2ZvcihlPVtdO2M7KXt2YXIgZj1jJi1jO2UucHVzaChtZChhLGYpKTtjJj1+Zn1kLnB1c2guYXBwbHkoZCxlKTsoYT1iLndhKSYmZC5wdXNoLmFwcGx5KGQsYSk7diYmIUEoIjciKSYmZC5wdXNoLmFwcGx5KGQsZmQoZCkpO3JldHVybiBkfSxmZD1mdW5jdGlvbihhLGIpe3ZhciBjPVtdO2ImJihhPUlhKGEsW2JdKSk7cihbXSxmdW5jdGlvbihkKXshRmEoZCxsYShHYSxhKSl8fGImJiFHYShkLGIpfHxjLnB1c2goZC5qb2luKCJfIikpfSk7cmV0dXJuIGN9LG1kPWZ1bmN0aW9uKGEsYil7YS5ifHxuZChhKTtyZXR1cm4gYS5iW2JdfSxpZD1mdW5jdGlvbihhLGIpe2Euanx8KGEuYnx8bmQoYSksYS5qPXNhKGEuYikpO2E9cGFyc2VJbnQoYS5qW2JdLDEwKTtyZXR1cm4gaXNOYU4oYSk/MDphfSxuZD1mdW5jdGlvbihhKXt2YXIgYj1hLmEoKSxjPSF0KGIucmVwbGFjZSgvXHhhMHxccy9nLAoiICIpLCIgIik7cShjLCJDb250cm9sUmVuZGVyZXIgaGFzIGFuIGludmFsaWQgY3NzIGNsYXNzOiAnIitiKyInIik7YS5iPXsxOmIrIi1kaXNhYmxlZCIsMjpiKyItaG92ZXIiLDQ6YisiLWFjdGl2ZSIsODpiKyItc2VsZWN0ZWQiLDE2OmIrIi1jaGVja2VkIiwzMjpiKyItZm9jdXNlZCIsNjQ6YisiLW9wZW4ifX07dmFyIE49ZnVuY3Rpb24oYSxiLGMpe0suY2FsbCh0aGlzLGMpO2lmKCFiKXtiPXRoaXMuY29uc3RydWN0b3I7Zm9yKHZhciBkO2I7KXtkPWJbamFdfHwoYltqYV09KytrYSk7aWYoZD1XY1tkXSlicmVhaztiPWIuaT9iLmkuY29uc3RydWN0b3I6bnVsbH1iPWQ/aWEoZC5SKT9kLlIoKTpuZXcgZDpudWxsfXRoaXMuQj1iO3RoaXMuYmE9dm9pZCAwIT09YT9hOm51bGx9O24oTixLKTtoPU4ucHJvdG90eXBlO2guYmE9bnVsbDtoLm89MDtoLnY9Mzk7aC5LPTA7aC5JYT0hMDtoLndhPW51bGw7aC55YT0hMDtoLmlhPWZ1bmN0aW9uKCl7dmFyIGE9dGhpcy5CLmModGhpcyk7dGhpcy5hPWE7amQodGhpcy5CLGEpO0hjKGEsIXYmJiFhYik7dGhpcy5pc1Zpc2libGUoKXx8KGEuc3R5bGUuZGlzcGxheT0ibm9uZSIsYSYmeGIoYSwiaGlkZGVuIiwhMCkpfTtoLmphPWZ1bmN0aW9uKCl7cmV0dXJuIHRoaXMuZigpfTtoLnhhPWZ1bmN0aW9uKCl7cmV0dXJuITB9OwpoLnZhPWZ1bmN0aW9uKGEpe3RoaXMuYT1hPXRoaXMuQi5nKHRoaXMsYSk7amQodGhpcy5CLGEpO0hjKGEsIXYmJiFhYik7dGhpcy5JYT0ibm9uZSIhPWEuc3R5bGUuZGlzcGxheX07CmguRD1mdW5jdGlvbigpe04uaS5ELmNhbGwodGhpcyk7dmFyIGE9TmModGhpcyk7cSh0aGlzKTtxKGEpO3RoaXMuaXNWaXNpYmxlKCl8fHhiKGEsImhpZGRlbiIsIXRoaXMuaXNWaXNpYmxlKCkpO3RoaXMuaXNFbmFibGVkKCl8fGxkKGEsMSwhdGhpcy5pc0VuYWJsZWQoKSk7dGhpcy52JjgmJmxkKGEsOCwhISh0aGlzLm8mOCkpO3RoaXMudiYxNiYmbGQoYSwxNiwhISh0aGlzLm8mMTYpKTt0aGlzLnYmNjQmJmxkKGEsNjQsISEodGhpcy5vJjY0KSk7YT10aGlzLkI7U2ModGhpcykmJmdkKHRoaXMuZigpLGEuYSgpKyItcnRsIiwhMCk7dGhpcy5pc0VuYWJsZWQoKSYma2QodGhpcyx0aGlzLmlzVmlzaWJsZSgpKTtpZih0aGlzLnYmLTImJih0aGlzLnlhJiZvZCh0aGlzLCEwKSx0aGlzLnYmMzImJihhPXRoaXMuZigpKSkpe3ZhciBiPXRoaXMuV3x8KHRoaXMuVz1uZXcgSik7emMoYixhKTtIKEgoSChPYyh0aGlzKSxiLCJrZXkiLHRoaXMuZmEpLGEsImZvY3VzIix0aGlzLk5hKSxhLCJibHVyIiwKdGhpcy5GYSl9fTt2YXIgb2Q9ZnVuY3Rpb24oYSxiKXt2YXIgYz1PYyhhKSxkPWEuZigpO2I/KEgoSChIKEgoYyxkLEYuTCxhLmthKSxkLFtGLk0sRi5hYV0sYS5sYSksZCwibW91c2VvdmVyIixhLkFhKSxkLCJtb3VzZW91dCIsYS56YSksYS5lYSE9Y2EmJkgoYyxkLCJjb250ZXh0bWVudSIsYS5lYSksdiYmKEEoOSl8fEgoYyxkLCJkYmxjbGljayIsYS5KYSksYS5nYXx8KGEuZ2E9bmV3IHBkKGEpLHpiKGEsbGEoQWIsYS5nYSkpKSkpOihxYyhxYyhxYyhxYyhjLGQsRi5MLGEua2EpLGQsW0YuTSxGLmFhXSxhLmxhKSxkLCJtb3VzZW92ZXIiLGEuQWEpLGQsIm1vdXNlb3V0IixhLnphKSxhLmVhIT1jYSYmcWMoYyxkLCJjb250ZXh0bWVudSIsYS5lYSksdiYmKEEoOSl8fHFjKGMsZCwiZGJsY2xpY2siLGEuSmEpLEFiKGEuZ2EpLGEuZ2E9bnVsbCkpfTsKTi5wcm90b3R5cGUuUD1mdW5jdGlvbigpe04uaS5QLmNhbGwodGhpcyk7dGhpcy5XJiZGYyh0aGlzLlcpO3RoaXMuaXNWaXNpYmxlKCkmJnRoaXMuaXNFbmFibGVkKCkmJmtkKHRoaXMsITEpfTtOLnByb3RvdHlwZS51PWZ1bmN0aW9uKCl7Ti5pLnUuY2FsbCh0aGlzKTt0aGlzLlcmJih0aGlzLlcuTigpLGRlbGV0ZSB0aGlzLlcpO2RlbGV0ZSB0aGlzLkI7dGhpcy5nYT10aGlzLndhPXRoaXMuYmE9bnVsbH07dmFyIGhkPWZ1bmN0aW9uKGEsYil7YS5iYT1ifTtOLnByb3RvdHlwZS5pc1Zpc2libGU9ZnVuY3Rpb24oKXtyZXR1cm4gdGhpcy5JYX07Ti5wcm90b3R5cGUuaXNFbmFibGVkPWZ1bmN0aW9uKCl7cmV0dXJuISh0aGlzLm8mMSl9OwpOLnByb3RvdHlwZS5aPWZ1bmN0aW9uKGEpe3ZhciBiPXRoaXMuYjtiJiYiZnVuY3Rpb24iPT10eXBlb2YgYi5pc0VuYWJsZWQmJiFiLmlzRW5hYmxlZCgpfHwhTyh0aGlzLDEsIWEpfHwoYXx8KHFkKHRoaXMsITEpLFAodGhpcywhMSkpLHRoaXMuaXNWaXNpYmxlKCkmJmtkKHRoaXMsYSksUSh0aGlzLDEsIWEsITApKX07CnZhciBQPWZ1bmN0aW9uKGEsYil7TyhhLDIsYikmJlEoYSwyLGIpfSxxZD1mdW5jdGlvbihhLGIpe08oYSw0LGIpJiZRKGEsNCxiKX0scmQ9ZnVuY3Rpb24oYSxiKXtPKGEsOCxiKSYmUShhLDgsYil9LHNkPWZ1bmN0aW9uKGEsYil7TyhhLDY0LGIpJiZRKGEsNjQsYil9LFE9ZnVuY3Rpb24oYSxiLGMsZCl7aWYoIWQmJjE9PWIpYS5aKCFjKTtlbHNlIGlmKGEudiZiJiZjIT0hIShhLm8mYikpe3ZhciBlPWEuQjtpZihkPWEuZigpKShlPW1kKGUsYikpJiZnZChhLGUsYyksbGQoZCxiLGMpO2Eubz1jP2Eub3xiOmEubyZ+Yn19LHRkPWZ1bmN0aW9uKGEsYixjKXtpZihhLm0mJmEubyZiJiYhYyl0aHJvdyBFcnJvcigiQ29tcG9uZW50IGFscmVhZHkgcmVuZGVyZWQiKTshYyYmYS5vJmImJlEoYSxiLCExKTthLnY9Yz9hLnZ8YjphLnYmfmJ9LFI9ZnVuY3Rpb24oYSxiKXtyZXR1cm4hISgyNTUmYikmJiEhKGEudiZiKX0sTz1mdW5jdGlvbihhLGIsYyl7cmV0dXJuISEoYS52JmIpJiYhIShhLm8mCmIpIT1jJiYoIShhLksmYil8fHVjKGEsS2MoYixjKSkpJiYhYS5VfTtoPU4ucHJvdG90eXBlO2guQWE9ZnVuY3Rpb24oYSl7KCFhLnJlbGF0ZWRUYXJnZXR8fCFwYih0aGlzLmYoKSxhLnJlbGF0ZWRUYXJnZXQpKSYmdWModGhpcywiZW50ZXIiKSYmdGhpcy5pc0VuYWJsZWQoKSYmUih0aGlzLDIpJiZQKHRoaXMsITApfTtoLnphPWZ1bmN0aW9uKGEpe2EucmVsYXRlZFRhcmdldCYmcGIodGhpcy5mKCksYS5yZWxhdGVkVGFyZ2V0KXx8IXVjKHRoaXMsImxlYXZlIil8fChSKHRoaXMsNCkmJnFkKHRoaXMsITEpLFIodGhpcywyKSYmUCh0aGlzLCExKSl9O2guZWE9Y2E7Cmgua2E9ZnVuY3Rpb24oYSl7aWYodGhpcy5pc0VuYWJsZWQoKSYmKFIodGhpcywyKSYmUCh0aGlzLCEwKSxPYihhKSYmISh5JiZ6JiZhLmN0cmxLZXkpKSl7Uih0aGlzLDQpJiZxZCh0aGlzLCEwKTt2YXIgYjtpZihiPXRoaXMuQil7dmFyIGM7Yj10aGlzLnYmMzImJihjPXRoaXMuZigpKT9zYihjKSYmdGIoYyk6ITF9YiYmdGhpcy5mKCkuZm9jdXMoKX0hT2IoYSl8fHkmJnomJmEuY3RybEtleXx8YS5nKCl9O2gubGE9ZnVuY3Rpb24oYSl7dGhpcy5pc0VuYWJsZWQoKSYmKFIodGhpcywyKSYmUCh0aGlzLCEwKSx0aGlzLm8mNCYmdWQodGhpcyxhKSYmUih0aGlzLDQpJiZxZCh0aGlzLCExKSl9O2guSmE9ZnVuY3Rpb24oYSl7dGhpcy5pc0VuYWJsZWQoKSYmdWQodGhpcyxhKX07CnZhciB1ZD1mdW5jdGlvbihhLGIpe2lmKFIoYSwxNikpe3ZhciBjPSEoYS5vJjE2KTtPKGEsMTYsYykmJlEoYSwxNixjKX1SKGEsOCkmJnJkKGEsITApO1IoYSw2NCkmJnNkKGEsIShhLm8mNjQpKTtjPW5ldyBFKCJhY3Rpb24iLGEpO2ImJihjLmFsdEtleT1iLmFsdEtleSxjLmN0cmxLZXk9Yi5jdHJsS2V5LGMubWV0YUtleT1iLm1ldGFLZXksYy5zaGlmdEtleT1iLnNoaWZ0S2V5LGMuQT1iLkEpO3JldHVybiB1YyhhLGMpfTtOLnByb3RvdHlwZS5OYT1mdW5jdGlvbigpe1IodGhpcywzMikmJk8odGhpcywzMiwhMCkmJlEodGhpcywzMiwhMCl9O04ucHJvdG90eXBlLkZhPWZ1bmN0aW9uKCl7Uih0aGlzLDQpJiZxZCh0aGlzLCExKTtSKHRoaXMsMzIpJiZPKHRoaXMsMzIsITEpJiZRKHRoaXMsMzIsITEpfTsKTi5wcm90b3R5cGUuZmE9ZnVuY3Rpb24oYSl7cmV0dXJuIHRoaXMuaXNWaXNpYmxlKCkmJnRoaXMuaXNFbmFibGVkKCkmJjEzPT1hLmMmJnVkKHRoaXMsYSk/KGEuZygpLGEuaigpLCEwKTohMX07aWYoIWlhKE4pKXRocm93IEVycm9yKCJJbnZhbGlkIGNvbXBvbmVudCBjbGFzcyAiK04pO2lmKCFpYShNKSl0aHJvdyBFcnJvcigiSW52YWxpZCByZW5kZXJlciBjbGFzcyAiK00pO3ZhciB2ZD1OW2phXXx8KE5bamFdPSsra2EpO1djW3ZkXT1NO1ZjKCJnb29nLWNvbnRyb2wiLGZ1bmN0aW9uKCl7cmV0dXJuIG5ldyBOKG51bGwpfSk7dmFyIHBkPWZ1bmN0aW9uKGEpe0MuY2FsbCh0aGlzKTt0aGlzLmI9YTt0aGlzLmE9ITE7dGhpcy5jPW5ldyBvYyh0aGlzKTt6Yih0aGlzLGxhKEFiLHRoaXMuYykpO2E9TmModGhpcy5iKTtIKEgoSCh0aGlzLmMsYSxGLkwsdGhpcy5oKSxhLEYuTSx0aGlzLmopLGEsImNsaWNrIix0aGlzLmcpfTtuKHBkLEMpO3ZhciB3ZD0hdnx8OTw9TnVtYmVyKGliKTsKcGQucHJvdG90eXBlLmg9ZnVuY3Rpb24oKXt0aGlzLmE9ITF9O3BkLnByb3RvdHlwZS5qPWZ1bmN0aW9uKCl7dGhpcy5hPSEwfTt2YXIgeGQ9ZnVuY3Rpb24oYSxiKXtpZighd2QpcmV0dXJuIGEuYnV0dG9uPTAsYS50eXBlPWIsYTt2YXIgYz1kb2N1bWVudC5jcmVhdGVFdmVudCgiTW91c2VFdmVudHMiKTtjLmluaXRNb3VzZUV2ZW50KGIsYS5idWJibGVzLGEuY2FuY2VsYWJsZSxhLnZpZXd8fG51bGwsYS5kZXRhaWwsYS5zY3JlZW5YLGEuc2NyZWVuWSxhLmNsaWVudFgsYS5jbGllbnRZLGEuY3RybEtleSxhLmFsdEtleSxhLnNoaWZ0S2V5LGEubWV0YUtleSwwLGEucmVsYXRlZFRhcmdldHx8bnVsbCk7cmV0dXJuIGN9OwpwZC5wcm90b3R5cGUuZz1mdW5jdGlvbihhKXtpZih0aGlzLmEpdGhpcy5hPSExO2Vsc2V7dmFyIGI9YS5iLGM9Yi5idXR0b24sZD1iLnR5cGUsZT14ZChiLCJtb3VzZWRvd24iKTt0aGlzLmIua2EobmV3IEcoZSxhLmEpKTtlPXhkKGIsIm1vdXNldXAiKTt0aGlzLmIubGEobmV3IEcoZSxhLmEpKTt3ZHx8KGIuYnV0dG9uPWMsYi50eXBlPWQpfX07cGQucHJvdG90eXBlLnU9ZnVuY3Rpb24oKXt0aGlzLmI9bnVsbDtwZC5pLnUuY2FsbCh0aGlzKX07dmFyIFM9ZnVuY3Rpb24oYSxiLGMpe0suY2FsbCh0aGlzLGMpO3RoaXMuZGE9Ynx8WGMuUigpO3RoaXMuSD1hfHwidmVydGljYWwifTtuKFMsSyk7aD1TLnByb3RvdHlwZTtoLkRhPW51bGw7aC5jYT1udWxsO2guZGE9bnVsbDtoLkg9bnVsbDtoLlQ9ITA7aC5PPSEwO2gubD0tMTtoLnM9bnVsbDtoLlY9ITE7aC5JPW51bGw7dmFyIHlkPWZ1bmN0aW9uKGEpe3JldHVybiBhLkRhfHxhLmYoKX07aD1TLnByb3RvdHlwZTtoLmlhPWZ1bmN0aW9uKCl7dGhpcy5hPXRoaXMuai5iKCJESVYiLHRoaXMuZGEuYyh0aGlzKS5qb2luKCIgIikpfTtoLmphPWZ1bmN0aW9uKCl7cmV0dXJuIHRoaXMuZigpfTtoLnhhPWZ1bmN0aW9uKGEpe3JldHVybiJESVYiPT1hLnRhZ05hbWV9O2gudmE9ZnVuY3Rpb24oYSl7dGhpcy5hPSRjKHRoaXMuZGEsdGhpcyxhKTsibm9uZSI9PWEuc3R5bGUuZGlzcGxheSYmKHRoaXMuVD0hMSl9OwpoLkQ9ZnVuY3Rpb24oKXtTLmkuRC5jYWxsKHRoaXMpO1FjKHRoaXMsZnVuY3Rpb24oYil7Yi5tJiZ6ZCh0aGlzLGIpfSx0aGlzKTt2YXIgYT10aGlzLmYoKTtiZCh0aGlzLmRhLHRoaXMpO0FkKHRoaXMsdGhpcy5UKTtIKEgoSChIKEgoSChIKEgoT2ModGhpcyksdGhpcywiZW50ZXIiLHRoaXMuV2EpLHRoaXMsImhpZ2hsaWdodCIsdGhpcy5YYSksdGhpcywidW5oaWdobGlnaHQiLHRoaXMuY2IpLHRoaXMsIm9wZW4iLHRoaXMuWWEpLHRoaXMsImNsb3NlIix0aGlzLlVhKSxhLEYuTCx0aGlzLlNhKSxxYihhKSxbRi5NLEYuYWFdLHRoaXMuVmEpLGEsW0YuTCxGLk0sRi5hYSwibW91c2VvdmVyIiwibW91c2VvdXQiLCJjb250ZXh0bWVudSJdLHRoaXMuVGEpO0JkKHRoaXMpfTt2YXIgQmQ9ZnVuY3Rpb24oYSl7dmFyIGI9T2MoYSksYz15ZChhKTtIKEgoSChiLGMsImZvY3VzIixhLkhhKSxjLCJibHVyIixhLlFhKSxhLmNhfHwoYS5jYT1uZXcgSih5ZChhKSkpLCJrZXkiLGEuUmEpfTtoPVMucHJvdG90eXBlOwpoLlA9ZnVuY3Rpb24oKXtDZCh0aGlzLC0xKTt0aGlzLnMmJnNkKHRoaXMucywhMSk7dGhpcy5WPSExO1MuaS5QLmNhbGwodGhpcyl9O2gudT1mdW5jdGlvbigpe1MuaS51LmNhbGwodGhpcyk7dGhpcy5jYSYmKHRoaXMuY2EuTigpLHRoaXMuY2E9bnVsbCk7dGhpcy5kYT10aGlzLnM9dGhpcy5JPXRoaXMuRGE9bnVsbH07aC5XYT1mdW5jdGlvbigpe3JldHVybiEwfTsKaC5YYT1mdW5jdGlvbihhKXt2YXIgYj1UYyh0aGlzLGEudGFyZ2V0KTtpZigtMTxiJiZiIT10aGlzLmwpe3ZhciBjPUwodGhpcyx0aGlzLmwpO2MmJlAoYywhMSk7dGhpcy5sPWI7Yz1MKHRoaXMsdGhpcy5sKTt0aGlzLlYmJnFkKGMsITApO3RoaXMucyYmYyE9dGhpcy5zJiYoYy52JjY0P3NkKGMsITApOnNkKHRoaXMucywhMSkpfWI9dGhpcy5mKCk7cShiLCJUaGUgRE9NIGVsZW1lbnQgZm9yIHRoZSBjb250YWluZXIgY2Fubm90IGJlIG51bGwuIik7bnVsbCE9YS50YXJnZXQuZigpJiZ4YihiLCJhY3RpdmVkZXNjZW5kYW50IixhLnRhcmdldC5mKCkuaWQpfTtoLmNiPWZ1bmN0aW9uKGEpe2EudGFyZ2V0PT1MKHRoaXMsdGhpcy5sKSYmKHRoaXMubD0tMSk7YT10aGlzLmYoKTtxKGEsIlRoZSBET00gZWxlbWVudCBmb3IgdGhlIGNvbnRhaW5lciBjYW5ub3QgYmUgbnVsbC4iKTthLnJlbW92ZUF0dHJpYnV0ZSh3YigiYWN0aXZlZGVzY2VuZGFudCIpKX07CmguWWE9ZnVuY3Rpb24oYSl7KGE9YS50YXJnZXQpJiZhIT10aGlzLnMmJmEuYj09dGhpcyYmKHRoaXMucyYmc2QodGhpcy5zLCExKSx0aGlzLnM9YSl9O2guVWE9ZnVuY3Rpb24oYSl7YS50YXJnZXQ9PXRoaXMucyYmKHRoaXMucz1udWxsKTt2YXIgYj10aGlzLmYoKSxjPWEudGFyZ2V0LmYoKTtiJiZhLnRhcmdldC5vJjImJmMmJihhPSIiLGMmJihhPWMuaWQscShhLCJUaGUgYWN0aXZlIGVsZW1lbnQgc2hvdWxkIGhhdmUgYW4gaWQuIikpLHhiKGIsImFjdGl2ZWRlc2NlbmRhbnQiLGEpKX07aC5TYT1mdW5jdGlvbihhKXt0aGlzLk8mJih0aGlzLlY9ITApO3ZhciBiPXlkKHRoaXMpO2ImJnNiKGIpJiZ0YihiKT9iLmZvY3VzKCk6YS5nKCl9O2guVmE9ZnVuY3Rpb24oKXt0aGlzLlY9ITF9OwpoLlRhPWZ1bmN0aW9uKGEpe2E6e3ZhciBiPWEudGFyZ2V0O2lmKHRoaXMuSSlmb3IodmFyIGM9dGhpcy5mKCk7YiYmYiE9PWM7KXt2YXIgZD1iLmlkO2lmKGQgaW4gdGhpcy5JKXtiPXRoaXMuSVtkXTticmVhayBhfWI9Yi5wYXJlbnROb2RlfWI9bnVsbH1pZihiKXN3aXRjaChhLnR5cGUpe2Nhc2UgRi5MOmIua2EoYSk7YnJlYWs7Y2FzZSBGLk06Y2FzZSBGLmFhOmIubGEoYSk7YnJlYWs7Y2FzZSAibW91c2VvdmVyIjpiLkFhKGEpO2JyZWFrO2Nhc2UgIm1vdXNlb3V0IjpiLnphKGEpO2JyZWFrO2Nhc2UgImNvbnRleHRtZW51IjpiLmVhKGEpfX07aC5IYT1mdW5jdGlvbigpe307aC5RYT1mdW5jdGlvbigpe0NkKHRoaXMsLTEpO3RoaXMuVj0hMTt0aGlzLnMmJnNkKHRoaXMucywhMSl9OwpoLlJhPWZ1bmN0aW9uKGEpe3JldHVybiB0aGlzLmlzRW5hYmxlZCgpJiZ0aGlzLmlzVmlzaWJsZSgpJiYoMCE9UmModGhpcyl8fHRoaXMuRGEpJiZEZCh0aGlzLGEpPyhhLmcoKSxhLmooKSwhMCk6ITF9Owp2YXIgRGQ9ZnVuY3Rpb24oYSxiKXt2YXIgYz1MKGEsYS5sKTtpZihjJiYiZnVuY3Rpb24iPT10eXBlb2YgYy5mYSYmYy5mYShiKXx8YS5zJiZhLnMhPWMmJiJmdW5jdGlvbiI9PXR5cGVvZiBhLnMuZmEmJmEucy5mYShiKSlyZXR1cm4hMDtpZihiLnNoaWZ0S2V5fHxiLmN0cmxLZXl8fGIubWV0YUtleXx8Yi5hbHRLZXkpcmV0dXJuITE7c3dpdGNoKGIuYyl7Y2FzZSAyNzp5ZChhKS5ibHVyKCk7YnJlYWs7Y2FzZSAzNjpFZChhKTticmVhaztjYXNlIDM1OkZkKGEpO2JyZWFrO2Nhc2UgMzg6aWYoInZlcnRpY2FsIj09YS5IKUdkKGEpO2Vsc2UgcmV0dXJuITE7YnJlYWs7Y2FzZSAzNzppZigiaG9yaXpvbnRhbCI9PWEuSClTYyhhKT9IZChhKTpHZChhKTtlbHNlIHJldHVybiExO2JyZWFrO2Nhc2UgNDA6aWYoInZlcnRpY2FsIj09YS5IKUhkKGEpO2Vsc2UgcmV0dXJuITE7YnJlYWs7Y2FzZSAzOTppZigiaG9yaXpvbnRhbCI9PWEuSClTYyhhKT9HZChhKTpIZChhKTtlbHNlIHJldHVybiExOwpicmVhaztkZWZhdWx0OnJldHVybiExfXJldHVybiEwfSx6ZD1mdW5jdGlvbihhLGIpe3ZhciBjPWIuZigpO2M9Yy5pZHx8KGMuaWQ9TGMoYikpO2EuSXx8KGEuST17fSk7YS5JW2NdPWJ9O1MucHJvdG90eXBlLnNhPWZ1bmN0aW9uKGEsYil7Q2EoYSxOLCJUaGUgY2hpbGQgb2YgYSBjb250YWluZXIgbXVzdCBiZSBhIGNvbnRyb2wiKTtTLmkuc2EuY2FsbCh0aGlzLGEsYil9O1MucHJvdG90eXBlLnRhPWZ1bmN0aW9uKGEsYixjKXtDYShhLE4pO2EuS3w9MjthLkt8PTY0O3RkKGEsMzIsITEpO2EubSYmMCE9YS55YSYmb2QoYSwhMSk7YS55YT0hMTt2YXIgZD1hLmI9PXRoaXM/VGModGhpcyxhKTotMTtTLmkudGEuY2FsbCh0aGlzLGEsYixjKTthLm0mJnRoaXMubSYmemQodGhpcyxhKTthPWQ7LTE9PWEmJihhPVJjKHRoaXMpKTthPT10aGlzLmw/dGhpcy5sPU1hdGgubWluKFJjKHRoaXMpLTEsYik6YT50aGlzLmwmJmI8PXRoaXMubD90aGlzLmwrKzphPHRoaXMubCYmYj50aGlzLmwmJnRoaXMubC0tfTsKdmFyIGFkPWZ1bmN0aW9uKGEsYil7aWYoYS5mKCkpdGhyb3cgRXJyb3IoIkNvbXBvbmVudCBhbHJlYWR5IHJlbmRlcmVkIik7YS5IPWJ9O1MucHJvdG90eXBlLmlzVmlzaWJsZT1mdW5jdGlvbigpe3JldHVybiB0aGlzLlR9O3ZhciBBZD1mdW5jdGlvbihhLGIpe2EuVD1iO3ZhciBjPWEuZigpO2MmJihjLnN0eWxlLmRpc3BsYXk9Yj8iIjoibm9uZSIsWWMoeWQoYSksYS5PJiZhLlQpKX07Uy5wcm90b3R5cGUuaXNFbmFibGVkPWZ1bmN0aW9uKCl7cmV0dXJuIHRoaXMuT307Uy5wcm90b3R5cGUuWj1mdW5jdGlvbihhKXt0aGlzLk8hPWEmJnVjKHRoaXMsYT8iZW5hYmxlIjoiZGlzYWJsZSIpJiYoYT8odGhpcy5PPSEwLFFjKHRoaXMsZnVuY3Rpb24oYil7Yi5MYT9kZWxldGUgYi5MYTpiLlooITApfSkpOihRYyh0aGlzLGZ1bmN0aW9uKGIpe2IuaXNFbmFibGVkKCk/Yi5aKCExKTpiLkxhPSEwfSksdGhpcy5WPXRoaXMuTz0hMSksWWMoeWQodGhpcyksYSYmdGhpcy5UKSl9Owp2YXIgQ2Q9ZnVuY3Rpb24oYSxiKXsoYj1MKGEsYikpP1AoYiwhMCk6LTE8YS5sJiZQKEwoYSxhLmwpLCExKX0sRWQ9ZnVuY3Rpb24oYSl7SWQoYSxmdW5jdGlvbihiLGMpe3JldHVybihiKzEpJWN9LFJjKGEpLTEpfSxGZD1mdW5jdGlvbihhKXtJZChhLGZ1bmN0aW9uKGIsYyl7Yi0tO3JldHVybiAwPmI/Yy0xOmJ9LDApfSxIZD1mdW5jdGlvbihhKXtJZChhLGZ1bmN0aW9uKGIsYyl7cmV0dXJuKGIrMSklY30sYS5sKX0sR2Q9ZnVuY3Rpb24oYSl7SWQoYSxmdW5jdGlvbihiLGMpe2ItLTtyZXR1cm4gMD5iP2MtMTpifSxhLmwpfSxJZD1mdW5jdGlvbihhLGIsYyl7Yz0wPmM/VGMoYSxhLnMpOmM7dmFyIGQ9UmMoYSk7Yz1iLmNhbGwoYSxjLGQpO2Zvcih2YXIgZT0wO2U8PWQ7KXt2YXIgZj1MKGEsYyksZztpZihnPWYpZz1mLmlzVmlzaWJsZSgpJiZmLmlzRW5hYmxlZCgpJiYhIShmLnYmMik7aWYoZyl7YS5FYShjKTticmVha31lKys7Yz1iLmNhbGwoYSxjLGQpfX07ClMucHJvdG90eXBlLkVhPWZ1bmN0aW9uKGEpe0NkKHRoaXMsYSl9O3ZhciBUPWZ1bmN0aW9uKCl7fTtuKFQsTSk7ZGEoVCk7VC5wcm90b3R5cGUuYT1mdW5jdGlvbigpe3JldHVybiJnb29nLXRhYiJ9O1QucHJvdG90eXBlLmg9ZnVuY3Rpb24oKXtyZXR1cm4idGFiIn07VC5wcm90b3R5cGUuYz1mdW5jdGlvbihhKXt2YXIgYj1ULmkuYy5jYWxsKHRoaXMsYSk7KGE9YS5QYSkmJmImJihiLnRpdGxlPWF8fCIiKTtyZXR1cm4gYn07VC5wcm90b3R5cGUuZz1mdW5jdGlvbihhLGIpe2I9VC5pLmcuY2FsbCh0aGlzLGEsYik7dmFyIGM9Yi50aXRsZXx8IiI7YyYmKGEuUGE9Yyk7YS5vJjgmJihjPWEuYikmJmlhKGMuRykmJihRKGEsOCwhMSksYy5HKGEpKTtyZXR1cm4gYn07dmFyIEpkPWZ1bmN0aW9uKGEsYixjKXtOLmNhbGwodGhpcyxhLGJ8fFQuUigpLGMpO3RkKHRoaXMsOCwhMCk7dGhpcy5LfD05fTtuKEpkLE4pO1ZjKCJnb29nLXRhYiIsZnVuY3Rpb24oKXtyZXR1cm4gbmV3IEpkKG51bGwpfSk7dmFyIFU9ZnVuY3Rpb24oKXt0aGlzLmg9InRhYmxpc3QifTtuKFUsWGMpO2RhKFUpO1UucHJvdG90eXBlLmI9ZnVuY3Rpb24oKXtyZXR1cm4iZ29vZy10YWItYmFyIn07VS5wcm90b3R5cGUuZz1mdW5jdGlvbihhLGIsYyl7dGhpcy5qfHwodGhpcy5hfHxLZCh0aGlzKSx0aGlzLmo9c2EodGhpcy5hKSk7dmFyIGQ9dGhpcy5qW2JdO2Q/KGFkKGEsTGQoZCkpLGEuQj1kKTpVLmkuZy5jYWxsKHRoaXMsYSxiLGMpfTtVLnByb3RvdHlwZS5jPWZ1bmN0aW9uKGEpe3ZhciBiPVUuaS5jLmNhbGwodGhpcyxhKTt0aGlzLmF8fEtkKHRoaXMpO2IucHVzaCh0aGlzLmFbYS5CXSk7cmV0dXJuIGJ9O3ZhciBLZD1mdW5jdGlvbihhKXt2YXIgYj1hLmIoKTthLmE9e3RvcDpiKyItdG9wIixib3R0b206YisiLWJvdHRvbSIsc3RhcnQ6YisiLXN0YXJ0IixlbmQ6YisiLWVuZCJ9fTt2YXIgVj1mdW5jdGlvbihhLGIsYyl7YT1hfHwidG9wIjthZCh0aGlzLExkKGEpKTt0aGlzLkI9YTtTLmNhbGwodGhpcyx0aGlzLkgsYnx8VS5SKCksYyk7TWQodGhpcyl9O24oVixTKTtoPVYucHJvdG90eXBlO2guQz1udWxsO2guRD1mdW5jdGlvbigpe1YuaS5ELmNhbGwodGhpcyk7TWQodGhpcyl9O2gudT1mdW5jdGlvbigpe1YuaS51LmNhbGwodGhpcyk7dGhpcy5DPW51bGx9O2guRWE9ZnVuY3Rpb24oYSl7Vi5pLkVhLmNhbGwodGhpcyxhKTt0aGlzLkcoTCh0aGlzLGEpKX07aC5HPWZ1bmN0aW9uKGEpe2E/cmQoYSwhMCk6dGhpcy5DJiZyZCh0aGlzLkMsITEpfTsKdmFyIE5kPWZ1bmN0aW9uKGEsYil7aWYoYiYmYj09YS5DKXtmb3IodmFyIGM9VGMoYSxiKSxkPWMtMTtiPUwoYSxkKTtkLS0pe3ZhciBlPWI7aWYoZS5pc1Zpc2libGUoKSYmZS5pc0VuYWJsZWQoKSl7YS5HKGIpO3JldHVybn19Zm9yKGMrPTE7Yj1MKGEsYyk7YysrKWlmKGQ9YixkLmlzVmlzaWJsZSgpJiZkLmlzRW5hYmxlZCgpKXthLkcoYik7cmV0dXJufWEuRyhudWxsKX19O2g9Vi5wcm90b3R5cGU7aC5hYj1mdW5jdGlvbihhKXt0aGlzLkMmJnRoaXMuQyE9YS50YXJnZXQmJnJkKHRoaXMuQywhMSk7dGhpcy5DPWEudGFyZ2V0fTtoLmJiPWZ1bmN0aW9uKGEpe2EudGFyZ2V0PT10aGlzLkMmJih0aGlzLkM9bnVsbCl9O2guWmE9ZnVuY3Rpb24oYSl7TmQodGhpcyxhLnRhcmdldCl9O2guJGE9ZnVuY3Rpb24oYSl7TmQodGhpcyxhLnRhcmdldCl9O2guSGE9ZnVuY3Rpb24oKXtMKHRoaXMsdGhpcy5sKXx8Q2QodGhpcyxUYyh0aGlzLHRoaXMuQ3x8TCh0aGlzLDApKSl9Owp2YXIgTWQ9ZnVuY3Rpb24oYSl7SChIKEgoSChPYyhhKSxhLCJzZWxlY3QiLGEuYWIpLGEsInVuc2VsZWN0IixhLmJiKSxhLCJkaXNhYmxlIixhLlphKSxhLCJoaWRlIixhLiRhKX0sTGQ9ZnVuY3Rpb24oYSl7cmV0dXJuInN0YXJ0Ij09YXx8ImVuZCI9PWE/InZlcnRpY2FsIjoiaG9yaXpvbnRhbCJ9O1ZjKCJnb29nLXRhYi1iYXIiLGZ1bmN0aW9uKCl7cmV0dXJuIG5ldyBWfSk7ZnVuY3Rpb24gT2QoYSl7dmFyIGI9e3RvcDoiYm90dG9tIixib3R0b206InRvcCIsc3RhcnQ6InJpZ2h0IixlbmQ6ImxlZnQifVthLmxvY2F0aW9uXSxjPWEuZWxlbWVudElkLGQ9ZG9jdW1lbnQuY3JlYXRlRWxlbWVudCgic3R5bGUiKTtkLnRleHRDb250ZW50PSJcbiAgICBmaWVsZHNldCB7XG4gICAgICBwYWRkaW5nOiAxMHB4O1xuICAgICAgYm9yZGVyOiAxcHggc29saWQgIzM2OTtcbiAgICB9XG5cbiAgICAjIitjKyIgLmdvb2ctdGFiLWNvbnRlbnQge1xuICAgICAgbWluLWhlaWdodDogM2VtO1xuICAgICAgbWFyZ2luOiAwO1xuICAgICAgYm9yZGVyOiAiK2EuYm9yZGVyKyIgc29saWQgIithLmJvcmRlckNvbG9yKyI7XG4gICAgICBib3JkZXItdG9wOiAwO1xuICAgICAgaGVpZ2h0OiAiK2EuY29udGVudEhlaWdodCsiO1xuICAgICAgcGFkZGluZzogNHB4IDhweDtcbiAgICAgIG1hcmdpbi1yaWdodDogNHB4O1xuICAgICAgYmFja2dyb3VuZDogdmFyKC0tY29sYWItcHJpbWFyeS1zdXJmYWNlLWNvbG9yKTtcbiAgICAgIG92ZXJmbG93OiBhdXRvO1xuICAgIH1cblxuICAgICMiKwpjKyIgLmdvb2ctdGFiLWJhci0iK2EubG9jYXRpb24rIiAuZ29vZy10YWItc2VsZWN0ZWQge1xuICAgICAgYmFja2dyb3VuZC1jb2xvcjogdmFyKC0tY29sYWItcHJpbWFyeS1zdXJmYWNlLWNvbG9yKTtcbiAgICAgIGJvcmRlcjogMXB4IHNvbGlkICIrYS5ib3JkZXJDb2xvcisiO1xuICAgICAgYm9yZGVyLSIrYisiOiAwcHg7XG4gICAgfVxuXG4gICAgIyIrYysiIC5nb29nLXRhYi1iYXItIithLmxvY2F0aW9uKyIge1xuICAgICAgcGFkZGluZy0iK2EubG9jYXRpb24rIjogNXB4ICFpbXBvcnRhbnQ7XG4gICAgICBib3JkZXItIitiKyI6IDFweCBzb2xpZCAiK2EuYm9yZGVyQ29sb3IrIiAhaW1wb3J0YW50O1xuICAgICAgYmFja2dyb3VuZDogdmFyKC0tY29sYWItcHJpbWFyeS1zdXJmYWNlLWNvbG9yKTtcbiAgICB9XG5cbiAgICAjIitjKyIgLmdvb2ctdGFiLWJhciB7XG4gICAgICAgbWFyZ2luOiAwO1xuICAgICAgIGJvcmRlcjogMDtcbiAgICAgICBwYWRkaW5nOiAwO1xuICAgICAgIGxpc3Qtc3R5bGU6IG5vbmU7XG4gICAgICAgY3Vyc29yOiBkZWZhdWx0O1xuICAgICAgIG91dGxpbmU6IG5vbmU7XG4gICAgICAgYmFja2dyb3VuZDogdmFyKC0tY29sYWItcHJpbWFyeS1zdXJmYWNlLWNvbG9yKTtcbiAgICAgICBtYXJnaW4tcmlnaHQ6IDRweDtcbiAgICAgIH1cblxuICAgICAjIisKYysiIC5nb29nLXRhYiB7XG4gICAgICAgcG9zaXRpb246IHJlbGF0aXZlO1xuICAgICAgIHBhZGRpbmc6IDRweCA4cHg7XG4gICAgICAgY29sb3I6IHZhcigtLWNvbGFiLXByaW1hcnktdGV4dC1jb2xvcik7XG4gICAgICAgdGV4dC1kZWNvcmF0aW9uOiBpbml0aWFsO1xuICAgICAgIGN1cnNvcjogZGVmYXVsdDtcbiAgICAgIH1cblxuICAgICAgIyIrYysiIC5nb29nLXRhYi1ob3ZlciB7XG4gICAgICAgIGJhY2tncm91bmQtY29sb3I6IHZhcigtLWNvbGFiLWhpZ2hsaWdodGVkLXN1cmZhY2UtY29sb3IpO1xuICAgICAgfVxuICAgICAgIjtyZXR1cm4gZH0KdmFyIFBkPWZ1bmN0aW9uKGEpe3ZhciBiPWEuZWxlbWVudElkLGM9YS50YWJOYW1lcyxkPWEuc2VsZWN0ZWRJbmRleDsiY29udGVudEJvcmRlciJpbiBhfHwoYS5jb250ZW50Qm9yZGVyPSIwcHgiKTsiY29udGVudEhlaWdodCJpbiBhfHwoYS5jb250ZW50SGVpZ2h0PSJpbml0aWFsIik7ImJvcmRlckNvbG9yImluIGF8fChhLmJvcmRlckNvbG9yPSJ2YXIoLS1jb2xhYi1ib3JkZXItY29sb3IpIik7YS5sb2NhdGlvbnx8KGEubG9jYXRpb249InRvcCIpO3ZhciBlPWRvY3VtZW50LnF1ZXJ5U2VsZWN0b3IoIiMiK2IpLGY9ZG9jdW1lbnQuY3JlYXRlRWxlbWVudCgiZGl2Iik7Zi5jbGFzc0xpc3QuYWRkKCJnb29nLXRhYi1iYXIiKTt2YXIgZz1hLmxvY2F0aW9uO2YuY2xhc3NMaXN0LmFkZCgiZ29vZy10YWItYmFyLSIrZyk7Zm9yKHZhciBrPVtdLHA9YmEoYyksdz1wLm5leHQoKTshdy5kb25lO3c9cC5uZXh0KCkpe3c9dy52YWx1ZTt2YXIgQj1kb2N1bWVudC5jcmVhdGVFbGVtZW50KCJkaXYiKTsKQi5jbGFzc0xpc3QuYWRkKCJnb29nLXRhYiIpO0IudGV4dENvbnRlbnQ9dztmLmFwcGVuZENoaWxkKEIpO2sucHVzaChCKX0iYm90dG9tIiE9ZyYmZS5hcHBlbmRDaGlsZChmKTtwPW51bGw7aWYoInRvcCI9PWd8fCJib3R0b20iPT1nKXA9ZG9jdW1lbnQuY3JlYXRlRWxlbWVudCgiZGl2IikscC5jbGFzc0xpc3QuYWRkKCJnb29nLXRhYi1iYXItY2xlYXIiKTsidG9wIj09ZyYmcCYmZS5hcHBlbmRDaGlsZChwKTtCPWRvY3VtZW50LmNyZWF0ZUVsZW1lbnQoImRpdiIpO0IuY2xhc3NMaXN0LmFkZCgiZ29vZy10YWItY29udGVudCIpO3ZhciByYT1bXTtjPWJhKGMpO2Zvcih3PWMubmV4dCgpOyF3LmRvbmU7dz1jLm5leHQoKSl3PWRvY3VtZW50LmNyZWF0ZUVsZW1lbnQoImRpdiIpLHcuaWQ9ZS5pZCsiX2NvbnRlbnRfIityYS5sZW5ndGgsdy5zdHlsZS5kaXNwbGF5PSJub25lIixCLmFwcGVuZENoaWxkKHcpLHJhLnB1c2godyk7ZS5hcHBlbmRDaGlsZChCKTsiYm90dG9tIj09ZyYmKHAmJgplLmFwcGVuZENoaWxkKHApLGUuYXBwZW5kQ2hpbGQoZikpO3ZhciBYPW5ldyBWKGcpO1BjKFgsZik7dmFyIFk9LTE7ZGMoWCwic2VsZWN0IixmdW5jdGlvbihaKXtaPWsuaW5kZXhPZihaLnRhcmdldC5mKCkpO1ohPVkmJigwPD1ZJiZZPHJhLmxlbmd0aCYmKHJhW1ldLnN0eWxlLmRpc3BsYXk9Im5vbmUiLFk9LTEpLDA8PVomJlo8cmEubGVuZ3RoJiYoWT1aLHJhW1ldLnN0eWxlLmRpc3BsYXk9ImlubGluZSIsd2luZG93LmRpc3BhdGNoRXZlbnQobmV3IEV2ZW50KCJyZXNpemUiKSksZ29vZ2xlLmNvbGFiLm91dHB1dC5yZXNpemVJZnJhbWVUb0NvbnRlbnQoKSksWC5HKEwoWCxZKSkpfSk7WC5HKEwoWCxkKSk7d2luZG93W2JdPXtzZXRTZWxlY3RlZFRhYkluZGV4OmZ1bmN0aW9uKFope1guRyhMKFgsWikpfX07ZG9jdW1lbnQuaGVhZC5hcHBlbmRDaGlsZChPZChhKSl9LFFkPVsiY29sYWJfbGliIiwiY3JlYXRlVGFiQmFyIl0sVz1sOwpRZFswXWluIFd8fCJ1bmRlZmluZWQiPT10eXBlb2YgVy5leGVjU2NyaXB0fHxXLmV4ZWNTY3JpcHQoInZhciAiK1FkWzBdKTtmb3IodmFyIFJkO1FkLmxlbmd0aCYmKFJkPVFkLnNoaWZ0KCkpOylRZC5sZW5ndGh8fHZvaWQgMD09PVBkP1dbUmRdJiZXW1JkXSE9PU9iamVjdC5wcm90b3R5cGVbUmRdP1c9V1tSZF06Vz1XW1JkXT17fTpXW1JkXT1QZDt9KS5jYWxsKHRoaXMpOwovLyBjbGFuZy1mb3JtYXQgb24K",
              "ok": true,
              "headers": [
                [
                  "content-type",
                  "application/javascript"
                ]
              ],
              "status": 200,
              "status_text": ""
            }
          },
          "height": 189
        },
        "id": "OR3vCtEIzyu8",
        "outputId": "56f925c2-194c-49a9-f77f-a95fd30ead89"
      },
      "execution_count": 36,
      "outputs": [
        {
          "output_type": "display_data",
          "data": {
            "text/html": [
              "<link rel=stylesheet type=text/css href='/nbextensions/google.colab/tabbar.css'></link>"
            ],
            "text/plain": [
              "<IPython.core.display.HTML object>"
            ]
          },
          "metadata": {}
        },
        {
          "output_type": "display_data",
          "data": {
            "text/html": [
              "<script src='/nbextensions/google.colab/tabbar_main.min.js'></script>"
            ],
            "text/plain": [
              "<IPython.core.display.HTML object>"
            ]
          },
          "metadata": {}
        },
        {
          "output_type": "display_data",
          "data": {
            "text/html": [
              "<div id=\"id292\"></div>"
            ],
            "text/plain": [
              "<IPython.core.display.HTML object>"
            ]
          },
          "metadata": {}
        },
        {
          "output_type": "display_data",
          "data": {
            "application/javascript": [
              "window[\"6d7e01b8-67cd-11ec-8473-0242ac1c0002\"] = colab_lib.createTabBar({\"location\": \"top\", \"elementId\": \"id292\", \"tabNames\": [\"SomeMovies\", \"SomePeople\", \"SomeRockBands\", \"SomeAwards\", \"ShowbusinessStats\", \"RockArtistInMovie\", \"RockBandCastedInMovies\", \"RockBandMovies\", \"MockMedalistTest\", \"MockAward\", \"MedalistCountTest\", \"OnlyThreeMedalistsTest\", \"AIsMedalistTest\", \"BIsNotMedalistTest\", \"BsAwardsInCircleAwardsOfA\", \"(Log)\"], \"initialSelection\": 0, \"contentBorder\": [\"0px\"], \"contentHeight\": [\"initial\"], \"borderColor\": [\"#a7a7a7\"]});\n",
              "//# sourceURL=js_0f23a6b270"
            ],
            "text/plain": [
              "<IPython.core.display.Javascript object>"
            ]
          },
          "metadata": {}
        },
        {
          "output_type": "display_data",
          "data": {
            "application/javascript": [
              "window[\"6d7e5e06-67cd-11ec-8473-0242ac1c0002\"] = window[\"id292\"].setSelectedTabIndex(0);\n",
              "//# sourceURL=js_a88f06c670"
            ],
            "text/plain": [
              "<IPython.core.display.Javascript object>"
            ]
          },
          "metadata": {}
        },
        {
          "output_type": "display_data",
          "data": {
            "application/javascript": [
              "window[\"6d804db0-67cd-11ec-8473-0242ac1c0002\"] = google.colab.output.getActiveOutputArea();\n",
              "//# sourceURL=js_5e27ab2562"
            ],
            "text/plain": [
              "<IPython.core.display.Javascript object>"
            ]
          },
          "metadata": {}
        },
        {
          "output_type": "display_data",
          "data": {
            "application/javascript": [
              "window[\"6d80b25a-67cd-11ec-8473-0242ac1c0002\"] = document.querySelector(\"#id292_content_15\");\n",
              "//# sourceURL=js_5a978dd659"
            ],
            "text/plain": [
              "<IPython.core.display.Javascript object>"
            ]
          },
          "metadata": {}
        },
        {
          "output_type": "display_data",
          "data": {
            "application/javascript": [
              "window[\"6d811704-67cd-11ec-8473-0242ac1c0002\"] = google.colab.output.setActiveOutputArea(window[\"6d80b25a-67cd-11ec-8473-0242ac1c0002\"]);\n",
              "//# sourceURL=js_9d266c19a5"
            ],
            "text/plain": [
              "<IPython.core.display.Javascript object>"
            ]
          },
          "metadata": {}
        },
        {
          "output_type": "display_data",
          "data": {
            "application/javascript": [
              "window[\"6d81771c-67cd-11ec-8473-0242ac1c0002\"] = window[\"id292\"].setSelectedTabIndex(15);\n",
              "//# sourceURL=js_d52d64400b"
            ],
            "text/plain": [
              "<IPython.core.display.Javascript object>"
            ]
          },
          "metadata": {}
        },
        {
          "output_type": "display_data",
          "data": {
            "application/javascript": [
              "window[\"6d834cd6-67cd-11ec-8473-0242ac1c0002\"] = google.colab.output.setActiveOutputArea(window[\"6d804db0-67cd-11ec-8473-0242ac1c0002\"]);\n",
              "//# sourceURL=js_634f6f2066"
            ],
            "text/plain": [
              "<IPython.core.display.Javascript object>"
            ]
          },
          "metadata": {}
        },
        {
          "output_type": "display_data",
          "data": {
            "application/javascript": [
              "window[\"6d851f0c-67cd-11ec-8473-0242ac1c0002\"] = google.colab.output.getActiveOutputArea();\n",
              "//# sourceURL=js_6c2df39f66"
            ],
            "text/plain": [
              "<IPython.core.display.Javascript object>"
            ]
          },
          "metadata": {}
        },
        {
          "output_type": "display_data",
          "data": {
            "application/javascript": [
              "window[\"6d856ade-67cd-11ec-8473-0242ac1c0002\"] = document.querySelector(\"#id292_content_0\");\n",
              "//# sourceURL=js_c86321467d"
            ],
            "text/plain": [
              "<IPython.core.display.Javascript object>"
            ]
          },
          "metadata": {}
        },
        {
          "output_type": "display_data",
          "data": {
            "application/javascript": [
              "window[\"6d85bad4-67cd-11ec-8473-0242ac1c0002\"] = google.colab.output.setActiveOutputArea(window[\"6d856ade-67cd-11ec-8473-0242ac1c0002\"]);\n",
              "//# sourceURL=js_18d428456a"
            ],
            "text/plain": [
              "<IPython.core.display.Javascript object>"
            ]
          },
          "metadata": {}
        },
        {
          "output_type": "display_data",
          "data": {
            "application/javascript": [
              "window[\"6d8603f4-67cd-11ec-8473-0242ac1c0002\"] = window[\"id292\"].setSelectedTabIndex(0);\n",
              "//# sourceURL=js_5c0f34b099"
            ],
            "text/plain": [
              "<IPython.core.display.Javascript object>"
            ]
          },
          "metadata": {}
        },
        {
          "output_type": "display_data",
          "data": {
            "text/html": [
              "<link rel=stylesheet type=text/css href='/nbextensions/google.colab/tabbar.css'></link>"
            ],
            "text/plain": [
              "<IPython.core.display.HTML object>"
            ]
          },
          "metadata": {}
        },
        {
          "output_type": "display_data",
          "data": {
            "text/html": [
              "<script src='/nbextensions/google.colab/tabbar_main.min.js'></script>"
            ],
            "text/plain": [
              "<IPython.core.display.HTML object>"
            ]
          },
          "metadata": {}
        },
        {
          "output_type": "display_data",
          "data": {
            "text/html": [
              "<div id=\"id293\"></div>"
            ],
            "text/plain": [
              "<IPython.core.display.HTML object>"
            ]
          },
          "metadata": {}
        },
        {
          "output_type": "display_data",
          "data": {
            "application/javascript": [
              "window[\"6d87c95a-67cd-11ec-8473-0242ac1c0002\"] = colab_lib.createTabBar({\"location\": \"top\", \"elementId\": \"id293\", \"tabNames\": [\"SQL\", \"Result\"], \"initialSelection\": 0, \"contentBorder\": [\"0px\"], \"contentHeight\": [\"initial\"], \"borderColor\": [\"#a7a7a7\"]});\n",
              "//# sourceURL=js_0b997f3d08"
            ],
            "text/plain": [
              "<IPython.core.display.Javascript object>"
            ]
          },
          "metadata": {}
        },
        {
          "output_type": "display_data",
          "data": {
            "application/javascript": [
              "window[\"6d88148c-67cd-11ec-8473-0242ac1c0002\"] = window[\"id293\"].setSelectedTabIndex(0);\n",
              "//# sourceURL=js_3c5615bd1e"
            ],
            "text/plain": [
              "<IPython.core.display.Javascript object>"
            ]
          },
          "metadata": {}
        },
        {
          "output_type": "display_data",
          "data": {
            "application/javascript": [
              "window[\"6d897ad4-67cd-11ec-8473-0242ac1c0002\"] = google.colab.output.getActiveOutputArea();\n",
              "//# sourceURL=js_89597ccf67"
            ],
            "text/plain": [
              "<IPython.core.display.Javascript object>"
            ]
          },
          "metadata": {}
        },
        {
          "output_type": "display_data",
          "data": {
            "application/javascript": [
              "window[\"6d89c35e-67cd-11ec-8473-0242ac1c0002\"] = document.querySelector(\"#id293_content_0\");\n",
              "//# sourceURL=js_cd6577692f"
            ],
            "text/plain": [
              "<IPython.core.display.Javascript object>"
            ]
          },
          "metadata": {}
        },
        {
          "output_type": "display_data",
          "data": {
            "application/javascript": [
              "window[\"6d8a0ce2-67cd-11ec-8473-0242ac1c0002\"] = google.colab.output.setActiveOutputArea(window[\"6d89c35e-67cd-11ec-8473-0242ac1c0002\"]);\n",
              "//# sourceURL=js_5ed61e25cc"
            ],
            "text/plain": [
              "<IPython.core.display.Javascript object>"
            ]
          },
          "metadata": {}
        },
        {
          "output_type": "display_data",
          "data": {
            "application/javascript": [
              "window[\"6d8a53be-67cd-11ec-8473-0242ac1c0002\"] = window[\"id293\"].setSelectedTabIndex(0);\n",
              "//# sourceURL=js_62e62ad89c"
            ],
            "text/plain": [
              "<IPython.core.display.Javascript object>"
            ]
          },
          "metadata": {}
        },
        {
          "output_type": "stream",
          "name": "stdout",
          "text": [
            "The following query is stored at \u001b[1mSomeMovies_sql\u001b[0m variable.\n",
            "ATTACH DATABASE 'showbusiness.db' AS db;\n",
            "ATTACH DATABASE ':memory:' AS logica_test;\n",
            "\n",
            "SELECT\n",
            "  db_movie.*\n",
            "FROM\n",
            "  db.movie AS db_movie LIMIT 10;\n"
          ]
        },
        {
          "output_type": "display_data",
          "data": {
            "application/javascript": [
              "window[\"6d8b8aea-67cd-11ec-8473-0242ac1c0002\"] = google.colab.output.setActiveOutputArea(window[\"6d897ad4-67cd-11ec-8473-0242ac1c0002\"]);\n",
              "//# sourceURL=js_d094a236ce"
            ],
            "text/plain": [
              "<IPython.core.display.Javascript object>"
            ]
          },
          "metadata": {}
        },
        {
          "output_type": "display_data",
          "data": {
            "application/javascript": [
              "window[\"6d8d1752-67cd-11ec-8473-0242ac1c0002\"] = google.colab.output.setActiveOutputArea(window[\"6d851f0c-67cd-11ec-8473-0242ac1c0002\"]);\n",
              "//# sourceURL=js_9bf6fa9410"
            ],
            "text/plain": [
              "<IPython.core.display.Javascript object>"
            ]
          },
          "metadata": {}
        },
        {
          "output_type": "display_data",
          "data": {
            "application/javascript": [
              "window[\"6d8efe82-67cd-11ec-8473-0242ac1c0002\"] = google.colab.output.getActiveOutputArea();\n",
              "//# sourceURL=js_332270d866"
            ],
            "text/plain": [
              "<IPython.core.display.Javascript object>"
            ]
          },
          "metadata": {}
        },
        {
          "output_type": "display_data",
          "data": {
            "application/javascript": [
              "window[\"6d8f4cd4-67cd-11ec-8473-0242ac1c0002\"] = document.querySelector(\"#id292_content_15\");\n",
              "//# sourceURL=js_6cd3d6d665"
            ],
            "text/plain": [
              "<IPython.core.display.Javascript object>"
            ]
          },
          "metadata": {}
        },
        {
          "output_type": "display_data",
          "data": {
            "application/javascript": [
              "window[\"6d8f9b62-67cd-11ec-8473-0242ac1c0002\"] = google.colab.output.setActiveOutputArea(window[\"6d8f4cd4-67cd-11ec-8473-0242ac1c0002\"]);\n",
              "//# sourceURL=js_b0731e044d"
            ],
            "text/plain": [
              "<IPython.core.display.Javascript object>"
            ]
          },
          "metadata": {}
        },
        {
          "output_type": "display_data",
          "data": {
            "application/javascript": [
              "window[\"6d8fe572-67cd-11ec-8473-0242ac1c0002\"] = window[\"id292\"].setSelectedTabIndex(15);\n",
              "//# sourceURL=js_d815138c32"
            ],
            "text/plain": [
              "<IPython.core.display.Javascript object>"
            ]
          },
          "metadata": {}
        },
        {
          "output_type": "display_data",
          "data": {
            "application/javascript": [
              "window[\"6d914ffc-67cd-11ec-8473-0242ac1c0002\"] = google.colab.output.setActiveOutputArea(window[\"6d8efe82-67cd-11ec-8473-0242ac1c0002\"]);\n",
              "//# sourceURL=js_cdabdb62ca"
            ],
            "text/plain": [
              "<IPython.core.display.Javascript object>"
            ]
          },
          "metadata": {}
        },
        {
          "output_type": "display_data",
          "data": {
            "application/javascript": [
              "window[\"6d93249e-67cd-11ec-8473-0242ac1c0002\"] = google.colab.output.getActiveOutputArea();\n",
              "//# sourceURL=js_63024510f5"
            ],
            "text/plain": [
              "<IPython.core.display.Javascript object>"
            ]
          },
          "metadata": {}
        },
        {
          "output_type": "display_data",
          "data": {
            "application/javascript": [
              "window[\"6d9370d4-67cd-11ec-8473-0242ac1c0002\"] = document.querySelector(\"#id292_content_1\");\n",
              "//# sourceURL=js_7432a7af22"
            ],
            "text/plain": [
              "<IPython.core.display.Javascript object>"
            ]
          },
          "metadata": {}
        },
        {
          "output_type": "display_data",
          "data": {
            "application/javascript": [
              "window[\"6d93bbac-67cd-11ec-8473-0242ac1c0002\"] = google.colab.output.setActiveOutputArea(window[\"6d9370d4-67cd-11ec-8473-0242ac1c0002\"]);\n",
              "//# sourceURL=js_d3f7910b6a"
            ],
            "text/plain": [
              "<IPython.core.display.Javascript object>"
            ]
          },
          "metadata": {}
        },
        {
          "output_type": "display_data",
          "data": {
            "application/javascript": [
              "window[\"6d9407f6-67cd-11ec-8473-0242ac1c0002\"] = window[\"id292\"].setSelectedTabIndex(1);\n",
              "//# sourceURL=js_6805565b27"
            ],
            "text/plain": [
              "<IPython.core.display.Javascript object>"
            ]
          },
          "metadata": {}
        },
        {
          "output_type": "display_data",
          "data": {
            "text/html": [
              "<link rel=stylesheet type=text/css href='/nbextensions/google.colab/tabbar.css'></link>"
            ],
            "text/plain": [
              "<IPython.core.display.HTML object>"
            ]
          },
          "metadata": {}
        },
        {
          "output_type": "display_data",
          "data": {
            "text/html": [
              "<script src='/nbextensions/google.colab/tabbar_main.min.js'></script>"
            ],
            "text/plain": [
              "<IPython.core.display.HTML object>"
            ]
          },
          "metadata": {}
        },
        {
          "output_type": "display_data",
          "data": {
            "text/html": [
              "<div id=\"id294\"></div>"
            ],
            "text/plain": [
              "<IPython.core.display.HTML object>"
            ]
          },
          "metadata": {}
        },
        {
          "output_type": "display_data",
          "data": {
            "application/javascript": [
              "window[\"6d977bde-67cd-11ec-8473-0242ac1c0002\"] = colab_lib.createTabBar({\"location\": \"top\", \"elementId\": \"id294\", \"tabNames\": [\"SQL\", \"Result\"], \"initialSelection\": 0, \"contentBorder\": [\"0px\"], \"contentHeight\": [\"initial\"], \"borderColor\": [\"#a7a7a7\"]});\n",
              "//# sourceURL=js_089cb9c597"
            ],
            "text/plain": [
              "<IPython.core.display.Javascript object>"
            ]
          },
          "metadata": {}
        },
        {
          "output_type": "display_data",
          "data": {
            "application/javascript": [
              "window[\"6d984082-67cd-11ec-8473-0242ac1c0002\"] = window[\"id294\"].setSelectedTabIndex(0);\n",
              "//# sourceURL=js_44d3ca4111"
            ],
            "text/plain": [
              "<IPython.core.display.Javascript object>"
            ]
          },
          "metadata": {}
        },
        {
          "output_type": "display_data",
          "data": {
            "application/javascript": [
              "window[\"6d9ab786-67cd-11ec-8473-0242ac1c0002\"] = google.colab.output.getActiveOutputArea();\n",
              "//# sourceURL=js_be7b87a6d8"
            ],
            "text/plain": [
              "<IPython.core.display.Javascript object>"
            ]
          },
          "metadata": {}
        },
        {
          "output_type": "display_data",
          "data": {
            "application/javascript": [
              "window[\"6d9b133e-67cd-11ec-8473-0242ac1c0002\"] = document.querySelector(\"#id294_content_0\");\n",
              "//# sourceURL=js_51c015c471"
            ],
            "text/plain": [
              "<IPython.core.display.Javascript object>"
            ]
          },
          "metadata": {}
        },
        {
          "output_type": "display_data",
          "data": {
            "application/javascript": [
              "window[\"6d9c5992-67cd-11ec-8473-0242ac1c0002\"] = google.colab.output.setActiveOutputArea(window[\"6d9b133e-67cd-11ec-8473-0242ac1c0002\"]);\n",
              "//# sourceURL=js_f8d313c095"
            ],
            "text/plain": [
              "<IPython.core.display.Javascript object>"
            ]
          },
          "metadata": {}
        },
        {
          "output_type": "display_data",
          "data": {
            "application/javascript": [
              "window[\"6d9ca410-67cd-11ec-8473-0242ac1c0002\"] = window[\"id294\"].setSelectedTabIndex(0);\n",
              "//# sourceURL=js_67b07e8553"
            ],
            "text/plain": [
              "<IPython.core.display.Javascript object>"
            ]
          },
          "metadata": {}
        },
        {
          "output_type": "stream",
          "name": "stdout",
          "text": [
            "The following query is stored at \u001b[1mSomePeople_sql\u001b[0m variable.\n",
            "ATTACH DATABASE 'showbusiness.db' AS db;\n",
            "ATTACH DATABASE ':memory:' AS logica_test;\n",
            "\n",
            "SELECT\n",
            "  db_person.*\n",
            "FROM\n",
            "  db.person AS db_person LIMIT 10;\n"
          ]
        },
        {
          "output_type": "display_data",
          "data": {
            "application/javascript": [
              "window[\"6d9e18d6-67cd-11ec-8473-0242ac1c0002\"] = google.colab.output.setActiveOutputArea(window[\"6d9ab786-67cd-11ec-8473-0242ac1c0002\"]);\n",
              "//# sourceURL=js_68634c88c6"
            ],
            "text/plain": [
              "<IPython.core.display.Javascript object>"
            ]
          },
          "metadata": {}
        },
        {
          "output_type": "display_data",
          "data": {
            "application/javascript": [
              "window[\"6d9fa8cc-67cd-11ec-8473-0242ac1c0002\"] = google.colab.output.setActiveOutputArea(window[\"6d93249e-67cd-11ec-8473-0242ac1c0002\"]);\n",
              "//# sourceURL=js_00eda360fe"
            ],
            "text/plain": [
              "<IPython.core.display.Javascript object>"
            ]
          },
          "metadata": {}
        },
        {
          "output_type": "display_data",
          "data": {
            "application/javascript": [
              "window[\"6da19b32-67cd-11ec-8473-0242ac1c0002\"] = google.colab.output.getActiveOutputArea();\n",
              "//# sourceURL=js_4c761cc198"
            ],
            "text/plain": [
              "<IPython.core.display.Javascript object>"
            ]
          },
          "metadata": {}
        },
        {
          "output_type": "display_data",
          "data": {
            "application/javascript": [
              "window[\"6da1f10e-67cd-11ec-8473-0242ac1c0002\"] = document.querySelector(\"#id292_content_15\");\n",
              "//# sourceURL=js_9f62b4a956"
            ],
            "text/plain": [
              "<IPython.core.display.Javascript object>"
            ]
          },
          "metadata": {}
        },
        {
          "output_type": "display_data",
          "data": {
            "application/javascript": [
              "window[\"6da24140-67cd-11ec-8473-0242ac1c0002\"] = google.colab.output.setActiveOutputArea(window[\"6da1f10e-67cd-11ec-8473-0242ac1c0002\"]);\n",
              "//# sourceURL=js_bf1c8cc5cf"
            ],
            "text/plain": [
              "<IPython.core.display.Javascript object>"
            ]
          },
          "metadata": {}
        },
        {
          "output_type": "display_data",
          "data": {
            "application/javascript": [
              "window[\"6da28ff6-67cd-11ec-8473-0242ac1c0002\"] = window[\"id292\"].setSelectedTabIndex(15);\n",
              "//# sourceURL=js_a0fe224c6c"
            ],
            "text/plain": [
              "<IPython.core.display.Javascript object>"
            ]
          },
          "metadata": {}
        },
        {
          "output_type": "display_data",
          "data": {
            "application/javascript": [
              "window[\"6da4080e-67cd-11ec-8473-0242ac1c0002\"] = google.colab.output.setActiveOutputArea(window[\"6da19b32-67cd-11ec-8473-0242ac1c0002\"]);\n",
              "//# sourceURL=js_8d60725d1f"
            ],
            "text/plain": [
              "<IPython.core.display.Javascript object>"
            ]
          },
          "metadata": {}
        },
        {
          "output_type": "display_data",
          "data": {
            "application/javascript": [
              "window[\"6da5ddaa-67cd-11ec-8473-0242ac1c0002\"] = google.colab.output.getActiveOutputArea();\n",
              "//# sourceURL=js_848bcbb782"
            ],
            "text/plain": [
              "<IPython.core.display.Javascript object>"
            ]
          },
          "metadata": {}
        },
        {
          "output_type": "display_data",
          "data": {
            "application/javascript": [
              "window[\"6da62ad0-67cd-11ec-8473-0242ac1c0002\"] = document.querySelector(\"#id292_content_2\");\n",
              "//# sourceURL=js_a1c877afda"
            ],
            "text/plain": [
              "<IPython.core.display.Javascript object>"
            ]
          },
          "metadata": {}
        },
        {
          "output_type": "display_data",
          "data": {
            "application/javascript": [
              "window[\"6da67b34-67cd-11ec-8473-0242ac1c0002\"] = google.colab.output.setActiveOutputArea(window[\"6da62ad0-67cd-11ec-8473-0242ac1c0002\"]);\n",
              "//# sourceURL=js_dc149e1d71"
            ],
            "text/plain": [
              "<IPython.core.display.Javascript object>"
            ]
          },
          "metadata": {}
        },
        {
          "output_type": "display_data",
          "data": {
            "application/javascript": [
              "window[\"6da6cb84-67cd-11ec-8473-0242ac1c0002\"] = window[\"id292\"].setSelectedTabIndex(2);\n",
              "//# sourceURL=js_38e3082ea8"
            ],
            "text/plain": [
              "<IPython.core.display.Javascript object>"
            ]
          },
          "metadata": {}
        },
        {
          "output_type": "display_data",
          "data": {
            "text/html": [
              "<link rel=stylesheet type=text/css href='/nbextensions/google.colab/tabbar.css'></link>"
            ],
            "text/plain": [
              "<IPython.core.display.HTML object>"
            ]
          },
          "metadata": {}
        },
        {
          "output_type": "display_data",
          "data": {
            "text/html": [
              "<script src='/nbextensions/google.colab/tabbar_main.min.js'></script>"
            ],
            "text/plain": [
              "<IPython.core.display.HTML object>"
            ]
          },
          "metadata": {}
        },
        {
          "output_type": "display_data",
          "data": {
            "text/html": [
              "<div id=\"id295\"></div>"
            ],
            "text/plain": [
              "<IPython.core.display.HTML object>"
            ]
          },
          "metadata": {}
        },
        {
          "output_type": "display_data",
          "data": {
            "application/javascript": [
              "window[\"6da8c092-67cd-11ec-8473-0242ac1c0002\"] = colab_lib.createTabBar({\"location\": \"top\", \"elementId\": \"id295\", \"tabNames\": [\"SQL\", \"Result\"], \"initialSelection\": 0, \"contentBorder\": [\"0px\"], \"contentHeight\": [\"initial\"], \"borderColor\": [\"#a7a7a7\"]});\n",
              "//# sourceURL=js_676cbc54a3"
            ],
            "text/plain": [
              "<IPython.core.display.Javascript object>"
            ]
          },
          "metadata": {}
        },
        {
          "output_type": "display_data",
          "data": {
            "application/javascript": [
              "window[\"6da90ca0-67cd-11ec-8473-0242ac1c0002\"] = window[\"id295\"].setSelectedTabIndex(0);\n",
              "//# sourceURL=js_ff6ca9b1a1"
            ],
            "text/plain": [
              "<IPython.core.display.Javascript object>"
            ]
          },
          "metadata": {}
        },
        {
          "output_type": "display_data",
          "data": {
            "application/javascript": [
              "window[\"6daaa1e6-67cd-11ec-8473-0242ac1c0002\"] = google.colab.output.getActiveOutputArea();\n",
              "//# sourceURL=js_3cf6a8384c"
            ],
            "text/plain": [
              "<IPython.core.display.Javascript object>"
            ]
          },
          "metadata": {}
        },
        {
          "output_type": "display_data",
          "data": {
            "application/javascript": [
              "window[\"6daaf3d0-67cd-11ec-8473-0242ac1c0002\"] = document.querySelector(\"#id295_content_0\");\n",
              "//# sourceURL=js_0c42d6084d"
            ],
            "text/plain": [
              "<IPython.core.display.Javascript object>"
            ]
          },
          "metadata": {}
        },
        {
          "output_type": "display_data",
          "data": {
            "application/javascript": [
              "window[\"6dab447a-67cd-11ec-8473-0242ac1c0002\"] = google.colab.output.setActiveOutputArea(window[\"6daaf3d0-67cd-11ec-8473-0242ac1c0002\"]);\n",
              "//# sourceURL=js_6dfb6fbb8b"
            ],
            "text/plain": [
              "<IPython.core.display.Javascript object>"
            ]
          },
          "metadata": {}
        },
        {
          "output_type": "display_data",
          "data": {
            "application/javascript": [
              "window[\"6dab98a8-67cd-11ec-8473-0242ac1c0002\"] = window[\"id295\"].setSelectedTabIndex(0);\n",
              "//# sourceURL=js_703989f48e"
            ],
            "text/plain": [
              "<IPython.core.display.Javascript object>"
            ]
          },
          "metadata": {}
        },
        {
          "output_type": "stream",
          "name": "stdout",
          "text": [
            "The following query is stored at \u001b[1mSomeRockBands_sql\u001b[0m variable.\n",
            "ATTACH DATABASE 'showbusiness.db' AS db;\n",
            "ATTACH DATABASE ':memory:' AS logica_test;\n",
            "\n",
            "SELECT\n",
            "  db_rockband.*\n",
            "FROM\n",
            "  db.rockband AS db_rockband LIMIT 10;\n"
          ]
        },
        {
          "output_type": "display_data",
          "data": {
            "application/javascript": [
              "window[\"6daccade-67cd-11ec-8473-0242ac1c0002\"] = google.colab.output.setActiveOutputArea(window[\"6daaa1e6-67cd-11ec-8473-0242ac1c0002\"]);\n",
              "//# sourceURL=js_e0d0524817"
            ],
            "text/plain": [
              "<IPython.core.display.Javascript object>"
            ]
          },
          "metadata": {}
        },
        {
          "output_type": "display_data",
          "data": {
            "application/javascript": [
              "window[\"6dae4f3a-67cd-11ec-8473-0242ac1c0002\"] = google.colab.output.setActiveOutputArea(window[\"6da5ddaa-67cd-11ec-8473-0242ac1c0002\"]);\n",
              "//# sourceURL=js_e1f88eab5f"
            ],
            "text/plain": [
              "<IPython.core.display.Javascript object>"
            ]
          },
          "metadata": {}
        },
        {
          "output_type": "display_data",
          "data": {
            "application/javascript": [
              "window[\"6db0274c-67cd-11ec-8473-0242ac1c0002\"] = google.colab.output.getActiveOutputArea();\n",
              "//# sourceURL=js_062fcaf68e"
            ],
            "text/plain": [
              "<IPython.core.display.Javascript object>"
            ]
          },
          "metadata": {}
        },
        {
          "output_type": "display_data",
          "data": {
            "application/javascript": [
              "window[\"6db06a0e-67cd-11ec-8473-0242ac1c0002\"] = document.querySelector(\"#id292_content_15\");\n",
              "//# sourceURL=js_2ec62d3789"
            ],
            "text/plain": [
              "<IPython.core.display.Javascript object>"
            ]
          },
          "metadata": {}
        },
        {
          "output_type": "display_data",
          "data": {
            "application/javascript": [
              "window[\"6db0ad48-67cd-11ec-8473-0242ac1c0002\"] = google.colab.output.setActiveOutputArea(window[\"6db06a0e-67cd-11ec-8473-0242ac1c0002\"]);\n",
              "//# sourceURL=js_687e9a59bf"
            ],
            "text/plain": [
              "<IPython.core.display.Javascript object>"
            ]
          },
          "metadata": {}
        },
        {
          "output_type": "display_data",
          "data": {
            "application/javascript": [
              "window[\"6db0f03c-67cd-11ec-8473-0242ac1c0002\"] = window[\"id292\"].setSelectedTabIndex(15);\n",
              "//# sourceURL=js_0e3e09dab9"
            ],
            "text/plain": [
              "<IPython.core.display.Javascript object>"
            ]
          },
          "metadata": {}
        },
        {
          "output_type": "display_data",
          "data": {
            "application/javascript": [
              "window[\"6db21890-67cd-11ec-8473-0242ac1c0002\"] = google.colab.output.setActiveOutputArea(window[\"6db0274c-67cd-11ec-8473-0242ac1c0002\"]);\n",
              "//# sourceURL=js_73cb664c4b"
            ],
            "text/plain": [
              "<IPython.core.display.Javascript object>"
            ]
          },
          "metadata": {}
        },
        {
          "output_type": "display_data",
          "data": {
            "application/javascript": [
              "window[\"6db553e8-67cd-11ec-8473-0242ac1c0002\"] = google.colab.output.getActiveOutputArea();\n",
              "//# sourceURL=js_ac615fb623"
            ],
            "text/plain": [
              "<IPython.core.display.Javascript object>"
            ]
          },
          "metadata": {}
        },
        {
          "output_type": "display_data",
          "data": {
            "application/javascript": [
              "window[\"6db61684-67cd-11ec-8473-0242ac1c0002\"] = document.querySelector(\"#id292_content_3\");\n",
              "//# sourceURL=js_ae0dee4e45"
            ],
            "text/plain": [
              "<IPython.core.display.Javascript object>"
            ]
          },
          "metadata": {}
        },
        {
          "output_type": "display_data",
          "data": {
            "application/javascript": [
              "window[\"6db65eaa-67cd-11ec-8473-0242ac1c0002\"] = google.colab.output.setActiveOutputArea(window[\"6db61684-67cd-11ec-8473-0242ac1c0002\"]);\n",
              "//# sourceURL=js_4ec97fbf45"
            ],
            "text/plain": [
              "<IPython.core.display.Javascript object>"
            ]
          },
          "metadata": {}
        },
        {
          "output_type": "display_data",
          "data": {
            "application/javascript": [
              "window[\"6db6a446-67cd-11ec-8473-0242ac1c0002\"] = window[\"id292\"].setSelectedTabIndex(3);\n",
              "//# sourceURL=js_5d860ca2e8"
            ],
            "text/plain": [
              "<IPython.core.display.Javascript object>"
            ]
          },
          "metadata": {}
        },
        {
          "output_type": "display_data",
          "data": {
            "text/html": [
              "<link rel=stylesheet type=text/css href='/nbextensions/google.colab/tabbar.css'></link>"
            ],
            "text/plain": [
              "<IPython.core.display.HTML object>"
            ]
          },
          "metadata": {}
        },
        {
          "output_type": "display_data",
          "data": {
            "text/html": [
              "<script src='/nbextensions/google.colab/tabbar_main.min.js'></script>"
            ],
            "text/plain": [
              "<IPython.core.display.HTML object>"
            ]
          },
          "metadata": {}
        },
        {
          "output_type": "display_data",
          "data": {
            "text/html": [
              "<div id=\"id296\"></div>"
            ],
            "text/plain": [
              "<IPython.core.display.HTML object>"
            ]
          },
          "metadata": {}
        },
        {
          "output_type": "display_data",
          "data": {
            "application/javascript": [
              "window[\"6db907e0-67cd-11ec-8473-0242ac1c0002\"] = colab_lib.createTabBar({\"location\": \"top\", \"elementId\": \"id296\", \"tabNames\": [\"SQL\", \"Result\"], \"initialSelection\": 0, \"contentBorder\": [\"0px\"], \"contentHeight\": [\"initial\"], \"borderColor\": [\"#a7a7a7\"]});\n",
              "//# sourceURL=js_5e0ca4e9b8"
            ],
            "text/plain": [
              "<IPython.core.display.Javascript object>"
            ]
          },
          "metadata": {}
        },
        {
          "output_type": "display_data",
          "data": {
            "application/javascript": [
              "window[\"6db963ca-67cd-11ec-8473-0242ac1c0002\"] = window[\"id296\"].setSelectedTabIndex(0);\n",
              "//# sourceURL=js_683d17d9fb"
            ],
            "text/plain": [
              "<IPython.core.display.Javascript object>"
            ]
          },
          "metadata": {}
        },
        {
          "output_type": "display_data",
          "data": {
            "application/javascript": [
              "window[\"6dbb1ada-67cd-11ec-8473-0242ac1c0002\"] = google.colab.output.getActiveOutputArea();\n",
              "//# sourceURL=js_6eae386a04"
            ],
            "text/plain": [
              "<IPython.core.display.Javascript object>"
            ]
          },
          "metadata": {}
        },
        {
          "output_type": "display_data",
          "data": {
            "application/javascript": [
              "window[\"6dbb6fee-67cd-11ec-8473-0242ac1c0002\"] = document.querySelector(\"#id296_content_0\");\n",
              "//# sourceURL=js_44f71cceab"
            ],
            "text/plain": [
              "<IPython.core.display.Javascript object>"
            ]
          },
          "metadata": {}
        },
        {
          "output_type": "display_data",
          "data": {
            "application/javascript": [
              "window[\"6dbbca52-67cd-11ec-8473-0242ac1c0002\"] = google.colab.output.setActiveOutputArea(window[\"6dbb6fee-67cd-11ec-8473-0242ac1c0002\"]);\n",
              "//# sourceURL=js_7936c88ef8"
            ],
            "text/plain": [
              "<IPython.core.display.Javascript object>"
            ]
          },
          "metadata": {}
        },
        {
          "output_type": "display_data",
          "data": {
            "application/javascript": [
              "window[\"6dbc141c-67cd-11ec-8473-0242ac1c0002\"] = window[\"id296\"].setSelectedTabIndex(0);\n",
              "//# sourceURL=js_05e603eaed"
            ],
            "text/plain": [
              "<IPython.core.display.Javascript object>"
            ]
          },
          "metadata": {}
        },
        {
          "output_type": "stream",
          "name": "stdout",
          "text": [
            "The following query is stored at \u001b[1mSomeAwards_sql\u001b[0m variable.\n",
            "ATTACH DATABASE 'showbusiness.db' AS db;\n",
            "ATTACH DATABASE ':memory:' AS logica_test;\n",
            "\n",
            "SELECT\n",
            "  db_award.*\n",
            "FROM\n",
            "  db.award AS db_award LIMIT 10;\n"
          ]
        },
        {
          "output_type": "display_data",
          "data": {
            "application/javascript": [
              "window[\"6dbd445e-67cd-11ec-8473-0242ac1c0002\"] = google.colab.output.setActiveOutputArea(window[\"6dbb1ada-67cd-11ec-8473-0242ac1c0002\"]);\n",
              "//# sourceURL=js_1950f032e7"
            ],
            "text/plain": [
              "<IPython.core.display.Javascript object>"
            ]
          },
          "metadata": {}
        },
        {
          "output_type": "display_data",
          "data": {
            "application/javascript": [
              "window[\"6dbeb7da-67cd-11ec-8473-0242ac1c0002\"] = google.colab.output.setActiveOutputArea(window[\"6db553e8-67cd-11ec-8473-0242ac1c0002\"]);\n",
              "//# sourceURL=js_a1d4f8737a"
            ],
            "text/plain": [
              "<IPython.core.display.Javascript object>"
            ]
          },
          "metadata": {}
        },
        {
          "output_type": "display_data",
          "data": {
            "application/javascript": [
              "window[\"6dc0eda2-67cd-11ec-8473-0242ac1c0002\"] = google.colab.output.getActiveOutputArea();\n",
              "//# sourceURL=js_4d6b7ac2dd"
            ],
            "text/plain": [
              "<IPython.core.display.Javascript object>"
            ]
          },
          "metadata": {}
        },
        {
          "output_type": "display_data",
          "data": {
            "application/javascript": [
              "window[\"6dc141a8-67cd-11ec-8473-0242ac1c0002\"] = document.querySelector(\"#id292_content_15\");\n",
              "//# sourceURL=js_d5be3cff43"
            ],
            "text/plain": [
              "<IPython.core.display.Javascript object>"
            ]
          },
          "metadata": {}
        },
        {
          "output_type": "display_data",
          "data": {
            "application/javascript": [
              "window[\"6dc18ed8-67cd-11ec-8473-0242ac1c0002\"] = google.colab.output.setActiveOutputArea(window[\"6dc141a8-67cd-11ec-8473-0242ac1c0002\"]);\n",
              "//# sourceURL=js_c1c163c915"
            ],
            "text/plain": [
              "<IPython.core.display.Javascript object>"
            ]
          },
          "metadata": {}
        },
        {
          "output_type": "display_data",
          "data": {
            "application/javascript": [
              "window[\"6dc1d762-67cd-11ec-8473-0242ac1c0002\"] = window[\"id292\"].setSelectedTabIndex(15);\n",
              "//# sourceURL=js_d17d678b1c"
            ],
            "text/plain": [
              "<IPython.core.display.Javascript object>"
            ]
          },
          "metadata": {}
        },
        {
          "output_type": "display_data",
          "data": {
            "application/javascript": [
              "window[\"6dc8298c-67cd-11ec-8473-0242ac1c0002\"] = google.colab.output.setActiveOutputArea(window[\"6dc0eda2-67cd-11ec-8473-0242ac1c0002\"]);\n",
              "//# sourceURL=js_02c166e08d"
            ],
            "text/plain": [
              "<IPython.core.display.Javascript object>"
            ]
          },
          "metadata": {}
        },
        {
          "output_type": "display_data",
          "data": {
            "application/javascript": [
              "window[\"6dca0ce8-67cd-11ec-8473-0242ac1c0002\"] = google.colab.output.getActiveOutputArea();\n",
              "//# sourceURL=js_647a90c5f9"
            ],
            "text/plain": [
              "<IPython.core.display.Javascript object>"
            ]
          },
          "metadata": {}
        },
        {
          "output_type": "display_data",
          "data": {
            "application/javascript": [
              "window[\"6dca6abc-67cd-11ec-8473-0242ac1c0002\"] = document.querySelector(\"#id292_content_4\");\n",
              "//# sourceURL=js_dfd4545143"
            ],
            "text/plain": [
              "<IPython.core.display.Javascript object>"
            ]
          },
          "metadata": {}
        },
        {
          "output_type": "display_data",
          "data": {
            "application/javascript": [
              "window[\"6dcab38c-67cd-11ec-8473-0242ac1c0002\"] = google.colab.output.setActiveOutputArea(window[\"6dca6abc-67cd-11ec-8473-0242ac1c0002\"]);\n",
              "//# sourceURL=js_7fae08965a"
            ],
            "text/plain": [
              "<IPython.core.display.Javascript object>"
            ]
          },
          "metadata": {}
        },
        {
          "output_type": "display_data",
          "data": {
            "application/javascript": [
              "window[\"6dcaf392-67cd-11ec-8473-0242ac1c0002\"] = window[\"id292\"].setSelectedTabIndex(4);\n",
              "//# sourceURL=js_9b22cac177"
            ],
            "text/plain": [
              "<IPython.core.display.Javascript object>"
            ]
          },
          "metadata": {}
        },
        {
          "output_type": "display_data",
          "data": {
            "text/html": [
              "<link rel=stylesheet type=text/css href='/nbextensions/google.colab/tabbar.css'></link>"
            ],
            "text/plain": [
              "<IPython.core.display.HTML object>"
            ]
          },
          "metadata": {}
        },
        {
          "output_type": "display_data",
          "data": {
            "text/html": [
              "<script src='/nbextensions/google.colab/tabbar_main.min.js'></script>"
            ],
            "text/plain": [
              "<IPython.core.display.HTML object>"
            ]
          },
          "metadata": {}
        },
        {
          "output_type": "display_data",
          "data": {
            "text/html": [
              "<div id=\"id297\"></div>"
            ],
            "text/plain": [
              "<IPython.core.display.HTML object>"
            ]
          },
          "metadata": {}
        },
        {
          "output_type": "display_data",
          "data": {
            "application/javascript": [
              "window[\"6dcc90bc-67cd-11ec-8473-0242ac1c0002\"] = colab_lib.createTabBar({\"location\": \"top\", \"elementId\": \"id297\", \"tabNames\": [\"SQL\", \"Result\"], \"initialSelection\": 0, \"contentBorder\": [\"0px\"], \"contentHeight\": [\"initial\"], \"borderColor\": [\"#a7a7a7\"]});\n",
              "//# sourceURL=js_fe5be4f292"
            ],
            "text/plain": [
              "<IPython.core.display.Javascript object>"
            ]
          },
          "metadata": {}
        },
        {
          "output_type": "display_data",
          "data": {
            "application/javascript": [
              "window[\"6dccdcfc-67cd-11ec-8473-0242ac1c0002\"] = window[\"id297\"].setSelectedTabIndex(0);\n",
              "//# sourceURL=js_dd3a08ba50"
            ],
            "text/plain": [
              "<IPython.core.display.Javascript object>"
            ]
          },
          "metadata": {}
        },
        {
          "output_type": "display_data",
          "data": {
            "application/javascript": [
              "window[\"6dce5ab4-67cd-11ec-8473-0242ac1c0002\"] = google.colab.output.getActiveOutputArea();\n",
              "//# sourceURL=js_4a3e7554ec"
            ],
            "text/plain": [
              "<IPython.core.display.Javascript object>"
            ]
          },
          "metadata": {}
        },
        {
          "output_type": "display_data",
          "data": {
            "application/javascript": [
              "window[\"6dceae06-67cd-11ec-8473-0242ac1c0002\"] = document.querySelector(\"#id297_content_0\");\n",
              "//# sourceURL=js_69cf124a60"
            ],
            "text/plain": [
              "<IPython.core.display.Javascript object>"
            ]
          },
          "metadata": {}
        },
        {
          "output_type": "display_data",
          "data": {
            "application/javascript": [
              "window[\"6dcefc3a-67cd-11ec-8473-0242ac1c0002\"] = google.colab.output.setActiveOutputArea(window[\"6dceae06-67cd-11ec-8473-0242ac1c0002\"]);\n",
              "//# sourceURL=js_bfb2a1c3e5"
            ],
            "text/plain": [
              "<IPython.core.display.Javascript object>"
            ]
          },
          "metadata": {}
        },
        {
          "output_type": "display_data",
          "data": {
            "application/javascript": [
              "window[\"6dcf53c4-67cd-11ec-8473-0242ac1c0002\"] = window[\"id297\"].setSelectedTabIndex(0);\n",
              "//# sourceURL=js_d214117c6e"
            ],
            "text/plain": [
              "<IPython.core.display.Javascript object>"
            ]
          },
          "metadata": {}
        },
        {
          "output_type": "stream",
          "name": "stdout",
          "text": [
            "The following query is stored at \u001b[1mShowbusinessStats_sql\u001b[0m variable.\n",
            "ATTACH DATABASE 'showbusiness.db' AS db;\n",
            "ATTACH DATABASE ':memory:' AS logica_test;\n",
            "\n",
            "SELECT\n",
            "  (SELECT\n",
            "  SUM(MagicalEntangle(1, x_4.value)) AS logica_value\n",
            "FROM\n",
            "  db.movie AS db_movie, JSON_EACH(JSON_ARRAY(0)) as x_4) AS num_movies,\n",
            "  (SELECT\n",
            "  SUM(MagicalEntangle(1, x_6.value)) AS logica_value\n",
            "FROM\n",
            "  db.person AS db_person, JSON_EACH(JSON_ARRAY(0)) as x_6) AS num_people,\n",
            "  (SELECT\n",
            "  SUM(MagicalEntangle(1, x_8.value)) AS logica_value\n",
            "FROM\n",
            "  db.rockband AS db_rockband, JSON_EACH(JSON_ARRAY(0)) as x_8) AS num_bands;\n"
          ]
        },
        {
          "output_type": "display_data",
          "data": {
            "application/javascript": [
              "window[\"6dd086ea-67cd-11ec-8473-0242ac1c0002\"] = google.colab.output.setActiveOutputArea(window[\"6dce5ab4-67cd-11ec-8473-0242ac1c0002\"]);\n",
              "//# sourceURL=js_a51f870307"
            ],
            "text/plain": [
              "<IPython.core.display.Javascript object>"
            ]
          },
          "metadata": {}
        },
        {
          "output_type": "display_data",
          "data": {
            "application/javascript": [
              "window[\"6dd1fdc2-67cd-11ec-8473-0242ac1c0002\"] = google.colab.output.setActiveOutputArea(window[\"6dca0ce8-67cd-11ec-8473-0242ac1c0002\"]);\n",
              "//# sourceURL=js_e5c60020ba"
            ],
            "text/plain": [
              "<IPython.core.display.Javascript object>"
            ]
          },
          "metadata": {}
        },
        {
          "output_type": "display_data",
          "data": {
            "application/javascript": [
              "window[\"6dd3b75c-67cd-11ec-8473-0242ac1c0002\"] = google.colab.output.getActiveOutputArea();\n",
              "//# sourceURL=js_64d8dc616e"
            ],
            "text/plain": [
              "<IPython.core.display.Javascript object>"
            ]
          },
          "metadata": {}
        },
        {
          "output_type": "display_data",
          "data": {
            "application/javascript": [
              "window[\"6dd404e6-67cd-11ec-8473-0242ac1c0002\"] = document.querySelector(\"#id292_content_15\");\n",
              "//# sourceURL=js_61e776aeeb"
            ],
            "text/plain": [
              "<IPython.core.display.Javascript object>"
            ]
          },
          "metadata": {}
        },
        {
          "output_type": "display_data",
          "data": {
            "application/javascript": [
              "window[\"6dd454aa-67cd-11ec-8473-0242ac1c0002\"] = google.colab.output.setActiveOutputArea(window[\"6dd404e6-67cd-11ec-8473-0242ac1c0002\"]);\n",
              "//# sourceURL=js_f4ab30aa3a"
            ],
            "text/plain": [
              "<IPython.core.display.Javascript object>"
            ]
          },
          "metadata": {}
        },
        {
          "output_type": "display_data",
          "data": {
            "application/javascript": [
              "window[\"6dd4a28e-67cd-11ec-8473-0242ac1c0002\"] = window[\"id292\"].setSelectedTabIndex(15);\n",
              "//# sourceURL=js_8909096e60"
            ],
            "text/plain": [
              "<IPython.core.display.Javascript object>"
            ]
          },
          "metadata": {}
        },
        {
          "output_type": "display_data",
          "data": {
            "application/javascript": [
              "window[\"6dd7f2f4-67cd-11ec-8473-0242ac1c0002\"] = google.colab.output.setActiveOutputArea(window[\"6dd3b75c-67cd-11ec-8473-0242ac1c0002\"]);\n",
              "//# sourceURL=js_f73e4c1bd1"
            ],
            "text/plain": [
              "<IPython.core.display.Javascript object>"
            ]
          },
          "metadata": {}
        },
        {
          "output_type": "display_data",
          "data": {
            "application/javascript": [
              "window[\"6dd9c1b0-67cd-11ec-8473-0242ac1c0002\"] = google.colab.output.getActiveOutputArea();\n",
              "//# sourceURL=js_2cefb708e9"
            ],
            "text/plain": [
              "<IPython.core.display.Javascript object>"
            ]
          },
          "metadata": {}
        },
        {
          "output_type": "display_data",
          "data": {
            "application/javascript": [
              "window[\"6dda1b56-67cd-11ec-8473-0242ac1c0002\"] = document.querySelector(\"#id292_content_5\");\n",
              "//# sourceURL=js_72a6c9aee4"
            ],
            "text/plain": [
              "<IPython.core.display.Javascript object>"
            ]
          },
          "metadata": {}
        },
        {
          "output_type": "display_data",
          "data": {
            "application/javascript": [
              "window[\"6dda81fe-67cd-11ec-8473-0242ac1c0002\"] = google.colab.output.setActiveOutputArea(window[\"6dda1b56-67cd-11ec-8473-0242ac1c0002\"]);\n",
              "//# sourceURL=js_0a33f2bea0"
            ],
            "text/plain": [
              "<IPython.core.display.Javascript object>"
            ]
          },
          "metadata": {}
        },
        {
          "output_type": "display_data",
          "data": {
            "application/javascript": [
              "window[\"6ddad3d4-67cd-11ec-8473-0242ac1c0002\"] = window[\"id292\"].setSelectedTabIndex(5);\n",
              "//# sourceURL=js_e0dae6013e"
            ],
            "text/plain": [
              "<IPython.core.display.Javascript object>"
            ]
          },
          "metadata": {}
        },
        {
          "output_type": "display_data",
          "data": {
            "text/html": [
              "<link rel=stylesheet type=text/css href='/nbextensions/google.colab/tabbar.css'></link>"
            ],
            "text/plain": [
              "<IPython.core.display.HTML object>"
            ]
          },
          "metadata": {}
        },
        {
          "output_type": "display_data",
          "data": {
            "text/html": [
              "<script src='/nbextensions/google.colab/tabbar_main.min.js'></script>"
            ],
            "text/plain": [
              "<IPython.core.display.HTML object>"
            ]
          },
          "metadata": {}
        },
        {
          "output_type": "display_data",
          "data": {
            "text/html": [
              "<div id=\"id298\"></div>"
            ],
            "text/plain": [
              "<IPython.core.display.HTML object>"
            ]
          },
          "metadata": {}
        },
        {
          "output_type": "display_data",
          "data": {
            "application/javascript": [
              "window[\"6ddce034-67cd-11ec-8473-0242ac1c0002\"] = colab_lib.createTabBar({\"location\": \"top\", \"elementId\": \"id298\", \"tabNames\": [\"SQL\", \"Result\"], \"initialSelection\": 0, \"contentBorder\": [\"0px\"], \"contentHeight\": [\"initial\"], \"borderColor\": [\"#a7a7a7\"]});\n",
              "//# sourceURL=js_15ee9ce662"
            ],
            "text/plain": [
              "<IPython.core.display.Javascript object>"
            ]
          },
          "metadata": {}
        },
        {
          "output_type": "display_data",
          "data": {
            "application/javascript": [
              "window[\"6ddd2e36-67cd-11ec-8473-0242ac1c0002\"] = window[\"id298\"].setSelectedTabIndex(0);\n",
              "//# sourceURL=js_35e80a98d1"
            ],
            "text/plain": [
              "<IPython.core.display.Javascript object>"
            ]
          },
          "metadata": {}
        },
        {
          "output_type": "display_data",
          "data": {
            "application/javascript": [
              "window[\"6dded114-67cd-11ec-8473-0242ac1c0002\"] = google.colab.output.getActiveOutputArea();\n",
              "//# sourceURL=js_9c28e20c8c"
            ],
            "text/plain": [
              "<IPython.core.display.Javascript object>"
            ]
          },
          "metadata": {}
        },
        {
          "output_type": "display_data",
          "data": {
            "application/javascript": [
              "window[\"6ddf2ee8-67cd-11ec-8473-0242ac1c0002\"] = document.querySelector(\"#id298_content_0\");\n",
              "//# sourceURL=js_88ae2d2ac7"
            ],
            "text/plain": [
              "<IPython.core.display.Javascript object>"
            ]
          },
          "metadata": {}
        },
        {
          "output_type": "display_data",
          "data": {
            "application/javascript": [
              "window[\"6ddf795c-67cd-11ec-8473-0242ac1c0002\"] = google.colab.output.setActiveOutputArea(window[\"6ddf2ee8-67cd-11ec-8473-0242ac1c0002\"]);\n",
              "//# sourceURL=js_aa4041363a"
            ],
            "text/plain": [
              "<IPython.core.display.Javascript object>"
            ]
          },
          "metadata": {}
        },
        {
          "output_type": "display_data",
          "data": {
            "application/javascript": [
              "window[\"6ddfdaaa-67cd-11ec-8473-0242ac1c0002\"] = window[\"id298\"].setSelectedTabIndex(0);\n",
              "//# sourceURL=js_3e30d78472"
            ],
            "text/plain": [
              "<IPython.core.display.Javascript object>"
            ]
          },
          "metadata": {}
        },
        {
          "output_type": "stream",
          "name": "stdout",
          "text": [
            "The following query is stored at \u001b[1mRockArtistInMovie_sql\u001b[0m variable.\n",
            "ATTACH DATABASE 'showbusiness.db' AS db;\n",
            "ATTACH DATABASE ':memory:' AS logica_test;\n",
            "\n",
            "DROP TABLE IF EXISTS logica_test.RockArtist;\n",
            "CREATE TABLE logica_test.RockArtist AS SELECT\n",
            "  x_8.value AS person_id\n",
            "FROM\n",
            "  db.rockband AS db_rockband, JSON_EACH(db_rockband.members) as x_8\n",
            "GROUP BY x_8.value;\n",
            "\n",
            "-- Interacting with table logica_test.RockArtist\n",
            "\n",
            "SELECT\n",
            "  x_4.value AS person_id,\n",
            "  db_movie.name AS movie\n",
            "FROM\n",
            "  db.movie AS db_movie, logica_test.RockArtist AS RockArtist, JSON_EACH(db_movie.casting) as x_4\n",
            "WHERE\n",
            "  (RockArtist.person_id = x_4.value)\n",
            "GROUP BY x_4.value, db_movie.name;\n"
          ]
        },
        {
          "output_type": "display_data",
          "data": {
            "application/javascript": [
              "window[\"6de10f6a-67cd-11ec-8473-0242ac1c0002\"] = google.colab.output.setActiveOutputArea(window[\"6dded114-67cd-11ec-8473-0242ac1c0002\"]);\n",
              "//# sourceURL=js_8def9b2e0d"
            ],
            "text/plain": [
              "<IPython.core.display.Javascript object>"
            ]
          },
          "metadata": {}
        },
        {
          "output_type": "display_data",
          "data": {
            "application/javascript": [
              "window[\"6de29aec-67cd-11ec-8473-0242ac1c0002\"] = google.colab.output.setActiveOutputArea(window[\"6dd9c1b0-67cd-11ec-8473-0242ac1c0002\"]);\n",
              "//# sourceURL=js_fc7f9555cc"
            ],
            "text/plain": [
              "<IPython.core.display.Javascript object>"
            ]
          },
          "metadata": {}
        },
        {
          "output_type": "display_data",
          "data": {
            "application/javascript": [
              "window[\"6de4f512-67cd-11ec-8473-0242ac1c0002\"] = google.colab.output.getActiveOutputArea();\n",
              "//# sourceURL=js_2214354f78"
            ],
            "text/plain": [
              "<IPython.core.display.Javascript object>"
            ]
          },
          "metadata": {}
        },
        {
          "output_type": "display_data",
          "data": {
            "application/javascript": [
              "window[\"6de54d14-67cd-11ec-8473-0242ac1c0002\"] = document.querySelector(\"#id292_content_15\");\n",
              "//# sourceURL=js_fb93928518"
            ],
            "text/plain": [
              "<IPython.core.display.Javascript object>"
            ]
          },
          "metadata": {}
        },
        {
          "output_type": "display_data",
          "data": {
            "application/javascript": [
              "window[\"6de5a426-67cd-11ec-8473-0242ac1c0002\"] = google.colab.output.setActiveOutputArea(window[\"6de54d14-67cd-11ec-8473-0242ac1c0002\"]);\n",
              "//# sourceURL=js_fcff662cbd"
            ],
            "text/plain": [
              "<IPython.core.display.Javascript object>"
            ]
          },
          "metadata": {}
        },
        {
          "output_type": "display_data",
          "data": {
            "application/javascript": [
              "window[\"6de5f93a-67cd-11ec-8473-0242ac1c0002\"] = window[\"id292\"].setSelectedTabIndex(15);\n",
              "//# sourceURL=js_e2de532c68"
            ],
            "text/plain": [
              "<IPython.core.display.Javascript object>"
            ]
          },
          "metadata": {}
        },
        {
          "output_type": "display_data",
          "data": {
            "application/javascript": [
              "window[\"6deb449e-67cd-11ec-8473-0242ac1c0002\"] = google.colab.output.setActiveOutputArea(window[\"6de4f512-67cd-11ec-8473-0242ac1c0002\"]);\n",
              "//# sourceURL=js_d200000a87"
            ],
            "text/plain": [
              "<IPython.core.display.Javascript object>"
            ]
          },
          "metadata": {}
        },
        {
          "output_type": "display_data",
          "data": {
            "application/javascript": [
              "window[\"6ded3358-67cd-11ec-8473-0242ac1c0002\"] = google.colab.output.getActiveOutputArea();\n",
              "//# sourceURL=js_b10dab159c"
            ],
            "text/plain": [
              "<IPython.core.display.Javascript object>"
            ]
          },
          "metadata": {}
        },
        {
          "output_type": "display_data",
          "data": {
            "application/javascript": [
              "window[\"6ded8088-67cd-11ec-8473-0242ac1c0002\"] = document.querySelector(\"#id292_content_6\");\n",
              "//# sourceURL=js_6ba0875f3a"
            ],
            "text/plain": [
              "<IPython.core.display.Javascript object>"
            ]
          },
          "metadata": {}
        },
        {
          "output_type": "display_data",
          "data": {
            "application/javascript": [
              "window[\"6dedd272-67cd-11ec-8473-0242ac1c0002\"] = google.colab.output.setActiveOutputArea(window[\"6ded8088-67cd-11ec-8473-0242ac1c0002\"]);\n",
              "//# sourceURL=js_d110dde9d6"
            ],
            "text/plain": [
              "<IPython.core.display.Javascript object>"
            ]
          },
          "metadata": {}
        },
        {
          "output_type": "display_data",
          "data": {
            "application/javascript": [
              "window[\"6dee178c-67cd-11ec-8473-0242ac1c0002\"] = window[\"id292\"].setSelectedTabIndex(6);\n",
              "//# sourceURL=js_b1b325eaf6"
            ],
            "text/plain": [
              "<IPython.core.display.Javascript object>"
            ]
          },
          "metadata": {}
        },
        {
          "output_type": "display_data",
          "data": {
            "text/html": [
              "<link rel=stylesheet type=text/css href='/nbextensions/google.colab/tabbar.css'></link>"
            ],
            "text/plain": [
              "<IPython.core.display.HTML object>"
            ]
          },
          "metadata": {}
        },
        {
          "output_type": "display_data",
          "data": {
            "text/html": [
              "<script src='/nbextensions/google.colab/tabbar_main.min.js'></script>"
            ],
            "text/plain": [
              "<IPython.core.display.HTML object>"
            ]
          },
          "metadata": {}
        },
        {
          "output_type": "display_data",
          "data": {
            "text/html": [
              "<div id=\"id299\"></div>"
            ],
            "text/plain": [
              "<IPython.core.display.HTML object>"
            ]
          },
          "metadata": {}
        },
        {
          "output_type": "display_data",
          "data": {
            "application/javascript": [
              "window[\"6df00f9c-67cd-11ec-8473-0242ac1c0002\"] = colab_lib.createTabBar({\"location\": \"top\", \"elementId\": \"id299\", \"tabNames\": [\"SQL\", \"Result\"], \"initialSelection\": 0, \"contentBorder\": [\"0px\"], \"contentHeight\": [\"initial\"], \"borderColor\": [\"#a7a7a7\"]});\n",
              "//# sourceURL=js_3ecdc5cfad"
            ],
            "text/plain": [
              "<IPython.core.display.Javascript object>"
            ]
          },
          "metadata": {}
        },
        {
          "output_type": "display_data",
          "data": {
            "application/javascript": [
              "window[\"6df06320-67cd-11ec-8473-0242ac1c0002\"] = window[\"id299\"].setSelectedTabIndex(0);\n",
              "//# sourceURL=js_3cb39488dc"
            ],
            "text/plain": [
              "<IPython.core.display.Javascript object>"
            ]
          },
          "metadata": {}
        },
        {
          "output_type": "display_data",
          "data": {
            "application/javascript": [
              "window[\"6df1fd48-67cd-11ec-8473-0242ac1c0002\"] = google.colab.output.getActiveOutputArea();\n",
              "//# sourceURL=js_c022950611"
            ],
            "text/plain": [
              "<IPython.core.display.Javascript object>"
            ]
          },
          "metadata": {}
        },
        {
          "output_type": "display_data",
          "data": {
            "application/javascript": [
              "window[\"6df25734-67cd-11ec-8473-0242ac1c0002\"] = document.querySelector(\"#id299_content_0\");\n",
              "//# sourceURL=js_df1a6a24f1"
            ],
            "text/plain": [
              "<IPython.core.display.Javascript object>"
            ]
          },
          "metadata": {}
        },
        {
          "output_type": "display_data",
          "data": {
            "application/javascript": [
              "window[\"6df2aa68-67cd-11ec-8473-0242ac1c0002\"] = google.colab.output.setActiveOutputArea(window[\"6df25734-67cd-11ec-8473-0242ac1c0002\"]);\n",
              "//# sourceURL=js_f67bff6095"
            ],
            "text/plain": [
              "<IPython.core.display.Javascript object>"
            ]
          },
          "metadata": {}
        },
        {
          "output_type": "display_data",
          "data": {
            "application/javascript": [
              "window[\"6df2f1b2-67cd-11ec-8473-0242ac1c0002\"] = window[\"id299\"].setSelectedTabIndex(0);\n",
              "//# sourceURL=js_dfde374dcf"
            ],
            "text/plain": [
              "<IPython.core.display.Javascript object>"
            ]
          },
          "metadata": {}
        },
        {
          "output_type": "stream",
          "name": "stdout",
          "text": [
            "The following query is stored at \u001b[1mRockBandCastedInMovies_sql\u001b[0m variable.\n",
            "ATTACH DATABASE 'showbusiness.db' AS db;\n",
            "ATTACH DATABASE ':memory:' AS logica_test;\n",
            "\n",
            "DROP TABLE IF EXISTS logica_test.RockArtist;\n",
            "CREATE TABLE logica_test.RockArtist AS SELECT\n",
            "  x_16.value AS person_id\n",
            "FROM\n",
            "  db.rockband AS t_0_db_rockband, JSON_EACH(t_0_db_rockband.members) as x_16\n",
            "GROUP BY x_16.value;\n",
            "\n",
            "-- Interacting with table logica_test.RockArtist\n",
            "\n",
            "DROP TABLE IF EXISTS logica_test.RockArtistInMovie;\n",
            "CREATE TABLE logica_test.RockArtistInMovie AS SELECT\n",
            "  x_12.value AS person_id,\n",
            "  db_movie.name AS movie\n",
            "FROM\n",
            "  db.movie AS db_movie, logica_test.RockArtist AS RockArtist, JSON_EACH(db_movie.casting) as x_12\n",
            "WHERE\n",
            "  (RockArtist.person_id = x_12.value)\n",
            "GROUP BY x_12.value, db_movie.name;\n",
            "\n",
            "-- Interacting with table logica_test.RockArtistInMovie\n",
            "\n",
            "SELECT\n",
            "  db_rockband.band_id AS rockband_id,\n",
            "  db_rockband.name AS rockband_name,\n",
            "  DistinctListAgg(RockArtistInMovie.movie) AS movies\n",
            "FROM\n",
            "  db.rockband AS db_rockband, logica_test.RockArtistInMovie AS RockArtistInMovie, JSON_EACH(db_rockband.members) as x_5\n",
            "WHERE\n",
            "  (RockArtistInMovie.person_id = x_5.value)\n",
            "GROUP BY db_rockband.band_id, db_rockband.name;\n"
          ]
        },
        {
          "output_type": "display_data",
          "data": {
            "application/javascript": [
              "window[\"6df42154-67cd-11ec-8473-0242ac1c0002\"] = google.colab.output.setActiveOutputArea(window[\"6df1fd48-67cd-11ec-8473-0242ac1c0002\"]);\n",
              "//# sourceURL=js_f303a9a4d1"
            ],
            "text/plain": [
              "<IPython.core.display.Javascript object>"
            ]
          },
          "metadata": {}
        },
        {
          "output_type": "display_data",
          "data": {
            "application/javascript": [
              "window[\"6df59232-67cd-11ec-8473-0242ac1c0002\"] = google.colab.output.setActiveOutputArea(window[\"6ded3358-67cd-11ec-8473-0242ac1c0002\"]);\n",
              "//# sourceURL=js_b9e836a17a"
            ],
            "text/plain": [
              "<IPython.core.display.Javascript object>"
            ]
          },
          "metadata": {}
        },
        {
          "output_type": "display_data",
          "data": {
            "application/javascript": [
              "window[\"6df7532e-67cd-11ec-8473-0242ac1c0002\"] = google.colab.output.getActiveOutputArea();\n",
              "//# sourceURL=js_afa7c8d32c"
            ],
            "text/plain": [
              "<IPython.core.display.Javascript object>"
            ]
          },
          "metadata": {}
        },
        {
          "output_type": "display_data",
          "data": {
            "application/javascript": [
              "window[\"6df7a554-67cd-11ec-8473-0242ac1c0002\"] = document.querySelector(\"#id292_content_15\");\n",
              "//# sourceURL=js_c3b0100822"
            ],
            "text/plain": [
              "<IPython.core.display.Javascript object>"
            ]
          },
          "metadata": {}
        },
        {
          "output_type": "display_data",
          "data": {
            "application/javascript": [
              "window[\"6df7ee24-67cd-11ec-8473-0242ac1c0002\"] = google.colab.output.setActiveOutputArea(window[\"6df7a554-67cd-11ec-8473-0242ac1c0002\"]);\n",
              "//# sourceURL=js_036010bb58"
            ],
            "text/plain": [
              "<IPython.core.display.Javascript object>"
            ]
          },
          "metadata": {}
        },
        {
          "output_type": "display_data",
          "data": {
            "application/javascript": [
              "window[\"6df84982-67cd-11ec-8473-0242ac1c0002\"] = window[\"id292\"].setSelectedTabIndex(15);\n",
              "//# sourceURL=js_b0e3e8749e"
            ],
            "text/plain": [
              "<IPython.core.display.Javascript object>"
            ]
          },
          "metadata": {}
        },
        {
          "output_type": "display_data",
          "data": {
            "application/javascript": [
              "window[\"6e042b08-67cd-11ec-8473-0242ac1c0002\"] = google.colab.output.setActiveOutputArea(window[\"6df7532e-67cd-11ec-8473-0242ac1c0002\"]);\n",
              "//# sourceURL=js_33bc92a698"
            ],
            "text/plain": [
              "<IPython.core.display.Javascript object>"
            ]
          },
          "metadata": {}
        },
        {
          "output_type": "display_data",
          "data": {
            "application/javascript": [
              "window[\"6e0721be-67cd-11ec-8473-0242ac1c0002\"] = google.colab.output.getActiveOutputArea();\n",
              "//# sourceURL=js_6b86027568"
            ],
            "text/plain": [
              "<IPython.core.display.Javascript object>"
            ]
          },
          "metadata": {}
        },
        {
          "output_type": "display_data",
          "data": {
            "application/javascript": [
              "window[\"6e07a7c4-67cd-11ec-8473-0242ac1c0002\"] = document.querySelector(\"#id292_content_7\");\n",
              "//# sourceURL=js_2d59cd62d4"
            ],
            "text/plain": [
              "<IPython.core.display.Javascript object>"
            ]
          },
          "metadata": {}
        },
        {
          "output_type": "display_data",
          "data": {
            "application/javascript": [
              "window[\"6e08299c-67cd-11ec-8473-0242ac1c0002\"] = google.colab.output.setActiveOutputArea(window[\"6e07a7c4-67cd-11ec-8473-0242ac1c0002\"]);\n",
              "//# sourceURL=js_28112f7194"
            ],
            "text/plain": [
              "<IPython.core.display.Javascript object>"
            ]
          },
          "metadata": {}
        },
        {
          "output_type": "display_data",
          "data": {
            "application/javascript": [
              "window[\"6e08b1e6-67cd-11ec-8473-0242ac1c0002\"] = window[\"id292\"].setSelectedTabIndex(7);\n",
              "//# sourceURL=js_54a107c7d7"
            ],
            "text/plain": [
              "<IPython.core.display.Javascript object>"
            ]
          },
          "metadata": {}
        },
        {
          "output_type": "display_data",
          "data": {
            "text/html": [
              "<link rel=stylesheet type=text/css href='/nbextensions/google.colab/tabbar.css'></link>"
            ],
            "text/plain": [
              "<IPython.core.display.HTML object>"
            ]
          },
          "metadata": {}
        },
        {
          "output_type": "display_data",
          "data": {
            "text/html": [
              "<script src='/nbextensions/google.colab/tabbar_main.min.js'></script>"
            ],
            "text/plain": [
              "<IPython.core.display.HTML object>"
            ]
          },
          "metadata": {}
        },
        {
          "output_type": "display_data",
          "data": {
            "text/html": [
              "<div id=\"id300\"></div>"
            ],
            "text/plain": [
              "<IPython.core.display.HTML object>"
            ]
          },
          "metadata": {}
        },
        {
          "output_type": "display_data",
          "data": {
            "application/javascript": [
              "window[\"6e0b25b6-67cd-11ec-8473-0242ac1c0002\"] = colab_lib.createTabBar({\"location\": \"top\", \"elementId\": \"id300\", \"tabNames\": [\"SQL\", \"Result\"], \"initialSelection\": 0, \"contentBorder\": [\"0px\"], \"contentHeight\": [\"initial\"], \"borderColor\": [\"#a7a7a7\"]});\n",
              "//# sourceURL=js_9f0b346948"
            ],
            "text/plain": [
              "<IPython.core.display.Javascript object>"
            ]
          },
          "metadata": {}
        },
        {
          "output_type": "display_data",
          "data": {
            "application/javascript": [
              "window[\"6e0b8cb8-67cd-11ec-8473-0242ac1c0002\"] = window[\"id300\"].setSelectedTabIndex(0);\n",
              "//# sourceURL=js_bc53b2401c"
            ],
            "text/plain": [
              "<IPython.core.display.Javascript object>"
            ]
          },
          "metadata": {}
        },
        {
          "output_type": "display_data",
          "data": {
            "application/javascript": [
              "window[\"6e0d631c-67cd-11ec-8473-0242ac1c0002\"] = google.colab.output.getActiveOutputArea();\n",
              "//# sourceURL=js_fa93c91399"
            ],
            "text/plain": [
              "<IPython.core.display.Javascript object>"
            ]
          },
          "metadata": {}
        },
        {
          "output_type": "display_data",
          "data": {
            "application/javascript": [
              "window[\"6e0db04c-67cd-11ec-8473-0242ac1c0002\"] = document.querySelector(\"#id300_content_0\");\n",
              "//# sourceURL=js_394254dc19"
            ],
            "text/plain": [
              "<IPython.core.display.Javascript object>"
            ]
          },
          "metadata": {}
        },
        {
          "output_type": "display_data",
          "data": {
            "application/javascript": [
              "window[\"6e0e1582-67cd-11ec-8473-0242ac1c0002\"] = google.colab.output.setActiveOutputArea(window[\"6e0db04c-67cd-11ec-8473-0242ac1c0002\"]);\n",
              "//# sourceURL=js_96afddffe4"
            ],
            "text/plain": [
              "<IPython.core.display.Javascript object>"
            ]
          },
          "metadata": {}
        },
        {
          "output_type": "display_data",
          "data": {
            "application/javascript": [
              "window[\"6e0e9426-67cd-11ec-8473-0242ac1c0002\"] = window[\"id300\"].setSelectedTabIndex(0);\n",
              "//# sourceURL=js_64b07b701c"
            ],
            "text/plain": [
              "<IPython.core.display.Javascript object>"
            ]
          },
          "metadata": {}
        },
        {
          "output_type": "stream",
          "name": "stdout",
          "text": [
            "The following query is stored at \u001b[1mRockBandMovies_sql\u001b[0m variable.\n",
            "ATTACH DATABASE 'showbusiness.db' AS db;\n",
            "ATTACH DATABASE ':memory:' AS logica_test;\n",
            "\n",
            "DROP TABLE IF EXISTS logica_test.RockArtist;\n",
            "CREATE TABLE logica_test.RockArtist AS SELECT\n",
            "  x_22.value AS person_id\n",
            "FROM\n",
            "  db.rockband AS t_1_db_rockband, JSON_EACH(t_1_db_rockband.members) as x_22\n",
            "GROUP BY x_22.value;\n",
            "\n",
            "-- Interacting with table logica_test.RockArtist\n",
            "\n",
            "DROP TABLE IF EXISTS logica_test.RockArtistInMovie;\n",
            "CREATE TABLE logica_test.RockArtistInMovie AS SELECT\n",
            "  x_18.value AS person_id,\n",
            "  db_movie.name AS movie\n",
            "FROM\n",
            "  db.movie AS db_movie, logica_test.RockArtist AS RockArtist, JSON_EACH(db_movie.casting) as x_18\n",
            "WHERE\n",
            "  (RockArtist.person_id = x_18.value)\n",
            "GROUP BY x_18.value, db_movie.name;\n",
            "\n",
            "-- Interacting with table logica_test.RockArtistInMovie\n",
            "\n",
            "WITH t_0_RockBandCastedInMovies AS (SELECT\n",
            "  db_rockband.band_id AS rockband_id,\n",
            "  db_rockband.name AS rockband_name,\n",
            "  DistinctListAgg(RockArtistInMovie.movie) AS movies\n",
            "FROM\n",
            "  db.rockband AS db_rockband, logica_test.RockArtistInMovie AS RockArtistInMovie, JSON_EACH(db_rockband.members) as x_11\n",
            "WHERE\n",
            "  (RockArtistInMovie.person_id = x_11.value)\n",
            "GROUP BY db_rockband.band_id, db_rockband.name)\n",
            "SELECT * FROM (\n",
            "  \n",
            "    SELECT\n",
            "      RockBandCastedInMovies.rockband_id AS rockband_id,\n",
            "      RockBandCastedInMovies.rockband_name AS rockband_name,\n",
            "      RockBandCastedInMovies.movies AS movies\n",
            "    FROM\n",
            "      t_0_RockBandCastedInMovies AS RockBandCastedInMovies\n",
            "   UNION ALL\n",
            "  \n",
            "    SELECT\n",
            "      db_rockband.band_id AS rockband_id,\n",
            "      db_rockband.name AS rockband_name,\n",
            "      JSON_ARRAY() AS movies\n",
            "    FROM\n",
            "      db.rockband AS db_rockband\n",
            "    WHERE\n",
            "      ((SELECT\n",
            "        MIN(MagicalEntangle(1, x_6.value)) AS logica_value\n",
            "      FROM\n",
            "        t_0_RockBandCastedInMovies AS RockBandCastedInMovies, JSON_EACH(JSON_ARRAY(0)) as x_6\n",
            "      WHERE\n",
            "        (RockBandCastedInMovies.rockband_id = db_rockband.band_id)) IS NULL)\n",
            "  \n",
            ") AS UNUSED_TABLE_NAME  ;\n"
          ]
        },
        {
          "output_type": "display_data",
          "data": {
            "application/javascript": [
              "window[\"6e0ffdb6-67cd-11ec-8473-0242ac1c0002\"] = google.colab.output.setActiveOutputArea(window[\"6e0d631c-67cd-11ec-8473-0242ac1c0002\"]);\n",
              "//# sourceURL=js_c3cbc0ba4e"
            ],
            "text/plain": [
              "<IPython.core.display.Javascript object>"
            ]
          },
          "metadata": {}
        },
        {
          "output_type": "display_data",
          "data": {
            "application/javascript": [
              "window[\"6e1323d8-67cd-11ec-8473-0242ac1c0002\"] = google.colab.output.setActiveOutputArea(window[\"6e0721be-67cd-11ec-8473-0242ac1c0002\"]);\n",
              "//# sourceURL=js_8e56161b8f"
            ],
            "text/plain": [
              "<IPython.core.display.Javascript object>"
            ]
          },
          "metadata": {}
        },
        {
          "output_type": "display_data",
          "data": {
            "application/javascript": [
              "window[\"6e16db22-67cd-11ec-8473-0242ac1c0002\"] = google.colab.output.getActiveOutputArea();\n",
              "//# sourceURL=js_58e53a9ae4"
            ],
            "text/plain": [
              "<IPython.core.display.Javascript object>"
            ]
          },
          "metadata": {}
        },
        {
          "output_type": "display_data",
          "data": {
            "application/javascript": [
              "window[\"6e17539a-67cd-11ec-8473-0242ac1c0002\"] = document.querySelector(\"#id292_content_15\");\n",
              "//# sourceURL=js_894f6b5e97"
            ],
            "text/plain": [
              "<IPython.core.display.Javascript object>"
            ]
          },
          "metadata": {}
        },
        {
          "output_type": "display_data",
          "data": {
            "application/javascript": [
              "window[\"6e1807e0-67cd-11ec-8473-0242ac1c0002\"] = google.colab.output.setActiveOutputArea(window[\"6e17539a-67cd-11ec-8473-0242ac1c0002\"]);\n",
              "//# sourceURL=js_d15650d455"
            ],
            "text/plain": [
              "<IPython.core.display.Javascript object>"
            ]
          },
          "metadata": {}
        },
        {
          "output_type": "display_data",
          "data": {
            "application/javascript": [
              "window[\"6e18f394-67cd-11ec-8473-0242ac1c0002\"] = window[\"id292\"].setSelectedTabIndex(15);\n",
              "//# sourceURL=js_e6ae0417f9"
            ],
            "text/plain": [
              "<IPython.core.display.Javascript object>"
            ]
          },
          "metadata": {}
        },
        {
          "output_type": "display_data",
          "data": {
            "application/javascript": [
              "window[\"6e28b95a-67cd-11ec-8473-0242ac1c0002\"] = google.colab.output.setActiveOutputArea(window[\"6e16db22-67cd-11ec-8473-0242ac1c0002\"]);\n",
              "//# sourceURL=js_b413bfad25"
            ],
            "text/plain": [
              "<IPython.core.display.Javascript object>"
            ]
          },
          "metadata": {}
        },
        {
          "output_type": "display_data",
          "data": {
            "application/javascript": [
              "window[\"6e2bd2c0-67cd-11ec-8473-0242ac1c0002\"] = google.colab.output.getActiveOutputArea();\n",
              "//# sourceURL=js_0f612ff25b"
            ],
            "text/plain": [
              "<IPython.core.display.Javascript object>"
            ]
          },
          "metadata": {}
        },
        {
          "output_type": "display_data",
          "data": {
            "application/javascript": [
              "window[\"6e2c20e0-67cd-11ec-8473-0242ac1c0002\"] = document.querySelector(\"#id292_content_8\");\n",
              "//# sourceURL=js_65a5ccf618"
            ],
            "text/plain": [
              "<IPython.core.display.Javascript object>"
            ]
          },
          "metadata": {}
        },
        {
          "output_type": "display_data",
          "data": {
            "application/javascript": [
              "window[\"6e2c8314-67cd-11ec-8473-0242ac1c0002\"] = google.colab.output.setActiveOutputArea(window[\"6e2c20e0-67cd-11ec-8473-0242ac1c0002\"]);\n",
              "//# sourceURL=js_e672510b80"
            ],
            "text/plain": [
              "<IPython.core.display.Javascript object>"
            ]
          },
          "metadata": {}
        },
        {
          "output_type": "display_data",
          "data": {
            "application/javascript": [
              "window[\"6e2cd7b0-67cd-11ec-8473-0242ac1c0002\"] = window[\"id292\"].setSelectedTabIndex(8);\n",
              "//# sourceURL=js_55d7dfc9c4"
            ],
            "text/plain": [
              "<IPython.core.display.Javascript object>"
            ]
          },
          "metadata": {}
        },
        {
          "output_type": "display_data",
          "data": {
            "text/html": [
              "<link rel=stylesheet type=text/css href='/nbextensions/google.colab/tabbar.css'></link>"
            ],
            "text/plain": [
              "<IPython.core.display.HTML object>"
            ]
          },
          "metadata": {}
        },
        {
          "output_type": "display_data",
          "data": {
            "text/html": [
              "<script src='/nbextensions/google.colab/tabbar_main.min.js'></script>"
            ],
            "text/plain": [
              "<IPython.core.display.HTML object>"
            ]
          },
          "metadata": {}
        },
        {
          "output_type": "display_data",
          "data": {
            "text/html": [
              "<div id=\"id301\"></div>"
            ],
            "text/plain": [
              "<IPython.core.display.HTML object>"
            ]
          },
          "metadata": {}
        },
        {
          "output_type": "display_data",
          "data": {
            "application/javascript": [
              "window[\"6e2f8b18-67cd-11ec-8473-0242ac1c0002\"] = colab_lib.createTabBar({\"location\": \"top\", \"elementId\": \"id301\", \"tabNames\": [\"SQL\", \"Result\"], \"initialSelection\": 0, \"contentBorder\": [\"0px\"], \"contentHeight\": [\"initial\"], \"borderColor\": [\"#a7a7a7\"]});\n",
              "//# sourceURL=js_39588beb85"
            ],
            "text/plain": [
              "<IPython.core.display.Javascript object>"
            ]
          },
          "metadata": {}
        },
        {
          "output_type": "display_data",
          "data": {
            "application/javascript": [
              "window[\"6e2fe93c-67cd-11ec-8473-0242ac1c0002\"] = window[\"id301\"].setSelectedTabIndex(0);\n",
              "//# sourceURL=js_a674bb1550"
            ],
            "text/plain": [
              "<IPython.core.display.Javascript object>"
            ]
          },
          "metadata": {}
        },
        {
          "output_type": "display_data",
          "data": {
            "application/javascript": [
              "window[\"6e323f2a-67cd-11ec-8473-0242ac1c0002\"] = google.colab.output.getActiveOutputArea();\n",
              "//# sourceURL=js_eae5aa9b49"
            ],
            "text/plain": [
              "<IPython.core.display.Javascript object>"
            ]
          },
          "metadata": {}
        },
        {
          "output_type": "display_data",
          "data": {
            "application/javascript": [
              "window[\"6e328cf0-67cd-11ec-8473-0242ac1c0002\"] = document.querySelector(\"#id301_content_0\");\n",
              "//# sourceURL=js_4b9767f590"
            ],
            "text/plain": [
              "<IPython.core.display.Javascript object>"
            ]
          },
          "metadata": {}
        },
        {
          "output_type": "display_data",
          "data": {
            "application/javascript": [
              "window[\"6e32f0d2-67cd-11ec-8473-0242ac1c0002\"] = google.colab.output.setActiveOutputArea(window[\"6e328cf0-67cd-11ec-8473-0242ac1c0002\"]);\n",
              "//# sourceURL=js_3d4e831e07"
            ],
            "text/plain": [
              "<IPython.core.display.Javascript object>"
            ]
          },
          "metadata": {}
        },
        {
          "output_type": "display_data",
          "data": {
            "application/javascript": [
              "window[\"6e333fd8-67cd-11ec-8473-0242ac1c0002\"] = window[\"id301\"].setSelectedTabIndex(0);\n",
              "//# sourceURL=js_ce5c760bf6"
            ],
            "text/plain": [
              "<IPython.core.display.Javascript object>"
            ]
          },
          "metadata": {}
        },
        {
          "output_type": "stream",
          "name": "stdout",
          "text": [
            "The following query is stored at \u001b[1mMockMedalistTest_sql\u001b[0m variable.\n",
            "ATTACH DATABASE 'showbusiness.db' AS db;\n",
            "ATTACH DATABASE ':memory:' AS logica_test;\n",
            "\n",
            "DROP TABLE IF EXISTS logica_test.Circle_f1;\n",
            "CREATE TABLE logica_test.Circle_f1 AS WITH t_3_MockMovie AS (SELECT * FROM (\n",
            "  \n",
            "    SELECT\n",
            "      'MovieWih_A' AS name,\n",
            "      JSON_ARRAY('A') AS casting\n",
            "   UNION ALL\n",
            "  \n",
            "    SELECT\n",
            "      'MovieWih_B' AS name,\n",
            "      JSON_ARRAY('B') AS casting\n",
            "   UNION ALL\n",
            "  \n",
            "    SELECT\n",
            "      'MovieWih_C' AS name,\n",
            "      JSON_ARRAY('C') AS casting\n",
            "  \n",
            ") AS UNUSED_TABLE_NAME  )\n",
            "SELECT * FROM (\n",
            "  \n",
            "    SELECT\n",
            "      x_30.value AS person1_id,\n",
            "      x_31.value AS person2_id\n",
            "    FROM\n",
            "      t_3_MockMovie AS MockMovie, JSON_EACH(MockMovie.casting) as x_30, JSON_EACH(MockMovie.casting) as x_31\n",
            "    WHERE\n",
            "      (x_30.value != x_31.value)\n",
            "   UNION ALL\n",
            "  \n",
            "    SELECT\n",
            "      x_35.value AS person1_id,\n",
            "      x_36.value AS person2_id\n",
            "    FROM\n",
            "      db.rockband AS db_rockband, JSON_EACH(db_rockband.members) as x_35, JSON_EACH(db_rockband.members) as x_36\n",
            "    WHERE\n",
            "      (x_35.value != x_36.value)\n",
            "  \n",
            ") AS UNUSED_TABLE_NAME  ;\n",
            "\n",
            "-- Interacting with table logica_test.Circle_f1\n",
            "\n",
            "DROP TABLE IF EXISTS logica_test.SocialCircleAwards_f1;\n",
            "CREATE TABLE logica_test.SocialCircleAwards_f1 AS WITH t_1_MockAward AS (SELECT * FROM (\n",
            "  \n",
            "    SELECT\n",
            "      x_20.value AS awardee_id,\n",
            "      x_21.value AS award\n",
            "    FROM\n",
            "      JSON_EACH(JSON_ARRAY('A', 'C', 'D')) as x_20, JSON_EACH(JSON_ARRAY('Award 1', 'Award 2', 'Award 3', 'Award 4', 'Award 5', 'Award 6')) as x_21\n",
            "   UNION ALL\n",
            "  \n",
            "    SELECT\n",
            "      'B' AS awardee_id,\n",
            "      'Only B''s award 1' AS award\n",
            "   UNION ALL\n",
            "  \n",
            "    SELECT\n",
            "      'B' AS awardee_id,\n",
            "      'Only B''s award 2' AS award\n",
            "  \n",
            ") AS UNUSED_TABLE_NAME  )\n",
            "SELECT\n",
            "  Circle_f1.person1_id AS person_id,\n",
            "  DistinctListAgg(t_2_MockAward.award) AS friends_awards\n",
            "FROM\n",
            "  logica_test.Circle_f1 AS Circle_f1, t_1_MockAward AS t_2_MockAward\n",
            "WHERE\n",
            "  (t_2_MockAward.awardee_id = Circle_f1.person2_id)\n",
            "GROUP BY Circle_f1.person1_id;\n",
            "\n",
            "-- Interacting with table logica_test.SocialCircleAwards_f1\n",
            "\n",
            "DROP TABLE IF EXISTS logica_test.MedalistPartial_f1;\n",
            "CREATE TABLE logica_test.MedalistPartial_f1 AS WITH t_0_MockPerson AS (SELECT * FROM (\n",
            "  \n",
            "    SELECT\n",
            "      'A' AS person_id,\n",
            "      'A' AS name\n",
            "   UNION ALL\n",
            "  \n",
            "    SELECT\n",
            "      'B' AS person_id,\n",
            "      'B' AS name\n",
            "   UNION ALL\n",
            "  \n",
            "    SELECT\n",
            "      'C' AS person_id,\n",
            "      'C' AS name\n",
            "   UNION ALL\n",
            "  \n",
            "    SELECT\n",
            "      'D' AS person_id,\n",
            "      'D' AS name\n",
            "  \n",
            ") AS UNUSED_TABLE_NAME  ),\n",
            "t_1_MockAward AS (SELECT * FROM (\n",
            "  \n",
            "    SELECT\n",
            "      x_20.value AS awardee_id,\n",
            "      x_21.value AS award\n",
            "    FROM\n",
            "      JSON_EACH(JSON_ARRAY('A', 'C', 'D')) as x_20, JSON_EACH(JSON_ARRAY('Award 1', 'Award 2', 'Award 3', 'Award 4', 'Award 5', 'Award 6')) as x_21\n",
            "   UNION ALL\n",
            "  \n",
            "    SELECT\n",
            "      'B' AS awardee_id,\n",
            "      'Only B''s award 1' AS award\n",
            "   UNION ALL\n",
            "  \n",
            "    SELECT\n",
            "      'B' AS awardee_id,\n",
            "      'Only B''s award 2' AS award\n",
            "  \n",
            ") AS UNUSED_TABLE_NAME  )\n",
            "SELECT\n",
            "  MockPerson.name AS person_name,\n",
            "  MockPerson.person_id AS person_id,\n",
            "  JSON_GROUP_ARRAY(MockAward.award) AS awards,\n",
            "  SocialCircleAwards_f1.friends_awards AS social_circle_awards\n",
            "FROM\n",
            "  t_0_MockPerson AS MockPerson, t_1_MockAward AS MockAward, logica_test.SocialCircleAwards_f1 AS SocialCircleAwards_f1\n",
            "WHERE\n",
            "  (MockAward.awardee_id = MockPerson.person_id) AND\n",
            "  (SocialCircleAwards_f1.person_id = MockPerson.person_id)\n",
            "GROUP BY MockPerson.name, MockPerson.person_id, SocialCircleAwards_f1.friends_awards;\n",
            "\n",
            "-- Interacting with table logica_test.MedalistPartial_f1\n",
            "\n",
            "SELECT\n",
            "  MedalistPartial_f1.person_name AS person_name,\n",
            "  MedalistPartial_f1.person_id AS person_id,\n",
            "  JSON_ARRAY_LENGTH(MedalistPartial_f1.awards) AS number_of_awards,\n",
            "  MedalistPartial_f1.awards AS awards,\n",
            "  MedalistPartial_f1.social_circle_awards AS social_circle_awards\n",
            "FROM\n",
            "  logica_test.MedalistPartial_f1 AS MedalistPartial_f1\n",
            "WHERE\n",
            "  (JSON_ARRAY_LENGTH(MedalistPartial_f1.awards) > 5)\n",
            "GROUP BY MedalistPartial_f1.person_name, MedalistPartial_f1.person_id, JSON_ARRAY_LENGTH(MedalistPartial_f1.awards), MedalistPartial_f1.awards, MedalistPartial_f1.social_circle_awards;\n"
          ]
        },
        {
          "output_type": "display_data",
          "data": {
            "application/javascript": [
              "window[\"6e3522ee-67cd-11ec-8473-0242ac1c0002\"] = google.colab.output.setActiveOutputArea(window[\"6e323f2a-67cd-11ec-8473-0242ac1c0002\"]);\n",
              "//# sourceURL=js_8fc8e8b40a"
            ],
            "text/plain": [
              "<IPython.core.display.Javascript object>"
            ]
          },
          "metadata": {}
        },
        {
          "output_type": "display_data",
          "data": {
            "application/javascript": [
              "window[\"6e375208-67cd-11ec-8473-0242ac1c0002\"] = google.colab.output.setActiveOutputArea(window[\"6e2bd2c0-67cd-11ec-8473-0242ac1c0002\"]);\n",
              "//# sourceURL=js_0f25e38566"
            ],
            "text/plain": [
              "<IPython.core.display.Javascript object>"
            ]
          },
          "metadata": {}
        },
        {
          "output_type": "display_data",
          "data": {
            "application/javascript": [
              "window[\"6e39bad4-67cd-11ec-8473-0242ac1c0002\"] = google.colab.output.getActiveOutputArea();\n",
              "//# sourceURL=js_2a9e9daf30"
            ],
            "text/plain": [
              "<IPython.core.display.Javascript object>"
            ]
          },
          "metadata": {}
        },
        {
          "output_type": "display_data",
          "data": {
            "application/javascript": [
              "window[\"6e3a1808-67cd-11ec-8473-0242ac1c0002\"] = document.querySelector(\"#id292_content_15\");\n",
              "//# sourceURL=js_2a0b76bd4a"
            ],
            "text/plain": [
              "<IPython.core.display.Javascript object>"
            ]
          },
          "metadata": {}
        },
        {
          "output_type": "display_data",
          "data": {
            "application/javascript": [
              "window[\"6e3a8946-67cd-11ec-8473-0242ac1c0002\"] = google.colab.output.setActiveOutputArea(window[\"6e3a1808-67cd-11ec-8473-0242ac1c0002\"]);\n",
              "//# sourceURL=js_9e8c07bb0f"
            ],
            "text/plain": [
              "<IPython.core.display.Javascript object>"
            ]
          },
          "metadata": {}
        },
        {
          "output_type": "display_data",
          "data": {
            "application/javascript": [
              "window[\"6e3afcbe-67cd-11ec-8473-0242ac1c0002\"] = window[\"id292\"].setSelectedTabIndex(15);\n",
              "//# sourceURL=js_644fbbf53a"
            ],
            "text/plain": [
              "<IPython.core.display.Javascript object>"
            ]
          },
          "metadata": {}
        },
        {
          "output_type": "display_data",
          "data": {
            "application/javascript": [
              "window[\"6e3ee842-67cd-11ec-8473-0242ac1c0002\"] = google.colab.output.setActiveOutputArea(window[\"6e39bad4-67cd-11ec-8473-0242ac1c0002\"]);\n",
              "//# sourceURL=js_591e6c16c1"
            ],
            "text/plain": [
              "<IPython.core.display.Javascript object>"
            ]
          },
          "metadata": {}
        },
        {
          "output_type": "display_data",
          "data": {
            "application/javascript": [
              "window[\"6e418ffc-67cd-11ec-8473-0242ac1c0002\"] = google.colab.output.getActiveOutputArea();\n",
              "//# sourceURL=js_cf7be137e4"
            ],
            "text/plain": [
              "<IPython.core.display.Javascript object>"
            ]
          },
          "metadata": {}
        },
        {
          "output_type": "display_data",
          "data": {
            "application/javascript": [
              "window[\"6e41fcda-67cd-11ec-8473-0242ac1c0002\"] = document.querySelector(\"#id292_content_9\");\n",
              "//# sourceURL=js_71177d142c"
            ],
            "text/plain": [
              "<IPython.core.display.Javascript object>"
            ]
          },
          "metadata": {}
        },
        {
          "output_type": "display_data",
          "data": {
            "application/javascript": [
              "window[\"6e425c02-67cd-11ec-8473-0242ac1c0002\"] = google.colab.output.setActiveOutputArea(window[\"6e41fcda-67cd-11ec-8473-0242ac1c0002\"]);\n",
              "//# sourceURL=js_0a51a1a4f9"
            ],
            "text/plain": [
              "<IPython.core.display.Javascript object>"
            ]
          },
          "metadata": {}
        },
        {
          "output_type": "display_data",
          "data": {
            "application/javascript": [
              "window[\"6e42c412-67cd-11ec-8473-0242ac1c0002\"] = window[\"id292\"].setSelectedTabIndex(9);\n",
              "//# sourceURL=js_ea447f16ec"
            ],
            "text/plain": [
              "<IPython.core.display.Javascript object>"
            ]
          },
          "metadata": {}
        },
        {
          "output_type": "display_data",
          "data": {
            "text/html": [
              "<link rel=stylesheet type=text/css href='/nbextensions/google.colab/tabbar.css'></link>"
            ],
            "text/plain": [
              "<IPython.core.display.HTML object>"
            ]
          },
          "metadata": {}
        },
        {
          "output_type": "display_data",
          "data": {
            "text/html": [
              "<script src='/nbextensions/google.colab/tabbar_main.min.js'></script>"
            ],
            "text/plain": [
              "<IPython.core.display.HTML object>"
            ]
          },
          "metadata": {}
        },
        {
          "output_type": "display_data",
          "data": {
            "text/html": [
              "<div id=\"id302\"></div>"
            ],
            "text/plain": [
              "<IPython.core.display.HTML object>"
            ]
          },
          "metadata": {}
        },
        {
          "output_type": "display_data",
          "data": {
            "application/javascript": [
              "window[\"6e44d270-67cd-11ec-8473-0242ac1c0002\"] = colab_lib.createTabBar({\"location\": \"top\", \"elementId\": \"id302\", \"tabNames\": [\"SQL\", \"Result\"], \"initialSelection\": 0, \"contentBorder\": [\"0px\"], \"contentHeight\": [\"initial\"], \"borderColor\": [\"#a7a7a7\"]});\n",
              "//# sourceURL=js_04bdb16355"
            ],
            "text/plain": [
              "<IPython.core.display.Javascript object>"
            ]
          },
          "metadata": {}
        },
        {
          "output_type": "display_data",
          "data": {
            "application/javascript": [
              "window[\"6e455768-67cd-11ec-8473-0242ac1c0002\"] = window[\"id302\"].setSelectedTabIndex(0);\n",
              "//# sourceURL=js_81a84c13aa"
            ],
            "text/plain": [
              "<IPython.core.display.Javascript object>"
            ]
          },
          "metadata": {}
        },
        {
          "output_type": "display_data",
          "data": {
            "application/javascript": [
              "window[\"6e4755c2-67cd-11ec-8473-0242ac1c0002\"] = google.colab.output.getActiveOutputArea();\n",
              "//# sourceURL=js_187683579f"
            ],
            "text/plain": [
              "<IPython.core.display.Javascript object>"
            ]
          },
          "metadata": {}
        },
        {
          "output_type": "display_data",
          "data": {
            "application/javascript": [
              "window[\"6e47b9cc-67cd-11ec-8473-0242ac1c0002\"] = document.querySelector(\"#id302_content_0\");\n",
              "//# sourceURL=js_0e21b25792"
            ],
            "text/plain": [
              "<IPython.core.display.Javascript object>"
            ]
          },
          "metadata": {}
        },
        {
          "output_type": "display_data",
          "data": {
            "application/javascript": [
              "window[\"6e481a16-67cd-11ec-8473-0242ac1c0002\"] = google.colab.output.setActiveOutputArea(window[\"6e47b9cc-67cd-11ec-8473-0242ac1c0002\"]);\n",
              "//# sourceURL=js_eb49e5793b"
            ],
            "text/plain": [
              "<IPython.core.display.Javascript object>"
            ]
          },
          "metadata": {}
        },
        {
          "output_type": "display_data",
          "data": {
            "application/javascript": [
              "window[\"6e48eefa-67cd-11ec-8473-0242ac1c0002\"] = window[\"id302\"].setSelectedTabIndex(0);\n",
              "//# sourceURL=js_440965eba7"
            ],
            "text/plain": [
              "<IPython.core.display.Javascript object>"
            ]
          },
          "metadata": {}
        },
        {
          "output_type": "stream",
          "name": "stdout",
          "text": [
            "The following query is stored at \u001b[1mMockAward_sql\u001b[0m variable.\n",
            "ATTACH DATABASE 'showbusiness.db' AS db;\n",
            "ATTACH DATABASE ':memory:' AS logica_test;\n",
            "\n",
            "SELECT * FROM (\n",
            "  \n",
            "    SELECT\n",
            "      x_2.value AS awardee_id,\n",
            "      x_3.value AS award\n",
            "    FROM\n",
            "      JSON_EACH(JSON_ARRAY('A', 'C', 'D')) as x_2, JSON_EACH(JSON_ARRAY('Award 1', 'Award 2', 'Award 3', 'Award 4', 'Award 5', 'Award 6')) as x_3\n",
            "   UNION ALL\n",
            "  \n",
            "    SELECT\n",
            "      'B' AS awardee_id,\n",
            "      'Only B''s award 1' AS award\n",
            "   UNION ALL\n",
            "  \n",
            "    SELECT\n",
            "      'B' AS awardee_id,\n",
            "      'Only B''s award 2' AS award\n",
            "  \n",
            ") AS UNUSED_TABLE_NAME  ;\n"
          ]
        },
        {
          "output_type": "display_data",
          "data": {
            "application/javascript": [
              "window[\"6e4abb36-67cd-11ec-8473-0242ac1c0002\"] = google.colab.output.setActiveOutputArea(window[\"6e4755c2-67cd-11ec-8473-0242ac1c0002\"]);\n",
              "//# sourceURL=js_d59c31f129"
            ],
            "text/plain": [
              "<IPython.core.display.Javascript object>"
            ]
          },
          "metadata": {}
        },
        {
          "output_type": "display_data",
          "data": {
            "application/javascript": [
              "window[\"6e4c6e7c-67cd-11ec-8473-0242ac1c0002\"] = google.colab.output.setActiveOutputArea(window[\"6e418ffc-67cd-11ec-8473-0242ac1c0002\"]);\n",
              "//# sourceURL=js_ee0fa4dad8"
            ],
            "text/plain": [
              "<IPython.core.display.Javascript object>"
            ]
          },
          "metadata": {}
        },
        {
          "output_type": "display_data",
          "data": {
            "application/javascript": [
              "window[\"6e4ef00c-67cd-11ec-8473-0242ac1c0002\"] = google.colab.output.getActiveOutputArea();\n",
              "//# sourceURL=js_d85ace2c5f"
            ],
            "text/plain": [
              "<IPython.core.display.Javascript object>"
            ]
          },
          "metadata": {}
        },
        {
          "output_type": "display_data",
          "data": {
            "application/javascript": [
              "window[\"6e4f55e2-67cd-11ec-8473-0242ac1c0002\"] = document.querySelector(\"#id292_content_15\");\n",
              "//# sourceURL=js_fbdbb772bb"
            ],
            "text/plain": [
              "<IPython.core.display.Javascript object>"
            ]
          },
          "metadata": {}
        },
        {
          "output_type": "display_data",
          "data": {
            "application/javascript": [
              "window[\"6e4fb960-67cd-11ec-8473-0242ac1c0002\"] = google.colab.output.setActiveOutputArea(window[\"6e4f55e2-67cd-11ec-8473-0242ac1c0002\"]);\n",
              "//# sourceURL=js_140d085de4"
            ],
            "text/plain": [
              "<IPython.core.display.Javascript object>"
            ]
          },
          "metadata": {}
        },
        {
          "output_type": "display_data",
          "data": {
            "application/javascript": [
              "window[\"6e502b66-67cd-11ec-8473-0242ac1c0002\"] = window[\"id292\"].setSelectedTabIndex(15);\n",
              "//# sourceURL=js_5ba67e2dd8"
            ],
            "text/plain": [
              "<IPython.core.display.Javascript object>"
            ]
          },
          "metadata": {}
        },
        {
          "output_type": "display_data",
          "data": {
            "application/javascript": [
              "window[\"6e5fc0a8-67cd-11ec-8473-0242ac1c0002\"] = google.colab.output.setActiveOutputArea(window[\"6e4ef00c-67cd-11ec-8473-0242ac1c0002\"]);\n",
              "//# sourceURL=js_bbeb30154c"
            ],
            "text/plain": [
              "<IPython.core.display.Javascript object>"
            ]
          },
          "metadata": {}
        },
        {
          "output_type": "display_data",
          "data": {
            "application/javascript": [
              "window[\"6e62aa52-67cd-11ec-8473-0242ac1c0002\"] = google.colab.output.getActiveOutputArea();\n",
              "//# sourceURL=js_f3c0f6082d"
            ],
            "text/plain": [
              "<IPython.core.display.Javascript object>"
            ]
          },
          "metadata": {}
        },
        {
          "output_type": "display_data",
          "data": {
            "application/javascript": [
              "window[\"6e631474-67cd-11ec-8473-0242ac1c0002\"] = document.querySelector(\"#id292_content_10\");\n",
              "//# sourceURL=js_d361bc9767"
            ],
            "text/plain": [
              "<IPython.core.display.Javascript object>"
            ]
          },
          "metadata": {}
        },
        {
          "output_type": "display_data",
          "data": {
            "application/javascript": [
              "window[\"6e636ce4-67cd-11ec-8473-0242ac1c0002\"] = google.colab.output.setActiveOutputArea(window[\"6e631474-67cd-11ec-8473-0242ac1c0002\"]);\n",
              "//# sourceURL=js_010ba156e7"
            ],
            "text/plain": [
              "<IPython.core.display.Javascript object>"
            ]
          },
          "metadata": {}
        },
        {
          "output_type": "display_data",
          "data": {
            "application/javascript": [
              "window[\"6e6402bc-67cd-11ec-8473-0242ac1c0002\"] = window[\"id292\"].setSelectedTabIndex(10);\n",
              "//# sourceURL=js_788387213d"
            ],
            "text/plain": [
              "<IPython.core.display.Javascript object>"
            ]
          },
          "metadata": {}
        },
        {
          "output_type": "display_data",
          "data": {
            "text/html": [
              "<link rel=stylesheet type=text/css href='/nbextensions/google.colab/tabbar.css'></link>"
            ],
            "text/plain": [
              "<IPython.core.display.HTML object>"
            ]
          },
          "metadata": {}
        },
        {
          "output_type": "display_data",
          "data": {
            "text/html": [
              "<script src='/nbextensions/google.colab/tabbar_main.min.js'></script>"
            ],
            "text/plain": [
              "<IPython.core.display.HTML object>"
            ]
          },
          "metadata": {}
        },
        {
          "output_type": "display_data",
          "data": {
            "text/html": [
              "<div id=\"id303\"></div>"
            ],
            "text/plain": [
              "<IPython.core.display.HTML object>"
            ]
          },
          "metadata": {}
        },
        {
          "output_type": "display_data",
          "data": {
            "application/javascript": [
              "window[\"6e66e978-67cd-11ec-8473-0242ac1c0002\"] = colab_lib.createTabBar({\"location\": \"top\", \"elementId\": \"id303\", \"tabNames\": [\"SQL\", \"Result\"], \"initialSelection\": 0, \"contentBorder\": [\"0px\"], \"contentHeight\": [\"initial\"], \"borderColor\": [\"#a7a7a7\"]});\n",
              "//# sourceURL=js_a99e89716a"
            ],
            "text/plain": [
              "<IPython.core.display.Javascript object>"
            ]
          },
          "metadata": {}
        },
        {
          "output_type": "display_data",
          "data": {
            "application/javascript": [
              "window[\"6e6740f8-67cd-11ec-8473-0242ac1c0002\"] = window[\"id303\"].setSelectedTabIndex(0);\n",
              "//# sourceURL=js_01f2cffe74"
            ],
            "text/plain": [
              "<IPython.core.display.Javascript object>"
            ]
          },
          "metadata": {}
        },
        {
          "output_type": "display_data",
          "data": {
            "application/javascript": [
              "window[\"6e68cf4a-67cd-11ec-8473-0242ac1c0002\"] = google.colab.output.getActiveOutputArea();\n",
              "//# sourceURL=js_401bcbf588"
            ],
            "text/plain": [
              "<IPython.core.display.Javascript object>"
            ]
          },
          "metadata": {}
        },
        {
          "output_type": "display_data",
          "data": {
            "application/javascript": [
              "window[\"6e69690a-67cd-11ec-8473-0242ac1c0002\"] = document.querySelector(\"#id303_content_0\");\n",
              "//# sourceURL=js_36920f874d"
            ],
            "text/plain": [
              "<IPython.core.display.Javascript object>"
            ]
          },
          "metadata": {}
        },
        {
          "output_type": "display_data",
          "data": {
            "application/javascript": [
              "window[\"6e69cf12-67cd-11ec-8473-0242ac1c0002\"] = google.colab.output.setActiveOutputArea(window[\"6e69690a-67cd-11ec-8473-0242ac1c0002\"]);\n",
              "//# sourceURL=js_0be003cb44"
            ],
            "text/plain": [
              "<IPython.core.display.Javascript object>"
            ]
          },
          "metadata": {}
        },
        {
          "output_type": "display_data",
          "data": {
            "application/javascript": [
              "window[\"6e6a2d04-67cd-11ec-8473-0242ac1c0002\"] = window[\"id303\"].setSelectedTabIndex(0);\n",
              "//# sourceURL=js_a357404ab8"
            ],
            "text/plain": [
              "<IPython.core.display.Javascript object>"
            ]
          },
          "metadata": {}
        },
        {
          "output_type": "stream",
          "name": "stdout",
          "text": [
            "The following query is stored at \u001b[1mMedalistCountTest_sql\u001b[0m variable.\n",
            "ATTACH DATABASE 'showbusiness.db' AS db;\n",
            "ATTACH DATABASE ':memory:' AS logica_test;\n",
            "\n",
            "DROP TABLE IF EXISTS logica_test.Circle_f1;\n",
            "CREATE TABLE logica_test.Circle_f1 AS WITH t_4_MockMovie AS (SELECT * FROM (\n",
            "  \n",
            "    SELECT\n",
            "      'MovieWih_A' AS name,\n",
            "      JSON_ARRAY('A') AS casting\n",
            "   UNION ALL\n",
            "  \n",
            "    SELECT\n",
            "      'MovieWih_B' AS name,\n",
            "      JSON_ARRAY('B') AS casting\n",
            "   UNION ALL\n",
            "  \n",
            "    SELECT\n",
            "      'MovieWih_C' AS name,\n",
            "      JSON_ARRAY('C') AS casting\n",
            "  \n",
            ") AS UNUSED_TABLE_NAME  )\n",
            "SELECT * FROM (\n",
            "  \n",
            "    SELECT\n",
            "      x_30.value AS person1_id,\n",
            "      x_31.value AS person2_id\n",
            "    FROM\n",
            "      t_4_MockMovie AS MockMovie, JSON_EACH(MockMovie.casting) as x_30, JSON_EACH(MockMovie.casting) as x_31\n",
            "    WHERE\n",
            "      (x_30.value != x_31.value)\n",
            "   UNION ALL\n",
            "  \n",
            "    SELECT\n",
            "      x_35.value AS person1_id,\n",
            "      x_36.value AS person2_id\n",
            "    FROM\n",
            "      db.rockband AS db_rockband, JSON_EACH(db_rockband.members) as x_35, JSON_EACH(db_rockband.members) as x_36\n",
            "    WHERE\n",
            "      (x_35.value != x_36.value)\n",
            "  \n",
            ") AS UNUSED_TABLE_NAME  ;\n",
            "\n",
            "-- Interacting with table logica_test.Circle_f1\n",
            "\n",
            "DROP TABLE IF EXISTS logica_test.SocialCircleAwards_f1;\n",
            "CREATE TABLE logica_test.SocialCircleAwards_f1 AS WITH t_2_MockAward AS (SELECT * FROM (\n",
            "  \n",
            "    SELECT\n",
            "      x_20.value AS awardee_id,\n",
            "      x_21.value AS award\n",
            "    FROM\n",
            "      JSON_EACH(JSON_ARRAY('A', 'C', 'D')) as x_20, JSON_EACH(JSON_ARRAY('Award 1', 'Award 2', 'Award 3', 'Award 4', 'Award 5', 'Award 6')) as x_21\n",
            "   UNION ALL\n",
            "  \n",
            "    SELECT\n",
            "      'B' AS awardee_id,\n",
            "      'Only B''s award 1' AS award\n",
            "   UNION ALL\n",
            "  \n",
            "    SELECT\n",
            "      'B' AS awardee_id,\n",
            "      'Only B''s award 2' AS award\n",
            "  \n",
            ") AS UNUSED_TABLE_NAME  )\n",
            "SELECT\n",
            "  Circle_f1.person1_id AS person_id,\n",
            "  DistinctListAgg(t_3_MockAward.award) AS friends_awards\n",
            "FROM\n",
            "  logica_test.Circle_f1 AS Circle_f1, t_2_MockAward AS t_3_MockAward\n",
            "WHERE\n",
            "  (t_3_MockAward.awardee_id = Circle_f1.person2_id)\n",
            "GROUP BY Circle_f1.person1_id;\n",
            "\n",
            "-- Interacting with table logica_test.SocialCircleAwards_f1\n",
            "\n",
            "DROP TABLE IF EXISTS logica_test.MedalistPartial_f1;\n",
            "CREATE TABLE logica_test.MedalistPartial_f1 AS WITH t_1_MockPerson AS (SELECT * FROM (\n",
            "  \n",
            "    SELECT\n",
            "      'A' AS person_id,\n",
            "      'A' AS name\n",
            "   UNION ALL\n",
            "  \n",
            "    SELECT\n",
            "      'B' AS person_id,\n",
            "      'B' AS name\n",
            "   UNION ALL\n",
            "  \n",
            "    SELECT\n",
            "      'C' AS person_id,\n",
            "      'C' AS name\n",
            "   UNION ALL\n",
            "  \n",
            "    SELECT\n",
            "      'D' AS person_id,\n",
            "      'D' AS name\n",
            "  \n",
            ") AS UNUSED_TABLE_NAME  ),\n",
            "t_2_MockAward AS (SELECT * FROM (\n",
            "  \n",
            "    SELECT\n",
            "      x_20.value AS awardee_id,\n",
            "      x_21.value AS award\n",
            "    FROM\n",
            "      JSON_EACH(JSON_ARRAY('A', 'C', 'D')) as x_20, JSON_EACH(JSON_ARRAY('Award 1', 'Award 2', 'Award 3', 'Award 4', 'Award 5', 'Award 6')) as x_21\n",
            "   UNION ALL\n",
            "  \n",
            "    SELECT\n",
            "      'B' AS awardee_id,\n",
            "      'Only B''s award 1' AS award\n",
            "   UNION ALL\n",
            "  \n",
            "    SELECT\n",
            "      'B' AS awardee_id,\n",
            "      'Only B''s award 2' AS award\n",
            "  \n",
            ") AS UNUSED_TABLE_NAME  )\n",
            "SELECT\n",
            "  MockPerson.name AS person_name,\n",
            "  MockPerson.person_id AS person_id,\n",
            "  JSON_GROUP_ARRAY(MockAward.award) AS awards,\n",
            "  SocialCircleAwards_f1.friends_awards AS social_circle_awards\n",
            "FROM\n",
            "  t_1_MockPerson AS MockPerson, t_2_MockAward AS MockAward, logica_test.SocialCircleAwards_f1 AS SocialCircleAwards_f1\n",
            "WHERE\n",
            "  (MockAward.awardee_id = MockPerson.person_id) AND\n",
            "  (SocialCircleAwards_f1.person_id = MockPerson.person_id)\n",
            "GROUP BY MockPerson.name, MockPerson.person_id, SocialCircleAwards_f1.friends_awards;\n",
            "\n",
            "-- Interacting with table logica_test.MedalistPartial_f1\n",
            "\n",
            "WITH t_0_MockMedalistTest AS (SELECT\n",
            "  MedalistPartial_f1.person_name AS person_name,\n",
            "  MedalistPartial_f1.person_id AS person_id,\n",
            "  JSON_ARRAY_LENGTH(MedalistPartial_f1.awards) AS number_of_awards,\n",
            "  MedalistPartial_f1.awards AS awards,\n",
            "  MedalistPartial_f1.social_circle_awards AS social_circle_awards\n",
            "FROM\n",
            "  logica_test.MedalistPartial_f1 AS MedalistPartial_f1\n",
            "WHERE\n",
            "  (JSON_ARRAY_LENGTH(MedalistPartial_f1.awards) > 5)\n",
            "GROUP BY MedalistPartial_f1.person_name, MedalistPartial_f1.person_id, JSON_ARRAY_LENGTH(MedalistPartial_f1.awards), MedalistPartial_f1.awards, MedalistPartial_f1.social_circle_awards)\n",
            "SELECT\n",
            "  SUM(1) AS logica_value\n",
            "FROM\n",
            "  t_0_MockMedalistTest AS MockMedalistTest;\n"
          ]
        },
        {
          "output_type": "display_data",
          "data": {
            "application/javascript": [
              "window[\"6e6c7b90-67cd-11ec-8473-0242ac1c0002\"] = google.colab.output.setActiveOutputArea(window[\"6e68cf4a-67cd-11ec-8473-0242ac1c0002\"]);\n",
              "//# sourceURL=js_b8156cca79"
            ],
            "text/plain": [
              "<IPython.core.display.Javascript object>"
            ]
          },
          "metadata": {}
        },
        {
          "output_type": "display_data",
          "data": {
            "application/javascript": [
              "window[\"6e6eecfe-67cd-11ec-8473-0242ac1c0002\"] = google.colab.output.setActiveOutputArea(window[\"6e62aa52-67cd-11ec-8473-0242ac1c0002\"]);\n",
              "//# sourceURL=js_86b10d4343"
            ],
            "text/plain": [
              "<IPython.core.display.Javascript object>"
            ]
          },
          "metadata": {}
        },
        {
          "output_type": "display_data",
          "data": {
            "application/javascript": [
              "window[\"6e72d968-67cd-11ec-8473-0242ac1c0002\"] = google.colab.output.getActiveOutputArea();\n",
              "//# sourceURL=js_2fd80cd0d9"
            ],
            "text/plain": [
              "<IPython.core.display.Javascript object>"
            ]
          },
          "metadata": {}
        },
        {
          "output_type": "display_data",
          "data": {
            "application/javascript": [
              "window[\"6e737828-67cd-11ec-8473-0242ac1c0002\"] = document.querySelector(\"#id292_content_15\");\n",
              "//# sourceURL=js_a8c2b262a6"
            ],
            "text/plain": [
              "<IPython.core.display.Javascript object>"
            ]
          },
          "metadata": {}
        },
        {
          "output_type": "display_data",
          "data": {
            "application/javascript": [
              "window[\"6e73d246-67cd-11ec-8473-0242ac1c0002\"] = google.colab.output.setActiveOutputArea(window[\"6e737828-67cd-11ec-8473-0242ac1c0002\"]);\n",
              "//# sourceURL=js_1cab4a9bb2"
            ],
            "text/plain": [
              "<IPython.core.display.Javascript object>"
            ]
          },
          "metadata": {}
        },
        {
          "output_type": "display_data",
          "data": {
            "application/javascript": [
              "window[\"6e742408-67cd-11ec-8473-0242ac1c0002\"] = window[\"id292\"].setSelectedTabIndex(15);\n",
              "//# sourceURL=js_78db6ad231"
            ],
            "text/plain": [
              "<IPython.core.display.Javascript object>"
            ]
          },
          "metadata": {}
        },
        {
          "output_type": "display_data",
          "data": {
            "application/javascript": [
              "window[\"6e83a004-67cd-11ec-8473-0242ac1c0002\"] = google.colab.output.setActiveOutputArea(window[\"6e72d968-67cd-11ec-8473-0242ac1c0002\"]);\n",
              "//# sourceURL=js_6e9428022f"
            ],
            "text/plain": [
              "<IPython.core.display.Javascript object>"
            ]
          },
          "metadata": {}
        },
        {
          "output_type": "display_data",
          "data": {
            "application/javascript": [
              "window[\"6e865cf4-67cd-11ec-8473-0242ac1c0002\"] = google.colab.output.getActiveOutputArea();\n",
              "//# sourceURL=js_4168366e3f"
            ],
            "text/plain": [
              "<IPython.core.display.Javascript object>"
            ]
          },
          "metadata": {}
        },
        {
          "output_type": "display_data",
          "data": {
            "application/javascript": [
              "window[\"6e86ac36-67cd-11ec-8473-0242ac1c0002\"] = document.querySelector(\"#id292_content_11\");\n",
              "//# sourceURL=js_7b98c1b55f"
            ],
            "text/plain": [
              "<IPython.core.display.Javascript object>"
            ]
          },
          "metadata": {}
        },
        {
          "output_type": "display_data",
          "data": {
            "application/javascript": [
              "window[\"6e871cca-67cd-11ec-8473-0242ac1c0002\"] = google.colab.output.setActiveOutputArea(window[\"6e86ac36-67cd-11ec-8473-0242ac1c0002\"]);\n",
              "//# sourceURL=js_31ada72c6d"
            ],
            "text/plain": [
              "<IPython.core.display.Javascript object>"
            ]
          },
          "metadata": {}
        },
        {
          "output_type": "display_data",
          "data": {
            "application/javascript": [
              "window[\"6e880a5e-67cd-11ec-8473-0242ac1c0002\"] = window[\"id292\"].setSelectedTabIndex(11);\n",
              "//# sourceURL=js_87ebda0dc6"
            ],
            "text/plain": [
              "<IPython.core.display.Javascript object>"
            ]
          },
          "metadata": {}
        },
        {
          "output_type": "display_data",
          "data": {
            "text/html": [
              "<link rel=stylesheet type=text/css href='/nbextensions/google.colab/tabbar.css'></link>"
            ],
            "text/plain": [
              "<IPython.core.display.HTML object>"
            ]
          },
          "metadata": {}
        },
        {
          "output_type": "display_data",
          "data": {
            "text/html": [
              "<script src='/nbextensions/google.colab/tabbar_main.min.js'></script>"
            ],
            "text/plain": [
              "<IPython.core.display.HTML object>"
            ]
          },
          "metadata": {}
        },
        {
          "output_type": "display_data",
          "data": {
            "text/html": [
              "<div id=\"id304\"></div>"
            ],
            "text/plain": [
              "<IPython.core.display.HTML object>"
            ]
          },
          "metadata": {}
        },
        {
          "output_type": "display_data",
          "data": {
            "application/javascript": [
              "window[\"6e8a0b9c-67cd-11ec-8473-0242ac1c0002\"] = colab_lib.createTabBar({\"location\": \"top\", \"elementId\": \"id304\", \"tabNames\": [\"SQL\", \"Result\"], \"initialSelection\": 0, \"contentBorder\": [\"0px\"], \"contentHeight\": [\"initial\"], \"borderColor\": [\"#a7a7a7\"]});\n",
              "//# sourceURL=js_40890ba721"
            ],
            "text/plain": [
              "<IPython.core.display.Javascript object>"
            ]
          },
          "metadata": {}
        },
        {
          "output_type": "display_data",
          "data": {
            "application/javascript": [
              "window[\"6e8a5462-67cd-11ec-8473-0242ac1c0002\"] = window[\"id304\"].setSelectedTabIndex(0);\n",
              "//# sourceURL=js_cd868845e0"
            ],
            "text/plain": [
              "<IPython.core.display.Javascript object>"
            ]
          },
          "metadata": {}
        },
        {
          "output_type": "display_data",
          "data": {
            "application/javascript": [
              "window[\"6e8c0442-67cd-11ec-8473-0242ac1c0002\"] = google.colab.output.getActiveOutputArea();\n",
              "//# sourceURL=js_7374b19c30"
            ],
            "text/plain": [
              "<IPython.core.display.Javascript object>"
            ]
          },
          "metadata": {}
        },
        {
          "output_type": "display_data",
          "data": {
            "application/javascript": [
              "window[\"6e8c4d1c-67cd-11ec-8473-0242ac1c0002\"] = document.querySelector(\"#id304_content_0\");\n",
              "//# sourceURL=js_b254b9dd28"
            ],
            "text/plain": [
              "<IPython.core.display.Javascript object>"
            ]
          },
          "metadata": {}
        },
        {
          "output_type": "display_data",
          "data": {
            "application/javascript": [
              "window[\"6e8c951a-67cd-11ec-8473-0242ac1c0002\"] = google.colab.output.setActiveOutputArea(window[\"6e8c4d1c-67cd-11ec-8473-0242ac1c0002\"]);\n",
              "//# sourceURL=js_f0c6dedffb"
            ],
            "text/plain": [
              "<IPython.core.display.Javascript object>"
            ]
          },
          "metadata": {}
        },
        {
          "output_type": "display_data",
          "data": {
            "application/javascript": [
              "window[\"6e8d29bc-67cd-11ec-8473-0242ac1c0002\"] = window[\"id304\"].setSelectedTabIndex(0);\n",
              "//# sourceURL=js_2ee20b051e"
            ],
            "text/plain": [
              "<IPython.core.display.Javascript object>"
            ]
          },
          "metadata": {}
        },
        {
          "output_type": "stream",
          "name": "stdout",
          "text": [
            "The following query is stored at \u001b[1mOnlyThreeMedalistsTest_sql\u001b[0m variable.\n",
            "ATTACH DATABASE 'showbusiness.db' AS db;\n",
            "ATTACH DATABASE ':memory:' AS logica_test;\n",
            "\n",
            "DROP TABLE IF EXISTS logica_test.Circle_f1;\n",
            "CREATE TABLE logica_test.Circle_f1 AS WITH t_5_MockMovie AS (SELECT * FROM (\n",
            "  \n",
            "    SELECT\n",
            "      'MovieWih_A' AS name,\n",
            "      JSON_ARRAY('A') AS casting\n",
            "   UNION ALL\n",
            "  \n",
            "    SELECT\n",
            "      'MovieWih_B' AS name,\n",
            "      JSON_ARRAY('B') AS casting\n",
            "   UNION ALL\n",
            "  \n",
            "    SELECT\n",
            "      'MovieWih_C' AS name,\n",
            "      JSON_ARRAY('C') AS casting\n",
            "  \n",
            ") AS UNUSED_TABLE_NAME  )\n",
            "SELECT * FROM (\n",
            "  \n",
            "    SELECT\n",
            "      x_32.value AS person1_id,\n",
            "      x_33.value AS person2_id\n",
            "    FROM\n",
            "      t_5_MockMovie AS MockMovie, JSON_EACH(MockMovie.casting) as x_32, JSON_EACH(MockMovie.casting) as x_33\n",
            "    WHERE\n",
            "      (x_32.value != x_33.value)\n",
            "   UNION ALL\n",
            "  \n",
            "    SELECT\n",
            "      x_37.value AS person1_id,\n",
            "      x_38.value AS person2_id\n",
            "    FROM\n",
            "      db.rockband AS db_rockband, JSON_EACH(db_rockband.members) as x_37, JSON_EACH(db_rockband.members) as x_38\n",
            "    WHERE\n",
            "      (x_37.value != x_38.value)\n",
            "  \n",
            ") AS UNUSED_TABLE_NAME  ;\n",
            "\n",
            "-- Interacting with table logica_test.Circle_f1\n",
            "\n",
            "DROP TABLE IF EXISTS logica_test.SocialCircleAwards_f1;\n",
            "CREATE TABLE logica_test.SocialCircleAwards_f1 AS WITH t_3_MockAward AS (SELECT * FROM (\n",
            "  \n",
            "    SELECT\n",
            "      x_22.value AS awardee_id,\n",
            "      x_23.value AS award\n",
            "    FROM\n",
            "      JSON_EACH(JSON_ARRAY('A', 'C', 'D')) as x_22, JSON_EACH(JSON_ARRAY('Award 1', 'Award 2', 'Award 3', 'Award 4', 'Award 5', 'Award 6')) as x_23\n",
            "   UNION ALL\n",
            "  \n",
            "    SELECT\n",
            "      'B' AS awardee_id,\n",
            "      'Only B''s award 1' AS award\n",
            "   UNION ALL\n",
            "  \n",
            "    SELECT\n",
            "      'B' AS awardee_id,\n",
            "      'Only B''s award 2' AS award\n",
            "  \n",
            ") AS UNUSED_TABLE_NAME  )\n",
            "SELECT\n",
            "  Circle_f1.person1_id AS person_id,\n",
            "  DistinctListAgg(t_4_MockAward.award) AS friends_awards\n",
            "FROM\n",
            "  logica_test.Circle_f1 AS Circle_f1, t_3_MockAward AS t_4_MockAward\n",
            "WHERE\n",
            "  (t_4_MockAward.awardee_id = Circle_f1.person2_id)\n",
            "GROUP BY Circle_f1.person1_id;\n",
            "\n",
            "-- Interacting with table logica_test.SocialCircleAwards_f1\n",
            "\n",
            "DROP TABLE IF EXISTS logica_test.MedalistPartial_f1;\n",
            "CREATE TABLE logica_test.MedalistPartial_f1 AS WITH t_2_MockPerson AS (SELECT * FROM (\n",
            "  \n",
            "    SELECT\n",
            "      'A' AS person_id,\n",
            "      'A' AS name\n",
            "   UNION ALL\n",
            "  \n",
            "    SELECT\n",
            "      'B' AS person_id,\n",
            "      'B' AS name\n",
            "   UNION ALL\n",
            "  \n",
            "    SELECT\n",
            "      'C' AS person_id,\n",
            "      'C' AS name\n",
            "   UNION ALL\n",
            "  \n",
            "    SELECT\n",
            "      'D' AS person_id,\n",
            "      'D' AS name\n",
            "  \n",
            ") AS UNUSED_TABLE_NAME  ),\n",
            "t_3_MockAward AS (SELECT * FROM (\n",
            "  \n",
            "    SELECT\n",
            "      x_22.value AS awardee_id,\n",
            "      x_23.value AS award\n",
            "    FROM\n",
            "      JSON_EACH(JSON_ARRAY('A', 'C', 'D')) as x_22, JSON_EACH(JSON_ARRAY('Award 1', 'Award 2', 'Award 3', 'Award 4', 'Award 5', 'Award 6')) as x_23\n",
            "   UNION ALL\n",
            "  \n",
            "    SELECT\n",
            "      'B' AS awardee_id,\n",
            "      'Only B''s award 1' AS award\n",
            "   UNION ALL\n",
            "  \n",
            "    SELECT\n",
            "      'B' AS awardee_id,\n",
            "      'Only B''s award 2' AS award\n",
            "  \n",
            ") AS UNUSED_TABLE_NAME  )\n",
            "SELECT\n",
            "  MockPerson.name AS person_name,\n",
            "  MockPerson.person_id AS person_id,\n",
            "  JSON_GROUP_ARRAY(MockAward.award) AS awards,\n",
            "  SocialCircleAwards_f1.friends_awards AS social_circle_awards\n",
            "FROM\n",
            "  t_2_MockPerson AS MockPerson, t_3_MockAward AS MockAward, logica_test.SocialCircleAwards_f1 AS SocialCircleAwards_f1\n",
            "WHERE\n",
            "  (MockAward.awardee_id = MockPerson.person_id) AND\n",
            "  (SocialCircleAwards_f1.person_id = MockPerson.person_id)\n",
            "GROUP BY MockPerson.name, MockPerson.person_id, SocialCircleAwards_f1.friends_awards;\n",
            "\n",
            "-- Interacting with table logica_test.MedalistPartial_f1\n",
            "\n",
            "WITH t_1_MockMedalistTest AS (SELECT\n",
            "  MedalistPartial_f1.person_name AS person_name,\n",
            "  MedalistPartial_f1.person_id AS person_id,\n",
            "  JSON_ARRAY_LENGTH(MedalistPartial_f1.awards) AS number_of_awards,\n",
            "  MedalistPartial_f1.awards AS awards,\n",
            "  MedalistPartial_f1.social_circle_awards AS social_circle_awards\n",
            "FROM\n",
            "  logica_test.MedalistPartial_f1 AS MedalistPartial_f1\n",
            "WHERE\n",
            "  (JSON_ARRAY_LENGTH(MedalistPartial_f1.awards) > 5)\n",
            "GROUP BY MedalistPartial_f1.person_name, MedalistPartial_f1.person_id, JSON_ARRAY_LENGTH(MedalistPartial_f1.awards), MedalistPartial_f1.awards, MedalistPartial_f1.social_circle_awards),\n",
            "t_0_MedalistCountTest AS (SELECT\n",
            "  SUM(1) AS logica_value\n",
            "FROM\n",
            "  t_1_MockMedalistTest AS MockMedalistTest)\n",
            "SELECT\n",
            "  CASE WHEN (MedalistCountTest.logica_value = 3) THEN 'Pass' ELSE 'Fail' END AS logica_value\n",
            "FROM\n",
            "  t_0_MedalistCountTest AS MedalistCountTest;\n"
          ]
        },
        {
          "output_type": "display_data",
          "data": {
            "application/javascript": [
              "window[\"6e8eaad0-67cd-11ec-8473-0242ac1c0002\"] = google.colab.output.setActiveOutputArea(window[\"6e8c0442-67cd-11ec-8473-0242ac1c0002\"]);\n",
              "//# sourceURL=js_ac0a6db6bd"
            ],
            "text/plain": [
              "<IPython.core.display.Javascript object>"
            ]
          },
          "metadata": {}
        },
        {
          "output_type": "display_data",
          "data": {
            "application/javascript": [
              "window[\"6e90863e-67cd-11ec-8473-0242ac1c0002\"] = google.colab.output.setActiveOutputArea(window[\"6e865cf4-67cd-11ec-8473-0242ac1c0002\"]);\n",
              "//# sourceURL=js_9863bbdef1"
            ],
            "text/plain": [
              "<IPython.core.display.Javascript object>"
            ]
          },
          "metadata": {}
        },
        {
          "output_type": "display_data",
          "data": {
            "application/javascript": [
              "window[\"6e928d8a-67cd-11ec-8473-0242ac1c0002\"] = google.colab.output.getActiveOutputArea();\n",
              "//# sourceURL=js_0d4d1e23ce"
            ],
            "text/plain": [
              "<IPython.core.display.Javascript object>"
            ]
          },
          "metadata": {}
        },
        {
          "output_type": "display_data",
          "data": {
            "application/javascript": [
              "window[\"6e92d10a-67cd-11ec-8473-0242ac1c0002\"] = document.querySelector(\"#id292_content_15\");\n",
              "//# sourceURL=js_c606a13053"
            ],
            "text/plain": [
              "<IPython.core.display.Javascript object>"
            ]
          },
          "metadata": {}
        },
        {
          "output_type": "display_data",
          "data": {
            "application/javascript": [
              "window[\"6e9313e0-67cd-11ec-8473-0242ac1c0002\"] = google.colab.output.setActiveOutputArea(window[\"6e92d10a-67cd-11ec-8473-0242ac1c0002\"]);\n",
              "//# sourceURL=js_92a6b1cbc8"
            ],
            "text/plain": [
              "<IPython.core.display.Javascript object>"
            ]
          },
          "metadata": {}
        },
        {
          "output_type": "display_data",
          "data": {
            "application/javascript": [
              "window[\"6e935878-67cd-11ec-8473-0242ac1c0002\"] = window[\"id292\"].setSelectedTabIndex(15);\n",
              "//# sourceURL=js_010a9fc04e"
            ],
            "text/plain": [
              "<IPython.core.display.Javascript object>"
            ]
          },
          "metadata": {}
        },
        {
          "output_type": "display_data",
          "data": {
            "application/javascript": [
              "window[\"6ea2c894-67cd-11ec-8473-0242ac1c0002\"] = google.colab.output.setActiveOutputArea(window[\"6e928d8a-67cd-11ec-8473-0242ac1c0002\"]);\n",
              "//# sourceURL=js_c3c978cab5"
            ],
            "text/plain": [
              "<IPython.core.display.Javascript object>"
            ]
          },
          "metadata": {}
        },
        {
          "output_type": "display_data",
          "data": {
            "application/javascript": [
              "window[\"6ea5959c-67cd-11ec-8473-0242ac1c0002\"] = google.colab.output.getActiveOutputArea();\n",
              "//# sourceURL=js_b0ed924a76"
            ],
            "text/plain": [
              "<IPython.core.display.Javascript object>"
            ]
          },
          "metadata": {}
        },
        {
          "output_type": "display_data",
          "data": {
            "application/javascript": [
              "window[\"6ea61d5a-67cd-11ec-8473-0242ac1c0002\"] = document.querySelector(\"#id292_content_12\");\n",
              "//# sourceURL=js_7581296715"
            ],
            "text/plain": [
              "<IPython.core.display.Javascript object>"
            ]
          },
          "metadata": {}
        },
        {
          "output_type": "display_data",
          "data": {
            "application/javascript": [
              "window[\"6ea67066-67cd-11ec-8473-0242ac1c0002\"] = google.colab.output.setActiveOutputArea(window[\"6ea61d5a-67cd-11ec-8473-0242ac1c0002\"]);\n",
              "//# sourceURL=js_d367980e2a"
            ],
            "text/plain": [
              "<IPython.core.display.Javascript object>"
            ]
          },
          "metadata": {}
        },
        {
          "output_type": "display_data",
          "data": {
            "application/javascript": [
              "window[\"6ea6c480-67cd-11ec-8473-0242ac1c0002\"] = window[\"id292\"].setSelectedTabIndex(12);\n",
              "//# sourceURL=js_902fafde2d"
            ],
            "text/plain": [
              "<IPython.core.display.Javascript object>"
            ]
          },
          "metadata": {}
        },
        {
          "output_type": "display_data",
          "data": {
            "text/html": [
              "<link rel=stylesheet type=text/css href='/nbextensions/google.colab/tabbar.css'></link>"
            ],
            "text/plain": [
              "<IPython.core.display.HTML object>"
            ]
          },
          "metadata": {}
        },
        {
          "output_type": "display_data",
          "data": {
            "text/html": [
              "<script src='/nbextensions/google.colab/tabbar_main.min.js'></script>"
            ],
            "text/plain": [
              "<IPython.core.display.HTML object>"
            ]
          },
          "metadata": {}
        },
        {
          "output_type": "display_data",
          "data": {
            "text/html": [
              "<div id=\"id305\"></div>"
            ],
            "text/plain": [
              "<IPython.core.display.HTML object>"
            ]
          },
          "metadata": {}
        },
        {
          "output_type": "display_data",
          "data": {
            "application/javascript": [
              "window[\"6ea97a4a-67cd-11ec-8473-0242ac1c0002\"] = colab_lib.createTabBar({\"location\": \"top\", \"elementId\": \"id305\", \"tabNames\": [\"SQL\", \"Result\"], \"initialSelection\": 0, \"contentBorder\": [\"0px\"], \"contentHeight\": [\"initial\"], \"borderColor\": [\"#a7a7a7\"]});\n",
              "//# sourceURL=js_87fcd86234"
            ],
            "text/plain": [
              "<IPython.core.display.Javascript object>"
            ]
          },
          "metadata": {}
        },
        {
          "output_type": "display_data",
          "data": {
            "application/javascript": [
              "window[\"6ea9cf18-67cd-11ec-8473-0242ac1c0002\"] = window[\"id305\"].setSelectedTabIndex(0);\n",
              "//# sourceURL=js_e31966a657"
            ],
            "text/plain": [
              "<IPython.core.display.Javascript object>"
            ]
          },
          "metadata": {}
        },
        {
          "output_type": "display_data",
          "data": {
            "application/javascript": [
              "window[\"6eac1f3e-67cd-11ec-8473-0242ac1c0002\"] = google.colab.output.getActiveOutputArea();\n",
              "//# sourceURL=js_8cf34a8a8a"
            ],
            "text/plain": [
              "<IPython.core.display.Javascript object>"
            ]
          },
          "metadata": {}
        },
        {
          "output_type": "display_data",
          "data": {
            "application/javascript": [
              "window[\"6eac7fec-67cd-11ec-8473-0242ac1c0002\"] = document.querySelector(\"#id305_content_0\");\n",
              "//# sourceURL=js_c7173de19f"
            ],
            "text/plain": [
              "<IPython.core.display.Javascript object>"
            ]
          },
          "metadata": {}
        },
        {
          "output_type": "display_data",
          "data": {
            "application/javascript": [
              "window[\"6eacd622-67cd-11ec-8473-0242ac1c0002\"] = google.colab.output.setActiveOutputArea(window[\"6eac7fec-67cd-11ec-8473-0242ac1c0002\"]);\n",
              "//# sourceURL=js_136edd3e9c"
            ],
            "text/plain": [
              "<IPython.core.display.Javascript object>"
            ]
          },
          "metadata": {}
        },
        {
          "output_type": "display_data",
          "data": {
            "application/javascript": [
              "window[\"6ead318a-67cd-11ec-8473-0242ac1c0002\"] = window[\"id305\"].setSelectedTabIndex(0);\n",
              "//# sourceURL=js_f847484ae7"
            ],
            "text/plain": [
              "<IPython.core.display.Javascript object>"
            ]
          },
          "metadata": {}
        },
        {
          "output_type": "stream",
          "name": "stdout",
          "text": [
            "The following query is stored at \u001b[1mAIsMedalistTest_sql\u001b[0m variable.\n",
            "ATTACH DATABASE 'showbusiness.db' AS db;\n",
            "ATTACH DATABASE ':memory:' AS logica_test;\n",
            "\n",
            "DROP TABLE IF EXISTS logica_test.Circle_f1;\n",
            "CREATE TABLE logica_test.Circle_f1 AS WITH t_4_MockMovie AS (SELECT * FROM (\n",
            "  \n",
            "    SELECT\n",
            "      'MovieWih_A' AS name,\n",
            "      JSON_ARRAY('A') AS casting\n",
            "   UNION ALL\n",
            "  \n",
            "    SELECT\n",
            "      'MovieWih_B' AS name,\n",
            "      JSON_ARRAY('B') AS casting\n",
            "   UNION ALL\n",
            "  \n",
            "    SELECT\n",
            "      'MovieWih_C' AS name,\n",
            "      JSON_ARRAY('C') AS casting\n",
            "  \n",
            ") AS UNUSED_TABLE_NAME  )\n",
            "SELECT * FROM (\n",
            "  \n",
            "    SELECT\n",
            "      x_34.value AS person1_id,\n",
            "      x_35.value AS person2_id\n",
            "    FROM\n",
            "      t_4_MockMovie AS MockMovie, JSON_EACH(MockMovie.casting) as x_34, JSON_EACH(MockMovie.casting) as x_35\n",
            "    WHERE\n",
            "      (x_34.value != x_35.value)\n",
            "   UNION ALL\n",
            "  \n",
            "    SELECT\n",
            "      x_39.value AS person1_id,\n",
            "      x_40.value AS person2_id\n",
            "    FROM\n",
            "      db.rockband AS db_rockband, JSON_EACH(db_rockband.members) as x_39, JSON_EACH(db_rockband.members) as x_40\n",
            "    WHERE\n",
            "      (x_39.value != x_40.value)\n",
            "  \n",
            ") AS UNUSED_TABLE_NAME  ;\n",
            "\n",
            "-- Interacting with table logica_test.Circle_f1\n",
            "\n",
            "DROP TABLE IF EXISTS logica_test.SocialCircleAwards_f1;\n",
            "CREATE TABLE logica_test.SocialCircleAwards_f1 AS WITH t_2_MockAward AS (SELECT * FROM (\n",
            "  \n",
            "    SELECT\n",
            "      x_24.value AS awardee_id,\n",
            "      x_25.value AS award\n",
            "    FROM\n",
            "      JSON_EACH(JSON_ARRAY('A', 'C', 'D')) as x_24, JSON_EACH(JSON_ARRAY('Award 1', 'Award 2', 'Award 3', 'Award 4', 'Award 5', 'Award 6')) as x_25\n",
            "   UNION ALL\n",
            "  \n",
            "    SELECT\n",
            "      'B' AS awardee_id,\n",
            "      'Only B''s award 1' AS award\n",
            "   UNION ALL\n",
            "  \n",
            "    SELECT\n",
            "      'B' AS awardee_id,\n",
            "      'Only B''s award 2' AS award\n",
            "  \n",
            ") AS UNUSED_TABLE_NAME  )\n",
            "SELECT\n",
            "  Circle_f1.person1_id AS person_id,\n",
            "  DistinctListAgg(t_3_MockAward.award) AS friends_awards\n",
            "FROM\n",
            "  logica_test.Circle_f1 AS Circle_f1, t_2_MockAward AS t_3_MockAward\n",
            "WHERE\n",
            "  (t_3_MockAward.awardee_id = Circle_f1.person2_id)\n",
            "GROUP BY Circle_f1.person1_id;\n",
            "\n",
            "-- Interacting with table logica_test.SocialCircleAwards_f1\n",
            "\n",
            "DROP TABLE IF EXISTS logica_test.MedalistPartial_f1;\n",
            "CREATE TABLE logica_test.MedalistPartial_f1 AS WITH t_1_MockPerson AS (SELECT * FROM (\n",
            "  \n",
            "    SELECT\n",
            "      'A' AS person_id,\n",
            "      'A' AS name\n",
            "   UNION ALL\n",
            "  \n",
            "    SELECT\n",
            "      'B' AS person_id,\n",
            "      'B' AS name\n",
            "   UNION ALL\n",
            "  \n",
            "    SELECT\n",
            "      'C' AS person_id,\n",
            "      'C' AS name\n",
            "   UNION ALL\n",
            "  \n",
            "    SELECT\n",
            "      'D' AS person_id,\n",
            "      'D' AS name\n",
            "  \n",
            ") AS UNUSED_TABLE_NAME  ),\n",
            "t_2_MockAward AS (SELECT * FROM (\n",
            "  \n",
            "    SELECT\n",
            "      x_24.value AS awardee_id,\n",
            "      x_25.value AS award\n",
            "    FROM\n",
            "      JSON_EACH(JSON_ARRAY('A', 'C', 'D')) as x_24, JSON_EACH(JSON_ARRAY('Award 1', 'Award 2', 'Award 3', 'Award 4', 'Award 5', 'Award 6')) as x_25\n",
            "   UNION ALL\n",
            "  \n",
            "    SELECT\n",
            "      'B' AS awardee_id,\n",
            "      'Only B''s award 1' AS award\n",
            "   UNION ALL\n",
            "  \n",
            "    SELECT\n",
            "      'B' AS awardee_id,\n",
            "      'Only B''s award 2' AS award\n",
            "  \n",
            ") AS UNUSED_TABLE_NAME  )\n",
            "SELECT\n",
            "  MockPerson.name AS person_name,\n",
            "  MockPerson.person_id AS person_id,\n",
            "  JSON_GROUP_ARRAY(MockAward.award) AS awards,\n",
            "  SocialCircleAwards_f1.friends_awards AS social_circle_awards\n",
            "FROM\n",
            "  t_1_MockPerson AS MockPerson, t_2_MockAward AS MockAward, logica_test.SocialCircleAwards_f1 AS SocialCircleAwards_f1\n",
            "WHERE\n",
            "  (MockAward.awardee_id = MockPerson.person_id) AND\n",
            "  (SocialCircleAwards_f1.person_id = MockPerson.person_id)\n",
            "GROUP BY MockPerson.name, MockPerson.person_id, SocialCircleAwards_f1.friends_awards;\n",
            "\n",
            "-- Interacting with table logica_test.MedalistPartial_f1\n",
            "\n",
            "WITH t_0_MockMedalistTest AS (SELECT\n",
            "  MedalistPartial_f1.person_name AS person_name,\n",
            "  MedalistPartial_f1.person_id AS person_id,\n",
            "  JSON_ARRAY_LENGTH(MedalistPartial_f1.awards) AS number_of_awards,\n",
            "  MedalistPartial_f1.awards AS awards,\n",
            "  MedalistPartial_f1.social_circle_awards AS social_circle_awards\n",
            "FROM\n",
            "  logica_test.MedalistPartial_f1 AS MedalistPartial_f1\n",
            "WHERE\n",
            "  (JSON_ARRAY_LENGTH(MedalistPartial_f1.awards) > 5)\n",
            "GROUP BY MedalistPartial_f1.person_name, MedalistPartial_f1.person_id, JSON_ARRAY_LENGTH(MedalistPartial_f1.awards), MedalistPartial_f1.awards, MedalistPartial_f1.social_circle_awards)\n",
            "SELECT\n",
            "  CASE WHEN (IN_LIST('A', (SELECT\n",
            "  JSON_GROUP_ARRAY(MagicalEntangle(MockMedalistTest.person_name, x_3.value)) AS logica_value\n",
            "FROM\n",
            "  t_0_MockMedalistTest AS MockMedalistTest, JSON_EACH(JSON_ARRAY(0)) as x_3))) THEN 'Pass' ELSE 'Fail' END AS logica_value;\n"
          ]
        },
        {
          "output_type": "display_data",
          "data": {
            "application/javascript": [
              "window[\"6eaefd26-67cd-11ec-8473-0242ac1c0002\"] = google.colab.output.setActiveOutputArea(window[\"6eac1f3e-67cd-11ec-8473-0242ac1c0002\"]);\n",
              "//# sourceURL=js_c04a1f736c"
            ],
            "text/plain": [
              "<IPython.core.display.Javascript object>"
            ]
          },
          "metadata": {}
        },
        {
          "output_type": "display_data",
          "data": {
            "application/javascript": [
              "window[\"6eb19c84-67cd-11ec-8473-0242ac1c0002\"] = google.colab.output.setActiveOutputArea(window[\"6ea5959c-67cd-11ec-8473-0242ac1c0002\"]);\n",
              "//# sourceURL=js_def9b30538"
            ],
            "text/plain": [
              "<IPython.core.display.Javascript object>"
            ]
          },
          "metadata": {}
        },
        {
          "output_type": "display_data",
          "data": {
            "application/javascript": [
              "window[\"6eb4a226-67cd-11ec-8473-0242ac1c0002\"] = google.colab.output.getActiveOutputArea();\n",
              "//# sourceURL=js_3307dac716"
            ],
            "text/plain": [
              "<IPython.core.display.Javascript object>"
            ]
          },
          "metadata": {}
        },
        {
          "output_type": "display_data",
          "data": {
            "application/javascript": [
              "window[\"6eb50a36-67cd-11ec-8473-0242ac1c0002\"] = document.querySelector(\"#id292_content_15\");\n",
              "//# sourceURL=js_3100826623"
            ],
            "text/plain": [
              "<IPython.core.display.Javascript object>"
            ]
          },
          "metadata": {}
        },
        {
          "output_type": "display_data",
          "data": {
            "application/javascript": [
              "window[\"6eb570de-67cd-11ec-8473-0242ac1c0002\"] = google.colab.output.setActiveOutputArea(window[\"6eb50a36-67cd-11ec-8473-0242ac1c0002\"]);\n",
              "//# sourceURL=js_e13ffc7eaa"
            ],
            "text/plain": [
              "<IPython.core.display.Javascript object>"
            ]
          },
          "metadata": {}
        },
        {
          "output_type": "display_data",
          "data": {
            "application/javascript": [
              "window[\"6eb5d56a-67cd-11ec-8473-0242ac1c0002\"] = window[\"id292\"].setSelectedTabIndex(15);\n",
              "//# sourceURL=js_b7b5c385f6"
            ],
            "text/plain": [
              "<IPython.core.display.Javascript object>"
            ]
          },
          "metadata": {}
        },
        {
          "output_type": "display_data",
          "data": {
            "application/javascript": [
              "window[\"6ec601ba-67cd-11ec-8473-0242ac1c0002\"] = google.colab.output.setActiveOutputArea(window[\"6eb4a226-67cd-11ec-8473-0242ac1c0002\"]);\n",
              "//# sourceURL=js_5e1bd45169"
            ],
            "text/plain": [
              "<IPython.core.display.Javascript object>"
            ]
          },
          "metadata": {}
        },
        {
          "output_type": "display_data",
          "data": {
            "application/javascript": [
              "window[\"6ec9bb3e-67cd-11ec-8473-0242ac1c0002\"] = google.colab.output.getActiveOutputArea();\n",
              "//# sourceURL=js_10b70f06b0"
            ],
            "text/plain": [
              "<IPython.core.display.Javascript object>"
            ]
          },
          "metadata": {}
        },
        {
          "output_type": "display_data",
          "data": {
            "application/javascript": [
              "window[\"6eca227c-67cd-11ec-8473-0242ac1c0002\"] = document.querySelector(\"#id292_content_13\");\n",
              "//# sourceURL=js_d2b6b5c195"
            ],
            "text/plain": [
              "<IPython.core.display.Javascript object>"
            ]
          },
          "metadata": {}
        },
        {
          "output_type": "display_data",
          "data": {
            "application/javascript": [
              "window[\"6eca9496-67cd-11ec-8473-0242ac1c0002\"] = google.colab.output.setActiveOutputArea(window[\"6eca227c-67cd-11ec-8473-0242ac1c0002\"]);\n",
              "//# sourceURL=js_7f0921e6c5"
            ],
            "text/plain": [
              "<IPython.core.display.Javascript object>"
            ]
          },
          "metadata": {}
        },
        {
          "output_type": "display_data",
          "data": {
            "application/javascript": [
              "window[\"6ecaeba8-67cd-11ec-8473-0242ac1c0002\"] = window[\"id292\"].setSelectedTabIndex(13);\n",
              "//# sourceURL=js_8347ccb8c4"
            ],
            "text/plain": [
              "<IPython.core.display.Javascript object>"
            ]
          },
          "metadata": {}
        },
        {
          "output_type": "display_data",
          "data": {
            "text/html": [
              "<link rel=stylesheet type=text/css href='/nbextensions/google.colab/tabbar.css'></link>"
            ],
            "text/plain": [
              "<IPython.core.display.HTML object>"
            ]
          },
          "metadata": {}
        },
        {
          "output_type": "display_data",
          "data": {
            "text/html": [
              "<script src='/nbextensions/google.colab/tabbar_main.min.js'></script>"
            ],
            "text/plain": [
              "<IPython.core.display.HTML object>"
            ]
          },
          "metadata": {}
        },
        {
          "output_type": "display_data",
          "data": {
            "text/html": [
              "<div id=\"id306\"></div>"
            ],
            "text/plain": [
              "<IPython.core.display.HTML object>"
            ]
          },
          "metadata": {}
        },
        {
          "output_type": "display_data",
          "data": {
            "application/javascript": [
              "window[\"6ecdf0be-67cd-11ec-8473-0242ac1c0002\"] = colab_lib.createTabBar({\"location\": \"top\", \"elementId\": \"id306\", \"tabNames\": [\"SQL\", \"Result\"], \"initialSelection\": 0, \"contentBorder\": [\"0px\"], \"contentHeight\": [\"initial\"], \"borderColor\": [\"#a7a7a7\"]});\n",
              "//# sourceURL=js_ab1687e89a"
            ],
            "text/plain": [
              "<IPython.core.display.Javascript object>"
            ]
          },
          "metadata": {}
        },
        {
          "output_type": "display_data",
          "data": {
            "application/javascript": [
              "window[\"6ecf7646-67cd-11ec-8473-0242ac1c0002\"] = window[\"id306\"].setSelectedTabIndex(0);\n",
              "//# sourceURL=js_f9247606cc"
            ],
            "text/plain": [
              "<IPython.core.display.Javascript object>"
            ]
          },
          "metadata": {}
        },
        {
          "output_type": "display_data",
          "data": {
            "application/javascript": [
              "window[\"6ed2a366-67cd-11ec-8473-0242ac1c0002\"] = google.colab.output.getActiveOutputArea();\n",
              "//# sourceURL=js_a4a275f3c6"
            ],
            "text/plain": [
              "<IPython.core.display.Javascript object>"
            ]
          },
          "metadata": {}
        },
        {
          "output_type": "display_data",
          "data": {
            "application/javascript": [
              "window[\"6ed2fb68-67cd-11ec-8473-0242ac1c0002\"] = document.querySelector(\"#id306_content_0\");\n",
              "//# sourceURL=js_8ce68b475e"
            ],
            "text/plain": [
              "<IPython.core.display.Javascript object>"
            ]
          },
          "metadata": {}
        },
        {
          "output_type": "display_data",
          "data": {
            "application/javascript": [
              "window[\"6ed381be-67cd-11ec-8473-0242ac1c0002\"] = google.colab.output.setActiveOutputArea(window[\"6ed2fb68-67cd-11ec-8473-0242ac1c0002\"]);\n",
              "//# sourceURL=js_4f20f3eb6a"
            ],
            "text/plain": [
              "<IPython.core.display.Javascript object>"
            ]
          },
          "metadata": {}
        },
        {
          "output_type": "display_data",
          "data": {
            "application/javascript": [
              "window[\"6ed3e230-67cd-11ec-8473-0242ac1c0002\"] = window[\"id306\"].setSelectedTabIndex(0);\n",
              "//# sourceURL=js_cb987cc31f"
            ],
            "text/plain": [
              "<IPython.core.display.Javascript object>"
            ]
          },
          "metadata": {}
        },
        {
          "output_type": "stream",
          "name": "stdout",
          "text": [
            "The following query is stored at \u001b[1mBIsNotMedalistTest_sql\u001b[0m variable.\n",
            "ATTACH DATABASE 'showbusiness.db' AS db;\n",
            "ATTACH DATABASE ':memory:' AS logica_test;\n",
            "\n",
            "DROP TABLE IF EXISTS logica_test.Circle_f1;\n",
            "CREATE TABLE logica_test.Circle_f1 AS WITH t_4_MockMovie AS (SELECT * FROM (\n",
            "  \n",
            "    SELECT\n",
            "      'MovieWih_A' AS name,\n",
            "      JSON_ARRAY('A') AS casting\n",
            "   UNION ALL\n",
            "  \n",
            "    SELECT\n",
            "      'MovieWih_B' AS name,\n",
            "      JSON_ARRAY('B') AS casting\n",
            "   UNION ALL\n",
            "  \n",
            "    SELECT\n",
            "      'MovieWih_C' AS name,\n",
            "      JSON_ARRAY('C') AS casting\n",
            "  \n",
            ") AS UNUSED_TABLE_NAME  )\n",
            "SELECT * FROM (\n",
            "  \n",
            "    SELECT\n",
            "      x_34.value AS person1_id,\n",
            "      x_35.value AS person2_id\n",
            "    FROM\n",
            "      t_4_MockMovie AS MockMovie, JSON_EACH(MockMovie.casting) as x_34, JSON_EACH(MockMovie.casting) as x_35\n",
            "    WHERE\n",
            "      (x_34.value != x_35.value)\n",
            "   UNION ALL\n",
            "  \n",
            "    SELECT\n",
            "      x_39.value AS person1_id,\n",
            "      x_40.value AS person2_id\n",
            "    FROM\n",
            "      db.rockband AS db_rockband, JSON_EACH(db_rockband.members) as x_39, JSON_EACH(db_rockband.members) as x_40\n",
            "    WHERE\n",
            "      (x_39.value != x_40.value)\n",
            "  \n",
            ") AS UNUSED_TABLE_NAME  ;\n",
            "\n",
            "-- Interacting with table logica_test.Circle_f1\n",
            "\n",
            "DROP TABLE IF EXISTS logica_test.SocialCircleAwards_f1;\n",
            "CREATE TABLE logica_test.SocialCircleAwards_f1 AS WITH t_2_MockAward AS (SELECT * FROM (\n",
            "  \n",
            "    SELECT\n",
            "      x_24.value AS awardee_id,\n",
            "      x_25.value AS award\n",
            "    FROM\n",
            "      JSON_EACH(JSON_ARRAY('A', 'C', 'D')) as x_24, JSON_EACH(JSON_ARRAY('Award 1', 'Award 2', 'Award 3', 'Award 4', 'Award 5', 'Award 6')) as x_25\n",
            "   UNION ALL\n",
            "  \n",
            "    SELECT\n",
            "      'B' AS awardee_id,\n",
            "      'Only B''s award 1' AS award\n",
            "   UNION ALL\n",
            "  \n",
            "    SELECT\n",
            "      'B' AS awardee_id,\n",
            "      'Only B''s award 2' AS award\n",
            "  \n",
            ") AS UNUSED_TABLE_NAME  )\n",
            "SELECT\n",
            "  Circle_f1.person1_id AS person_id,\n",
            "  DistinctListAgg(t_3_MockAward.award) AS friends_awards\n",
            "FROM\n",
            "  logica_test.Circle_f1 AS Circle_f1, t_2_MockAward AS t_3_MockAward\n",
            "WHERE\n",
            "  (t_3_MockAward.awardee_id = Circle_f1.person2_id)\n",
            "GROUP BY Circle_f1.person1_id;\n",
            "\n",
            "-- Interacting with table logica_test.SocialCircleAwards_f1\n",
            "\n",
            "DROP TABLE IF EXISTS logica_test.MedalistPartial_f1;\n",
            "CREATE TABLE logica_test.MedalistPartial_f1 AS WITH t_1_MockPerson AS (SELECT * FROM (\n",
            "  \n",
            "    SELECT\n",
            "      'A' AS person_id,\n",
            "      'A' AS name\n",
            "   UNION ALL\n",
            "  \n",
            "    SELECT\n",
            "      'B' AS person_id,\n",
            "      'B' AS name\n",
            "   UNION ALL\n",
            "  \n",
            "    SELECT\n",
            "      'C' AS person_id,\n",
            "      'C' AS name\n",
            "   UNION ALL\n",
            "  \n",
            "    SELECT\n",
            "      'D' AS person_id,\n",
            "      'D' AS name\n",
            "  \n",
            ") AS UNUSED_TABLE_NAME  ),\n",
            "t_2_MockAward AS (SELECT * FROM (\n",
            "  \n",
            "    SELECT\n",
            "      x_24.value AS awardee_id,\n",
            "      x_25.value AS award\n",
            "    FROM\n",
            "      JSON_EACH(JSON_ARRAY('A', 'C', 'D')) as x_24, JSON_EACH(JSON_ARRAY('Award 1', 'Award 2', 'Award 3', 'Award 4', 'Award 5', 'Award 6')) as x_25\n",
            "   UNION ALL\n",
            "  \n",
            "    SELECT\n",
            "      'B' AS awardee_id,\n",
            "      'Only B''s award 1' AS award\n",
            "   UNION ALL\n",
            "  \n",
            "    SELECT\n",
            "      'B' AS awardee_id,\n",
            "      'Only B''s award 2' AS award\n",
            "  \n",
            ") AS UNUSED_TABLE_NAME  )\n",
            "SELECT\n",
            "  MockPerson.name AS person_name,\n",
            "  MockPerson.person_id AS person_id,\n",
            "  JSON_GROUP_ARRAY(MockAward.award) AS awards,\n",
            "  SocialCircleAwards_f1.friends_awards AS social_circle_awards\n",
            "FROM\n",
            "  t_1_MockPerson AS MockPerson, t_2_MockAward AS MockAward, logica_test.SocialCircleAwards_f1 AS SocialCircleAwards_f1\n",
            "WHERE\n",
            "  (MockAward.awardee_id = MockPerson.person_id) AND\n",
            "  (SocialCircleAwards_f1.person_id = MockPerson.person_id)\n",
            "GROUP BY MockPerson.name, MockPerson.person_id, SocialCircleAwards_f1.friends_awards;\n",
            "\n",
            "-- Interacting with table logica_test.MedalistPartial_f1\n",
            "\n",
            "WITH t_0_MockMedalistTest AS (SELECT\n",
            "  MedalistPartial_f1.person_name AS person_name,\n",
            "  MedalistPartial_f1.person_id AS person_id,\n",
            "  JSON_ARRAY_LENGTH(MedalistPartial_f1.awards) AS number_of_awards,\n",
            "  MedalistPartial_f1.awards AS awards,\n",
            "  MedalistPartial_f1.social_circle_awards AS social_circle_awards\n",
            "FROM\n",
            "  logica_test.MedalistPartial_f1 AS MedalistPartial_f1\n",
            "WHERE\n",
            "  (JSON_ARRAY_LENGTH(MedalistPartial_f1.awards) > 5)\n",
            "GROUP BY MedalistPartial_f1.person_name, MedalistPartial_f1.person_id, JSON_ARRAY_LENGTH(MedalistPartial_f1.awards), MedalistPartial_f1.awards, MedalistPartial_f1.social_circle_awards)\n",
            "SELECT\n",
            "  CASE WHEN (IN_LIST('B', (SELECT\n",
            "  JSON_GROUP_ARRAY(MagicalEntangle(MockMedalistTest.person_name, x_3.value)) AS logica_value\n",
            "FROM\n",
            "  t_0_MockMedalistTest AS MockMedalistTest, JSON_EACH(JSON_ARRAY(0)) as x_3))) THEN 'Fail' ELSE 'Pass' END AS logica_value;\n"
          ]
        },
        {
          "output_type": "display_data",
          "data": {
            "application/javascript": [
              "window[\"6ed55566-67cd-11ec-8473-0242ac1c0002\"] = google.colab.output.setActiveOutputArea(window[\"6ed2a366-67cd-11ec-8473-0242ac1c0002\"]);\n",
              "//# sourceURL=js_7dea29b9df"
            ],
            "text/plain": [
              "<IPython.core.display.Javascript object>"
            ]
          },
          "metadata": {}
        },
        {
          "output_type": "display_data",
          "data": {
            "application/javascript": [
              "window[\"6ed8e5e6-67cd-11ec-8473-0242ac1c0002\"] = google.colab.output.setActiveOutputArea(window[\"6ec9bb3e-67cd-11ec-8473-0242ac1c0002\"]);\n",
              "//# sourceURL=js_a93f1c9e60"
            ],
            "text/plain": [
              "<IPython.core.display.Javascript object>"
            ]
          },
          "metadata": {}
        },
        {
          "output_type": "display_data",
          "data": {
            "application/javascript": [
              "window[\"6edb9dea-67cd-11ec-8473-0242ac1c0002\"] = google.colab.output.getActiveOutputArea();\n",
              "//# sourceURL=js_945df4b0a3"
            ],
            "text/plain": [
              "<IPython.core.display.Javascript object>"
            ]
          },
          "metadata": {}
        },
        {
          "output_type": "display_data",
          "data": {
            "application/javascript": [
              "window[\"6edbed9a-67cd-11ec-8473-0242ac1c0002\"] = document.querySelector(\"#id292_content_15\");\n",
              "//# sourceURL=js_9e3a77466a"
            ],
            "text/plain": [
              "<IPython.core.display.Javascript object>"
            ]
          },
          "metadata": {}
        },
        {
          "output_type": "display_data",
          "data": {
            "application/javascript": [
              "window[\"6edc4150-67cd-11ec-8473-0242ac1c0002\"] = google.colab.output.setActiveOutputArea(window[\"6edbed9a-67cd-11ec-8473-0242ac1c0002\"]);\n",
              "//# sourceURL=js_445ade1530"
            ],
            "text/plain": [
              "<IPython.core.display.Javascript object>"
            ]
          },
          "metadata": {}
        },
        {
          "output_type": "display_data",
          "data": {
            "application/javascript": [
              "window[\"6edcaf82-67cd-11ec-8473-0242ac1c0002\"] = window[\"id292\"].setSelectedTabIndex(15);\n",
              "//# sourceURL=js_024e81e0c5"
            ],
            "text/plain": [
              "<IPython.core.display.Javascript object>"
            ]
          },
          "metadata": {}
        },
        {
          "output_type": "display_data",
          "data": {
            "application/javascript": [
              "window[\"6eeaf1a0-67cd-11ec-8473-0242ac1c0002\"] = google.colab.output.setActiveOutputArea(window[\"6edb9dea-67cd-11ec-8473-0242ac1c0002\"]);\n",
              "//# sourceURL=js_f06777d028"
            ],
            "text/plain": [
              "<IPython.core.display.Javascript object>"
            ]
          },
          "metadata": {}
        },
        {
          "output_type": "display_data",
          "data": {
            "application/javascript": [
              "window[\"6eee6844-67cd-11ec-8473-0242ac1c0002\"] = google.colab.output.getActiveOutputArea();\n",
              "//# sourceURL=js_d604ba08c3"
            ],
            "text/plain": [
              "<IPython.core.display.Javascript object>"
            ]
          },
          "metadata": {}
        },
        {
          "output_type": "display_data",
          "data": {
            "application/javascript": [
              "window[\"6eeebd62-67cd-11ec-8473-0242ac1c0002\"] = document.querySelector(\"#id292_content_14\");\n",
              "//# sourceURL=js_375cfab5b6"
            ],
            "text/plain": [
              "<IPython.core.display.Javascript object>"
            ]
          },
          "metadata": {}
        },
        {
          "output_type": "display_data",
          "data": {
            "application/javascript": [
              "window[\"6eef1c6c-67cd-11ec-8473-0242ac1c0002\"] = google.colab.output.setActiveOutputArea(window[\"6eeebd62-67cd-11ec-8473-0242ac1c0002\"]);\n",
              "//# sourceURL=js_798814c2df"
            ],
            "text/plain": [
              "<IPython.core.display.Javascript object>"
            ]
          },
          "metadata": {}
        },
        {
          "output_type": "display_data",
          "data": {
            "application/javascript": [
              "window[\"6eef6f3c-67cd-11ec-8473-0242ac1c0002\"] = window[\"id292\"].setSelectedTabIndex(14);\n",
              "//# sourceURL=js_da9c8d2f53"
            ],
            "text/plain": [
              "<IPython.core.display.Javascript object>"
            ]
          },
          "metadata": {}
        },
        {
          "output_type": "display_data",
          "data": {
            "text/html": [
              "<link rel=stylesheet type=text/css href='/nbextensions/google.colab/tabbar.css'></link>"
            ],
            "text/plain": [
              "<IPython.core.display.HTML object>"
            ]
          },
          "metadata": {}
        },
        {
          "output_type": "display_data",
          "data": {
            "text/html": [
              "<script src='/nbextensions/google.colab/tabbar_main.min.js'></script>"
            ],
            "text/plain": [
              "<IPython.core.display.HTML object>"
            ]
          },
          "metadata": {}
        },
        {
          "output_type": "display_data",
          "data": {
            "text/html": [
              "<div id=\"id307\"></div>"
            ],
            "text/plain": [
              "<IPython.core.display.HTML object>"
            ]
          },
          "metadata": {}
        },
        {
          "output_type": "display_data",
          "data": {
            "application/javascript": [
              "window[\"6ef21e4e-67cd-11ec-8473-0242ac1c0002\"] = colab_lib.createTabBar({\"location\": \"top\", \"elementId\": \"id307\", \"tabNames\": [\"SQL\", \"Result\"], \"initialSelection\": 0, \"contentBorder\": [\"0px\"], \"contentHeight\": [\"initial\"], \"borderColor\": [\"#a7a7a7\"]});\n",
              "//# sourceURL=js_edec69904a"
            ],
            "text/plain": [
              "<IPython.core.display.Javascript object>"
            ]
          },
          "metadata": {}
        },
        {
          "output_type": "display_data",
          "data": {
            "application/javascript": [
              "window[\"6ef2bc1e-67cd-11ec-8473-0242ac1c0002\"] = window[\"id307\"].setSelectedTabIndex(0);\n",
              "//# sourceURL=js_5601d96254"
            ],
            "text/plain": [
              "<IPython.core.display.Javascript object>"
            ]
          },
          "metadata": {}
        },
        {
          "output_type": "display_data",
          "data": {
            "application/javascript": [
              "window[\"6ef553f2-67cd-11ec-8473-0242ac1c0002\"] = google.colab.output.getActiveOutputArea();\n",
              "//# sourceURL=js_fff6c1aa67"
            ],
            "text/plain": [
              "<IPython.core.display.Javascript object>"
            ]
          },
          "metadata": {}
        },
        {
          "output_type": "display_data",
          "data": {
            "application/javascript": [
              "window[\"6ef5ad66-67cd-11ec-8473-0242ac1c0002\"] = document.querySelector(\"#id307_content_0\");\n",
              "//# sourceURL=js_4e20bbb0bb"
            ],
            "text/plain": [
              "<IPython.core.display.Javascript object>"
            ]
          },
          "metadata": {}
        },
        {
          "output_type": "display_data",
          "data": {
            "application/javascript": [
              "window[\"6ef60f18-67cd-11ec-8473-0242ac1c0002\"] = google.colab.output.setActiveOutputArea(window[\"6ef5ad66-67cd-11ec-8473-0242ac1c0002\"]);\n",
              "//# sourceURL=js_2963eb4a41"
            ],
            "text/plain": [
              "<IPython.core.display.Javascript object>"
            ]
          },
          "metadata": {}
        },
        {
          "output_type": "display_data",
          "data": {
            "application/javascript": [
              "window[\"6ef66b98-67cd-11ec-8473-0242ac1c0002\"] = window[\"id307\"].setSelectedTabIndex(0);\n",
              "//# sourceURL=js_7e2d4defd1"
            ],
            "text/plain": [
              "<IPython.core.display.Javascript object>"
            ]
          },
          "metadata": {}
        },
        {
          "output_type": "stream",
          "name": "stdout",
          "text": [
            "The following query is stored at \u001b[1mBsAwardsInCircleAwardsOfA_sql\u001b[0m variable.\n",
            "ATTACH DATABASE 'showbusiness.db' AS db;\n",
            "ATTACH DATABASE ':memory:' AS logica_test;\n",
            "\n",
            "DROP TABLE IF EXISTS logica_test.Circle_f1;\n",
            "CREATE TABLE logica_test.Circle_f1 AS WITH t_4_MockMovie AS (SELECT * FROM (\n",
            "  \n",
            "    SELECT\n",
            "      'MovieWih_A' AS name,\n",
            "      JSON_ARRAY('A') AS casting\n",
            "   UNION ALL\n",
            "  \n",
            "    SELECT\n",
            "      'MovieWih_B' AS name,\n",
            "      JSON_ARRAY('B') AS casting\n",
            "   UNION ALL\n",
            "  \n",
            "    SELECT\n",
            "      'MovieWih_C' AS name,\n",
            "      JSON_ARRAY('C') AS casting\n",
            "  \n",
            ") AS UNUSED_TABLE_NAME  )\n",
            "SELECT * FROM (\n",
            "  \n",
            "    SELECT\n",
            "      x_32.value AS person1_id,\n",
            "      x_33.value AS person2_id\n",
            "    FROM\n",
            "      t_4_MockMovie AS MockMovie, JSON_EACH(MockMovie.casting) as x_32, JSON_EACH(MockMovie.casting) as x_33\n",
            "    WHERE\n",
            "      (x_32.value != x_33.value)\n",
            "   UNION ALL\n",
            "  \n",
            "    SELECT\n",
            "      x_37.value AS person1_id,\n",
            "      x_38.value AS person2_id\n",
            "    FROM\n",
            "      db.rockband AS db_rockband, JSON_EACH(db_rockband.members) as x_37, JSON_EACH(db_rockband.members) as x_38\n",
            "    WHERE\n",
            "      (x_37.value != x_38.value)\n",
            "  \n",
            ") AS UNUSED_TABLE_NAME  ;\n",
            "\n",
            "-- Interacting with table logica_test.Circle_f1\n",
            "\n",
            "DROP TABLE IF EXISTS logica_test.SocialCircleAwards_f1;\n",
            "CREATE TABLE logica_test.SocialCircleAwards_f1 AS WITH t_2_MockAward AS (SELECT * FROM (\n",
            "  \n",
            "    SELECT\n",
            "      x_22.value AS awardee_id,\n",
            "      x_23.value AS award\n",
            "    FROM\n",
            "      JSON_EACH(JSON_ARRAY('A', 'C', 'D')) as x_22, JSON_EACH(JSON_ARRAY('Award 1', 'Award 2', 'Award 3', 'Award 4', 'Award 5', 'Award 6')) as x_23\n",
            "   UNION ALL\n",
            "  \n",
            "    SELECT\n",
            "      'B' AS awardee_id,\n",
            "      'Only B''s award 1' AS award\n",
            "   UNION ALL\n",
            "  \n",
            "    SELECT\n",
            "      'B' AS awardee_id,\n",
            "      'Only B''s award 2' AS award\n",
            "  \n",
            ") AS UNUSED_TABLE_NAME  )\n",
            "SELECT\n",
            "  Circle_f1.person1_id AS person_id,\n",
            "  DistinctListAgg(t_3_MockAward.award) AS friends_awards\n",
            "FROM\n",
            "  logica_test.Circle_f1 AS Circle_f1, t_2_MockAward AS t_3_MockAward\n",
            "WHERE\n",
            "  (t_3_MockAward.awardee_id = Circle_f1.person2_id)\n",
            "GROUP BY Circle_f1.person1_id;\n",
            "\n",
            "-- Interacting with table logica_test.SocialCircleAwards_f1\n",
            "\n",
            "DROP TABLE IF EXISTS logica_test.MedalistPartial_f1;\n",
            "CREATE TABLE logica_test.MedalistPartial_f1 AS WITH t_1_MockPerson AS (SELECT * FROM (\n",
            "  \n",
            "    SELECT\n",
            "      'A' AS person_id,\n",
            "      'A' AS name\n",
            "   UNION ALL\n",
            "  \n",
            "    SELECT\n",
            "      'B' AS person_id,\n",
            "      'B' AS name\n",
            "   UNION ALL\n",
            "  \n",
            "    SELECT\n",
            "      'C' AS person_id,\n",
            "      'C' AS name\n",
            "   UNION ALL\n",
            "  \n",
            "    SELECT\n",
            "      'D' AS person_id,\n",
            "      'D' AS name\n",
            "  \n",
            ") AS UNUSED_TABLE_NAME  ),\n",
            "t_2_MockAward AS (SELECT * FROM (\n",
            "  \n",
            "    SELECT\n",
            "      x_22.value AS awardee_id,\n",
            "      x_23.value AS award\n",
            "    FROM\n",
            "      JSON_EACH(JSON_ARRAY('A', 'C', 'D')) as x_22, JSON_EACH(JSON_ARRAY('Award 1', 'Award 2', 'Award 3', 'Award 4', 'Award 5', 'Award 6')) as x_23\n",
            "   UNION ALL\n",
            "  \n",
            "    SELECT\n",
            "      'B' AS awardee_id,\n",
            "      'Only B''s award 1' AS award\n",
            "   UNION ALL\n",
            "  \n",
            "    SELECT\n",
            "      'B' AS awardee_id,\n",
            "      'Only B''s award 2' AS award\n",
            "  \n",
            ") AS UNUSED_TABLE_NAME  )\n",
            "SELECT\n",
            "  MockPerson.name AS person_name,\n",
            "  MockPerson.person_id AS person_id,\n",
            "  JSON_GROUP_ARRAY(MockAward.award) AS awards,\n",
            "  SocialCircleAwards_f1.friends_awards AS social_circle_awards\n",
            "FROM\n",
            "  t_1_MockPerson AS MockPerson, t_2_MockAward AS MockAward, logica_test.SocialCircleAwards_f1 AS SocialCircleAwards_f1\n",
            "WHERE\n",
            "  (MockAward.awardee_id = MockPerson.person_id) AND\n",
            "  (SocialCircleAwards_f1.person_id = MockPerson.person_id)\n",
            "GROUP BY MockPerson.name, MockPerson.person_id, SocialCircleAwards_f1.friends_awards;\n",
            "\n",
            "-- Interacting with table logica_test.MedalistPartial_f1\n",
            "\n",
            "WITH t_0_MockMedalistTest AS (SELECT\n",
            "  MedalistPartial_f1.person_name AS person_name,\n",
            "  MedalistPartial_f1.person_id AS person_id,\n",
            "  JSON_ARRAY_LENGTH(MedalistPartial_f1.awards) AS number_of_awards,\n",
            "  MedalistPartial_f1.awards AS awards,\n",
            "  MedalistPartial_f1.social_circle_awards AS social_circle_awards\n",
            "FROM\n",
            "  logica_test.MedalistPartial_f1 AS MedalistPartial_f1\n",
            "WHERE\n",
            "  (JSON_ARRAY_LENGTH(MedalistPartial_f1.awards) > 5)\n",
            "GROUP BY MedalistPartial_f1.person_name, MedalistPartial_f1.person_id, JSON_ARRAY_LENGTH(MedalistPartial_f1.awards), MedalistPartial_f1.awards, MedalistPartial_f1.social_circle_awards)\n",
            "SELECT\n",
            "  CASE WHEN (IN_LIST('Only B''s award 1', MockMedalistTest.social_circle_awards)) THEN 'Pass' ELSE 'Fail' END AS logica_value\n",
            "FROM\n",
            "  t_0_MockMedalistTest AS MockMedalistTest\n",
            "WHERE\n",
            "  (MockMedalistTest.person_name = 'A');\n"
          ]
        },
        {
          "output_type": "display_data",
          "data": {
            "application/javascript": [
              "window[\"6ef8add6-67cd-11ec-8473-0242ac1c0002\"] = google.colab.output.setActiveOutputArea(window[\"6ef553f2-67cd-11ec-8473-0242ac1c0002\"]);\n",
              "//# sourceURL=js_8229fdb179"
            ],
            "text/plain": [
              "<IPython.core.display.Javascript object>"
            ]
          },
          "metadata": {}
        },
        {
          "output_type": "display_data",
          "data": {
            "application/javascript": [
              "window[\"6efb1490-67cd-11ec-8473-0242ac1c0002\"] = google.colab.output.setActiveOutputArea(window[\"6eee6844-67cd-11ec-8473-0242ac1c0002\"]);\n",
              "//# sourceURL=js_951605fecf"
            ],
            "text/plain": [
              "<IPython.core.display.Javascript object>"
            ]
          },
          "metadata": {}
        },
        {
          "output_type": "display_data",
          "data": {
            "application/javascript": [
              "window[\"6efe228e-67cd-11ec-8473-0242ac1c0002\"] = google.colab.output.getActiveOutputArea();\n",
              "//# sourceURL=js_404131736e"
            ],
            "text/plain": [
              "<IPython.core.display.Javascript object>"
            ]
          },
          "metadata": {}
        },
        {
          "output_type": "display_data",
          "data": {
            "application/javascript": [
              "window[\"6efe7d1a-67cd-11ec-8473-0242ac1c0002\"] = document.querySelector(\"#id292_content_15\");\n",
              "//# sourceURL=js_5af660d114"
            ],
            "text/plain": [
              "<IPython.core.display.Javascript object>"
            ]
          },
          "metadata": {}
        },
        {
          "output_type": "display_data",
          "data": {
            "application/javascript": [
              "window[\"6efed738-67cd-11ec-8473-0242ac1c0002\"] = google.colab.output.setActiveOutputArea(window[\"6efe7d1a-67cd-11ec-8473-0242ac1c0002\"]);\n",
              "//# sourceURL=js_7e2a389657"
            ],
            "text/plain": [
              "<IPython.core.display.Javascript object>"
            ]
          },
          "metadata": {}
        },
        {
          "output_type": "display_data",
          "data": {
            "application/javascript": [
              "window[\"6effb95a-67cd-11ec-8473-0242ac1c0002\"] = window[\"id292\"].setSelectedTabIndex(15);\n",
              "//# sourceURL=js_c6948599e1"
            ],
            "text/plain": [
              "<IPython.core.display.Javascript object>"
            ]
          },
          "metadata": {}
        },
        {
          "output_type": "display_data",
          "data": {
            "text/plain": [
              "<graphviz.dot.Digraph at 0x7fc863bc5810>"
            ],
            "image/svg+xml": "<?xml version=\"1.0\" encoding=\"UTF-8\" standalone=\"no\"?>\n<!DOCTYPE svg PUBLIC \"-//W3C//DTD SVG 1.1//EN\"\n \"http://www.w3.org/Graphics/SVG/1.1/DTD/svg11.dtd\">\n<!-- Generated by graphviz version 2.40.1 (20161225.0304)\n -->\n<!-- Title: Concertina Pages: 1 -->\n<svg width=\"2317pt\" height=\"332pt\"\n viewBox=\"0.00 0.00 2316.98 332.00\" xmlns=\"http://www.w3.org/2000/svg\" xmlns:xlink=\"http://www.w3.org/1999/xlink\">\n<g id=\"graph0\" class=\"graph\" transform=\"scale(1 1) rotate(0) translate(4 328)\">\n<title>Concertina</title>\n<polygon fill=\"#ffffff\" stroke=\"transparent\" points=\"-4,4 -4,-328 2312.9775,-328 2312.9775,4 -4,4\"/>\n<!-- db.person -->\n<g id=\"node1\" class=\"node\">\n<title>db.person</title>\n<path fill=\"#b0e2ff\" stroke=\"#575757\" d=\"M1028.1759,-248.7273C1028.1759,-250.5331 1011.5919,-252 991.1759,-252 970.7599,-252 954.1759,-250.5331 954.1759,-248.7273 954.1759,-248.7273 954.1759,-219.2727 954.1759,-219.2727 954.1759,-217.4669 970.7599,-216 991.1759,-216 1011.5919,-216 1028.1759,-217.4669 1028.1759,-219.2727 1028.1759,-219.2727 1028.1759,-248.7273 1028.1759,-248.7273\"/>\n<path fill=\"none\" stroke=\"#575757\" d=\"M1028.1759,-248.7273C1028.1759,-246.9214 1011.5919,-245.4545 991.1759,-245.4545 970.7599,-245.4545 954.1759,-246.9214 954.1759,-248.7273\"/>\n<text text-anchor=\"middle\" x=\"991.1759\" y=\"-230.3\" font-family=\"Times,serif\" font-size=\"14.00\" fill=\"#000000\">db.person</text>\n</g>\n<!-- ShowbusinessStats -->\n<g id=\"node23\" class=\"node\">\n<title>ShowbusinessStats</title>\n<path fill=\"#caff70\" stroke=\"#575757\" d=\"M839.3208,-178.141C839.3208,-178.141 748.2416,-163.859 748.2416,-163.859 742.314,-162.9295 742.314,-161.0705 748.2416,-160.141 748.2416,-160.141 839.3208,-145.859 839.3208,-145.859 845.2483,-144.9295 857.1035,-144.9295 863.031,-145.859 863.031,-145.859 954.1102,-160.141 954.1102,-160.141 960.0377,-161.0705 960.0377,-162.9295 954.1102,-163.859 954.1102,-163.859 863.031,-178.141 863.031,-178.141 857.1035,-179.0705 845.2483,-179.0705 839.3208,-178.141\"/>\n<text text-anchor=\"middle\" x=\"851.1759\" y=\"-158.3\" font-family=\"Times,serif\" font-size=\"14.00\" fill=\"#000000\">ShowbusinessStats</text>\n</g>\n<!-- db.person&#45;&gt;ShowbusinessStats -->\n<g id=\"edge20\" class=\"edge\">\n<title>db.person&#45;&gt;ShowbusinessStats</title>\n<path fill=\"none\" stroke=\"#000000\" d=\"M957.9978,-216.937C936.6308,-205.9482 908.8649,-191.6686 886.9968,-180.4222\"/>\n<polygon fill=\"#000000\" stroke=\"#000000\" points=\"888.5154,-177.2675 878.0218,-175.8064 885.3139,-183.4925 888.5154,-177.2675\"/>\n</g>\n<!-- SomePeople -->\n<g id=\"node24\" class=\"node\">\n<title>SomePeople</title>\n<path fill=\"#caff70\" stroke=\"#575757\" d=\"M1054.4575,-177.4154C1054.4575,-177.4154 996.2838,-164.5846 996.2838,-164.5846 990.4246,-163.2923 990.4246,-160.7077 996.2838,-159.4154 996.2838,-159.4154 1054.4575,-146.5846 1054.4575,-146.5846 1060.3167,-145.2923 1072.0351,-145.2923 1077.8942,-146.5846 1077.8942,-146.5846 1136.068,-159.4154 1136.068,-159.4154 1141.9272,-160.7077 1141.9272,-163.2923 1136.068,-164.5846 1136.068,-164.5846 1077.8942,-177.4154 1077.8942,-177.4154 1072.0351,-178.7077 1060.3167,-178.7077 1054.4575,-177.4154\"/>\n<text text-anchor=\"middle\" x=\"1066.1759\" y=\"-158.3\" font-family=\"Times,serif\" font-size=\"14.00\" fill=\"#000000\">SomePeople</text>\n</g>\n<!-- db.person&#45;&gt;SomePeople -->\n<g id=\"edge23\" class=\"edge\">\n<title>db.person&#45;&gt;SomePeople</title>\n<path fill=\"none\" stroke=\"#000000\" d=\"M1010.1016,-215.8314C1020.1583,-206.1769 1032.5995,-194.2334 1043.206,-184.0511\"/>\n<polygon fill=\"#000000\" stroke=\"#000000\" points=\"1045.7547,-186.4561 1050.5447,-177.0059 1040.907,-181.4064 1045.7547,-186.4561\"/>\n</g>\n<!-- db.award -->\n<g id=\"node2\" class=\"node\">\n<title>db.award</title>\n<path fill=\"#b0e2ff\" stroke=\"#575757\" d=\"M1644.1759,-320.7273C1644.1759,-322.5331 1628.4883,-324 1609.1759,-324 1589.8635,-324 1574.1759,-322.5331 1574.1759,-320.7273 1574.1759,-320.7273 1574.1759,-291.2727 1574.1759,-291.2727 1574.1759,-289.4669 1589.8635,-288 1609.1759,-288 1628.4883,-288 1644.1759,-289.4669 1644.1759,-291.2727 1644.1759,-291.2727 1644.1759,-320.7273 1644.1759,-320.7273\"/>\n<path fill=\"none\" stroke=\"#575757\" d=\"M1644.1759,-320.7273C1644.1759,-318.9214 1628.4883,-317.4545 1609.1759,-317.4545 1589.8635,-317.4545 1574.1759,-318.9214 1574.1759,-320.7273\"/>\n<text text-anchor=\"middle\" x=\"1609.1759\" y=\"-302.3\" font-family=\"Times,serif\" font-size=\"14.00\" fill=\"#000000\">db.award</text>\n</g>\n<!-- SomeAwards -->\n<g id=\"node15\" class=\"node\">\n<title>SomeAwards</title>\n<path fill=\"#caff70\" stroke=\"#575757\" d=\"M1597.4385,-249.5034C1597.4385,-249.5034 1536.2883,-236.4966 1536.2883,-236.4966 1530.4196,-235.2483 1530.4196,-232.7517 1536.2883,-231.5034 1536.2883,-231.5034 1597.4385,-218.4966 1597.4385,-218.4966 1603.3072,-217.2483 1615.0446,-217.2483 1620.9133,-218.4966 1620.9133,-218.4966 1682.0635,-231.5034 1682.0635,-231.5034 1687.9322,-232.7517 1687.9322,-235.2483 1682.0635,-236.4966 1682.0635,-236.4966 1620.9133,-249.5034 1620.9133,-249.5034 1615.0446,-250.7517 1603.3072,-250.7517 1597.4385,-249.5034\"/>\n<text text-anchor=\"middle\" x=\"1609.1759\" y=\"-230.3\" font-family=\"Times,serif\" font-size=\"14.00\" fill=\"#000000\">SomeAwards</text>\n</g>\n<!-- db.award&#45;&gt;SomeAwards -->\n<g id=\"edge11\" class=\"edge\">\n<title>db.award&#45;&gt;SomeAwards</title>\n<path fill=\"none\" stroke=\"#000000\" d=\"M1609.1759,-287.8314C1609.1759,-280.131 1609.1759,-270.9743 1609.1759,-262.4166\"/>\n<polygon fill=\"#000000\" stroke=\"#000000\" points=\"1612.676,-262.4132 1609.1759,-252.4133 1605.676,-262.4133 1612.676,-262.4132\"/>\n</g>\n<!-- MockMedalistTest -->\n<g id=\"node3\" class=\"node\">\n<title>MockMedalistTest</title>\n<path fill=\"#caff70\" stroke=\"#575757\" d=\"M793.3272,-34.1004C793.3272,-34.1004 704.75,-19.8996 704.75,-19.8996 698.8257,-18.9498 698.8257,-17.0502 704.75,-16.1004 704.75,-16.1004 793.3272,-1.8996 793.3272,-1.8996 799.2515,-.9498 811.1002,-.9498 817.0246,-1.8996 817.0246,-1.8996 905.6017,-16.1004 905.6017,-16.1004 911.5261,-17.0502 911.5261,-18.9498 905.6017,-19.8996 905.6017,-19.8996 817.0246,-34.1004 817.0246,-34.1004 811.1002,-35.0502 799.2515,-35.0502 793.3272,-34.1004\"/>\n<text text-anchor=\"middle\" x=\"805.1759\" y=\"-14.3\" font-family=\"Times,serif\" font-size=\"14.00\" fill=\"#000000\">MockMedalistTest</text>\n</g>\n<!-- MedalistPartial_f1 -->\n<g id=\"node4\" class=\"node\">\n<title>MedalistPartial_f1</title>\n<path fill=\"#caff70\" stroke=\"#575757\" d=\"M1519.6759,-108C1519.6759,-108 1422.6759,-108 1422.6759,-108 1416.6759,-108 1410.6759,-102 1410.6759,-96 1410.6759,-96 1410.6759,-84 1410.6759,-84 1410.6759,-78 1416.6759,-72 1422.6759,-72 1422.6759,-72 1519.6759,-72 1519.6759,-72 1525.6759,-72 1531.6759,-78 1531.6759,-84 1531.6759,-84 1531.6759,-96 1531.6759,-96 1531.6759,-102 1525.6759,-108 1519.6759,-108\"/>\n<text text-anchor=\"middle\" x=\"1471.1759\" y=\"-86.3\" font-family=\"Times,serif\" font-size=\"14.00\" fill=\"#000000\">MedalistPartial_f1</text>\n</g>\n<!-- MedalistPartial_f1&#45;&gt;MockMedalistTest -->\n<g id=\"edge1\" class=\"edge\">\n<title>MedalistPartial_f1&#45;&gt;MockMedalistTest</title>\n<path fill=\"none\" stroke=\"#000000\" d=\"M1410.2906,-84.9075C1309.6051,-76.2728 1102.143,-57.579 927.1759,-36 909.2409,-33.788 889.8705,-31.078 871.9607,-28.4387\"/>\n<polygon fill=\"#000000\" stroke=\"#000000\" points=\"872.3003,-24.9508 861.894,-26.9405 871.2698,-31.8745 872.3003,-24.9508\"/>\n</g>\n<!-- OnlyThreeMedalistsTest -->\n<g id=\"node5\" class=\"node\">\n<title>OnlyThreeMedalistsTest</title>\n<path fill=\"#caff70\" stroke=\"#575757\" d=\"M1067.2695,-34.5042C1067.2695,-34.5042 947.8051,-19.4958 947.8051,-19.4958 941.8519,-18.7479 941.8519,-17.2521 947.8051,-16.5042 947.8051,-16.5042 1067.2695,-1.4958 1067.2695,-1.4958 1073.2227,-.7479 1085.1291,-.7479 1091.0823,-1.4958 1091.0823,-1.4958 1210.5466,-16.5042 1210.5466,-16.5042 1216.4998,-17.2521 1216.4998,-18.7479 1210.5466,-19.4958 1210.5466,-19.4958 1091.0823,-34.5042 1091.0823,-34.5042 1085.1291,-35.2521 1073.2227,-35.2521 1067.2695,-34.5042\"/>\n<text text-anchor=\"middle\" x=\"1079.1759\" y=\"-14.3\" font-family=\"Times,serif\" font-size=\"14.00\" fill=\"#000000\">OnlyThreeMedalistsTest</text>\n</g>\n<!-- MedalistPartial_f1&#45;&gt;OnlyThreeMedalistsTest -->\n<g id=\"edge2\" class=\"edge\">\n<title>MedalistPartial_f1&#45;&gt;OnlyThreeMedalistsTest</title>\n<path fill=\"none\" stroke=\"#000000\" d=\"M1410.356,-78.829C1339.2913,-65.7763 1221.9999,-44.233 1147.7571,-30.5965\"/>\n<polygon fill=\"#000000\" stroke=\"#000000\" points=\"1148.0439,-27.0907 1137.5761,-28.7266 1146.7792,-33.9756 1148.0439,-27.0907\"/>\n</g>\n<!-- MedalistCountTest -->\n<g id=\"node6\" class=\"node\">\n<title>MedalistCountTest</title>\n<path fill=\"#caff70\" stroke=\"#575757\" d=\"M1343.3208,-34.141C1343.3208,-34.141 1252.2416,-19.859 1252.2416,-19.859 1246.314,-18.9295 1246.314,-17.0705 1252.2416,-16.141 1252.2416,-16.141 1343.3208,-1.859 1343.3208,-1.859 1349.2483,-.9295 1361.1035,-.9295 1367.031,-1.859 1367.031,-1.859 1458.1102,-16.141 1458.1102,-16.141 1464.0377,-17.0705 1464.0377,-18.9295 1458.1102,-19.859 1458.1102,-19.859 1367.031,-34.141 1367.031,-34.141 1361.1035,-35.0705 1349.2483,-35.0705 1343.3208,-34.141\"/>\n<text text-anchor=\"middle\" x=\"1355.1759\" y=\"-14.3\" font-family=\"Times,serif\" font-size=\"14.00\" fill=\"#000000\">MedalistCountTest</text>\n</g>\n<!-- MedalistPartial_f1&#45;&gt;MedalistCountTest -->\n<g id=\"edge3\" class=\"edge\">\n<title>MedalistPartial_f1&#45;&gt;MedalistCountTest</title>\n<path fill=\"none\" stroke=\"#000000\" d=\"M1441.9042,-71.8314C1425.2151,-61.4726 1404.2804,-48.4786 1387.1602,-37.8523\"/>\n<polygon fill=\"#000000\" stroke=\"#000000\" points=\"1388.9401,-34.8377 1378.5979,-32.5378 1385.2485,-40.7852 1388.9401,-34.8377\"/>\n</g>\n<!-- AIsMedalistTest -->\n<g id=\"node12\" class=\"node\">\n<title>AIsMedalistTest</title>\n<path fill=\"#caff70\" stroke=\"#575757\" d=\"M1576.3643,-33.8819C1576.3643,-33.8819 1499.6108,-20.1181 1499.6108,-20.1181 1493.705,-19.0591 1493.705,-16.9409 1499.6108,-15.8819 1499.6108,-15.8819 1576.3643,-2.1181 1576.3643,-2.1181 1582.2701,-1.0591 1594.0817,-1.0591 1599.9875,-2.1181 1599.9875,-2.1181 1676.7409,-15.8819 1676.7409,-15.8819 1682.6467,-16.9409 1682.6467,-19.0591 1676.7409,-20.1181 1676.7409,-20.1181 1599.9875,-33.8819 1599.9875,-33.8819 1594.0817,-34.9409 1582.2701,-34.9409 1576.3643,-33.8819\"/>\n<text text-anchor=\"middle\" x=\"1588.1759\" y=\"-14.3\" font-family=\"Times,serif\" font-size=\"14.00\" fill=\"#000000\">AIsMedalistTest</text>\n</g>\n<!-- MedalistPartial_f1&#45;&gt;AIsMedalistTest -->\n<g id=\"edge9\" class=\"edge\">\n<title>MedalistPartial_f1&#45;&gt;AIsMedalistTest</title>\n<path fill=\"none\" stroke=\"#000000\" d=\"M1500.6999,-71.8314C1517.7635,-61.3307 1539.2274,-48.1221 1556.6233,-37.417\"/>\n<polygon fill=\"#000000\" stroke=\"#000000\" points=\"1558.6223,-40.2965 1565.3046,-32.0747 1554.9536,-34.3349 1558.6223,-40.2965\"/>\n</g>\n<!-- BIsNotMedalistTest -->\n<g id=\"node18\" class=\"node\">\n<title>BIsNotMedalistTest</title>\n<path fill=\"#caff70\" stroke=\"#575757\" d=\"M1814.3098,-34.2124C1814.3098,-34.2124 1718.5611,-19.7876 1718.5611,-19.7876 1712.6281,-18.8938 1712.6281,-17.1062 1718.5611,-16.2124 1718.5611,-16.2124 1814.3098,-1.7876 1814.3098,-1.7876 1820.2428,-.8938 1832.1089,-.8938 1838.042,-1.7876 1838.042,-1.7876 1933.7907,-16.2124 1933.7907,-16.2124 1939.7237,-17.1062 1939.7237,-18.8938 1933.7907,-19.7876 1933.7907,-19.7876 1838.042,-34.2124 1838.042,-34.2124 1832.1089,-35.1062 1820.2428,-35.1062 1814.3098,-34.2124\"/>\n<text text-anchor=\"middle\" x=\"1826.1759\" y=\"-14.3\" font-family=\"Times,serif\" font-size=\"14.00\" fill=\"#000000\">BIsNotMedalistTest</text>\n</g>\n<!-- MedalistPartial_f1&#45;&gt;BIsNotMedalistTest -->\n<g id=\"edge14\" class=\"edge\">\n<title>MedalistPartial_f1&#45;&gt;BIsNotMedalistTest</title>\n<path fill=\"none\" stroke=\"#000000\" d=\"M1531.7992,-77.7046C1596.8387,-64.5135 1699.5662,-43.6786 1764.8685,-30.4342\"/>\n<polygon fill=\"#000000\" stroke=\"#000000\" points=\"1765.9115,-33.794 1775.0163,-28.376 1764.5201,-26.9336 1765.9115,-33.794\"/>\n</g>\n<!-- BsAwardsInCircleAwardsOfA -->\n<g id=\"node19\" class=\"node\">\n<title>BsAwardsInCircleAwardsOfA</title>\n<path fill=\"#caff70\" stroke=\"#575757\" d=\"M2124.2406,-34.7553C2124.2406,-34.7553 1975.5078,-19.2447 1975.5078,-19.2447 1969.5402,-18.6223 1969.5402,-17.3777 1975.5078,-16.7553 1975.5078,-16.7553 2124.2406,-1.2447 2124.2406,-1.2447 2130.2083,-.6223 2142.1435,-.6223 2148.1112,-1.2447 2148.1112,-1.2447 2296.844,-16.7553 2296.844,-16.7553 2302.8116,-17.3777 2302.8116,-18.6223 2296.844,-19.2447 2296.844,-19.2447 2148.1112,-34.7553 2148.1112,-34.7553 2142.1435,-35.3777 2130.2083,-35.3777 2124.2406,-34.7553\"/>\n<text text-anchor=\"middle\" x=\"2136.1759\" y=\"-14.3\" font-family=\"Times,serif\" font-size=\"14.00\" fill=\"#000000\">BsAwardsInCircleAwardsOfA</text>\n</g>\n<!-- MedalistPartial_f1&#45;&gt;BsAwardsInCircleAwardsOfA -->\n<g id=\"edge17\" class=\"edge\">\n<title>MedalistPartial_f1&#45;&gt;BsAwardsInCircleAwardsOfA</title>\n<path fill=\"none\" stroke=\"#000000\" d=\"M1531.9531,-83.4196C1648.0812,-70.8463 1902.2702,-43.3251 2041.0815,-28.2959\"/>\n<polygon fill=\"#000000\" stroke=\"#000000\" points=\"2041.7169,-31.7477 2051.282,-27.1915 2040.9633,-24.7884 2041.7169,-31.7477\"/>\n</g>\n<!-- RockBandCastedInMovies -->\n<g id=\"node7\" class=\"node\">\n<title>RockBandCastedInMovies</title>\n<path fill=\"#caff70\" stroke=\"#575757\" d=\"M145.2536,-106.6362C145.2536,-106.6362 11.7462,-91.3638 11.7462,-91.3638 5.785,-90.6819 5.785,-89.3181 11.7462,-88.6362 11.7462,-88.6362 145.2536,-73.3638 145.2536,-73.3638 151.2148,-72.6819 163.137,-72.6819 169.0981,-73.3638 169.0981,-73.3638 302.6056,-88.6362 302.6056,-88.6362 308.5667,-89.3181 308.5667,-90.6819 302.6056,-91.3638 302.6056,-91.3638 169.0981,-106.6362 169.0981,-106.6362 163.137,-107.3181 151.2148,-107.3181 145.2536,-106.6362\"/>\n<text text-anchor=\"middle\" x=\"157.1759\" y=\"-86.3\" font-family=\"Times,serif\" font-size=\"14.00\" fill=\"#000000\">RockBandCastedInMovies</text>\n</g>\n<!-- ⤓RockArtistInMovie -->\n<g id=\"node8\" class=\"node\">\n<title>⤓RockArtistInMovie</title>\n<path fill=\"#caff70\" stroke=\"#575757\" d=\"M266.6759,-180C266.6759,-180 147.6759,-180 147.6759,-180 141.6759,-180 135.6759,-174 135.6759,-168 135.6759,-168 135.6759,-156 135.6759,-156 135.6759,-150 141.6759,-144 147.6759,-144 147.6759,-144 266.6759,-144 266.6759,-144 272.6759,-144 278.6759,-150 278.6759,-156 278.6759,-156 278.6759,-168 278.6759,-168 278.6759,-174 272.6759,-180 266.6759,-180\"/>\n<text text-anchor=\"middle\" x=\"207.1759\" y=\"-158.3\" font-family=\"Times,serif\" font-size=\"14.00\" fill=\"#000000\">⤓RockArtistInMovie</text>\n</g>\n<!-- ⤓RockArtistInMovie&#45;&gt;RockBandCastedInMovies -->\n<g id=\"edge4\" class=\"edge\">\n<title>⤓RockArtistInMovie&#45;&gt;RockBandCastedInMovies</title>\n<path fill=\"none\" stroke=\"#000000\" d=\"M194.5588,-143.8314C188.5341,-135.1559 181.2259,-124.632 174.675,-115.1987\"/>\n<polygon fill=\"#000000\" stroke=\"#000000\" points=\"177.5091,-113.1436 168.9303,-106.9263 171.7595,-117.1364 177.5091,-113.1436\"/>\n</g>\n<!-- RockBandMovies -->\n<g id=\"node10\" class=\"node\">\n<title>RockBandMovies</title>\n<path fill=\"#caff70\" stroke=\"#575757\" d=\"M798.3294,-106.0865C798.3294,-106.0865 710.5859,-91.9135 710.5859,-91.9135 704.6626,-90.9568 704.6626,-89.0432 710.5859,-88.0865 710.5859,-88.0865 798.3294,-73.9135 798.3294,-73.9135 804.2527,-72.9568 816.0991,-72.9568 822.0223,-73.9135 822.0223,-73.9135 909.7659,-88.0865 909.7659,-88.0865 915.6891,-89.0432 915.6891,-90.9568 909.7659,-91.9135 909.7659,-91.9135 822.0223,-106.0865 822.0223,-106.0865 816.0991,-107.0432 804.2527,-107.0432 798.3294,-106.0865\"/>\n<text text-anchor=\"middle\" x=\"810.1759\" y=\"-86.3\" font-family=\"Times,serif\" font-size=\"14.00\" fill=\"#000000\">RockBandMovies</text>\n</g>\n<!-- ⤓RockArtistInMovie&#45;&gt;RockBandMovies -->\n<g id=\"edge6\" class=\"edge\">\n<title>⤓RockArtistInMovie&#45;&gt;RockBandMovies</title>\n<path fill=\"none\" stroke=\"#000000\" d=\"M279.0557,-145.4052C281.7927,-144.9074 284.5065,-144.4365 287.1759,-144 438.4359,-119.2637 616.2676,-103.7456 720.7431,-95.9948\"/>\n<polygon fill=\"#000000\" stroke=\"#000000\" points=\"721.2157,-99.4696 730.9324,-95.2463 720.7028,-92.4884 721.2157,-99.4696\"/>\n</g>\n<!-- db.rockband -->\n<g id=\"node9\" class=\"node\">\n<title>db.rockband</title>\n<path fill=\"#b0e2ff\" stroke=\"#575757\" d=\"M1058.6759,-320.7273C1058.6759,-322.5331 1038.7303,-324 1014.1759,-324 989.6215,-324 969.6759,-322.5331 969.6759,-320.7273 969.6759,-320.7273 969.6759,-291.2727 969.6759,-291.2727 969.6759,-289.4669 989.6215,-288 1014.1759,-288 1038.7303,-288 1058.6759,-289.4669 1058.6759,-291.2727 1058.6759,-291.2727 1058.6759,-320.7273 1058.6759,-320.7273\"/>\n<path fill=\"none\" stroke=\"#575757\" d=\"M1058.6759,-320.7273C1058.6759,-318.9214 1038.7303,-317.4545 1014.1759,-317.4545 989.6215,-317.4545 969.6759,-318.9214 969.6759,-320.7273\"/>\n<text text-anchor=\"middle\" x=\"1014.1759\" y=\"-302.3\" font-family=\"Times,serif\" font-size=\"14.00\" fill=\"#000000\">db.rockband</text>\n</g>\n<!-- db.rockband&#45;&gt;RockBandCastedInMovies -->\n<g id=\"edge5\" class=\"edge\">\n<title>db.rockband&#45;&gt;RockBandCastedInMovies</title>\n<path fill=\"none\" stroke=\"#000000\" d=\"M969.2331,-303.491C842.0871,-296.1975 481.5267,-274.1126 365.1759,-252 256.1891,-231.287 192.3467,-269.0426 126.1759,-180 111.8152,-160.6756 123.8394,-134.198 136.8686,-114.9674\"/>\n<polygon fill=\"#000000\" stroke=\"#000000\" points=\"139.8249,-116.8518 142.8346,-106.6934 134.1469,-112.7577 139.8249,-116.8518\"/>\n</g>\n<!-- db.rockband&#45;&gt;RockBandMovies -->\n<g id=\"edge7\" class=\"edge\">\n<title>db.rockband&#45;&gt;RockBandMovies</title>\n<path fill=\"none\" stroke=\"#000000\" d=\"M1049.6866,-288.6502C1105.4721,-259.1636 1202.8084,-197.2831 1157.1759,-144 1140.1791,-124.1536 990.336,-106.6718 893.1925,-97.2878\"/>\n<polygon fill=\"#000000\" stroke=\"#000000\" points=\"893.3728,-93.7891 883.0852,-96.3221 892.707,-100.7574 893.3728,-93.7891\"/>\n</g>\n<!-- SomeRockBands -->\n<g id=\"node11\" class=\"node\">\n<title>SomeRockBands</title>\n<path fill=\"#caff70\" stroke=\"#575757\" d=\"M1299.3429,-250.0046C1299.3429,-250.0046 1216.2642,-235.9954 1216.2642,-235.9954 1210.3477,-234.9977 1210.3477,-233.0023 1216.2642,-232.0046 1216.2642,-232.0046 1299.3429,-217.9954 1299.3429,-217.9954 1305.2594,-216.9977 1317.0924,-216.9977 1323.0088,-217.9954 1323.0088,-217.9954 1406.0876,-232.0046 1406.0876,-232.0046 1412.004,-233.0023 1412.004,-234.9977 1406.0876,-235.9954 1406.0876,-235.9954 1323.0088,-250.0046 1323.0088,-250.0046 1317.0924,-251.0023 1305.2594,-251.0023 1299.3429,-250.0046\"/>\n<text text-anchor=\"middle\" x=\"1311.1759\" y=\"-230.3\" font-family=\"Times,serif\" font-size=\"14.00\" fill=\"#000000\">SomeRockBands</text>\n</g>\n<!-- db.rockband&#45;&gt;SomeRockBands -->\n<g id=\"edge8\" class=\"edge\">\n<title>db.rockband&#45;&gt;SomeRockBands</title>\n<path fill=\"none\" stroke=\"#000000\" d=\"M1058.9614,-295.1429C1112.0078,-282.2832 1200.3204,-260.874 1257.1211,-247.1042\"/>\n<polygon fill=\"#000000\" stroke=\"#000000\" points=\"1258.1032,-250.4676 1266.997,-244.71 1256.4539,-243.6646 1258.1032,-250.4676\"/>\n</g>\n<!-- RockArtist -->\n<g id=\"node17\" class=\"node\">\n<title>RockArtist</title>\n<path fill=\"#caff70\" stroke=\"#575757\" d=\"M441.6759,-252C441.6759,-252 386.6759,-252 386.6759,-252 380.6759,-252 374.6759,-246 374.6759,-240 374.6759,-240 374.6759,-228 374.6759,-228 374.6759,-222 380.6759,-216 386.6759,-216 386.6759,-216 441.6759,-216 441.6759,-216 447.6759,-216 453.6759,-222 453.6759,-228 453.6759,-228 453.6759,-240 453.6759,-240 453.6759,-246 447.6759,-252 441.6759,-252\"/>\n<text text-anchor=\"middle\" x=\"414.1759\" y=\"-230.3\" font-family=\"Times,serif\" font-size=\"14.00\" fill=\"#000000\">RockArtist</text>\n</g>\n<!-- db.rockband&#45;&gt;RockArtist -->\n<g id=\"edge24\" class=\"edge\">\n<title>db.rockband&#45;&gt;RockArtist</title>\n<path fill=\"none\" stroke=\"#000000\" d=\"M969.5834,-301.8406C883.5034,-293.6422 688.5127,-274.2475 525.1759,-252 505.0895,-249.2641 483.0356,-245.7862 463.915,-242.6184\"/>\n<polygon fill=\"#000000\" stroke=\"#000000\" points=\"464.3588,-239.1441 453.9185,-240.9465 463.2041,-246.0482 464.3588,-239.1441\"/>\n</g>\n<!-- Circle_f1 -->\n<g id=\"node21\" class=\"node\">\n<title>Circle_f1</title>\n<path fill=\"#caff70\" stroke=\"#575757\" d=\"M1494.1759,-252C1494.1759,-252 1448.1759,-252 1448.1759,-252 1442.1759,-252 1436.1759,-246 1436.1759,-240 1436.1759,-240 1436.1759,-228 1436.1759,-228 1436.1759,-222 1442.1759,-216 1448.1759,-216 1448.1759,-216 1494.1759,-216 1494.1759,-216 1500.1759,-216 1506.1759,-222 1506.1759,-228 1506.1759,-228 1506.1759,-240 1506.1759,-240 1506.1759,-246 1500.1759,-252 1494.1759,-252\"/>\n<text text-anchor=\"middle\" x=\"1471.1759\" y=\"-230.3\" font-family=\"Times,serif\" font-size=\"14.00\" fill=\"#000000\">Circle_f1</text>\n</g>\n<!-- db.rockband&#45;&gt;Circle_f1 -->\n<g id=\"edge19\" class=\"edge\">\n<title>db.rockband&#45;&gt;Circle_f1</title>\n<path fill=\"none\" stroke=\"#000000\" d=\"M1058.9112,-303.9336C1133.6949,-299.6653 1288.6361,-287.3429 1426.043,-251.9347\"/>\n<polygon fill=\"#000000\" stroke=\"#000000\" points=\"1427.1214,-255.2702 1435.9046,-249.3452 1425.3436,-248.4998 1427.1214,-255.2702\"/>\n</g>\n<!-- db.rockband&#45;&gt;ShowbusinessStats -->\n<g id=\"edge21\" class=\"edge\">\n<title>db.rockband&#45;&gt;ShowbusinessStats</title>\n<path fill=\"none\" stroke=\"#000000\" d=\"M989.7534,-287.8311C976.3356,-277.6161 959.5478,-264.4497 945.1759,-252 920.0725,-230.2541 892.8044,-203.8066 874.135,-185.2271\"/>\n<polygon fill=\"#000000\" stroke=\"#000000\" points=\"876.2373,-182.3797 866.6916,-177.7829 871.2872,-187.3291 876.2373,-182.3797\"/>\n</g>\n<!-- SomeMovies -->\n<g id=\"node13\" class=\"node\">\n<title>SomeMovies</title>\n<path fill=\"#caff70\" stroke=\"#575757\" d=\"M622.4385,-177.5034C622.4385,-177.5034 561.2883,-164.4966 561.2883,-164.4966 555.4196,-163.2483 555.4196,-160.7517 561.2883,-159.5034 561.2883,-159.5034 622.4385,-146.4966 622.4385,-146.4966 628.3072,-145.2483 640.0446,-145.2483 645.9133,-146.4966 645.9133,-146.4966 707.0635,-159.5034 707.0635,-159.5034 712.9322,-160.7517 712.9322,-163.2483 707.0635,-164.4966 707.0635,-164.4966 645.9133,-177.5034 645.9133,-177.5034 640.0446,-178.7517 628.3072,-178.7517 622.4385,-177.5034\"/>\n<text text-anchor=\"middle\" x=\"634.1759\" y=\"-158.3\" font-family=\"Times,serif\" font-size=\"14.00\" fill=\"#000000\">SomeMovies</text>\n</g>\n<!-- db.movie -->\n<g id=\"node14\" class=\"node\">\n<title>db.movie</title>\n<path fill=\"#b0e2ff\" stroke=\"#575757\" d=\"M605.6759,-248.7273C605.6759,-250.5331 589.7642,-252 570.1759,-252 550.5876,-252 534.6759,-250.5331 534.6759,-248.7273 534.6759,-248.7273 534.6759,-219.2727 534.6759,-219.2727 534.6759,-217.4669 550.5876,-216 570.1759,-216 589.7642,-216 605.6759,-217.4669 605.6759,-219.2727 605.6759,-219.2727 605.6759,-248.7273 605.6759,-248.7273\"/>\n<path fill=\"none\" stroke=\"#575757\" d=\"M605.6759,-248.7273C605.6759,-246.9214 589.7642,-245.4545 570.1759,-245.4545 550.5876,-245.4545 534.6759,-246.9214 534.6759,-248.7273\"/>\n<text text-anchor=\"middle\" x=\"570.1759\" y=\"-230.3\" font-family=\"Times,serif\" font-size=\"14.00\" fill=\"#000000\">db.movie</text>\n</g>\n<!-- db.movie&#45;&gt;⤓RockArtistInMovie -->\n<g id=\"edge16\" class=\"edge\">\n<title>db.movie&#45;&gt;⤓RockArtistInMovie</title>\n<path fill=\"none\" stroke=\"#000000\" d=\"M534.3619,-227.5551C482.4207,-218.123 382.9171,-199.736 288.6646,-180.2797\"/>\n<polygon fill=\"#000000\" stroke=\"#000000\" points=\"289.1823,-176.8126 278.6801,-178.2103 287.7617,-183.667 289.1823,-176.8126\"/>\n</g>\n<!-- db.movie&#45;&gt;SomeMovies -->\n<g id=\"edge10\" class=\"edge\">\n<title>db.movie&#45;&gt;SomeMovies</title>\n<path fill=\"none\" stroke=\"#000000\" d=\"M586.3258,-215.8314C594.624,-206.4958 604.8248,-195.02 613.6729,-185.0658\"/>\n<polygon fill=\"#000000\" stroke=\"#000000\" points=\"616.3891,-187.2784 620.4168,-177.479 611.1572,-182.6278 616.3891,-187.2784\"/>\n</g>\n<!-- RockArtistInMovie -->\n<g id=\"node16\" class=\"node\">\n<title>RockArtistInMovie</title>\n<path fill=\"#caff70\" stroke=\"#575757\" d=\"M402.3136,-178.1875C402.3136,-178.1875 308.2338,-163.8125 308.2338,-163.8125 302.3026,-162.9063 302.3026,-161.0937 308.2338,-160.1875 308.2338,-160.1875 402.3136,-145.8125 402.3136,-145.8125 408.2447,-144.9063 420.1071,-144.9063 426.0382,-145.8125 426.0382,-145.8125 520.118,-160.1875 520.118,-160.1875 526.0492,-161.0937 526.0492,-162.9063 520.118,-163.8125 520.118,-163.8125 426.0382,-178.1875 426.0382,-178.1875 420.1071,-179.0937 408.2447,-179.0937 402.3136,-178.1875\"/>\n<text text-anchor=\"middle\" x=\"414.1759\" y=\"-158.3\" font-family=\"Times,serif\" font-size=\"14.00\" fill=\"#000000\">RockArtistInMovie</text>\n</g>\n<!-- db.movie&#45;&gt;RockArtistInMovie -->\n<g id=\"edge13\" class=\"edge\">\n<title>db.movie&#45;&gt;RockArtistInMovie</title>\n<path fill=\"none\" stroke=\"#000000\" d=\"M534.3863,-217.4817C509.9785,-206.2166 477.6796,-191.3094 452.7083,-179.7842\"/>\n<polygon fill=\"#000000\" stroke=\"#000000\" points=\"454.0746,-176.5601 443.5283,-175.5473 451.1412,-182.9158 454.0746,-176.5601\"/>\n</g>\n<!-- db.movie&#45;&gt;ShowbusinessStats -->\n<g id=\"edge22\" class=\"edge\">\n<title>db.movie&#45;&gt;ShowbusinessStats</title>\n<path fill=\"none\" stroke=\"#000000\" d=\"M605.7647,-224.8812C654.2471,-212.4586 741.4511,-190.1145 797.7887,-175.6793\"/>\n<polygon fill=\"#000000\" stroke=\"#000000\" points=\"798.7693,-179.0412 807.5876,-173.1685 797.0318,-172.2602 798.7693,-179.0412\"/>\n</g>\n<!-- RockArtist&#45;&gt;⤓RockArtistInMovie -->\n<g id=\"edge15\" class=\"edge\">\n<title>RockArtist&#45;&gt;⤓RockArtistInMovie</title>\n<path fill=\"none\" stroke=\"#000000\" d=\"M374.2642,-220.1177C344.4311,-209.7409 303.0898,-195.3614 268.994,-183.502\"/>\n<polygon fill=\"#000000\" stroke=\"#000000\" points=\"269.7217,-180.0494 259.1269,-180.0699 267.422,-186.6609 269.7217,-180.0494\"/>\n</g>\n<!-- RockArtist&#45;&gt;RockArtistInMovie -->\n<g id=\"edge12\" class=\"edge\">\n<title>RockArtist&#45;&gt;RockArtistInMovie</title>\n<path fill=\"none\" stroke=\"#000000\" d=\"M414.1759,-215.8314C414.1759,-208.131 414.1759,-198.9743 414.1759,-190.4166\"/>\n<polygon fill=\"#000000\" stroke=\"#000000\" points=\"417.676,-190.4132 414.1759,-180.4133 410.676,-190.4133 417.676,-190.4132\"/>\n</g>\n<!-- SocialCircleAwards_f1 -->\n<g id=\"node20\" class=\"node\">\n<title>SocialCircleAwards_f1</title>\n<path fill=\"#caff70\" stroke=\"#575757\" d=\"M1533.1759,-180C1533.1759,-180 1409.1759,-180 1409.1759,-180 1403.1759,-180 1397.1759,-174 1397.1759,-168 1397.1759,-168 1397.1759,-156 1397.1759,-156 1397.1759,-150 1403.1759,-144 1409.1759,-144 1409.1759,-144 1533.1759,-144 1533.1759,-144 1539.1759,-144 1545.1759,-150 1545.1759,-156 1545.1759,-156 1545.1759,-168 1545.1759,-168 1545.1759,-174 1539.1759,-180 1533.1759,-180\"/>\n<text text-anchor=\"middle\" x=\"1471.1759\" y=\"-158.3\" font-family=\"Times,serif\" font-size=\"14.00\" fill=\"#000000\">SocialCircleAwards_f1</text>\n</g>\n<!-- SocialCircleAwards_f1&#45;&gt;MedalistPartial_f1 -->\n<g id=\"edge25\" class=\"edge\">\n<title>SocialCircleAwards_f1&#45;&gt;MedalistPartial_f1</title>\n<path fill=\"none\" stroke=\"#000000\" d=\"M1471.1759,-143.8314C1471.1759,-136.131 1471.1759,-126.9743 1471.1759,-118.4166\"/>\n<polygon fill=\"#000000\" stroke=\"#000000\" points=\"1474.676,-118.4132 1471.1759,-108.4133 1467.676,-118.4133 1474.676,-118.4132\"/>\n</g>\n<!-- Circle_f1&#45;&gt;SocialCircleAwards_f1 -->\n<g id=\"edge18\" class=\"edge\">\n<title>Circle_f1&#45;&gt;SocialCircleAwards_f1</title>\n<path fill=\"none\" stroke=\"#000000\" d=\"M1471.1759,-215.8314C1471.1759,-208.131 1471.1759,-198.9743 1471.1759,-190.4166\"/>\n<polygon fill=\"#000000\" stroke=\"#000000\" points=\"1474.676,-190.4132 1471.1759,-180.4133 1467.676,-190.4133 1474.676,-190.4132\"/>\n</g>\n<!-- MockAward -->\n<g id=\"node22\" class=\"node\">\n<title>MockAward</title>\n<path fill=\"#caff70\" stroke=\"#575757\" d=\"M1731.4632,-321.3898C1731.4632,-321.3898 1674.1167,-308.6102 1674.1167,-308.6102 1668.2604,-307.3051 1668.2604,-304.6949 1674.1167,-303.3898 1674.1167,-303.3898 1731.4632,-290.6102 1731.4632,-290.6102 1737.3195,-289.3051 1749.0322,-289.3051 1754.8886,-290.6102 1754.8886,-290.6102 1812.235,-303.3898 1812.235,-303.3898 1818.0914,-304.6949 1818.0914,-307.3051 1812.235,-308.6102 1812.235,-308.6102 1754.8886,-321.3898 1754.8886,-321.3898 1749.0322,-322.6949 1737.3195,-322.6949 1731.4632,-321.3898\"/>\n<text text-anchor=\"middle\" x=\"1743.1759\" y=\"-302.3\" font-family=\"Times,serif\" font-size=\"14.00\" fill=\"#000000\">MockAward</text>\n</g>\n</g>\n</svg>\n"
          },
          "metadata": {}
        },
        {
          "output_type": "stream",
          "name": "stdout",
          "text": [
            "Running predicate: SomeRockBands (0 seconds)\n",
            "Running predicate: SomeAwards (0 seconds)\n",
            "Running predicate: Circle_f1 (0 seconds)\n",
            "Running predicate: MockAward (0 seconds)\n",
            "Running predicate: SomePeople (0 seconds)\n",
            "Running predicate: RockArtist (0 seconds)\n",
            "Running predicate: SomeMovies (0 seconds)\n",
            "Running predicate: RockArtistInMovie (0 seconds)\n",
            "Running predicate: ⤓RockArtistInMovie (0 seconds)\n",
            "Running predicate: SocialCircleAwards_f1 (0 seconds)\n",
            "Running predicate: ShowbusinessStats (0 seconds)\n",
            "Running predicate: MedalistPartial_f1 (0 seconds)\n",
            "Running predicate: MockMedalistTest (0 seconds)\n",
            "Running predicate: OnlyThreeMedalistsTest (0 seconds)\n",
            "Running predicate: MedalistCountTest (0 seconds)\n",
            "Running predicate: RockBandCastedInMovies (0 seconds)\n",
            "Running predicate: RockBandMovies (0 seconds)\n",
            "Running predicate: AIsMedalistTest (0 seconds)\n",
            "Running predicate: BIsNotMedalistTest (0 seconds)\n",
            "Running predicate: BsAwardsInCircleAwardsOfA (0 seconds)\n"
          ]
        },
        {
          "output_type": "display_data",
          "data": {
            "application/javascript": [
              "window[\"71a76ca2-67cd-11ec-8473-0242ac1c0002\"] = google.colab.output.setActiveOutputArea(window[\"6efe228e-67cd-11ec-8473-0242ac1c0002\"]);\n",
              "//# sourceURL=js_802a278fbc"
            ],
            "text/plain": [
              "<IPython.core.display.Javascript object>"
            ]
          },
          "metadata": {}
        },
        {
          "output_type": "display_data",
          "data": {
            "application/javascript": [
              "window[\"71a92786-67cd-11ec-8473-0242ac1c0002\"] = google.colab.output.getActiveOutputArea();\n",
              "//# sourceURL=js_7b2ca273af"
            ],
            "text/plain": [
              "<IPython.core.display.Javascript object>"
            ]
          },
          "metadata": {}
        },
        {
          "output_type": "display_data",
          "data": {
            "application/javascript": [
              "window[\"71a9745c-67cd-11ec-8473-0242ac1c0002\"] = document.querySelector(\"#id292_content_0\");\n",
              "//# sourceURL=js_b6a450c49c"
            ],
            "text/plain": [
              "<IPython.core.display.Javascript object>"
            ]
          },
          "metadata": {}
        },
        {
          "output_type": "display_data",
          "data": {
            "application/javascript": [
              "window[\"71a9c074-67cd-11ec-8473-0242ac1c0002\"] = google.colab.output.setActiveOutputArea(window[\"71a9745c-67cd-11ec-8473-0242ac1c0002\"]);\n",
              "//# sourceURL=js_c196254aee"
            ],
            "text/plain": [
              "<IPython.core.display.Javascript object>"
            ]
          },
          "metadata": {}
        },
        {
          "output_type": "display_data",
          "data": {
            "application/javascript": [
              "window[\"71aa0d68-67cd-11ec-8473-0242ac1c0002\"] = window[\"id292\"].setSelectedTabIndex(0);\n",
              "//# sourceURL=js_7190029c43"
            ],
            "text/plain": [
              "<IPython.core.display.Javascript object>"
            ]
          },
          "metadata": {}
        },
        {
          "output_type": "display_data",
          "data": {
            "application/javascript": [
              "window[\"71ab4b24-67cd-11ec-8473-0242ac1c0002\"] = google.colab.output.getActiveOutputArea();\n",
              "//# sourceURL=js_097933b5eb"
            ],
            "text/plain": [
              "<IPython.core.display.Javascript object>"
            ]
          },
          "metadata": {}
        },
        {
          "output_type": "display_data",
          "data": {
            "application/javascript": [
              "window[\"71ab9732-67cd-11ec-8473-0242ac1c0002\"] = document.querySelector(\"#id293_content_1\");\n",
              "//# sourceURL=js_dd3e69435b"
            ],
            "text/plain": [
              "<IPython.core.display.Javascript object>"
            ]
          },
          "metadata": {}
        },
        {
          "output_type": "display_data",
          "data": {
            "application/javascript": [
              "window[\"71abe3b8-67cd-11ec-8473-0242ac1c0002\"] = google.colab.output.setActiveOutputArea(window[\"71ab9732-67cd-11ec-8473-0242ac1c0002\"]);\n",
              "//# sourceURL=js_6fdc0707e1"
            ],
            "text/plain": [
              "<IPython.core.display.Javascript object>"
            ]
          },
          "metadata": {}
        },
        {
          "output_type": "display_data",
          "data": {
            "application/javascript": [
              "window[\"71ac2f9e-67cd-11ec-8473-0242ac1c0002\"] = window[\"id293\"].setSelectedTabIndex(1);\n",
              "//# sourceURL=js_7f8c29c999"
            ],
            "text/plain": [
              "<IPython.core.display.Javascript object>"
            ]
          },
          "metadata": {}
        },
        {
          "output_type": "stream",
          "name": "stdout",
          "text": [
            "The following table is stored at \u001b[1mSomeMovies\u001b[0m variable.\n"
          ]
        },
        {
          "output_type": "display_data",
          "data": {
            "text/html": [
              "\n",
              "  <div id=\"df-e5e1c027-2990-4bad-b442-4a56efc49160\">\n",
              "    <div class=\"colab-df-container\">\n",
              "      <div>\n",
              "<style scoped>\n",
              "    .dataframe tbody tr th:only-of-type {\n",
              "        vertical-align: middle;\n",
              "    }\n",
              "\n",
              "    .dataframe tbody tr th {\n",
              "        vertical-align: top;\n",
              "    }\n",
              "\n",
              "    .dataframe thead th {\n",
              "        text-align: right;\n",
              "    }\n",
              "</style>\n",
              "<table border=\"1\" class=\"dataframe\">\n",
              "  <thead>\n",
              "    <tr style=\"text-align: right;\">\n",
              "      <th></th>\n",
              "      <th>movie_id</th>\n",
              "      <th>name</th>\n",
              "      <th>casting</th>\n",
              "    </tr>\n",
              "  </thead>\n",
              "  <tbody>\n",
              "    <tr>\n",
              "      <th>0</th>\n",
              "      <td>10449147</td>\n",
              "      <td>Chez nous</td>\n",
              "      <td>[458752]</td>\n",
              "    </tr>\n",
              "    <tr>\n",
              "      <th>1</th>\n",
              "      <td>1764347</td>\n",
              "      <td>SOS – en segelsällskapsresa</td>\n",
              "      <td>[458752,714141,5961246,1770250,3372998,5627798]</td>\n",
              "    </tr>\n",
              "    <tr>\n",
              "      <th>2</th>\n",
              "      <td>517239</td>\n",
              "      <td>The Big Blue</td>\n",
              "      <td>[524544,551683,89130,109232,484779,3898080,436...</td>\n",
              "    </tr>\n",
              "    <tr>\n",
              "      <th>3</th>\n",
              "      <td>4004228</td>\n",
              "      <td>A Perfect Family</td>\n",
              "      <td>[524544,468793,241154,3846163,3734264,450442,2...</td>\n",
              "    </tr>\n",
              "    <tr>\n",
              "      <th>4</th>\n",
              "      <td>25460</td>\n",
              "      <td>36 Views from the Pic Saint-Loup</td>\n",
              "      <td>[524544,212873,2848242,441071,923461,3559331]</td>\n",
              "    </tr>\n",
              "    <tr>\n",
              "      <th>5</th>\n",
              "      <td>2943857</td>\n",
              "      <td>Va savoir</td>\n",
              "      <td>[524544,298905,3740386,543898,531256,923461,11...</td>\n",
              "    </tr>\n",
              "    <tr>\n",
              "      <th>6</th>\n",
              "      <td>586569</td>\n",
              "      <td>The Star Maker</td>\n",
              "      <td>[524544,2437312,983069,3905249,3945964,684794,...</td>\n",
              "    </tr>\n",
              "    <tr>\n",
              "      <th>7</th>\n",
              "      <td>2927272</td>\n",
              "      <td>Brief Encounters</td>\n",
              "      <td>[512,435805,4400363]</td>\n",
              "    </tr>\n",
              "    <tr>\n",
              "      <th>8</th>\n",
              "      <td>4444445</td>\n",
              "      <td>Стряпуха</td>\n",
              "      <td>[512,4429200,1750617]</td>\n",
              "    </tr>\n",
              "    <tr>\n",
              "      <th>9</th>\n",
              "      <td>6461073</td>\n",
              "      <td>La Bailanta</td>\n",
              "      <td>[5833472,439182,5475691,22122546,16527966,2942...</td>\n",
              "    </tr>\n",
              "  </tbody>\n",
              "</table>\n",
              "</div>\n",
              "      <button class=\"colab-df-convert\" onclick=\"convertToInteractive('df-e5e1c027-2990-4bad-b442-4a56efc49160')\"\n",
              "              title=\"Convert this dataframe to an interactive table.\"\n",
              "              style=\"display:none;\">\n",
              "        \n",
              "  <svg xmlns=\"http://www.w3.org/2000/svg\" height=\"24px\"viewBox=\"0 0 24 24\"\n",
              "       width=\"24px\">\n",
              "    <path d=\"M0 0h24v24H0V0z\" fill=\"none\"/>\n",
              "    <path d=\"M18.56 5.44l.94 2.06.94-2.06 2.06-.94-2.06-.94-.94-2.06-.94 2.06-2.06.94zm-11 1L8.5 8.5l.94-2.06 2.06-.94-2.06-.94L8.5 2.5l-.94 2.06-2.06.94zm10 10l.94 2.06.94-2.06 2.06-.94-2.06-.94-.94-2.06-.94 2.06-2.06.94z\"/><path d=\"M17.41 7.96l-1.37-1.37c-.4-.4-.92-.59-1.43-.59-.52 0-1.04.2-1.43.59L10.3 9.45l-7.72 7.72c-.78.78-.78 2.05 0 2.83L4 21.41c.39.39.9.59 1.41.59.51 0 1.02-.2 1.41-.59l7.78-7.78 2.81-2.81c.8-.78.8-2.07 0-2.86zM5.41 20L4 18.59l7.72-7.72 1.47 1.35L5.41 20z\"/>\n",
              "  </svg>\n",
              "      </button>\n",
              "      \n",
              "  <style>\n",
              "    .colab-df-container {\n",
              "      display:flex;\n",
              "      flex-wrap:wrap;\n",
              "      gap: 12px;\n",
              "    }\n",
              "\n",
              "    .colab-df-convert {\n",
              "      background-color: #E8F0FE;\n",
              "      border: none;\n",
              "      border-radius: 50%;\n",
              "      cursor: pointer;\n",
              "      display: none;\n",
              "      fill: #1967D2;\n",
              "      height: 32px;\n",
              "      padding: 0 0 0 0;\n",
              "      width: 32px;\n",
              "    }\n",
              "\n",
              "    .colab-df-convert:hover {\n",
              "      background-color: #E2EBFA;\n",
              "      box-shadow: 0px 1px 2px rgba(60, 64, 67, 0.3), 0px 1px 3px 1px rgba(60, 64, 67, 0.15);\n",
              "      fill: #174EA6;\n",
              "    }\n",
              "\n",
              "    [theme=dark] .colab-df-convert {\n",
              "      background-color: #3B4455;\n",
              "      fill: #D2E3FC;\n",
              "    }\n",
              "\n",
              "    [theme=dark] .colab-df-convert:hover {\n",
              "      background-color: #434B5C;\n",
              "      box-shadow: 0px 1px 3px 1px rgba(0, 0, 0, 0.15);\n",
              "      filter: drop-shadow(0px 1px 2px rgba(0, 0, 0, 0.3));\n",
              "      fill: #FFFFFF;\n",
              "    }\n",
              "  </style>\n",
              "\n",
              "      <script>\n",
              "        const buttonEl =\n",
              "          document.querySelector('#df-e5e1c027-2990-4bad-b442-4a56efc49160 button.colab-df-convert');\n",
              "        buttonEl.style.display =\n",
              "          google.colab.kernel.accessAllowed ? 'block' : 'none';\n",
              "\n",
              "        async function convertToInteractive(key) {\n",
              "          const element = document.querySelector('#df-e5e1c027-2990-4bad-b442-4a56efc49160');\n",
              "          const dataTable =\n",
              "            await google.colab.kernel.invokeFunction('convertToInteractive',\n",
              "                                                     [key], {});\n",
              "          if (!dataTable) return;\n",
              "\n",
              "          const docLinkHtml = 'Like what you see? Visit the ' +\n",
              "            '<a target=\"_blank\" href=https://colab.research.google.com/notebooks/data_table.ipynb>data table notebook</a>'\n",
              "            + ' to learn more about interactive tables.';\n",
              "          element.innerHTML = '';\n",
              "          dataTable['output_type'] = 'display_data';\n",
              "          await google.colab.output.renderOutput(dataTable, element);\n",
              "          const docLink = document.createElement('div');\n",
              "          docLink.innerHTML = docLinkHtml;\n",
              "          element.appendChild(docLink);\n",
              "        }\n",
              "      </script>\n",
              "    </div>\n",
              "  </div>\n",
              "  "
            ],
            "text/plain": [
              "   movie_id  ...                                            casting\n",
              "0  10449147  ...                                           [458752]\n",
              "1   1764347  ...    [458752,714141,5961246,1770250,3372998,5627798]\n",
              "2    517239  ...  [524544,551683,89130,109232,484779,3898080,436...\n",
              "3   4004228  ...  [524544,468793,241154,3846163,3734264,450442,2...\n",
              "4     25460  ...      [524544,212873,2848242,441071,923461,3559331]\n",
              "5   2943857  ...  [524544,298905,3740386,543898,531256,923461,11...\n",
              "6    586569  ...  [524544,2437312,983069,3905249,3945964,684794,...\n",
              "7   2927272  ...                               [512,435805,4400363]\n",
              "8   4444445  ...                              [512,4429200,1750617]\n",
              "9   6461073  ...  [5833472,439182,5475691,22122546,16527966,2942...\n",
              "\n",
              "[10 rows x 3 columns]"
            ]
          },
          "metadata": {}
        },
        {
          "output_type": "display_data",
          "data": {
            "application/javascript": [
              "window[\"71b282a4-67cd-11ec-8473-0242ac1c0002\"] = google.colab.output.setActiveOutputArea(window[\"71ab4b24-67cd-11ec-8473-0242ac1c0002\"]);\n",
              "//# sourceURL=js_2500400cfd"
            ],
            "text/plain": [
              "<IPython.core.display.Javascript object>"
            ]
          },
          "metadata": {}
        },
        {
          "output_type": "stream",
          "name": "stdout",
          "text": [
            " \n"
          ]
        },
        {
          "output_type": "display_data",
          "data": {
            "application/javascript": [
              "window[\"71b3dc26-67cd-11ec-8473-0242ac1c0002\"] = google.colab.output.setActiveOutputArea(window[\"71a92786-67cd-11ec-8473-0242ac1c0002\"]);\n",
              "//# sourceURL=js_3d1247b138"
            ],
            "text/plain": [
              "<IPython.core.display.Javascript object>"
            ]
          },
          "metadata": {}
        },
        {
          "output_type": "display_data",
          "data": {
            "application/javascript": [
              "window[\"71b58eea-67cd-11ec-8473-0242ac1c0002\"] = google.colab.output.getActiveOutputArea();\n",
              "//# sourceURL=js_122ce8c90e"
            ],
            "text/plain": [
              "<IPython.core.display.Javascript object>"
            ]
          },
          "metadata": {}
        },
        {
          "output_type": "display_data",
          "data": {
            "application/javascript": [
              "window[\"71b5da62-67cd-11ec-8473-0242ac1c0002\"] = document.querySelector(\"#id292_content_1\");\n",
              "//# sourceURL=js_f0032d35f2"
            ],
            "text/plain": [
              "<IPython.core.display.Javascript object>"
            ]
          },
          "metadata": {}
        },
        {
          "output_type": "display_data",
          "data": {
            "application/javascript": [
              "window[\"71b623b4-67cd-11ec-8473-0242ac1c0002\"] = google.colab.output.setActiveOutputArea(window[\"71b5da62-67cd-11ec-8473-0242ac1c0002\"]);\n",
              "//# sourceURL=js_1e0aba2a7b"
            ],
            "text/plain": [
              "<IPython.core.display.Javascript object>"
            ]
          },
          "metadata": {}
        },
        {
          "output_type": "display_data",
          "data": {
            "application/javascript": [
              "window[\"71b6e2c2-67cd-11ec-8473-0242ac1c0002\"] = window[\"id292\"].setSelectedTabIndex(1);\n",
              "//# sourceURL=js_978e275f26"
            ],
            "text/plain": [
              "<IPython.core.display.Javascript object>"
            ]
          },
          "metadata": {}
        },
        {
          "output_type": "display_data",
          "data": {
            "application/javascript": [
              "window[\"71b8a454-67cd-11ec-8473-0242ac1c0002\"] = google.colab.output.getActiveOutputArea();\n",
              "//# sourceURL=js_e73ff74034"
            ],
            "text/plain": [
              "<IPython.core.display.Javascript object>"
            ]
          },
          "metadata": {}
        },
        {
          "output_type": "display_data",
          "data": {
            "application/javascript": [
              "window[\"71b8f116-67cd-11ec-8473-0242ac1c0002\"] = document.querySelector(\"#id294_content_1\");\n",
              "//# sourceURL=js_8f21f7571c"
            ],
            "text/plain": [
              "<IPython.core.display.Javascript object>"
            ]
          },
          "metadata": {}
        },
        {
          "output_type": "display_data",
          "data": {
            "application/javascript": [
              "window[\"71b93e14-67cd-11ec-8473-0242ac1c0002\"] = google.colab.output.setActiveOutputArea(window[\"71b8f116-67cd-11ec-8473-0242ac1c0002\"]);\n",
              "//# sourceURL=js_a9ed5b69eb"
            ],
            "text/plain": [
              "<IPython.core.display.Javascript object>"
            ]
          },
          "metadata": {}
        },
        {
          "output_type": "display_data",
          "data": {
            "application/javascript": [
              "window[\"71b988b0-67cd-11ec-8473-0242ac1c0002\"] = window[\"id294\"].setSelectedTabIndex(1);\n",
              "//# sourceURL=js_2a5a467de5"
            ],
            "text/plain": [
              "<IPython.core.display.Javascript object>"
            ]
          },
          "metadata": {}
        },
        {
          "output_type": "stream",
          "name": "stdout",
          "text": [
            "The following table is stored at \u001b[1mSomePeople\u001b[0m variable.\n"
          ]
        },
        {
          "output_type": "display_data",
          "data": {
            "text/html": [
              "\n",
              "  <div id=\"df-dc7d57b1-2c88-4407-9275-ef3337ffbc28\">\n",
              "    <div class=\"colab-df-container\">\n",
              "      <div>\n",
              "<style scoped>\n",
              "    .dataframe tbody tr th:only-of-type {\n",
              "        vertical-align: middle;\n",
              "    }\n",
              "\n",
              "    .dataframe tbody tr th {\n",
              "        vertical-align: top;\n",
              "    }\n",
              "\n",
              "    .dataframe thead th {\n",
              "        text-align: right;\n",
              "    }\n",
              "</style>\n",
              "<table border=\"1\" class=\"dataframe\">\n",
              "  <thead>\n",
              "    <tr style=\"text-align: right;\">\n",
              "      <th></th>\n",
              "      <th>person_id</th>\n",
              "      <th>name</th>\n",
              "      <th>citizenships</th>\n",
              "    </tr>\n",
              "  </thead>\n",
              "  <tbody>\n",
              "    <tr>\n",
              "      <th>0</th>\n",
              "      <td>877041</td>\n",
              "      <td>Elanne Kong</td>\n",
              "      <td>[\"People's Republic of China\"]</td>\n",
              "    </tr>\n",
              "    <tr>\n",
              "      <th>1</th>\n",
              "      <td>58314</td>\n",
              "      <td>Maxim Gvinjia</td>\n",
              "      <td>[\"Russia\"]</td>\n",
              "    </tr>\n",
              "    <tr>\n",
              "      <th>2</th>\n",
              "      <td>1936098</td>\n",
              "      <td>Mimmo Poli</td>\n",
              "      <td>[\"Italy\",\"Kingdom of Italy\"]</td>\n",
              "    </tr>\n",
              "    <tr>\n",
              "      <th>3</th>\n",
              "      <td>2209514</td>\n",
              "      <td>Sabin Tambrea</td>\n",
              "      <td>[\"Germany\",\"Romania\"]</td>\n",
              "    </tr>\n",
              "    <tr>\n",
              "      <th>4</th>\n",
              "      <td>3446441</td>\n",
              "      <td>Ruba Blal</td>\n",
              "      <td>[\"Israel\"]</td>\n",
              "    </tr>\n",
              "    <tr>\n",
              "      <th>5</th>\n",
              "      <td>3077378</td>\n",
              "      <td>Pim de la Parra</td>\n",
              "      <td>[\"Suriname\",\"Kingdom of the Netherlands\"]</td>\n",
              "    </tr>\n",
              "    <tr>\n",
              "      <th>6</th>\n",
              "      <td>71698</td>\n",
              "      <td>Katrin Saß</td>\n",
              "      <td>[\"German Democratic Republic\",\"Germany\"]</td>\n",
              "    </tr>\n",
              "    <tr>\n",
              "      <th>7</th>\n",
              "      <td>6520861</td>\n",
              "      <td>Leleti Khumalo</td>\n",
              "      <td>[\"South Africa\"]</td>\n",
              "    </tr>\n",
              "    <tr>\n",
              "      <th>8</th>\n",
              "      <td>54957869</td>\n",
              "      <td>Salon Basnet</td>\n",
              "      <td>[\"Nepal\"]</td>\n",
              "    </tr>\n",
              "    <tr>\n",
              "      <th>9</th>\n",
              "      <td>73945</td>\n",
              "      <td>Hendrik Duryn</td>\n",
              "      <td>[\"German Democratic Republic\",\"Germany\"]</td>\n",
              "    </tr>\n",
              "  </tbody>\n",
              "</table>\n",
              "</div>\n",
              "      <button class=\"colab-df-convert\" onclick=\"convertToInteractive('df-dc7d57b1-2c88-4407-9275-ef3337ffbc28')\"\n",
              "              title=\"Convert this dataframe to an interactive table.\"\n",
              "              style=\"display:none;\">\n",
              "        \n",
              "  <svg xmlns=\"http://www.w3.org/2000/svg\" height=\"24px\"viewBox=\"0 0 24 24\"\n",
              "       width=\"24px\">\n",
              "    <path d=\"M0 0h24v24H0V0z\" fill=\"none\"/>\n",
              "    <path d=\"M18.56 5.44l.94 2.06.94-2.06 2.06-.94-2.06-.94-.94-2.06-.94 2.06-2.06.94zm-11 1L8.5 8.5l.94-2.06 2.06-.94-2.06-.94L8.5 2.5l-.94 2.06-2.06.94zm10 10l.94 2.06.94-2.06 2.06-.94-2.06-.94-.94-2.06-.94 2.06-2.06.94z\"/><path d=\"M17.41 7.96l-1.37-1.37c-.4-.4-.92-.59-1.43-.59-.52 0-1.04.2-1.43.59L10.3 9.45l-7.72 7.72c-.78.78-.78 2.05 0 2.83L4 21.41c.39.39.9.59 1.41.59.51 0 1.02-.2 1.41-.59l7.78-7.78 2.81-2.81c.8-.78.8-2.07 0-2.86zM5.41 20L4 18.59l7.72-7.72 1.47 1.35L5.41 20z\"/>\n",
              "  </svg>\n",
              "      </button>\n",
              "      \n",
              "  <style>\n",
              "    .colab-df-container {\n",
              "      display:flex;\n",
              "      flex-wrap:wrap;\n",
              "      gap: 12px;\n",
              "    }\n",
              "\n",
              "    .colab-df-convert {\n",
              "      background-color: #E8F0FE;\n",
              "      border: none;\n",
              "      border-radius: 50%;\n",
              "      cursor: pointer;\n",
              "      display: none;\n",
              "      fill: #1967D2;\n",
              "      height: 32px;\n",
              "      padding: 0 0 0 0;\n",
              "      width: 32px;\n",
              "    }\n",
              "\n",
              "    .colab-df-convert:hover {\n",
              "      background-color: #E2EBFA;\n",
              "      box-shadow: 0px 1px 2px rgba(60, 64, 67, 0.3), 0px 1px 3px 1px rgba(60, 64, 67, 0.15);\n",
              "      fill: #174EA6;\n",
              "    }\n",
              "\n",
              "    [theme=dark] .colab-df-convert {\n",
              "      background-color: #3B4455;\n",
              "      fill: #D2E3FC;\n",
              "    }\n",
              "\n",
              "    [theme=dark] .colab-df-convert:hover {\n",
              "      background-color: #434B5C;\n",
              "      box-shadow: 0px 1px 3px 1px rgba(0, 0, 0, 0.15);\n",
              "      filter: drop-shadow(0px 1px 2px rgba(0, 0, 0, 0.3));\n",
              "      fill: #FFFFFF;\n",
              "    }\n",
              "  </style>\n",
              "\n",
              "      <script>\n",
              "        const buttonEl =\n",
              "          document.querySelector('#df-dc7d57b1-2c88-4407-9275-ef3337ffbc28 button.colab-df-convert');\n",
              "        buttonEl.style.display =\n",
              "          google.colab.kernel.accessAllowed ? 'block' : 'none';\n",
              "\n",
              "        async function convertToInteractive(key) {\n",
              "          const element = document.querySelector('#df-dc7d57b1-2c88-4407-9275-ef3337ffbc28');\n",
              "          const dataTable =\n",
              "            await google.colab.kernel.invokeFunction('convertToInteractive',\n",
              "                                                     [key], {});\n",
              "          if (!dataTable) return;\n",
              "\n",
              "          const docLinkHtml = 'Like what you see? Visit the ' +\n",
              "            '<a target=\"_blank\" href=https://colab.research.google.com/notebooks/data_table.ipynb>data table notebook</a>'\n",
              "            + ' to learn more about interactive tables.';\n",
              "          element.innerHTML = '';\n",
              "          dataTable['output_type'] = 'display_data';\n",
              "          await google.colab.output.renderOutput(dataTable, element);\n",
              "          const docLink = document.createElement('div');\n",
              "          docLink.innerHTML = docLinkHtml;\n",
              "          element.appendChild(docLink);\n",
              "        }\n",
              "      </script>\n",
              "    </div>\n",
              "  </div>\n",
              "  "
            ],
            "text/plain": [
              "   person_id             name                               citizenships\n",
              "0     877041      Elanne Kong             [\"People's Republic of China\"]\n",
              "1      58314    Maxim Gvinjia                                 [\"Russia\"]\n",
              "2    1936098       Mimmo Poli               [\"Italy\",\"Kingdom of Italy\"]\n",
              "3    2209514    Sabin Tambrea                      [\"Germany\",\"Romania\"]\n",
              "4    3446441        Ruba Blal                                 [\"Israel\"]\n",
              "5    3077378  Pim de la Parra  [\"Suriname\",\"Kingdom of the Netherlands\"]\n",
              "6      71698       Katrin Saß   [\"German Democratic Republic\",\"Germany\"]\n",
              "7    6520861   Leleti Khumalo                           [\"South Africa\"]\n",
              "8   54957869     Salon Basnet                                  [\"Nepal\"]\n",
              "9      73945    Hendrik Duryn   [\"German Democratic Republic\",\"Germany\"]"
            ]
          },
          "metadata": {}
        },
        {
          "output_type": "display_data",
          "data": {
            "application/javascript": [
              "window[\"71c13470-67cd-11ec-8473-0242ac1c0002\"] = google.colab.output.setActiveOutputArea(window[\"71b8a454-67cd-11ec-8473-0242ac1c0002\"]);\n",
              "//# sourceURL=js_e7e9e6f3e2"
            ],
            "text/plain": [
              "<IPython.core.display.Javascript object>"
            ]
          },
          "metadata": {}
        },
        {
          "output_type": "stream",
          "name": "stdout",
          "text": [
            " \n"
          ]
        },
        {
          "output_type": "display_data",
          "data": {
            "application/javascript": [
              "window[\"71c2b124-67cd-11ec-8473-0242ac1c0002\"] = google.colab.output.setActiveOutputArea(window[\"71b58eea-67cd-11ec-8473-0242ac1c0002\"]);\n",
              "//# sourceURL=js_6273993813"
            ],
            "text/plain": [
              "<IPython.core.display.Javascript object>"
            ]
          },
          "metadata": {}
        },
        {
          "output_type": "display_data",
          "data": {
            "application/javascript": [
              "window[\"71c4547a-67cd-11ec-8473-0242ac1c0002\"] = google.colab.output.getActiveOutputArea();\n",
              "//# sourceURL=js_e78020d5fb"
            ],
            "text/plain": [
              "<IPython.core.display.Javascript object>"
            ]
          },
          "metadata": {}
        },
        {
          "output_type": "display_data",
          "data": {
            "application/javascript": [
              "window[\"71c49e94-67cd-11ec-8473-0242ac1c0002\"] = document.querySelector(\"#id292_content_2\");\n",
              "//# sourceURL=js_4efd72bb26"
            ],
            "text/plain": [
              "<IPython.core.display.Javascript object>"
            ]
          },
          "metadata": {}
        },
        {
          "output_type": "display_data",
          "data": {
            "application/javascript": [
              "window[\"71c4eac0-67cd-11ec-8473-0242ac1c0002\"] = google.colab.output.setActiveOutputArea(window[\"71c49e94-67cd-11ec-8473-0242ac1c0002\"]);\n",
              "//# sourceURL=js_b7ebb0e514"
            ],
            "text/plain": [
              "<IPython.core.display.Javascript object>"
            ]
          },
          "metadata": {}
        },
        {
          "output_type": "display_data",
          "data": {
            "application/javascript": [
              "window[\"71c55ee2-67cd-11ec-8473-0242ac1c0002\"] = window[\"id292\"].setSelectedTabIndex(2);\n",
              "//# sourceURL=js_e2878cff60"
            ],
            "text/plain": [
              "<IPython.core.display.Javascript object>"
            ]
          },
          "metadata": {}
        },
        {
          "output_type": "display_data",
          "data": {
            "application/javascript": [
              "window[\"71c6e334-67cd-11ec-8473-0242ac1c0002\"] = google.colab.output.getActiveOutputArea();\n",
              "//# sourceURL=js_6657136db3"
            ],
            "text/plain": [
              "<IPython.core.display.Javascript object>"
            ]
          },
          "metadata": {}
        },
        {
          "output_type": "display_data",
          "data": {
            "application/javascript": [
              "window[\"71c72bfa-67cd-11ec-8473-0242ac1c0002\"] = document.querySelector(\"#id295_content_1\");\n",
              "//# sourceURL=js_897da4b1c4"
            ],
            "text/plain": [
              "<IPython.core.display.Javascript object>"
            ]
          },
          "metadata": {}
        },
        {
          "output_type": "display_data",
          "data": {
            "application/javascript": [
              "window[\"71c7e982-67cd-11ec-8473-0242ac1c0002\"] = google.colab.output.setActiveOutputArea(window[\"71c72bfa-67cd-11ec-8473-0242ac1c0002\"]);\n",
              "//# sourceURL=js_e9bc804f5e"
            ],
            "text/plain": [
              "<IPython.core.display.Javascript object>"
            ]
          },
          "metadata": {}
        },
        {
          "output_type": "display_data",
          "data": {
            "application/javascript": [
              "window[\"71c8288e-67cd-11ec-8473-0242ac1c0002\"] = window[\"id295\"].setSelectedTabIndex(1);\n",
              "//# sourceURL=js_a111350295"
            ],
            "text/plain": [
              "<IPython.core.display.Javascript object>"
            ]
          },
          "metadata": {}
        },
        {
          "output_type": "stream",
          "name": "stdout",
          "text": [
            "The following table is stored at \u001b[1mSomeRockBands\u001b[0m variable.\n"
          ]
        },
        {
          "output_type": "display_data",
          "data": {
            "text/html": [
              "\n",
              "  <div id=\"df-0668450f-d6a7-4e92-83b0-f780d288e3d5\">\n",
              "    <div class=\"colab-df-container\">\n",
              "      <div>\n",
              "<style scoped>\n",
              "    .dataframe tbody tr th:only-of-type {\n",
              "        vertical-align: middle;\n",
              "    }\n",
              "\n",
              "    .dataframe tbody tr th {\n",
              "        vertical-align: top;\n",
              "    }\n",
              "\n",
              "    .dataframe thead th {\n",
              "        text-align: right;\n",
              "    }\n",
              "</style>\n",
              "<table border=\"1\" class=\"dataframe\">\n",
              "  <thead>\n",
              "    <tr style=\"text-align: right;\">\n",
              "      <th></th>\n",
              "      <th>band_id</th>\n",
              "      <th>name</th>\n",
              "      <th>members</th>\n",
              "    </tr>\n",
              "  </thead>\n",
              "  <tbody>\n",
              "    <tr>\n",
              "      <th>0</th>\n",
              "      <td>16821277</td>\n",
              "      <td>Alice Cooper</td>\n",
              "      <td>[332032,2313011,427302,665549,2720155]</td>\n",
              "    </tr>\n",
              "    <tr>\n",
              "      <th>1</th>\n",
              "      <td>728707</td>\n",
              "      <td>Noir Désir</td>\n",
              "      <td>[3479552,3022539,545516,3168680]</td>\n",
              "    </tr>\n",
              "    <tr>\n",
              "      <th>2</th>\n",
              "      <td>205001</td>\n",
              "      <td>Talking Heads</td>\n",
              "      <td>[336640,2695530,438635,2634067]</td>\n",
              "    </tr>\n",
              "    <tr>\n",
              "      <th>3</th>\n",
              "      <td>182890</td>\n",
              "      <td>Def Leppard</td>\n",
              "      <td>[511488,323356,1143956,1336388,10699937,367617...</td>\n",
              "    </tr>\n",
              "    <tr>\n",
              "      <th>4</th>\n",
              "      <td>1850330</td>\n",
              "      <td>The Walkmen</td>\n",
              "      <td>[17037824]</td>\n",
              "    </tr>\n",
              "    <tr>\n",
              "      <th>5</th>\n",
              "      <td>7737085</td>\n",
              "      <td>The Golden Palominos</td>\n",
              "      <td>[589313]</td>\n",
              "    </tr>\n",
              "    <tr>\n",
              "      <th>6</th>\n",
              "      <td>1544817</td>\n",
              "      <td>The Feelies</td>\n",
              "      <td>[589313,5568993]</td>\n",
              "    </tr>\n",
              "    <tr>\n",
              "      <th>7</th>\n",
              "      <td>261</td>\n",
              "      <td>Linkin Park</td>\n",
              "      <td>[19202,19198,19200,19205,19204,19199,19201]</td>\n",
              "    </tr>\n",
              "    <tr>\n",
              "      <th>8</th>\n",
              "      <td>807957</td>\n",
              "      <td>Barclay James Harvest</td>\n",
              "      <td>[153346]</td>\n",
              "    </tr>\n",
              "    <tr>\n",
              "      <th>9</th>\n",
              "      <td>773640</td>\n",
              "      <td>Apocalypse</td>\n",
              "      <td>[2252546]</td>\n",
              "    </tr>\n",
              "  </tbody>\n",
              "</table>\n",
              "</div>\n",
              "      <button class=\"colab-df-convert\" onclick=\"convertToInteractive('df-0668450f-d6a7-4e92-83b0-f780d288e3d5')\"\n",
              "              title=\"Convert this dataframe to an interactive table.\"\n",
              "              style=\"display:none;\">\n",
              "        \n",
              "  <svg xmlns=\"http://www.w3.org/2000/svg\" height=\"24px\"viewBox=\"0 0 24 24\"\n",
              "       width=\"24px\">\n",
              "    <path d=\"M0 0h24v24H0V0z\" fill=\"none\"/>\n",
              "    <path d=\"M18.56 5.44l.94 2.06.94-2.06 2.06-.94-2.06-.94-.94-2.06-.94 2.06-2.06.94zm-11 1L8.5 8.5l.94-2.06 2.06-.94-2.06-.94L8.5 2.5l-.94 2.06-2.06.94zm10 10l.94 2.06.94-2.06 2.06-.94-2.06-.94-.94-2.06-.94 2.06-2.06.94z\"/><path d=\"M17.41 7.96l-1.37-1.37c-.4-.4-.92-.59-1.43-.59-.52 0-1.04.2-1.43.59L10.3 9.45l-7.72 7.72c-.78.78-.78 2.05 0 2.83L4 21.41c.39.39.9.59 1.41.59.51 0 1.02-.2 1.41-.59l7.78-7.78 2.81-2.81c.8-.78.8-2.07 0-2.86zM5.41 20L4 18.59l7.72-7.72 1.47 1.35L5.41 20z\"/>\n",
              "  </svg>\n",
              "      </button>\n",
              "      \n",
              "  <style>\n",
              "    .colab-df-container {\n",
              "      display:flex;\n",
              "      flex-wrap:wrap;\n",
              "      gap: 12px;\n",
              "    }\n",
              "\n",
              "    .colab-df-convert {\n",
              "      background-color: #E8F0FE;\n",
              "      border: none;\n",
              "      border-radius: 50%;\n",
              "      cursor: pointer;\n",
              "      display: none;\n",
              "      fill: #1967D2;\n",
              "      height: 32px;\n",
              "      padding: 0 0 0 0;\n",
              "      width: 32px;\n",
              "    }\n",
              "\n",
              "    .colab-df-convert:hover {\n",
              "      background-color: #E2EBFA;\n",
              "      box-shadow: 0px 1px 2px rgba(60, 64, 67, 0.3), 0px 1px 3px 1px rgba(60, 64, 67, 0.15);\n",
              "      fill: #174EA6;\n",
              "    }\n",
              "\n",
              "    [theme=dark] .colab-df-convert {\n",
              "      background-color: #3B4455;\n",
              "      fill: #D2E3FC;\n",
              "    }\n",
              "\n",
              "    [theme=dark] .colab-df-convert:hover {\n",
              "      background-color: #434B5C;\n",
              "      box-shadow: 0px 1px 3px 1px rgba(0, 0, 0, 0.15);\n",
              "      filter: drop-shadow(0px 1px 2px rgba(0, 0, 0, 0.3));\n",
              "      fill: #FFFFFF;\n",
              "    }\n",
              "  </style>\n",
              "\n",
              "      <script>\n",
              "        const buttonEl =\n",
              "          document.querySelector('#df-0668450f-d6a7-4e92-83b0-f780d288e3d5 button.colab-df-convert');\n",
              "        buttonEl.style.display =\n",
              "          google.colab.kernel.accessAllowed ? 'block' : 'none';\n",
              "\n",
              "        async function convertToInteractive(key) {\n",
              "          const element = document.querySelector('#df-0668450f-d6a7-4e92-83b0-f780d288e3d5');\n",
              "          const dataTable =\n",
              "            await google.colab.kernel.invokeFunction('convertToInteractive',\n",
              "                                                     [key], {});\n",
              "          if (!dataTable) return;\n",
              "\n",
              "          const docLinkHtml = 'Like what you see? Visit the ' +\n",
              "            '<a target=\"_blank\" href=https://colab.research.google.com/notebooks/data_table.ipynb>data table notebook</a>'\n",
              "            + ' to learn more about interactive tables.';\n",
              "          element.innerHTML = '';\n",
              "          dataTable['output_type'] = 'display_data';\n",
              "          await google.colab.output.renderOutput(dataTable, element);\n",
              "          const docLink = document.createElement('div');\n",
              "          docLink.innerHTML = docLinkHtml;\n",
              "          element.appendChild(docLink);\n",
              "        }\n",
              "      </script>\n",
              "    </div>\n",
              "  </div>\n",
              "  "
            ],
            "text/plain": [
              "    band_id  ...                                            members\n",
              "0  16821277  ...             [332032,2313011,427302,665549,2720155]\n",
              "1    728707  ...                   [3479552,3022539,545516,3168680]\n",
              "2    205001  ...                    [336640,2695530,438635,2634067]\n",
              "3    182890  ...  [511488,323356,1143956,1336388,10699937,367617...\n",
              "4   1850330  ...                                         [17037824]\n",
              "5   7737085  ...                                           [589313]\n",
              "6   1544817  ...                                   [589313,5568993]\n",
              "7       261  ...        [19202,19198,19200,19205,19204,19199,19201]\n",
              "8    807957  ...                                           [153346]\n",
              "9    773640  ...                                          [2252546]\n",
              "\n",
              "[10 rows x 3 columns]"
            ]
          },
          "metadata": {}
        },
        {
          "output_type": "display_data",
          "data": {
            "application/javascript": [
              "window[\"71cd9d5a-67cd-11ec-8473-0242ac1c0002\"] = google.colab.output.setActiveOutputArea(window[\"71c6e334-67cd-11ec-8473-0242ac1c0002\"]);\n",
              "//# sourceURL=js_7a340dab11"
            ],
            "text/plain": [
              "<IPython.core.display.Javascript object>"
            ]
          },
          "metadata": {}
        },
        {
          "output_type": "stream",
          "name": "stdout",
          "text": [
            " \n"
          ]
        },
        {
          "output_type": "display_data",
          "data": {
            "application/javascript": [
              "window[\"71cf66d0-67cd-11ec-8473-0242ac1c0002\"] = google.colab.output.setActiveOutputArea(window[\"71c4547a-67cd-11ec-8473-0242ac1c0002\"]);\n",
              "//# sourceURL=js_bd77e917e3"
            ],
            "text/plain": [
              "<IPython.core.display.Javascript object>"
            ]
          },
          "metadata": {}
        },
        {
          "output_type": "display_data",
          "data": {
            "application/javascript": [
              "window[\"71d12e2a-67cd-11ec-8473-0242ac1c0002\"] = google.colab.output.getActiveOutputArea();\n",
              "//# sourceURL=js_f633ca49d3"
            ],
            "text/plain": [
              "<IPython.core.display.Javascript object>"
            ]
          },
          "metadata": {}
        },
        {
          "output_type": "display_data",
          "data": {
            "application/javascript": [
              "window[\"71d1874e-67cd-11ec-8473-0242ac1c0002\"] = document.querySelector(\"#id292_content_3\");\n",
              "//# sourceURL=js_0a377c3df1"
            ],
            "text/plain": [
              "<IPython.core.display.Javascript object>"
            ]
          },
          "metadata": {}
        },
        {
          "output_type": "display_data",
          "data": {
            "application/javascript": [
              "window[\"71d1d082-67cd-11ec-8473-0242ac1c0002\"] = google.colab.output.setActiveOutputArea(window[\"71d1874e-67cd-11ec-8473-0242ac1c0002\"]);\n",
              "//# sourceURL=js_43fe32dbf9"
            ],
            "text/plain": [
              "<IPython.core.display.Javascript object>"
            ]
          },
          "metadata": {}
        },
        {
          "output_type": "display_data",
          "data": {
            "application/javascript": [
              "window[\"71d2151a-67cd-11ec-8473-0242ac1c0002\"] = window[\"id292\"].setSelectedTabIndex(3);\n",
              "//# sourceURL=js_841267bf62"
            ],
            "text/plain": [
              "<IPython.core.display.Javascript object>"
            ]
          },
          "metadata": {}
        },
        {
          "output_type": "display_data",
          "data": {
            "application/javascript": [
              "window[\"71d3b94c-67cd-11ec-8473-0242ac1c0002\"] = google.colab.output.getActiveOutputArea();\n",
              "//# sourceURL=js_46ec69776b"
            ],
            "text/plain": [
              "<IPython.core.display.Javascript object>"
            ]
          },
          "metadata": {}
        },
        {
          "output_type": "display_data",
          "data": {
            "application/javascript": [
              "window[\"71d3ff6a-67cd-11ec-8473-0242ac1c0002\"] = document.querySelector(\"#id296_content_1\");\n",
              "//# sourceURL=js_c984a8eb49"
            ],
            "text/plain": [
              "<IPython.core.display.Javascript object>"
            ]
          },
          "metadata": {}
        },
        {
          "output_type": "display_data",
          "data": {
            "application/javascript": [
              "window[\"71d43f52-67cd-11ec-8473-0242ac1c0002\"] = google.colab.output.setActiveOutputArea(window[\"71d3ff6a-67cd-11ec-8473-0242ac1c0002\"]);\n",
              "//# sourceURL=js_91047a5649"
            ],
            "text/plain": [
              "<IPython.core.display.Javascript object>"
            ]
          },
          "metadata": {}
        },
        {
          "output_type": "display_data",
          "data": {
            "application/javascript": [
              "window[\"71d4fabe-67cd-11ec-8473-0242ac1c0002\"] = window[\"id296\"].setSelectedTabIndex(1);\n",
              "//# sourceURL=js_a625692b57"
            ],
            "text/plain": [
              "<IPython.core.display.Javascript object>"
            ]
          },
          "metadata": {}
        },
        {
          "output_type": "stream",
          "name": "stdout",
          "text": [
            "The following table is stored at \u001b[1mSomeAwards\u001b[0m variable.\n"
          ]
        },
        {
          "output_type": "display_data",
          "data": {
            "text/html": [
              "\n",
              "  <div id=\"df-2fcaad27-5e07-4e53-a0fd-20b4a462a337\">\n",
              "    <div class=\"colab-df-container\">\n",
              "      <div>\n",
              "<style scoped>\n",
              "    .dataframe tbody tr th:only-of-type {\n",
              "        vertical-align: middle;\n",
              "    }\n",
              "\n",
              "    .dataframe tbody tr th {\n",
              "        vertical-align: top;\n",
              "    }\n",
              "\n",
              "    .dataframe thead th {\n",
              "        text-align: right;\n",
              "    }\n",
              "</style>\n",
              "<table border=\"1\" class=\"dataframe\">\n",
              "  <thead>\n",
              "    <tr style=\"text-align: right;\">\n",
              "      <th></th>\n",
              "      <th>awardee_id</th>\n",
              "      <th>awardee_name</th>\n",
              "      <th>award</th>\n",
              "    </tr>\n",
              "  </thead>\n",
              "  <tbody>\n",
              "    <tr>\n",
              "      <th>0</th>\n",
              "      <td>4724516</td>\n",
              "      <td>Ali</td>\n",
              "      <td>Filmfare Awards South</td>\n",
              "    </tr>\n",
              "    <tr>\n",
              "      <th>1</th>\n",
              "      <td>4724516</td>\n",
              "      <td>Ali</td>\n",
              "      <td>Nandi Award for Best Male Comedian</td>\n",
              "    </tr>\n",
              "    <tr>\n",
              "      <th>2</th>\n",
              "      <td>232449</td>\n",
              "      <td>BoA</td>\n",
              "      <td>Mnet Asian Music Award for Best New Artist</td>\n",
              "    </tr>\n",
              "    <tr>\n",
              "      <th>3</th>\n",
              "      <td>20729</td>\n",
              "      <td>Cro</td>\n",
              "      <td>2013 Echo Awards</td>\n",
              "    </tr>\n",
              "    <tr>\n",
              "      <th>4</th>\n",
              "      <td>20729</td>\n",
              "      <td>Cro</td>\n",
              "      <td>Swiss Music Awards 2013</td>\n",
              "    </tr>\n",
              "    <tr>\n",
              "      <th>5</th>\n",
              "      <td>20729</td>\n",
              "      <td>Cro</td>\n",
              "      <td>1 Live Krone</td>\n",
              "    </tr>\n",
              "    <tr>\n",
              "      <th>6</th>\n",
              "      <td>20729</td>\n",
              "      <td>Cro</td>\n",
              "      <td>Bambi Award</td>\n",
              "    </tr>\n",
              "    <tr>\n",
              "      <th>7</th>\n",
              "      <td>154543</td>\n",
              "      <td>D12</td>\n",
              "      <td>MTV Europe Music Award for Best Hip-Hop</td>\n",
              "    </tr>\n",
              "    <tr>\n",
              "      <th>8</th>\n",
              "      <td>239464</td>\n",
              "      <td>Eve</td>\n",
              "      <td>Grammy Award for Best Rap/Sung Performance</td>\n",
              "    </tr>\n",
              "    <tr>\n",
              "      <th>9</th>\n",
              "      <td>6480008</td>\n",
              "      <td>Lal</td>\n",
              "      <td>Kerala State Film Award for Best Actor</td>\n",
              "    </tr>\n",
              "  </tbody>\n",
              "</table>\n",
              "</div>\n",
              "      <button class=\"colab-df-convert\" onclick=\"convertToInteractive('df-2fcaad27-5e07-4e53-a0fd-20b4a462a337')\"\n",
              "              title=\"Convert this dataframe to an interactive table.\"\n",
              "              style=\"display:none;\">\n",
              "        \n",
              "  <svg xmlns=\"http://www.w3.org/2000/svg\" height=\"24px\"viewBox=\"0 0 24 24\"\n",
              "       width=\"24px\">\n",
              "    <path d=\"M0 0h24v24H0V0z\" fill=\"none\"/>\n",
              "    <path d=\"M18.56 5.44l.94 2.06.94-2.06 2.06-.94-2.06-.94-.94-2.06-.94 2.06-2.06.94zm-11 1L8.5 8.5l.94-2.06 2.06-.94-2.06-.94L8.5 2.5l-.94 2.06-2.06.94zm10 10l.94 2.06.94-2.06 2.06-.94-2.06-.94-.94-2.06-.94 2.06-2.06.94z\"/><path d=\"M17.41 7.96l-1.37-1.37c-.4-.4-.92-.59-1.43-.59-.52 0-1.04.2-1.43.59L10.3 9.45l-7.72 7.72c-.78.78-.78 2.05 0 2.83L4 21.41c.39.39.9.59 1.41.59.51 0 1.02-.2 1.41-.59l7.78-7.78 2.81-2.81c.8-.78.8-2.07 0-2.86zM5.41 20L4 18.59l7.72-7.72 1.47 1.35L5.41 20z\"/>\n",
              "  </svg>\n",
              "      </button>\n",
              "      \n",
              "  <style>\n",
              "    .colab-df-container {\n",
              "      display:flex;\n",
              "      flex-wrap:wrap;\n",
              "      gap: 12px;\n",
              "    }\n",
              "\n",
              "    .colab-df-convert {\n",
              "      background-color: #E8F0FE;\n",
              "      border: none;\n",
              "      border-radius: 50%;\n",
              "      cursor: pointer;\n",
              "      display: none;\n",
              "      fill: #1967D2;\n",
              "      height: 32px;\n",
              "      padding: 0 0 0 0;\n",
              "      width: 32px;\n",
              "    }\n",
              "\n",
              "    .colab-df-convert:hover {\n",
              "      background-color: #E2EBFA;\n",
              "      box-shadow: 0px 1px 2px rgba(60, 64, 67, 0.3), 0px 1px 3px 1px rgba(60, 64, 67, 0.15);\n",
              "      fill: #174EA6;\n",
              "    }\n",
              "\n",
              "    [theme=dark] .colab-df-convert {\n",
              "      background-color: #3B4455;\n",
              "      fill: #D2E3FC;\n",
              "    }\n",
              "\n",
              "    [theme=dark] .colab-df-convert:hover {\n",
              "      background-color: #434B5C;\n",
              "      box-shadow: 0px 1px 3px 1px rgba(0, 0, 0, 0.15);\n",
              "      filter: drop-shadow(0px 1px 2px rgba(0, 0, 0, 0.3));\n",
              "      fill: #FFFFFF;\n",
              "    }\n",
              "  </style>\n",
              "\n",
              "      <script>\n",
              "        const buttonEl =\n",
              "          document.querySelector('#df-2fcaad27-5e07-4e53-a0fd-20b4a462a337 button.colab-df-convert');\n",
              "        buttonEl.style.display =\n",
              "          google.colab.kernel.accessAllowed ? 'block' : 'none';\n",
              "\n",
              "        async function convertToInteractive(key) {\n",
              "          const element = document.querySelector('#df-2fcaad27-5e07-4e53-a0fd-20b4a462a337');\n",
              "          const dataTable =\n",
              "            await google.colab.kernel.invokeFunction('convertToInteractive',\n",
              "                                                     [key], {});\n",
              "          if (!dataTable) return;\n",
              "\n",
              "          const docLinkHtml = 'Like what you see? Visit the ' +\n",
              "            '<a target=\"_blank\" href=https://colab.research.google.com/notebooks/data_table.ipynb>data table notebook</a>'\n",
              "            + ' to learn more about interactive tables.';\n",
              "          element.innerHTML = '';\n",
              "          dataTable['output_type'] = 'display_data';\n",
              "          await google.colab.output.renderOutput(dataTable, element);\n",
              "          const docLink = document.createElement('div');\n",
              "          docLink.innerHTML = docLinkHtml;\n",
              "          element.appendChild(docLink);\n",
              "        }\n",
              "      </script>\n",
              "    </div>\n",
              "  </div>\n",
              "  "
            ],
            "text/plain": [
              "   awardee_id awardee_name                                       award\n",
              "0     4724516          Ali                       Filmfare Awards South\n",
              "1     4724516          Ali          Nandi Award for Best Male Comedian\n",
              "2      232449          BoA  Mnet Asian Music Award for Best New Artist\n",
              "3       20729          Cro                            2013 Echo Awards\n",
              "4       20729          Cro                     Swiss Music Awards 2013\n",
              "5       20729          Cro                                1 Live Krone\n",
              "6       20729          Cro                                 Bambi Award\n",
              "7      154543          D12     MTV Europe Music Award for Best Hip-Hop\n",
              "8      239464          Eve  Grammy Award for Best Rap/Sung Performance\n",
              "9     6480008          Lal      Kerala State Film Award for Best Actor"
            ]
          },
          "metadata": {}
        },
        {
          "output_type": "display_data",
          "data": {
            "application/javascript": [
              "window[\"71dbde92-67cd-11ec-8473-0242ac1c0002\"] = google.colab.output.setActiveOutputArea(window[\"71d3b94c-67cd-11ec-8473-0242ac1c0002\"]);\n",
              "//# sourceURL=js_f1ef90dea6"
            ],
            "text/plain": [
              "<IPython.core.display.Javascript object>"
            ]
          },
          "metadata": {}
        },
        {
          "output_type": "stream",
          "name": "stdout",
          "text": [
            " \n"
          ]
        },
        {
          "output_type": "display_data",
          "data": {
            "application/javascript": [
              "window[\"71dd7bda-67cd-11ec-8473-0242ac1c0002\"] = google.colab.output.setActiveOutputArea(window[\"71d12e2a-67cd-11ec-8473-0242ac1c0002\"]);\n",
              "//# sourceURL=js_158c5cf7f1"
            ],
            "text/plain": [
              "<IPython.core.display.Javascript object>"
            ]
          },
          "metadata": {}
        },
        {
          "output_type": "display_data",
          "data": {
            "application/javascript": [
              "window[\"71df1a44-67cd-11ec-8473-0242ac1c0002\"] = google.colab.output.getActiveOutputArea();\n",
              "//# sourceURL=js_495412d3bf"
            ],
            "text/plain": [
              "<IPython.core.display.Javascript object>"
            ]
          },
          "metadata": {}
        },
        {
          "output_type": "display_data",
          "data": {
            "application/javascript": [
              "window[\"71df6eb8-67cd-11ec-8473-0242ac1c0002\"] = document.querySelector(\"#id292_content_4\");\n",
              "//# sourceURL=js_135b3ee7e2"
            ],
            "text/plain": [
              "<IPython.core.display.Javascript object>"
            ]
          },
          "metadata": {}
        },
        {
          "output_type": "display_data",
          "data": {
            "application/javascript": [
              "window[\"71dfbc1a-67cd-11ec-8473-0242ac1c0002\"] = google.colab.output.setActiveOutputArea(window[\"71df6eb8-67cd-11ec-8473-0242ac1c0002\"]);\n",
              "//# sourceURL=js_2e5b0d6142"
            ],
            "text/plain": [
              "<IPython.core.display.Javascript object>"
            ]
          },
          "metadata": {}
        },
        {
          "output_type": "display_data",
          "data": {
            "application/javascript": [
              "window[\"71dffe8c-67cd-11ec-8473-0242ac1c0002\"] = window[\"id292\"].setSelectedTabIndex(4);\n",
              "//# sourceURL=js_b653244f07"
            ],
            "text/plain": [
              "<IPython.core.display.Javascript object>"
            ]
          },
          "metadata": {}
        },
        {
          "output_type": "display_data",
          "data": {
            "application/javascript": [
              "window[\"71e14558-67cd-11ec-8473-0242ac1c0002\"] = google.colab.output.getActiveOutputArea();\n",
              "//# sourceURL=js_580df54fcc"
            ],
            "text/plain": [
              "<IPython.core.display.Javascript object>"
            ]
          },
          "metadata": {}
        },
        {
          "output_type": "display_data",
          "data": {
            "application/javascript": [
              "window[\"71e18964-67cd-11ec-8473-0242ac1c0002\"] = document.querySelector(\"#id297_content_1\");\n",
              "//# sourceURL=js_248d0214b3"
            ],
            "text/plain": [
              "<IPython.core.display.Javascript object>"
            ]
          },
          "metadata": {}
        },
        {
          "output_type": "display_data",
          "data": {
            "application/javascript": [
              "window[\"71e1d0d6-67cd-11ec-8473-0242ac1c0002\"] = google.colab.output.setActiveOutputArea(window[\"71e18964-67cd-11ec-8473-0242ac1c0002\"]);\n",
              "//# sourceURL=js_2e10fc3253"
            ],
            "text/plain": [
              "<IPython.core.display.Javascript object>"
            ]
          },
          "metadata": {}
        },
        {
          "output_type": "display_data",
          "data": {
            "application/javascript": [
              "window[\"71e33066-67cd-11ec-8473-0242ac1c0002\"] = window[\"id297\"].setSelectedTabIndex(1);\n",
              "//# sourceURL=js_8e85ff27ea"
            ],
            "text/plain": [
              "<IPython.core.display.Javascript object>"
            ]
          },
          "metadata": {}
        },
        {
          "output_type": "stream",
          "name": "stdout",
          "text": [
            "The following table is stored at \u001b[1mShowbusinessStats\u001b[0m variable.\n"
          ]
        },
        {
          "output_type": "display_data",
          "data": {
            "text/html": [
              "\n",
              "  <div id=\"df-960685d1-fa31-422a-b556-c74730c66262\">\n",
              "    <div class=\"colab-df-container\">\n",
              "      <div>\n",
              "<style scoped>\n",
              "    .dataframe tbody tr th:only-of-type {\n",
              "        vertical-align: middle;\n",
              "    }\n",
              "\n",
              "    .dataframe tbody tr th {\n",
              "        vertical-align: top;\n",
              "    }\n",
              "\n",
              "    .dataframe thead th {\n",
              "        text-align: right;\n",
              "    }\n",
              "</style>\n",
              "<table border=\"1\" class=\"dataframe\">\n",
              "  <thead>\n",
              "    <tr style=\"text-align: right;\">\n",
              "      <th></th>\n",
              "      <th>num_movies</th>\n",
              "      <th>num_people</th>\n",
              "      <th>num_bands</th>\n",
              "    </tr>\n",
              "  </thead>\n",
              "  <tbody>\n",
              "    <tr>\n",
              "      <th>0</th>\n",
              "      <td>110475</td>\n",
              "      <td>105982</td>\n",
              "      <td>728</td>\n",
              "    </tr>\n",
              "  </tbody>\n",
              "</table>\n",
              "</div>\n",
              "      <button class=\"colab-df-convert\" onclick=\"convertToInteractive('df-960685d1-fa31-422a-b556-c74730c66262')\"\n",
              "              title=\"Convert this dataframe to an interactive table.\"\n",
              "              style=\"display:none;\">\n",
              "        \n",
              "  <svg xmlns=\"http://www.w3.org/2000/svg\" height=\"24px\"viewBox=\"0 0 24 24\"\n",
              "       width=\"24px\">\n",
              "    <path d=\"M0 0h24v24H0V0z\" fill=\"none\"/>\n",
              "    <path d=\"M18.56 5.44l.94 2.06.94-2.06 2.06-.94-2.06-.94-.94-2.06-.94 2.06-2.06.94zm-11 1L8.5 8.5l.94-2.06 2.06-.94-2.06-.94L8.5 2.5l-.94 2.06-2.06.94zm10 10l.94 2.06.94-2.06 2.06-.94-2.06-.94-.94-2.06-.94 2.06-2.06.94z\"/><path d=\"M17.41 7.96l-1.37-1.37c-.4-.4-.92-.59-1.43-.59-.52 0-1.04.2-1.43.59L10.3 9.45l-7.72 7.72c-.78.78-.78 2.05 0 2.83L4 21.41c.39.39.9.59 1.41.59.51 0 1.02-.2 1.41-.59l7.78-7.78 2.81-2.81c.8-.78.8-2.07 0-2.86zM5.41 20L4 18.59l7.72-7.72 1.47 1.35L5.41 20z\"/>\n",
              "  </svg>\n",
              "      </button>\n",
              "      \n",
              "  <style>\n",
              "    .colab-df-container {\n",
              "      display:flex;\n",
              "      flex-wrap:wrap;\n",
              "      gap: 12px;\n",
              "    }\n",
              "\n",
              "    .colab-df-convert {\n",
              "      background-color: #E8F0FE;\n",
              "      border: none;\n",
              "      border-radius: 50%;\n",
              "      cursor: pointer;\n",
              "      display: none;\n",
              "      fill: #1967D2;\n",
              "      height: 32px;\n",
              "      padding: 0 0 0 0;\n",
              "      width: 32px;\n",
              "    }\n",
              "\n",
              "    .colab-df-convert:hover {\n",
              "      background-color: #E2EBFA;\n",
              "      box-shadow: 0px 1px 2px rgba(60, 64, 67, 0.3), 0px 1px 3px 1px rgba(60, 64, 67, 0.15);\n",
              "      fill: #174EA6;\n",
              "    }\n",
              "\n",
              "    [theme=dark] .colab-df-convert {\n",
              "      background-color: #3B4455;\n",
              "      fill: #D2E3FC;\n",
              "    }\n",
              "\n",
              "    [theme=dark] .colab-df-convert:hover {\n",
              "      background-color: #434B5C;\n",
              "      box-shadow: 0px 1px 3px 1px rgba(0, 0, 0, 0.15);\n",
              "      filter: drop-shadow(0px 1px 2px rgba(0, 0, 0, 0.3));\n",
              "      fill: #FFFFFF;\n",
              "    }\n",
              "  </style>\n",
              "\n",
              "      <script>\n",
              "        const buttonEl =\n",
              "          document.querySelector('#df-960685d1-fa31-422a-b556-c74730c66262 button.colab-df-convert');\n",
              "        buttonEl.style.display =\n",
              "          google.colab.kernel.accessAllowed ? 'block' : 'none';\n",
              "\n",
              "        async function convertToInteractive(key) {\n",
              "          const element = document.querySelector('#df-960685d1-fa31-422a-b556-c74730c66262');\n",
              "          const dataTable =\n",
              "            await google.colab.kernel.invokeFunction('convertToInteractive',\n",
              "                                                     [key], {});\n",
              "          if (!dataTable) return;\n",
              "\n",
              "          const docLinkHtml = 'Like what you see? Visit the ' +\n",
              "            '<a target=\"_blank\" href=https://colab.research.google.com/notebooks/data_table.ipynb>data table notebook</a>'\n",
              "            + ' to learn more about interactive tables.';\n",
              "          element.innerHTML = '';\n",
              "          dataTable['output_type'] = 'display_data';\n",
              "          await google.colab.output.renderOutput(dataTable, element);\n",
              "          const docLink = document.createElement('div');\n",
              "          docLink.innerHTML = docLinkHtml;\n",
              "          element.appendChild(docLink);\n",
              "        }\n",
              "      </script>\n",
              "    </div>\n",
              "  </div>\n",
              "  "
            ],
            "text/plain": [
              "   num_movies  num_people  num_bands\n",
              "0      110475      105982        728"
            ]
          },
          "metadata": {}
        },
        {
          "output_type": "display_data",
          "data": {
            "application/javascript": [
              "window[\"71e96c88-67cd-11ec-8473-0242ac1c0002\"] = google.colab.output.setActiveOutputArea(window[\"71e14558-67cd-11ec-8473-0242ac1c0002\"]);\n",
              "//# sourceURL=js_e823483d0e"
            ],
            "text/plain": [
              "<IPython.core.display.Javascript object>"
            ]
          },
          "metadata": {}
        },
        {
          "output_type": "stream",
          "name": "stdout",
          "text": [
            " \n"
          ]
        },
        {
          "output_type": "display_data",
          "data": {
            "application/javascript": [
              "window[\"71ec39e0-67cd-11ec-8473-0242ac1c0002\"] = google.colab.output.setActiveOutputArea(window[\"71df1a44-67cd-11ec-8473-0242ac1c0002\"]);\n",
              "//# sourceURL=js_bafe5e8f29"
            ],
            "text/plain": [
              "<IPython.core.display.Javascript object>"
            ]
          },
          "metadata": {}
        },
        {
          "output_type": "display_data",
          "data": {
            "application/javascript": [
              "window[\"71ef0968-67cd-11ec-8473-0242ac1c0002\"] = google.colab.output.getActiveOutputArea();\n",
              "//# sourceURL=js_27ad561d1f"
            ],
            "text/plain": [
              "<IPython.core.display.Javascript object>"
            ]
          },
          "metadata": {}
        },
        {
          "output_type": "display_data",
          "data": {
            "application/javascript": [
              "window[\"71ef7ff6-67cd-11ec-8473-0242ac1c0002\"] = document.querySelector(\"#id292_content_5\");\n",
              "//# sourceURL=js_fa25f3c3bc"
            ],
            "text/plain": [
              "<IPython.core.display.Javascript object>"
            ]
          },
          "metadata": {}
        },
        {
          "output_type": "display_data",
          "data": {
            "application/javascript": [
              "window[\"71f01f88-67cd-11ec-8473-0242ac1c0002\"] = google.colab.output.setActiveOutputArea(window[\"71ef7ff6-67cd-11ec-8473-0242ac1c0002\"]);\n",
              "//# sourceURL=js_cff914e992"
            ],
            "text/plain": [
              "<IPython.core.display.Javascript object>"
            ]
          },
          "metadata": {}
        },
        {
          "output_type": "display_data",
          "data": {
            "application/javascript": [
              "window[\"71f08a90-67cd-11ec-8473-0242ac1c0002\"] = window[\"id292\"].setSelectedTabIndex(5);\n",
              "//# sourceURL=js_f4a9d996c6"
            ],
            "text/plain": [
              "<IPython.core.display.Javascript object>"
            ]
          },
          "metadata": {}
        },
        {
          "output_type": "display_data",
          "data": {
            "application/javascript": [
              "window[\"71f2d5c0-67cd-11ec-8473-0242ac1c0002\"] = google.colab.output.getActiveOutputArea();\n",
              "//# sourceURL=js_22d8f8777d"
            ],
            "text/plain": [
              "<IPython.core.display.Javascript object>"
            ]
          },
          "metadata": {}
        },
        {
          "output_type": "display_data",
          "data": {
            "application/javascript": [
              "window[\"71f32a48-67cd-11ec-8473-0242ac1c0002\"] = document.querySelector(\"#id298_content_1\");\n",
              "//# sourceURL=js_6292674248"
            ],
            "text/plain": [
              "<IPython.core.display.Javascript object>"
            ]
          },
          "metadata": {}
        },
        {
          "output_type": "display_data",
          "data": {
            "application/javascript": [
              "window[\"71f38484-67cd-11ec-8473-0242ac1c0002\"] = google.colab.output.setActiveOutputArea(window[\"71f32a48-67cd-11ec-8473-0242ac1c0002\"]);\n",
              "//# sourceURL=js_75fd72fe39"
            ],
            "text/plain": [
              "<IPython.core.display.Javascript object>"
            ]
          },
          "metadata": {}
        },
        {
          "output_type": "display_data",
          "data": {
            "application/javascript": [
              "window[\"71f41624-67cd-11ec-8473-0242ac1c0002\"] = window[\"id298\"].setSelectedTabIndex(1);\n",
              "//# sourceURL=js_1fa1a71dbc"
            ],
            "text/plain": [
              "<IPython.core.display.Javascript object>"
            ]
          },
          "metadata": {}
        },
        {
          "output_type": "stream",
          "name": "stdout",
          "text": [
            "The following table is stored at \u001b[1mRockArtistInMovie\u001b[0m variable.\n"
          ]
        },
        {
          "output_type": "display_data",
          "data": {
            "text/html": [
              "\n",
              "  <div id=\"df-175e362b-9d7d-4798-ac58-e4f33047a4b8\">\n",
              "    <div class=\"colab-df-container\">\n",
              "      <div>\n",
              "<style scoped>\n",
              "    .dataframe tbody tr th:only-of-type {\n",
              "        vertical-align: middle;\n",
              "    }\n",
              "\n",
              "    .dataframe tbody tr th {\n",
              "        vertical-align: top;\n",
              "    }\n",
              "\n",
              "    .dataframe thead th {\n",
              "        text-align: right;\n",
              "    }\n",
              "</style>\n",
              "<table border=\"1\" class=\"dataframe\">\n",
              "  <thead>\n",
              "    <tr style=\"text-align: right;\">\n",
              "      <th></th>\n",
              "      <th>person_id</th>\n",
              "      <th>movie</th>\n",
              "    </tr>\n",
              "  </thead>\n",
              "  <tbody>\n",
              "    <tr>\n",
              "      <th>0</th>\n",
              "      <td>633</td>\n",
              "      <td>'68</td>\n",
              "    </tr>\n",
              "    <tr>\n",
              "      <th>1</th>\n",
              "      <td>633</td>\n",
              "      <td>CSNY/Déjà Vu</td>\n",
              "    </tr>\n",
              "    <tr>\n",
              "      <th>2</th>\n",
              "      <td>633</td>\n",
              "      <td>Human Highway</td>\n",
              "    </tr>\n",
              "    <tr>\n",
              "      <th>3</th>\n",
              "      <td>633</td>\n",
              "      <td>Journey Through the Past</td>\n",
              "    </tr>\n",
              "    <tr>\n",
              "      <th>4</th>\n",
              "      <td>633</td>\n",
              "      <td>Love at Large</td>\n",
              "    </tr>\n",
              "    <tr>\n",
              "      <th>...</th>\n",
              "      <td>...</td>\n",
              "      <td>...</td>\n",
              "    </tr>\n",
              "    <tr>\n",
              "      <th>1056</th>\n",
              "      <td>16099557</td>\n",
              "      <td>Underground</td>\n",
              "    </tr>\n",
              "    <tr>\n",
              "      <th>1057</th>\n",
              "      <td>16099557</td>\n",
              "      <td>Vukovar, jedna priča</td>\n",
              "    </tr>\n",
              "    <tr>\n",
              "      <th>1058</th>\n",
              "      <td>19967341</td>\n",
              "      <td>Flamenco</td>\n",
              "    </tr>\n",
              "    <tr>\n",
              "      <th>1059</th>\n",
              "      <td>21642482</td>\n",
              "      <td>Dwellers</td>\n",
              "    </tr>\n",
              "    <tr>\n",
              "      <th>1060</th>\n",
              "      <td>21642482</td>\n",
              "      <td>Her Name Was Christa</td>\n",
              "    </tr>\n",
              "  </tbody>\n",
              "</table>\n",
              "<p>1061 rows × 2 columns</p>\n",
              "</div>\n",
              "      <button class=\"colab-df-convert\" onclick=\"convertToInteractive('df-175e362b-9d7d-4798-ac58-e4f33047a4b8')\"\n",
              "              title=\"Convert this dataframe to an interactive table.\"\n",
              "              style=\"display:none;\">\n",
              "        \n",
              "  <svg xmlns=\"http://www.w3.org/2000/svg\" height=\"24px\"viewBox=\"0 0 24 24\"\n",
              "       width=\"24px\">\n",
              "    <path d=\"M0 0h24v24H0V0z\" fill=\"none\"/>\n",
              "    <path d=\"M18.56 5.44l.94 2.06.94-2.06 2.06-.94-2.06-.94-.94-2.06-.94 2.06-2.06.94zm-11 1L8.5 8.5l.94-2.06 2.06-.94-2.06-.94L8.5 2.5l-.94 2.06-2.06.94zm10 10l.94 2.06.94-2.06 2.06-.94-2.06-.94-.94-2.06-.94 2.06-2.06.94z\"/><path d=\"M17.41 7.96l-1.37-1.37c-.4-.4-.92-.59-1.43-.59-.52 0-1.04.2-1.43.59L10.3 9.45l-7.72 7.72c-.78.78-.78 2.05 0 2.83L4 21.41c.39.39.9.59 1.41.59.51 0 1.02-.2 1.41-.59l7.78-7.78 2.81-2.81c.8-.78.8-2.07 0-2.86zM5.41 20L4 18.59l7.72-7.72 1.47 1.35L5.41 20z\"/>\n",
              "  </svg>\n",
              "      </button>\n",
              "      \n",
              "  <style>\n",
              "    .colab-df-container {\n",
              "      display:flex;\n",
              "      flex-wrap:wrap;\n",
              "      gap: 12px;\n",
              "    }\n",
              "\n",
              "    .colab-df-convert {\n",
              "      background-color: #E8F0FE;\n",
              "      border: none;\n",
              "      border-radius: 50%;\n",
              "      cursor: pointer;\n",
              "      display: none;\n",
              "      fill: #1967D2;\n",
              "      height: 32px;\n",
              "      padding: 0 0 0 0;\n",
              "      width: 32px;\n",
              "    }\n",
              "\n",
              "    .colab-df-convert:hover {\n",
              "      background-color: #E2EBFA;\n",
              "      box-shadow: 0px 1px 2px rgba(60, 64, 67, 0.3), 0px 1px 3px 1px rgba(60, 64, 67, 0.15);\n",
              "      fill: #174EA6;\n",
              "    }\n",
              "\n",
              "    [theme=dark] .colab-df-convert {\n",
              "      background-color: #3B4455;\n",
              "      fill: #D2E3FC;\n",
              "    }\n",
              "\n",
              "    [theme=dark] .colab-df-convert:hover {\n",
              "      background-color: #434B5C;\n",
              "      box-shadow: 0px 1px 3px 1px rgba(0, 0, 0, 0.15);\n",
              "      filter: drop-shadow(0px 1px 2px rgba(0, 0, 0, 0.3));\n",
              "      fill: #FFFFFF;\n",
              "    }\n",
              "  </style>\n",
              "\n",
              "      <script>\n",
              "        const buttonEl =\n",
              "          document.querySelector('#df-175e362b-9d7d-4798-ac58-e4f33047a4b8 button.colab-df-convert');\n",
              "        buttonEl.style.display =\n",
              "          google.colab.kernel.accessAllowed ? 'block' : 'none';\n",
              "\n",
              "        async function convertToInteractive(key) {\n",
              "          const element = document.querySelector('#df-175e362b-9d7d-4798-ac58-e4f33047a4b8');\n",
              "          const dataTable =\n",
              "            await google.colab.kernel.invokeFunction('convertToInteractive',\n",
              "                                                     [key], {});\n",
              "          if (!dataTable) return;\n",
              "\n",
              "          const docLinkHtml = 'Like what you see? Visit the ' +\n",
              "            '<a target=\"_blank\" href=https://colab.research.google.com/notebooks/data_table.ipynb>data table notebook</a>'\n",
              "            + ' to learn more about interactive tables.';\n",
              "          element.innerHTML = '';\n",
              "          dataTable['output_type'] = 'display_data';\n",
              "          await google.colab.output.renderOutput(dataTable, element);\n",
              "          const docLink = document.createElement('div');\n",
              "          docLink.innerHTML = docLinkHtml;\n",
              "          element.appendChild(docLink);\n",
              "        }\n",
              "      </script>\n",
              "    </div>\n",
              "  </div>\n",
              "  "
            ],
            "text/plain": [
              "      person_id                     movie\n",
              "0           633                       '68\n",
              "1           633              CSNY/Déjà Vu\n",
              "2           633             Human Highway\n",
              "3           633  Journey Through the Past\n",
              "4           633             Love at Large\n",
              "...         ...                       ...\n",
              "1056   16099557               Underground\n",
              "1057   16099557      Vukovar, jedna priča\n",
              "1058   19967341                  Flamenco\n",
              "1059   21642482                  Dwellers\n",
              "1060   21642482      Her Name Was Christa\n",
              "\n",
              "[1061 rows x 2 columns]"
            ]
          },
          "metadata": {}
        },
        {
          "output_type": "display_data",
          "data": {
            "application/javascript": [
              "window[\"71fa5598-67cd-11ec-8473-0242ac1c0002\"] = google.colab.output.setActiveOutputArea(window[\"71f2d5c0-67cd-11ec-8473-0242ac1c0002\"]);\n",
              "//# sourceURL=js_27208a5eb4"
            ],
            "text/plain": [
              "<IPython.core.display.Javascript object>"
            ]
          },
          "metadata": {}
        },
        {
          "output_type": "stream",
          "name": "stdout",
          "text": [
            " \n"
          ]
        },
        {
          "output_type": "display_data",
          "data": {
            "application/javascript": [
              "window[\"71fcff00-67cd-11ec-8473-0242ac1c0002\"] = google.colab.output.setActiveOutputArea(window[\"71ef0968-67cd-11ec-8473-0242ac1c0002\"]);\n",
              "//# sourceURL=js_d92a3af77f"
            ],
            "text/plain": [
              "<IPython.core.display.Javascript object>"
            ]
          },
          "metadata": {}
        },
        {
          "output_type": "display_data",
          "data": {
            "application/javascript": [
              "window[\"71fefbf2-67cd-11ec-8473-0242ac1c0002\"] = google.colab.output.getActiveOutputArea();\n",
              "//# sourceURL=js_e9139503ef"
            ],
            "text/plain": [
              "<IPython.core.display.Javascript object>"
            ]
          },
          "metadata": {}
        },
        {
          "output_type": "display_data",
          "data": {
            "application/javascript": [
              "window[\"71ff7b7c-67cd-11ec-8473-0242ac1c0002\"] = document.querySelector(\"#id292_content_6\");\n",
              "//# sourceURL=js_f37e1d3133"
            ],
            "text/plain": [
              "<IPython.core.display.Javascript object>"
            ]
          },
          "metadata": {}
        },
        {
          "output_type": "display_data",
          "data": {
            "application/javascript": [
              "window[\"71ffe63e-67cd-11ec-8473-0242ac1c0002\"] = google.colab.output.setActiveOutputArea(window[\"71ff7b7c-67cd-11ec-8473-0242ac1c0002\"]);\n",
              "//# sourceURL=js_4e2eb4c4bb"
            ],
            "text/plain": [
              "<IPython.core.display.Javascript object>"
            ]
          },
          "metadata": {}
        },
        {
          "output_type": "display_data",
          "data": {
            "application/javascript": [
              "window[\"7200575e-67cd-11ec-8473-0242ac1c0002\"] = window[\"id292\"].setSelectedTabIndex(6);\n",
              "//# sourceURL=js_e984b3e860"
            ],
            "text/plain": [
              "<IPython.core.display.Javascript object>"
            ]
          },
          "metadata": {}
        },
        {
          "output_type": "display_data",
          "data": {
            "application/javascript": [
              "window[\"7202a4fa-67cd-11ec-8473-0242ac1c0002\"] = google.colab.output.getActiveOutputArea();\n",
              "//# sourceURL=js_0407a5fb57"
            ],
            "text/plain": [
              "<IPython.core.display.Javascript object>"
            ]
          },
          "metadata": {}
        },
        {
          "output_type": "display_data",
          "data": {
            "application/javascript": [
              "window[\"7202ff5e-67cd-11ec-8473-0242ac1c0002\"] = document.querySelector(\"#id299_content_1\");\n",
              "//# sourceURL=js_a234e472fd"
            ],
            "text/plain": [
              "<IPython.core.display.Javascript object>"
            ]
          },
          "metadata": {}
        },
        {
          "output_type": "display_data",
          "data": {
            "application/javascript": [
              "window[\"72036dea-67cd-11ec-8473-0242ac1c0002\"] = google.colab.output.setActiveOutputArea(window[\"7202ff5e-67cd-11ec-8473-0242ac1c0002\"]);\n",
              "//# sourceURL=js_799a073038"
            ],
            "text/plain": [
              "<IPython.core.display.Javascript object>"
            ]
          },
          "metadata": {}
        },
        {
          "output_type": "display_data",
          "data": {
            "application/javascript": [
              "window[\"7203c54c-67cd-11ec-8473-0242ac1c0002\"] = window[\"id299\"].setSelectedTabIndex(1);\n",
              "//# sourceURL=js_ea7c2f4873"
            ],
            "text/plain": [
              "<IPython.core.display.Javascript object>"
            ]
          },
          "metadata": {}
        },
        {
          "output_type": "stream",
          "name": "stdout",
          "text": [
            "The following table is stored at \u001b[1mRockBandCastedInMovies\u001b[0m variable.\n"
          ]
        },
        {
          "output_type": "display_data",
          "data": {
            "text/html": [
              "\n",
              "  <div id=\"df-bd4f1b89-38f0-4d00-9bb7-db77862779d9\">\n",
              "    <div class=\"colab-df-container\">\n",
              "      <div>\n",
              "<style scoped>\n",
              "    .dataframe tbody tr th:only-of-type {\n",
              "        vertical-align: middle;\n",
              "    }\n",
              "\n",
              "    .dataframe tbody tr th {\n",
              "        vertical-align: top;\n",
              "    }\n",
              "\n",
              "    .dataframe thead th {\n",
              "        text-align: right;\n",
              "    }\n",
              "</style>\n",
              "<table border=\"1\" class=\"dataframe\">\n",
              "  <thead>\n",
              "    <tr style=\"text-align: right;\">\n",
              "      <th></th>\n",
              "      <th>rockband_id</th>\n",
              "      <th>rockband_name</th>\n",
              "      <th>movies</th>\n",
              "    </tr>\n",
              "  </thead>\n",
              "  <tbody>\n",
              "    <tr>\n",
              "      <th>0</th>\n",
              "      <td>261</td>\n",
              "      <td>Linkin Park</td>\n",
              "      <td>[\"Saw 3D\", \"Crank\", \"Artifact\", \"Crank: High V...</td>\n",
              "    </tr>\n",
              "    <tr>\n",
              "      <th>1</th>\n",
              "      <td>396</td>\n",
              "      <td>U2</td>\n",
              "      <td>[\"Entropy\", \"Dancing Barefoot\", \"Pavarotti\", \"...</td>\n",
              "    </tr>\n",
              "    <tr>\n",
              "      <th>2</th>\n",
              "      <td>1299</td>\n",
              "      <td>The Beatles</td>\n",
              "      <td>[\"Forrest Gump\", \"Steve Jobs\", \"Lisztomania\", ...</td>\n",
              "    </tr>\n",
              "    <tr>\n",
              "      <th>3</th>\n",
              "      <td>2306</td>\n",
              "      <td>Pink Floyd</td>\n",
              "      <td>[\"The Strat Pack\", \"Soundbreaking\", \"Roger Wat...</td>\n",
              "    </tr>\n",
              "    <tr>\n",
              "      <th>4</th>\n",
              "      <td>2331</td>\n",
              "      <td>Led Zeppelin</td>\n",
              "      <td>[\"Animal Rage\", \"Son of Dracula\", \"Blowup\", \"C...</td>\n",
              "    </tr>\n",
              "    <tr>\n",
              "      <th>...</th>\n",
              "      <td>...</td>\n",
              "      <td>...</td>\n",
              "      <td>...</td>\n",
              "    </tr>\n",
              "    <tr>\n",
              "      <th>190</th>\n",
              "      <td>19922002</td>\n",
              "      <td>Saint Asonia</td>\n",
              "      <td>[\"Raise Your Voice\"]</td>\n",
              "    </tr>\n",
              "    <tr>\n",
              "      <th>191</th>\n",
              "      <td>23772001</td>\n",
              "      <td>Got7</td>\n",
              "      <td>[\"A Stray Goat\"]</td>\n",
              "    </tr>\n",
              "    <tr>\n",
              "      <th>192</th>\n",
              "      <td>24075465</td>\n",
              "      <td>Steve Taylor &amp; The Perfect Foil</td>\n",
              "      <td>[\"Social Intercourse\"]</td>\n",
              "    </tr>\n",
              "    <tr>\n",
              "      <th>193</th>\n",
              "      <td>25706903</td>\n",
              "      <td>The Dynamic Rockers</td>\n",
              "      <td>[\"Key Exchange\", \"The Rock\", \"Hiding Out\", \"Al...</td>\n",
              "    </tr>\n",
              "    <tr>\n",
              "      <th>194</th>\n",
              "      <td>50602684</td>\n",
              "      <td>Zen From Mars</td>\n",
              "      <td>[\"Dwellers\", \"Her Name Was Christa\"]</td>\n",
              "    </tr>\n",
              "  </tbody>\n",
              "</table>\n",
              "<p>195 rows × 3 columns</p>\n",
              "</div>\n",
              "      <button class=\"colab-df-convert\" onclick=\"convertToInteractive('df-bd4f1b89-38f0-4d00-9bb7-db77862779d9')\"\n",
              "              title=\"Convert this dataframe to an interactive table.\"\n",
              "              style=\"display:none;\">\n",
              "        \n",
              "  <svg xmlns=\"http://www.w3.org/2000/svg\" height=\"24px\"viewBox=\"0 0 24 24\"\n",
              "       width=\"24px\">\n",
              "    <path d=\"M0 0h24v24H0V0z\" fill=\"none\"/>\n",
              "    <path d=\"M18.56 5.44l.94 2.06.94-2.06 2.06-.94-2.06-.94-.94-2.06-.94 2.06-2.06.94zm-11 1L8.5 8.5l.94-2.06 2.06-.94-2.06-.94L8.5 2.5l-.94 2.06-2.06.94zm10 10l.94 2.06.94-2.06 2.06-.94-2.06-.94-.94-2.06-.94 2.06-2.06.94z\"/><path d=\"M17.41 7.96l-1.37-1.37c-.4-.4-.92-.59-1.43-.59-.52 0-1.04.2-1.43.59L10.3 9.45l-7.72 7.72c-.78.78-.78 2.05 0 2.83L4 21.41c.39.39.9.59 1.41.59.51 0 1.02-.2 1.41-.59l7.78-7.78 2.81-2.81c.8-.78.8-2.07 0-2.86zM5.41 20L4 18.59l7.72-7.72 1.47 1.35L5.41 20z\"/>\n",
              "  </svg>\n",
              "      </button>\n",
              "      \n",
              "  <style>\n",
              "    .colab-df-container {\n",
              "      display:flex;\n",
              "      flex-wrap:wrap;\n",
              "      gap: 12px;\n",
              "    }\n",
              "\n",
              "    .colab-df-convert {\n",
              "      background-color: #E8F0FE;\n",
              "      border: none;\n",
              "      border-radius: 50%;\n",
              "      cursor: pointer;\n",
              "      display: none;\n",
              "      fill: #1967D2;\n",
              "      height: 32px;\n",
              "      padding: 0 0 0 0;\n",
              "      width: 32px;\n",
              "    }\n",
              "\n",
              "    .colab-df-convert:hover {\n",
              "      background-color: #E2EBFA;\n",
              "      box-shadow: 0px 1px 2px rgba(60, 64, 67, 0.3), 0px 1px 3px 1px rgba(60, 64, 67, 0.15);\n",
              "      fill: #174EA6;\n",
              "    }\n",
              "\n",
              "    [theme=dark] .colab-df-convert {\n",
              "      background-color: #3B4455;\n",
              "      fill: #D2E3FC;\n",
              "    }\n",
              "\n",
              "    [theme=dark] .colab-df-convert:hover {\n",
              "      background-color: #434B5C;\n",
              "      box-shadow: 0px 1px 3px 1px rgba(0, 0, 0, 0.15);\n",
              "      filter: drop-shadow(0px 1px 2px rgba(0, 0, 0, 0.3));\n",
              "      fill: #FFFFFF;\n",
              "    }\n",
              "  </style>\n",
              "\n",
              "      <script>\n",
              "        const buttonEl =\n",
              "          document.querySelector('#df-bd4f1b89-38f0-4d00-9bb7-db77862779d9 button.colab-df-convert');\n",
              "        buttonEl.style.display =\n",
              "          google.colab.kernel.accessAllowed ? 'block' : 'none';\n",
              "\n",
              "        async function convertToInteractive(key) {\n",
              "          const element = document.querySelector('#df-bd4f1b89-38f0-4d00-9bb7-db77862779d9');\n",
              "          const dataTable =\n",
              "            await google.colab.kernel.invokeFunction('convertToInteractive',\n",
              "                                                     [key], {});\n",
              "          if (!dataTable) return;\n",
              "\n",
              "          const docLinkHtml = 'Like what you see? Visit the ' +\n",
              "            '<a target=\"_blank\" href=https://colab.research.google.com/notebooks/data_table.ipynb>data table notebook</a>'\n",
              "            + ' to learn more about interactive tables.';\n",
              "          element.innerHTML = '';\n",
              "          dataTable['output_type'] = 'display_data';\n",
              "          await google.colab.output.renderOutput(dataTable, element);\n",
              "          const docLink = document.createElement('div');\n",
              "          docLink.innerHTML = docLinkHtml;\n",
              "          element.appendChild(docLink);\n",
              "        }\n",
              "      </script>\n",
              "    </div>\n",
              "  </div>\n",
              "  "
            ],
            "text/plain": [
              "     rockband_id  ...                                             movies\n",
              "0            261  ...  [\"Saw 3D\", \"Crank\", \"Artifact\", \"Crank: High V...\n",
              "1            396  ...  [\"Entropy\", \"Dancing Barefoot\", \"Pavarotti\", \"...\n",
              "2           1299  ...  [\"Forrest Gump\", \"Steve Jobs\", \"Lisztomania\", ...\n",
              "3           2306  ...  [\"The Strat Pack\", \"Soundbreaking\", \"Roger Wat...\n",
              "4           2331  ...  [\"Animal Rage\", \"Son of Dracula\", \"Blowup\", \"C...\n",
              "..           ...  ...                                                ...\n",
              "190     19922002  ...                               [\"Raise Your Voice\"]\n",
              "191     23772001  ...                                   [\"A Stray Goat\"]\n",
              "192     24075465  ...                             [\"Social Intercourse\"]\n",
              "193     25706903  ...  [\"Key Exchange\", \"The Rock\", \"Hiding Out\", \"Al...\n",
              "194     50602684  ...               [\"Dwellers\", \"Her Name Was Christa\"]\n",
              "\n",
              "[195 rows x 3 columns]"
            ]
          },
          "metadata": {}
        },
        {
          "output_type": "display_data",
          "data": {
            "application/javascript": [
              "window[\"720a1db6-67cd-11ec-8473-0242ac1c0002\"] = google.colab.output.setActiveOutputArea(window[\"7202a4fa-67cd-11ec-8473-0242ac1c0002\"]);\n",
              "//# sourceURL=js_ec7c90528a"
            ],
            "text/plain": [
              "<IPython.core.display.Javascript object>"
            ]
          },
          "metadata": {}
        },
        {
          "output_type": "stream",
          "name": "stdout",
          "text": [
            " \n"
          ]
        },
        {
          "output_type": "display_data",
          "data": {
            "application/javascript": [
              "window[\"720d19c6-67cd-11ec-8473-0242ac1c0002\"] = google.colab.output.setActiveOutputArea(window[\"71fefbf2-67cd-11ec-8473-0242ac1c0002\"]);\n",
              "//# sourceURL=js_39faf3fdcf"
            ],
            "text/plain": [
              "<IPython.core.display.Javascript object>"
            ]
          },
          "metadata": {}
        },
        {
          "output_type": "display_data",
          "data": {
            "application/javascript": [
              "window[\"720fd6d4-67cd-11ec-8473-0242ac1c0002\"] = google.colab.output.getActiveOutputArea();\n",
              "//# sourceURL=js_4ba5becce7"
            ],
            "text/plain": [
              "<IPython.core.display.Javascript object>"
            ]
          },
          "metadata": {}
        },
        {
          "output_type": "display_data",
          "data": {
            "application/javascript": [
              "window[\"72104678-67cd-11ec-8473-0242ac1c0002\"] = document.querySelector(\"#id292_content_7\");\n",
              "//# sourceURL=js_4aae477117"
            ],
            "text/plain": [
              "<IPython.core.display.Javascript object>"
            ]
          },
          "metadata": {}
        },
        {
          "output_type": "display_data",
          "data": {
            "application/javascript": [
              "window[\"7210b928-67cd-11ec-8473-0242ac1c0002\"] = google.colab.output.setActiveOutputArea(window[\"72104678-67cd-11ec-8473-0242ac1c0002\"]);\n",
              "//# sourceURL=js_ec3137bf31"
            ],
            "text/plain": [
              "<IPython.core.display.Javascript object>"
            ]
          },
          "metadata": {}
        },
        {
          "output_type": "display_data",
          "data": {
            "application/javascript": [
              "window[\"721115f8-67cd-11ec-8473-0242ac1c0002\"] = window[\"id292\"].setSelectedTabIndex(7);\n",
              "//# sourceURL=js_a3fafc012d"
            ],
            "text/plain": [
              "<IPython.core.display.Javascript object>"
            ]
          },
          "metadata": {}
        },
        {
          "output_type": "display_data",
          "data": {
            "application/javascript": [
              "window[\"72129d1a-67cd-11ec-8473-0242ac1c0002\"] = google.colab.output.getActiveOutputArea();\n",
              "//# sourceURL=js_4197f7b94d"
            ],
            "text/plain": [
              "<IPython.core.display.Javascript object>"
            ]
          },
          "metadata": {}
        },
        {
          "output_type": "display_data",
          "data": {
            "application/javascript": [
              "window[\"72130232-67cd-11ec-8473-0242ac1c0002\"] = document.querySelector(\"#id300_content_1\");\n",
              "//# sourceURL=js_5d68cf11ff"
            ],
            "text/plain": [
              "<IPython.core.display.Javascript object>"
            ]
          },
          "metadata": {}
        },
        {
          "output_type": "display_data",
          "data": {
            "application/javascript": [
              "window[\"72136e5c-67cd-11ec-8473-0242ac1c0002\"] = google.colab.output.setActiveOutputArea(window[\"72130232-67cd-11ec-8473-0242ac1c0002\"]);\n",
              "//# sourceURL=js_1769a07847"
            ],
            "text/plain": [
              "<IPython.core.display.Javascript object>"
            ]
          },
          "metadata": {}
        },
        {
          "output_type": "display_data",
          "data": {
            "application/javascript": [
              "window[\"7213f0de-67cd-11ec-8473-0242ac1c0002\"] = window[\"id300\"].setSelectedTabIndex(1);\n",
              "//# sourceURL=js_41671a089a"
            ],
            "text/plain": [
              "<IPython.core.display.Javascript object>"
            ]
          },
          "metadata": {}
        },
        {
          "output_type": "stream",
          "name": "stdout",
          "text": [
            "The following table is stored at \u001b[1mRockBandMovies\u001b[0m variable.\n"
          ]
        },
        {
          "output_type": "display_data",
          "data": {
            "text/html": [
              "\n",
              "  <div id=\"df-b93a2381-8df7-4c90-9275-63e4454ac714\">\n",
              "    <div class=\"colab-df-container\">\n",
              "      <div>\n",
              "<style scoped>\n",
              "    .dataframe tbody tr th:only-of-type {\n",
              "        vertical-align: middle;\n",
              "    }\n",
              "\n",
              "    .dataframe tbody tr th {\n",
              "        vertical-align: top;\n",
              "    }\n",
              "\n",
              "    .dataframe thead th {\n",
              "        text-align: right;\n",
              "    }\n",
              "</style>\n",
              "<table border=\"1\" class=\"dataframe\">\n",
              "  <thead>\n",
              "    <tr style=\"text-align: right;\">\n",
              "      <th></th>\n",
              "      <th>rockband_id</th>\n",
              "      <th>rockband_name</th>\n",
              "      <th>movies</th>\n",
              "    </tr>\n",
              "  </thead>\n",
              "  <tbody>\n",
              "    <tr>\n",
              "      <th>0</th>\n",
              "      <td>261</td>\n",
              "      <td>Linkin Park</td>\n",
              "      <td>[\"Saw 3D\", \"Crank\", \"Artifact\", \"Crank: High V...</td>\n",
              "    </tr>\n",
              "    <tr>\n",
              "      <th>1</th>\n",
              "      <td>396</td>\n",
              "      <td>U2</td>\n",
              "      <td>[\"Entropy\", \"Dancing Barefoot\", \"Pavarotti\", \"...</td>\n",
              "    </tr>\n",
              "    <tr>\n",
              "      <th>2</th>\n",
              "      <td>1299</td>\n",
              "      <td>The Beatles</td>\n",
              "      <td>[\"Forrest Gump\", \"Steve Jobs\", \"Lisztomania\", ...</td>\n",
              "    </tr>\n",
              "    <tr>\n",
              "      <th>3</th>\n",
              "      <td>2306</td>\n",
              "      <td>Pink Floyd</td>\n",
              "      <td>[\"The Strat Pack\", \"Soundbreaking\", \"Roger Wat...</td>\n",
              "    </tr>\n",
              "    <tr>\n",
              "      <th>4</th>\n",
              "      <td>2331</td>\n",
              "      <td>Led Zeppelin</td>\n",
              "      <td>[\"Animal Rage\", \"Son of Dracula\", \"Blowup\", \"C...</td>\n",
              "    </tr>\n",
              "    <tr>\n",
              "      <th>...</th>\n",
              "      <td>...</td>\n",
              "      <td>...</td>\n",
              "      <td>...</td>\n",
              "    </tr>\n",
              "    <tr>\n",
              "      <th>723</th>\n",
              "      <td>24567008</td>\n",
              "      <td>Dogs of Peace</td>\n",
              "      <td>[]</td>\n",
              "    </tr>\n",
              "    <tr>\n",
              "      <th>724</th>\n",
              "      <td>867531</td>\n",
              "      <td>Circa</td>\n",
              "      <td>[]</td>\n",
              "    </tr>\n",
              "    <tr>\n",
              "      <th>725</th>\n",
              "      <td>571303</td>\n",
              "      <td>Lady Pank</td>\n",
              "      <td>[]</td>\n",
              "    </tr>\n",
              "    <tr>\n",
              "      <th>726</th>\n",
              "      <td>2279110</td>\n",
              "      <td>3 (American Band)</td>\n",
              "      <td>[]</td>\n",
              "    </tr>\n",
              "    <tr>\n",
              "      <th>727</th>\n",
              "      <td>1781599</td>\n",
              "      <td>Imperiet</td>\n",
              "      <td>[]</td>\n",
              "    </tr>\n",
              "  </tbody>\n",
              "</table>\n",
              "<p>728 rows × 3 columns</p>\n",
              "</div>\n",
              "      <button class=\"colab-df-convert\" onclick=\"convertToInteractive('df-b93a2381-8df7-4c90-9275-63e4454ac714')\"\n",
              "              title=\"Convert this dataframe to an interactive table.\"\n",
              "              style=\"display:none;\">\n",
              "        \n",
              "  <svg xmlns=\"http://www.w3.org/2000/svg\" height=\"24px\"viewBox=\"0 0 24 24\"\n",
              "       width=\"24px\">\n",
              "    <path d=\"M0 0h24v24H0V0z\" fill=\"none\"/>\n",
              "    <path d=\"M18.56 5.44l.94 2.06.94-2.06 2.06-.94-2.06-.94-.94-2.06-.94 2.06-2.06.94zm-11 1L8.5 8.5l.94-2.06 2.06-.94-2.06-.94L8.5 2.5l-.94 2.06-2.06.94zm10 10l.94 2.06.94-2.06 2.06-.94-2.06-.94-.94-2.06-.94 2.06-2.06.94z\"/><path d=\"M17.41 7.96l-1.37-1.37c-.4-.4-.92-.59-1.43-.59-.52 0-1.04.2-1.43.59L10.3 9.45l-7.72 7.72c-.78.78-.78 2.05 0 2.83L4 21.41c.39.39.9.59 1.41.59.51 0 1.02-.2 1.41-.59l7.78-7.78 2.81-2.81c.8-.78.8-2.07 0-2.86zM5.41 20L4 18.59l7.72-7.72 1.47 1.35L5.41 20z\"/>\n",
              "  </svg>\n",
              "      </button>\n",
              "      \n",
              "  <style>\n",
              "    .colab-df-container {\n",
              "      display:flex;\n",
              "      flex-wrap:wrap;\n",
              "      gap: 12px;\n",
              "    }\n",
              "\n",
              "    .colab-df-convert {\n",
              "      background-color: #E8F0FE;\n",
              "      border: none;\n",
              "      border-radius: 50%;\n",
              "      cursor: pointer;\n",
              "      display: none;\n",
              "      fill: #1967D2;\n",
              "      height: 32px;\n",
              "      padding: 0 0 0 0;\n",
              "      width: 32px;\n",
              "    }\n",
              "\n",
              "    .colab-df-convert:hover {\n",
              "      background-color: #E2EBFA;\n",
              "      box-shadow: 0px 1px 2px rgba(60, 64, 67, 0.3), 0px 1px 3px 1px rgba(60, 64, 67, 0.15);\n",
              "      fill: #174EA6;\n",
              "    }\n",
              "\n",
              "    [theme=dark] .colab-df-convert {\n",
              "      background-color: #3B4455;\n",
              "      fill: #D2E3FC;\n",
              "    }\n",
              "\n",
              "    [theme=dark] .colab-df-convert:hover {\n",
              "      background-color: #434B5C;\n",
              "      box-shadow: 0px 1px 3px 1px rgba(0, 0, 0, 0.15);\n",
              "      filter: drop-shadow(0px 1px 2px rgba(0, 0, 0, 0.3));\n",
              "      fill: #FFFFFF;\n",
              "    }\n",
              "  </style>\n",
              "\n",
              "      <script>\n",
              "        const buttonEl =\n",
              "          document.querySelector('#df-b93a2381-8df7-4c90-9275-63e4454ac714 button.colab-df-convert');\n",
              "        buttonEl.style.display =\n",
              "          google.colab.kernel.accessAllowed ? 'block' : 'none';\n",
              "\n",
              "        async function convertToInteractive(key) {\n",
              "          const element = document.querySelector('#df-b93a2381-8df7-4c90-9275-63e4454ac714');\n",
              "          const dataTable =\n",
              "            await google.colab.kernel.invokeFunction('convertToInteractive',\n",
              "                                                     [key], {});\n",
              "          if (!dataTable) return;\n",
              "\n",
              "          const docLinkHtml = 'Like what you see? Visit the ' +\n",
              "            '<a target=\"_blank\" href=https://colab.research.google.com/notebooks/data_table.ipynb>data table notebook</a>'\n",
              "            + ' to learn more about interactive tables.';\n",
              "          element.innerHTML = '';\n",
              "          dataTable['output_type'] = 'display_data';\n",
              "          await google.colab.output.renderOutput(dataTable, element);\n",
              "          const docLink = document.createElement('div');\n",
              "          docLink.innerHTML = docLinkHtml;\n",
              "          element.appendChild(docLink);\n",
              "        }\n",
              "      </script>\n",
              "    </div>\n",
              "  </div>\n",
              "  "
            ],
            "text/plain": [
              "     rockband_id  ...                                             movies\n",
              "0            261  ...  [\"Saw 3D\", \"Crank\", \"Artifact\", \"Crank: High V...\n",
              "1            396  ...  [\"Entropy\", \"Dancing Barefoot\", \"Pavarotti\", \"...\n",
              "2           1299  ...  [\"Forrest Gump\", \"Steve Jobs\", \"Lisztomania\", ...\n",
              "3           2306  ...  [\"The Strat Pack\", \"Soundbreaking\", \"Roger Wat...\n",
              "4           2331  ...  [\"Animal Rage\", \"Son of Dracula\", \"Blowup\", \"C...\n",
              "..           ...  ...                                                ...\n",
              "723     24567008  ...                                                 []\n",
              "724       867531  ...                                                 []\n",
              "725       571303  ...                                                 []\n",
              "726      2279110  ...                                                 []\n",
              "727      1781599  ...                                                 []\n",
              "\n",
              "[728 rows x 3 columns]"
            ]
          },
          "metadata": {}
        },
        {
          "output_type": "display_data",
          "data": {
            "application/javascript": [
              "window[\"721b0b44-67cd-11ec-8473-0242ac1c0002\"] = google.colab.output.setActiveOutputArea(window[\"72129d1a-67cd-11ec-8473-0242ac1c0002\"]);\n",
              "//# sourceURL=js_012b6f1118"
            ],
            "text/plain": [
              "<IPython.core.display.Javascript object>"
            ]
          },
          "metadata": {}
        },
        {
          "output_type": "stream",
          "name": "stdout",
          "text": [
            " \n"
          ]
        },
        {
          "output_type": "display_data",
          "data": {
            "application/javascript": [
              "window[\"721ccc18-67cd-11ec-8473-0242ac1c0002\"] = google.colab.output.setActiveOutputArea(window[\"720fd6d4-67cd-11ec-8473-0242ac1c0002\"]);\n",
              "//# sourceURL=js_8bd02c03c9"
            ],
            "text/plain": [
              "<IPython.core.display.Javascript object>"
            ]
          },
          "metadata": {}
        },
        {
          "output_type": "display_data",
          "data": {
            "application/javascript": [
              "window[\"721fdc1e-67cd-11ec-8473-0242ac1c0002\"] = google.colab.output.getActiveOutputArea();\n",
              "//# sourceURL=js_94d7bfc27e"
            ],
            "text/plain": [
              "<IPython.core.display.Javascript object>"
            ]
          },
          "metadata": {}
        },
        {
          "output_type": "display_data",
          "data": {
            "application/javascript": [
              "window[\"7220243a-67cd-11ec-8473-0242ac1c0002\"] = document.querySelector(\"#id292_content_8\");\n",
              "//# sourceURL=js_2071ea2881"
            ],
            "text/plain": [
              "<IPython.core.display.Javascript object>"
            ]
          },
          "metadata": {}
        },
        {
          "output_type": "display_data",
          "data": {
            "application/javascript": [
              "window[\"72206a12-67cd-11ec-8473-0242ac1c0002\"] = google.colab.output.setActiveOutputArea(window[\"7220243a-67cd-11ec-8473-0242ac1c0002\"]);\n",
              "//# sourceURL=js_fdc27cce71"
            ],
            "text/plain": [
              "<IPython.core.display.Javascript object>"
            ]
          },
          "metadata": {}
        },
        {
          "output_type": "display_data",
          "data": {
            "application/javascript": [
              "window[\"7220b210-67cd-11ec-8473-0242ac1c0002\"] = window[\"id292\"].setSelectedTabIndex(8);\n",
              "//# sourceURL=js_ef5000e2dc"
            ],
            "text/plain": [
              "<IPython.core.display.Javascript object>"
            ]
          },
          "metadata": {}
        },
        {
          "output_type": "display_data",
          "data": {
            "application/javascript": [
              "window[\"72223982-67cd-11ec-8473-0242ac1c0002\"] = google.colab.output.getActiveOutputArea();\n",
              "//# sourceURL=js_ab5d0b8003"
            ],
            "text/plain": [
              "<IPython.core.display.Javascript object>"
            ]
          },
          "metadata": {}
        },
        {
          "output_type": "display_data",
          "data": {
            "application/javascript": [
              "window[\"72230a74-67cd-11ec-8473-0242ac1c0002\"] = document.querySelector(\"#id301_content_1\");\n",
              "//# sourceURL=js_eae31d5753"
            ],
            "text/plain": [
              "<IPython.core.display.Javascript object>"
            ]
          },
          "metadata": {}
        },
        {
          "output_type": "display_data",
          "data": {
            "application/javascript": [
              "window[\"722349ee-67cd-11ec-8473-0242ac1c0002\"] = google.colab.output.setActiveOutputArea(window[\"72230a74-67cd-11ec-8473-0242ac1c0002\"]);\n",
              "//# sourceURL=js_3534f110f2"
            ],
            "text/plain": [
              "<IPython.core.display.Javascript object>"
            ]
          },
          "metadata": {}
        },
        {
          "output_type": "display_data",
          "data": {
            "application/javascript": [
              "window[\"72238f76-67cd-11ec-8473-0242ac1c0002\"] = window[\"id301\"].setSelectedTabIndex(1);\n",
              "//# sourceURL=js_a74d5c7938"
            ],
            "text/plain": [
              "<IPython.core.display.Javascript object>"
            ]
          },
          "metadata": {}
        },
        {
          "output_type": "stream",
          "name": "stdout",
          "text": [
            "The following table is stored at \u001b[1mMockMedalistTest\u001b[0m variable.\n"
          ]
        },
        {
          "output_type": "display_data",
          "data": {
            "text/html": [
              "\n",
              "  <div id=\"df-760ddcc2-c15a-4ad7-9456-6f00dbd9c571\">\n",
              "    <div class=\"colab-df-container\">\n",
              "      <div>\n",
              "<style scoped>\n",
              "    .dataframe tbody tr th:only-of-type {\n",
              "        vertical-align: middle;\n",
              "    }\n",
              "\n",
              "    .dataframe tbody tr th {\n",
              "        vertical-align: top;\n",
              "    }\n",
              "\n",
              "    .dataframe thead th {\n",
              "        text-align: right;\n",
              "    }\n",
              "</style>\n",
              "<table border=\"1\" class=\"dataframe\">\n",
              "  <thead>\n",
              "    <tr style=\"text-align: right;\">\n",
              "      <th></th>\n",
              "      <th>person_name</th>\n",
              "      <th>person_id</th>\n",
              "      <th>number_of_awards</th>\n",
              "      <th>awards</th>\n",
              "      <th>social_circle_awards</th>\n",
              "    </tr>\n",
              "  </thead>\n",
              "  <tbody>\n",
              "  </tbody>\n",
              "</table>\n",
              "</div>\n",
              "      <button class=\"colab-df-convert\" onclick=\"convertToInteractive('df-760ddcc2-c15a-4ad7-9456-6f00dbd9c571')\"\n",
              "              title=\"Convert this dataframe to an interactive table.\"\n",
              "              style=\"display:none;\">\n",
              "        \n",
              "  <svg xmlns=\"http://www.w3.org/2000/svg\" height=\"24px\"viewBox=\"0 0 24 24\"\n",
              "       width=\"24px\">\n",
              "    <path d=\"M0 0h24v24H0V0z\" fill=\"none\"/>\n",
              "    <path d=\"M18.56 5.44l.94 2.06.94-2.06 2.06-.94-2.06-.94-.94-2.06-.94 2.06-2.06.94zm-11 1L8.5 8.5l.94-2.06 2.06-.94-2.06-.94L8.5 2.5l-.94 2.06-2.06.94zm10 10l.94 2.06.94-2.06 2.06-.94-2.06-.94-.94-2.06-.94 2.06-2.06.94z\"/><path d=\"M17.41 7.96l-1.37-1.37c-.4-.4-.92-.59-1.43-.59-.52 0-1.04.2-1.43.59L10.3 9.45l-7.72 7.72c-.78.78-.78 2.05 0 2.83L4 21.41c.39.39.9.59 1.41.59.51 0 1.02-.2 1.41-.59l7.78-7.78 2.81-2.81c.8-.78.8-2.07 0-2.86zM5.41 20L4 18.59l7.72-7.72 1.47 1.35L5.41 20z\"/>\n",
              "  </svg>\n",
              "      </button>\n",
              "      \n",
              "  <style>\n",
              "    .colab-df-container {\n",
              "      display:flex;\n",
              "      flex-wrap:wrap;\n",
              "      gap: 12px;\n",
              "    }\n",
              "\n",
              "    .colab-df-convert {\n",
              "      background-color: #E8F0FE;\n",
              "      border: none;\n",
              "      border-radius: 50%;\n",
              "      cursor: pointer;\n",
              "      display: none;\n",
              "      fill: #1967D2;\n",
              "      height: 32px;\n",
              "      padding: 0 0 0 0;\n",
              "      width: 32px;\n",
              "    }\n",
              "\n",
              "    .colab-df-convert:hover {\n",
              "      background-color: #E2EBFA;\n",
              "      box-shadow: 0px 1px 2px rgba(60, 64, 67, 0.3), 0px 1px 3px 1px rgba(60, 64, 67, 0.15);\n",
              "      fill: #174EA6;\n",
              "    }\n",
              "\n",
              "    [theme=dark] .colab-df-convert {\n",
              "      background-color: #3B4455;\n",
              "      fill: #D2E3FC;\n",
              "    }\n",
              "\n",
              "    [theme=dark] .colab-df-convert:hover {\n",
              "      background-color: #434B5C;\n",
              "      box-shadow: 0px 1px 3px 1px rgba(0, 0, 0, 0.15);\n",
              "      filter: drop-shadow(0px 1px 2px rgba(0, 0, 0, 0.3));\n",
              "      fill: #FFFFFF;\n",
              "    }\n",
              "  </style>\n",
              "\n",
              "      <script>\n",
              "        const buttonEl =\n",
              "          document.querySelector('#df-760ddcc2-c15a-4ad7-9456-6f00dbd9c571 button.colab-df-convert');\n",
              "        buttonEl.style.display =\n",
              "          google.colab.kernel.accessAllowed ? 'block' : 'none';\n",
              "\n",
              "        async function convertToInteractive(key) {\n",
              "          const element = document.querySelector('#df-760ddcc2-c15a-4ad7-9456-6f00dbd9c571');\n",
              "          const dataTable =\n",
              "            await google.colab.kernel.invokeFunction('convertToInteractive',\n",
              "                                                     [key], {});\n",
              "          if (!dataTable) return;\n",
              "\n",
              "          const docLinkHtml = 'Like what you see? Visit the ' +\n",
              "            '<a target=\"_blank\" href=https://colab.research.google.com/notebooks/data_table.ipynb>data table notebook</a>'\n",
              "            + ' to learn more about interactive tables.';\n",
              "          element.innerHTML = '';\n",
              "          dataTable['output_type'] = 'display_data';\n",
              "          await google.colab.output.renderOutput(dataTable, element);\n",
              "          const docLink = document.createElement('div');\n",
              "          docLink.innerHTML = docLinkHtml;\n",
              "          element.appendChild(docLink);\n",
              "        }\n",
              "      </script>\n",
              "    </div>\n",
              "  </div>\n",
              "  "
            ],
            "text/plain": [
              "Empty DataFrame\n",
              "Columns: [person_name, person_id, number_of_awards, awards, social_circle_awards]\n",
              "Index: []"
            ]
          },
          "metadata": {}
        },
        {
          "output_type": "display_data",
          "data": {
            "application/javascript": [
              "window[\"7226a0e4-67cd-11ec-8473-0242ac1c0002\"] = google.colab.output.setActiveOutputArea(window[\"72223982-67cd-11ec-8473-0242ac1c0002\"]);\n",
              "//# sourceURL=js_abeefc0d89"
            ],
            "text/plain": [
              "<IPython.core.display.Javascript object>"
            ]
          },
          "metadata": {}
        },
        {
          "output_type": "stream",
          "name": "stdout",
          "text": [
            " \n"
          ]
        },
        {
          "output_type": "display_data",
          "data": {
            "application/javascript": [
              "window[\"72294736-67cd-11ec-8473-0242ac1c0002\"] = google.colab.output.setActiveOutputArea(window[\"721fdc1e-67cd-11ec-8473-0242ac1c0002\"]);\n",
              "//# sourceURL=js_01e66a4666"
            ],
            "text/plain": [
              "<IPython.core.display.Javascript object>"
            ]
          },
          "metadata": {}
        },
        {
          "output_type": "display_data",
          "data": {
            "application/javascript": [
              "window[\"722b017a-67cd-11ec-8473-0242ac1c0002\"] = google.colab.output.getActiveOutputArea();\n",
              "//# sourceURL=js_39a4fbeb9e"
            ],
            "text/plain": [
              "<IPython.core.display.Javascript object>"
            ]
          },
          "metadata": {}
        },
        {
          "output_type": "display_data",
          "data": {
            "application/javascript": [
              "window[\"722bc11e-67cd-11ec-8473-0242ac1c0002\"] = document.querySelector(\"#id292_content_9\");\n",
              "//# sourceURL=js_b8741ed3cc"
            ],
            "text/plain": [
              "<IPython.core.display.Javascript object>"
            ]
          },
          "metadata": {}
        },
        {
          "output_type": "display_data",
          "data": {
            "application/javascript": [
              "window[\"722c0840-67cd-11ec-8473-0242ac1c0002\"] = google.colab.output.setActiveOutputArea(window[\"722bc11e-67cd-11ec-8473-0242ac1c0002\"]);\n",
              "//# sourceURL=js_c14f8fdc40"
            ],
            "text/plain": [
              "<IPython.core.display.Javascript object>"
            ]
          },
          "metadata": {}
        },
        {
          "output_type": "display_data",
          "data": {
            "application/javascript": [
              "window[\"722c4de6-67cd-11ec-8473-0242ac1c0002\"] = window[\"id292\"].setSelectedTabIndex(9);\n",
              "//# sourceURL=js_898880ba14"
            ],
            "text/plain": [
              "<IPython.core.display.Javascript object>"
            ]
          },
          "metadata": {}
        },
        {
          "output_type": "display_data",
          "data": {
            "application/javascript": [
              "window[\"722eb22a-67cd-11ec-8473-0242ac1c0002\"] = google.colab.output.getActiveOutputArea();\n",
              "//# sourceURL=js_40b20dba6d"
            ],
            "text/plain": [
              "<IPython.core.display.Javascript object>"
            ]
          },
          "metadata": {}
        },
        {
          "output_type": "display_data",
          "data": {
            "application/javascript": [
              "window[\"722f8ace-67cd-11ec-8473-0242ac1c0002\"] = document.querySelector(\"#id302_content_1\");\n",
              "//# sourceURL=js_de6973b49a"
            ],
            "text/plain": [
              "<IPython.core.display.Javascript object>"
            ]
          },
          "metadata": {}
        },
        {
          "output_type": "display_data",
          "data": {
            "application/javascript": [
              "window[\"722fca3e-67cd-11ec-8473-0242ac1c0002\"] = google.colab.output.setActiveOutputArea(window[\"722f8ace-67cd-11ec-8473-0242ac1c0002\"]);\n",
              "//# sourceURL=js_31a46c812c"
            ],
            "text/plain": [
              "<IPython.core.display.Javascript object>"
            ]
          },
          "metadata": {}
        },
        {
          "output_type": "display_data",
          "data": {
            "application/javascript": [
              "window[\"72300bf2-67cd-11ec-8473-0242ac1c0002\"] = window[\"id302\"].setSelectedTabIndex(1);\n",
              "//# sourceURL=js_0b794805fd"
            ],
            "text/plain": [
              "<IPython.core.display.Javascript object>"
            ]
          },
          "metadata": {}
        },
        {
          "output_type": "stream",
          "name": "stdout",
          "text": [
            "The following table is stored at \u001b[1mMockAward\u001b[0m variable.\n"
          ]
        },
        {
          "output_type": "display_data",
          "data": {
            "text/html": [
              "\n",
              "  <div id=\"df-fee1df21-04fd-40f4-b167-3dcf408d27d3\">\n",
              "    <div class=\"colab-df-container\">\n",
              "      <div>\n",
              "<style scoped>\n",
              "    .dataframe tbody tr th:only-of-type {\n",
              "        vertical-align: middle;\n",
              "    }\n",
              "\n",
              "    .dataframe tbody tr th {\n",
              "        vertical-align: top;\n",
              "    }\n",
              "\n",
              "    .dataframe thead th {\n",
              "        text-align: right;\n",
              "    }\n",
              "</style>\n",
              "<table border=\"1\" class=\"dataframe\">\n",
              "  <thead>\n",
              "    <tr style=\"text-align: right;\">\n",
              "      <th></th>\n",
              "      <th>awardee_id</th>\n",
              "      <th>award</th>\n",
              "    </tr>\n",
              "  </thead>\n",
              "  <tbody>\n",
              "    <tr>\n",
              "      <th>0</th>\n",
              "      <td>A</td>\n",
              "      <td>Award 1</td>\n",
              "    </tr>\n",
              "    <tr>\n",
              "      <th>1</th>\n",
              "      <td>A</td>\n",
              "      <td>Award 2</td>\n",
              "    </tr>\n",
              "    <tr>\n",
              "      <th>2</th>\n",
              "      <td>A</td>\n",
              "      <td>Award 3</td>\n",
              "    </tr>\n",
              "    <tr>\n",
              "      <th>3</th>\n",
              "      <td>A</td>\n",
              "      <td>Award 4</td>\n",
              "    </tr>\n",
              "    <tr>\n",
              "      <th>4</th>\n",
              "      <td>A</td>\n",
              "      <td>Award 5</td>\n",
              "    </tr>\n",
              "    <tr>\n",
              "      <th>5</th>\n",
              "      <td>A</td>\n",
              "      <td>Award 6</td>\n",
              "    </tr>\n",
              "    <tr>\n",
              "      <th>6</th>\n",
              "      <td>C</td>\n",
              "      <td>Award 1</td>\n",
              "    </tr>\n",
              "    <tr>\n",
              "      <th>7</th>\n",
              "      <td>C</td>\n",
              "      <td>Award 2</td>\n",
              "    </tr>\n",
              "    <tr>\n",
              "      <th>8</th>\n",
              "      <td>C</td>\n",
              "      <td>Award 3</td>\n",
              "    </tr>\n",
              "    <tr>\n",
              "      <th>9</th>\n",
              "      <td>C</td>\n",
              "      <td>Award 4</td>\n",
              "    </tr>\n",
              "    <tr>\n",
              "      <th>10</th>\n",
              "      <td>C</td>\n",
              "      <td>Award 5</td>\n",
              "    </tr>\n",
              "    <tr>\n",
              "      <th>11</th>\n",
              "      <td>C</td>\n",
              "      <td>Award 6</td>\n",
              "    </tr>\n",
              "    <tr>\n",
              "      <th>12</th>\n",
              "      <td>D</td>\n",
              "      <td>Award 1</td>\n",
              "    </tr>\n",
              "    <tr>\n",
              "      <th>13</th>\n",
              "      <td>D</td>\n",
              "      <td>Award 2</td>\n",
              "    </tr>\n",
              "    <tr>\n",
              "      <th>14</th>\n",
              "      <td>D</td>\n",
              "      <td>Award 3</td>\n",
              "    </tr>\n",
              "    <tr>\n",
              "      <th>15</th>\n",
              "      <td>D</td>\n",
              "      <td>Award 4</td>\n",
              "    </tr>\n",
              "    <tr>\n",
              "      <th>16</th>\n",
              "      <td>D</td>\n",
              "      <td>Award 5</td>\n",
              "    </tr>\n",
              "    <tr>\n",
              "      <th>17</th>\n",
              "      <td>D</td>\n",
              "      <td>Award 6</td>\n",
              "    </tr>\n",
              "    <tr>\n",
              "      <th>18</th>\n",
              "      <td>B</td>\n",
              "      <td>Only B's award 1</td>\n",
              "    </tr>\n",
              "    <tr>\n",
              "      <th>19</th>\n",
              "      <td>B</td>\n",
              "      <td>Only B's award 2</td>\n",
              "    </tr>\n",
              "  </tbody>\n",
              "</table>\n",
              "</div>\n",
              "      <button class=\"colab-df-convert\" onclick=\"convertToInteractive('df-fee1df21-04fd-40f4-b167-3dcf408d27d3')\"\n",
              "              title=\"Convert this dataframe to an interactive table.\"\n",
              "              style=\"display:none;\">\n",
              "        \n",
              "  <svg xmlns=\"http://www.w3.org/2000/svg\" height=\"24px\"viewBox=\"0 0 24 24\"\n",
              "       width=\"24px\">\n",
              "    <path d=\"M0 0h24v24H0V0z\" fill=\"none\"/>\n",
              "    <path d=\"M18.56 5.44l.94 2.06.94-2.06 2.06-.94-2.06-.94-.94-2.06-.94 2.06-2.06.94zm-11 1L8.5 8.5l.94-2.06 2.06-.94-2.06-.94L8.5 2.5l-.94 2.06-2.06.94zm10 10l.94 2.06.94-2.06 2.06-.94-2.06-.94-.94-2.06-.94 2.06-2.06.94z\"/><path d=\"M17.41 7.96l-1.37-1.37c-.4-.4-.92-.59-1.43-.59-.52 0-1.04.2-1.43.59L10.3 9.45l-7.72 7.72c-.78.78-.78 2.05 0 2.83L4 21.41c.39.39.9.59 1.41.59.51 0 1.02-.2 1.41-.59l7.78-7.78 2.81-2.81c.8-.78.8-2.07 0-2.86zM5.41 20L4 18.59l7.72-7.72 1.47 1.35L5.41 20z\"/>\n",
              "  </svg>\n",
              "      </button>\n",
              "      \n",
              "  <style>\n",
              "    .colab-df-container {\n",
              "      display:flex;\n",
              "      flex-wrap:wrap;\n",
              "      gap: 12px;\n",
              "    }\n",
              "\n",
              "    .colab-df-convert {\n",
              "      background-color: #E8F0FE;\n",
              "      border: none;\n",
              "      border-radius: 50%;\n",
              "      cursor: pointer;\n",
              "      display: none;\n",
              "      fill: #1967D2;\n",
              "      height: 32px;\n",
              "      padding: 0 0 0 0;\n",
              "      width: 32px;\n",
              "    }\n",
              "\n",
              "    .colab-df-convert:hover {\n",
              "      background-color: #E2EBFA;\n",
              "      box-shadow: 0px 1px 2px rgba(60, 64, 67, 0.3), 0px 1px 3px 1px rgba(60, 64, 67, 0.15);\n",
              "      fill: #174EA6;\n",
              "    }\n",
              "\n",
              "    [theme=dark] .colab-df-convert {\n",
              "      background-color: #3B4455;\n",
              "      fill: #D2E3FC;\n",
              "    }\n",
              "\n",
              "    [theme=dark] .colab-df-convert:hover {\n",
              "      background-color: #434B5C;\n",
              "      box-shadow: 0px 1px 3px 1px rgba(0, 0, 0, 0.15);\n",
              "      filter: drop-shadow(0px 1px 2px rgba(0, 0, 0, 0.3));\n",
              "      fill: #FFFFFF;\n",
              "    }\n",
              "  </style>\n",
              "\n",
              "      <script>\n",
              "        const buttonEl =\n",
              "          document.querySelector('#df-fee1df21-04fd-40f4-b167-3dcf408d27d3 button.colab-df-convert');\n",
              "        buttonEl.style.display =\n",
              "          google.colab.kernel.accessAllowed ? 'block' : 'none';\n",
              "\n",
              "        async function convertToInteractive(key) {\n",
              "          const element = document.querySelector('#df-fee1df21-04fd-40f4-b167-3dcf408d27d3');\n",
              "          const dataTable =\n",
              "            await google.colab.kernel.invokeFunction('convertToInteractive',\n",
              "                                                     [key], {});\n",
              "          if (!dataTable) return;\n",
              "\n",
              "          const docLinkHtml = 'Like what you see? Visit the ' +\n",
              "            '<a target=\"_blank\" href=https://colab.research.google.com/notebooks/data_table.ipynb>data table notebook</a>'\n",
              "            + ' to learn more about interactive tables.';\n",
              "          element.innerHTML = '';\n",
              "          dataTable['output_type'] = 'display_data';\n",
              "          await google.colab.output.renderOutput(dataTable, element);\n",
              "          const docLink = document.createElement('div');\n",
              "          docLink.innerHTML = docLinkHtml;\n",
              "          element.appendChild(docLink);\n",
              "        }\n",
              "      </script>\n",
              "    </div>\n",
              "  </div>\n",
              "  "
            ],
            "text/plain": [
              "   awardee_id             award\n",
              "0           A           Award 1\n",
              "1           A           Award 2\n",
              "2           A           Award 3\n",
              "3           A           Award 4\n",
              "4           A           Award 5\n",
              "5           A           Award 6\n",
              "6           C           Award 1\n",
              "7           C           Award 2\n",
              "8           C           Award 3\n",
              "9           C           Award 4\n",
              "10          C           Award 5\n",
              "11          C           Award 6\n",
              "12          D           Award 1\n",
              "13          D           Award 2\n",
              "14          D           Award 3\n",
              "15          D           Award 4\n",
              "16          D           Award 5\n",
              "17          D           Award 6\n",
              "18          B  Only B's award 1\n",
              "19          B  Only B's award 2"
            ]
          },
          "metadata": {}
        },
        {
          "output_type": "display_data",
          "data": {
            "application/javascript": [
              "window[\"72360cf0-67cd-11ec-8473-0242ac1c0002\"] = google.colab.output.setActiveOutputArea(window[\"722eb22a-67cd-11ec-8473-0242ac1c0002\"]);\n",
              "//# sourceURL=js_00da1897fc"
            ],
            "text/plain": [
              "<IPython.core.display.Javascript object>"
            ]
          },
          "metadata": {}
        },
        {
          "output_type": "stream",
          "name": "stdout",
          "text": [
            " \n"
          ]
        },
        {
          "output_type": "display_data",
          "data": {
            "application/javascript": [
              "window[\"7237731a-67cd-11ec-8473-0242ac1c0002\"] = google.colab.output.setActiveOutputArea(window[\"722b017a-67cd-11ec-8473-0242ac1c0002\"]);\n",
              "//# sourceURL=js_640b7c8c6f"
            ],
            "text/plain": [
              "<IPython.core.display.Javascript object>"
            ]
          },
          "metadata": {}
        },
        {
          "output_type": "display_data",
          "data": {
            "application/javascript": [
              "window[\"72390932-67cd-11ec-8473-0242ac1c0002\"] = google.colab.output.getActiveOutputArea();\n",
              "//# sourceURL=js_c32085a967"
            ],
            "text/plain": [
              "<IPython.core.display.Javascript object>"
            ]
          },
          "metadata": {}
        },
        {
          "output_type": "display_data",
          "data": {
            "application/javascript": [
              "window[\"72394c94-67cd-11ec-8473-0242ac1c0002\"] = document.querySelector(\"#id292_content_10\");\n",
              "//# sourceURL=js_d5074a0ed5"
            ],
            "text/plain": [
              "<IPython.core.display.Javascript object>"
            ]
          },
          "metadata": {}
        },
        {
          "output_type": "display_data",
          "data": {
            "application/javascript": [
              "window[\"7239946a-67cd-11ec-8473-0242ac1c0002\"] = google.colab.output.setActiveOutputArea(window[\"72394c94-67cd-11ec-8473-0242ac1c0002\"]);\n",
              "//# sourceURL=js_8df13d1daa"
            ],
            "text/plain": [
              "<IPython.core.display.Javascript object>"
            ]
          },
          "metadata": {}
        },
        {
          "output_type": "display_data",
          "data": {
            "application/javascript": [
              "window[\"7239e8a2-67cd-11ec-8473-0242ac1c0002\"] = window[\"id292\"].setSelectedTabIndex(10);\n",
              "//# sourceURL=js_b194a39b63"
            ],
            "text/plain": [
              "<IPython.core.display.Javascript object>"
            ]
          },
          "metadata": {}
        },
        {
          "output_type": "display_data",
          "data": {
            "application/javascript": [
              "window[\"723b06e2-67cd-11ec-8473-0242ac1c0002\"] = google.colab.output.getActiveOutputArea();\n",
              "//# sourceURL=js_6beb3d52a5"
            ],
            "text/plain": [
              "<IPython.core.display.Javascript object>"
            ]
          },
          "metadata": {}
        },
        {
          "output_type": "display_data",
          "data": {
            "application/javascript": [
              "window[\"723b4c9c-67cd-11ec-8473-0242ac1c0002\"] = document.querySelector(\"#id303_content_1\");\n",
              "//# sourceURL=js_d3cea9efb7"
            ],
            "text/plain": [
              "<IPython.core.display.Javascript object>"
            ]
          },
          "metadata": {}
        },
        {
          "output_type": "display_data",
          "data": {
            "application/javascript": [
              "window[\"723b92a6-67cd-11ec-8473-0242ac1c0002\"] = google.colab.output.setActiveOutputArea(window[\"723b4c9c-67cd-11ec-8473-0242ac1c0002\"]);\n",
              "//# sourceURL=js_4fcbd05b7f"
            ],
            "text/plain": [
              "<IPython.core.display.Javascript object>"
            ]
          },
          "metadata": {}
        },
        {
          "output_type": "display_data",
          "data": {
            "application/javascript": [
              "window[\"723bd432-67cd-11ec-8473-0242ac1c0002\"] = window[\"id303\"].setSelectedTabIndex(1);\n",
              "//# sourceURL=js_4aa4f025b8"
            ],
            "text/plain": [
              "<IPython.core.display.Javascript object>"
            ]
          },
          "metadata": {}
        },
        {
          "output_type": "stream",
          "name": "stdout",
          "text": [
            "The following table is stored at \u001b[1mMedalistCountTest\u001b[0m variable.\n"
          ]
        },
        {
          "output_type": "display_data",
          "data": {
            "text/html": [
              "\n",
              "  <div id=\"df-59ba88e2-0775-483d-8706-4e980c8b79ec\">\n",
              "    <div class=\"colab-df-container\">\n",
              "      <div>\n",
              "<style scoped>\n",
              "    .dataframe tbody tr th:only-of-type {\n",
              "        vertical-align: middle;\n",
              "    }\n",
              "\n",
              "    .dataframe tbody tr th {\n",
              "        vertical-align: top;\n",
              "    }\n",
              "\n",
              "    .dataframe thead th {\n",
              "        text-align: right;\n",
              "    }\n",
              "</style>\n",
              "<table border=\"1\" class=\"dataframe\">\n",
              "  <thead>\n",
              "    <tr style=\"text-align: right;\">\n",
              "      <th></th>\n",
              "      <th>logica_value</th>\n",
              "    </tr>\n",
              "  </thead>\n",
              "  <tbody>\n",
              "    <tr>\n",
              "      <th>0</th>\n",
              "      <td>None</td>\n",
              "    </tr>\n",
              "  </tbody>\n",
              "</table>\n",
              "</div>\n",
              "      <button class=\"colab-df-convert\" onclick=\"convertToInteractive('df-59ba88e2-0775-483d-8706-4e980c8b79ec')\"\n",
              "              title=\"Convert this dataframe to an interactive table.\"\n",
              "              style=\"display:none;\">\n",
              "        \n",
              "  <svg xmlns=\"http://www.w3.org/2000/svg\" height=\"24px\"viewBox=\"0 0 24 24\"\n",
              "       width=\"24px\">\n",
              "    <path d=\"M0 0h24v24H0V0z\" fill=\"none\"/>\n",
              "    <path d=\"M18.56 5.44l.94 2.06.94-2.06 2.06-.94-2.06-.94-.94-2.06-.94 2.06-2.06.94zm-11 1L8.5 8.5l.94-2.06 2.06-.94-2.06-.94L8.5 2.5l-.94 2.06-2.06.94zm10 10l.94 2.06.94-2.06 2.06-.94-2.06-.94-.94-2.06-.94 2.06-2.06.94z\"/><path d=\"M17.41 7.96l-1.37-1.37c-.4-.4-.92-.59-1.43-.59-.52 0-1.04.2-1.43.59L10.3 9.45l-7.72 7.72c-.78.78-.78 2.05 0 2.83L4 21.41c.39.39.9.59 1.41.59.51 0 1.02-.2 1.41-.59l7.78-7.78 2.81-2.81c.8-.78.8-2.07 0-2.86zM5.41 20L4 18.59l7.72-7.72 1.47 1.35L5.41 20z\"/>\n",
              "  </svg>\n",
              "      </button>\n",
              "      \n",
              "  <style>\n",
              "    .colab-df-container {\n",
              "      display:flex;\n",
              "      flex-wrap:wrap;\n",
              "      gap: 12px;\n",
              "    }\n",
              "\n",
              "    .colab-df-convert {\n",
              "      background-color: #E8F0FE;\n",
              "      border: none;\n",
              "      border-radius: 50%;\n",
              "      cursor: pointer;\n",
              "      display: none;\n",
              "      fill: #1967D2;\n",
              "      height: 32px;\n",
              "      padding: 0 0 0 0;\n",
              "      width: 32px;\n",
              "    }\n",
              "\n",
              "    .colab-df-convert:hover {\n",
              "      background-color: #E2EBFA;\n",
              "      box-shadow: 0px 1px 2px rgba(60, 64, 67, 0.3), 0px 1px 3px 1px rgba(60, 64, 67, 0.15);\n",
              "      fill: #174EA6;\n",
              "    }\n",
              "\n",
              "    [theme=dark] .colab-df-convert {\n",
              "      background-color: #3B4455;\n",
              "      fill: #D2E3FC;\n",
              "    }\n",
              "\n",
              "    [theme=dark] .colab-df-convert:hover {\n",
              "      background-color: #434B5C;\n",
              "      box-shadow: 0px 1px 3px 1px rgba(0, 0, 0, 0.15);\n",
              "      filter: drop-shadow(0px 1px 2px rgba(0, 0, 0, 0.3));\n",
              "      fill: #FFFFFF;\n",
              "    }\n",
              "  </style>\n",
              "\n",
              "      <script>\n",
              "        const buttonEl =\n",
              "          document.querySelector('#df-59ba88e2-0775-483d-8706-4e980c8b79ec button.colab-df-convert');\n",
              "        buttonEl.style.display =\n",
              "          google.colab.kernel.accessAllowed ? 'block' : 'none';\n",
              "\n",
              "        async function convertToInteractive(key) {\n",
              "          const element = document.querySelector('#df-59ba88e2-0775-483d-8706-4e980c8b79ec');\n",
              "          const dataTable =\n",
              "            await google.colab.kernel.invokeFunction('convertToInteractive',\n",
              "                                                     [key], {});\n",
              "          if (!dataTable) return;\n",
              "\n",
              "          const docLinkHtml = 'Like what you see? Visit the ' +\n",
              "            '<a target=\"_blank\" href=https://colab.research.google.com/notebooks/data_table.ipynb>data table notebook</a>'\n",
              "            + ' to learn more about interactive tables.';\n",
              "          element.innerHTML = '';\n",
              "          dataTable['output_type'] = 'display_data';\n",
              "          await google.colab.output.renderOutput(dataTable, element);\n",
              "          const docLink = document.createElement('div');\n",
              "          docLink.innerHTML = docLinkHtml;\n",
              "          element.appendChild(docLink);\n",
              "        }\n",
              "      </script>\n",
              "    </div>\n",
              "  </div>\n",
              "  "
            ],
            "text/plain": [
              "  logica_value\n",
              "0         None"
            ]
          },
          "metadata": {}
        },
        {
          "output_type": "display_data",
          "data": {
            "application/javascript": [
              "window[\"723f48f6-67cd-11ec-8473-0242ac1c0002\"] = google.colab.output.setActiveOutputArea(window[\"723b06e2-67cd-11ec-8473-0242ac1c0002\"]);\n",
              "//# sourceURL=js_17681bbbdb"
            ],
            "text/plain": [
              "<IPython.core.display.Javascript object>"
            ]
          },
          "metadata": {}
        },
        {
          "output_type": "stream",
          "name": "stdout",
          "text": [
            " \n"
          ]
        },
        {
          "output_type": "display_data",
          "data": {
            "application/javascript": [
              "window[\"7240ad18-67cd-11ec-8473-0242ac1c0002\"] = google.colab.output.setActiveOutputArea(window[\"72390932-67cd-11ec-8473-0242ac1c0002\"]);\n",
              "//# sourceURL=js_69a49e620c"
            ],
            "text/plain": [
              "<IPython.core.display.Javascript object>"
            ]
          },
          "metadata": {}
        },
        {
          "output_type": "display_data",
          "data": {
            "application/javascript": [
              "window[\"7242187e-67cd-11ec-8473-0242ac1c0002\"] = google.colab.output.getActiveOutputArea();\n",
              "//# sourceURL=js_e56ec1572f"
            ],
            "text/plain": [
              "<IPython.core.display.Javascript object>"
            ]
          },
          "metadata": {}
        },
        {
          "output_type": "display_data",
          "data": {
            "application/javascript": [
              "window[\"72426392-67cd-11ec-8473-0242ac1c0002\"] = document.querySelector(\"#id292_content_11\");\n",
              "//# sourceURL=js_31ebd6fb29"
            ],
            "text/plain": [
              "<IPython.core.display.Javascript object>"
            ]
          },
          "metadata": {}
        },
        {
          "output_type": "display_data",
          "data": {
            "application/javascript": [
              "window[\"7242aca8-67cd-11ec-8473-0242ac1c0002\"] = google.colab.output.setActiveOutputArea(window[\"72426392-67cd-11ec-8473-0242ac1c0002\"]);\n",
              "//# sourceURL=js_46ba9133f4"
            ],
            "text/plain": [
              "<IPython.core.display.Javascript object>"
            ]
          },
          "metadata": {}
        },
        {
          "output_type": "display_data",
          "data": {
            "application/javascript": [
              "window[\"7242f348-67cd-11ec-8473-0242ac1c0002\"] = window[\"id292\"].setSelectedTabIndex(11);\n",
              "//# sourceURL=js_8f950c21ae"
            ],
            "text/plain": [
              "<IPython.core.display.Javascript object>"
            ]
          },
          "metadata": {}
        },
        {
          "output_type": "display_data",
          "data": {
            "application/javascript": [
              "window[\"72441a34-67cd-11ec-8473-0242ac1c0002\"] = google.colab.output.getActiveOutputArea();\n",
              "//# sourceURL=js_13f544b1c3"
            ],
            "text/plain": [
              "<IPython.core.display.Javascript object>"
            ]
          },
          "metadata": {}
        },
        {
          "output_type": "display_data",
          "data": {
            "application/javascript": [
              "window[\"724460c0-67cd-11ec-8473-0242ac1c0002\"] = document.querySelector(\"#id304_content_1\");\n",
              "//# sourceURL=js_4440a7015f"
            ],
            "text/plain": [
              "<IPython.core.display.Javascript object>"
            ]
          },
          "metadata": {}
        },
        {
          "output_type": "display_data",
          "data": {
            "application/javascript": [
              "window[\"72449e64-67cd-11ec-8473-0242ac1c0002\"] = google.colab.output.setActiveOutputArea(window[\"724460c0-67cd-11ec-8473-0242ac1c0002\"]);\n",
              "//# sourceURL=js_fe142f1467"
            ],
            "text/plain": [
              "<IPython.core.display.Javascript object>"
            ]
          },
          "metadata": {}
        },
        {
          "output_type": "display_data",
          "data": {
            "application/javascript": [
              "window[\"7244dd34-67cd-11ec-8473-0242ac1c0002\"] = window[\"id304\"].setSelectedTabIndex(1);\n",
              "//# sourceURL=js_0bb9a14e2c"
            ],
            "text/plain": [
              "<IPython.core.display.Javascript object>"
            ]
          },
          "metadata": {}
        },
        {
          "output_type": "stream",
          "name": "stdout",
          "text": [
            "The following table is stored at \u001b[1mOnlyThreeMedalistsTest\u001b[0m variable.\n"
          ]
        },
        {
          "output_type": "display_data",
          "data": {
            "text/html": [
              "\n",
              "  <div id=\"df-3f6027b2-9da8-4b93-bfc8-f405168d6952\">\n",
              "    <div class=\"colab-df-container\">\n",
              "      <div>\n",
              "<style scoped>\n",
              "    .dataframe tbody tr th:only-of-type {\n",
              "        vertical-align: middle;\n",
              "    }\n",
              "\n",
              "    .dataframe tbody tr th {\n",
              "        vertical-align: top;\n",
              "    }\n",
              "\n",
              "    .dataframe thead th {\n",
              "        text-align: right;\n",
              "    }\n",
              "</style>\n",
              "<table border=\"1\" class=\"dataframe\">\n",
              "  <thead>\n",
              "    <tr style=\"text-align: right;\">\n",
              "      <th></th>\n",
              "      <th>logica_value</th>\n",
              "    </tr>\n",
              "  </thead>\n",
              "  <tbody>\n",
              "    <tr>\n",
              "      <th>0</th>\n",
              "      <td>Fail</td>\n",
              "    </tr>\n",
              "  </tbody>\n",
              "</table>\n",
              "</div>\n",
              "      <button class=\"colab-df-convert\" onclick=\"convertToInteractive('df-3f6027b2-9da8-4b93-bfc8-f405168d6952')\"\n",
              "              title=\"Convert this dataframe to an interactive table.\"\n",
              "              style=\"display:none;\">\n",
              "        \n",
              "  <svg xmlns=\"http://www.w3.org/2000/svg\" height=\"24px\"viewBox=\"0 0 24 24\"\n",
              "       width=\"24px\">\n",
              "    <path d=\"M0 0h24v24H0V0z\" fill=\"none\"/>\n",
              "    <path d=\"M18.56 5.44l.94 2.06.94-2.06 2.06-.94-2.06-.94-.94-2.06-.94 2.06-2.06.94zm-11 1L8.5 8.5l.94-2.06 2.06-.94-2.06-.94L8.5 2.5l-.94 2.06-2.06.94zm10 10l.94 2.06.94-2.06 2.06-.94-2.06-.94-.94-2.06-.94 2.06-2.06.94z\"/><path d=\"M17.41 7.96l-1.37-1.37c-.4-.4-.92-.59-1.43-.59-.52 0-1.04.2-1.43.59L10.3 9.45l-7.72 7.72c-.78.78-.78 2.05 0 2.83L4 21.41c.39.39.9.59 1.41.59.51 0 1.02-.2 1.41-.59l7.78-7.78 2.81-2.81c.8-.78.8-2.07 0-2.86zM5.41 20L4 18.59l7.72-7.72 1.47 1.35L5.41 20z\"/>\n",
              "  </svg>\n",
              "      </button>\n",
              "      \n",
              "  <style>\n",
              "    .colab-df-container {\n",
              "      display:flex;\n",
              "      flex-wrap:wrap;\n",
              "      gap: 12px;\n",
              "    }\n",
              "\n",
              "    .colab-df-convert {\n",
              "      background-color: #E8F0FE;\n",
              "      border: none;\n",
              "      border-radius: 50%;\n",
              "      cursor: pointer;\n",
              "      display: none;\n",
              "      fill: #1967D2;\n",
              "      height: 32px;\n",
              "      padding: 0 0 0 0;\n",
              "      width: 32px;\n",
              "    }\n",
              "\n",
              "    .colab-df-convert:hover {\n",
              "      background-color: #E2EBFA;\n",
              "      box-shadow: 0px 1px 2px rgba(60, 64, 67, 0.3), 0px 1px 3px 1px rgba(60, 64, 67, 0.15);\n",
              "      fill: #174EA6;\n",
              "    }\n",
              "\n",
              "    [theme=dark] .colab-df-convert {\n",
              "      background-color: #3B4455;\n",
              "      fill: #D2E3FC;\n",
              "    }\n",
              "\n",
              "    [theme=dark] .colab-df-convert:hover {\n",
              "      background-color: #434B5C;\n",
              "      box-shadow: 0px 1px 3px 1px rgba(0, 0, 0, 0.15);\n",
              "      filter: drop-shadow(0px 1px 2px rgba(0, 0, 0, 0.3));\n",
              "      fill: #FFFFFF;\n",
              "    }\n",
              "  </style>\n",
              "\n",
              "      <script>\n",
              "        const buttonEl =\n",
              "          document.querySelector('#df-3f6027b2-9da8-4b93-bfc8-f405168d6952 button.colab-df-convert');\n",
              "        buttonEl.style.display =\n",
              "          google.colab.kernel.accessAllowed ? 'block' : 'none';\n",
              "\n",
              "        async function convertToInteractive(key) {\n",
              "          const element = document.querySelector('#df-3f6027b2-9da8-4b93-bfc8-f405168d6952');\n",
              "          const dataTable =\n",
              "            await google.colab.kernel.invokeFunction('convertToInteractive',\n",
              "                                                     [key], {});\n",
              "          if (!dataTable) return;\n",
              "\n",
              "          const docLinkHtml = 'Like what you see? Visit the ' +\n",
              "            '<a target=\"_blank\" href=https://colab.research.google.com/notebooks/data_table.ipynb>data table notebook</a>'\n",
              "            + ' to learn more about interactive tables.';\n",
              "          element.innerHTML = '';\n",
              "          dataTable['output_type'] = 'display_data';\n",
              "          await google.colab.output.renderOutput(dataTable, element);\n",
              "          const docLink = document.createElement('div');\n",
              "          docLink.innerHTML = docLinkHtml;\n",
              "          element.appendChild(docLink);\n",
              "        }\n",
              "      </script>\n",
              "    </div>\n",
              "  </div>\n",
              "  "
            ],
            "text/plain": [
              "  logica_value\n",
              "0         Fail"
            ]
          },
          "metadata": {}
        },
        {
          "output_type": "display_data",
          "data": {
            "application/javascript": [
              "window[\"72489992-67cd-11ec-8473-0242ac1c0002\"] = google.colab.output.setActiveOutputArea(window[\"72441a34-67cd-11ec-8473-0242ac1c0002\"]);\n",
              "//# sourceURL=js_7c03c53508"
            ],
            "text/plain": [
              "<IPython.core.display.Javascript object>"
            ]
          },
          "metadata": {}
        },
        {
          "output_type": "stream",
          "name": "stdout",
          "text": [
            " \n"
          ]
        },
        {
          "output_type": "display_data",
          "data": {
            "application/javascript": [
              "window[\"7249fb66-67cd-11ec-8473-0242ac1c0002\"] = google.colab.output.setActiveOutputArea(window[\"7242187e-67cd-11ec-8473-0242ac1c0002\"]);\n",
              "//# sourceURL=js_93c653df88"
            ],
            "text/plain": [
              "<IPython.core.display.Javascript object>"
            ]
          },
          "metadata": {}
        },
        {
          "output_type": "display_data",
          "data": {
            "application/javascript": [
              "window[\"724b6f5a-67cd-11ec-8473-0242ac1c0002\"] = google.colab.output.getActiveOutputArea();\n",
              "//# sourceURL=js_40dde13aee"
            ],
            "text/plain": [
              "<IPython.core.display.Javascript object>"
            ]
          },
          "metadata": {}
        },
        {
          "output_type": "display_data",
          "data": {
            "application/javascript": [
              "window[\"724bbc76-67cd-11ec-8473-0242ac1c0002\"] = document.querySelector(\"#id292_content_12\");\n",
              "//# sourceURL=js_43bc8e6482"
            ],
            "text/plain": [
              "<IPython.core.display.Javascript object>"
            ]
          },
          "metadata": {}
        },
        {
          "output_type": "display_data",
          "data": {
            "application/javascript": [
              "window[\"724bfc04-67cd-11ec-8473-0242ac1c0002\"] = google.colab.output.setActiveOutputArea(window[\"724bbc76-67cd-11ec-8473-0242ac1c0002\"]);\n",
              "//# sourceURL=js_6655371ac3"
            ],
            "text/plain": [
              "<IPython.core.display.Javascript object>"
            ]
          },
          "metadata": {}
        },
        {
          "output_type": "display_data",
          "data": {
            "application/javascript": [
              "window[\"724c3caa-67cd-11ec-8473-0242ac1c0002\"] = window[\"id292\"].setSelectedTabIndex(12);\n",
              "//# sourceURL=js_cd960691ac"
            ],
            "text/plain": [
              "<IPython.core.display.Javascript object>"
            ]
          },
          "metadata": {}
        },
        {
          "output_type": "display_data",
          "data": {
            "application/javascript": [
              "window[\"724d59f0-67cd-11ec-8473-0242ac1c0002\"] = google.colab.output.getActiveOutputArea();\n",
              "//# sourceURL=js_f1055db9be"
            ],
            "text/plain": [
              "<IPython.core.display.Javascript object>"
            ]
          },
          "metadata": {}
        },
        {
          "output_type": "display_data",
          "data": {
            "application/javascript": [
              "window[\"724d9dca-67cd-11ec-8473-0242ac1c0002\"] = document.querySelector(\"#id305_content_1\");\n",
              "//# sourceURL=js_eda3991a67"
            ],
            "text/plain": [
              "<IPython.core.display.Javascript object>"
            ]
          },
          "metadata": {}
        },
        {
          "output_type": "display_data",
          "data": {
            "application/javascript": [
              "window[\"724ddfb0-67cd-11ec-8473-0242ac1c0002\"] = google.colab.output.setActiveOutputArea(window[\"724d9dca-67cd-11ec-8473-0242ac1c0002\"]);\n",
              "//# sourceURL=js_ea7addcd26"
            ],
            "text/plain": [
              "<IPython.core.display.Javascript object>"
            ]
          },
          "metadata": {}
        },
        {
          "output_type": "display_data",
          "data": {
            "application/javascript": [
              "window[\"724e220e-67cd-11ec-8473-0242ac1c0002\"] = window[\"id305\"].setSelectedTabIndex(1);\n",
              "//# sourceURL=js_1b78eae2e7"
            ],
            "text/plain": [
              "<IPython.core.display.Javascript object>"
            ]
          },
          "metadata": {}
        },
        {
          "output_type": "stream",
          "name": "stdout",
          "text": [
            "The following table is stored at \u001b[1mAIsMedalistTest\u001b[0m variable.\n"
          ]
        },
        {
          "output_type": "display_data",
          "data": {
            "text/html": [
              "\n",
              "  <div id=\"df-cebd2f13-e356-4837-a9cd-c85c112547dc\">\n",
              "    <div class=\"colab-df-container\">\n",
              "      <div>\n",
              "<style scoped>\n",
              "    .dataframe tbody tr th:only-of-type {\n",
              "        vertical-align: middle;\n",
              "    }\n",
              "\n",
              "    .dataframe tbody tr th {\n",
              "        vertical-align: top;\n",
              "    }\n",
              "\n",
              "    .dataframe thead th {\n",
              "        text-align: right;\n",
              "    }\n",
              "</style>\n",
              "<table border=\"1\" class=\"dataframe\">\n",
              "  <thead>\n",
              "    <tr style=\"text-align: right;\">\n",
              "      <th></th>\n",
              "      <th>logica_value</th>\n",
              "    </tr>\n",
              "  </thead>\n",
              "  <tbody>\n",
              "    <tr>\n",
              "      <th>0</th>\n",
              "      <td>Fail</td>\n",
              "    </tr>\n",
              "  </tbody>\n",
              "</table>\n",
              "</div>\n",
              "      <button class=\"colab-df-convert\" onclick=\"convertToInteractive('df-cebd2f13-e356-4837-a9cd-c85c112547dc')\"\n",
              "              title=\"Convert this dataframe to an interactive table.\"\n",
              "              style=\"display:none;\">\n",
              "        \n",
              "  <svg xmlns=\"http://www.w3.org/2000/svg\" height=\"24px\"viewBox=\"0 0 24 24\"\n",
              "       width=\"24px\">\n",
              "    <path d=\"M0 0h24v24H0V0z\" fill=\"none\"/>\n",
              "    <path d=\"M18.56 5.44l.94 2.06.94-2.06 2.06-.94-2.06-.94-.94-2.06-.94 2.06-2.06.94zm-11 1L8.5 8.5l.94-2.06 2.06-.94-2.06-.94L8.5 2.5l-.94 2.06-2.06.94zm10 10l.94 2.06.94-2.06 2.06-.94-2.06-.94-.94-2.06-.94 2.06-2.06.94z\"/><path d=\"M17.41 7.96l-1.37-1.37c-.4-.4-.92-.59-1.43-.59-.52 0-1.04.2-1.43.59L10.3 9.45l-7.72 7.72c-.78.78-.78 2.05 0 2.83L4 21.41c.39.39.9.59 1.41.59.51 0 1.02-.2 1.41-.59l7.78-7.78 2.81-2.81c.8-.78.8-2.07 0-2.86zM5.41 20L4 18.59l7.72-7.72 1.47 1.35L5.41 20z\"/>\n",
              "  </svg>\n",
              "      </button>\n",
              "      \n",
              "  <style>\n",
              "    .colab-df-container {\n",
              "      display:flex;\n",
              "      flex-wrap:wrap;\n",
              "      gap: 12px;\n",
              "    }\n",
              "\n",
              "    .colab-df-convert {\n",
              "      background-color: #E8F0FE;\n",
              "      border: none;\n",
              "      border-radius: 50%;\n",
              "      cursor: pointer;\n",
              "      display: none;\n",
              "      fill: #1967D2;\n",
              "      height: 32px;\n",
              "      padding: 0 0 0 0;\n",
              "      width: 32px;\n",
              "    }\n",
              "\n",
              "    .colab-df-convert:hover {\n",
              "      background-color: #E2EBFA;\n",
              "      box-shadow: 0px 1px 2px rgba(60, 64, 67, 0.3), 0px 1px 3px 1px rgba(60, 64, 67, 0.15);\n",
              "      fill: #174EA6;\n",
              "    }\n",
              "\n",
              "    [theme=dark] .colab-df-convert {\n",
              "      background-color: #3B4455;\n",
              "      fill: #D2E3FC;\n",
              "    }\n",
              "\n",
              "    [theme=dark] .colab-df-convert:hover {\n",
              "      background-color: #434B5C;\n",
              "      box-shadow: 0px 1px 3px 1px rgba(0, 0, 0, 0.15);\n",
              "      filter: drop-shadow(0px 1px 2px rgba(0, 0, 0, 0.3));\n",
              "      fill: #FFFFFF;\n",
              "    }\n",
              "  </style>\n",
              "\n",
              "      <script>\n",
              "        const buttonEl =\n",
              "          document.querySelector('#df-cebd2f13-e356-4837-a9cd-c85c112547dc button.colab-df-convert');\n",
              "        buttonEl.style.display =\n",
              "          google.colab.kernel.accessAllowed ? 'block' : 'none';\n",
              "\n",
              "        async function convertToInteractive(key) {\n",
              "          const element = document.querySelector('#df-cebd2f13-e356-4837-a9cd-c85c112547dc');\n",
              "          const dataTable =\n",
              "            await google.colab.kernel.invokeFunction('convertToInteractive',\n",
              "                                                     [key], {});\n",
              "          if (!dataTable) return;\n",
              "\n",
              "          const docLinkHtml = 'Like what you see? Visit the ' +\n",
              "            '<a target=\"_blank\" href=https://colab.research.google.com/notebooks/data_table.ipynb>data table notebook</a>'\n",
              "            + ' to learn more about interactive tables.';\n",
              "          element.innerHTML = '';\n",
              "          dataTable['output_type'] = 'display_data';\n",
              "          await google.colab.output.renderOutput(dataTable, element);\n",
              "          const docLink = document.createElement('div');\n",
              "          docLink.innerHTML = docLinkHtml;\n",
              "          element.appendChild(docLink);\n",
              "        }\n",
              "      </script>\n",
              "    </div>\n",
              "  </div>\n",
              "  "
            ],
            "text/plain": [
              "  logica_value\n",
              "0         Fail"
            ]
          },
          "metadata": {}
        },
        {
          "output_type": "display_data",
          "data": {
            "application/javascript": [
              "window[\"725164b4-67cd-11ec-8473-0242ac1c0002\"] = google.colab.output.setActiveOutputArea(window[\"724d59f0-67cd-11ec-8473-0242ac1c0002\"]);\n",
              "//# sourceURL=js_8e1eb74571"
            ],
            "text/plain": [
              "<IPython.core.display.Javascript object>"
            ]
          },
          "metadata": {}
        },
        {
          "output_type": "stream",
          "name": "stdout",
          "text": [
            " \n"
          ]
        },
        {
          "output_type": "display_data",
          "data": {
            "application/javascript": [
              "window[\"7253644e-67cd-11ec-8473-0242ac1c0002\"] = google.colab.output.setActiveOutputArea(window[\"724b6f5a-67cd-11ec-8473-0242ac1c0002\"]);\n",
              "//# sourceURL=js_9df096a70a"
            ],
            "text/plain": [
              "<IPython.core.display.Javascript object>"
            ]
          },
          "metadata": {}
        },
        {
          "output_type": "display_data",
          "data": {
            "application/javascript": [
              "window[\"7254c65e-67cd-11ec-8473-0242ac1c0002\"] = google.colab.output.getActiveOutputArea();\n",
              "//# sourceURL=js_ee32d91320"
            ],
            "text/plain": [
              "<IPython.core.display.Javascript object>"
            ]
          },
          "metadata": {}
        },
        {
          "output_type": "display_data",
          "data": {
            "application/javascript": [
              "window[\"72550f42-67cd-11ec-8473-0242ac1c0002\"] = document.querySelector(\"#id292_content_13\");\n",
              "//# sourceURL=js_159026005a"
            ],
            "text/plain": [
              "<IPython.core.display.Javascript object>"
            ]
          },
          "metadata": {}
        },
        {
          "output_type": "display_data",
          "data": {
            "application/javascript": [
              "window[\"72554f52-67cd-11ec-8473-0242ac1c0002\"] = google.colab.output.setActiveOutputArea(window[\"72550f42-67cd-11ec-8473-0242ac1c0002\"]);\n",
              "//# sourceURL=js_dff9df1774"
            ],
            "text/plain": [
              "<IPython.core.display.Javascript object>"
            ]
          },
          "metadata": {}
        },
        {
          "output_type": "display_data",
          "data": {
            "application/javascript": [
              "window[\"72559034-67cd-11ec-8473-0242ac1c0002\"] = window[\"id292\"].setSelectedTabIndex(13);\n",
              "//# sourceURL=js_d6eb804778"
            ],
            "text/plain": [
              "<IPython.core.display.Javascript object>"
            ]
          },
          "metadata": {}
        },
        {
          "output_type": "display_data",
          "data": {
            "application/javascript": [
              "window[\"7256b00e-67cd-11ec-8473-0242ac1c0002\"] = google.colab.output.getActiveOutputArea();\n",
              "//# sourceURL=js_1615a834e6"
            ],
            "text/plain": [
              "<IPython.core.display.Javascript object>"
            ]
          },
          "metadata": {}
        },
        {
          "output_type": "display_data",
          "data": {
            "application/javascript": [
              "window[\"7256f15e-67cd-11ec-8473-0242ac1c0002\"] = document.querySelector(\"#id306_content_1\");\n",
              "//# sourceURL=js_73549bd3c4"
            ],
            "text/plain": [
              "<IPython.core.display.Javascript object>"
            ]
          },
          "metadata": {}
        },
        {
          "output_type": "display_data",
          "data": {
            "application/javascript": [
              "window[\"7257327c-67cd-11ec-8473-0242ac1c0002\"] = google.colab.output.setActiveOutputArea(window[\"7256f15e-67cd-11ec-8473-0242ac1c0002\"]);\n",
              "//# sourceURL=js_119a6edc1f"
            ],
            "text/plain": [
              "<IPython.core.display.Javascript object>"
            ]
          },
          "metadata": {}
        },
        {
          "output_type": "display_data",
          "data": {
            "application/javascript": [
              "window[\"725773a4-67cd-11ec-8473-0242ac1c0002\"] = window[\"id306\"].setSelectedTabIndex(1);\n",
              "//# sourceURL=js_1f14a4b9ec"
            ],
            "text/plain": [
              "<IPython.core.display.Javascript object>"
            ]
          },
          "metadata": {}
        },
        {
          "output_type": "stream",
          "name": "stdout",
          "text": [
            "The following table is stored at \u001b[1mBIsNotMedalistTest\u001b[0m variable.\n"
          ]
        },
        {
          "output_type": "display_data",
          "data": {
            "text/html": [
              "\n",
              "  <div id=\"df-f060680f-ad06-4ad7-8b31-5b2a167c2a8b\">\n",
              "    <div class=\"colab-df-container\">\n",
              "      <div>\n",
              "<style scoped>\n",
              "    .dataframe tbody tr th:only-of-type {\n",
              "        vertical-align: middle;\n",
              "    }\n",
              "\n",
              "    .dataframe tbody tr th {\n",
              "        vertical-align: top;\n",
              "    }\n",
              "\n",
              "    .dataframe thead th {\n",
              "        text-align: right;\n",
              "    }\n",
              "</style>\n",
              "<table border=\"1\" class=\"dataframe\">\n",
              "  <thead>\n",
              "    <tr style=\"text-align: right;\">\n",
              "      <th></th>\n",
              "      <th>logica_value</th>\n",
              "    </tr>\n",
              "  </thead>\n",
              "  <tbody>\n",
              "    <tr>\n",
              "      <th>0</th>\n",
              "      <td>Pass</td>\n",
              "    </tr>\n",
              "  </tbody>\n",
              "</table>\n",
              "</div>\n",
              "      <button class=\"colab-df-convert\" onclick=\"convertToInteractive('df-f060680f-ad06-4ad7-8b31-5b2a167c2a8b')\"\n",
              "              title=\"Convert this dataframe to an interactive table.\"\n",
              "              style=\"display:none;\">\n",
              "        \n",
              "  <svg xmlns=\"http://www.w3.org/2000/svg\" height=\"24px\"viewBox=\"0 0 24 24\"\n",
              "       width=\"24px\">\n",
              "    <path d=\"M0 0h24v24H0V0z\" fill=\"none\"/>\n",
              "    <path d=\"M18.56 5.44l.94 2.06.94-2.06 2.06-.94-2.06-.94-.94-2.06-.94 2.06-2.06.94zm-11 1L8.5 8.5l.94-2.06 2.06-.94-2.06-.94L8.5 2.5l-.94 2.06-2.06.94zm10 10l.94 2.06.94-2.06 2.06-.94-2.06-.94-.94-2.06-.94 2.06-2.06.94z\"/><path d=\"M17.41 7.96l-1.37-1.37c-.4-.4-.92-.59-1.43-.59-.52 0-1.04.2-1.43.59L10.3 9.45l-7.72 7.72c-.78.78-.78 2.05 0 2.83L4 21.41c.39.39.9.59 1.41.59.51 0 1.02-.2 1.41-.59l7.78-7.78 2.81-2.81c.8-.78.8-2.07 0-2.86zM5.41 20L4 18.59l7.72-7.72 1.47 1.35L5.41 20z\"/>\n",
              "  </svg>\n",
              "      </button>\n",
              "      \n",
              "  <style>\n",
              "    .colab-df-container {\n",
              "      display:flex;\n",
              "      flex-wrap:wrap;\n",
              "      gap: 12px;\n",
              "    }\n",
              "\n",
              "    .colab-df-convert {\n",
              "      background-color: #E8F0FE;\n",
              "      border: none;\n",
              "      border-radius: 50%;\n",
              "      cursor: pointer;\n",
              "      display: none;\n",
              "      fill: #1967D2;\n",
              "      height: 32px;\n",
              "      padding: 0 0 0 0;\n",
              "      width: 32px;\n",
              "    }\n",
              "\n",
              "    .colab-df-convert:hover {\n",
              "      background-color: #E2EBFA;\n",
              "      box-shadow: 0px 1px 2px rgba(60, 64, 67, 0.3), 0px 1px 3px 1px rgba(60, 64, 67, 0.15);\n",
              "      fill: #174EA6;\n",
              "    }\n",
              "\n",
              "    [theme=dark] .colab-df-convert {\n",
              "      background-color: #3B4455;\n",
              "      fill: #D2E3FC;\n",
              "    }\n",
              "\n",
              "    [theme=dark] .colab-df-convert:hover {\n",
              "      background-color: #434B5C;\n",
              "      box-shadow: 0px 1px 3px 1px rgba(0, 0, 0, 0.15);\n",
              "      filter: drop-shadow(0px 1px 2px rgba(0, 0, 0, 0.3));\n",
              "      fill: #FFFFFF;\n",
              "    }\n",
              "  </style>\n",
              "\n",
              "      <script>\n",
              "        const buttonEl =\n",
              "          document.querySelector('#df-f060680f-ad06-4ad7-8b31-5b2a167c2a8b button.colab-df-convert');\n",
              "        buttonEl.style.display =\n",
              "          google.colab.kernel.accessAllowed ? 'block' : 'none';\n",
              "\n",
              "        async function convertToInteractive(key) {\n",
              "          const element = document.querySelector('#df-f060680f-ad06-4ad7-8b31-5b2a167c2a8b');\n",
              "          const dataTable =\n",
              "            await google.colab.kernel.invokeFunction('convertToInteractive',\n",
              "                                                     [key], {});\n",
              "          if (!dataTable) return;\n",
              "\n",
              "          const docLinkHtml = 'Like what you see? Visit the ' +\n",
              "            '<a target=\"_blank\" href=https://colab.research.google.com/notebooks/data_table.ipynb>data table notebook</a>'\n",
              "            + ' to learn more about interactive tables.';\n",
              "          element.innerHTML = '';\n",
              "          dataTable['output_type'] = 'display_data';\n",
              "          await google.colab.output.renderOutput(dataTable, element);\n",
              "          const docLink = document.createElement('div');\n",
              "          docLink.innerHTML = docLinkHtml;\n",
              "          element.appendChild(docLink);\n",
              "        }\n",
              "      </script>\n",
              "    </div>\n",
              "  </div>\n",
              "  "
            ],
            "text/plain": [
              "  logica_value\n",
              "0         Pass"
            ]
          },
          "metadata": {}
        },
        {
          "output_type": "display_data",
          "data": {
            "application/javascript": [
              "window[\"725b118a-67cd-11ec-8473-0242ac1c0002\"] = google.colab.output.setActiveOutputArea(window[\"7256b00e-67cd-11ec-8473-0242ac1c0002\"]);\n",
              "//# sourceURL=js_07dcbbe738"
            ],
            "text/plain": [
              "<IPython.core.display.Javascript object>"
            ]
          },
          "metadata": {}
        },
        {
          "output_type": "stream",
          "name": "stdout",
          "text": [
            " \n"
          ]
        },
        {
          "output_type": "display_data",
          "data": {
            "application/javascript": [
              "window[\"725c653a-67cd-11ec-8473-0242ac1c0002\"] = google.colab.output.setActiveOutputArea(window[\"7254c65e-67cd-11ec-8473-0242ac1c0002\"]);\n",
              "//# sourceURL=js_dc7620396a"
            ],
            "text/plain": [
              "<IPython.core.display.Javascript object>"
            ]
          },
          "metadata": {}
        },
        {
          "output_type": "display_data",
          "data": {
            "application/javascript": [
              "window[\"725fd2ec-67cd-11ec-8473-0242ac1c0002\"] = google.colab.output.getActiveOutputArea();\n",
              "//# sourceURL=js_8b90736666"
            ],
            "text/plain": [
              "<IPython.core.display.Javascript object>"
            ]
          },
          "metadata": {}
        },
        {
          "output_type": "display_data",
          "data": {
            "application/javascript": [
              "window[\"72607b34-67cd-11ec-8473-0242ac1c0002\"] = document.querySelector(\"#id292_content_14\");\n",
              "//# sourceURL=js_69241d4cd0"
            ],
            "text/plain": [
              "<IPython.core.display.Javascript object>"
            ]
          },
          "metadata": {}
        },
        {
          "output_type": "display_data",
          "data": {
            "application/javascript": [
              "window[\"72612606-67cd-11ec-8473-0242ac1c0002\"] = google.colab.output.setActiveOutputArea(window[\"72607b34-67cd-11ec-8473-0242ac1c0002\"]);\n",
              "//# sourceURL=js_bf6cfd9311"
            ],
            "text/plain": [
              "<IPython.core.display.Javascript object>"
            ]
          },
          "metadata": {}
        },
        {
          "output_type": "display_data",
          "data": {
            "application/javascript": [
              "window[\"72619690-67cd-11ec-8473-0242ac1c0002\"] = window[\"id292\"].setSelectedTabIndex(14);\n",
              "//# sourceURL=js_f825152012"
            ],
            "text/plain": [
              "<IPython.core.display.Javascript object>"
            ]
          },
          "metadata": {}
        },
        {
          "output_type": "display_data",
          "data": {
            "application/javascript": [
              "window[\"72639bb6-67cd-11ec-8473-0242ac1c0002\"] = google.colab.output.getActiveOutputArea();\n",
              "//# sourceURL=js_d8beb17eee"
            ],
            "text/plain": [
              "<IPython.core.display.Javascript object>"
            ]
          },
          "metadata": {}
        },
        {
          "output_type": "display_data",
          "data": {
            "application/javascript": [
              "window[\"7263ff20-67cd-11ec-8473-0242ac1c0002\"] = document.querySelector(\"#id307_content_1\");\n",
              "//# sourceURL=js_6c4b4274fc"
            ],
            "text/plain": [
              "<IPython.core.display.Javascript object>"
            ]
          },
          "metadata": {}
        },
        {
          "output_type": "display_data",
          "data": {
            "application/javascript": [
              "window[\"7264af38-67cd-11ec-8473-0242ac1c0002\"] = google.colab.output.setActiveOutputArea(window[\"7263ff20-67cd-11ec-8473-0242ac1c0002\"]);\n",
              "//# sourceURL=js_e37b036d1e"
            ],
            "text/plain": [
              "<IPython.core.display.Javascript object>"
            ]
          },
          "metadata": {}
        },
        {
          "output_type": "display_data",
          "data": {
            "application/javascript": [
              "window[\"72652da0-67cd-11ec-8473-0242ac1c0002\"] = window[\"id307\"].setSelectedTabIndex(1);\n",
              "//# sourceURL=js_5810ddcebd"
            ],
            "text/plain": [
              "<IPython.core.display.Javascript object>"
            ]
          },
          "metadata": {}
        },
        {
          "output_type": "stream",
          "name": "stdout",
          "text": [
            "The following table is stored at \u001b[1mBsAwardsInCircleAwardsOfA\u001b[0m variable.\n"
          ]
        },
        {
          "output_type": "display_data",
          "data": {
            "text/html": [
              "\n",
              "  <div id=\"df-c268fba3-ca98-40d8-bd21-3307c4b47ab4\">\n",
              "    <div class=\"colab-df-container\">\n",
              "      <div>\n",
              "<style scoped>\n",
              "    .dataframe tbody tr th:only-of-type {\n",
              "        vertical-align: middle;\n",
              "    }\n",
              "\n",
              "    .dataframe tbody tr th {\n",
              "        vertical-align: top;\n",
              "    }\n",
              "\n",
              "    .dataframe thead th {\n",
              "        text-align: right;\n",
              "    }\n",
              "</style>\n",
              "<table border=\"1\" class=\"dataframe\">\n",
              "  <thead>\n",
              "    <tr style=\"text-align: right;\">\n",
              "      <th></th>\n",
              "      <th>logica_value</th>\n",
              "    </tr>\n",
              "  </thead>\n",
              "  <tbody>\n",
              "  </tbody>\n",
              "</table>\n",
              "</div>\n",
              "      <button class=\"colab-df-convert\" onclick=\"convertToInteractive('df-c268fba3-ca98-40d8-bd21-3307c4b47ab4')\"\n",
              "              title=\"Convert this dataframe to an interactive table.\"\n",
              "              style=\"display:none;\">\n",
              "        \n",
              "  <svg xmlns=\"http://www.w3.org/2000/svg\" height=\"24px\"viewBox=\"0 0 24 24\"\n",
              "       width=\"24px\">\n",
              "    <path d=\"M0 0h24v24H0V0z\" fill=\"none\"/>\n",
              "    <path d=\"M18.56 5.44l.94 2.06.94-2.06 2.06-.94-2.06-.94-.94-2.06-.94 2.06-2.06.94zm-11 1L8.5 8.5l.94-2.06 2.06-.94-2.06-.94L8.5 2.5l-.94 2.06-2.06.94zm10 10l.94 2.06.94-2.06 2.06-.94-2.06-.94-.94-2.06-.94 2.06-2.06.94z\"/><path d=\"M17.41 7.96l-1.37-1.37c-.4-.4-.92-.59-1.43-.59-.52 0-1.04.2-1.43.59L10.3 9.45l-7.72 7.72c-.78.78-.78 2.05 0 2.83L4 21.41c.39.39.9.59 1.41.59.51 0 1.02-.2 1.41-.59l7.78-7.78 2.81-2.81c.8-.78.8-2.07 0-2.86zM5.41 20L4 18.59l7.72-7.72 1.47 1.35L5.41 20z\"/>\n",
              "  </svg>\n",
              "      </button>\n",
              "      \n",
              "  <style>\n",
              "    .colab-df-container {\n",
              "      display:flex;\n",
              "      flex-wrap:wrap;\n",
              "      gap: 12px;\n",
              "    }\n",
              "\n",
              "    .colab-df-convert {\n",
              "      background-color: #E8F0FE;\n",
              "      border: none;\n",
              "      border-radius: 50%;\n",
              "      cursor: pointer;\n",
              "      display: none;\n",
              "      fill: #1967D2;\n",
              "      height: 32px;\n",
              "      padding: 0 0 0 0;\n",
              "      width: 32px;\n",
              "    }\n",
              "\n",
              "    .colab-df-convert:hover {\n",
              "      background-color: #E2EBFA;\n",
              "      box-shadow: 0px 1px 2px rgba(60, 64, 67, 0.3), 0px 1px 3px 1px rgba(60, 64, 67, 0.15);\n",
              "      fill: #174EA6;\n",
              "    }\n",
              "\n",
              "    [theme=dark] .colab-df-convert {\n",
              "      background-color: #3B4455;\n",
              "      fill: #D2E3FC;\n",
              "    }\n",
              "\n",
              "    [theme=dark] .colab-df-convert:hover {\n",
              "      background-color: #434B5C;\n",
              "      box-shadow: 0px 1px 3px 1px rgba(0, 0, 0, 0.15);\n",
              "      filter: drop-shadow(0px 1px 2px rgba(0, 0, 0, 0.3));\n",
              "      fill: #FFFFFF;\n",
              "    }\n",
              "  </style>\n",
              "\n",
              "      <script>\n",
              "        const buttonEl =\n",
              "          document.querySelector('#df-c268fba3-ca98-40d8-bd21-3307c4b47ab4 button.colab-df-convert');\n",
              "        buttonEl.style.display =\n",
              "          google.colab.kernel.accessAllowed ? 'block' : 'none';\n",
              "\n",
              "        async function convertToInteractive(key) {\n",
              "          const element = document.querySelector('#df-c268fba3-ca98-40d8-bd21-3307c4b47ab4');\n",
              "          const dataTable =\n",
              "            await google.colab.kernel.invokeFunction('convertToInteractive',\n",
              "                                                     [key], {});\n",
              "          if (!dataTable) return;\n",
              "\n",
              "          const docLinkHtml = 'Like what you see? Visit the ' +\n",
              "            '<a target=\"_blank\" href=https://colab.research.google.com/notebooks/data_table.ipynb>data table notebook</a>'\n",
              "            + ' to learn more about interactive tables.';\n",
              "          element.innerHTML = '';\n",
              "          dataTable['output_type'] = 'display_data';\n",
              "          await google.colab.output.renderOutput(dataTable, element);\n",
              "          const docLink = document.createElement('div');\n",
              "          docLink.innerHTML = docLinkHtml;\n",
              "          element.appendChild(docLink);\n",
              "        }\n",
              "      </script>\n",
              "    </div>\n",
              "  </div>\n",
              "  "
            ],
            "text/plain": [
              "Empty DataFrame\n",
              "Columns: [logica_value]\n",
              "Index: []"
            ]
          },
          "metadata": {}
        },
        {
          "output_type": "display_data",
          "data": {
            "application/javascript": [
              "window[\"7267f508-67cd-11ec-8473-0242ac1c0002\"] = google.colab.output.setActiveOutputArea(window[\"72639bb6-67cd-11ec-8473-0242ac1c0002\"]);\n",
              "//# sourceURL=js_6c6c2d6d73"
            ],
            "text/plain": [
              "<IPython.core.display.Javascript object>"
            ]
          },
          "metadata": {}
        },
        {
          "output_type": "stream",
          "name": "stdout",
          "text": [
            " \n"
          ]
        },
        {
          "output_type": "display_data",
          "data": {
            "application/javascript": [
              "window[\"726aaa32-67cd-11ec-8473-0242ac1c0002\"] = google.colab.output.setActiveOutputArea(window[\"725fd2ec-67cd-11ec-8473-0242ac1c0002\"]);\n",
              "//# sourceURL=js_02f226a7d1"
            ],
            "text/plain": [
              "<IPython.core.display.Javascript object>"
            ]
          },
          "metadata": {}
        }
      ]
    },
    {
      "cell_type": "code",
      "source": [
        "%%logica SomeCrime, NumCrimes, CrimeCountAtHour, CrimeAtHour, NeighbourhoodCrimeDistribution, CrimeChangeExpanded, MostVolatileType, CrimeChange\n",
        "\n",
        "@Engine(\"sqlite\");\n",
        "@AttachDatabase(\"db\", \"vancouver_crime.db\");\n",
        "\n",
        "@Limit(SomeCrime, 10);\n",
        "SomeCrime(..r) :- db.crime(..r);\n",
        "\n",
        "NumCrimes() += 1 :- db.crime();\n",
        "\n",
        "#11\n",
        "CrimeAtHour(hour:, crimetype? ArgMax= crimetype -> count ) distinct :- CrimeCountAtHour(hour:, crimetype:, count:);\n",
        "\n",
        "CrimeCountAtHour(hour:, crimetype:, count? +=1) distinct :- db.crime(hour:, crimetype:);\n",
        "\n",
        "#12\n",
        "NeighbourhoodCrimeDistribution(neighbourhood:, crimes? List= {crimetype:, proportion:}) distinct :-\n",
        "  proportion == CrimetypeProportionInNeighbourhood(neighbourhood:, crimetype:);\n",
        "\n",
        "CrimetypeProportionInNeighbourhood(neighbourhood:, crimetype:) = ToFloat64(count)/all_crimes_in_nei :-\n",
        "  count == CrimesCountInNeighbourhood(neighbourhood:, crimetype:),\n",
        "  all_crimes_in_nei == AllCrimesCountInNeighbourhood(neighbourhood:);\n",
        "\n",
        "CrimesCountInNeighbourhood(neighbourhood:, crimetype:) +=1 :- db.crime(neighbourhood:, crimetype:);\n",
        "\n",
        "@Ground(AllCrimesCountInNeighbourhood);\n",
        "AllCrimesCountInNeighbourhood(neighbourhood:) += CrimesCountInNeighbourhood(neighbourhood:, crimetype:);\n",
        "\n",
        "#TODO delete\n",
        "CheckPerc(neighbourhood:, r? += proportion) distinct :- \n",
        "  proportion == CrimetypeProportionInNeighbourhood(neighbourhood:, crimetype:);\n",
        "\n",
        "  \n",
        "Abs(x) = if x > 0 then x else -1*x;\n",
        "#13\n",
        "CrimeChange(year:, crimetype:, changed_from:, changed_to:) :- \n",
        "  MostVolatileType(year:, crimetype:),\n",
        "  CrimeChangeExpanded(year:, crimetype:, changed_from:, changed_to:);\n",
        "\n",
        "MostVolatileType(year:, crimetype? ArgMax= ct -> delta) distinct :- \n",
        "  CrimeChangeExpanded(year:, crimetype:ct, changed_from:, changed_to:, delta:);\n",
        "\n",
        "CrimeChangeExpanded(year:this_year, crimetype:, changed_from:prev_count, changed_to:cur_count, delta:):-\n",
        "  cur_count == CrimeCountByYear(year:this_year, crimetype:),\n",
        "  prev_count == CrimeCountByYear(year:this_year - 1, crimetype:),\n",
        "  delta == Abs(cur_count - prev_count);\n",
        "\n",
        "@Ground(CrimeCountByYear);\n",
        "CrimeCountByYear(year:, crimetype:) += 1 :- db.crime(year:, crimetype:);"
      ],
      "metadata": {
        "id": "-_ANACli4iPd"
      },
      "execution_count": null,
      "outputs": []
    },
    {
      "cell_type": "code",
      "source": [
        "%%logica Fibonacci\n",
        "\n",
        "@Engine(\"sqlite\");\n",
        "\n",
        "#14\n",
        "Fibonacci(number_index:0, number_value:0);\n",
        "Fibonacci(number_index:1, number_value:1);\n",
        "\n",
        "Fibonacci(number_index:, number_value:prev+prev_prev) :- \n",
        "  Fibonacci(number_index:number_index-1, number_value:prev),\n",
        "  Fibonacci(number_index:number_index-2, number_value:prev_prev),\n",
        "  number_index in Range(10),\n",
        "  number_index > 1;\n"
      ],
      "metadata": {
        "id": "SK6LSHepBnu1"
      },
      "execution_count": null,
      "outputs": []
    },
    {
      "cell_type": "code",
      "source": [
        "%%logica Word, Palindrome, PalindromeDecomposition\n",
        "\n",
        "@Engine(\"sqlite\");\n",
        "Word(\"20211212\");\n",
        "Word(\"neveragain\");\n",
        "Word(\"civil\");\n",
        "Word(\"abbaforever\");\n",
        "Word(\"taxxataxxazere\");\n",
        "\n",
        "Word(\"aba\");\n",
        "Word(\"abaxxxx\");\n",
        "Word(\"abba\");\n",
        "Word(\"xxxx\");\n",
        "\n",
        "#15 TODO превратить ее в функцию от любых парметров, чтобы не было требования  Word(w)\n",
        "# PalindromeDecomposition(word:w, parts:3) :- Word(w), Palindrome(word:w);\n",
        "@Recursive(PalindromeDecomposition, 8);\n",
        "PalindromeDecomposition(word:w, parts? ArgMin= [w] -> 1) distinct :- Word(w), Palindrome(word:w);\n",
        "\n",
        "# PalindromeDecomposition(word:w, parts? ArgMin= solve -> Size(solve), solve:) distinct :- Word(w), first_part_len in Range(Length(w)), first_part_len > 0,\n",
        "#   solve1==[first_part], first_part == Substr(w, 1, first_part_len),\n",
        "#   solve2==[second_part], second_part == Substr(w, first_part_len+1, Length(w)-first_part_len),\n",
        "#   solve == ArrayConcat(solve1, solve2);\n",
        "\n",
        "\n",
        "PalindromeDecomposition(word:w, parts? ArgMin= solve -> Size(solve)) distinct :- Word(w), first_part_len in Range(Length(w)), first_part_len > 0,\n",
        "  PalindromeDecomposition(word:first_part, parts:solve1), first_part == Substr(w, 1, first_part_len),\n",
        "  PalindromeDecomposition(word:second_part, parts:solve2), second_part == Substr(w, first_part_len+1, Length(w)-first_part_len),\n",
        "  solve == ArrayConcat(solve1, solve2);\n",
        "\n",
        "Palindrome(word:) :- Word(word), EqualLettersInWord(word:, fs:), Size(fs)==Length(word)/2;\n",
        "EqualLettersInWord(word:, fs? List= f) distinct :- i in Range(Length(word)/2),# fs - список символов из левой половины слова, которая имеют такие же символы в правой половине.\n",
        "  f==Substr(word, i+1, 1), l == Substr(word, Length(word)-i, 1),f==l, Word(word);\n",
        "\n"
      ],
      "metadata": {
        "id": "81J0Z1Yq4lj7",
        "colab": {
          "resources": {
            "http://localhost:8080/nbextensions/google.colab/tabbar.css": {
              "data": "Lmdvb2ctdGFie3Bvc2l0aW9uOnJlbGF0aXZlO3BhZGRpbmc6NHB4IDhweDtjb2xvcjojMDBjO3RleHQtZGVjb3JhdGlvbjp1bmRlcmxpbmU7Y3Vyc29yOmRlZmF1bHR9Lmdvb2ctdGFiLWJhci10b3AgLmdvb2ctdGFie21hcmdpbjoxcHggNHB4IDAgMDtib3JkZXItYm90dG9tOjA7ZmxvYXQ6bGVmdH0uZ29vZy10YWItYmFyLXRvcDphZnRlciwuZ29vZy10YWItYmFyLWJvdHRvbTphZnRlcntjb250ZW50OiIgIjtkaXNwbGF5OmJsb2NrO2hlaWdodDowO2NsZWFyOmJvdGg7dmlzaWJpbGl0eTpoaWRkZW59Lmdvb2ctdGFiLWJhci1ib3R0b20gLmdvb2ctdGFie21hcmdpbjowIDRweCAxcHggMDtib3JkZXItdG9wOjA7ZmxvYXQ6bGVmdH0uZ29vZy10YWItYmFyLXN0YXJ0IC5nb29nLXRhYnttYXJnaW46MCAwIDRweCAxcHg7Ym9yZGVyLXJpZ2h0OjB9Lmdvb2ctdGFiLWJhci1lbmQgLmdvb2ctdGFie21hcmdpbjowIDFweCA0cHggMDtib3JkZXItbGVmdDowfS5nb29nLXRhYi1ob3ZlcntiYWNrZ3JvdW5kOiNlZWV9Lmdvb2ctdGFiLWRpc2FibGVke2NvbG9yOiM2NjZ9Lmdvb2ctdGFiLXNlbGVjdGVke2NvbG9yOiMwMDA7YmFja2dyb3VuZDojZmZmO3RleHQtZGVjb3JhdGlvbjpub25lO2ZvbnQtd2VpZ2h0OmJvbGQ7Ym9yZGVyOjFweCBzb2xpZCAjNmI5MGRhfS5nb29nLXRhYi1iYXItdG9we3BhZGRpbmctdG9wOjVweCFpbXBvcnRhbnQ7cGFkZGluZy1sZWZ0OjVweCFpbXBvcnRhbnQ7Ym9yZGVyLWJvdHRvbToxcHggc29saWQgIzZiOTBkYSFpbXBvcnRhbnR9Lmdvb2ctdGFiLWJhci10b3AgLmdvb2ctdGFiLXNlbGVjdGVke3RvcDoxcHg7bWFyZ2luLXRvcDowO3BhZGRpbmctYm90dG9tOjVweH0uZ29vZy10YWItYmFyLWJvdHRvbSAuZ29vZy10YWItc2VsZWN0ZWR7dG9wOi0xcHg7bWFyZ2luLWJvdHRvbTowO3BhZGRpbmctdG9wOjVweH0uZ29vZy10YWItYmFyLXN0YXJ0IC5nb29nLXRhYi1zZWxlY3RlZHtsZWZ0OjFweDttYXJnaW4tbGVmdDowO3BhZGRpbmctcmlnaHQ6OXB4fS5nb29nLXRhYi1iYXItZW5kIC5nb29nLXRhYi1zZWxlY3RlZHtsZWZ0Oi0xcHg7bWFyZ2luLXJpZ2h0OjA7cGFkZGluZy1sZWZ0OjlweH0uZ29vZy10YWItYmFye21hcmdpbjowO2JvcmRlcjowO3BhZGRpbmc6MDtsaXN0LXN0eWxlOm5vbmU7Y3Vyc29yOmRlZmF1bHQ7b3V0bGluZTpub25lO2JhY2tncm91bmQ6I2ViZWZmOX0uZ29vZy10YWItYmFyLWNsZWFye2NsZWFyOmJvdGg7aGVpZ2h0OjA7b3ZlcmZsb3c6aGlkZGVufS5nb29nLXRhYi1iYXItc3RhcnR7ZmxvYXQ6bGVmdH0uZ29vZy10YWItYmFyLWVuZHtmbG9hdDpyaWdodH0qIGh0bWwgLmdvb2ctdGFiLWJhci1zdGFydHttYXJnaW4tcmlnaHQ6LTNweH0qIGh0bWwgLmdvb2ctdGFiLWJhci1lbmR7bWFyZ2luLWxlZnQ6LTNweH0=",
              "ok": true,
              "headers": [
                [
                  "content-type",
                  "text/css"
                ]
              ],
              "status": 200,
              "status_text": ""
            },
            "http://localhost:8080/nbextensions/google.colab/tabbar_main.min.js": {
              "data": "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",
              "ok": true,
              "headers": [
                [
                  "content-type",
                  "application/javascript"
                ]
              ],
              "status": 200,
              "status_text": ""
            }
          },
          "base_uri": "https://localhost:8080/",
          "height": 287
        },
        "outputId": "3b5ae616-eb1c-43c8-d533-90daa4c65d4e"
      },
      "execution_count": 50,
      "outputs": [
        {
          "output_type": "display_data",
          "data": {
            "text/html": [
              "<link rel=stylesheet type=text/css href='/nbextensions/google.colab/tabbar.css'></link>"
            ],
            "text/plain": [
              "<IPython.core.display.HTML object>"
            ]
          },
          "metadata": {}
        },
        {
          "output_type": "display_data",
          "data": {
            "text/html": [
              "<script src='/nbextensions/google.colab/tabbar_main.min.js'></script>"
            ],
            "text/plain": [
              "<IPython.core.display.HTML object>"
            ]
          },
          "metadata": {}
        },
        {
          "output_type": "display_data",
          "data": {
            "text/html": [
              "<div id=\"id142\"></div>"
            ],
            "text/plain": [
              "<IPython.core.display.HTML object>"
            ]
          },
          "metadata": {}
        },
        {
          "output_type": "display_data",
          "data": {
            "application/javascript": [
              "window[\"840d921e-682b-11ec-8f75-0242ac1c0002\"] = colab_lib.createTabBar({\"location\": \"top\", \"elementId\": \"id142\", \"tabNames\": [\"Word\", \"Palindrome\", \"PalindromeDecomposition\", \"(Log)\"], \"initialSelection\": 0, \"contentBorder\": [\"0px\"], \"contentHeight\": [\"initial\"], \"borderColor\": [\"#a7a7a7\"]});\n",
              "//# sourceURL=js_4aefe73c46"
            ],
            "text/plain": [
              "<IPython.core.display.Javascript object>"
            ]
          },
          "metadata": {}
        },
        {
          "output_type": "display_data",
          "data": {
            "application/javascript": [
              "window[\"840dfd6c-682b-11ec-8f75-0242ac1c0002\"] = window[\"id142\"].setSelectedTabIndex(0);\n",
              "//# sourceURL=js_1b6b7a9ce7"
            ],
            "text/plain": [
              "<IPython.core.display.Javascript object>"
            ]
          },
          "metadata": {}
        },
        {
          "output_type": "display_data",
          "data": {
            "application/javascript": [
              "window[\"841012e6-682b-11ec-8f75-0242ac1c0002\"] = google.colab.output.getActiveOutputArea();\n",
              "//# sourceURL=js_47886d694a"
            ],
            "text/plain": [
              "<IPython.core.display.Javascript object>"
            ]
          },
          "metadata": {}
        },
        {
          "output_type": "display_data",
          "data": {
            "application/javascript": [
              "window[\"84108ba4-682b-11ec-8f75-0242ac1c0002\"] = document.querySelector(\"#id142_content_3\");\n",
              "//# sourceURL=js_a760c5d7ee"
            ],
            "text/plain": [
              "<IPython.core.display.Javascript object>"
            ]
          },
          "metadata": {}
        },
        {
          "output_type": "display_data",
          "data": {
            "application/javascript": [
              "window[\"8411041c-682b-11ec-8f75-0242ac1c0002\"] = google.colab.output.setActiveOutputArea(window[\"84108ba4-682b-11ec-8f75-0242ac1c0002\"]);\n",
              "//# sourceURL=js_dca13cc8de"
            ],
            "text/plain": [
              "<IPython.core.display.Javascript object>"
            ]
          },
          "metadata": {}
        },
        {
          "output_type": "display_data",
          "data": {
            "application/javascript": [
              "window[\"84117550-682b-11ec-8f75-0242ac1c0002\"] = window[\"id142\"].setSelectedTabIndex(3);\n",
              "//# sourceURL=js_000f2b0c76"
            ],
            "text/plain": [
              "<IPython.core.display.Javascript object>"
            ]
          },
          "metadata": {}
        },
        {
          "output_type": "display_data",
          "data": {
            "application/javascript": [
              "window[\"8414b788-682b-11ec-8f75-0242ac1c0002\"] = google.colab.output.setActiveOutputArea(window[\"841012e6-682b-11ec-8f75-0242ac1c0002\"]);\n",
              "//# sourceURL=js_ef21bea294"
            ],
            "text/plain": [
              "<IPython.core.display.Javascript object>"
            ]
          },
          "metadata": {}
        },
        {
          "output_type": "display_data",
          "data": {
            "application/javascript": [
              "window[\"84176898-682b-11ec-8f75-0242ac1c0002\"] = google.colab.output.getActiveOutputArea();\n",
              "//# sourceURL=js_7031727ae4"
            ],
            "text/plain": [
              "<IPython.core.display.Javascript object>"
            ]
          },
          "metadata": {}
        },
        {
          "output_type": "display_data",
          "data": {
            "application/javascript": [
              "window[\"8417f222-682b-11ec-8f75-0242ac1c0002\"] = document.querySelector(\"#id142_content_0\");\n",
              "//# sourceURL=js_e0d6e9d15a"
            ],
            "text/plain": [
              "<IPython.core.display.Javascript object>"
            ]
          },
          "metadata": {}
        },
        {
          "output_type": "display_data",
          "data": {
            "application/javascript": [
              "window[\"84186a86-682b-11ec-8f75-0242ac1c0002\"] = google.colab.output.setActiveOutputArea(window[\"8417f222-682b-11ec-8f75-0242ac1c0002\"]);\n",
              "//# sourceURL=js_cc232aad2d"
            ],
            "text/plain": [
              "<IPython.core.display.Javascript object>"
            ]
          },
          "metadata": {}
        },
        {
          "output_type": "display_data",
          "data": {
            "application/javascript": [
              "window[\"8418e542-682b-11ec-8f75-0242ac1c0002\"] = window[\"id142\"].setSelectedTabIndex(0);\n",
              "//# sourceURL=js_c8ae377f14"
            ],
            "text/plain": [
              "<IPython.core.display.Javascript object>"
            ]
          },
          "metadata": {}
        },
        {
          "output_type": "display_data",
          "data": {
            "text/html": [
              "<link rel=stylesheet type=text/css href='/nbextensions/google.colab/tabbar.css'></link>"
            ],
            "text/plain": [
              "<IPython.core.display.HTML object>"
            ]
          },
          "metadata": {}
        },
        {
          "output_type": "display_data",
          "data": {
            "text/html": [
              "<script src='/nbextensions/google.colab/tabbar_main.min.js'></script>"
            ],
            "text/plain": [
              "<IPython.core.display.HTML object>"
            ]
          },
          "metadata": {}
        },
        {
          "output_type": "display_data",
          "data": {
            "text/html": [
              "<div id=\"id143\"></div>"
            ],
            "text/plain": [
              "<IPython.core.display.HTML object>"
            ]
          },
          "metadata": {}
        },
        {
          "output_type": "display_data",
          "data": {
            "application/javascript": [
              "window[\"841b6efc-682b-11ec-8f75-0242ac1c0002\"] = colab_lib.createTabBar({\"location\": \"top\", \"elementId\": \"id143\", \"tabNames\": [\"SQL\", \"Result\"], \"initialSelection\": 0, \"contentBorder\": [\"0px\"], \"contentHeight\": [\"initial\"], \"borderColor\": [\"#a7a7a7\"]});\n",
              "//# sourceURL=js_9e9c062bd7"
            ],
            "text/plain": [
              "<IPython.core.display.Javascript object>"
            ]
          },
          "metadata": {}
        },
        {
          "output_type": "display_data",
          "data": {
            "application/javascript": [
              "window[\"841beaa8-682b-11ec-8f75-0242ac1c0002\"] = window[\"id143\"].setSelectedTabIndex(0);\n",
              "//# sourceURL=js_a99a9e2f50"
            ],
            "text/plain": [
              "<IPython.core.display.Javascript object>"
            ]
          },
          "metadata": {}
        },
        {
          "output_type": "display_data",
          "data": {
            "application/javascript": [
              "window[\"841dfba4-682b-11ec-8f75-0242ac1c0002\"] = google.colab.output.getActiveOutputArea();\n",
              "//# sourceURL=js_151ae8357e"
            ],
            "text/plain": [
              "<IPython.core.display.Javascript object>"
            ]
          },
          "metadata": {}
        },
        {
          "output_type": "display_data",
          "data": {
            "application/javascript": [
              "window[\"841e5a36-682b-11ec-8f75-0242ac1c0002\"] = document.querySelector(\"#id143_content_0\");\n",
              "//# sourceURL=js_789c800481"
            ],
            "text/plain": [
              "<IPython.core.display.Javascript object>"
            ]
          },
          "metadata": {}
        },
        {
          "output_type": "display_data",
          "data": {
            "application/javascript": [
              "window[\"841eb508-682b-11ec-8f75-0242ac1c0002\"] = google.colab.output.setActiveOutputArea(window[\"841e5a36-682b-11ec-8f75-0242ac1c0002\"]);\n",
              "//# sourceURL=js_fde703de76"
            ],
            "text/plain": [
              "<IPython.core.display.Javascript object>"
            ]
          },
          "metadata": {}
        },
        {
          "output_type": "display_data",
          "data": {
            "application/javascript": [
              "window[\"841f0eea-682b-11ec-8f75-0242ac1c0002\"] = window[\"id143\"].setSelectedTabIndex(0);\n",
              "//# sourceURL=js_697e21baf9"
            ],
            "text/plain": [
              "<IPython.core.display.Javascript object>"
            ]
          },
          "metadata": {}
        },
        {
          "output_type": "stream",
          "name": "stdout",
          "text": [
            "The following query is stored at \u001b[1mWord_sql\u001b[0m variable.\n",
            "SELECT * FROM (\n",
            "  \n",
            "    SELECT\n",
            "      '20211212' AS col0\n",
            "   UNION ALL\n",
            "  \n",
            "    SELECT\n",
            "      'neveragain' AS col0\n",
            "   UNION ALL\n",
            "  \n",
            "    SELECT\n",
            "      'civil' AS col0\n",
            "   UNION ALL\n",
            "  \n",
            "    SELECT\n",
            "      'abbaforever' AS col0\n",
            "   UNION ALL\n",
            "  \n",
            "    SELECT\n",
            "      'taxxataxxazere' AS col0\n",
            "   UNION ALL\n",
            "  \n",
            "    SELECT\n",
            "      'aba' AS col0\n",
            "   UNION ALL\n",
            "  \n",
            "    SELECT\n",
            "      'abaxxxx' AS col0\n",
            "   UNION ALL\n",
            "  \n",
            "    SELECT\n",
            "      'abba' AS col0\n",
            "   UNION ALL\n",
            "  \n",
            "    SELECT\n",
            "      'xxxx' AS col0\n",
            "  \n",
            ") AS UNUSED_TABLE_NAME  ;\n"
          ]
        },
        {
          "output_type": "display_data",
          "data": {
            "application/javascript": [
              "window[\"8420ada4-682b-11ec-8f75-0242ac1c0002\"] = google.colab.output.setActiveOutputArea(window[\"841dfba4-682b-11ec-8f75-0242ac1c0002\"]);\n",
              "//# sourceURL=js_cb62173509"
            ],
            "text/plain": [
              "<IPython.core.display.Javascript object>"
            ]
          },
          "metadata": {}
        },
        {
          "output_type": "display_data",
          "data": {
            "application/javascript": [
              "window[\"84222ab2-682b-11ec-8f75-0242ac1c0002\"] = google.colab.output.setActiveOutputArea(window[\"84176898-682b-11ec-8f75-0242ac1c0002\"]);\n",
              "//# sourceURL=js_4b74fc99a0"
            ],
            "text/plain": [
              "<IPython.core.display.Javascript object>"
            ]
          },
          "metadata": {}
        },
        {
          "output_type": "display_data",
          "data": {
            "application/javascript": [
              "window[\"8423da6a-682b-11ec-8f75-0242ac1c0002\"] = google.colab.output.getActiveOutputArea();\n",
              "//# sourceURL=js_ad0878a877"
            ],
            "text/plain": [
              "<IPython.core.display.Javascript object>"
            ]
          },
          "metadata": {}
        },
        {
          "output_type": "display_data",
          "data": {
            "application/javascript": [
              "window[\"84243028-682b-11ec-8f75-0242ac1c0002\"] = document.querySelector(\"#id142_content_3\");\n",
              "//# sourceURL=js_5477193ba8"
            ],
            "text/plain": [
              "<IPython.core.display.Javascript object>"
            ]
          },
          "metadata": {}
        },
        {
          "output_type": "display_data",
          "data": {
            "application/javascript": [
              "window[\"84247ac4-682b-11ec-8f75-0242ac1c0002\"] = google.colab.output.setActiveOutputArea(window[\"84243028-682b-11ec-8f75-0242ac1c0002\"]);\n",
              "//# sourceURL=js_442e0ad20f"
            ],
            "text/plain": [
              "<IPython.core.display.Javascript object>"
            ]
          },
          "metadata": {}
        },
        {
          "output_type": "display_data",
          "data": {
            "application/javascript": [
              "window[\"8424c7a4-682b-11ec-8f75-0242ac1c0002\"] = window[\"id142\"].setSelectedTabIndex(3);\n",
              "//# sourceURL=js_28b1971c2a"
            ],
            "text/plain": [
              "<IPython.core.display.Javascript object>"
            ]
          },
          "metadata": {}
        },
        {
          "output_type": "display_data",
          "data": {
            "application/javascript": [
              "window[\"842f32f2-682b-11ec-8f75-0242ac1c0002\"] = google.colab.output.setActiveOutputArea(window[\"8423da6a-682b-11ec-8f75-0242ac1c0002\"]);\n",
              "//# sourceURL=js_11f2fb54d2"
            ],
            "text/plain": [
              "<IPython.core.display.Javascript object>"
            ]
          },
          "metadata": {}
        },
        {
          "output_type": "display_data",
          "data": {
            "application/javascript": [
              "window[\"84318d54-682b-11ec-8f75-0242ac1c0002\"] = google.colab.output.getActiveOutputArea();\n",
              "//# sourceURL=js_07d3726c3d"
            ],
            "text/plain": [
              "<IPython.core.display.Javascript object>"
            ]
          },
          "metadata": {}
        },
        {
          "output_type": "display_data",
          "data": {
            "application/javascript": [
              "window[\"84320478-682b-11ec-8f75-0242ac1c0002\"] = document.querySelector(\"#id142_content_1\");\n",
              "//# sourceURL=js_e09ed661b7"
            ],
            "text/plain": [
              "<IPython.core.display.Javascript object>"
            ]
          },
          "metadata": {}
        },
        {
          "output_type": "display_data",
          "data": {
            "application/javascript": [
              "window[\"84327016-682b-11ec-8f75-0242ac1c0002\"] = google.colab.output.setActiveOutputArea(window[\"84320478-682b-11ec-8f75-0242ac1c0002\"]);\n",
              "//# sourceURL=js_aec71a8594"
            ],
            "text/plain": [
              "<IPython.core.display.Javascript object>"
            ]
          },
          "metadata": {}
        },
        {
          "output_type": "display_data",
          "data": {
            "application/javascript": [
              "window[\"8432e06e-682b-11ec-8f75-0242ac1c0002\"] = window[\"id142\"].setSelectedTabIndex(1);\n",
              "//# sourceURL=js_203ce51f68"
            ],
            "text/plain": [
              "<IPython.core.display.Javascript object>"
            ]
          },
          "metadata": {}
        },
        {
          "output_type": "display_data",
          "data": {
            "text/html": [
              "<link rel=stylesheet type=text/css href='/nbextensions/google.colab/tabbar.css'></link>"
            ],
            "text/plain": [
              "<IPython.core.display.HTML object>"
            ]
          },
          "metadata": {}
        },
        {
          "output_type": "display_data",
          "data": {
            "text/html": [
              "<script src='/nbextensions/google.colab/tabbar_main.min.js'></script>"
            ],
            "text/plain": [
              "<IPython.core.display.HTML object>"
            ]
          },
          "metadata": {}
        },
        {
          "output_type": "display_data",
          "data": {
            "text/html": [
              "<div id=\"id144\"></div>"
            ],
            "text/plain": [
              "<IPython.core.display.HTML object>"
            ]
          },
          "metadata": {}
        },
        {
          "output_type": "display_data",
          "data": {
            "application/javascript": [
              "window[\"8435434a-682b-11ec-8f75-0242ac1c0002\"] = colab_lib.createTabBar({\"location\": \"top\", \"elementId\": \"id144\", \"tabNames\": [\"SQL\", \"Result\"], \"initialSelection\": 0, \"contentBorder\": [\"0px\"], \"contentHeight\": [\"initial\"], \"borderColor\": [\"#a7a7a7\"]});\n",
              "//# sourceURL=js_f1687df1d7"
            ],
            "text/plain": [
              "<IPython.core.display.Javascript object>"
            ]
          },
          "metadata": {}
        },
        {
          "output_type": "display_data",
          "data": {
            "application/javascript": [
              "window[\"8435e2b4-682b-11ec-8f75-0242ac1c0002\"] = window[\"id144\"].setSelectedTabIndex(0);\n",
              "//# sourceURL=js_da2c3c5faf"
            ],
            "text/plain": [
              "<IPython.core.display.Javascript object>"
            ]
          },
          "metadata": {}
        },
        {
          "output_type": "display_data",
          "data": {
            "application/javascript": [
              "window[\"8437596e-682b-11ec-8f75-0242ac1c0002\"] = google.colab.output.getActiveOutputArea();\n",
              "//# sourceURL=js_61e523af61"
            ],
            "text/plain": [
              "<IPython.core.display.Javascript object>"
            ]
          },
          "metadata": {}
        },
        {
          "output_type": "display_data",
          "data": {
            "application/javascript": [
              "window[\"8437b152-682b-11ec-8f75-0242ac1c0002\"] = document.querySelector(\"#id144_content_0\");\n",
              "//# sourceURL=js_af7ba17a5a"
            ],
            "text/plain": [
              "<IPython.core.display.Javascript object>"
            ]
          },
          "metadata": {}
        },
        {
          "output_type": "display_data",
          "data": {
            "application/javascript": [
              "window[\"8437fcd4-682b-11ec-8f75-0242ac1c0002\"] = google.colab.output.setActiveOutputArea(window[\"8437b152-682b-11ec-8f75-0242ac1c0002\"]);\n",
              "//# sourceURL=js_0c86aae858"
            ],
            "text/plain": [
              "<IPython.core.display.Javascript object>"
            ]
          },
          "metadata": {}
        },
        {
          "output_type": "display_data",
          "data": {
            "application/javascript": [
              "window[\"843842de-682b-11ec-8f75-0242ac1c0002\"] = window[\"id144\"].setSelectedTabIndex(0);\n",
              "//# sourceURL=js_b961832961"
            ],
            "text/plain": [
              "<IPython.core.display.Javascript object>"
            ]
          },
          "metadata": {}
        },
        {
          "output_type": "stream",
          "name": "stdout",
          "text": [
            "The following query is stored at \u001b[1mPalindrome_sql\u001b[0m variable.\n",
            "WITH t_0_Word AS (SELECT * FROM (\n",
            "  \n",
            "    SELECT\n",
            "      '20211212' AS col0\n",
            "   UNION ALL\n",
            "  \n",
            "    SELECT\n",
            "      'neveragain' AS col0\n",
            "   UNION ALL\n",
            "  \n",
            "    SELECT\n",
            "      'civil' AS col0\n",
            "   UNION ALL\n",
            "  \n",
            "    SELECT\n",
            "      'abbaforever' AS col0\n",
            "   UNION ALL\n",
            "  \n",
            "    SELECT\n",
            "      'taxxataxxazere' AS col0\n",
            "   UNION ALL\n",
            "  \n",
            "    SELECT\n",
            "      'aba' AS col0\n",
            "   UNION ALL\n",
            "  \n",
            "    SELECT\n",
            "      'abaxxxx' AS col0\n",
            "   UNION ALL\n",
            "  \n",
            "    SELECT\n",
            "      'abba' AS col0\n",
            "   UNION ALL\n",
            "  \n",
            "    SELECT\n",
            "      'xxxx' AS col0\n",
            "  \n",
            ") AS UNUSED_TABLE_NAME  ),\n",
            "t_1_EqualLettersInWord AS (SELECT\n",
            "  t_2_Word.col0 AS word,\n",
            "  JSON_GROUP_ARRAY(SUBSTR(t_2_Word.col0, ((x_5.value) + (1)), 1)) AS fs\n",
            "FROM\n",
            "  t_0_Word AS t_2_Word, JSON_EACH((select json_group_array(n) from (with recursive t as(select 0 as n union all select n + 1 as n from t where n + 1 < ((LENGTH(t_2_Word.col0)) / (2))) select n from t) where n < ((LENGTH(t_2_Word.col0)) / (2)))) as x_5\n",
            "WHERE\n",
            "  (SUBSTR(t_2_Word.col0, ((x_5.value) + (1)), 1) = SUBSTR(t_2_Word.col0, ((LENGTH(t_2_Word.col0)) - (x_5.value)), 1))\n",
            "GROUP BY t_2_Word.col0)\n",
            "SELECT\n",
            "  Word.col0 AS word\n",
            "FROM\n",
            "  t_0_Word AS Word, t_1_EqualLettersInWord AS EqualLettersInWord\n",
            "WHERE\n",
            "  (JSON_ARRAY_LENGTH(EqualLettersInWord.fs) = ((LENGTH(Word.col0)) / (2))) AND\n",
            "  (EqualLettersInWord.word = Word.col0);\n"
          ]
        },
        {
          "output_type": "display_data",
          "data": {
            "application/javascript": [
              "window[\"843ab4e2-682b-11ec-8f75-0242ac1c0002\"] = google.colab.output.setActiveOutputArea(window[\"8437596e-682b-11ec-8f75-0242ac1c0002\"]);\n",
              "//# sourceURL=js_bc7405deb5"
            ],
            "text/plain": [
              "<IPython.core.display.Javascript object>"
            ]
          },
          "metadata": {}
        },
        {
          "output_type": "display_data",
          "data": {
            "application/javascript": [
              "window[\"843d978e-682b-11ec-8f75-0242ac1c0002\"] = google.colab.output.setActiveOutputArea(window[\"84318d54-682b-11ec-8f75-0242ac1c0002\"]);\n",
              "//# sourceURL=js_c90b858d0a"
            ],
            "text/plain": [
              "<IPython.core.display.Javascript object>"
            ]
          },
          "metadata": {}
        },
        {
          "output_type": "display_data",
          "data": {
            "application/javascript": [
              "window[\"844002c6-682b-11ec-8f75-0242ac1c0002\"] = google.colab.output.getActiveOutputArea();\n",
              "//# sourceURL=js_023383c3e1"
            ],
            "text/plain": [
              "<IPython.core.display.Javascript object>"
            ]
          },
          "metadata": {}
        },
        {
          "output_type": "display_data",
          "data": {
            "application/javascript": [
              "window[\"844064e6-682b-11ec-8f75-0242ac1c0002\"] = document.querySelector(\"#id142_content_3\");\n",
              "//# sourceURL=js_b68284cd3a"
            ],
            "text/plain": [
              "<IPython.core.display.Javascript object>"
            ]
          },
          "metadata": {}
        },
        {
          "output_type": "display_data",
          "data": {
            "application/javascript": [
              "window[\"8440c53a-682b-11ec-8f75-0242ac1c0002\"] = google.colab.output.setActiveOutputArea(window[\"844064e6-682b-11ec-8f75-0242ac1c0002\"]);\n",
              "//# sourceURL=js_b4f3a76aa2"
            ],
            "text/plain": [
              "<IPython.core.display.Javascript object>"
            ]
          },
          "metadata": {}
        },
        {
          "output_type": "display_data",
          "data": {
            "application/javascript": [
              "window[\"844123fe-682b-11ec-8f75-0242ac1c0002\"] = window[\"id142\"].setSelectedTabIndex(3);\n",
              "//# sourceURL=js_b5cc63ddd9"
            ],
            "text/plain": [
              "<IPython.core.display.Javascript object>"
            ]
          },
          "metadata": {}
        },
        {
          "output_type": "display_data",
          "data": {
            "application/javascript": [
              "window[\"84a5d650-682b-11ec-8f75-0242ac1c0002\"] = google.colab.output.setActiveOutputArea(window[\"844002c6-682b-11ec-8f75-0242ac1c0002\"]);\n",
              "//# sourceURL=js_53f7538b64"
            ],
            "text/plain": [
              "<IPython.core.display.Javascript object>"
            ]
          },
          "metadata": {}
        },
        {
          "output_type": "display_data",
          "data": {
            "application/javascript": [
              "window[\"84a854b6-682b-11ec-8f75-0242ac1c0002\"] = google.colab.output.getActiveOutputArea();\n",
              "//# sourceURL=js_3a10eaa465"
            ],
            "text/plain": [
              "<IPython.core.display.Javascript object>"
            ]
          },
          "metadata": {}
        },
        {
          "output_type": "display_data",
          "data": {
            "application/javascript": [
              "window[\"84a8e278-682b-11ec-8f75-0242ac1c0002\"] = document.querySelector(\"#id142_content_2\");\n",
              "//# sourceURL=js_7883dc934d"
            ],
            "text/plain": [
              "<IPython.core.display.Javascript object>"
            ]
          },
          "metadata": {}
        },
        {
          "output_type": "display_data",
          "data": {
            "application/javascript": [
              "window[\"84a95276-682b-11ec-8f75-0242ac1c0002\"] = google.colab.output.setActiveOutputArea(window[\"84a8e278-682b-11ec-8f75-0242ac1c0002\"]);\n",
              "//# sourceURL=js_a8ab1b8296"
            ],
            "text/plain": [
              "<IPython.core.display.Javascript object>"
            ]
          },
          "metadata": {}
        },
        {
          "output_type": "display_data",
          "data": {
            "application/javascript": [
              "window[\"84a9d3fe-682b-11ec-8f75-0242ac1c0002\"] = window[\"id142\"].setSelectedTabIndex(2);\n",
              "//# sourceURL=js_2d4f0b40a0"
            ],
            "text/plain": [
              "<IPython.core.display.Javascript object>"
            ]
          },
          "metadata": {}
        },
        {
          "output_type": "display_data",
          "data": {
            "text/html": [
              "<link rel=stylesheet type=text/css href='/nbextensions/google.colab/tabbar.css'></link>"
            ],
            "text/plain": [
              "<IPython.core.display.HTML object>"
            ]
          },
          "metadata": {}
        },
        {
          "output_type": "display_data",
          "data": {
            "text/html": [
              "<script src='/nbextensions/google.colab/tabbar_main.min.js'></script>"
            ],
            "text/plain": [
              "<IPython.core.display.HTML object>"
            ]
          },
          "metadata": {}
        },
        {
          "output_type": "display_data",
          "data": {
            "text/html": [
              "<div id=\"id145\"></div>"
            ],
            "text/plain": [
              "<IPython.core.display.HTML object>"
            ]
          },
          "metadata": {}
        },
        {
          "output_type": "display_data",
          "data": {
            "application/javascript": [
              "window[\"84acfe26-682b-11ec-8f75-0242ac1c0002\"] = colab_lib.createTabBar({\"location\": \"top\", \"elementId\": \"id145\", \"tabNames\": [\"SQL\", \"Result\"], \"initialSelection\": 0, \"contentBorder\": [\"0px\"], \"contentHeight\": [\"initial\"], \"borderColor\": [\"#a7a7a7\"]});\n",
              "//# sourceURL=js_47fea62d14"
            ],
            "text/plain": [
              "<IPython.core.display.Javascript object>"
            ]
          },
          "metadata": {}
        },
        {
          "output_type": "display_data",
          "data": {
            "application/javascript": [
              "window[\"84adab96-682b-11ec-8f75-0242ac1c0002\"] = window[\"id145\"].setSelectedTabIndex(0);\n",
              "//# sourceURL=js_fb15729da8"
            ],
            "text/plain": [
              "<IPython.core.display.Javascript object>"
            ]
          },
          "metadata": {}
        },
        {
          "output_type": "display_data",
          "data": {
            "application/javascript": [
              "window[\"84afb71a-682b-11ec-8f75-0242ac1c0002\"] = google.colab.output.getActiveOutputArea();\n",
              "//# sourceURL=js_4ff4de8982"
            ],
            "text/plain": [
              "<IPython.core.display.Javascript object>"
            ]
          },
          "metadata": {}
        },
        {
          "output_type": "display_data",
          "data": {
            "application/javascript": [
              "window[\"84b008aa-682b-11ec-8f75-0242ac1c0002\"] = document.querySelector(\"#id145_content_0\");\n",
              "//# sourceURL=js_3833d36c48"
            ],
            "text/plain": [
              "<IPython.core.display.Javascript object>"
            ]
          },
          "metadata": {}
        },
        {
          "output_type": "display_data",
          "data": {
            "application/javascript": [
              "window[\"84b055c6-682b-11ec-8f75-0242ac1c0002\"] = google.colab.output.setActiveOutputArea(window[\"84b008aa-682b-11ec-8f75-0242ac1c0002\"]);\n",
              "//# sourceURL=js_e9bdcf5d3b"
            ],
            "text/plain": [
              "<IPython.core.display.Javascript object>"
            ]
          },
          "metadata": {}
        },
        {
          "output_type": "display_data",
          "data": {
            "application/javascript": [
              "window[\"84b11a60-682b-11ec-8f75-0242ac1c0002\"] = window[\"id145\"].setSelectedTabIndex(0);\n",
              "//# sourceURL=js_ed1439ed26"
            ],
            "text/plain": [
              "<IPython.core.display.Javascript object>"
            ]
          },
          "metadata": {}
        },
        {
          "output_type": "stream",
          "name": "stdout",
          "text": [
            "The following query is stored at \u001b[1mPalindromeDecomposition_sql\u001b[0m variable.\n",
            "WITH t_3_Word AS (SELECT * FROM (\n",
            "  \n",
            "    SELECT\n",
            "      '20211212' AS col0\n",
            "   UNION ALL\n",
            "  \n",
            "    SELECT\n",
            "      'neveragain' AS col0\n",
            "   UNION ALL\n",
            "  \n",
            "    SELECT\n",
            "      'civil' AS col0\n",
            "   UNION ALL\n",
            "  \n",
            "    SELECT\n",
            "      'abbaforever' AS col0\n",
            "   UNION ALL\n",
            "  \n",
            "    SELECT\n",
            "      'taxxataxxazere' AS col0\n",
            "   UNION ALL\n",
            "  \n",
            "    SELECT\n",
            "      'aba' AS col0\n",
            "   UNION ALL\n",
            "  \n",
            "    SELECT\n",
            "      'abaxxxx' AS col0\n",
            "   UNION ALL\n",
            "  \n",
            "    SELECT\n",
            "      'abba' AS col0\n",
            "   UNION ALL\n",
            "  \n",
            "    SELECT\n",
            "      'xxxx' AS col0\n",
            "  \n",
            ") AS UNUSED_TABLE_NAME  ),\n",
            "t_4_EqualLettersInWord AS (SELECT\n",
            "  t_5_Word.col0 AS word,\n",
            "  JSON_GROUP_ARRAY(SUBSTR(t_5_Word.col0, ((x_30.value) + (1)), 1)) AS fs\n",
            "FROM\n",
            "  t_3_Word AS t_5_Word, JSON_EACH((select json_group_array(n) from (with recursive t as(select 0 as n union all select n + 1 as n from t where n + 1 < ((LENGTH(t_5_Word.col0)) / (2))) select n from t) where n < ((LENGTH(t_5_Word.col0)) / (2)))) as x_30\n",
            "WHERE\n",
            "  (SUBSTR(t_5_Word.col0, ((x_30.value) + (1)), 1) = SUBSTR(t_5_Word.col0, ((LENGTH(t_5_Word.col0)) - (x_30.value)), 1))\n",
            "GROUP BY t_5_Word.col0),\n",
            "t_97_PalindromeDecomposition_MultBodyAggAux_recursive_head_f1 AS (SELECT * FROM (\n",
            "  \n",
            "    SELECT\n",
            "      t_98_Word.col0 AS word,\n",
            "      JSON_OBJECT('arg', JSON_ARRAY(t_98_Word.col0), 'value', 1) AS parts\n",
            "    FROM\n",
            "      t_3_Word AS t_98_Word, t_3_Word AS t_101_Word, t_4_EqualLettersInWord AS t_102_EqualLettersInWord\n",
            "    WHERE\n",
            "      (JSON_ARRAY_LENGTH(t_102_EqualLettersInWord.fs) = ((LENGTH(t_101_Word.col0)) / (2))) AND\n",
            "      (t_102_EqualLettersInWord.word = t_101_Word.col0) AND\n",
            "      (t_98_Word.col0 = t_101_Word.col0)\n",
            "  \n",
            ") AS UNUSED_TABLE_NAME  ),\n",
            "t_94_PalindromeDecomposition_r0 AS (SELECT\n",
            "  PalindromeDecomposition_MultBodyAggAux_recursive_head_f1.word AS word,\n",
            "  JSON_EXTRACT(ArgMin(JSON_EXTRACT(PalindromeDecomposition_MultBodyAggAux_recursive_head_f1.parts, \"$.arg\"), JSON_EXTRACT(PalindromeDecomposition_MultBodyAggAux_recursive_head_f1.parts, \"$.value\"), 1), '$[' || 0 || ']') AS parts\n",
            "FROM\n",
            "  t_97_PalindromeDecomposition_MultBodyAggAux_recursive_head_f1 AS PalindromeDecomposition_MultBodyAggAux_recursive_head_f1\n",
            "GROUP BY PalindromeDecomposition_MultBodyAggAux_recursive_head_f1.word),\n",
            "t_85_PalindromeDecomposition_MultBodyAggAux_recursive_head_f2 AS (SELECT * FROM (\n",
            "  \n",
            "    SELECT\n",
            "      t_86_Word.col0 AS word,\n",
            "      JSON_OBJECT('arg', JSON_ARRAY(t_86_Word.col0), 'value', 1) AS parts\n",
            "    FROM\n",
            "      t_3_Word AS t_86_Word, t_3_Word AS t_89_Word, t_4_EqualLettersInWord AS t_90_EqualLettersInWord\n",
            "    WHERE\n",
            "      (JSON_ARRAY_LENGTH(t_90_EqualLettersInWord.fs) = ((LENGTH(t_89_Word.col0)) / (2))) AND\n",
            "      (t_90_EqualLettersInWord.word = t_89_Word.col0) AND\n",
            "      (t_86_Word.col0 = t_89_Word.col0)\n",
            "   UNION ALL\n",
            "  \n",
            "    SELECT\n",
            "      t_91_Word.col0 AS word,\n",
            "      JSON_OBJECT('arg', ARRAY_CONCAT(PalindromeDecomposition_r0.parts, t_92_PalindromeDecomposition_r0.parts), 'value', JSON_ARRAY_LENGTH(ARRAY_CONCAT(PalindromeDecomposition_r0.parts, t_92_PalindromeDecomposition_r0.parts))) AS parts\n",
            "    FROM\n",
            "      t_3_Word AS t_91_Word, t_94_PalindromeDecomposition_r0 AS PalindromeDecomposition_r0, t_94_PalindromeDecomposition_r0 AS t_92_PalindromeDecomposition_r0, JSON_EACH((select json_group_array(n) from (with recursive t as(select 0 as n union all select n + 1 as n from t where n + 1 < LENGTH(t_91_Word.col0)) select n from t) where n < LENGTH(t_91_Word.col0))) as x_340\n",
            "    WHERE\n",
            "      (x_340.value > 0) AND\n",
            "      (PalindromeDecomposition_r0.word = SUBSTR(t_91_Word.col0, 1, x_340.value)) AND\n",
            "      (t_92_PalindromeDecomposition_r0.word = SUBSTR(t_91_Word.col0, ((x_340.value) + (1)), ((LENGTH(t_91_Word.col0)) - (x_340.value))))\n",
            "  \n",
            ") AS UNUSED_TABLE_NAME  ),\n",
            "t_82_PalindromeDecomposition_r1 AS (SELECT\n",
            "  PalindromeDecomposition_MultBodyAggAux_recursive_head_f2.word AS word,\n",
            "  JSON_EXTRACT(ArgMin(JSON_EXTRACT(PalindromeDecomposition_MultBodyAggAux_recursive_head_f2.parts, \"$.arg\"), JSON_EXTRACT(PalindromeDecomposition_MultBodyAggAux_recursive_head_f2.parts, \"$.value\"), 1), '$[' || 0 || ']') AS parts\n",
            "FROM\n",
            "  t_85_PalindromeDecomposition_MultBodyAggAux_recursive_head_f2 AS PalindromeDecomposition_MultBodyAggAux_recursive_head_f2\n",
            "GROUP BY PalindromeDecomposition_MultBodyAggAux_recursive_head_f2.word),\n",
            "t_73_PalindromeDecomposition_MultBodyAggAux_recursive_head_f3 AS (SELECT * FROM (\n",
            "  \n",
            "    SELECT\n",
            "      t_74_Word.col0 AS word,\n",
            "      JSON_OBJECT('arg', JSON_ARRAY(t_74_Word.col0), 'value', 1) AS parts\n",
            "    FROM\n",
            "      t_3_Word AS t_74_Word, t_3_Word AS t_77_Word, t_4_EqualLettersInWord AS t_78_EqualLettersInWord\n",
            "    WHERE\n",
            "      (JSON_ARRAY_LENGTH(t_78_EqualLettersInWord.fs) = ((LENGTH(t_77_Word.col0)) / (2))) AND\n",
            "      (t_78_EqualLettersInWord.word = t_77_Word.col0) AND\n",
            "      (t_74_Word.col0 = t_77_Word.col0)\n",
            "   UNION ALL\n",
            "  \n",
            "    SELECT\n",
            "      t_79_Word.col0 AS word,\n",
            "      JSON_OBJECT('arg', ARRAY_CONCAT(PalindromeDecomposition_r1.parts, t_80_PalindromeDecomposition_r1.parts), 'value', JSON_ARRAY_LENGTH(ARRAY_CONCAT(PalindromeDecomposition_r1.parts, t_80_PalindromeDecomposition_r1.parts))) AS parts\n",
            "    FROM\n",
            "      t_3_Word AS t_79_Word, t_82_PalindromeDecomposition_r1 AS PalindromeDecomposition_r1, t_82_PalindromeDecomposition_r1 AS t_80_PalindromeDecomposition_r1, JSON_EACH((select json_group_array(n) from (with recursive t as(select 0 as n union all select n + 1 as n from t where n + 1 < LENGTH(t_79_Word.col0)) select n from t) where n < LENGTH(t_79_Word.col0))) as x_297\n",
            "    WHERE\n",
            "      (x_297.value > 0) AND\n",
            "      (PalindromeDecomposition_r1.word = SUBSTR(t_79_Word.col0, 1, x_297.value)) AND\n",
            "      (t_80_PalindromeDecomposition_r1.word = SUBSTR(t_79_Word.col0, ((x_297.value) + (1)), ((LENGTH(t_79_Word.col0)) - (x_297.value))))\n",
            "  \n",
            ") AS UNUSED_TABLE_NAME  ),\n",
            "t_70_PalindromeDecomposition_r2 AS (SELECT\n",
            "  PalindromeDecomposition_MultBodyAggAux_recursive_head_f3.word AS word,\n",
            "  JSON_EXTRACT(ArgMin(JSON_EXTRACT(PalindromeDecomposition_MultBodyAggAux_recursive_head_f3.parts, \"$.arg\"), JSON_EXTRACT(PalindromeDecomposition_MultBodyAggAux_recursive_head_f3.parts, \"$.value\"), 1), '$[' || 0 || ']') AS parts\n",
            "FROM\n",
            "  t_73_PalindromeDecomposition_MultBodyAggAux_recursive_head_f3 AS PalindromeDecomposition_MultBodyAggAux_recursive_head_f3\n",
            "GROUP BY PalindromeDecomposition_MultBodyAggAux_recursive_head_f3.word),\n",
            "t_61_PalindromeDecomposition_MultBodyAggAux_recursive_head_f4 AS (SELECT * FROM (\n",
            "  \n",
            "    SELECT\n",
            "      t_62_Word.col0 AS word,\n",
            "      JSON_OBJECT('arg', JSON_ARRAY(t_62_Word.col0), 'value', 1) AS parts\n",
            "    FROM\n",
            "      t_3_Word AS t_62_Word, t_3_Word AS t_65_Word, t_4_EqualLettersInWord AS t_66_EqualLettersInWord\n",
            "    WHERE\n",
            "      (JSON_ARRAY_LENGTH(t_66_EqualLettersInWord.fs) = ((LENGTH(t_65_Word.col0)) / (2))) AND\n",
            "      (t_66_EqualLettersInWord.word = t_65_Word.col0) AND\n",
            "      (t_62_Word.col0 = t_65_Word.col0)\n",
            "   UNION ALL\n",
            "  \n",
            "    SELECT\n",
            "      t_67_Word.col0 AS word,\n",
            "      JSON_OBJECT('arg', ARRAY_CONCAT(PalindromeDecomposition_r2.parts, t_68_PalindromeDecomposition_r2.parts), 'value', JSON_ARRAY_LENGTH(ARRAY_CONCAT(PalindromeDecomposition_r2.parts, t_68_PalindromeDecomposition_r2.parts))) AS parts\n",
            "    FROM\n",
            "      t_3_Word AS t_67_Word, t_70_PalindromeDecomposition_r2 AS PalindromeDecomposition_r2, t_70_PalindromeDecomposition_r2 AS t_68_PalindromeDecomposition_r2, JSON_EACH((select json_group_array(n) from (with recursive t as(select 0 as n union all select n + 1 as n from t where n + 1 < LENGTH(t_67_Word.col0)) select n from t) where n < LENGTH(t_67_Word.col0))) as x_254\n",
            "    WHERE\n",
            "      (x_254.value > 0) AND\n",
            "      (PalindromeDecomposition_r2.word = SUBSTR(t_67_Word.col0, 1, x_254.value)) AND\n",
            "      (t_68_PalindromeDecomposition_r2.word = SUBSTR(t_67_Word.col0, ((x_254.value) + (1)), ((LENGTH(t_67_Word.col0)) - (x_254.value))))\n",
            "  \n",
            ") AS UNUSED_TABLE_NAME  ),\n",
            "t_58_PalindromeDecomposition_r3 AS (SELECT\n",
            "  PalindromeDecomposition_MultBodyAggAux_recursive_head_f4.word AS word,\n",
            "  JSON_EXTRACT(ArgMin(JSON_EXTRACT(PalindromeDecomposition_MultBodyAggAux_recursive_head_f4.parts, \"$.arg\"), JSON_EXTRACT(PalindromeDecomposition_MultBodyAggAux_recursive_head_f4.parts, \"$.value\"), 1), '$[' || 0 || ']') AS parts\n",
            "FROM\n",
            "  t_61_PalindromeDecomposition_MultBodyAggAux_recursive_head_f4 AS PalindromeDecomposition_MultBodyAggAux_recursive_head_f4\n",
            "GROUP BY PalindromeDecomposition_MultBodyAggAux_recursive_head_f4.word),\n",
            "t_49_PalindromeDecomposition_MultBodyAggAux_recursive_head_f5 AS (SELECT * FROM (\n",
            "  \n",
            "    SELECT\n",
            "      t_50_Word.col0 AS word,\n",
            "      JSON_OBJECT('arg', JSON_ARRAY(t_50_Word.col0), 'value', 1) AS parts\n",
            "    FROM\n",
            "      t_3_Word AS t_50_Word, t_3_Word AS t_53_Word, t_4_EqualLettersInWord AS t_54_EqualLettersInWord\n",
            "    WHERE\n",
            "      (JSON_ARRAY_LENGTH(t_54_EqualLettersInWord.fs) = ((LENGTH(t_53_Word.col0)) / (2))) AND\n",
            "      (t_54_EqualLettersInWord.word = t_53_Word.col0) AND\n",
            "      (t_50_Word.col0 = t_53_Word.col0)\n",
            "   UNION ALL\n",
            "  \n",
            "    SELECT\n",
            "      t_55_Word.col0 AS word,\n",
            "      JSON_OBJECT('arg', ARRAY_CONCAT(PalindromeDecomposition_r3.parts, t_56_PalindromeDecomposition_r3.parts), 'value', JSON_ARRAY_LENGTH(ARRAY_CONCAT(PalindromeDecomposition_r3.parts, t_56_PalindromeDecomposition_r3.parts))) AS parts\n",
            "    FROM\n",
            "      t_3_Word AS t_55_Word, t_58_PalindromeDecomposition_r3 AS PalindromeDecomposition_r3, t_58_PalindromeDecomposition_r3 AS t_56_PalindromeDecomposition_r3, JSON_EACH((select json_group_array(n) from (with recursive t as(select 0 as n union all select n + 1 as n from t where n + 1 < LENGTH(t_55_Word.col0)) select n from t) where n < LENGTH(t_55_Word.col0))) as x_211\n",
            "    WHERE\n",
            "      (x_211.value > 0) AND\n",
            "      (PalindromeDecomposition_r3.word = SUBSTR(t_55_Word.col0, 1, x_211.value)) AND\n",
            "      (t_56_PalindromeDecomposition_r3.word = SUBSTR(t_55_Word.col0, ((x_211.value) + (1)), ((LENGTH(t_55_Word.col0)) - (x_211.value))))\n",
            "  \n",
            ") AS UNUSED_TABLE_NAME  ),\n",
            "t_46_PalindromeDecomposition_r4 AS (SELECT\n",
            "  PalindromeDecomposition_MultBodyAggAux_recursive_head_f5.word AS word,\n",
            "  JSON_EXTRACT(ArgMin(JSON_EXTRACT(PalindromeDecomposition_MultBodyAggAux_recursive_head_f5.parts, \"$.arg\"), JSON_EXTRACT(PalindromeDecomposition_MultBodyAggAux_recursive_head_f5.parts, \"$.value\"), 1), '$[' || 0 || ']') AS parts\n",
            "FROM\n",
            "  t_49_PalindromeDecomposition_MultBodyAggAux_recursive_head_f5 AS PalindromeDecomposition_MultBodyAggAux_recursive_head_f5\n",
            "GROUP BY PalindromeDecomposition_MultBodyAggAux_recursive_head_f5.word),\n",
            "t_37_PalindromeDecomposition_MultBodyAggAux_recursive_head_f6 AS (SELECT * FROM (\n",
            "  \n",
            "    SELECT\n",
            "      t_38_Word.col0 AS word,\n",
            "      JSON_OBJECT('arg', JSON_ARRAY(t_38_Word.col0), 'value', 1) AS parts\n",
            "    FROM\n",
            "      t_3_Word AS t_38_Word, t_3_Word AS t_41_Word, t_4_EqualLettersInWord AS t_42_EqualLettersInWord\n",
            "    WHERE\n",
            "      (JSON_ARRAY_LENGTH(t_42_EqualLettersInWord.fs) = ((LENGTH(t_41_Word.col0)) / (2))) AND\n",
            "      (t_42_EqualLettersInWord.word = t_41_Word.col0) AND\n",
            "      (t_38_Word.col0 = t_41_Word.col0)\n",
            "   UNION ALL\n",
            "  \n",
            "    SELECT\n",
            "      t_43_Word.col0 AS word,\n",
            "      JSON_OBJECT('arg', ARRAY_CONCAT(PalindromeDecomposition_r4.parts, t_44_PalindromeDecomposition_r4.parts), 'value', JSON_ARRAY_LENGTH(ARRAY_CONCAT(PalindromeDecomposition_r4.parts, t_44_PalindromeDecomposition_r4.parts))) AS parts\n",
            "    FROM\n",
            "      t_3_Word AS t_43_Word, t_46_PalindromeDecomposition_r4 AS PalindromeDecomposition_r4, t_46_PalindromeDecomposition_r4 AS t_44_PalindromeDecomposition_r4, JSON_EACH((select json_group_array(n) from (with recursive t as(select 0 as n union all select n + 1 as n from t where n + 1 < LENGTH(t_43_Word.col0)) select n from t) where n < LENGTH(t_43_Word.col0))) as x_168\n",
            "    WHERE\n",
            "      (x_168.value > 0) AND\n",
            "      (PalindromeDecomposition_r4.word = SUBSTR(t_43_Word.col0, 1, x_168.value)) AND\n",
            "      (t_44_PalindromeDecomposition_r4.word = SUBSTR(t_43_Word.col0, ((x_168.value) + (1)), ((LENGTH(t_43_Word.col0)) - (x_168.value))))\n",
            "  \n",
            ") AS UNUSED_TABLE_NAME  ),\n",
            "t_34_PalindromeDecomposition_r5 AS (SELECT\n",
            "  PalindromeDecomposition_MultBodyAggAux_recursive_head_f6.word AS word,\n",
            "  JSON_EXTRACT(ArgMin(JSON_EXTRACT(PalindromeDecomposition_MultBodyAggAux_recursive_head_f6.parts, \"$.arg\"), JSON_EXTRACT(PalindromeDecomposition_MultBodyAggAux_recursive_head_f6.parts, \"$.value\"), 1), '$[' || 0 || ']') AS parts\n",
            "FROM\n",
            "  t_37_PalindromeDecomposition_MultBodyAggAux_recursive_head_f6 AS PalindromeDecomposition_MultBodyAggAux_recursive_head_f6\n",
            "GROUP BY PalindromeDecomposition_MultBodyAggAux_recursive_head_f6.word),\n",
            "t_25_PalindromeDecomposition_MultBodyAggAux_recursive_head_f7 AS (SELECT * FROM (\n",
            "  \n",
            "    SELECT\n",
            "      t_26_Word.col0 AS word,\n",
            "      JSON_OBJECT('arg', JSON_ARRAY(t_26_Word.col0), 'value', 1) AS parts\n",
            "    FROM\n",
            "      t_3_Word AS t_26_Word, t_3_Word AS t_29_Word, t_4_EqualLettersInWord AS t_30_EqualLettersInWord\n",
            "    WHERE\n",
            "      (JSON_ARRAY_LENGTH(t_30_EqualLettersInWord.fs) = ((LENGTH(t_29_Word.col0)) / (2))) AND\n",
            "      (t_30_EqualLettersInWord.word = t_29_Word.col0) AND\n",
            "      (t_26_Word.col0 = t_29_Word.col0)\n",
            "   UNION ALL\n",
            "  \n",
            "    SELECT\n",
            "      t_31_Word.col0 AS word,\n",
            "      JSON_OBJECT('arg', ARRAY_CONCAT(PalindromeDecomposition_r5.parts, t_32_PalindromeDecomposition_r5.parts), 'value', JSON_ARRAY_LENGTH(ARRAY_CONCAT(PalindromeDecomposition_r5.parts, t_32_PalindromeDecomposition_r5.parts))) AS parts\n",
            "    FROM\n",
            "      t_3_Word AS t_31_Word, t_34_PalindromeDecomposition_r5 AS PalindromeDecomposition_r5, t_34_PalindromeDecomposition_r5 AS t_32_PalindromeDecomposition_r5, JSON_EACH((select json_group_array(n) from (with recursive t as(select 0 as n union all select n + 1 as n from t where n + 1 < LENGTH(t_31_Word.col0)) select n from t) where n < LENGTH(t_31_Word.col0))) as x_125\n",
            "    WHERE\n",
            "      (x_125.value > 0) AND\n",
            "      (PalindromeDecomposition_r5.word = SUBSTR(t_31_Word.col0, 1, x_125.value)) AND\n",
            "      (t_32_PalindromeDecomposition_r5.word = SUBSTR(t_31_Word.col0, ((x_125.value) + (1)), ((LENGTH(t_31_Word.col0)) - (x_125.value))))\n",
            "  \n",
            ") AS UNUSED_TABLE_NAME  ),\n",
            "t_22_PalindromeDecomposition_r6 AS (SELECT\n",
            "  PalindromeDecomposition_MultBodyAggAux_recursive_head_f7.word AS word,\n",
            "  JSON_EXTRACT(ArgMin(JSON_EXTRACT(PalindromeDecomposition_MultBodyAggAux_recursive_head_f7.parts, \"$.arg\"), JSON_EXTRACT(PalindromeDecomposition_MultBodyAggAux_recursive_head_f7.parts, \"$.value\"), 1), '$[' || 0 || ']') AS parts\n",
            "FROM\n",
            "  t_25_PalindromeDecomposition_MultBodyAggAux_recursive_head_f7 AS PalindromeDecomposition_MultBodyAggAux_recursive_head_f7\n",
            "GROUP BY PalindromeDecomposition_MultBodyAggAux_recursive_head_f7.word),\n",
            "t_12_PalindromeDecomposition_MultBodyAggAux_recursive_head_f8 AS (SELECT * FROM (\n",
            "  \n",
            "    SELECT\n",
            "      t_13_Word.col0 AS word,\n",
            "      JSON_OBJECT('arg', JSON_ARRAY(t_13_Word.col0), 'value', 1) AS parts\n",
            "    FROM\n",
            "      t_3_Word AS t_13_Word, t_3_Word AS t_16_Word, t_4_EqualLettersInWord AS t_17_EqualLettersInWord\n",
            "    WHERE\n",
            "      (JSON_ARRAY_LENGTH(t_17_EqualLettersInWord.fs) = ((LENGTH(t_16_Word.col0)) / (2))) AND\n",
            "      (t_17_EqualLettersInWord.word = t_16_Word.col0) AND\n",
            "      (t_13_Word.col0 = t_16_Word.col0)\n",
            "   UNION ALL\n",
            "  \n",
            "    SELECT\n",
            "      t_19_Word.col0 AS word,\n",
            "      JSON_OBJECT('arg', ARRAY_CONCAT(PalindromeDecomposition_r6.parts, t_20_PalindromeDecomposition_r6.parts), 'value', JSON_ARRAY_LENGTH(ARRAY_CONCAT(PalindromeDecomposition_r6.parts, t_20_PalindromeDecomposition_r6.parts))) AS parts\n",
            "    FROM\n",
            "      t_3_Word AS t_19_Word, t_22_PalindromeDecomposition_r6 AS PalindromeDecomposition_r6, t_22_PalindromeDecomposition_r6 AS t_20_PalindromeDecomposition_r6, JSON_EACH((select json_group_array(n) from (with recursive t as(select 0 as n union all select n + 1 as n from t where n + 1 < LENGTH(t_19_Word.col0)) select n from t) where n < LENGTH(t_19_Word.col0))) as x_82\n",
            "    WHERE\n",
            "      (x_82.value > 0) AND\n",
            "      (PalindromeDecomposition_r6.word = SUBSTR(t_19_Word.col0, 1, x_82.value)) AND\n",
            "      (t_20_PalindromeDecomposition_r6.word = SUBSTR(t_19_Word.col0, ((x_82.value) + (1)), ((LENGTH(t_19_Word.col0)) - (x_82.value))))\n",
            "  \n",
            ") AS UNUSED_TABLE_NAME  ),\n",
            "t_9_PalindromeDecomposition_r7 AS (SELECT\n",
            "  PalindromeDecomposition_MultBodyAggAux_recursive_head_f8.word AS word,\n",
            "  JSON_EXTRACT(ArgMin(JSON_EXTRACT(PalindromeDecomposition_MultBodyAggAux_recursive_head_f8.parts, \"$.arg\"), JSON_EXTRACT(PalindromeDecomposition_MultBodyAggAux_recursive_head_f8.parts, \"$.value\"), 1), '$[' || 0 || ']') AS parts\n",
            "FROM\n",
            "  t_12_PalindromeDecomposition_MultBodyAggAux_recursive_head_f8 AS PalindromeDecomposition_MultBodyAggAux_recursive_head_f8\n",
            "GROUP BY PalindromeDecomposition_MultBodyAggAux_recursive_head_f8.word),\n",
            "t_0_PalindromeDecomposition_MultBodyAggAux_recursive_head_f9 AS (SELECT * FROM (\n",
            "  \n",
            "    SELECT\n",
            "      Word.col0 AS word,\n",
            "      JSON_OBJECT('arg', JSON_ARRAY(Word.col0), 'value', 1) AS parts\n",
            "    FROM\n",
            "      t_3_Word AS Word, t_3_Word AS t_2_Word, t_4_EqualLettersInWord AS EqualLettersInWord\n",
            "    WHERE\n",
            "      (JSON_ARRAY_LENGTH(EqualLettersInWord.fs) = ((LENGTH(t_2_Word.col0)) / (2))) AND\n",
            "      (EqualLettersInWord.word = t_2_Word.col0) AND\n",
            "      (Word.col0 = t_2_Word.col0)\n",
            "   UNION ALL\n",
            "  \n",
            "    SELECT\n",
            "      t_6_Word.col0 AS word,\n",
            "      JSON_OBJECT('arg', ARRAY_CONCAT(PalindromeDecomposition_r7.parts, t_7_PalindromeDecomposition_r7.parts), 'value', JSON_ARRAY_LENGTH(ARRAY_CONCAT(PalindromeDecomposition_r7.parts, t_7_PalindromeDecomposition_r7.parts))) AS parts\n",
            "    FROM\n",
            "      t_3_Word AS t_6_Word, t_9_PalindromeDecomposition_r7 AS PalindromeDecomposition_r7, t_9_PalindromeDecomposition_r7 AS t_7_PalindromeDecomposition_r7, JSON_EACH((select json_group_array(n) from (with recursive t as(select 0 as n union all select n + 1 as n from t where n + 1 < LENGTH(t_6_Word.col0)) select n from t) where n < LENGTH(t_6_Word.col0))) as x_36\n",
            "    WHERE\n",
            "      (x_36.value > 0) AND\n",
            "      (PalindromeDecomposition_r7.word = SUBSTR(t_6_Word.col0, 1, x_36.value)) AND\n",
            "      (t_7_PalindromeDecomposition_r7.word = SUBSTR(t_6_Word.col0, ((x_36.value) + (1)), ((LENGTH(t_6_Word.col0)) - (x_36.value))))\n",
            "  \n",
            ") AS UNUSED_TABLE_NAME  )\n",
            "SELECT\n",
            "  PalindromeDecomposition_MultBodyAggAux_recursive_head_f9.word AS word,\n",
            "  JSON_EXTRACT(ArgMin(JSON_EXTRACT(PalindromeDecomposition_MultBodyAggAux_recursive_head_f9.parts, \"$.arg\"), JSON_EXTRACT(PalindromeDecomposition_MultBodyAggAux_recursive_head_f9.parts, \"$.value\"), 1), '$[' || 0 || ']') AS parts\n",
            "FROM\n",
            "  t_0_PalindromeDecomposition_MultBodyAggAux_recursive_head_f9 AS PalindromeDecomposition_MultBodyAggAux_recursive_head_f9\n",
            "GROUP BY PalindromeDecomposition_MultBodyAggAux_recursive_head_f9.word;\n"
          ]
        },
        {
          "output_type": "display_data",
          "data": {
            "application/javascript": [
              "window[\"84b23f9e-682b-11ec-8f75-0242ac1c0002\"] = google.colab.output.setActiveOutputArea(window[\"84afb71a-682b-11ec-8f75-0242ac1c0002\"]);\n",
              "//# sourceURL=js_7322ac8bc6"
            ],
            "text/plain": [
              "<IPython.core.display.Javascript object>"
            ]
          },
          "metadata": {}
        },
        {
          "output_type": "display_data",
          "data": {
            "application/javascript": [
              "window[\"84b3f30c-682b-11ec-8f75-0242ac1c0002\"] = google.colab.output.setActiveOutputArea(window[\"84a854b6-682b-11ec-8f75-0242ac1c0002\"]);\n",
              "//# sourceURL=js_e3f7677f68"
            ],
            "text/plain": [
              "<IPython.core.display.Javascript object>"
            ]
          },
          "metadata": {}
        },
        {
          "output_type": "display_data",
          "data": {
            "application/javascript": [
              "window[\"84b5da3c-682b-11ec-8f75-0242ac1c0002\"] = google.colab.output.getActiveOutputArea();\n",
              "//# sourceURL=js_11bd5139f0"
            ],
            "text/plain": [
              "<IPython.core.display.Javascript object>"
            ]
          },
          "metadata": {}
        },
        {
          "output_type": "display_data",
          "data": {
            "application/javascript": [
              "window[\"84b63086-682b-11ec-8f75-0242ac1c0002\"] = document.querySelector(\"#id142_content_3\");\n",
              "//# sourceURL=js_341c841a22"
            ],
            "text/plain": [
              "<IPython.core.display.Javascript object>"
            ]
          },
          "metadata": {}
        },
        {
          "output_type": "display_data",
          "data": {
            "application/javascript": [
              "window[\"84b68d60-682b-11ec-8f75-0242ac1c0002\"] = google.colab.output.setActiveOutputArea(window[\"84b63086-682b-11ec-8f75-0242ac1c0002\"]);\n",
              "//# sourceURL=js_804763b256"
            ],
            "text/plain": [
              "<IPython.core.display.Javascript object>"
            ]
          },
          "metadata": {}
        },
        {
          "output_type": "display_data",
          "data": {
            "application/javascript": [
              "window[\"84b6df72-682b-11ec-8f75-0242ac1c0002\"] = window[\"id142\"].setSelectedTabIndex(3);\n",
              "//# sourceURL=js_dbcdbe4916"
            ],
            "text/plain": [
              "<IPython.core.display.Javascript object>"
            ]
          },
          "metadata": {}
        },
        {
          "output_type": "display_data",
          "data": {
            "text/plain": [
              "<graphviz.dot.Digraph at 0x7f2a98f5a710>"
            ],
            "image/svg+xml": "<?xml version=\"1.0\" encoding=\"UTF-8\" standalone=\"no\"?>\n<!DOCTYPE svg PUBLIC \"-//W3C//DTD SVG 1.1//EN\"\n \"http://www.w3.org/Graphics/SVG/1.1/DTD/svg11.dtd\">\n<!-- Generated by graphviz version 2.40.1 (20161225.0304)\n -->\n<!-- Title: Concertina Pages: 1 -->\n<svg width=\"469pt\" height=\"116pt\"\n viewBox=\"0.00 0.00 469.30 116.00\" xmlns=\"http://www.w3.org/2000/svg\" xmlns:xlink=\"http://www.w3.org/1999/xlink\">\n<g id=\"graph0\" class=\"graph\" transform=\"scale(1 1) rotate(0) translate(4 112)\">\n<title>Concertina</title>\n<polygon fill=\"#ffffff\" stroke=\"transparent\" points=\"-4,4 -4,-112 465.2954,-112 465.2954,4 -4,4\"/>\n<!-- nil -->\n<g id=\"node1\" class=\"node\">\n<title>nil</title>\n<path fill=\"#b0e2ff\" stroke=\"#575757\" d=\"M183.2567,-104.7273C183.2567,-106.5331 171.1549,-108 156.2567,-108 141.3586,-108 129.2567,-106.5331 129.2567,-104.7273 129.2567,-104.7273 129.2567,-75.2727 129.2567,-75.2727 129.2567,-73.4669 141.3586,-72 156.2567,-72 171.1549,-72 183.2567,-73.4669 183.2567,-75.2727 183.2567,-75.2727 183.2567,-104.7273 183.2567,-104.7273\"/>\n<path fill=\"none\" stroke=\"#575757\" d=\"M183.2567,-104.7273C183.2567,-102.9214 171.1549,-101.4545 156.2567,-101.4545 141.3586,-101.4545 129.2567,-102.9214 129.2567,-104.7273\"/>\n<text text-anchor=\"middle\" x=\"156.2567\" y=\"-86.3\" font-family=\"Times,serif\" font-size=\"14.00\" fill=\"#000000\">nil</text>\n</g>\n<!-- PalindromeDecomposition -->\n<g id=\"node4\" class=\"node\">\n<title>PalindromeDecomposition</title>\n<path fill=\"#caff70\" stroke=\"#575757\" d=\"M144.3358,-34.6246C144.3358,-34.6246 12.1638,-19.3754 12.1638,-19.3754 6.2033,-18.6877 6.2033,-17.3123 12.1638,-16.6246 12.1638,-16.6246 144.3358,-1.3754 144.3358,-1.3754 150.2963,-.6877 162.2172,-.6877 168.1777,-1.3754 168.1777,-1.3754 300.3497,-16.6246 300.3497,-16.6246 306.3101,-17.3123 306.3101,-18.6877 300.3497,-19.3754 300.3497,-19.3754 168.1777,-34.6246 168.1777,-34.6246 162.2172,-35.3123 150.2963,-35.3123 144.3358,-34.6246\"/>\n<text text-anchor=\"middle\" x=\"156.2567\" y=\"-14.3\" font-family=\"Times,serif\" font-size=\"14.00\" fill=\"#000000\">PalindromeDecomposition</text>\n</g>\n<!-- nil&#45;&gt;PalindromeDecomposition -->\n<g id=\"edge1\" class=\"edge\">\n<title>nil&#45;&gt;PalindromeDecomposition</title>\n<path fill=\"none\" stroke=\"#000000\" d=\"M156.2567,-71.8314C156.2567,-64.131 156.2567,-54.9743 156.2567,-46.4166\"/>\n<polygon fill=\"#000000\" stroke=\"#000000\" points=\"159.7568,-46.4132 156.2567,-36.4133 152.7568,-46.4133 159.7568,-46.4132\"/>\n</g>\n<!-- Palindrome -->\n<g id=\"node2\" class=\"node\">\n<title>Palindrome</title>\n<path fill=\"#caff70\" stroke=\"#575757\" d=\"M265.5791,-105.2372C265.5791,-105.2372 212.8537,-92.7628 212.8537,-92.7628 207.0149,-91.3814 207.0149,-88.6186 212.8537,-87.2372 212.8537,-87.2372 265.5791,-74.7628 265.5791,-74.7628 271.4179,-73.3814 283.0955,-73.3814 288.9344,-74.7628 288.9344,-74.7628 341.6598,-87.2372 341.6598,-87.2372 347.4986,-88.6186 347.4986,-91.3814 341.6598,-92.7628 341.6598,-92.7628 288.9344,-105.2372 288.9344,-105.2372 283.0955,-106.6186 271.4179,-106.6186 265.5791,-105.2372\"/>\n<text text-anchor=\"middle\" x=\"277.2567\" y=\"-86.3\" font-family=\"Times,serif\" font-size=\"14.00\" fill=\"#000000\">Palindrome</text>\n</g>\n<!-- Word -->\n<g id=\"node3\" class=\"node\">\n<title>Word</title>\n<path fill=\"#caff70\" stroke=\"#575757\" d=\"M405.1124,-103.5499C405.1124,-103.5499 382.3236,-94.4501 382.3236,-94.4501 376.7515,-92.225 376.7515,-87.775 382.3236,-85.5499 382.3236,-85.5499 405.1124,-76.4501 405.1124,-76.4501 410.6846,-74.225 421.8289,-74.225 427.4011,-76.4501 427.4011,-76.4501 450.1898,-85.5499 450.1898,-85.5499 455.762,-87.775 455.762,-92.225 450.1898,-94.4501 450.1898,-94.4501 427.4011,-103.5499 427.4011,-103.5499 421.8289,-105.775 410.6846,-105.775 405.1124,-103.5499\"/>\n<text text-anchor=\"middle\" x=\"416.2567\" y=\"-86.3\" font-family=\"Times,serif\" font-size=\"14.00\" fill=\"#000000\">Word</text>\n</g>\n</g>\n</svg>\n"
          },
          "metadata": {}
        },
        {
          "output_type": "stream",
          "name": "stdout",
          "text": [
            "Running predicate: Palindrome (0 seconds)\n",
            "Running predicate: Word (0 seconds)\n",
            "Running predicate: PalindromeDecomposition (0 seconds)\n"
          ]
        },
        {
          "output_type": "display_data",
          "data": {
            "application/javascript": [
              "window[\"85480dee-682b-11ec-8f75-0242ac1c0002\"] = google.colab.output.setActiveOutputArea(window[\"84b5da3c-682b-11ec-8f75-0242ac1c0002\"]);\n",
              "//# sourceURL=js_954de3d54e"
            ],
            "text/plain": [
              "<IPython.core.display.Javascript object>"
            ]
          },
          "metadata": {}
        },
        {
          "output_type": "display_data",
          "data": {
            "application/javascript": [
              "window[\"854b27ae-682b-11ec-8f75-0242ac1c0002\"] = google.colab.output.getActiveOutputArea();\n",
              "//# sourceURL=js_b6a25f9bf7"
            ],
            "text/plain": [
              "<IPython.core.display.Javascript object>"
            ]
          },
          "metadata": {}
        },
        {
          "output_type": "display_data",
          "data": {
            "application/javascript": [
              "window[\"854b814a-682b-11ec-8f75-0242ac1c0002\"] = document.querySelector(\"#id142_content_0\");\n",
              "//# sourceURL=js_7197793315"
            ],
            "text/plain": [
              "<IPython.core.display.Javascript object>"
            ]
          },
          "metadata": {}
        },
        {
          "output_type": "display_data",
          "data": {
            "application/javascript": [
              "window[\"854c2bc2-682b-11ec-8f75-0242ac1c0002\"] = google.colab.output.setActiveOutputArea(window[\"854b814a-682b-11ec-8f75-0242ac1c0002\"]);\n",
              "//# sourceURL=js_7ace1fe1e6"
            ],
            "text/plain": [
              "<IPython.core.display.Javascript object>"
            ]
          },
          "metadata": {}
        },
        {
          "output_type": "display_data",
          "data": {
            "application/javascript": [
              "window[\"854c8b8a-682b-11ec-8f75-0242ac1c0002\"] = window[\"id142\"].setSelectedTabIndex(0);\n",
              "//# sourceURL=js_97ac40187b"
            ],
            "text/plain": [
              "<IPython.core.display.Javascript object>"
            ]
          },
          "metadata": {}
        },
        {
          "output_type": "display_data",
          "data": {
            "application/javascript": [
              "window[\"854e341c-682b-11ec-8f75-0242ac1c0002\"] = google.colab.output.getActiveOutputArea();\n",
              "//# sourceURL=js_653ec10c5b"
            ],
            "text/plain": [
              "<IPython.core.display.Javascript object>"
            ]
          },
          "metadata": {}
        },
        {
          "output_type": "display_data",
          "data": {
            "application/javascript": [
              "window[\"854e9e70-682b-11ec-8f75-0242ac1c0002\"] = document.querySelector(\"#id143_content_1\");\n",
              "//# sourceURL=js_5dafb1c5d6"
            ],
            "text/plain": [
              "<IPython.core.display.Javascript object>"
            ]
          },
          "metadata": {}
        },
        {
          "output_type": "display_data",
          "data": {
            "application/javascript": [
              "window[\"854eec7c-682b-11ec-8f75-0242ac1c0002\"] = google.colab.output.setActiveOutputArea(window[\"854e9e70-682b-11ec-8f75-0242ac1c0002\"]);\n",
              "//# sourceURL=js_8196539194"
            ],
            "text/plain": [
              "<IPython.core.display.Javascript object>"
            ]
          },
          "metadata": {}
        },
        {
          "output_type": "display_data",
          "data": {
            "application/javascript": [
              "window[\"854f48ac-682b-11ec-8f75-0242ac1c0002\"] = window[\"id143\"].setSelectedTabIndex(1);\n",
              "//# sourceURL=js_1307516a3c"
            ],
            "text/plain": [
              "<IPython.core.display.Javascript object>"
            ]
          },
          "metadata": {}
        },
        {
          "output_type": "stream",
          "name": "stdout",
          "text": [
            "The following table is stored at \u001b[1mWord\u001b[0m variable.\n"
          ]
        },
        {
          "output_type": "display_data",
          "data": {
            "application/vnd.google.colaboratory.module+javascript": "\n      import \"https://ssl.gstatic.com/colaboratory/data_table/a6224c040fa35dcf/data_table.js\";\n\n      window.createDataTable({\n        data: [[{\n            'v': 0,\n            'f': \"0\",\n        },\n\"20211212\"],\n [{\n            'v': 1,\n            'f': \"1\",\n        },\n\"neveragain\"],\n [{\n            'v': 2,\n            'f': \"2\",\n        },\n\"civil\"],\n [{\n            'v': 3,\n            'f': \"3\",\n        },\n\"abbaforever\"],\n [{\n            'v': 4,\n            'f': \"4\",\n        },\n\"taxxataxxazere\"],\n [{\n            'v': 5,\n            'f': \"5\",\n        },\n\"aba\"],\n [{\n            'v': 6,\n            'f': \"6\",\n        },\n\"abaxxxx\"],\n [{\n            'v': 7,\n            'f': \"7\",\n        },\n\"abba\"],\n [{\n            'v': 8,\n            'f': \"8\",\n        },\n\"xxxx\"]],\n        columns: [[\"number\", \"index\"], [\"string\", \"col0\"]],\n        columnOptions: [{\"width\": \"1px\", \"className\": \"index_column\"}],\n        rowsPerPage: 25,\n        helpUrl: \"https://colab.research.google.com/notebooks/data_table.ipynb\",\n        suppressOutputScrolling: true,\n        minimumWidth: undefined,\n      });\n    ",
            "text/html": [
              "\n",
              "  <div id=\"df-1aa0942d-9c9c-41be-86ed-a7dfb749a984\">\n",
              "    <div class=\"colab-df-container\">\n",
              "      <div>\n",
              "<style scoped>\n",
              "    .dataframe tbody tr th:only-of-type {\n",
              "        vertical-align: middle;\n",
              "    }\n",
              "\n",
              "    .dataframe tbody tr th {\n",
              "        vertical-align: top;\n",
              "    }\n",
              "\n",
              "    .dataframe thead th {\n",
              "        text-align: right;\n",
              "    }\n",
              "</style>\n",
              "<table border=\"1\" class=\"dataframe\">\n",
              "  <thead>\n",
              "    <tr style=\"text-align: right;\">\n",
              "      <th></th>\n",
              "      <th>col0</th>\n",
              "    </tr>\n",
              "  </thead>\n",
              "  <tbody>\n",
              "    <tr>\n",
              "      <th>0</th>\n",
              "      <td>20211212</td>\n",
              "    </tr>\n",
              "    <tr>\n",
              "      <th>1</th>\n",
              "      <td>neveragain</td>\n",
              "    </tr>\n",
              "    <tr>\n",
              "      <th>2</th>\n",
              "      <td>civil</td>\n",
              "    </tr>\n",
              "    <tr>\n",
              "      <th>3</th>\n",
              "      <td>abbaforever</td>\n",
              "    </tr>\n",
              "    <tr>\n",
              "      <th>4</th>\n",
              "      <td>taxxataxxazere</td>\n",
              "    </tr>\n",
              "    <tr>\n",
              "      <th>5</th>\n",
              "      <td>aba</td>\n",
              "    </tr>\n",
              "    <tr>\n",
              "      <th>6</th>\n",
              "      <td>abaxxxx</td>\n",
              "    </tr>\n",
              "    <tr>\n",
              "      <th>7</th>\n",
              "      <td>abba</td>\n",
              "    </tr>\n",
              "    <tr>\n",
              "      <th>8</th>\n",
              "      <td>xxxx</td>\n",
              "    </tr>\n",
              "  </tbody>\n",
              "</table>\n",
              "</div>\n",
              "      <button class=\"colab-df-convert\" onclick=\"convertToInteractive('df-1aa0942d-9c9c-41be-86ed-a7dfb749a984')\"\n",
              "              title=\"Convert this dataframe to an interactive table.\"\n",
              "              style=\"display:none;\">\n",
              "        \n",
              "  <svg xmlns=\"http://www.w3.org/2000/svg\" height=\"24px\"viewBox=\"0 0 24 24\"\n",
              "       width=\"24px\">\n",
              "    <path d=\"M0 0h24v24H0V0z\" fill=\"none\"/>\n",
              "    <path d=\"M18.56 5.44l.94 2.06.94-2.06 2.06-.94-2.06-.94-.94-2.06-.94 2.06-2.06.94zm-11 1L8.5 8.5l.94-2.06 2.06-.94-2.06-.94L8.5 2.5l-.94 2.06-2.06.94zm10 10l.94 2.06.94-2.06 2.06-.94-2.06-.94-.94-2.06-.94 2.06-2.06.94z\"/><path d=\"M17.41 7.96l-1.37-1.37c-.4-.4-.92-.59-1.43-.59-.52 0-1.04.2-1.43.59L10.3 9.45l-7.72 7.72c-.78.78-.78 2.05 0 2.83L4 21.41c.39.39.9.59 1.41.59.51 0 1.02-.2 1.41-.59l7.78-7.78 2.81-2.81c.8-.78.8-2.07 0-2.86zM5.41 20L4 18.59l7.72-7.72 1.47 1.35L5.41 20z\"/>\n",
              "  </svg>\n",
              "      </button>\n",
              "      \n",
              "  <style>\n",
              "    .colab-df-container {\n",
              "      display:flex;\n",
              "      flex-wrap:wrap;\n",
              "      gap: 12px;\n",
              "    }\n",
              "\n",
              "    .colab-df-convert {\n",
              "      background-color: #E8F0FE;\n",
              "      border: none;\n",
              "      border-radius: 50%;\n",
              "      cursor: pointer;\n",
              "      display: none;\n",
              "      fill: #1967D2;\n",
              "      height: 32px;\n",
              "      padding: 0 0 0 0;\n",
              "      width: 32px;\n",
              "    }\n",
              "\n",
              "    .colab-df-convert:hover {\n",
              "      background-color: #E2EBFA;\n",
              "      box-shadow: 0px 1px 2px rgba(60, 64, 67, 0.3), 0px 1px 3px 1px rgba(60, 64, 67, 0.15);\n",
              "      fill: #174EA6;\n",
              "    }\n",
              "\n",
              "    [theme=dark] .colab-df-convert {\n",
              "      background-color: #3B4455;\n",
              "      fill: #D2E3FC;\n",
              "    }\n",
              "\n",
              "    [theme=dark] .colab-df-convert:hover {\n",
              "      background-color: #434B5C;\n",
              "      box-shadow: 0px 1px 3px 1px rgba(0, 0, 0, 0.15);\n",
              "      filter: drop-shadow(0px 1px 2px rgba(0, 0, 0, 0.3));\n",
              "      fill: #FFFFFF;\n",
              "    }\n",
              "  </style>\n",
              "\n",
              "      <script>\n",
              "        const buttonEl =\n",
              "          document.querySelector('#df-1aa0942d-9c9c-41be-86ed-a7dfb749a984 button.colab-df-convert');\n",
              "        buttonEl.style.display =\n",
              "          google.colab.kernel.accessAllowed ? 'block' : 'none';\n",
              "\n",
              "        async function convertToInteractive(key) {\n",
              "          const element = document.querySelector('#df-1aa0942d-9c9c-41be-86ed-a7dfb749a984');\n",
              "          const dataTable =\n",
              "            await google.colab.kernel.invokeFunction('convertToInteractive',\n",
              "                                                     [key], {});\n",
              "          if (!dataTable) return;\n",
              "\n",
              "          const docLinkHtml = 'Like what you see? Visit the ' +\n",
              "            '<a target=\"_blank\" href=https://colab.research.google.com/notebooks/data_table.ipynb>data table notebook</a>'\n",
              "            + ' to learn more about interactive tables.';\n",
              "          element.innerHTML = '';\n",
              "          dataTable['output_type'] = 'display_data';\n",
              "          await google.colab.output.renderOutput(dataTable, element);\n",
              "          const docLink = document.createElement('div');\n",
              "          docLink.innerHTML = docLinkHtml;\n",
              "          element.appendChild(docLink);\n",
              "        }\n",
              "      </script>\n",
              "    </div>\n",
              "  </div>\n",
              "  "
            ],
            "text/plain": [
              "             col0\n",
              "0        20211212\n",
              "1      neveragain\n",
              "2           civil\n",
              "3     abbaforever\n",
              "4  taxxataxxazere\n",
              "5             aba\n",
              "6         abaxxxx\n",
              "7            abba\n",
              "8            xxxx"
            ]
          },
          "metadata": {}
        },
        {
          "output_type": "display_data",
          "data": {
            "application/javascript": [
              "window[\"85569b98-682b-11ec-8f75-0242ac1c0002\"] = google.colab.output.setActiveOutputArea(window[\"854e341c-682b-11ec-8f75-0242ac1c0002\"]);\n",
              "//# sourceURL=js_015a2225af"
            ],
            "text/plain": [
              "<IPython.core.display.Javascript object>"
            ]
          },
          "metadata": {}
        },
        {
          "output_type": "stream",
          "name": "stdout",
          "text": [
            " \n"
          ]
        },
        {
          "output_type": "display_data",
          "data": {
            "application/javascript": [
              "window[\"8558fd02-682b-11ec-8f75-0242ac1c0002\"] = google.colab.output.setActiveOutputArea(window[\"854b27ae-682b-11ec-8f75-0242ac1c0002\"]);\n",
              "//# sourceURL=js_b94383c82f"
            ],
            "text/plain": [
              "<IPython.core.display.Javascript object>"
            ]
          },
          "metadata": {}
        },
        {
          "output_type": "display_data",
          "data": {
            "application/javascript": [
              "window[\"855b981e-682b-11ec-8f75-0242ac1c0002\"] = google.colab.output.getActiveOutputArea();\n",
              "//# sourceURL=js_b9b53261d3"
            ],
            "text/plain": [
              "<IPython.core.display.Javascript object>"
            ]
          },
          "metadata": {}
        },
        {
          "output_type": "display_data",
          "data": {
            "application/javascript": [
              "window[\"855c0560-682b-11ec-8f75-0242ac1c0002\"] = document.querySelector(\"#id142_content_1\");\n",
              "//# sourceURL=js_68a83f5287"
            ],
            "text/plain": [
              "<IPython.core.display.Javascript object>"
            ]
          },
          "metadata": {}
        },
        {
          "output_type": "display_data",
          "data": {
            "application/javascript": [
              "window[\"855c5696-682b-11ec-8f75-0242ac1c0002\"] = google.colab.output.setActiveOutputArea(window[\"855c0560-682b-11ec-8f75-0242ac1c0002\"]);\n",
              "//# sourceURL=js_894eef940c"
            ],
            "text/plain": [
              "<IPython.core.display.Javascript object>"
            ]
          },
          "metadata": {}
        },
        {
          "output_type": "display_data",
          "data": {
            "application/javascript": [
              "window[\"855ca1d2-682b-11ec-8f75-0242ac1c0002\"] = window[\"id142\"].setSelectedTabIndex(1);\n",
              "//# sourceURL=js_14beb0cfa7"
            ],
            "text/plain": [
              "<IPython.core.display.Javascript object>"
            ]
          },
          "metadata": {}
        },
        {
          "output_type": "display_data",
          "data": {
            "application/javascript": [
              "window[\"855e1418-682b-11ec-8f75-0242ac1c0002\"] = google.colab.output.getActiveOutputArea();\n",
              "//# sourceURL=js_9c1226b665"
            ],
            "text/plain": [
              "<IPython.core.display.Javascript object>"
            ]
          },
          "metadata": {}
        },
        {
          "output_type": "display_data",
          "data": {
            "application/javascript": [
              "window[\"855e61d4-682b-11ec-8f75-0242ac1c0002\"] = document.querySelector(\"#id144_content_1\");\n",
              "//# sourceURL=js_cacab2469e"
            ],
            "text/plain": [
              "<IPython.core.display.Javascript object>"
            ]
          },
          "metadata": {}
        },
        {
          "output_type": "display_data",
          "data": {
            "application/javascript": [
              "window[\"855ec0ca-682b-11ec-8f75-0242ac1c0002\"] = google.colab.output.setActiveOutputArea(window[\"855e61d4-682b-11ec-8f75-0242ac1c0002\"]);\n",
              "//# sourceURL=js_a587cd1aba"
            ],
            "text/plain": [
              "<IPython.core.display.Javascript object>"
            ]
          },
          "metadata": {}
        },
        {
          "output_type": "display_data",
          "data": {
            "application/javascript": [
              "window[\"855f176e-682b-11ec-8f75-0242ac1c0002\"] = window[\"id144\"].setSelectedTabIndex(1);\n",
              "//# sourceURL=js_624ddfa181"
            ],
            "text/plain": [
              "<IPython.core.display.Javascript object>"
            ]
          },
          "metadata": {}
        },
        {
          "output_type": "stream",
          "name": "stdout",
          "text": [
            "The following table is stored at \u001b[1mPalindrome\u001b[0m variable.\n"
          ]
        },
        {
          "output_type": "display_data",
          "data": {
            "application/vnd.google.colaboratory.module+javascript": "\n      import \"https://ssl.gstatic.com/colaboratory/data_table/a6224c040fa35dcf/data_table.js\";\n\n      window.createDataTable({\n        data: [[{\n            'v': 0,\n            'f': \"0\",\n        },\n\"aba\"],\n [{\n            'v': 1,\n            'f': \"1\",\n        },\n\"abba\"],\n [{\n            'v': 2,\n            'f': \"2\",\n        },\n\"xxxx\"]],\n        columns: [[\"number\", \"index\"], [\"string\", \"word\"]],\n        columnOptions: [{\"width\": \"1px\", \"className\": \"index_column\"}],\n        rowsPerPage: 25,\n        helpUrl: \"https://colab.research.google.com/notebooks/data_table.ipynb\",\n        suppressOutputScrolling: true,\n        minimumWidth: undefined,\n      });\n    ",
            "text/html": [
              "\n",
              "  <div id=\"df-aa704cc5-e1e0-49fc-9fec-4fbbb3782ae5\">\n",
              "    <div class=\"colab-df-container\">\n",
              "      <div>\n",
              "<style scoped>\n",
              "    .dataframe tbody tr th:only-of-type {\n",
              "        vertical-align: middle;\n",
              "    }\n",
              "\n",
              "    .dataframe tbody tr th {\n",
              "        vertical-align: top;\n",
              "    }\n",
              "\n",
              "    .dataframe thead th {\n",
              "        text-align: right;\n",
              "    }\n",
              "</style>\n",
              "<table border=\"1\" class=\"dataframe\">\n",
              "  <thead>\n",
              "    <tr style=\"text-align: right;\">\n",
              "      <th></th>\n",
              "      <th>word</th>\n",
              "    </tr>\n",
              "  </thead>\n",
              "  <tbody>\n",
              "    <tr>\n",
              "      <th>0</th>\n",
              "      <td>aba</td>\n",
              "    </tr>\n",
              "    <tr>\n",
              "      <th>1</th>\n",
              "      <td>abba</td>\n",
              "    </tr>\n",
              "    <tr>\n",
              "      <th>2</th>\n",
              "      <td>xxxx</td>\n",
              "    </tr>\n",
              "  </tbody>\n",
              "</table>\n",
              "</div>\n",
              "      <button class=\"colab-df-convert\" onclick=\"convertToInteractive('df-aa704cc5-e1e0-49fc-9fec-4fbbb3782ae5')\"\n",
              "              title=\"Convert this dataframe to an interactive table.\"\n",
              "              style=\"display:none;\">\n",
              "        \n",
              "  <svg xmlns=\"http://www.w3.org/2000/svg\" height=\"24px\"viewBox=\"0 0 24 24\"\n",
              "       width=\"24px\">\n",
              "    <path d=\"M0 0h24v24H0V0z\" fill=\"none\"/>\n",
              "    <path d=\"M18.56 5.44l.94 2.06.94-2.06 2.06-.94-2.06-.94-.94-2.06-.94 2.06-2.06.94zm-11 1L8.5 8.5l.94-2.06 2.06-.94-2.06-.94L8.5 2.5l-.94 2.06-2.06.94zm10 10l.94 2.06.94-2.06 2.06-.94-2.06-.94-.94-2.06-.94 2.06-2.06.94z\"/><path d=\"M17.41 7.96l-1.37-1.37c-.4-.4-.92-.59-1.43-.59-.52 0-1.04.2-1.43.59L10.3 9.45l-7.72 7.72c-.78.78-.78 2.05 0 2.83L4 21.41c.39.39.9.59 1.41.59.51 0 1.02-.2 1.41-.59l7.78-7.78 2.81-2.81c.8-.78.8-2.07 0-2.86zM5.41 20L4 18.59l7.72-7.72 1.47 1.35L5.41 20z\"/>\n",
              "  </svg>\n",
              "      </button>\n",
              "      \n",
              "  <style>\n",
              "    .colab-df-container {\n",
              "      display:flex;\n",
              "      flex-wrap:wrap;\n",
              "      gap: 12px;\n",
              "    }\n",
              "\n",
              "    .colab-df-convert {\n",
              "      background-color: #E8F0FE;\n",
              "      border: none;\n",
              "      border-radius: 50%;\n",
              "      cursor: pointer;\n",
              "      display: none;\n",
              "      fill: #1967D2;\n",
              "      height: 32px;\n",
              "      padding: 0 0 0 0;\n",
              "      width: 32px;\n",
              "    }\n",
              "\n",
              "    .colab-df-convert:hover {\n",
              "      background-color: #E2EBFA;\n",
              "      box-shadow: 0px 1px 2px rgba(60, 64, 67, 0.3), 0px 1px 3px 1px rgba(60, 64, 67, 0.15);\n",
              "      fill: #174EA6;\n",
              "    }\n",
              "\n",
              "    [theme=dark] .colab-df-convert {\n",
              "      background-color: #3B4455;\n",
              "      fill: #D2E3FC;\n",
              "    }\n",
              "\n",
              "    [theme=dark] .colab-df-convert:hover {\n",
              "      background-color: #434B5C;\n",
              "      box-shadow: 0px 1px 3px 1px rgba(0, 0, 0, 0.15);\n",
              "      filter: drop-shadow(0px 1px 2px rgba(0, 0, 0, 0.3));\n",
              "      fill: #FFFFFF;\n",
              "    }\n",
              "  </style>\n",
              "\n",
              "      <script>\n",
              "        const buttonEl =\n",
              "          document.querySelector('#df-aa704cc5-e1e0-49fc-9fec-4fbbb3782ae5 button.colab-df-convert');\n",
              "        buttonEl.style.display =\n",
              "          google.colab.kernel.accessAllowed ? 'block' : 'none';\n",
              "\n",
              "        async function convertToInteractive(key) {\n",
              "          const element = document.querySelector('#df-aa704cc5-e1e0-49fc-9fec-4fbbb3782ae5');\n",
              "          const dataTable =\n",
              "            await google.colab.kernel.invokeFunction('convertToInteractive',\n",
              "                                                     [key], {});\n",
              "          if (!dataTable) return;\n",
              "\n",
              "          const docLinkHtml = 'Like what you see? Visit the ' +\n",
              "            '<a target=\"_blank\" href=https://colab.research.google.com/notebooks/data_table.ipynb>data table notebook</a>'\n",
              "            + ' to learn more about interactive tables.';\n",
              "          element.innerHTML = '';\n",
              "          dataTable['output_type'] = 'display_data';\n",
              "          await google.colab.output.renderOutput(dataTable, element);\n",
              "          const docLink = document.createElement('div');\n",
              "          docLink.innerHTML = docLinkHtml;\n",
              "          element.appendChild(docLink);\n",
              "        }\n",
              "      </script>\n",
              "    </div>\n",
              "  </div>\n",
              "  "
            ],
            "text/plain": [
              "   word\n",
              "0   aba\n",
              "1  abba\n",
              "2  xxxx"
            ]
          },
          "metadata": {}
        },
        {
          "output_type": "display_data",
          "data": {
            "application/javascript": [
              "window[\"8565b38a-682b-11ec-8f75-0242ac1c0002\"] = google.colab.output.setActiveOutputArea(window[\"855e1418-682b-11ec-8f75-0242ac1c0002\"]);\n",
              "//# sourceURL=js_99daf0953f"
            ],
            "text/plain": [
              "<IPython.core.display.Javascript object>"
            ]
          },
          "metadata": {}
        },
        {
          "output_type": "stream",
          "name": "stdout",
          "text": [
            " \n"
          ]
        },
        {
          "output_type": "display_data",
          "data": {
            "application/javascript": [
              "window[\"85676180-682b-11ec-8f75-0242ac1c0002\"] = google.colab.output.setActiveOutputArea(window[\"855b981e-682b-11ec-8f75-0242ac1c0002\"]);\n",
              "//# sourceURL=js_20b7ea62ec"
            ],
            "text/plain": [
              "<IPython.core.display.Javascript object>"
            ]
          },
          "metadata": {}
        },
        {
          "output_type": "display_data",
          "data": {
            "application/javascript": [
              "window[\"85695db4-682b-11ec-8f75-0242ac1c0002\"] = google.colab.output.getActiveOutputArea();\n",
              "//# sourceURL=js_00eb49192c"
            ],
            "text/plain": [
              "<IPython.core.display.Javascript object>"
            ]
          },
          "metadata": {}
        },
        {
          "output_type": "display_data",
          "data": {
            "application/javascript": [
              "window[\"8569b23c-682b-11ec-8f75-0242ac1c0002\"] = document.querySelector(\"#id142_content_2\");\n",
              "//# sourceURL=js_b07fae9456"
            ],
            "text/plain": [
              "<IPython.core.display.Javascript object>"
            ]
          },
          "metadata": {}
        },
        {
          "output_type": "display_data",
          "data": {
            "application/javascript": [
              "window[\"856a0ec6-682b-11ec-8f75-0242ac1c0002\"] = google.colab.output.setActiveOutputArea(window[\"8569b23c-682b-11ec-8f75-0242ac1c0002\"]);\n",
              "//# sourceURL=js_129a063569"
            ],
            "text/plain": [
              "<IPython.core.display.Javascript object>"
            ]
          },
          "metadata": {}
        },
        {
          "output_type": "display_data",
          "data": {
            "application/javascript": [
              "window[\"856a7abe-682b-11ec-8f75-0242ac1c0002\"] = window[\"id142\"].setSelectedTabIndex(2);\n",
              "//# sourceURL=js_596a945115"
            ],
            "text/plain": [
              "<IPython.core.display.Javascript object>"
            ]
          },
          "metadata": {}
        },
        {
          "output_type": "display_data",
          "data": {
            "application/javascript": [
              "window[\"856bee9e-682b-11ec-8f75-0242ac1c0002\"] = google.colab.output.getActiveOutputArea();\n",
              "//# sourceURL=js_6ef28b829d"
            ],
            "text/plain": [
              "<IPython.core.display.Javascript object>"
            ]
          },
          "metadata": {}
        },
        {
          "output_type": "display_data",
          "data": {
            "application/javascript": [
              "window[\"856c3f5c-682b-11ec-8f75-0242ac1c0002\"] = document.querySelector(\"#id145_content_1\");\n",
              "//# sourceURL=js_285d1cfc51"
            ],
            "text/plain": [
              "<IPython.core.display.Javascript object>"
            ]
          },
          "metadata": {}
        },
        {
          "output_type": "display_data",
          "data": {
            "application/javascript": [
              "window[\"856c89d0-682b-11ec-8f75-0242ac1c0002\"] = google.colab.output.setActiveOutputArea(window[\"856c3f5c-682b-11ec-8f75-0242ac1c0002\"]);\n",
              "//# sourceURL=js_0de1ddc02b"
            ],
            "text/plain": [
              "<IPython.core.display.Javascript object>"
            ]
          },
          "metadata": {}
        },
        {
          "output_type": "display_data",
          "data": {
            "application/javascript": [
              "window[\"856cec7c-682b-11ec-8f75-0242ac1c0002\"] = window[\"id145\"].setSelectedTabIndex(1);\n",
              "//# sourceURL=js_a6f3111ee1"
            ],
            "text/plain": [
              "<IPython.core.display.Javascript object>"
            ]
          },
          "metadata": {}
        },
        {
          "output_type": "stream",
          "name": "stdout",
          "text": [
            "The following table is stored at \u001b[1mPalindromeDecomposition\u001b[0m variable.\n"
          ]
        },
        {
          "output_type": "display_data",
          "data": {
            "application/vnd.google.colaboratory.module+javascript": "\n      import \"https://ssl.gstatic.com/colaboratory/data_table/a6224c040fa35dcf/data_table.js\";\n\n      window.createDataTable({\n        data: [[{\n            'v': 0,\n            'f': \"0\",\n        },\n\"aba\",\n\"[\\\"aba\\\"]\"],\n [{\n            'v': 1,\n            'f': \"1\",\n        },\n\"abaxxxx\",\n\"[\\\"aba\\\", \\\"xxxx\\\"]\"],\n [{\n            'v': 2,\n            'f': \"2\",\n        },\n\"abba\",\n\"[\\\"abba\\\"]\"],\n [{\n            'v': 3,\n            'f': \"3\",\n        },\n\"xxxx\",\n\"[\\\"xxxx\\\"]\"]],\n        columns: [[\"number\", \"index\"], [\"string\", \"word\"], [\"string\", \"parts\"]],\n        columnOptions: [{\"width\": \"1px\", \"className\": \"index_column\"}],\n        rowsPerPage: 25,\n        helpUrl: \"https://colab.research.google.com/notebooks/data_table.ipynb\",\n        suppressOutputScrolling: true,\n        minimumWidth: undefined,\n      });\n    ",
            "text/html": [
              "\n",
              "  <div id=\"df-ddebfc71-19df-40f7-a82e-249ccc9c2f12\">\n",
              "    <div class=\"colab-df-container\">\n",
              "      <div>\n",
              "<style scoped>\n",
              "    .dataframe tbody tr th:only-of-type {\n",
              "        vertical-align: middle;\n",
              "    }\n",
              "\n",
              "    .dataframe tbody tr th {\n",
              "        vertical-align: top;\n",
              "    }\n",
              "\n",
              "    .dataframe thead th {\n",
              "        text-align: right;\n",
              "    }\n",
              "</style>\n",
              "<table border=\"1\" class=\"dataframe\">\n",
              "  <thead>\n",
              "    <tr style=\"text-align: right;\">\n",
              "      <th></th>\n",
              "      <th>word</th>\n",
              "      <th>parts</th>\n",
              "    </tr>\n",
              "  </thead>\n",
              "  <tbody>\n",
              "    <tr>\n",
              "      <th>0</th>\n",
              "      <td>aba</td>\n",
              "      <td>[\"aba\"]</td>\n",
              "    </tr>\n",
              "    <tr>\n",
              "      <th>1</th>\n",
              "      <td>abaxxxx</td>\n",
              "      <td>[\"aba\", \"xxxx\"]</td>\n",
              "    </tr>\n",
              "    <tr>\n",
              "      <th>2</th>\n",
              "      <td>abba</td>\n",
              "      <td>[\"abba\"]</td>\n",
              "    </tr>\n",
              "    <tr>\n",
              "      <th>3</th>\n",
              "      <td>xxxx</td>\n",
              "      <td>[\"xxxx\"]</td>\n",
              "    </tr>\n",
              "  </tbody>\n",
              "</table>\n",
              "</div>\n",
              "      <button class=\"colab-df-convert\" onclick=\"convertToInteractive('df-ddebfc71-19df-40f7-a82e-249ccc9c2f12')\"\n",
              "              title=\"Convert this dataframe to an interactive table.\"\n",
              "              style=\"display:none;\">\n",
              "        \n",
              "  <svg xmlns=\"http://www.w3.org/2000/svg\" height=\"24px\"viewBox=\"0 0 24 24\"\n",
              "       width=\"24px\">\n",
              "    <path d=\"M0 0h24v24H0V0z\" fill=\"none\"/>\n",
              "    <path d=\"M18.56 5.44l.94 2.06.94-2.06 2.06-.94-2.06-.94-.94-2.06-.94 2.06-2.06.94zm-11 1L8.5 8.5l.94-2.06 2.06-.94-2.06-.94L8.5 2.5l-.94 2.06-2.06.94zm10 10l.94 2.06.94-2.06 2.06-.94-2.06-.94-.94-2.06-.94 2.06-2.06.94z\"/><path d=\"M17.41 7.96l-1.37-1.37c-.4-.4-.92-.59-1.43-.59-.52 0-1.04.2-1.43.59L10.3 9.45l-7.72 7.72c-.78.78-.78 2.05 0 2.83L4 21.41c.39.39.9.59 1.41.59.51 0 1.02-.2 1.41-.59l7.78-7.78 2.81-2.81c.8-.78.8-2.07 0-2.86zM5.41 20L4 18.59l7.72-7.72 1.47 1.35L5.41 20z\"/>\n",
              "  </svg>\n",
              "      </button>\n",
              "      \n",
              "  <style>\n",
              "    .colab-df-container {\n",
              "      display:flex;\n",
              "      flex-wrap:wrap;\n",
              "      gap: 12px;\n",
              "    }\n",
              "\n",
              "    .colab-df-convert {\n",
              "      background-color: #E8F0FE;\n",
              "      border: none;\n",
              "      border-radius: 50%;\n",
              "      cursor: pointer;\n",
              "      display: none;\n",
              "      fill: #1967D2;\n",
              "      height: 32px;\n",
              "      padding: 0 0 0 0;\n",
              "      width: 32px;\n",
              "    }\n",
              "\n",
              "    .colab-df-convert:hover {\n",
              "      background-color: #E2EBFA;\n",
              "      box-shadow: 0px 1px 2px rgba(60, 64, 67, 0.3), 0px 1px 3px 1px rgba(60, 64, 67, 0.15);\n",
              "      fill: #174EA6;\n",
              "    }\n",
              "\n",
              "    [theme=dark] .colab-df-convert {\n",
              "      background-color: #3B4455;\n",
              "      fill: #D2E3FC;\n",
              "    }\n",
              "\n",
              "    [theme=dark] .colab-df-convert:hover {\n",
              "      background-color: #434B5C;\n",
              "      box-shadow: 0px 1px 3px 1px rgba(0, 0, 0, 0.15);\n",
              "      filter: drop-shadow(0px 1px 2px rgba(0, 0, 0, 0.3));\n",
              "      fill: #FFFFFF;\n",
              "    }\n",
              "  </style>\n",
              "\n",
              "      <script>\n",
              "        const buttonEl =\n",
              "          document.querySelector('#df-ddebfc71-19df-40f7-a82e-249ccc9c2f12 button.colab-df-convert');\n",
              "        buttonEl.style.display =\n",
              "          google.colab.kernel.accessAllowed ? 'block' : 'none';\n",
              "\n",
              "        async function convertToInteractive(key) {\n",
              "          const element = document.querySelector('#df-ddebfc71-19df-40f7-a82e-249ccc9c2f12');\n",
              "          const dataTable =\n",
              "            await google.colab.kernel.invokeFunction('convertToInteractive',\n",
              "                                                     [key], {});\n",
              "          if (!dataTable) return;\n",
              "\n",
              "          const docLinkHtml = 'Like what you see? Visit the ' +\n",
              "            '<a target=\"_blank\" href=https://colab.research.google.com/notebooks/data_table.ipynb>data table notebook</a>'\n",
              "            + ' to learn more about interactive tables.';\n",
              "          element.innerHTML = '';\n",
              "          dataTable['output_type'] = 'display_data';\n",
              "          await google.colab.output.renderOutput(dataTable, element);\n",
              "          const docLink = document.createElement('div');\n",
              "          docLink.innerHTML = docLinkHtml;\n",
              "          element.appendChild(docLink);\n",
              "        }\n",
              "      </script>\n",
              "    </div>\n",
              "  </div>\n",
              "  "
            ],
            "text/plain": [
              "      word            parts\n",
              "0      aba          [\"aba\"]\n",
              "1  abaxxxx  [\"aba\", \"xxxx\"]\n",
              "2     abba         [\"abba\"]\n",
              "3     xxxx         [\"xxxx\"]"
            ]
          },
          "metadata": {}
        },
        {
          "output_type": "display_data",
          "data": {
            "application/javascript": [
              "window[\"8572b224-682b-11ec-8f75-0242ac1c0002\"] = google.colab.output.setActiveOutputArea(window[\"856bee9e-682b-11ec-8f75-0242ac1c0002\"]);\n",
              "//# sourceURL=js_4f3da64ab4"
            ],
            "text/plain": [
              "<IPython.core.display.Javascript object>"
            ]
          },
          "metadata": {}
        },
        {
          "output_type": "stream",
          "name": "stdout",
          "text": [
            " \n"
          ]
        },
        {
          "output_type": "display_data",
          "data": {
            "application/javascript": [
              "window[\"85759eda-682b-11ec-8f75-0242ac1c0002\"] = google.colab.output.setActiveOutputArea(window[\"85695db4-682b-11ec-8f75-0242ac1c0002\"]);\n",
              "//# sourceURL=js_d75c559037"
            ],
            "text/plain": [
              "<IPython.core.display.Javascript object>"
            ]
          },
          "metadata": {}
        }
      ]
    },
    {
      "cell_type": "code",
      "source": [
        ""
      ],
      "metadata": {
        "id": "WJF06bLKwIbp"
      },
      "execution_count": null,
      "outputs": []
    }
  ]
}