{
  "nbformat": 4,
  "nbformat_minor": 0,
  "metadata": {
    "colab": {
      "name": "Logica: Final Exam by Сергей Пищулов.ipynb\"",
      "provenance": [],
      "collapsed_sections": [],
      "include_colab_link": true
    },
    "kernelspec": {
      "name": "python3",
      "display_name": "Python 3"
    },
    "language_info": {
      "name": "python"
    }
  },
  "cells": [
    {
      "cell_type": "markdown",
      "metadata": {
        "id": "view-in-github",
        "colab_type": "text"
      },
      "source": [
        "<a href=\"https://colab.research.google.com/github/SergeyPishchulov/CurrencyConverter/blob/main/Logica_Final_Exam_by_%D0%A1%D0%B5%D1%80%D0%B3%D0%B5%D0%B9_%D0%9F%D0%B8%D1%89%D1%83%D0%BB%D0%BE%D0%B2_ipynb%22.ipynb\" target=\"_parent\"><img src=\"https://colab.research.google.com/assets/colab-badge.svg\" alt=\"Open In Colab\"/></a>"
      ]
    },
    {
      "cell_type": "markdown",
      "source": [
        "# Logic Programming for Data Analysis 2021: Final Exam\n",
        "\n",
        "`Сергей Пищулов`\n",
        "\n",
        "`spishulov@gmail.com`\n",
        "\n",
        "Original data sources:\n",
        "* https://www.kaggle.com/kenshoresearch/kensho-derived-wikimedia-data\n",
        "* https://www.kaggle.com/wosaku/crime-in-vancouver\n"
      ],
      "metadata": {
        "id": "NJNzz5W37fke"
      }
    },
    {
      "cell_type": "code",
      "execution_count": 1,
      "metadata": {
        "colab": {
          "base_uri": "https://localhost:8080/"
        },
        "id": "NRZBWCZvzc5f",
        "outputId": "9ac50815-b75b-46aa-dad2-79515a5d6dd3"
      },
      "outputs": [
        {
          "output_type": "stream",
          "name": "stdout",
          "text": [
            "Cloning into 'logica'...\n",
            "remote: Enumerating objects: 1610, done.\u001b[K\n",
            "remote: Counting objects: 100% (802/802), done.\u001b[K\n",
            "remote: Compressing objects: 100% (554/554), done.\u001b[K\n",
            "remote: Total 1610 (delta 493), reused 380 (delta 226), pack-reused 808\u001b[K\n",
            "Receiving objects: 100% (1610/1610), 3.87 MiB | 12.61 MiB/s, done.\n",
            "Resolving deltas: 100% (932/932), done.\n"
          ]
        }
      ],
      "source": [
        "!git clone https://github.com/evgskv/logica\n",
        "from logica import colab_logica"
      ]
    },
    {
      "cell_type": "code",
      "source": [
        "%load_ext google.colab.data_table"
      ],
      "metadata": {
        "id": "b04bL2wDmm3e"
      },
      "execution_count": 17,
      "outputs": []
    },
    {
      "cell_type": "code",
      "source": [
        "!gdown https://drive.google.com/uc?id=1sPVUx7LzqofzvEdcB-9JUX4qlrqW7gbe\n",
        "!unzip showbiz_and_vancouver.zip"
      ],
      "metadata": {
        "colab": {
          "base_uri": "https://localhost:8080/"
        },
        "id": "vr_XYOQIzsuV",
        "outputId": "9a87c757-562d-4cbd-9da7-bee1a641d236"
      },
      "execution_count": 2,
      "outputs": [
        {
          "output_type": "stream",
          "name": "stdout",
          "text": [
            "Downloading...\n",
            "From: https://drive.google.com/uc?id=1sPVUx7LzqofzvEdcB-9JUX4qlrqW7gbe\n",
            "To: /content/showbiz_and_vancouver.zip\n",
            "100% 25.3M/25.3M [00:00<00:00, 26.1MB/s]\n",
            "Archive:  showbiz_and_vancouver.zip\n",
            "  inflating: showbusiness.db         \n",
            "  inflating: vancouver_crime.db      \n"
          ]
        }
      ]
    },
    {
      "cell_type": "code",
      "source": [
        "%%logica SomeMovies, SomePeople, SomeRockBands, SomeAwards, ShowbusinessStats, PathFromVladimirToArnold, PathFromLyudmilaToMarilyn\n",
        "\n",
        "\n",
        "@Engine(\"sqlite\");\n",
        "@AttachDatabase(\"db\", \"showbusiness.db\");\n",
        "\n",
        "@Limit(SomeMovies, 10);\n",
        "SomeMovies(..r) :- db.movie(..r);\n",
        "\n",
        "@Limit(SomePeople, 10);\n",
        "SomePeople(..r) :- db.person(..r);\n",
        "\n",
        "@Limit(SomeRockBands, 10);\n",
        "SomeRockBands(..r) :- db.rockband(..r);\n",
        "\n",
        "@Limit(SomeAwards, 10);\n",
        "SomeAwards(..r) :- db.award(..r);\n",
        "\n",
        "ShowbusinessStats(num_movies:,\n",
        "                  num_people:,\n",
        "                  num_bands:) :-\n",
        "  num_movies += (1 :- db.movie()),\n",
        "  num_people += (1 :- db.person()),\n",
        "  num_bands += (1 :- db.rockband());\n",
        "\n",
        "#TODO Проверить на всех non-distinct предикатах, влияет ли на них distinct.\n",
        "#TODO вызвать все предикаты.\n",
        "\n",
        "#1\n",
        "LordOfRock(person_id:, person_name:) distinct :- \n",
        "  db.award(awardee_id:person_id, awardee_name:person_name, award:\"Order of the British Empire\"),\n",
        "  db.award(awardee_id:person_id, awardee_name:person_name, award:\"Rock and Roll Hall of Fame\");\n",
        "\n",
        "#2\n",
        "JuniorOrderMember(person_id:, person_name:) distinct :-\n",
        "  db.award(awardee_id:person_id, awardee_name:person_name, award:\"Order of the British Empire\"),\n",
        "  ~db.award(awardee_id:person_id, awardee_name:person_name, award:\"Commander of the Order of the British Empire\");\n",
        "\n",
        "#3 TODO\n",
        "ProminentSovietArtist(person_id:, person_name:) distinct :- \n",
        "  db.award(awardee_id:person_id, awardee_name:person_name, award:\"USSR State Prize\") | \n",
        "  db.award(awardee_id:person_id, awardee_name:person_name, award:\"People's Artist of the USSR\");\n",
        "\n",
        "#4\n",
        "BillAndCharlieButNotKevin(award:) distinct :- \n",
        "  db.award(awardee_name:\"Bill Gates\", award:),\n",
        "  db.award(awardee_name:\"Charlie Chaplin\", award:),\n",
        "  ~db.award(awardee_name:\"Kevin Spacey\", award:);\n",
        "\n",
        "#5\n",
        "RussianRockArtist(person_id:, person_name:) :- db.person(person_id:, name:person_name, citizenships:),\n",
        "  \"Russia\" in citizenships, RockArtist(person_id:);\n",
        "\n",
        "@Ground(RockArtist); \n",
        "RockArtist(person_id:) distinct :- db.rockband(members:), person_id in members;\n",
        "\n",
        "#6 TODO пустые списки, чтобы в этой таблице были все группы\n",
        "# RockBandMovies(rockband_id:, rockband_name:, movies? Set=movie_name) distinct :-\n",
        "#   db.rockband(band_id:rockband_id, name:rockband_name, members:),\n",
        "#   member in members, \n",
        "#   movie_name in MoviesByPerson(person_id:member);\n",
        "\n",
        "# @Ground(PersonInMovie); \n",
        "# MoviesByPerson(person_id:) List= movie_name distinct:- \n",
        "#   db.movie(name:movie_name, casting:), person_id in casting | RockArtist(person_id:);\n",
        "\n",
        "#7\n",
        "Medalist(person_name:, person_id:, number_of_awards:, awards:, social_circle_awards:) distinct :-\n",
        "  MedalistPartial(person_name:, person_id:, awards:, social_circle_awards:),\n",
        "  number_of_awards == Size(awards),\n",
        "  number_of_awards > 5;\n",
        "\n",
        "@Ground(MedalistPartial); \n",
        "MedalistPartial(person_name:, person_id:, awards? List= award, social_circle_awards:) distinct :-\n",
        "  db.person(person_id:, name:person_name),\n",
        "  db.award(awardee_id:person_id, award:),\n",
        "  SocialCircleAwards(person_id:, friends_awards:social_circle_awards);\n",
        "\n",
        "\n",
        "@Ground(SocialCircleAwards); \n",
        "SocialCircleAwards(person_id:, friends_awards? Set= friend_award) distinct :-\n",
        "  Circle(person1_id:person_id, person2_id:friend_id),\n",
        "  db.award(awardee_id:friend_id, award:friend_award);\n",
        "\n",
        "@Ground(Circle); \n",
        "Circle(person1_id:, person2_id:) :- db.movie(casting:),\n",
        "  person1_id in casting, \n",
        "  person2_id  in casting,\n",
        "  person1_id != person2_id;\n",
        "Circle(person1_id:, person2_id:) :- db.rockband(members:),\n",
        "  person1_id in members, \n",
        "  person2_id  in members,\n",
        "  person1_id != person2_id;\n",
        "\n",
        "Flatten(list_of_lists) = r :- r List= x, x in xs, xs in list_of_lists;\n",
        "Unique(l) = r :- r Set= x, x in l;\n",
        "\n",
        "\n",
        "#9 TODO записей примерно на 1000 меньше чем фильмов. Кажется, не все актеры есть в persons\n",
        "@Ground(CitizenshipsInMovies); \n",
        "CitizenshipsInMovies(movie_id:, movie_name:, citizenships? Set= x) distinct :-\n",
        "  db.movie(movie_id:, name:movie_name, casting:),\n",
        "  person_id in casting,\n",
        "  person(person_id:, citizenships:person_citizenships),\n",
        "  all_persons_citizenships List= person_citizenships,\n",
        "  x in Flatten(all_persons_citizenships);\n",
        "\n",
        "AukusMovie(movie_id:, movie_name:, citizenships:) :-\n",
        "  CitizenshipsInMovies(movie_id:, movie_name:, citizenships:),\n",
        "  \"Australia\" in citizenships,\n",
        "  \"United Kingdom\" in citizenships,\n",
        "  \"United States of America\" in citizenships;\n",
        "\n",
        "#10\n",
        "@Ground(CastTogether); \n",
        "CastTogether(x, y, movie:name) :- db.movie(casting:, name:),\n",
        "  x in casting, \n",
        "  y  in casting,\n",
        "  x != y;\n",
        "@Ground(VysotskyId); \n",
        "VysotskyId() = person_id :- db.person(person_id:, name:\"Vladimir Vysotsky\");\n",
        "@Ground(SchwarzeneggerId);\n",
        "SchwarzeneggerId() = person_id :- db.person(person_id:, name:\"Arnold Schwarzenegger\");\n",
        "\n",
        "@Ground(PathTo); \n",
        "@Recursive(PathTo, 3);\n",
        "PathTo(VysotskyId()) ArgMin= [VysotskyId()] -> 0;\n",
        "PathTo(y) ArgMin= path -> Size(path) :-\n",
        " PathTo(x) == path_to_x,\n",
        " CastTogether(x, y),\n",
        " path == ArrayConcat(path_to_x, [y]);\n",
        "\n",
        "#TODO Если бы 2 актера снимались в двух фильмах, то оба фильма бы попали в таблицу с одним и тем же step_number\n",
        "@Ground(OnlyPath); \n",
        "OnlyPath() =  PathTo(SchwarzeneggerId());\n",
        "PathFromVladimirToArnold(step_number:i+1, from_person:, to_person:, movie:) :-\n",
        "  i in Range(Size(path) - 1),\n",
        "  from_person_id == Element(path, i),\n",
        "  to_person_id == Element(path, i+1),\n",
        "  path == OnlyPath(),\n",
        "  CastTogether(from_person_id, to_person_id, movie:),\n",
        "  db.person(person_id:from_person_id, name:from_person),\n",
        "  db.person(person_id:to_person_id, name:to_person);\n",
        "\n",
        "\n",
        "@Ground(GurchenkoId); \n",
        "GurchenkoId() = person_id :- db.person(person_id:, name:\"Lyudmila Gurchenko\");\n",
        "@Ground(MonroeId);\n",
        "MonroeId() = person_id :- db.person(person_id:, name:\"Marilyn Monroe\");\n",
        "\n",
        "PathFromLyudmilaToMarilyn := PathFromVladimirToArnold(VysotskyId:GurchenkoId, SchwarzeneggerId: MonroeId );\n"
      ],
      "metadata": {
        "colab": {
          "resources": {
            "http://localhost:8080/nbextensions/google.colab/tabbar.css": {
              "data": "Lmdvb2ctdGFie3Bvc2l0aW9uOnJlbGF0aXZlO3BhZGRpbmc6NHB4IDhweDtjb2xvcjojMDBjO3RleHQtZGVjb3JhdGlvbjp1bmRlcmxpbmU7Y3Vyc29yOmRlZmF1bHR9Lmdvb2ctdGFiLWJhci10b3AgLmdvb2ctdGFie21hcmdpbjoxcHggNHB4IDAgMDtib3JkZXItYm90dG9tOjA7ZmxvYXQ6bGVmdH0uZ29vZy10YWItYmFyLXRvcDphZnRlciwuZ29vZy10YWItYmFyLWJvdHRvbTphZnRlcntjb250ZW50OiIgIjtkaXNwbGF5OmJsb2NrO2hlaWdodDowO2NsZWFyOmJvdGg7dmlzaWJpbGl0eTpoaWRkZW59Lmdvb2ctdGFiLWJhci1ib3R0b20gLmdvb2ctdGFie21hcmdpbjowIDRweCAxcHggMDtib3JkZXItdG9wOjA7ZmxvYXQ6bGVmdH0uZ29vZy10YWItYmFyLXN0YXJ0IC5nb29nLXRhYnttYXJnaW46MCAwIDRweCAxcHg7Ym9yZGVyLXJpZ2h0OjB9Lmdvb2ctdGFiLWJhci1lbmQgLmdvb2ctdGFie21hcmdpbjowIDFweCA0cHggMDtib3JkZXItbGVmdDowfS5nb29nLXRhYi1ob3ZlcntiYWNrZ3JvdW5kOiNlZWV9Lmdvb2ctdGFiLWRpc2FibGVke2NvbG9yOiM2NjZ9Lmdvb2ctdGFiLXNlbGVjdGVke2NvbG9yOiMwMDA7YmFja2dyb3VuZDojZmZmO3RleHQtZGVjb3JhdGlvbjpub25lO2ZvbnQtd2VpZ2h0OmJvbGQ7Ym9yZGVyOjFweCBzb2xpZCAjNmI5MGRhfS5nb29nLXRhYi1iYXItdG9we3BhZGRpbmctdG9wOjVweCFpbXBvcnRhbnQ7cGFkZGluZy1sZWZ0OjVweCFpbXBvcnRhbnQ7Ym9yZGVyLWJvdHRvbToxcHggc29saWQgIzZiOTBkYSFpbXBvcnRhbnR9Lmdvb2ctdGFiLWJhci10b3AgLmdvb2ctdGFiLXNlbGVjdGVke3RvcDoxcHg7bWFyZ2luLXRvcDowO3BhZGRpbmctYm90dG9tOjVweH0uZ29vZy10YWItYmFyLWJvdHRvbSAuZ29vZy10YWItc2VsZWN0ZWR7dG9wOi0xcHg7bWFyZ2luLWJvdHRvbTowO3BhZGRpbmctdG9wOjVweH0uZ29vZy10YWItYmFyLXN0YXJ0IC5nb29nLXRhYi1zZWxlY3RlZHtsZWZ0OjFweDttYXJnaW4tbGVmdDowO3BhZGRpbmctcmlnaHQ6OXB4fS5nb29nLXRhYi1iYXItZW5kIC5nb29nLXRhYi1zZWxlY3RlZHtsZWZ0Oi0xcHg7bWFyZ2luLXJpZ2h0OjA7cGFkZGluZy1sZWZ0OjlweH0uZ29vZy10YWItYmFye21hcmdpbjowO2JvcmRlcjowO3BhZGRpbmc6MDtsaXN0LXN0eWxlOm5vbmU7Y3Vyc29yOmRlZmF1bHQ7b3V0bGluZTpub25lO2JhY2tncm91bmQ6I2ViZWZmOX0uZ29vZy10YWItYmFyLWNsZWFye2NsZWFyOmJvdGg7aGVpZ2h0OjA7b3ZlcmZsb3c6aGlkZGVufS5nb29nLXRhYi1iYXItc3RhcnR7ZmxvYXQ6bGVmdH0uZ29vZy10YWItYmFyLWVuZHtmbG9hdDpyaWdodH0qIGh0bWwgLmdvb2ctdGFiLWJhci1zdGFydHttYXJnaW4tcmlnaHQ6LTNweH0qIGh0bWwgLmdvb2ctdGFiLWJhci1lbmR7bWFyZ2luLWxlZnQ6LTNweH0=",
              "ok": true,
              "headers": [
                [
                  "content-type",
                  "text/css"
                ]
              ],
              "status": 200,
              "status_text": ""
            },
            "http://localhost:8080/nbextensions/google.colab/tabbar_main.min.js": {
              "data": "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",
              "ok": true,
              "headers": [
                [
                  "content-type",
                  "application/javascript"
                ]
              ],
              "status": 200,
              "status_text": ""
            }
          },
          "base_uri": "https://localhost:8080/",
          "height": 308
        },
        "id": "OR3vCtEIzyu8",
        "outputId": "a6720615-4a88-43c9-f41d-95ac52c71476"
      },
      "execution_count": 67,
      "outputs": [
        {
          "output_type": "display_data",
          "data": {
            "text/html": [
              "<link rel=stylesheet type=text/css href='/nbextensions/google.colab/tabbar.css'></link>"
            ],
            "text/plain": [
              "<IPython.core.display.HTML object>"
            ]
          },
          "metadata": {}
        },
        {
          "output_type": "display_data",
          "data": {
            "text/html": [
              "<script src='/nbextensions/google.colab/tabbar_main.min.js'></script>"
            ],
            "text/plain": [
              "<IPython.core.display.HTML object>"
            ]
          },
          "metadata": {}
        },
        {
          "output_type": "display_data",
          "data": {
            "text/html": [
              "<div id=\"id326\"></div>"
            ],
            "text/plain": [
              "<IPython.core.display.HTML object>"
            ]
          },
          "metadata": {}
        },
        {
          "output_type": "display_data",
          "data": {
            "application/javascript": [
              "window[\"3e209f78-6720-11ec-87a2-0242ac1c0002\"] = colab_lib.createTabBar({\"location\": \"top\", \"elementId\": \"id326\", \"tabNames\": [\"SomeMovies\", \"SomePeople\", \"SomeRockBands\", \"SomeAwards\", \"ShowbusinessStats\", \"PathFromVladimirToArnold\", \"PathFromLyudmilaToMarilyn\", \"(Log)\"], \"initialSelection\": 0, \"contentBorder\": [\"0px\"], \"contentHeight\": [\"initial\"], \"borderColor\": [\"#a7a7a7\"]});\n",
              "//# sourceURL=js_c92813ae27"
            ],
            "text/plain": [
              "<IPython.core.display.Javascript object>"
            ]
          },
          "metadata": {}
        },
        {
          "output_type": "display_data",
          "data": {
            "application/javascript": [
              "window[\"3e20faa4-6720-11ec-87a2-0242ac1c0002\"] = window[\"id326\"].setSelectedTabIndex(0);\n",
              "//# sourceURL=js_ce9b9341f8"
            ],
            "text/plain": [
              "<IPython.core.display.Javascript object>"
            ]
          },
          "metadata": {}
        },
        {
          "output_type": "display_data",
          "data": {
            "application/javascript": [
              "window[\"3e22e7ce-6720-11ec-87a2-0242ac1c0002\"] = google.colab.output.getActiveOutputArea();\n",
              "//# sourceURL=js_1fad7b8106"
            ],
            "text/plain": [
              "<IPython.core.display.Javascript object>"
            ]
          },
          "metadata": {}
        },
        {
          "output_type": "display_data",
          "data": {
            "application/javascript": [
              "window[\"3e234ade-6720-11ec-87a2-0242ac1c0002\"] = document.querySelector(\"#id326_content_7\");\n",
              "//# sourceURL=js_91cb046b31"
            ],
            "text/plain": [
              "<IPython.core.display.Javascript object>"
            ]
          },
          "metadata": {}
        },
        {
          "output_type": "display_data",
          "data": {
            "application/javascript": [
              "window[\"3e23aa56-6720-11ec-87a2-0242ac1c0002\"] = google.colab.output.setActiveOutputArea(window[\"3e234ade-6720-11ec-87a2-0242ac1c0002\"]);\n",
              "//# sourceURL=js_03b1d90450"
            ],
            "text/plain": [
              "<IPython.core.display.Javascript object>"
            ]
          },
          "metadata": {}
        },
        {
          "output_type": "display_data",
          "data": {
            "application/javascript": [
              "window[\"3e240c26-6720-11ec-87a2-0242ac1c0002\"] = window[\"id326\"].setSelectedTabIndex(7);\n",
              "//# sourceURL=js_243105612e"
            ],
            "text/plain": [
              "<IPython.core.display.Javascript object>"
            ]
          },
          "metadata": {}
        },
        {
          "output_type": "display_data",
          "data": {
            "application/javascript": [
              "window[\"3e25d3da-6720-11ec-87a2-0242ac1c0002\"] = google.colab.output.setActiveOutputArea(window[\"3e22e7ce-6720-11ec-87a2-0242ac1c0002\"]);\n",
              "//# sourceURL=js_0c4d02de91"
            ],
            "text/plain": [
              "<IPython.core.display.Javascript object>"
            ]
          },
          "metadata": {}
        },
        {
          "output_type": "display_data",
          "data": {
            "application/javascript": [
              "window[\"3e28084e-6720-11ec-87a2-0242ac1c0002\"] = google.colab.output.getActiveOutputArea();\n",
              "//# sourceURL=js_df2dd9bcee"
            ],
            "text/plain": [
              "<IPython.core.display.Javascript object>"
            ]
          },
          "metadata": {}
        },
        {
          "output_type": "display_data",
          "data": {
            "application/javascript": [
              "window[\"3e285948-6720-11ec-87a2-0242ac1c0002\"] = document.querySelector(\"#id326_content_0\");\n",
              "//# sourceURL=js_0963e3ab5d"
            ],
            "text/plain": [
              "<IPython.core.display.Javascript object>"
            ]
          },
          "metadata": {}
        },
        {
          "output_type": "display_data",
          "data": {
            "application/javascript": [
              "window[\"3e289cf0-6720-11ec-87a2-0242ac1c0002\"] = google.colab.output.setActiveOutputArea(window[\"3e285948-6720-11ec-87a2-0242ac1c0002\"]);\n",
              "//# sourceURL=js_a0a8439915"
            ],
            "text/plain": [
              "<IPython.core.display.Javascript object>"
            ]
          },
          "metadata": {}
        },
        {
          "output_type": "display_data",
          "data": {
            "application/javascript": [
              "window[\"3e28d760-6720-11ec-87a2-0242ac1c0002\"] = window[\"id326\"].setSelectedTabIndex(0);\n",
              "//# sourceURL=js_38b8b0cb5a"
            ],
            "text/plain": [
              "<IPython.core.display.Javascript object>"
            ]
          },
          "metadata": {}
        },
        {
          "output_type": "display_data",
          "data": {
            "text/html": [
              "<link rel=stylesheet type=text/css href='/nbextensions/google.colab/tabbar.css'></link>"
            ],
            "text/plain": [
              "<IPython.core.display.HTML object>"
            ]
          },
          "metadata": {}
        },
        {
          "output_type": "display_data",
          "data": {
            "text/html": [
              "<script src='/nbextensions/google.colab/tabbar_main.min.js'></script>"
            ],
            "text/plain": [
              "<IPython.core.display.HTML object>"
            ]
          },
          "metadata": {}
        },
        {
          "output_type": "display_data",
          "data": {
            "text/html": [
              "<div id=\"id327\"></div>"
            ],
            "text/plain": [
              "<IPython.core.display.HTML object>"
            ]
          },
          "metadata": {}
        },
        {
          "output_type": "display_data",
          "data": {
            "application/javascript": [
              "window[\"3e2a820e-6720-11ec-87a2-0242ac1c0002\"] = colab_lib.createTabBar({\"location\": \"top\", \"elementId\": \"id327\", \"tabNames\": [\"SQL\", \"Result\"], \"initialSelection\": 0, \"contentBorder\": [\"0px\"], \"contentHeight\": [\"initial\"], \"borderColor\": [\"#a7a7a7\"]});\n",
              "//# sourceURL=js_561f5c4e56"
            ],
            "text/plain": [
              "<IPython.core.display.Javascript object>"
            ]
          },
          "metadata": {}
        },
        {
          "output_type": "display_data",
          "data": {
            "application/javascript": [
              "window[\"3e2accaa-6720-11ec-87a2-0242ac1c0002\"] = window[\"id327\"].setSelectedTabIndex(0);\n",
              "//# sourceURL=js_6c565e6153"
            ],
            "text/plain": [
              "<IPython.core.display.Javascript object>"
            ]
          },
          "metadata": {}
        },
        {
          "output_type": "display_data",
          "data": {
            "application/javascript": [
              "window[\"3e2c34b4-6720-11ec-87a2-0242ac1c0002\"] = google.colab.output.getActiveOutputArea();\n",
              "//# sourceURL=js_b5ba49850b"
            ],
            "text/plain": [
              "<IPython.core.display.Javascript object>"
            ]
          },
          "metadata": {}
        },
        {
          "output_type": "display_data",
          "data": {
            "application/javascript": [
              "window[\"3e2c7c9e-6720-11ec-87a2-0242ac1c0002\"] = document.querySelector(\"#id327_content_0\");\n",
              "//# sourceURL=js_b4d51bbf6a"
            ],
            "text/plain": [
              "<IPython.core.display.Javascript object>"
            ]
          },
          "metadata": {}
        },
        {
          "output_type": "display_data",
          "data": {
            "application/javascript": [
              "window[\"3e2cbf60-6720-11ec-87a2-0242ac1c0002\"] = google.colab.output.setActiveOutputArea(window[\"3e2c7c9e-6720-11ec-87a2-0242ac1c0002\"]);\n",
              "//# sourceURL=js_1d9c3f393e"
            ],
            "text/plain": [
              "<IPython.core.display.Javascript object>"
            ]
          },
          "metadata": {}
        },
        {
          "output_type": "display_data",
          "data": {
            "application/javascript": [
              "window[\"3e2d10a0-6720-11ec-87a2-0242ac1c0002\"] = window[\"id327\"].setSelectedTabIndex(0);\n",
              "//# sourceURL=js_e45c9d20b5"
            ],
            "text/plain": [
              "<IPython.core.display.Javascript object>"
            ]
          },
          "metadata": {}
        },
        {
          "output_type": "stream",
          "name": "stdout",
          "text": [
            "The following query is stored at \u001b[1mSomeMovies_sql\u001b[0m variable.\n",
            "ATTACH DATABASE 'showbusiness.db' AS db;\n",
            "ATTACH DATABASE ':memory:' AS logica_test;\n",
            "\n",
            "SELECT\n",
            "  db_movie.*\n",
            "FROM\n",
            "  db.movie AS db_movie LIMIT 10;\n"
          ]
        },
        {
          "output_type": "display_data",
          "data": {
            "application/javascript": [
              "window[\"3e2eb496-6720-11ec-87a2-0242ac1c0002\"] = google.colab.output.setActiveOutputArea(window[\"3e2c34b4-6720-11ec-87a2-0242ac1c0002\"]);\n",
              "//# sourceURL=js_bceacf797e"
            ],
            "text/plain": [
              "<IPython.core.display.Javascript object>"
            ]
          },
          "metadata": {}
        },
        {
          "output_type": "display_data",
          "data": {
            "application/javascript": [
              "window[\"3e3016ba-6720-11ec-87a2-0242ac1c0002\"] = google.colab.output.setActiveOutputArea(window[\"3e28084e-6720-11ec-87a2-0242ac1c0002\"]);\n",
              "//# sourceURL=js_0043795dd3"
            ],
            "text/plain": [
              "<IPython.core.display.Javascript object>"
            ]
          },
          "metadata": {}
        },
        {
          "output_type": "display_data",
          "data": {
            "application/javascript": [
              "window[\"3e31c5c8-6720-11ec-87a2-0242ac1c0002\"] = google.colab.output.getActiveOutputArea();\n",
              "//# sourceURL=js_b40910233b"
            ],
            "text/plain": [
              "<IPython.core.display.Javascript object>"
            ]
          },
          "metadata": {}
        },
        {
          "output_type": "display_data",
          "data": {
            "application/javascript": [
              "window[\"3e320eb6-6720-11ec-87a2-0242ac1c0002\"] = document.querySelector(\"#id326_content_7\");\n",
              "//# sourceURL=js_0c0a956421"
            ],
            "text/plain": [
              "<IPython.core.display.Javascript object>"
            ]
          },
          "metadata": {}
        },
        {
          "output_type": "display_data",
          "data": {
            "application/javascript": [
              "window[\"3e325862-6720-11ec-87a2-0242ac1c0002\"] = google.colab.output.setActiveOutputArea(window[\"3e320eb6-6720-11ec-87a2-0242ac1c0002\"]);\n",
              "//# sourceURL=js_8dfa0e2624"
            ],
            "text/plain": [
              "<IPython.core.display.Javascript object>"
            ]
          },
          "metadata": {}
        },
        {
          "output_type": "display_data",
          "data": {
            "application/javascript": [
              "window[\"3e329fb6-6720-11ec-87a2-0242ac1c0002\"] = window[\"id326\"].setSelectedTabIndex(7);\n",
              "//# sourceURL=js_248faf2fb8"
            ],
            "text/plain": [
              "<IPython.core.display.Javascript object>"
            ]
          },
          "metadata": {}
        },
        {
          "output_type": "display_data",
          "data": {
            "application/javascript": [
              "window[\"3e33dae8-6720-11ec-87a2-0242ac1c0002\"] = google.colab.output.setActiveOutputArea(window[\"3e31c5c8-6720-11ec-87a2-0242ac1c0002\"]);\n",
              "//# sourceURL=js_d7cf3e4ebe"
            ],
            "text/plain": [
              "<IPython.core.display.Javascript object>"
            ]
          },
          "metadata": {}
        },
        {
          "output_type": "display_data",
          "data": {
            "application/javascript": [
              "window[\"3e3585d2-6720-11ec-87a2-0242ac1c0002\"] = google.colab.output.getActiveOutputArea();\n",
              "//# sourceURL=js_61668eb75f"
            ],
            "text/plain": [
              "<IPython.core.display.Javascript object>"
            ]
          },
          "metadata": {}
        },
        {
          "output_type": "display_data",
          "data": {
            "application/javascript": [
              "window[\"3e35cd9e-6720-11ec-87a2-0242ac1c0002\"] = document.querySelector(\"#id326_content_1\");\n",
              "//# sourceURL=js_02477bd280"
            ],
            "text/plain": [
              "<IPython.core.display.Javascript object>"
            ]
          },
          "metadata": {}
        },
        {
          "output_type": "display_data",
          "data": {
            "application/javascript": [
              "window[\"3e361894-6720-11ec-87a2-0242ac1c0002\"] = google.colab.output.setActiveOutputArea(window[\"3e35cd9e-6720-11ec-87a2-0242ac1c0002\"]);\n",
              "//# sourceURL=js_77a2fa82dc"
            ],
            "text/plain": [
              "<IPython.core.display.Javascript object>"
            ]
          },
          "metadata": {}
        },
        {
          "output_type": "display_data",
          "data": {
            "application/javascript": [
              "window[\"3e3661b4-6720-11ec-87a2-0242ac1c0002\"] = window[\"id326\"].setSelectedTabIndex(1);\n",
              "//# sourceURL=js_7d18d09d9f"
            ],
            "text/plain": [
              "<IPython.core.display.Javascript object>"
            ]
          },
          "metadata": {}
        },
        {
          "output_type": "display_data",
          "data": {
            "text/html": [
              "<link rel=stylesheet type=text/css href='/nbextensions/google.colab/tabbar.css'></link>"
            ],
            "text/plain": [
              "<IPython.core.display.HTML object>"
            ]
          },
          "metadata": {}
        },
        {
          "output_type": "display_data",
          "data": {
            "text/html": [
              "<script src='/nbextensions/google.colab/tabbar_main.min.js'></script>"
            ],
            "text/plain": [
              "<IPython.core.display.HTML object>"
            ]
          },
          "metadata": {}
        },
        {
          "output_type": "display_data",
          "data": {
            "text/html": [
              "<div id=\"id328\"></div>"
            ],
            "text/plain": [
              "<IPython.core.display.HTML object>"
            ]
          },
          "metadata": {}
        },
        {
          "output_type": "display_data",
          "data": {
            "application/javascript": [
              "window[\"3e38247c-6720-11ec-87a2-0242ac1c0002\"] = colab_lib.createTabBar({\"location\": \"top\", \"elementId\": \"id328\", \"tabNames\": [\"SQL\", \"Result\"], \"initialSelection\": 0, \"contentBorder\": [\"0px\"], \"contentHeight\": [\"initial\"], \"borderColor\": [\"#a7a7a7\"]});\n",
              "//# sourceURL=js_c268909155"
            ],
            "text/plain": [
              "<IPython.core.display.Javascript object>"
            ]
          },
          "metadata": {}
        },
        {
          "output_type": "display_data",
          "data": {
            "application/javascript": [
              "window[\"3e386b58-6720-11ec-87a2-0242ac1c0002\"] = window[\"id328\"].setSelectedTabIndex(0);\n",
              "//# sourceURL=js_ef0b01588b"
            ],
            "text/plain": [
              "<IPython.core.display.Javascript object>"
            ]
          },
          "metadata": {}
        },
        {
          "output_type": "display_data",
          "data": {
            "application/javascript": [
              "window[\"3e39d042-6720-11ec-87a2-0242ac1c0002\"] = google.colab.output.getActiveOutputArea();\n",
              "//# sourceURL=js_1fd560c069"
            ],
            "text/plain": [
              "<IPython.core.display.Javascript object>"
            ]
          },
          "metadata": {}
        },
        {
          "output_type": "display_data",
          "data": {
            "application/javascript": [
              "window[\"3e3a1570-6720-11ec-87a2-0242ac1c0002\"] = document.querySelector(\"#id328_content_0\");\n",
              "//# sourceURL=js_15b8bf91f3"
            ],
            "text/plain": [
              "<IPython.core.display.Javascript object>"
            ]
          },
          "metadata": {}
        },
        {
          "output_type": "display_data",
          "data": {
            "application/javascript": [
              "window[\"3e3a5ff8-6720-11ec-87a2-0242ac1c0002\"] = google.colab.output.setActiveOutputArea(window[\"3e3a1570-6720-11ec-87a2-0242ac1c0002\"]);\n",
              "//# sourceURL=js_4f9ad42d8a"
            ],
            "text/plain": [
              "<IPython.core.display.Javascript object>"
            ]
          },
          "metadata": {}
        },
        {
          "output_type": "display_data",
          "data": {
            "application/javascript": [
              "window[\"3e3aa828-6720-11ec-87a2-0242ac1c0002\"] = window[\"id328\"].setSelectedTabIndex(0);\n",
              "//# sourceURL=js_98395d2c74"
            ],
            "text/plain": [
              "<IPython.core.display.Javascript object>"
            ]
          },
          "metadata": {}
        },
        {
          "output_type": "stream",
          "name": "stdout",
          "text": [
            "The following query is stored at \u001b[1mSomePeople_sql\u001b[0m variable.\n",
            "ATTACH DATABASE 'showbusiness.db' AS db;\n",
            "ATTACH DATABASE ':memory:' AS logica_test;\n",
            "\n",
            "SELECT\n",
            "  db_person.*\n",
            "FROM\n",
            "  db.person AS db_person LIMIT 10;\n"
          ]
        },
        {
          "output_type": "display_data",
          "data": {
            "application/javascript": [
              "window[\"3e3bae12-6720-11ec-87a2-0242ac1c0002\"] = google.colab.output.setActiveOutputArea(window[\"3e39d042-6720-11ec-87a2-0242ac1c0002\"]);\n",
              "//# sourceURL=js_cdfa55befb"
            ],
            "text/plain": [
              "<IPython.core.display.Javascript object>"
            ]
          },
          "metadata": {}
        },
        {
          "output_type": "display_data",
          "data": {
            "application/javascript": [
              "window[\"3e3d001e-6720-11ec-87a2-0242ac1c0002\"] = google.colab.output.setActiveOutputArea(window[\"3e3585d2-6720-11ec-87a2-0242ac1c0002\"]);\n",
              "//# sourceURL=js_c26caa3758"
            ],
            "text/plain": [
              "<IPython.core.display.Javascript object>"
            ]
          },
          "metadata": {}
        },
        {
          "output_type": "display_data",
          "data": {
            "application/javascript": [
              "window[\"3e3ead24-6720-11ec-87a2-0242ac1c0002\"] = google.colab.output.getActiveOutputArea();\n",
              "//# sourceURL=js_14eb72bc1d"
            ],
            "text/plain": [
              "<IPython.core.display.Javascript object>"
            ]
          },
          "metadata": {}
        },
        {
          "output_type": "display_data",
          "data": {
            "application/javascript": [
              "window[\"3e3ef6f8-6720-11ec-87a2-0242ac1c0002\"] = document.querySelector(\"#id326_content_7\");\n",
              "//# sourceURL=js_7afdd6c5ef"
            ],
            "text/plain": [
              "<IPython.core.display.Javascript object>"
            ]
          },
          "metadata": {}
        },
        {
          "output_type": "display_data",
          "data": {
            "application/javascript": [
              "window[\"3e3f3dca-6720-11ec-87a2-0242ac1c0002\"] = google.colab.output.setActiveOutputArea(window[\"3e3ef6f8-6720-11ec-87a2-0242ac1c0002\"]);\n",
              "//# sourceURL=js_f90d2f90ef"
            ],
            "text/plain": [
              "<IPython.core.display.Javascript object>"
            ]
          },
          "metadata": {}
        },
        {
          "output_type": "display_data",
          "data": {
            "application/javascript": [
              "window[\"3e3f887a-6720-11ec-87a2-0242ac1c0002\"] = window[\"id326\"].setSelectedTabIndex(7);\n",
              "//# sourceURL=js_8e33745cb8"
            ],
            "text/plain": [
              "<IPython.core.display.Javascript object>"
            ]
          },
          "metadata": {}
        },
        {
          "output_type": "display_data",
          "data": {
            "application/javascript": [
              "window[\"3e40d2e8-6720-11ec-87a2-0242ac1c0002\"] = google.colab.output.setActiveOutputArea(window[\"3e3ead24-6720-11ec-87a2-0242ac1c0002\"]);\n",
              "//# sourceURL=js_c12eecc866"
            ],
            "text/plain": [
              "<IPython.core.display.Javascript object>"
            ]
          },
          "metadata": {}
        },
        {
          "output_type": "display_data",
          "data": {
            "application/javascript": [
              "window[\"3e427d1e-6720-11ec-87a2-0242ac1c0002\"] = google.colab.output.getActiveOutputArea();\n",
              "//# sourceURL=js_41776a8052"
            ],
            "text/plain": [
              "<IPython.core.display.Javascript object>"
            ]
          },
          "metadata": {}
        },
        {
          "output_type": "display_data",
          "data": {
            "application/javascript": [
              "window[\"3e42bf72-6720-11ec-87a2-0242ac1c0002\"] = document.querySelector(\"#id326_content_2\");\n",
              "//# sourceURL=js_6abf0fb087"
            ],
            "text/plain": [
              "<IPython.core.display.Javascript object>"
            ]
          },
          "metadata": {}
        },
        {
          "output_type": "display_data",
          "data": {
            "application/javascript": [
              "window[\"3e43096e-6720-11ec-87a2-0242ac1c0002\"] = google.colab.output.setActiveOutputArea(window[\"3e42bf72-6720-11ec-87a2-0242ac1c0002\"]);\n",
              "//# sourceURL=js_d74607922d"
            ],
            "text/plain": [
              "<IPython.core.display.Javascript object>"
            ]
          },
          "metadata": {}
        },
        {
          "output_type": "display_data",
          "data": {
            "application/javascript": [
              "window[\"3e435252-6720-11ec-87a2-0242ac1c0002\"] = window[\"id326\"].setSelectedTabIndex(2);\n",
              "//# sourceURL=js_3f18ae9e49"
            ],
            "text/plain": [
              "<IPython.core.display.Javascript object>"
            ]
          },
          "metadata": {}
        },
        {
          "output_type": "display_data",
          "data": {
            "text/html": [
              "<link rel=stylesheet type=text/css href='/nbextensions/google.colab/tabbar.css'></link>"
            ],
            "text/plain": [
              "<IPython.core.display.HTML object>"
            ]
          },
          "metadata": {}
        },
        {
          "output_type": "display_data",
          "data": {
            "text/html": [
              "<script src='/nbextensions/google.colab/tabbar_main.min.js'></script>"
            ],
            "text/plain": [
              "<IPython.core.display.HTML object>"
            ]
          },
          "metadata": {}
        },
        {
          "output_type": "display_data",
          "data": {
            "text/html": [
              "<div id=\"id329\"></div>"
            ],
            "text/plain": [
              "<IPython.core.display.HTML object>"
            ]
          },
          "metadata": {}
        },
        {
          "output_type": "display_data",
          "data": {
            "application/javascript": [
              "window[\"3e45107e-6720-11ec-87a2-0242ac1c0002\"] = colab_lib.createTabBar({\"location\": \"top\", \"elementId\": \"id329\", \"tabNames\": [\"SQL\", \"Result\"], \"initialSelection\": 0, \"contentBorder\": [\"0px\"], \"contentHeight\": [\"initial\"], \"borderColor\": [\"#a7a7a7\"]});\n",
              "//# sourceURL=js_1589ef85a7"
            ],
            "text/plain": [
              "<IPython.core.display.Javascript object>"
            ]
          },
          "metadata": {}
        },
        {
          "output_type": "display_data",
          "data": {
            "application/javascript": [
              "window[\"3e455df4-6720-11ec-87a2-0242ac1c0002\"] = window[\"id329\"].setSelectedTabIndex(0);\n",
              "//# sourceURL=js_8ee6735600"
            ],
            "text/plain": [
              "<IPython.core.display.Javascript object>"
            ]
          },
          "metadata": {}
        },
        {
          "output_type": "display_data",
          "data": {
            "application/javascript": [
              "window[\"3e47515e-6720-11ec-87a2-0242ac1c0002\"] = google.colab.output.getActiveOutputArea();\n",
              "//# sourceURL=js_714b332366"
            ],
            "text/plain": [
              "<IPython.core.display.Javascript object>"
            ]
          },
          "metadata": {}
        },
        {
          "output_type": "display_data",
          "data": {
            "application/javascript": [
              "window[\"3e479ace-6720-11ec-87a2-0242ac1c0002\"] = document.querySelector(\"#id329_content_0\");\n",
              "//# sourceURL=js_e4573be2f1"
            ],
            "text/plain": [
              "<IPython.core.display.Javascript object>"
            ]
          },
          "metadata": {}
        },
        {
          "output_type": "display_data",
          "data": {
            "application/javascript": [
              "window[\"3e47ec36-6720-11ec-87a2-0242ac1c0002\"] = google.colab.output.setActiveOutputArea(window[\"3e479ace-6720-11ec-87a2-0242ac1c0002\"]);\n",
              "//# sourceURL=js_d73a546a0f"
            ],
            "text/plain": [
              "<IPython.core.display.Javascript object>"
            ]
          },
          "metadata": {}
        },
        {
          "output_type": "display_data",
          "data": {
            "application/javascript": [
              "window[\"3e4831dc-6720-11ec-87a2-0242ac1c0002\"] = window[\"id329\"].setSelectedTabIndex(0);\n",
              "//# sourceURL=js_e5e2fb4194"
            ],
            "text/plain": [
              "<IPython.core.display.Javascript object>"
            ]
          },
          "metadata": {}
        },
        {
          "output_type": "stream",
          "name": "stdout",
          "text": [
            "The following query is stored at \u001b[1mSomeRockBands_sql\u001b[0m variable.\n",
            "ATTACH DATABASE 'showbusiness.db' AS db;\n",
            "ATTACH DATABASE ':memory:' AS logica_test;\n",
            "\n",
            "SELECT\n",
            "  db_rockband.*\n",
            "FROM\n",
            "  db.rockband AS db_rockband LIMIT 10;\n"
          ]
        },
        {
          "output_type": "display_data",
          "data": {
            "application/javascript": [
              "window[\"3e494fd6-6720-11ec-87a2-0242ac1c0002\"] = google.colab.output.setActiveOutputArea(window[\"3e47515e-6720-11ec-87a2-0242ac1c0002\"]);\n",
              "//# sourceURL=js_0c7dff676a"
            ],
            "text/plain": [
              "<IPython.core.display.Javascript object>"
            ]
          },
          "metadata": {}
        },
        {
          "output_type": "display_data",
          "data": {
            "application/javascript": [
              "window[\"3e4a9814-6720-11ec-87a2-0242ac1c0002\"] = google.colab.output.setActiveOutputArea(window[\"3e427d1e-6720-11ec-87a2-0242ac1c0002\"]);\n",
              "//# sourceURL=js_5394a3d811"
            ],
            "text/plain": [
              "<IPython.core.display.Javascript object>"
            ]
          },
          "metadata": {}
        },
        {
          "output_type": "display_data",
          "data": {
            "application/javascript": [
              "window[\"3e4c2b20-6720-11ec-87a2-0242ac1c0002\"] = google.colab.output.getActiveOutputArea();\n",
              "//# sourceURL=js_dbf103c8e3"
            ],
            "text/plain": [
              "<IPython.core.display.Javascript object>"
            ]
          },
          "metadata": {}
        },
        {
          "output_type": "display_data",
          "data": {
            "application/javascript": [
              "window[\"3e4c7120-6720-11ec-87a2-0242ac1c0002\"] = document.querySelector(\"#id326_content_7\");\n",
              "//# sourceURL=js_9ce099a082"
            ],
            "text/plain": [
              "<IPython.core.display.Javascript object>"
            ]
          },
          "metadata": {}
        },
        {
          "output_type": "display_data",
          "data": {
            "application/javascript": [
              "window[\"3e4cbbc6-6720-11ec-87a2-0242ac1c0002\"] = google.colab.output.setActiveOutputArea(window[\"3e4c7120-6720-11ec-87a2-0242ac1c0002\"]);\n",
              "//# sourceURL=js_86cc1e7d27"
            ],
            "text/plain": [
              "<IPython.core.display.Javascript object>"
            ]
          },
          "metadata": {}
        },
        {
          "output_type": "display_data",
          "data": {
            "application/javascript": [
              "window[\"3e4d0374-6720-11ec-87a2-0242ac1c0002\"] = window[\"id326\"].setSelectedTabIndex(7);\n",
              "//# sourceURL=js_472be641c0"
            ],
            "text/plain": [
              "<IPython.core.display.Javascript object>"
            ]
          },
          "metadata": {}
        },
        {
          "output_type": "display_data",
          "data": {
            "application/javascript": [
              "window[\"3e4e4afe-6720-11ec-87a2-0242ac1c0002\"] = google.colab.output.setActiveOutputArea(window[\"3e4c2b20-6720-11ec-87a2-0242ac1c0002\"]);\n",
              "//# sourceURL=js_ce9371b120"
            ],
            "text/plain": [
              "<IPython.core.display.Javascript object>"
            ]
          },
          "metadata": {}
        },
        {
          "output_type": "display_data",
          "data": {
            "application/javascript": [
              "window[\"3e4ff700-6720-11ec-87a2-0242ac1c0002\"] = google.colab.output.getActiveOutputArea();\n",
              "//# sourceURL=js_73c1bf1f06"
            ],
            "text/plain": [
              "<IPython.core.display.Javascript object>"
            ]
          },
          "metadata": {}
        },
        {
          "output_type": "display_data",
          "data": {
            "application/javascript": [
              "window[\"3e5041a6-6720-11ec-87a2-0242ac1c0002\"] = document.querySelector(\"#id326_content_3\");\n",
              "//# sourceURL=js_b39bac1616"
            ],
            "text/plain": [
              "<IPython.core.display.Javascript object>"
            ]
          },
          "metadata": {}
        },
        {
          "output_type": "display_data",
          "data": {
            "application/javascript": [
              "window[\"3e508576-6720-11ec-87a2-0242ac1c0002\"] = google.colab.output.setActiveOutputArea(window[\"3e5041a6-6720-11ec-87a2-0242ac1c0002\"]);\n",
              "//# sourceURL=js_c2e291b42d"
            ],
            "text/plain": [
              "<IPython.core.display.Javascript object>"
            ]
          },
          "metadata": {}
        },
        {
          "output_type": "display_data",
          "data": {
            "application/javascript": [
              "window[\"3e50c860-6720-11ec-87a2-0242ac1c0002\"] = window[\"id326\"].setSelectedTabIndex(3);\n",
              "//# sourceURL=js_2dbc95acb2"
            ],
            "text/plain": [
              "<IPython.core.display.Javascript object>"
            ]
          },
          "metadata": {}
        },
        {
          "output_type": "display_data",
          "data": {
            "text/html": [
              "<link rel=stylesheet type=text/css href='/nbextensions/google.colab/tabbar.css'></link>"
            ],
            "text/plain": [
              "<IPython.core.display.HTML object>"
            ]
          },
          "metadata": {}
        },
        {
          "output_type": "display_data",
          "data": {
            "text/html": [
              "<script src='/nbextensions/google.colab/tabbar_main.min.js'></script>"
            ],
            "text/plain": [
              "<IPython.core.display.HTML object>"
            ]
          },
          "metadata": {}
        },
        {
          "output_type": "display_data",
          "data": {
            "text/html": [
              "<div id=\"id330\"></div>"
            ],
            "text/plain": [
              "<IPython.core.display.HTML object>"
            ]
          },
          "metadata": {}
        },
        {
          "output_type": "display_data",
          "data": {
            "application/javascript": [
              "window[\"3e529032-6720-11ec-87a2-0242ac1c0002\"] = colab_lib.createTabBar({\"location\": \"top\", \"elementId\": \"id330\", \"tabNames\": [\"SQL\", \"Result\"], \"initialSelection\": 0, \"contentBorder\": [\"0px\"], \"contentHeight\": [\"initial\"], \"borderColor\": [\"#a7a7a7\"]});\n",
              "//# sourceURL=js_2894d121a5"
            ],
            "text/plain": [
              "<IPython.core.display.Javascript object>"
            ]
          },
          "metadata": {}
        },
        {
          "output_type": "display_data",
          "data": {
            "application/javascript": [
              "window[\"3e52e15e-6720-11ec-87a2-0242ac1c0002\"] = window[\"id330\"].setSelectedTabIndex(0);\n",
              "//# sourceURL=js_b2828ba4e2"
            ],
            "text/plain": [
              "<IPython.core.display.Javascript object>"
            ]
          },
          "metadata": {}
        },
        {
          "output_type": "display_data",
          "data": {
            "application/javascript": [
              "window[\"3e544e7c-6720-11ec-87a2-0242ac1c0002\"] = google.colab.output.getActiveOutputArea();\n",
              "//# sourceURL=js_2f0702c375"
            ],
            "text/plain": [
              "<IPython.core.display.Javascript object>"
            ]
          },
          "metadata": {}
        },
        {
          "output_type": "display_data",
          "data": {
            "application/javascript": [
              "window[\"3e549a12-6720-11ec-87a2-0242ac1c0002\"] = document.querySelector(\"#id330_content_0\");\n",
              "//# sourceURL=js_f302e5f20f"
            ],
            "text/plain": [
              "<IPython.core.display.Javascript object>"
            ]
          },
          "metadata": {}
        },
        {
          "output_type": "display_data",
          "data": {
            "application/javascript": [
              "window[\"3e54e30a-6720-11ec-87a2-0242ac1c0002\"] = google.colab.output.setActiveOutputArea(window[\"3e549a12-6720-11ec-87a2-0242ac1c0002\"]);\n",
              "//# sourceURL=js_deb2598830"
            ],
            "text/plain": [
              "<IPython.core.display.Javascript object>"
            ]
          },
          "metadata": {}
        },
        {
          "output_type": "display_data",
          "data": {
            "application/javascript": [
              "window[\"3e552b8a-6720-11ec-87a2-0242ac1c0002\"] = window[\"id330\"].setSelectedTabIndex(0);\n",
              "//# sourceURL=js_e1e8d00d8b"
            ],
            "text/plain": [
              "<IPython.core.display.Javascript object>"
            ]
          },
          "metadata": {}
        },
        {
          "output_type": "stream",
          "name": "stdout",
          "text": [
            "The following query is stored at \u001b[1mSomeAwards_sql\u001b[0m variable.\n",
            "ATTACH DATABASE 'showbusiness.db' AS db;\n",
            "ATTACH DATABASE ':memory:' AS logica_test;\n",
            "\n",
            "SELECT\n",
            "  db_award.*\n",
            "FROM\n",
            "  db.award AS db_award LIMIT 10;\n"
          ]
        },
        {
          "output_type": "display_data",
          "data": {
            "application/javascript": [
              "window[\"3e564dc6-6720-11ec-87a2-0242ac1c0002\"] = google.colab.output.setActiveOutputArea(window[\"3e544e7c-6720-11ec-87a2-0242ac1c0002\"]);\n",
              "//# sourceURL=js_3d5dbca4a4"
            ],
            "text/plain": [
              "<IPython.core.display.Javascript object>"
            ]
          },
          "metadata": {}
        },
        {
          "output_type": "display_data",
          "data": {
            "application/javascript": [
              "window[\"3e578240-6720-11ec-87a2-0242ac1c0002\"] = google.colab.output.setActiveOutputArea(window[\"3e4ff700-6720-11ec-87a2-0242ac1c0002\"]);\n",
              "//# sourceURL=js_a4d66dd854"
            ],
            "text/plain": [
              "<IPython.core.display.Javascript object>"
            ]
          },
          "metadata": {}
        },
        {
          "output_type": "display_data",
          "data": {
            "application/javascript": [
              "window[\"3e5911e6-6720-11ec-87a2-0242ac1c0002\"] = google.colab.output.getActiveOutputArea();\n",
              "//# sourceURL=js_37347cc6fa"
            ],
            "text/plain": [
              "<IPython.core.display.Javascript object>"
            ]
          },
          "metadata": {}
        },
        {
          "output_type": "display_data",
          "data": {
            "application/javascript": [
              "window[\"3e595dc2-6720-11ec-87a2-0242ac1c0002\"] = document.querySelector(\"#id326_content_7\");\n",
              "//# sourceURL=js_d854a65e6b"
            ],
            "text/plain": [
              "<IPython.core.display.Javascript object>"
            ]
          },
          "metadata": {}
        },
        {
          "output_type": "display_data",
          "data": {
            "application/javascript": [
              "window[\"3e59a4bc-6720-11ec-87a2-0242ac1c0002\"] = google.colab.output.setActiveOutputArea(window[\"3e595dc2-6720-11ec-87a2-0242ac1c0002\"]);\n",
              "//# sourceURL=js_a237a704ca"
            ],
            "text/plain": [
              "<IPython.core.display.Javascript object>"
            ]
          },
          "metadata": {}
        },
        {
          "output_type": "display_data",
          "data": {
            "application/javascript": [
              "window[\"3e59ef44-6720-11ec-87a2-0242ac1c0002\"] = window[\"id326\"].setSelectedTabIndex(7);\n",
              "//# sourceURL=js_be17291c50"
            ],
            "text/plain": [
              "<IPython.core.display.Javascript object>"
            ]
          },
          "metadata": {}
        },
        {
          "output_type": "display_data",
          "data": {
            "application/javascript": [
              "window[\"3e5fb0aa-6720-11ec-87a2-0242ac1c0002\"] = google.colab.output.setActiveOutputArea(window[\"3e5911e6-6720-11ec-87a2-0242ac1c0002\"]);\n",
              "//# sourceURL=js_1867011f7e"
            ],
            "text/plain": [
              "<IPython.core.display.Javascript object>"
            ]
          },
          "metadata": {}
        },
        {
          "output_type": "display_data",
          "data": {
            "application/javascript": [
              "window[\"3e615bd0-6720-11ec-87a2-0242ac1c0002\"] = google.colab.output.getActiveOutputArea();\n",
              "//# sourceURL=js_f90cc85231"
            ],
            "text/plain": [
              "<IPython.core.display.Javascript object>"
            ]
          },
          "metadata": {}
        },
        {
          "output_type": "display_data",
          "data": {
            "application/javascript": [
              "window[\"3e61abbc-6720-11ec-87a2-0242ac1c0002\"] = document.querySelector(\"#id326_content_4\");\n",
              "//# sourceURL=js_e3d94dbf8b"
            ],
            "text/plain": [
              "<IPython.core.display.Javascript object>"
            ]
          },
          "metadata": {}
        },
        {
          "output_type": "display_data",
          "data": {
            "application/javascript": [
              "window[\"3e61f590-6720-11ec-87a2-0242ac1c0002\"] = google.colab.output.setActiveOutputArea(window[\"3e61abbc-6720-11ec-87a2-0242ac1c0002\"]);\n",
              "//# sourceURL=js_2732f2547e"
            ],
            "text/plain": [
              "<IPython.core.display.Javascript object>"
            ]
          },
          "metadata": {}
        },
        {
          "output_type": "display_data",
          "data": {
            "application/javascript": [
              "window[\"3e623a78-6720-11ec-87a2-0242ac1c0002\"] = window[\"id326\"].setSelectedTabIndex(4);\n",
              "//# sourceURL=js_06bdc45644"
            ],
            "text/plain": [
              "<IPython.core.display.Javascript object>"
            ]
          },
          "metadata": {}
        },
        {
          "output_type": "display_data",
          "data": {
            "text/html": [
              "<link rel=stylesheet type=text/css href='/nbextensions/google.colab/tabbar.css'></link>"
            ],
            "text/plain": [
              "<IPython.core.display.HTML object>"
            ]
          },
          "metadata": {}
        },
        {
          "output_type": "display_data",
          "data": {
            "text/html": [
              "<script src='/nbextensions/google.colab/tabbar_main.min.js'></script>"
            ],
            "text/plain": [
              "<IPython.core.display.HTML object>"
            ]
          },
          "metadata": {}
        },
        {
          "output_type": "display_data",
          "data": {
            "text/html": [
              "<div id=\"id331\"></div>"
            ],
            "text/plain": [
              "<IPython.core.display.HTML object>"
            ]
          },
          "metadata": {}
        },
        {
          "output_type": "display_data",
          "data": {
            "application/javascript": [
              "window[\"3e63dc7a-6720-11ec-87a2-0242ac1c0002\"] = colab_lib.createTabBar({\"location\": \"top\", \"elementId\": \"id331\", \"tabNames\": [\"SQL\", \"Result\"], \"initialSelection\": 0, \"contentBorder\": [\"0px\"], \"contentHeight\": [\"initial\"], \"borderColor\": [\"#a7a7a7\"]});\n",
              "//# sourceURL=js_4c0e9d51af"
            ],
            "text/plain": [
              "<IPython.core.display.Javascript object>"
            ]
          },
          "metadata": {}
        },
        {
          "output_type": "display_data",
          "data": {
            "application/javascript": [
              "window[\"3e6420ae-6720-11ec-87a2-0242ac1c0002\"] = window[\"id331\"].setSelectedTabIndex(0);\n",
              "//# sourceURL=js_66aabd3cba"
            ],
            "text/plain": [
              "<IPython.core.display.Javascript object>"
            ]
          },
          "metadata": {}
        },
        {
          "output_type": "display_data",
          "data": {
            "application/javascript": [
              "window[\"3e6570b2-6720-11ec-87a2-0242ac1c0002\"] = google.colab.output.getActiveOutputArea();\n",
              "//# sourceURL=js_e2809976bc"
            ],
            "text/plain": [
              "<IPython.core.display.Javascript object>"
            ]
          },
          "metadata": {}
        },
        {
          "output_type": "display_data",
          "data": {
            "application/javascript": [
              "window[\"3e65b630-6720-11ec-87a2-0242ac1c0002\"] = document.querySelector(\"#id331_content_0\");\n",
              "//# sourceURL=js_25d988e00d"
            ],
            "text/plain": [
              "<IPython.core.display.Javascript object>"
            ]
          },
          "metadata": {}
        },
        {
          "output_type": "display_data",
          "data": {
            "application/javascript": [
              "window[\"3e66018a-6720-11ec-87a2-0242ac1c0002\"] = google.colab.output.setActiveOutputArea(window[\"3e65b630-6720-11ec-87a2-0242ac1c0002\"]);\n",
              "//# sourceURL=js_589e6d4493"
            ],
            "text/plain": [
              "<IPython.core.display.Javascript object>"
            ]
          },
          "metadata": {}
        },
        {
          "output_type": "display_data",
          "data": {
            "application/javascript": [
              "window[\"3e664d48-6720-11ec-87a2-0242ac1c0002\"] = window[\"id331\"].setSelectedTabIndex(0);\n",
              "//# sourceURL=js_264bf3357c"
            ],
            "text/plain": [
              "<IPython.core.display.Javascript object>"
            ]
          },
          "metadata": {}
        },
        {
          "output_type": "stream",
          "name": "stdout",
          "text": [
            "The following query is stored at \u001b[1mShowbusinessStats_sql\u001b[0m variable.\n",
            "ATTACH DATABASE 'showbusiness.db' AS db;\n",
            "ATTACH DATABASE ':memory:' AS logica_test;\n",
            "\n",
            "SELECT\n",
            "  (SELECT\n",
            "  SUM(MagicalEntangle(1, x_4.value)) AS logica_value\n",
            "FROM\n",
            "  db.movie AS db_movie, JSON_EACH(JSON_ARRAY(0)) as x_4) AS num_movies,\n",
            "  (SELECT\n",
            "  SUM(MagicalEntangle(1, x_6.value)) AS logica_value\n",
            "FROM\n",
            "  db.person AS db_person, JSON_EACH(JSON_ARRAY(0)) as x_6) AS num_people,\n",
            "  (SELECT\n",
            "  SUM(MagicalEntangle(1, x_8.value)) AS logica_value\n",
            "FROM\n",
            "  db.rockband AS db_rockband, JSON_EACH(JSON_ARRAY(0)) as x_8) AS num_bands;\n"
          ]
        },
        {
          "output_type": "display_data",
          "data": {
            "application/javascript": [
              "window[\"3e676412-6720-11ec-87a2-0242ac1c0002\"] = google.colab.output.setActiveOutputArea(window[\"3e6570b2-6720-11ec-87a2-0242ac1c0002\"]);\n",
              "//# sourceURL=js_587e5021e4"
            ],
            "text/plain": [
              "<IPython.core.display.Javascript object>"
            ]
          },
          "metadata": {}
        },
        {
          "output_type": "display_data",
          "data": {
            "application/javascript": [
              "window[\"3e68c2b2-6720-11ec-87a2-0242ac1c0002\"] = google.colab.output.setActiveOutputArea(window[\"3e615bd0-6720-11ec-87a2-0242ac1c0002\"]);\n",
              "//# sourceURL=js_96ffd95c66"
            ],
            "text/plain": [
              "<IPython.core.display.Javascript object>"
            ]
          },
          "metadata": {}
        },
        {
          "output_type": "display_data",
          "data": {
            "application/javascript": [
              "window[\"3e6a61e4-6720-11ec-87a2-0242ac1c0002\"] = google.colab.output.getActiveOutputArea();\n",
              "//# sourceURL=js_9831c46098"
            ],
            "text/plain": [
              "<IPython.core.display.Javascript object>"
            ]
          },
          "metadata": {}
        },
        {
          "output_type": "display_data",
          "data": {
            "application/javascript": [
              "window[\"3e6a9b78-6720-11ec-87a2-0242ac1c0002\"] = document.querySelector(\"#id326_content_7\");\n",
              "//# sourceURL=js_4a925e7be4"
            ],
            "text/plain": [
              "<IPython.core.display.Javascript object>"
            ]
          },
          "metadata": {}
        },
        {
          "output_type": "display_data",
          "data": {
            "application/javascript": [
              "window[\"3e6ad8f4-6720-11ec-87a2-0242ac1c0002\"] = google.colab.output.setActiveOutputArea(window[\"3e6a9b78-6720-11ec-87a2-0242ac1c0002\"]);\n",
              "//# sourceURL=js_6d764e25ba"
            ],
            "text/plain": [
              "<IPython.core.display.Javascript object>"
            ]
          },
          "metadata": {}
        },
        {
          "output_type": "display_data",
          "data": {
            "application/javascript": [
              "window[\"3e6b1a58-6720-11ec-87a2-0242ac1c0002\"] = window[\"id326\"].setSelectedTabIndex(7);\n",
              "//# sourceURL=js_243dd62c4d"
            ],
            "text/plain": [
              "<IPython.core.display.Javascript object>"
            ]
          },
          "metadata": {}
        },
        {
          "output_type": "display_data",
          "data": {
            "application/javascript": [
              "window[\"3ea08d00-6720-11ec-87a2-0242ac1c0002\"] = google.colab.output.setActiveOutputArea(window[\"3e6a61e4-6720-11ec-87a2-0242ac1c0002\"]);\n",
              "//# sourceURL=js_6ebf0c1af7"
            ],
            "text/plain": [
              "<IPython.core.display.Javascript object>"
            ]
          },
          "metadata": {}
        },
        {
          "output_type": "display_data",
          "data": {
            "application/javascript": [
              "window[\"3ea2a586-6720-11ec-87a2-0242ac1c0002\"] = google.colab.output.getActiveOutputArea();\n",
              "//# sourceURL=js_0cb3de6c8a"
            ],
            "text/plain": [
              "<IPython.core.display.Javascript object>"
            ]
          },
          "metadata": {}
        },
        {
          "output_type": "display_data",
          "data": {
            "application/javascript": [
              "window[\"3ea300ee-6720-11ec-87a2-0242ac1c0002\"] = document.querySelector(\"#id326_content_5\");\n",
              "//# sourceURL=js_1be22c7927"
            ],
            "text/plain": [
              "<IPython.core.display.Javascript object>"
            ]
          },
          "metadata": {}
        },
        {
          "output_type": "display_data",
          "data": {
            "application/javascript": [
              "window[\"3ea35ec2-6720-11ec-87a2-0242ac1c0002\"] = google.colab.output.setActiveOutputArea(window[\"3ea300ee-6720-11ec-87a2-0242ac1c0002\"]);\n",
              "//# sourceURL=js_9f07745da3"
            ],
            "text/plain": [
              "<IPython.core.display.Javascript object>"
            ]
          },
          "metadata": {}
        },
        {
          "output_type": "display_data",
          "data": {
            "application/javascript": [
              "window[\"3ea3b6c4-6720-11ec-87a2-0242ac1c0002\"] = window[\"id326\"].setSelectedTabIndex(5);\n",
              "//# sourceURL=js_0164db130b"
            ],
            "text/plain": [
              "<IPython.core.display.Javascript object>"
            ]
          },
          "metadata": {}
        },
        {
          "output_type": "display_data",
          "data": {
            "text/html": [
              "<link rel=stylesheet type=text/css href='/nbextensions/google.colab/tabbar.css'></link>"
            ],
            "text/plain": [
              "<IPython.core.display.HTML object>"
            ]
          },
          "metadata": {}
        },
        {
          "output_type": "display_data",
          "data": {
            "text/html": [
              "<script src='/nbextensions/google.colab/tabbar_main.min.js'></script>"
            ],
            "text/plain": [
              "<IPython.core.display.HTML object>"
            ]
          },
          "metadata": {}
        },
        {
          "output_type": "display_data",
          "data": {
            "text/html": [
              "<div id=\"id332\"></div>"
            ],
            "text/plain": [
              "<IPython.core.display.HTML object>"
            ]
          },
          "metadata": {}
        },
        {
          "output_type": "display_data",
          "data": {
            "application/javascript": [
              "window[\"3ea5c6b2-6720-11ec-87a2-0242ac1c0002\"] = colab_lib.createTabBar({\"location\": \"top\", \"elementId\": \"id332\", \"tabNames\": [\"SQL\", \"Result\"], \"initialSelection\": 0, \"contentBorder\": [\"0px\"], \"contentHeight\": [\"initial\"], \"borderColor\": [\"#a7a7a7\"]});\n",
              "//# sourceURL=js_03f0e5a630"
            ],
            "text/plain": [
              "<IPython.core.display.Javascript object>"
            ]
          },
          "metadata": {}
        },
        {
          "output_type": "display_data",
          "data": {
            "application/javascript": [
              "window[\"3ea60ac8-6720-11ec-87a2-0242ac1c0002\"] = window[\"id332\"].setSelectedTabIndex(0);\n",
              "//# sourceURL=js_f49a55c022"
            ],
            "text/plain": [
              "<IPython.core.display.Javascript object>"
            ]
          },
          "metadata": {}
        },
        {
          "output_type": "display_data",
          "data": {
            "application/javascript": [
              "window[\"3ea7572a-6720-11ec-87a2-0242ac1c0002\"] = google.colab.output.getActiveOutputArea();\n",
              "//# sourceURL=js_7e0a537f42"
            ],
            "text/plain": [
              "<IPython.core.display.Javascript object>"
            ]
          },
          "metadata": {}
        },
        {
          "output_type": "display_data",
          "data": {
            "application/javascript": [
              "window[\"3ea79b0e-6720-11ec-87a2-0242ac1c0002\"] = document.querySelector(\"#id332_content_0\");\n",
              "//# sourceURL=js_3ebb17011b"
            ],
            "text/plain": [
              "<IPython.core.display.Javascript object>"
            ]
          },
          "metadata": {}
        },
        {
          "output_type": "display_data",
          "data": {
            "application/javascript": [
              "window[\"3ea7e24e-6720-11ec-87a2-0242ac1c0002\"] = google.colab.output.setActiveOutputArea(window[\"3ea79b0e-6720-11ec-87a2-0242ac1c0002\"]);\n",
              "//# sourceURL=js_98c10f2034"
            ],
            "text/plain": [
              "<IPython.core.display.Javascript object>"
            ]
          },
          "metadata": {}
        },
        {
          "output_type": "display_data",
          "data": {
            "application/javascript": [
              "window[\"3ea8288a-6720-11ec-87a2-0242ac1c0002\"] = window[\"id332\"].setSelectedTabIndex(0);\n",
              "//# sourceURL=js_6a80b3382a"
            ],
            "text/plain": [
              "<IPython.core.display.Javascript object>"
            ]
          },
          "metadata": {}
        },
        {
          "output_type": "stream",
          "name": "stdout",
          "text": [
            "The following query is stored at \u001b[1mPathFromVladimirToArnold_sql\u001b[0m variable.\n",
            "ATTACH DATABASE 'showbusiness.db' AS db;\n",
            "ATTACH DATABASE ':memory:' AS logica_test;\n",
            "\n",
            "DROP TABLE IF EXISTS logica_test.CastTogether;\n",
            "CREATE TABLE logica_test.CastTogether AS SELECT\n",
            "  x_18.value AS col0,\n",
            "  x_19.value AS col1,\n",
            "  db_movie.name AS movie\n",
            "FROM\n",
            "  db.movie AS db_movie, JSON_EACH(db_movie.casting) as x_18, JSON_EACH(db_movie.casting) as x_19\n",
            "WHERE\n",
            "  (x_18.value != x_19.value);\n",
            "\n",
            "-- Interacting with table logica_test.CastTogether\n",
            "\n",
            "DROP TABLE IF EXISTS logica_test.SchwarzeneggerId;\n",
            "CREATE TABLE logica_test.SchwarzeneggerId AS SELECT\n",
            "  t_1_db_person.person_id AS logica_value\n",
            "FROM\n",
            "  db.person AS t_1_db_person\n",
            "WHERE\n",
            "  (t_1_db_person.name = 'Arnold Schwarzenegger');\n",
            "\n",
            "-- Interacting with table logica_test.SchwarzeneggerId\n",
            "\n",
            "DROP TABLE IF EXISTS logica_test.VysotskyId;\n",
            "CREATE TABLE logica_test.VysotskyId AS SELECT\n",
            "  t_5_db_person.person_id AS logica_value\n",
            "FROM\n",
            "  db.person AS t_5_db_person\n",
            "WHERE\n",
            "  (t_5_db_person.name = 'Vladimir Vysotsky');\n",
            "\n",
            "-- Interacting with table logica_test.VysotskyId\n",
            "\n",
            "DROP TABLE IF EXISTS logica_test.PathTo_r0;\n",
            "CREATE TABLE logica_test.PathTo_r0 AS WITH t_26_PathTo_MultBodyAggAux_recursive_head_f1 AS (SELECT * FROM (\n",
            "  \n",
            "    SELECT\n",
            "      t_27_VysotskyId.logica_value AS col0,\n",
            "      JSON_OBJECT('arg', JSON_ARRAY(t_28_VysotskyId.logica_value), 'value', 0) AS logica_value\n",
            "    FROM\n",
            "      logica_test.VysotskyId AS t_27_VysotskyId, logica_test.VysotskyId AS t_28_VysotskyId\n",
            "  \n",
            ") AS UNUSED_TABLE_NAME  )\n",
            "SELECT\n",
            "  PathTo_MultBodyAggAux_recursive_head_f1.col0 AS col0,\n",
            "  JSON_EXTRACT(ArgMin(JSON_EXTRACT(PathTo_MultBodyAggAux_recursive_head_f1.logica_value, \"$.arg\"), JSON_EXTRACT(PathTo_MultBodyAggAux_recursive_head_f1.logica_value, \"$.value\"), 1), '$[' || 0 || ']') AS logica_value\n",
            "FROM\n",
            "  t_26_PathTo_MultBodyAggAux_recursive_head_f1 AS PathTo_MultBodyAggAux_recursive_head_f1\n",
            "GROUP BY PathTo_MultBodyAggAux_recursive_head_f1.col0;\n",
            "\n",
            "-- Interacting with table logica_test.PathTo_r0\n",
            "\n",
            "DROP TABLE IF EXISTS logica_test.PathTo_r1;\n",
            "CREATE TABLE logica_test.PathTo_r1 AS WITH t_18_PathTo_MultBodyAggAux_recursive_head_f2 AS (SELECT * FROM (\n",
            "  \n",
            "    SELECT\n",
            "      t_19_VysotskyId.logica_value AS col0,\n",
            "      JSON_OBJECT('arg', JSON_ARRAY(t_20_VysotskyId.logica_value), 'value', 0) AS logica_value\n",
            "    FROM\n",
            "      logica_test.VysotskyId AS t_19_VysotskyId, logica_test.VysotskyId AS t_20_VysotskyId\n",
            "   UNION ALL\n",
            "  \n",
            "    SELECT\n",
            "      t_22_CastTogether.col1 AS col0,\n",
            "      JSON_OBJECT('arg', ARRAY_CONCAT(PathTo_r0.logica_value, JSON_ARRAY(t_22_CastTogether.col1)), 'value', JSON_ARRAY_LENGTH(ARRAY_CONCAT(PathTo_r0.logica_value, JSON_ARRAY(t_22_CastTogether.col1)))) AS logica_value\n",
            "    FROM\n",
            "      logica_test.CastTogether AS t_22_CastTogether, logica_test.PathTo_r0 AS PathTo_r0\n",
            "    WHERE\n",
            "      (PathTo_r0.col0 = t_22_CastTogether.col0)\n",
            "  \n",
            ") AS UNUSED_TABLE_NAME  )\n",
            "SELECT\n",
            "  PathTo_MultBodyAggAux_recursive_head_f2.col0 AS col0,\n",
            "  JSON_EXTRACT(ArgMin(JSON_EXTRACT(PathTo_MultBodyAggAux_recursive_head_f2.logica_value, \"$.arg\"), JSON_EXTRACT(PathTo_MultBodyAggAux_recursive_head_f2.logica_value, \"$.value\"), 1), '$[' || 0 || ']') AS logica_value\n",
            "FROM\n",
            "  t_18_PathTo_MultBodyAggAux_recursive_head_f2 AS PathTo_MultBodyAggAux_recursive_head_f2\n",
            "GROUP BY PathTo_MultBodyAggAux_recursive_head_f2.col0;\n",
            "\n",
            "-- Interacting with table logica_test.PathTo_r1\n",
            "\n",
            "DROP TABLE IF EXISTS logica_test.PathTo_r2;\n",
            "CREATE TABLE logica_test.PathTo_r2 AS WITH t_10_PathTo_MultBodyAggAux_recursive_head_f3 AS (SELECT * FROM (\n",
            "  \n",
            "    SELECT\n",
            "      t_11_VysotskyId.logica_value AS col0,\n",
            "      JSON_OBJECT('arg', JSON_ARRAY(t_12_VysotskyId.logica_value), 'value', 0) AS logica_value\n",
            "    FROM\n",
            "      logica_test.VysotskyId AS t_11_VysotskyId, logica_test.VysotskyId AS t_12_VysotskyId\n",
            "   UNION ALL\n",
            "  \n",
            "    SELECT\n",
            "      t_14_CastTogether.col1 AS col0,\n",
            "      JSON_OBJECT('arg', ARRAY_CONCAT(PathTo_r1.logica_value, JSON_ARRAY(t_14_CastTogether.col1)), 'value', JSON_ARRAY_LENGTH(ARRAY_CONCAT(PathTo_r1.logica_value, JSON_ARRAY(t_14_CastTogether.col1)))) AS logica_value\n",
            "    FROM\n",
            "      logica_test.CastTogether AS t_14_CastTogether, logica_test.PathTo_r1 AS PathTo_r1\n",
            "    WHERE\n",
            "      (PathTo_r1.col0 = t_14_CastTogether.col0)\n",
            "  \n",
            ") AS UNUSED_TABLE_NAME  )\n",
            "SELECT\n",
            "  PathTo_MultBodyAggAux_recursive_head_f3.col0 AS col0,\n",
            "  JSON_EXTRACT(ArgMin(JSON_EXTRACT(PathTo_MultBodyAggAux_recursive_head_f3.logica_value, \"$.arg\"), JSON_EXTRACT(PathTo_MultBodyAggAux_recursive_head_f3.logica_value, \"$.value\"), 1), '$[' || 0 || ']') AS logica_value\n",
            "FROM\n",
            "  t_10_PathTo_MultBodyAggAux_recursive_head_f3 AS PathTo_MultBodyAggAux_recursive_head_f3\n",
            "GROUP BY PathTo_MultBodyAggAux_recursive_head_f3.col0;\n",
            "\n",
            "-- Interacting with table logica_test.PathTo_r2\n",
            "\n",
            "DROP TABLE IF EXISTS logica_test.PathTo;\n",
            "CREATE TABLE logica_test.PathTo AS WITH t_2_PathTo_MultBodyAggAux_recursive_head_f4 AS (SELECT * FROM (\n",
            "  \n",
            "    SELECT\n",
            "      VysotskyId.logica_value AS col0,\n",
            "      JSON_OBJECT('arg', JSON_ARRAY(t_3_VysotskyId.logica_value), 'value', 0) AS logica_value\n",
            "    FROM\n",
            "      logica_test.VysotskyId AS VysotskyId, logica_test.VysotskyId AS t_3_VysotskyId\n",
            "   UNION ALL\n",
            "  \n",
            "    SELECT\n",
            "      t_6_CastTogether.col1 AS col0,\n",
            "      JSON_OBJECT('arg', ARRAY_CONCAT(PathTo_r2.logica_value, JSON_ARRAY(t_6_CastTogether.col1)), 'value', JSON_ARRAY_LENGTH(ARRAY_CONCAT(PathTo_r2.logica_value, JSON_ARRAY(t_6_CastTogether.col1)))) AS logica_value\n",
            "    FROM\n",
            "      logica_test.CastTogether AS t_6_CastTogether, logica_test.PathTo_r2 AS PathTo_r2\n",
            "    WHERE\n",
            "      (PathTo_r2.col0 = t_6_CastTogether.col0)\n",
            "  \n",
            ") AS UNUSED_TABLE_NAME  )\n",
            "SELECT\n",
            "  PathTo_MultBodyAggAux_recursive_head_f4.col0 AS col0,\n",
            "  JSON_EXTRACT(ArgMin(JSON_EXTRACT(PathTo_MultBodyAggAux_recursive_head_f4.logica_value, \"$.arg\"), JSON_EXTRACT(PathTo_MultBodyAggAux_recursive_head_f4.logica_value, \"$.value\"), 1), '$[' || 0 || ']') AS logica_value\n",
            "FROM\n",
            "  t_2_PathTo_MultBodyAggAux_recursive_head_f4 AS PathTo_MultBodyAggAux_recursive_head_f4\n",
            "GROUP BY PathTo_MultBodyAggAux_recursive_head_f4.col0;\n",
            "\n",
            "-- Interacting with table logica_test.PathTo\n",
            "\n",
            "DROP TABLE IF EXISTS logica_test.OnlyPath;\n",
            "CREATE TABLE logica_test.OnlyPath AS SELECT\n",
            "  PathTo.logica_value AS logica_value\n",
            "FROM\n",
            "  logica_test.SchwarzeneggerId AS SchwarzeneggerId, logica_test.PathTo AS PathTo\n",
            "WHERE\n",
            "  (PathTo.col0 = SchwarzeneggerId.logica_value);\n",
            "\n",
            "-- Interacting with table logica_test.OnlyPath\n",
            "\n",
            "SELECT\n",
            "  ((x_4.value) + (1)) AS step_number,\n",
            "  db_person.name AS from_person,\n",
            "  t_0_db_person.name AS to_person,\n",
            "  CastTogether.movie AS movie\n",
            "FROM\n",
            "  logica_test.CastTogether AS CastTogether, db.person AS db_person, db.person AS t_0_db_person, logica_test.OnlyPath AS OnlyPath, JSON_EACH((select json_group_array(n) from (with recursive t as(select 0 as n union all select n + 1 as n from t where n + 1 < ((JSON_ARRAY_LENGTH(OnlyPath.logica_value)) - (1))) select n from t) where n < ((JSON_ARRAY_LENGTH(OnlyPath.logica_value)) - (1)))) as x_4\n",
            "WHERE\n",
            "  (CastTogether.col0 = JSON_EXTRACT(OnlyPath.logica_value, '$[' || x_4.value || ']')) AND\n",
            "  (CastTogether.col1 = JSON_EXTRACT(OnlyPath.logica_value, '$[' || ((x_4.value) + (1)) || ']')) AND\n",
            "  (db_person.person_id = JSON_EXTRACT(OnlyPath.logica_value, '$[' || x_4.value || ']')) AND\n",
            "  (t_0_db_person.person_id = JSON_EXTRACT(OnlyPath.logica_value, '$[' || ((x_4.value) + (1)) || ']'));\n"
          ]
        },
        {
          "output_type": "display_data",
          "data": {
            "application/javascript": [
              "window[\"3ea93aae-6720-11ec-87a2-0242ac1c0002\"] = google.colab.output.setActiveOutputArea(window[\"3ea7572a-6720-11ec-87a2-0242ac1c0002\"]);\n",
              "//# sourceURL=js_c6ce336452"
            ],
            "text/plain": [
              "<IPython.core.display.Javascript object>"
            ]
          },
          "metadata": {}
        },
        {
          "output_type": "display_data",
          "data": {
            "application/javascript": [
              "window[\"3eaa8d28-6720-11ec-87a2-0242ac1c0002\"] = google.colab.output.setActiveOutputArea(window[\"3ea2a586-6720-11ec-87a2-0242ac1c0002\"]);\n",
              "//# sourceURL=js_875d8a632b"
            ],
            "text/plain": [
              "<IPython.core.display.Javascript object>"
            ]
          },
          "metadata": {}
        },
        {
          "output_type": "display_data",
          "data": {
            "application/javascript": [
              "window[\"3eac02e8-6720-11ec-87a2-0242ac1c0002\"] = google.colab.output.getActiveOutputArea();\n",
              "//# sourceURL=js_393957af07"
            ],
            "text/plain": [
              "<IPython.core.display.Javascript object>"
            ]
          },
          "metadata": {}
        },
        {
          "output_type": "display_data",
          "data": {
            "application/javascript": [
              "window[\"3eac45d2-6720-11ec-87a2-0242ac1c0002\"] = document.querySelector(\"#id326_content_7\");\n",
              "//# sourceURL=js_b4673145e2"
            ],
            "text/plain": [
              "<IPython.core.display.Javascript object>"
            ]
          },
          "metadata": {}
        },
        {
          "output_type": "display_data",
          "data": {
            "application/javascript": [
              "window[\"3eac8a06-6720-11ec-87a2-0242ac1c0002\"] = google.colab.output.setActiveOutputArea(window[\"3eac45d2-6720-11ec-87a2-0242ac1c0002\"]);\n",
              "//# sourceURL=js_b8c2df8bdb"
            ],
            "text/plain": [
              "<IPython.core.display.Javascript object>"
            ]
          },
          "metadata": {}
        },
        {
          "output_type": "display_data",
          "data": {
            "application/javascript": [
              "window[\"3eacd240-6720-11ec-87a2-0242ac1c0002\"] = window[\"id326\"].setSelectedTabIndex(7);\n",
              "//# sourceURL=js_6b245f00b4"
            ],
            "text/plain": [
              "<IPython.core.display.Javascript object>"
            ]
          },
          "metadata": {}
        },
        {
          "output_type": "display_data",
          "data": {
            "application/javascript": [
              "window[\"3ece1932-6720-11ec-87a2-0242ac1c0002\"] = google.colab.output.setActiveOutputArea(window[\"3eac02e8-6720-11ec-87a2-0242ac1c0002\"]);\n",
              "//# sourceURL=js_07a023b401"
            ],
            "text/plain": [
              "<IPython.core.display.Javascript object>"
            ]
          },
          "metadata": {}
        },
        {
          "output_type": "display_data",
          "data": {
            "application/javascript": [
              "window[\"3ed0bf20-6720-11ec-87a2-0242ac1c0002\"] = google.colab.output.getActiveOutputArea();\n",
              "//# sourceURL=js_5c33c3f7cc"
            ],
            "text/plain": [
              "<IPython.core.display.Javascript object>"
            ]
          },
          "metadata": {}
        },
        {
          "output_type": "display_data",
          "data": {
            "application/javascript": [
              "window[\"3ed12370-6720-11ec-87a2-0242ac1c0002\"] = document.querySelector(\"#id326_content_6\");\n",
              "//# sourceURL=js_838f1f060a"
            ],
            "text/plain": [
              "<IPython.core.display.Javascript object>"
            ]
          },
          "metadata": {}
        },
        {
          "output_type": "display_data",
          "data": {
            "application/javascript": [
              "window[\"3ed1889c-6720-11ec-87a2-0242ac1c0002\"] = google.colab.output.setActiveOutputArea(window[\"3ed12370-6720-11ec-87a2-0242ac1c0002\"]);\n",
              "//# sourceURL=js_192b3f5aa4"
            ],
            "text/plain": [
              "<IPython.core.display.Javascript object>"
            ]
          },
          "metadata": {}
        },
        {
          "output_type": "display_data",
          "data": {
            "application/javascript": [
              "window[\"3ed1d144-6720-11ec-87a2-0242ac1c0002\"] = window[\"id326\"].setSelectedTabIndex(6);\n",
              "//# sourceURL=js_cfdf2872cc"
            ],
            "text/plain": [
              "<IPython.core.display.Javascript object>"
            ]
          },
          "metadata": {}
        },
        {
          "output_type": "display_data",
          "data": {
            "text/html": [
              "<link rel=stylesheet type=text/css href='/nbextensions/google.colab/tabbar.css'></link>"
            ],
            "text/plain": [
              "<IPython.core.display.HTML object>"
            ]
          },
          "metadata": {}
        },
        {
          "output_type": "display_data",
          "data": {
            "text/html": [
              "<script src='/nbextensions/google.colab/tabbar_main.min.js'></script>"
            ],
            "text/plain": [
              "<IPython.core.display.HTML object>"
            ]
          },
          "metadata": {}
        },
        {
          "output_type": "display_data",
          "data": {
            "text/html": [
              "<div id=\"id333\"></div>"
            ],
            "text/plain": [
              "<IPython.core.display.HTML object>"
            ]
          },
          "metadata": {}
        },
        {
          "output_type": "display_data",
          "data": {
            "application/javascript": [
              "window[\"3ed3e74a-6720-11ec-87a2-0242ac1c0002\"] = colab_lib.createTabBar({\"location\": \"top\", \"elementId\": \"id333\", \"tabNames\": [\"SQL\", \"Result\"], \"initialSelection\": 0, \"contentBorder\": [\"0px\"], \"contentHeight\": [\"initial\"], \"borderColor\": [\"#a7a7a7\"]});\n",
              "//# sourceURL=js_e60f19aa99"
            ],
            "text/plain": [
              "<IPython.core.display.Javascript object>"
            ]
          },
          "metadata": {}
        },
        {
          "output_type": "display_data",
          "data": {
            "application/javascript": [
              "window[\"3ed44f96-6720-11ec-87a2-0242ac1c0002\"] = window[\"id333\"].setSelectedTabIndex(0);\n",
              "//# sourceURL=js_36bfab5343"
            ],
            "text/plain": [
              "<IPython.core.display.Javascript object>"
            ]
          },
          "metadata": {}
        },
        {
          "output_type": "display_data",
          "data": {
            "application/javascript": [
              "window[\"3ed67f14-6720-11ec-87a2-0242ac1c0002\"] = google.colab.output.getActiveOutputArea();\n",
              "//# sourceURL=js_006593c5a1"
            ],
            "text/plain": [
              "<IPython.core.display.Javascript object>"
            ]
          },
          "metadata": {}
        },
        {
          "output_type": "display_data",
          "data": {
            "application/javascript": [
              "window[\"3ed6cdc0-6720-11ec-87a2-0242ac1c0002\"] = document.querySelector(\"#id333_content_0\");\n",
              "//# sourceURL=js_69433b0bb9"
            ],
            "text/plain": [
              "<IPython.core.display.Javascript object>"
            ]
          },
          "metadata": {}
        },
        {
          "output_type": "display_data",
          "data": {
            "application/javascript": [
              "window[\"3ed7243c-6720-11ec-87a2-0242ac1c0002\"] = google.colab.output.setActiveOutputArea(window[\"3ed6cdc0-6720-11ec-87a2-0242ac1c0002\"]);\n",
              "//# sourceURL=js_7878d87796"
            ],
            "text/plain": [
              "<IPython.core.display.Javascript object>"
            ]
          },
          "metadata": {}
        },
        {
          "output_type": "display_data",
          "data": {
            "application/javascript": [
              "window[\"3ed76f82-6720-11ec-87a2-0242ac1c0002\"] = window[\"id333\"].setSelectedTabIndex(0);\n",
              "//# sourceURL=js_2e25cb8da9"
            ],
            "text/plain": [
              "<IPython.core.display.Javascript object>"
            ]
          },
          "metadata": {}
        },
        {
          "output_type": "stream",
          "name": "stdout",
          "text": [
            "The following query is stored at \u001b[1mPathFromLyudmilaToMarilyn_sql\u001b[0m variable.\n",
            "ATTACH DATABASE 'showbusiness.db' AS db;\n",
            "ATTACH DATABASE ':memory:' AS logica_test;\n",
            "\n",
            "DROP TABLE IF EXISTS logica_test.CastTogether;\n",
            "CREATE TABLE logica_test.CastTogether AS SELECT\n",
            "  x_18.value AS col0,\n",
            "  x_19.value AS col1,\n",
            "  db_movie.name AS movie\n",
            "FROM\n",
            "  db.movie AS db_movie, JSON_EACH(db_movie.casting) as x_18, JSON_EACH(db_movie.casting) as x_19\n",
            "WHERE\n",
            "  (x_18.value != x_19.value);\n",
            "\n",
            "-- Interacting with table logica_test.CastTogether\n",
            "\n",
            "DROP TABLE IF EXISTS logica_test.MonroeId;\n",
            "CREATE TABLE logica_test.MonroeId AS SELECT\n",
            "  t_1_db_person.person_id AS logica_value\n",
            "FROM\n",
            "  db.person AS t_1_db_person\n",
            "WHERE\n",
            "  (t_1_db_person.name = 'Marilyn Monroe');\n",
            "\n",
            "-- Interacting with table logica_test.MonroeId\n",
            "\n",
            "DROP TABLE IF EXISTS logica_test.GurchenkoId;\n",
            "CREATE TABLE logica_test.GurchenkoId AS SELECT\n",
            "  t_5_db_person.person_id AS logica_value\n",
            "FROM\n",
            "  db.person AS t_5_db_person\n",
            "WHERE\n",
            "  (t_5_db_person.name = 'Lyudmila Gurchenko');\n",
            "\n",
            "-- Interacting with table logica_test.GurchenkoId\n",
            "\n",
            "DROP TABLE IF EXISTS logica_test.PathTo_r0_f7;\n",
            "CREATE TABLE logica_test.PathTo_r0_f7 AS WITH t_26_PathTo_MultBodyAggAux_recursive_head_f1_f7 AS (SELECT * FROM (\n",
            "  \n",
            "    SELECT\n",
            "      t_27_GurchenkoId.logica_value AS col0,\n",
            "      JSON_OBJECT('arg', JSON_ARRAY(t_28_GurchenkoId.logica_value), 'value', 0) AS logica_value\n",
            "    FROM\n",
            "      logica_test.GurchenkoId AS t_27_GurchenkoId, logica_test.GurchenkoId AS t_28_GurchenkoId\n",
            "  \n",
            ") AS UNUSED_TABLE_NAME  )\n",
            "SELECT\n",
            "  PathTo_MultBodyAggAux_recursive_head_f1_f7.col0 AS col0,\n",
            "  JSON_EXTRACT(ArgMin(JSON_EXTRACT(PathTo_MultBodyAggAux_recursive_head_f1_f7.logica_value, \"$.arg\"), JSON_EXTRACT(PathTo_MultBodyAggAux_recursive_head_f1_f7.logica_value, \"$.value\"), 1), '$[' || 0 || ']') AS logica_value\n",
            "FROM\n",
            "  t_26_PathTo_MultBodyAggAux_recursive_head_f1_f7 AS PathTo_MultBodyAggAux_recursive_head_f1_f7\n",
            "GROUP BY PathTo_MultBodyAggAux_recursive_head_f1_f7.col0;\n",
            "\n",
            "-- Interacting with table logica_test.PathTo_r0_f7\n",
            "\n",
            "DROP TABLE IF EXISTS logica_test.PathTo_r1_f7;\n",
            "CREATE TABLE logica_test.PathTo_r1_f7 AS WITH t_18_PathTo_MultBodyAggAux_recursive_head_f2_f7 AS (SELECT * FROM (\n",
            "  \n",
            "    SELECT\n",
            "      t_19_GurchenkoId.logica_value AS col0,\n",
            "      JSON_OBJECT('arg', JSON_ARRAY(t_20_GurchenkoId.logica_value), 'value', 0) AS logica_value\n",
            "    FROM\n",
            "      logica_test.GurchenkoId AS t_19_GurchenkoId, logica_test.GurchenkoId AS t_20_GurchenkoId\n",
            "   UNION ALL\n",
            "  \n",
            "    SELECT\n",
            "      t_22_CastTogether.col1 AS col0,\n",
            "      JSON_OBJECT('arg', ARRAY_CONCAT(PathTo_r0_f7.logica_value, JSON_ARRAY(t_22_CastTogether.col1)), 'value', JSON_ARRAY_LENGTH(ARRAY_CONCAT(PathTo_r0_f7.logica_value, JSON_ARRAY(t_22_CastTogether.col1)))) AS logica_value\n",
            "    FROM\n",
            "      logica_test.CastTogether AS t_22_CastTogether, logica_test.PathTo_r0_f7 AS PathTo_r0_f7\n",
            "    WHERE\n",
            "      (PathTo_r0_f7.col0 = t_22_CastTogether.col0)\n",
            "  \n",
            ") AS UNUSED_TABLE_NAME  )\n",
            "SELECT\n",
            "  PathTo_MultBodyAggAux_recursive_head_f2_f7.col0 AS col0,\n",
            "  JSON_EXTRACT(ArgMin(JSON_EXTRACT(PathTo_MultBodyAggAux_recursive_head_f2_f7.logica_value, \"$.arg\"), JSON_EXTRACT(PathTo_MultBodyAggAux_recursive_head_f2_f7.logica_value, \"$.value\"), 1), '$[' || 0 || ']') AS logica_value\n",
            "FROM\n",
            "  t_18_PathTo_MultBodyAggAux_recursive_head_f2_f7 AS PathTo_MultBodyAggAux_recursive_head_f2_f7\n",
            "GROUP BY PathTo_MultBodyAggAux_recursive_head_f2_f7.col0;\n",
            "\n",
            "-- Interacting with table logica_test.PathTo_r1_f7\n",
            "\n",
            "DROP TABLE IF EXISTS logica_test.PathTo_r2_f7;\n",
            "CREATE TABLE logica_test.PathTo_r2_f7 AS WITH t_10_PathTo_MultBodyAggAux_recursive_head_f3_f7 AS (SELECT * FROM (\n",
            "  \n",
            "    SELECT\n",
            "      t_11_GurchenkoId.logica_value AS col0,\n",
            "      JSON_OBJECT('arg', JSON_ARRAY(t_12_GurchenkoId.logica_value), 'value', 0) AS logica_value\n",
            "    FROM\n",
            "      logica_test.GurchenkoId AS t_11_GurchenkoId, logica_test.GurchenkoId AS t_12_GurchenkoId\n",
            "   UNION ALL\n",
            "  \n",
            "    SELECT\n",
            "      t_14_CastTogether.col1 AS col0,\n",
            "      JSON_OBJECT('arg', ARRAY_CONCAT(PathTo_r1_f7.logica_value, JSON_ARRAY(t_14_CastTogether.col1)), 'value', JSON_ARRAY_LENGTH(ARRAY_CONCAT(PathTo_r1_f7.logica_value, JSON_ARRAY(t_14_CastTogether.col1)))) AS logica_value\n",
            "    FROM\n",
            "      logica_test.CastTogether AS t_14_CastTogether, logica_test.PathTo_r1_f7 AS PathTo_r1_f7\n",
            "    WHERE\n",
            "      (PathTo_r1_f7.col0 = t_14_CastTogether.col0)\n",
            "  \n",
            ") AS UNUSED_TABLE_NAME  )\n",
            "SELECT\n",
            "  PathTo_MultBodyAggAux_recursive_head_f3_f7.col0 AS col0,\n",
            "  JSON_EXTRACT(ArgMin(JSON_EXTRACT(PathTo_MultBodyAggAux_recursive_head_f3_f7.logica_value, \"$.arg\"), JSON_EXTRACT(PathTo_MultBodyAggAux_recursive_head_f3_f7.logica_value, \"$.value\"), 1), '$[' || 0 || ']') AS logica_value\n",
            "FROM\n",
            "  t_10_PathTo_MultBodyAggAux_recursive_head_f3_f7 AS PathTo_MultBodyAggAux_recursive_head_f3_f7\n",
            "GROUP BY PathTo_MultBodyAggAux_recursive_head_f3_f7.col0;\n",
            "\n",
            "-- Interacting with table logica_test.PathTo_r2_f7\n",
            "\n",
            "DROP TABLE IF EXISTS logica_test.PathTo_f7;\n",
            "CREATE TABLE logica_test.PathTo_f7 AS WITH t_2_PathTo_MultBodyAggAux_recursive_head_f4_f7 AS (SELECT * FROM (\n",
            "  \n",
            "    SELECT\n",
            "      GurchenkoId.logica_value AS col0,\n",
            "      JSON_OBJECT('arg', JSON_ARRAY(t_3_GurchenkoId.logica_value), 'value', 0) AS logica_value\n",
            "    FROM\n",
            "      logica_test.GurchenkoId AS GurchenkoId, logica_test.GurchenkoId AS t_3_GurchenkoId\n",
            "   UNION ALL\n",
            "  \n",
            "    SELECT\n",
            "      t_6_CastTogether.col1 AS col0,\n",
            "      JSON_OBJECT('arg', ARRAY_CONCAT(PathTo_r2_f7.logica_value, JSON_ARRAY(t_6_CastTogether.col1)), 'value', JSON_ARRAY_LENGTH(ARRAY_CONCAT(PathTo_r2_f7.logica_value, JSON_ARRAY(t_6_CastTogether.col1)))) AS logica_value\n",
            "    FROM\n",
            "      logica_test.CastTogether AS t_6_CastTogether, logica_test.PathTo_r2_f7 AS PathTo_r2_f7\n",
            "    WHERE\n",
            "      (PathTo_r2_f7.col0 = t_6_CastTogether.col0)\n",
            "  \n",
            ") AS UNUSED_TABLE_NAME  )\n",
            "SELECT\n",
            "  PathTo_MultBodyAggAux_recursive_head_f4_f7.col0 AS col0,\n",
            "  JSON_EXTRACT(ArgMin(JSON_EXTRACT(PathTo_MultBodyAggAux_recursive_head_f4_f7.logica_value, \"$.arg\"), JSON_EXTRACT(PathTo_MultBodyAggAux_recursive_head_f4_f7.logica_value, \"$.value\"), 1), '$[' || 0 || ']') AS logica_value\n",
            "FROM\n",
            "  t_2_PathTo_MultBodyAggAux_recursive_head_f4_f7 AS PathTo_MultBodyAggAux_recursive_head_f4_f7\n",
            "GROUP BY PathTo_MultBodyAggAux_recursive_head_f4_f7.col0;\n",
            "\n",
            "-- Interacting with table logica_test.PathTo_f7\n",
            "\n",
            "DROP TABLE IF EXISTS logica_test.OnlyPath_f7;\n",
            "CREATE TABLE logica_test.OnlyPath_f7 AS SELECT\n",
            "  PathTo_f7.logica_value AS logica_value\n",
            "FROM\n",
            "  logica_test.MonroeId AS MonroeId, logica_test.PathTo_f7 AS PathTo_f7\n",
            "WHERE\n",
            "  (PathTo_f7.col0 = MonroeId.logica_value);\n",
            "\n",
            "-- Interacting with table logica_test.OnlyPath_f7\n",
            "\n",
            "SELECT\n",
            "  ((x_4.value) + (1)) AS step_number,\n",
            "  db_person.name AS from_person,\n",
            "  t_0_db_person.name AS to_person,\n",
            "  CastTogether.movie AS movie\n",
            "FROM\n",
            "  logica_test.CastTogether AS CastTogether, db.person AS db_person, db.person AS t_0_db_person, logica_test.OnlyPath_f7 AS OnlyPath_f7, JSON_EACH((select json_group_array(n) from (with recursive t as(select 0 as n union all select n + 1 as n from t where n + 1 < ((JSON_ARRAY_LENGTH(OnlyPath_f7.logica_value)) - (1))) select n from t) where n < ((JSON_ARRAY_LENGTH(OnlyPath_f7.logica_value)) - (1)))) as x_4\n",
            "WHERE\n",
            "  (CastTogether.col0 = JSON_EXTRACT(OnlyPath_f7.logica_value, '$[' || x_4.value || ']')) AND\n",
            "  (CastTogether.col1 = JSON_EXTRACT(OnlyPath_f7.logica_value, '$[' || ((x_4.value) + (1)) || ']')) AND\n",
            "  (db_person.person_id = JSON_EXTRACT(OnlyPath_f7.logica_value, '$[' || x_4.value || ']')) AND\n",
            "  (t_0_db_person.person_id = JSON_EXTRACT(OnlyPath_f7.logica_value, '$[' || ((x_4.value) + (1)) || ']'));\n"
          ]
        },
        {
          "output_type": "display_data",
          "data": {
            "application/javascript": [
              "window[\"3ed92de0-6720-11ec-87a2-0242ac1c0002\"] = google.colab.output.setActiveOutputArea(window[\"3ed67f14-6720-11ec-87a2-0242ac1c0002\"]);\n",
              "//# sourceURL=js_397c944886"
            ],
            "text/plain": [
              "<IPython.core.display.Javascript object>"
            ]
          },
          "metadata": {}
        },
        {
          "output_type": "display_data",
          "data": {
            "application/javascript": [
              "window[\"3edaf83c-6720-11ec-87a2-0242ac1c0002\"] = google.colab.output.setActiveOutputArea(window[\"3ed0bf20-6720-11ec-87a2-0242ac1c0002\"]);\n",
              "//# sourceURL=js_0f054046f3"
            ],
            "text/plain": [
              "<IPython.core.display.Javascript object>"
            ]
          },
          "metadata": {}
        },
        {
          "output_type": "display_data",
          "data": {
            "application/javascript": [
              "window[\"3eddd426-6720-11ec-87a2-0242ac1c0002\"] = google.colab.output.getActiveOutputArea();\n",
              "//# sourceURL=js_ce5237253c"
            ],
            "text/plain": [
              "<IPython.core.display.Javascript object>"
            ]
          },
          "metadata": {}
        },
        {
          "output_type": "display_data",
          "data": {
            "application/javascript": [
              "window[\"3ede37b8-6720-11ec-87a2-0242ac1c0002\"] = document.querySelector(\"#id326_content_7\");\n",
              "//# sourceURL=js_887effb139"
            ],
            "text/plain": [
              "<IPython.core.display.Javascript object>"
            ]
          },
          "metadata": {}
        },
        {
          "output_type": "display_data",
          "data": {
            "application/javascript": [
              "window[\"3ede82cc-6720-11ec-87a2-0242ac1c0002\"] = google.colab.output.setActiveOutputArea(window[\"3ede37b8-6720-11ec-87a2-0242ac1c0002\"]);\n",
              "//# sourceURL=js_c411c47d8d"
            ],
            "text/plain": [
              "<IPython.core.display.Javascript object>"
            ]
          },
          "metadata": {}
        },
        {
          "output_type": "display_data",
          "data": {
            "application/javascript": [
              "window[\"3edee87a-6720-11ec-87a2-0242ac1c0002\"] = window[\"id326\"].setSelectedTabIndex(7);\n",
              "//# sourceURL=js_43e10cc7eb"
            ],
            "text/plain": [
              "<IPython.core.display.Javascript object>"
            ]
          },
          "metadata": {}
        },
        {
          "output_type": "display_data",
          "data": {
            "text/plain": [
              "<graphviz.dot.Digraph at 0x7f63c52896d0>"
            ],
            "image/svg+xml": "<?xml version=\"1.0\" encoding=\"UTF-8\" standalone=\"no\"?>\n<!DOCTYPE svg PUBLIC \"-//W3C//DTD SVG 1.1//EN\"\n \"http://www.w3.org/Graphics/SVG/1.1/DTD/svg11.dtd\">\n<!-- Generated by graphviz version 2.40.1 (20161225.0304)\n -->\n<!-- Title: Concertina Pages: 1 -->\n<svg width=\"1712pt\" height=\"548pt\"\n viewBox=\"0.00 0.00 1712.37 548.00\" xmlns=\"http://www.w3.org/2000/svg\" xmlns:xlink=\"http://www.w3.org/1999/xlink\">\n<g id=\"graph0\" class=\"graph\" transform=\"scale(1 1) rotate(0) translate(4 544)\">\n<title>Concertina</title>\n<polygon fill=\"#ffffff\" stroke=\"transparent\" points=\"-4,4 -4,-544 1708.3675,-544 1708.3675,4 -4,4\"/>\n<!-- PathFromLyudmilaToMarilyn -->\n<g id=\"node1\" class=\"node\">\n<title>PathFromLyudmilaToMarilyn</title>\n<path fill=\"#caff70\" stroke=\"#575757\" d=\"M253.8675,-34.7765C253.8675,-34.7765 102.1244,-19.2235 102.1244,-19.2235 96.1556,-18.6118 96.1556,-17.3882 102.1244,-16.7765 102.1244,-16.7765 253.8675,-1.2235 253.8675,-1.2235 259.8363,-.6118 271.7737,-.6118 277.7425,-1.2235 277.7425,-1.2235 429.4856,-16.7765 429.4856,-16.7765 435.4544,-17.3882 435.4544,-18.6118 429.4856,-19.2235 429.4856,-19.2235 277.7425,-34.7765 277.7425,-34.7765 271.7737,-35.3882 259.8363,-35.3882 253.8675,-34.7765\"/>\n<text text-anchor=\"middle\" x=\"265.805\" y=\"-14.3\" font-family=\"Times,serif\" font-size=\"14.00\" fill=\"#000000\">PathFromLyudmilaToMarilyn</text>\n</g>\n<!-- CastTogether -->\n<g id=\"node2\" class=\"node\">\n<title>CastTogether</title>\n<path fill=\"#caff70\" stroke=\"#575757\" d=\"M1086.805,-468C1086.805,-468 1018.805,-468 1018.805,-468 1012.805,-468 1006.805,-462 1006.805,-456 1006.805,-456 1006.805,-444 1006.805,-444 1006.805,-438 1012.805,-432 1018.805,-432 1018.805,-432 1086.805,-432 1086.805,-432 1092.805,-432 1098.805,-438 1098.805,-444 1098.805,-444 1098.805,-456 1098.805,-456 1098.805,-462 1092.805,-468 1086.805,-468\"/>\n<text text-anchor=\"middle\" x=\"1052.805\" y=\"-446.3\" font-family=\"Times,serif\" font-size=\"14.00\" fill=\"#000000\">CastTogether</text>\n</g>\n<!-- CastTogether&#45;&gt;PathFromLyudmilaToMarilyn -->\n<g id=\"edge1\" class=\"edge\">\n<title>CastTogether&#45;&gt;PathFromLyudmilaToMarilyn</title>\n<path fill=\"none\" stroke=\"#000000\" d=\"M1071.1851,-431.8287C1095.0835,-406.1728 1133.805,-356.7701 1133.805,-306 1133.805,-306 1133.805,-306 1133.805,-162 1133.805,-86.9868 622.7717,-42.309 384.936,-25.5778\"/>\n<polygon fill=\"#000000\" stroke=\"#000000\" points=\"385.0784,-22.0794 374.8589,-24.8742 384.5908,-29.0624 385.0784,-22.0794\"/>\n</g>\n<!-- PathTo_r1_f7 -->\n<g id=\"node6\" class=\"node\">\n<title>PathTo_r1_f7</title>\n<path fill=\"#caff70\" stroke=\"#575757\" d=\"M655.305,-324C655.305,-324 582.305,-324 582.305,-324 576.305,-324 570.305,-318 570.305,-312 570.305,-312 570.305,-300 570.305,-300 570.305,-294 576.305,-288 582.305,-288 582.305,-288 655.305,-288 655.305,-288 661.305,-288 667.305,-294 667.305,-300 667.305,-300 667.305,-312 667.305,-312 667.305,-318 661.305,-324 655.305,-324\"/>\n<text text-anchor=\"middle\" x=\"618.805\" y=\"-302.3\" font-family=\"Times,serif\" font-size=\"14.00\" fill=\"#000000\">PathTo_r1_f7</text>\n</g>\n<!-- CastTogether&#45;&gt;PathTo_r1_f7 -->\n<g id=\"edge5\" class=\"edge\">\n<title>CastTogether&#45;&gt;PathTo_r1_f7</title>\n<path fill=\"none\" stroke=\"#000000\" d=\"M1007.5004,-431.9952C958.9755,-412.9998 879.5247,-382.7273 809.805,-360 765.7449,-345.6373 715.2673,-331.4626 677.2737,-321.2421\"/>\n<polygon fill=\"#000000\" stroke=\"#000000\" points=\"677.9657,-317.8041 667.4007,-318.5995 676.1557,-324.5661 677.9657,-317.8041\"/>\n</g>\n<!-- PathTo_r0_f7 -->\n<g id=\"node8\" class=\"node\">\n<title>PathTo_r0_f7</title>\n<path fill=\"#caff70\" stroke=\"#575757\" d=\"M655.305,-396C655.305,-396 582.305,-396 582.305,-396 576.305,-396 570.305,-390 570.305,-384 570.305,-384 570.305,-372 570.305,-372 570.305,-366 576.305,-360 582.305,-360 582.305,-360 655.305,-360 655.305,-360 661.305,-360 667.305,-366 667.305,-372 667.305,-372 667.305,-384 667.305,-384 667.305,-390 661.305,-396 655.305,-396\"/>\n<text text-anchor=\"middle\" x=\"618.805\" y=\"-374.3\" font-family=\"Times,serif\" font-size=\"14.00\" fill=\"#000000\">PathTo_r0_f7</text>\n</g>\n<!-- CastTogether&#45;&gt;PathTo_r0_f7 -->\n<g id=\"edge33\" class=\"edge\">\n<title>CastTogether&#45;&gt;PathTo_r0_f7</title>\n<path fill=\"none\" stroke=\"#000000\" d=\"M1006.769,-434.2312C1003.7522,-433.4159 1000.7455,-432.6619 997.805,-432 874.1087,-404.1562 840.0579,-415.6916 714.805,-396 702.765,-394.1071 689.9183,-391.8583 677.667,-389.6025\"/>\n<polygon fill=\"#000000\" stroke=\"#000000\" points=\"678.0191,-386.1079 667.5467,-387.7137 676.7348,-392.989 678.0191,-386.1079\"/>\n</g>\n<!-- PathFromVladimirToArnold -->\n<g id=\"node9\" class=\"node\">\n<title>PathFromVladimirToArnold</title>\n<path fill=\"#caff70\" stroke=\"#575757\" d=\"M685.874,-34.7146C685.874,-34.7146 542.6624,-19.2854 542.6624,-19.2854 536.697,-18.6427 536.697,-17.3573 542.6624,-16.7146 542.6624,-16.7146 685.874,-1.2854 685.874,-1.2854 691.8395,-.6427 703.7705,-.6427 709.736,-1.2854 709.736,-1.2854 852.9476,-16.7146 852.9476,-16.7146 858.913,-17.3573 858.913,-18.6427 852.9476,-19.2854 852.9476,-19.2854 709.736,-34.7146 709.736,-34.7146 703.7705,-35.3573 691.8395,-35.3573 685.874,-34.7146\"/>\n<text text-anchor=\"middle\" x=\"697.805\" y=\"-14.3\" font-family=\"Times,serif\" font-size=\"14.00\" fill=\"#000000\">PathFromVladimirToArnold</text>\n</g>\n<!-- CastTogether&#45;&gt;PathFromVladimirToArnold -->\n<g id=\"edge7\" class=\"edge\">\n<title>CastTogether&#45;&gt;PathFromVladimirToArnold</title>\n<path fill=\"none\" stroke=\"#000000\" d=\"M1099.2858,-432.7471C1116.7721,-424.1406 1135.4031,-412.0703 1147.805,-396 1173.097,-363.2267 1171.805,-347.3978 1171.805,-306 1171.805,-306 1171.805,-306 1171.805,-162 1171.805,-120.6022 1179.0693,-99.1352 1147.805,-72 1122.9985,-50.4697 939.1043,-34.0522 814.2085,-25.2377\"/>\n<polygon fill=\"#000000\" stroke=\"#000000\" points=\"814.4152,-21.7437 804.1956,-24.5383 813.9274,-28.7267 814.4152,-21.7437\"/>\n</g>\n<!-- PathTo_r2_f7 -->\n<g id=\"node11\" class=\"node\">\n<title>PathTo_r2_f7</title>\n<path fill=\"#caff70\" stroke=\"#575757\" d=\"M636.305,-252C636.305,-252 563.305,-252 563.305,-252 557.305,-252 551.305,-246 551.305,-240 551.305,-240 551.305,-228 551.305,-228 551.305,-222 557.305,-216 563.305,-216 563.305,-216 636.305,-216 636.305,-216 642.305,-216 648.305,-222 648.305,-228 648.305,-228 648.305,-240 648.305,-240 648.305,-246 642.305,-252 636.305,-252\"/>\n<text text-anchor=\"middle\" x=\"599.805\" y=\"-230.3\" font-family=\"Times,serif\" font-size=\"14.00\" fill=\"#000000\">PathTo_r2_f7</text>\n</g>\n<!-- CastTogether&#45;&gt;PathTo_r2_f7 -->\n<g id=\"edge12\" class=\"edge\">\n<title>CastTogether&#45;&gt;PathTo_r2_f7</title>\n<path fill=\"none\" stroke=\"#000000\" d=\"M1035.4639,-431.7406C1017.0509,-412.8033 986.6771,-382.8257 957.805,-360 911.9686,-323.7626 901.6915,-310.5913 847.805,-288 785.8961,-262.0455 709.8447,-247.8583 658.4071,-240.6246\"/>\n<polygon fill=\"#000000\" stroke=\"#000000\" points=\"658.8403,-237.1514 648.4593,-239.2692 657.8952,-244.0873 658.8403,-237.1514\"/>\n</g>\n<!-- PathTo -->\n<g id=\"node12\" class=\"node\">\n<title>PathTo</title>\n<path fill=\"#caff70\" stroke=\"#575757\" d=\"M786.805,-180C786.805,-180 752.805,-180 752.805,-180 746.805,-180 740.805,-174 740.805,-168 740.805,-168 740.805,-156 740.805,-156 740.805,-150 746.805,-144 752.805,-144 752.805,-144 786.805,-144 786.805,-144 792.805,-144 798.805,-150 798.805,-156 798.805,-156 798.805,-168 798.805,-168 798.805,-174 792.805,-180 786.805,-180\"/>\n<text text-anchor=\"middle\" x=\"769.805\" y=\"-158.3\" font-family=\"Times,serif\" font-size=\"14.00\" fill=\"#000000\">PathTo</text>\n</g>\n<!-- CastTogether&#45;&gt;PathTo -->\n<g id=\"edge35\" class=\"edge\">\n<title>CastTogether&#45;&gt;PathTo</title>\n<path fill=\"none\" stroke=\"#000000\" d=\"M1061.8889,-431.9046C1082.0594,-388.8685 1124.7823,-279.2903 1071.805,-216 1038.7316,-176.4883 883.14,-165.8559 809.1209,-163.0192\"/>\n<polygon fill=\"#000000\" stroke=\"#000000\" points=\"808.9337,-159.5105 798.8162,-162.6548 808.6862,-166.5061 808.9337,-159.5105\"/>\n</g>\n<!-- PathTo_r1 -->\n<g id=\"node16\" class=\"node\">\n<title>PathTo_r1</title>\n<path fill=\"#caff70\" stroke=\"#575757\" d=\"M827.305,-324C827.305,-324 774.305,-324 774.305,-324 768.305,-324 762.305,-318 762.305,-312 762.305,-312 762.305,-300 762.305,-300 762.305,-294 768.305,-288 774.305,-288 774.305,-288 827.305,-288 827.305,-288 833.305,-288 839.305,-294 839.305,-300 839.305,-300 839.305,-312 839.305,-312 839.305,-318 833.305,-324 827.305,-324\"/>\n<text text-anchor=\"middle\" x=\"800.805\" y=\"-302.3\" font-family=\"Times,serif\" font-size=\"14.00\" fill=\"#000000\">PathTo_r1</text>\n</g>\n<!-- CastTogether&#45;&gt;PathTo_r1 -->\n<g id=\"edge18\" class=\"edge\">\n<title>CastTogether&#45;&gt;PathTo_r1</title>\n<path fill=\"none\" stroke=\"#000000\" d=\"M1022.9342,-431.8115C1006.4701,-421.5907 985.7831,-408.4249 967.805,-396 945.8676,-380.8388 942.7489,-373.59 919.805,-360 897.2593,-346.6459 870.8344,-334.3497 848.62,-324.8752\"/>\n<polygon fill=\"#000000\" stroke=\"#000000\" points=\"849.9559,-321.6402 839.3809,-320.9926 847.2439,-328.0935 849.9559,-321.6402\"/>\n</g>\n<!-- PathTo_r0 -->\n<g id=\"node17\" class=\"node\">\n<title>PathTo_r0</title>\n<path fill=\"#caff70\" stroke=\"#575757\" d=\"M789.305,-396C789.305,-396 736.305,-396 736.305,-396 730.305,-396 724.305,-390 724.305,-384 724.305,-384 724.305,-372 724.305,-372 724.305,-366 730.305,-360 736.305,-360 736.305,-360 789.305,-360 789.305,-360 795.305,-360 801.305,-366 801.305,-372 801.305,-372 801.305,-384 801.305,-384 801.305,-390 795.305,-396 789.305,-396\"/>\n<text text-anchor=\"middle\" x=\"762.805\" y=\"-374.3\" font-family=\"Times,serif\" font-size=\"14.00\" fill=\"#000000\">PathTo_r0</text>\n</g>\n<!-- CastTogether&#45;&gt;PathTo_r0 -->\n<g id=\"edge25\" class=\"edge\">\n<title>CastTogether&#45;&gt;PathTo_r0</title>\n<path fill=\"none\" stroke=\"#000000\" d=\"M1006.6837,-434.5707C1003.6877,-433.6722 1000.709,-432.8071 997.805,-432 933.9257,-414.2468 859.1403,-397.7918 811.3932,-387.8237\"/>\n<polygon fill=\"#000000\" stroke=\"#000000\" points=\"811.8371,-384.3413 801.3345,-385.7363 810.4147,-391.1953 811.8371,-384.3413\"/>\n</g>\n<!-- PathTo_f7 -->\n<g id=\"node21\" class=\"node\">\n<title>PathTo_f7</title>\n<path fill=\"#caff70\" stroke=\"#575757\" d=\"M570.305,-180C570.305,-180 517.305,-180 517.305,-180 511.305,-180 505.305,-174 505.305,-168 505.305,-168 505.305,-156 505.305,-156 505.305,-150 511.305,-144 517.305,-144 517.305,-144 570.305,-144 570.305,-144 576.305,-144 582.305,-150 582.305,-156 582.305,-156 582.305,-168 582.305,-168 582.305,-174 576.305,-180 570.305,-180\"/>\n<text text-anchor=\"middle\" x=\"543.805\" y=\"-158.3\" font-family=\"Times,serif\" font-size=\"14.00\" fill=\"#000000\">PathTo_f7</text>\n</g>\n<!-- CastTogether&#45;&gt;PathTo_f7 -->\n<g id=\"edge41\" class=\"edge\">\n<title>CastTogether&#45;&gt;PathTo_f7</title>\n<path fill=\"none\" stroke=\"#000000\" d=\"M1054.3952,-431.7841C1056.2282,-399.0016 1055.273,-329.6143 1019.805,-288 974.9308,-235.3495 947.4799,-237.7389 881.805,-216 782.3365,-183.0752 659.5493,-169.888 592.7486,-164.8686\"/>\n<polygon fill=\"#000000\" stroke=\"#000000\" points=\"592.7461,-161.3595 582.5203,-164.1314 592.2428,-168.3414 592.7461,-161.3595\"/>\n</g>\n<!-- PathTo_r2 -->\n<g id=\"node23\" class=\"node\">\n<title>PathTo_r2</title>\n<path fill=\"#caff70\" stroke=\"#575757\" d=\"M861.305,-252C861.305,-252 808.305,-252 808.305,-252 802.305,-252 796.305,-246 796.305,-240 796.305,-240 796.305,-228 796.305,-228 796.305,-222 802.305,-216 808.305,-216 808.305,-216 861.305,-216 861.305,-216 867.305,-216 873.305,-222 873.305,-228 873.305,-228 873.305,-240 873.305,-240 873.305,-246 867.305,-252 861.305,-252\"/>\n<text text-anchor=\"middle\" x=\"834.805\" y=\"-230.3\" font-family=\"Times,serif\" font-size=\"14.00\" fill=\"#000000\">PathTo_r2</text>\n</g>\n<!-- CastTogether&#45;&gt;PathTo_r2 -->\n<g id=\"edge29\" class=\"edge\">\n<title>CastTogether&#45;&gt;PathTo_r2</title>\n<path fill=\"none\" stroke=\"#000000\" d=\"M1048.5212,-431.725C1039.3154,-393.8652 1016.7765,-308.6653 995.805,-288 965.7979,-258.4311 919.1273,-245.0472 883.7451,-238.9927\"/>\n<polygon fill=\"#000000\" stroke=\"#000000\" points=\"884.0454,-235.4971 873.6239,-237.4055 882.9609,-242.4126 884.0454,-235.4971\"/>\n</g>\n<!-- db.person -->\n<g id=\"node3\" class=\"node\">\n<title>db.person</title>\n<path fill=\"#b0e2ff\" stroke=\"#575757\" d=\"M385.805,-536.7273C385.805,-538.5331 369.221,-540 348.805,-540 328.389,-540 311.805,-538.5331 311.805,-536.7273 311.805,-536.7273 311.805,-507.2727 311.805,-507.2727 311.805,-505.4669 328.389,-504 348.805,-504 369.221,-504 385.805,-505.4669 385.805,-507.2727 385.805,-507.2727 385.805,-536.7273 385.805,-536.7273\"/>\n<path fill=\"none\" stroke=\"#575757\" d=\"M385.805,-536.7273C385.805,-534.9214 369.221,-533.4545 348.805,-533.4545 328.389,-533.4545 311.805,-534.9214 311.805,-536.7273\"/>\n<text text-anchor=\"middle\" x=\"348.805\" y=\"-518.3\" font-family=\"Times,serif\" font-size=\"14.00\" fill=\"#000000\">db.person</text>\n</g>\n<!-- db.person&#45;&gt;PathFromLyudmilaToMarilyn -->\n<g id=\"edge2\" class=\"edge\">\n<title>db.person&#45;&gt;PathFromLyudmilaToMarilyn</title>\n<path fill=\"none\" stroke=\"#000000\" d=\"M311.5982,-507.3134C265.1712,-486.25 191.805,-442.725 191.805,-378 191.805,-378 191.805,-378 191.805,-162 191.805,-121.1184 191.1582,-107.8512 210.805,-72 217.2495,-60.2402 227.0763,-49.4126 236.6501,-40.5894\"/>\n<polygon fill=\"#000000\" stroke=\"#000000\" points=\"238.9943,-43.1888 244.2043,-33.9635 234.3784,-37.9263 238.9943,-43.1888\"/>\n</g>\n<!-- GurchenkoId -->\n<g id=\"node7\" class=\"node\">\n<title>GurchenkoId</title>\n<path fill=\"#caff70\" stroke=\"#575757\" d=\"M538.305,-468C538.305,-468 469.305,-468 469.305,-468 463.305,-468 457.305,-462 457.305,-456 457.305,-456 457.305,-444 457.305,-444 457.305,-438 463.305,-432 469.305,-432 469.305,-432 538.305,-432 538.305,-432 544.305,-432 550.305,-438 550.305,-444 550.305,-444 550.305,-456 550.305,-456 550.305,-462 544.305,-468 538.305,-468\"/>\n<text text-anchor=\"middle\" x=\"503.805\" y=\"-446.3\" font-family=\"Times,serif\" font-size=\"14.00\" fill=\"#000000\">GurchenkoId</text>\n</g>\n<!-- db.person&#45;&gt;GurchenkoId -->\n<g id=\"edge13\" class=\"edge\">\n<title>db.person&#45;&gt;GurchenkoId</title>\n<path fill=\"none\" stroke=\"#000000\" d=\"M384.7547,-505.3008C405.8199,-495.5157 432.6996,-483.0296 455.5856,-472.3987\"/>\n<polygon fill=\"#000000\" stroke=\"#000000\" points=\"457.1972,-475.5093 464.792,-468.1222 454.2482,-469.1608 457.1972,-475.5093\"/>\n</g>\n<!-- db.person&#45;&gt;PathFromVladimirToArnold -->\n<g id=\"edge9\" class=\"edge\">\n<title>db.person&#45;&gt;PathFromVladimirToArnold</title>\n<path fill=\"none\" stroke=\"#000000\" d=\"M344.3434,-503.9993C335.263,-463.8268 317.6845,-364.3871 344.805,-288 393.6487,-150.4277 563.1219,-68.723 648.2302,-35.4533\"/>\n<polygon fill=\"#000000\" stroke=\"#000000\" points=\"649.6029,-38.6754 657.6827,-31.822 647.0926,-32.1409 649.6029,-38.6754\"/>\n</g>\n<!-- SchwarzeneggerId -->\n<g id=\"node13\" class=\"node\">\n<title>SchwarzeneggerId</title>\n<path fill=\"#caff70\" stroke=\"#575757\" d=\"M463.805,-324C463.805,-324 365.805,-324 365.805,-324 359.805,-324 353.805,-318 353.805,-312 353.805,-312 353.805,-300 353.805,-300 353.805,-294 359.805,-288 365.805,-288 365.805,-288 463.805,-288 463.805,-288 469.805,-288 475.805,-294 475.805,-300 475.805,-300 475.805,-312 475.805,-312 475.805,-318 469.805,-324 463.805,-324\"/>\n<text text-anchor=\"middle\" x=\"414.805\" y=\"-302.3\" font-family=\"Times,serif\" font-size=\"14.00\" fill=\"#000000\">SchwarzeneggerId</text>\n</g>\n<!-- db.person&#45;&gt;SchwarzeneggerId -->\n<g id=\"edge24\" class=\"edge\">\n<title>db.person&#45;&gt;SchwarzeneggerId</title>\n<path fill=\"none\" stroke=\"#000000\" d=\"M354.3186,-503.9555C365.8443,-466.235 392.5548,-378.8188 406.2984,-333.8399\"/>\n<polygon fill=\"#000000\" stroke=\"#000000\" points=\"409.6856,-334.7314 409.2607,-324.1451 402.9912,-332.6858 409.6856,-334.7314\"/>\n</g>\n<!-- VysotskyId -->\n<g id=\"node14\" class=\"node\">\n<title>VysotskyId</title>\n<path fill=\"#caff70\" stroke=\"#575757\" d=\"M728.805,-468C728.805,-468 670.805,-468 670.805,-468 664.805,-468 658.805,-462 658.805,-456 658.805,-456 658.805,-444 658.805,-444 658.805,-438 664.805,-432 670.805,-432 670.805,-432 728.805,-432 728.805,-432 734.805,-432 740.805,-438 740.805,-444 740.805,-444 740.805,-456 740.805,-456 740.805,-462 734.805,-468 728.805,-468\"/>\n<text text-anchor=\"middle\" x=\"699.805\" y=\"-446.3\" font-family=\"Times,serif\" font-size=\"14.00\" fill=\"#000000\">VysotskyId</text>\n</g>\n<!-- db.person&#45;&gt;VysotskyId -->\n<g id=\"edge16\" class=\"edge\">\n<title>db.person&#45;&gt;VysotskyId</title>\n<path fill=\"none\" stroke=\"#000000\" d=\"M385.8474,-517.3975C441.2433,-510.0731 548.9754,-494.1243 648.8312,-468.0285\"/>\n<polygon fill=\"#000000\" stroke=\"#000000\" points=\"650.0112,-471.3366 658.7783,-465.3878 648.215,-464.571 650.0112,-471.3366\"/>\n</g>\n<!-- SomePeople -->\n<g id=\"node15\" class=\"node\">\n<title>SomePeople</title>\n<path fill=\"#caff70\" stroke=\"#575757\" d=\"M70.0866,-465.4154C70.0866,-465.4154 11.9129,-452.5846 11.9129,-452.5846 6.0537,-451.2923 6.0537,-448.7077 11.9129,-447.4154 11.9129,-447.4154 70.0866,-434.5846 70.0866,-434.5846 75.9458,-433.2923 87.6642,-433.2923 93.5234,-434.5846 93.5234,-434.5846 151.6971,-447.4154 151.6971,-447.4154 157.5563,-448.7077 157.5563,-451.2923 151.6971,-452.5846 151.6971,-452.5846 93.5234,-465.4154 93.5234,-465.4154 87.6642,-466.7077 75.9458,-466.7077 70.0866,-465.4154\"/>\n<text text-anchor=\"middle\" x=\"81.805\" y=\"-446.3\" font-family=\"Times,serif\" font-size=\"14.00\" fill=\"#000000\">SomePeople</text>\n</g>\n<!-- db.person&#45;&gt;SomePeople -->\n<g id=\"edge17\" class=\"edge\">\n<title>db.person&#45;&gt;SomePeople</title>\n<path fill=\"none\" stroke=\"#000000\" d=\"M311.6798,-511.9887C263.7572,-499.0658 180.3572,-476.5759 128.2764,-462.5316\"/>\n<polygon fill=\"#000000\" stroke=\"#000000\" points=\"129.1813,-459.1507 118.6149,-459.9263 127.3587,-465.9093 129.1813,-459.1507\"/>\n</g>\n<!-- MonroeId -->\n<g id=\"node22\" class=\"node\">\n<title>MonroeId</title>\n<path fill=\"#caff70\" stroke=\"#575757\" d=\"M285.805,-396C285.805,-396 235.805,-396 235.805,-396 229.805,-396 223.805,-390 223.805,-384 223.805,-384 223.805,-372 223.805,-372 223.805,-366 229.805,-360 235.805,-360 235.805,-360 285.805,-360 285.805,-360 291.805,-360 297.805,-366 297.805,-372 297.805,-372 297.805,-384 297.805,-384 297.805,-390 291.805,-396 285.805,-396\"/>\n<text text-anchor=\"middle\" x=\"260.805\" y=\"-374.3\" font-family=\"Times,serif\" font-size=\"14.00\" fill=\"#000000\">MonroeId</text>\n</g>\n<!-- db.person&#45;&gt;MonroeId -->\n<g id=\"edge44\" class=\"edge\">\n<title>db.person&#45;&gt;MonroeId</title>\n<path fill=\"none\" stroke=\"#000000\" d=\"M335.7382,-503.7639C328.4702,-493.4175 319.3886,-480.1463 311.805,-468 298.8459,-447.2438 285.2346,-423.0877 275.3362,-405.0303\"/>\n<polygon fill=\"#000000\" stroke=\"#000000\" points=\"278.3795,-403.3003 270.5216,-396.1937 272.2327,-406.6494 278.3795,-403.3003\"/>\n</g>\n<!-- ShowbusinessStats -->\n<g id=\"node25\" class=\"node\">\n<title>ShowbusinessStats</title>\n<path fill=\"#caff70\" stroke=\"#575757\" d=\"M861.9499,-466.141C861.9499,-466.141 770.8707,-451.859 770.8707,-451.859 764.9432,-450.9295 764.9432,-449.0705 770.8707,-448.141 770.8707,-448.141 861.9499,-433.859 861.9499,-433.859 867.8774,-432.9295 879.7326,-432.9295 885.6601,-433.859 885.6601,-433.859 976.7393,-448.141 976.7393,-448.141 982.6668,-449.0705 982.6668,-450.9295 976.7393,-451.859 976.7393,-451.859 885.6601,-466.141 885.6601,-466.141 879.7326,-467.0705 867.8774,-467.0705 861.9499,-466.141\"/>\n<text text-anchor=\"middle\" x=\"873.805\" y=\"-446.3\" font-family=\"Times,serif\" font-size=\"14.00\" fill=\"#000000\">ShowbusinessStats</text>\n</g>\n<!-- db.person&#45;&gt;ShowbusinessStats -->\n<g id=\"edge38\" class=\"edge\">\n<title>db.person&#45;&gt;ShowbusinessStats</title>\n<path fill=\"none\" stroke=\"#000000\" d=\"M385.8632,-517.1393C456.6293,-507.8285 615.8849,-486.7366 749.805,-468 767.4539,-465.5308 786.5054,-462.7986 804.2546,-460.2246\"/>\n<polygon fill=\"#000000\" stroke=\"#000000\" points=\"805.1414,-463.6326 814.534,-458.7306 804.1346,-456.7054 805.1414,-463.6326\"/>\n</g>\n<!-- OnlyPath_f7 -->\n<g id=\"node4\" class=\"node\">\n<title>OnlyPath_f7</title>\n<path fill=\"#caff70\" stroke=\"#575757\" d=\"M299.305,-108C299.305,-108 232.305,-108 232.305,-108 226.305,-108 220.305,-102 220.305,-96 220.305,-96 220.305,-84 220.305,-84 220.305,-78 226.305,-72 232.305,-72 232.305,-72 299.305,-72 299.305,-72 305.305,-72 311.305,-78 311.305,-84 311.305,-84 311.305,-96 311.305,-96 311.305,-102 305.305,-108 299.305,-108\"/>\n<text text-anchor=\"middle\" x=\"265.805\" y=\"-86.3\" font-family=\"Times,serif\" font-size=\"14.00\" fill=\"#000000\">OnlyPath_f7</text>\n</g>\n<!-- OnlyPath_f7&#45;&gt;PathFromLyudmilaToMarilyn -->\n<g id=\"edge3\" class=\"edge\">\n<title>OnlyPath_f7&#45;&gt;PathFromLyudmilaToMarilyn</title>\n<path fill=\"none\" stroke=\"#000000\" d=\"M265.805,-71.8314C265.805,-64.131 265.805,-54.9743 265.805,-46.4166\"/>\n<polygon fill=\"#000000\" stroke=\"#000000\" points=\"269.3051,-46.4132 265.805,-36.4133 262.3051,-46.4133 269.3051,-46.4132\"/>\n</g>\n<!-- db.award -->\n<g id=\"node5\" class=\"node\">\n<title>db.award</title>\n<path fill=\"#b0e2ff\" stroke=\"#575757\" d=\"M1654.805,-536.7273C1654.805,-538.5331 1639.1174,-540 1619.805,-540 1600.4926,-540 1584.805,-538.5331 1584.805,-536.7273 1584.805,-536.7273 1584.805,-507.2727 1584.805,-507.2727 1584.805,-505.4669 1600.4926,-504 1619.805,-504 1639.1174,-504 1654.805,-505.4669 1654.805,-507.2727 1654.805,-507.2727 1654.805,-536.7273 1654.805,-536.7273\"/>\n<path fill=\"none\" stroke=\"#575757\" d=\"M1654.805,-536.7273C1654.805,-534.9214 1639.1174,-533.4545 1619.805,-533.4545 1600.4926,-533.4545 1584.805,-534.9214 1584.805,-536.7273\"/>\n<text text-anchor=\"middle\" x=\"1619.805\" y=\"-518.3\" font-family=\"Times,serif\" font-size=\"14.00\" fill=\"#000000\">db.award</text>\n</g>\n<!-- SomeAwards -->\n<g id=\"node26\" class=\"node\">\n<title>SomeAwards</title>\n<path fill=\"#caff70\" stroke=\"#575757\" d=\"M1608.0676,-465.5034C1608.0676,-465.5034 1546.9174,-452.4966 1546.9174,-452.4966 1541.0487,-451.2483 1541.0487,-448.7517 1546.9174,-447.5034 1546.9174,-447.5034 1608.0676,-434.4966 1608.0676,-434.4966 1613.9363,-433.2483 1625.6737,-433.2483 1631.5424,-434.4966 1631.5424,-434.4966 1692.6926,-447.5034 1692.6926,-447.5034 1698.5613,-448.7517 1698.5613,-451.2483 1692.6926,-452.4966 1692.6926,-452.4966 1631.5424,-465.5034 1631.5424,-465.5034 1625.6737,-466.7517 1613.9363,-466.7517 1608.0676,-465.5034\"/>\n<text text-anchor=\"middle\" x=\"1619.805\" y=\"-446.3\" font-family=\"Times,serif\" font-size=\"14.00\" fill=\"#000000\">SomeAwards</text>\n</g>\n<!-- db.award&#45;&gt;SomeAwards -->\n<g id=\"edge43\" class=\"edge\">\n<title>db.award&#45;&gt;SomeAwards</title>\n<path fill=\"none\" stroke=\"#000000\" d=\"M1619.805,-503.8314C1619.805,-496.131 1619.805,-486.9743 1619.805,-478.4166\"/>\n<polygon fill=\"#000000\" stroke=\"#000000\" points=\"1623.3051,-478.4132 1619.805,-468.4133 1616.3051,-478.4133 1623.3051,-478.4132\"/>\n</g>\n<!-- PathTo_r1_f7&#45;&gt;PathTo_r2_f7 -->\n<g id=\"edge11\" class=\"edge\">\n<title>PathTo_r1_f7&#45;&gt;PathTo_r2_f7</title>\n<path fill=\"none\" stroke=\"#000000\" d=\"M614.0105,-287.8314C611.9561,-280.0463 609.509,-270.7729 607.2294,-262.1347\"/>\n<polygon fill=\"#000000\" stroke=\"#000000\" points=\"610.5998,-261.1892 604.6641,-252.4133 603.8315,-262.9753 610.5998,-261.1892\"/>\n</g>\n<!-- GurchenkoId&#45;&gt;PathTo_r1_f7 -->\n<g id=\"edge4\" class=\"edge\">\n<title>GurchenkoId&#45;&gt;PathTo_r1_f7</title>\n<path fill=\"none\" stroke=\"#000000\" d=\"M513.4759,-431.8329C523.9253,-412.9709 541.6676,-383.054 560.805,-360 569.3337,-349.7258 579.7321,-339.4804 589.3566,-330.7187\"/>\n<polygon fill=\"#000000\" stroke=\"#000000\" points=\"591.7184,-333.3021 596.8588,-324.0378 587.0631,-328.0744 591.7184,-333.3021\"/>\n</g>\n<!-- GurchenkoId&#45;&gt;PathTo_r0_f7 -->\n<g id=\"edge31\" class=\"edge\">\n<title>GurchenkoId&#45;&gt;PathTo_r0_f7</title>\n<path fill=\"none\" stroke=\"#000000\" d=\"M532.8244,-431.8314C547.5336,-422.6221 565.5694,-411.3301 581.3172,-401.4706\"/>\n<polygon fill=\"#000000\" stroke=\"#000000\" points=\"583.1764,-404.436 589.7949,-396.1628 579.4617,-398.5029 583.1764,-404.436\"/>\n</g>\n<!-- GurchenkoId&#45;&gt;PathTo_r2_f7 -->\n<g id=\"edge10\" class=\"edge\">\n<title>GurchenkoId&#45;&gt;PathTo_r2_f7</title>\n<path fill=\"none\" stroke=\"#000000\" d=\"M508.1252,-431.6768C515.8711,-400.7559 533.8701,-336.8165 560.805,-288 566.0007,-278.5834 572.5683,-268.882 578.8254,-260.3455\"/>\n<polygon fill=\"#000000\" stroke=\"#000000\" points=\"581.7005,-262.3458 584.9167,-252.2509 576.1072,-258.1367 581.7005,-262.3458\"/>\n</g>\n<!-- GurchenkoId&#45;&gt;PathTo_f7 -->\n<g id=\"edge40\" class=\"edge\">\n<title>GurchenkoId&#45;&gt;PathTo_f7</title>\n<path fill=\"none\" stroke=\"#000000\" d=\"M505.9109,-431.7122C508.0366,-413.5163 511.473,-384.8058 514.805,-360 522.9432,-299.4136 533.5944,-228.5729 539.4595,-190.1967\"/>\n<polygon fill=\"#000000\" stroke=\"#000000\" points=\"542.9256,-190.6838 540.9807,-180.269 536.0063,-189.6235 542.9256,-190.6838\"/>\n</g>\n<!-- PathTo_r0_f7&#45;&gt;PathTo_r1_f7 -->\n<g id=\"edge6\" class=\"edge\">\n<title>PathTo_r0_f7&#45;&gt;PathTo_r1_f7</title>\n<path fill=\"none\" stroke=\"#000000\" d=\"M618.805,-359.8314C618.805,-352.131 618.805,-342.9743 618.805,-334.4166\"/>\n<polygon fill=\"#000000\" stroke=\"#000000\" points=\"622.3051,-334.4132 618.805,-324.4133 615.3051,-334.4133 622.3051,-334.4132\"/>\n</g>\n<!-- OnlyPath -->\n<g id=\"node10\" class=\"node\">\n<title>OnlyPath</title>\n<path fill=\"#caff70\" stroke=\"#575757\" d=\"M721.305,-108C721.305,-108 674.305,-108 674.305,-108 668.305,-108 662.305,-102 662.305,-96 662.305,-96 662.305,-84 662.305,-84 662.305,-78 668.305,-72 674.305,-72 674.305,-72 721.305,-72 721.305,-72 727.305,-72 733.305,-78 733.305,-84 733.305,-84 733.305,-96 733.305,-96 733.305,-102 727.305,-108 721.305,-108\"/>\n<text text-anchor=\"middle\" x=\"697.805\" y=\"-86.3\" font-family=\"Times,serif\" font-size=\"14.00\" fill=\"#000000\">OnlyPath</text>\n</g>\n<!-- OnlyPath&#45;&gt;PathFromVladimirToArnold -->\n<g id=\"edge8\" class=\"edge\">\n<title>OnlyPath&#45;&gt;PathFromVladimirToArnold</title>\n<path fill=\"none\" stroke=\"#000000\" d=\"M697.805,-71.8314C697.805,-64.131 697.805,-54.9743 697.805,-46.4166\"/>\n<polygon fill=\"#000000\" stroke=\"#000000\" points=\"701.3051,-46.4132 697.805,-36.4133 694.3051,-46.4133 701.3051,-46.4132\"/>\n</g>\n<!-- PathTo_r2_f7&#45;&gt;PathTo_f7 -->\n<g id=\"edge42\" class=\"edge\">\n<title>PathTo_r2_f7&#45;&gt;PathTo_f7</title>\n<path fill=\"none\" stroke=\"#000000\" d=\"M585.6738,-215.8314C579.2239,-207.5386 571.4605,-197.557 564.3798,-188.4533\"/>\n<polygon fill=\"#000000\" stroke=\"#000000\" points=\"567.0286,-186.158 558.1264,-180.4133 561.5031,-190.4556 567.0286,-186.158\"/>\n</g>\n<!-- PathTo&#45;&gt;OnlyPath -->\n<g id=\"edge14\" class=\"edge\">\n<title>PathTo&#45;&gt;OnlyPath</title>\n<path fill=\"none\" stroke=\"#000000\" d=\"M751.6364,-143.8314C743.0898,-135.2848 732.7493,-124.9443 723.4248,-115.6198\"/>\n<polygon fill=\"#000000\" stroke=\"#000000\" points=\"725.7642,-113.0095 716.2183,-108.4133 720.8145,-117.9592 725.7642,-113.0095\"/>\n</g>\n<!-- SchwarzeneggerId&#45;&gt;OnlyPath -->\n<g id=\"edge15\" class=\"edge\">\n<title>SchwarzeneggerId&#45;&gt;OnlyPath</title>\n<path fill=\"none\" stroke=\"#000000\" d=\"M418.6889,-287.8423C426.8496,-254.2044 449.0192,-182.1587 495.805,-144 519.6063,-124.5875 600.2027,-107.2443 652.1102,-97.7167\"/>\n<polygon fill=\"#000000\" stroke=\"#000000\" points=\"652.8643,-101.1372 662.0839,-95.917 651.6213,-94.2484 652.8643,-101.1372\"/>\n</g>\n<!-- VysotskyId&#45;&gt;PathTo -->\n<g id=\"edge36\" class=\"edge\">\n<title>VysotskyId&#45;&gt;PathTo</title>\n<path fill=\"none\" stroke=\"#000000\" d=\"M702.2381,-431.9626C704.8336,-413.7148 709.3223,-384.7447 714.805,-360 728.3848,-298.711 749.2803,-228.1336 761.0195,-189.9906\"/>\n<polygon fill=\"#000000\" stroke=\"#000000\" points=\"764.4591,-190.715 764.074,-180.1271 757.7724,-188.6442 764.4591,-190.715\"/>\n</g>\n<!-- VysotskyId&#45;&gt;PathTo_r1 -->\n<g id=\"edge19\" class=\"edge\">\n<title>VysotskyId&#45;&gt;PathTo_r1</title>\n<path fill=\"none\" stroke=\"#000000\" d=\"M741.0655,-435.0386C768.8462,-424.0322 801.8171,-408.8198 809.805,-396 821.3492,-377.4727 817.7017,-352.5278 811.9575,-333.5986\"/>\n<polygon fill=\"#000000\" stroke=\"#000000\" points=\"815.248,-332.4028 808.7333,-324.0476 808.6157,-334.6418 815.248,-332.4028\"/>\n</g>\n<!-- VysotskyId&#45;&gt;PathTo_r0 -->\n<g id=\"edge27\" class=\"edge\">\n<title>VysotskyId&#45;&gt;PathTo_r0</title>\n<path fill=\"none\" stroke=\"#000000\" d=\"M715.7026,-431.8314C723.0327,-423.454 731.871,-413.3531 739.9019,-404.1749\"/>\n<polygon fill=\"#000000\" stroke=\"#000000\" points=\"742.7423,-406.2438 746.6934,-396.4133 737.4743,-401.6343 742.7423,-406.2438\"/>\n</g>\n<!-- VysotskyId&#45;&gt;PathTo_r2 -->\n<g id=\"edge30\" class=\"edge\">\n<title>VysotskyId&#45;&gt;PathTo_r2</title>\n<path fill=\"none\" stroke=\"#000000\" d=\"M740.9735,-434.6937C776.0115,-421.3341 821.6335,-403.0186 827.805,-396 860.1204,-359.2488 851.7754,-297.708 843.0903,-261.9919\"/>\n<polygon fill=\"#000000\" stroke=\"#000000\" points=\"846.4528,-261.0149 840.5472,-252.2186 839.6784,-262.7777 846.4528,-261.0149\"/>\n</g>\n<!-- PathTo_r1&#45;&gt;PathTo_r2 -->\n<g id=\"edge28\" class=\"edge\">\n<title>PathTo_r1&#45;&gt;PathTo_r2</title>\n<path fill=\"none\" stroke=\"#000000\" d=\"M809.3846,-287.8314C813.1408,-279.8771 817.6307,-270.369 821.7847,-261.5723\"/>\n<polygon fill=\"#000000\" stroke=\"#000000\" points=\"825.0046,-262.9503 826.1098,-252.4133 818.6748,-259.9612 825.0046,-262.9503\"/>\n</g>\n<!-- PathTo_r0&#45;&gt;PathTo_r1 -->\n<g id=\"edge20\" class=\"edge\">\n<title>PathTo_r0&#45;&gt;PathTo_r1</title>\n<path fill=\"none\" stroke=\"#000000\" d=\"M772.394,-359.8314C776.6367,-351.7925 781.7171,-342.1666 786.401,-333.2918\"/>\n<polygon fill=\"#000000\" stroke=\"#000000\" points=\"789.5146,-334.8908 791.0869,-324.4133 783.3239,-331.6235 789.5146,-334.8908\"/>\n</g>\n<!-- nil -->\n<g id=\"node18\" class=\"node\">\n<title>nil</title>\n<path fill=\"#b0e2ff\" stroke=\"#575757\" d=\"M640.805,-464.7273C640.805,-466.5331 628.7032,-468 613.805,-468 598.9068,-468 586.805,-466.5331 586.805,-464.7273 586.805,-464.7273 586.805,-435.2727 586.805,-435.2727 586.805,-433.4669 598.9068,-432 613.805,-432 628.7032,-432 640.805,-433.4669 640.805,-435.2727 640.805,-435.2727 640.805,-464.7273 640.805,-464.7273\"/>\n<path fill=\"none\" stroke=\"#575757\" d=\"M640.805,-464.7273C640.805,-462.9214 628.7032,-461.4545 613.805,-461.4545 598.9068,-461.4545 586.805,-462.9214 586.805,-464.7273\"/>\n<text text-anchor=\"middle\" x=\"613.805\" y=\"-446.3\" font-family=\"Times,serif\" font-size=\"14.00\" fill=\"#000000\">nil</text>\n</g>\n<!-- nil&#45;&gt;PathTo_r0_f7 -->\n<g id=\"edge32\" class=\"edge\">\n<title>nil&#45;&gt;PathTo_r0_f7</title>\n<path fill=\"none\" stroke=\"#000000\" d=\"M615.0667,-431.8314C615.6015,-424.131 616.2373,-414.9743 616.8316,-406.4166\"/>\n<polygon fill=\"#000000\" stroke=\"#000000\" points=\"620.325,-406.6317 617.5263,-396.4133 613.3418,-406.1467 620.325,-406.6317\"/>\n</g>\n<!-- nil&#45;&gt;PathTo_r0 -->\n<g id=\"edge26\" class=\"edge\">\n<title>nil&#45;&gt;PathTo_r0</title>\n<path fill=\"none\" stroke=\"#000000\" d=\"M640.9061,-436.3847C643.905,-434.8974 646.9173,-433.4118 649.805,-432 671.3179,-421.4826 695.2346,-410.0203 715.5052,-400.3727\"/>\n<polygon fill=\"#000000\" stroke=\"#000000\" points=\"717.0117,-403.5319 724.5405,-396.0776 714.0063,-397.2099 717.0117,-403.5319\"/>\n</g>\n<!-- SomeRockBands -->\n<g id=\"node19\" class=\"node\">\n<title>SomeRockBands</title>\n<path fill=\"#caff70\" stroke=\"#575757\" d=\"M1398.9721,-466.0046C1398.9721,-466.0046 1315.8933,-451.9954 1315.8933,-451.9954 1309.9768,-450.9977 1309.9768,-449.0023 1315.8933,-448.0046 1315.8933,-448.0046 1398.9721,-433.9954 1398.9721,-433.9954 1404.8885,-432.9977 1416.7215,-432.9977 1422.6379,-433.9954 1422.6379,-433.9954 1505.7167,-448.0046 1505.7167,-448.0046 1511.6331,-449.0023 1511.6331,-450.9977 1505.7167,-451.9954 1505.7167,-451.9954 1422.6379,-466.0046 1422.6379,-466.0046 1416.7215,-467.0023 1404.8885,-467.0023 1398.9721,-466.0046\"/>\n<text text-anchor=\"middle\" x=\"1410.805\" y=\"-446.3\" font-family=\"Times,serif\" font-size=\"14.00\" fill=\"#000000\">SomeRockBands</text>\n</g>\n<!-- db.rockband -->\n<g id=\"node20\" class=\"node\">\n<title>db.rockband</title>\n<path fill=\"#b0e2ff\" stroke=\"#575757\" d=\"M1325.305,-536.7273C1325.305,-538.5331 1305.3594,-540 1280.805,-540 1256.2506,-540 1236.305,-538.5331 1236.305,-536.7273 1236.305,-536.7273 1236.305,-507.2727 1236.305,-507.2727 1236.305,-505.4669 1256.2506,-504 1280.805,-504 1305.3594,-504 1325.305,-505.4669 1325.305,-507.2727 1325.305,-507.2727 1325.305,-536.7273 1325.305,-536.7273\"/>\n<path fill=\"none\" stroke=\"#575757\" d=\"M1325.305,-536.7273C1325.305,-534.9214 1305.3594,-533.4545 1280.805,-533.4545 1256.2506,-533.4545 1236.305,-534.9214 1236.305,-536.7273\"/>\n<text text-anchor=\"middle\" x=\"1280.805\" y=\"-518.3\" font-family=\"Times,serif\" font-size=\"14.00\" fill=\"#000000\">db.rockband</text>\n</g>\n<!-- db.rockband&#45;&gt;SomeRockBands -->\n<g id=\"edge21\" class=\"edge\">\n<title>db.rockband&#45;&gt;SomeRockBands</title>\n<path fill=\"none\" stroke=\"#000000\" d=\"M1312.6066,-504.3868C1332.0741,-493.6048 1356.9724,-479.815 1376.8265,-468.8189\"/>\n<polygon fill=\"#000000\" stroke=\"#000000\" points=\"1378.7861,-471.7346 1385.8383,-463.8277 1375.3946,-465.611 1378.7861,-471.7346\"/>\n</g>\n<!-- db.rockband&#45;&gt;ShowbusinessStats -->\n<g id=\"edge39\" class=\"edge\">\n<title>db.rockband&#45;&gt;ShowbusinessStats</title>\n<path fill=\"none\" stroke=\"#000000\" d=\"M1236.0846,-514.0888C1163.8294,-501.3065 1021.1318,-476.0627 938.0205,-461.36\"/>\n<polygon fill=\"#000000\" stroke=\"#000000\" points=\"938.3982,-457.8725 927.9414,-459.577 937.1788,-464.7655 938.3982,-457.8725\"/>\n</g>\n<!-- PathTo_f7&#45;&gt;OnlyPath_f7 -->\n<g id=\"edge22\" class=\"edge\">\n<title>PathTo_f7&#45;&gt;OnlyPath_f7</title>\n<path fill=\"none\" stroke=\"#000000\" d=\"M505.1503,-151.9887C457.3969,-139.6209 375.8099,-118.4905 321.3544,-104.3869\"/>\n<polygon fill=\"#000000\" stroke=\"#000000\" points=\"322.0745,-100.958 311.5164,-101.8389 320.3194,-107.7344 322.0745,-100.958\"/>\n</g>\n<!-- MonroeId&#45;&gt;OnlyPath_f7 -->\n<g id=\"edge23\" class=\"edge\">\n<title>MonroeId&#45;&gt;OnlyPath_f7</title>\n<path fill=\"none\" stroke=\"#000000\" d=\"M261.1178,-359.9843C261.9631,-311.2939 264.2981,-176.7961 265.3179,-118.0573\"/>\n<polygon fill=\"#000000\" stroke=\"#000000\" points=\"268.8181,-118.0682 265.4923,-108.0089 261.8192,-117.9466 268.8181,-118.0682\"/>\n</g>\n<!-- PathTo_r2&#45;&gt;PathTo -->\n<g id=\"edge34\" class=\"edge\">\n<title>PathTo_r2&#45;&gt;PathTo</title>\n<path fill=\"none\" stroke=\"#000000\" d=\"M818.4028,-215.8314C810.7635,-207.3694 801.5366,-197.1489 793.1843,-187.8971\"/>\n<polygon fill=\"#000000\" stroke=\"#000000\" points=\"795.7271,-185.4906 786.4281,-180.4133 790.5312,-190.1813 795.7271,-185.4906\"/>\n</g>\n<!-- db.movie -->\n<g id=\"node24\" class=\"node\">\n<title>db.movie</title>\n<path fill=\"#b0e2ff\" stroke=\"#575757\" d=\"M1088.305,-536.7273C1088.305,-538.5331 1072.3933,-540 1052.805,-540 1033.2167,-540 1017.305,-538.5331 1017.305,-536.7273 1017.305,-536.7273 1017.305,-507.2727 1017.305,-507.2727 1017.305,-505.4669 1033.2167,-504 1052.805,-504 1072.3933,-504 1088.305,-505.4669 1088.305,-507.2727 1088.305,-507.2727 1088.305,-536.7273 1088.305,-536.7273\"/>\n<path fill=\"none\" stroke=\"#575757\" d=\"M1088.305,-536.7273C1088.305,-534.9214 1072.3933,-533.4545 1052.805,-533.4545 1033.2167,-533.4545 1017.305,-534.9214 1017.305,-536.7273\"/>\n<text text-anchor=\"middle\" x=\"1052.805\" y=\"-518.3\" font-family=\"Times,serif\" font-size=\"14.00\" fill=\"#000000\">db.movie</text>\n</g>\n<!-- db.movie&#45;&gt;CastTogether -->\n<g id=\"edge45\" class=\"edge\">\n<title>db.movie&#45;&gt;CastTogether</title>\n<path fill=\"none\" stroke=\"#000000\" d=\"M1052.805,-503.8314C1052.805,-496.131 1052.805,-486.9743 1052.805,-478.4166\"/>\n<polygon fill=\"#000000\" stroke=\"#000000\" points=\"1056.3051,-478.4132 1052.805,-468.4133 1049.3051,-478.4133 1056.3051,-478.4132\"/>\n</g>\n<!-- db.movie&#45;&gt;ShowbusinessStats -->\n<g id=\"edge37\" class=\"edge\">\n<title>db.movie&#45;&gt;ShowbusinessStats</title>\n<path fill=\"none\" stroke=\"#000000\" d=\"M1017.0119,-507.6028C987.8284,-495.8642 946.5554,-479.2627 915.8099,-466.8958\"/>\n<polygon fill=\"#000000\" stroke=\"#000000\" points=\"916.81,-463.5256 906.2262,-463.0409 914.1977,-470.0199 916.81,-463.5256\"/>\n</g>\n<!-- SomeMovies -->\n<g id=\"node27\" class=\"node\">\n<title>SomeMovies</title>\n<path fill=\"#caff70\" stroke=\"#575757\" d=\"M1190.0676,-465.5034C1190.0676,-465.5034 1128.9174,-452.4966 1128.9174,-452.4966 1123.0487,-451.2483 1123.0487,-448.7517 1128.9174,-447.5034 1128.9174,-447.5034 1190.0676,-434.4966 1190.0676,-434.4966 1195.9363,-433.2483 1207.6737,-433.2483 1213.5424,-434.4966 1213.5424,-434.4966 1274.6926,-447.5034 1274.6926,-447.5034 1280.5613,-448.7517 1280.5613,-451.2483 1274.6926,-452.4966 1274.6926,-452.4966 1213.5424,-465.5034 1213.5424,-465.5034 1207.6737,-466.7517 1195.9363,-466.7517 1190.0676,-465.5034\"/>\n<text text-anchor=\"middle\" x=\"1201.805\" y=\"-446.3\" font-family=\"Times,serif\" font-size=\"14.00\" fill=\"#000000\">SomeMovies</text>\n</g>\n<!-- db.movie&#45;&gt;SomeMovies -->\n<g id=\"edge46\" class=\"edge\">\n<title>db.movie&#45;&gt;SomeMovies</title>\n<path fill=\"none\" stroke=\"#000000\" d=\"M1087.3631,-505.3008C1111.194,-493.7852 1142.7662,-478.5288 1166.7118,-466.9578\"/>\n<polygon fill=\"#000000\" stroke=\"#000000\" points=\"1168.3275,-470.0643 1175.8086,-462.562 1165.2819,-463.7616 1168.3275,-470.0643\"/>\n</g>\n</g>\n</svg>\n"
          },
          "metadata": {}
        },
        {
          "output_type": "stream",
          "name": "stdout",
          "text": [
            "Running predicate: SomeAwards (0 seconds)\n",
            "Running predicate: MonroeId (0 seconds)\n",
            "Running predicate: CastTogether (3 seconds)\n",
            "Running predicate: SomeMovies (0 seconds)\n",
            "Running predicate: GurchenkoId (0 seconds)\n",
            "Running predicate: VysotskyId (0 seconds)\n",
            "Running predicate: SomePeople (0 seconds)\n",
            "Running predicate: SomeRockBands (0 seconds)\n",
            "Running predicate: SchwarzeneggerId (0 seconds)\n",
            "Running predicate: PathTo_r0 (0 seconds)\n",
            "Running predicate: PathTo_r0_f7 (0 seconds)\n",
            "Running predicate: ShowbusinessStats (0 seconds)\n",
            "Running predicate: PathTo_r1_f7 (0 seconds)\n",
            "Running predicate: PathTo_r2_f7 (1 seconds)\n",
            "Running predicate: PathTo_r1 (0 seconds)\n",
            "Running predicate: PathTo_r2 (1 seconds)\n",
            "Running predicate: PathTo (14 seconds)\n",
            "Running predicate: PathTo_f7 (11 seconds)\n",
            "Running predicate: OnlyPath (0 seconds)\n",
            "Running predicate: OnlyPath_f7 (0 seconds)\n",
            "Running predicate: PathFromLyudmilaToMarilyn (88 seconds)\n",
            "Running predicate: PathFromVladimirToArnold (105 seconds)\n"
          ]
        },
        {
          "output_type": "display_data",
          "data": {
            "application/javascript": [
              "window[\"c9fe41e4-6720-11ec-87a2-0242ac1c0002\"] = google.colab.output.setActiveOutputArea(window[\"3eddd426-6720-11ec-87a2-0242ac1c0002\"]);\n",
              "//# sourceURL=js_374f4bd763"
            ],
            "text/plain": [
              "<IPython.core.display.Javascript object>"
            ]
          },
          "metadata": {}
        },
        {
          "output_type": "display_data",
          "data": {
            "application/javascript": [
              "window[\"ca0247da-6720-11ec-87a2-0242ac1c0002\"] = google.colab.output.getActiveOutputArea();\n",
              "//# sourceURL=js_e1e9b6a0cc"
            ],
            "text/plain": [
              "<IPython.core.display.Javascript object>"
            ]
          },
          "metadata": {}
        },
        {
          "output_type": "display_data",
          "data": {
            "application/javascript": [
              "window[\"ca02aa68-6720-11ec-87a2-0242ac1c0002\"] = document.querySelector(\"#id326_content_0\");\n",
              "//# sourceURL=js_61c4fcfc54"
            ],
            "text/plain": [
              "<IPython.core.display.Javascript object>"
            ]
          },
          "metadata": {}
        },
        {
          "output_type": "display_data",
          "data": {
            "application/javascript": [
              "window[\"ca02edfc-6720-11ec-87a2-0242ac1c0002\"] = google.colab.output.setActiveOutputArea(window[\"ca02aa68-6720-11ec-87a2-0242ac1c0002\"]);\n",
              "//# sourceURL=js_ab0e4ec099"
            ],
            "text/plain": [
              "<IPython.core.display.Javascript object>"
            ]
          },
          "metadata": {}
        },
        {
          "output_type": "display_data",
          "data": {
            "application/javascript": [
              "window[\"ca0342a2-6720-11ec-87a2-0242ac1c0002\"] = window[\"id326\"].setSelectedTabIndex(0);\n",
              "//# sourceURL=js_1d8ae03ab3"
            ],
            "text/plain": [
              "<IPython.core.display.Javascript object>"
            ]
          },
          "metadata": {}
        },
        {
          "output_type": "display_data",
          "data": {
            "application/javascript": [
              "window[\"ca056ec4-6720-11ec-87a2-0242ac1c0002\"] = google.colab.output.getActiveOutputArea();\n",
              "//# sourceURL=js_7f049c42ba"
            ],
            "text/plain": [
              "<IPython.core.display.Javascript object>"
            ]
          },
          "metadata": {}
        },
        {
          "output_type": "display_data",
          "data": {
            "application/javascript": [
              "window[\"ca05afec-6720-11ec-87a2-0242ac1c0002\"] = document.querySelector(\"#id327_content_1\");\n",
              "//# sourceURL=js_d52cd9185d"
            ],
            "text/plain": [
              "<IPython.core.display.Javascript object>"
            ]
          },
          "metadata": {}
        },
        {
          "output_type": "display_data",
          "data": {
            "application/javascript": [
              "window[\"ca05f498-6720-11ec-87a2-0242ac1c0002\"] = google.colab.output.setActiveOutputArea(window[\"ca05afec-6720-11ec-87a2-0242ac1c0002\"]);\n",
              "//# sourceURL=js_9803e0cc3b"
            ],
            "text/plain": [
              "<IPython.core.display.Javascript object>"
            ]
          },
          "metadata": {}
        },
        {
          "output_type": "display_data",
          "data": {
            "application/javascript": [
              "window[\"ca063854-6720-11ec-87a2-0242ac1c0002\"] = window[\"id327\"].setSelectedTabIndex(1);\n",
              "//# sourceURL=js_158299b092"
            ],
            "text/plain": [
              "<IPython.core.display.Javascript object>"
            ]
          },
          "metadata": {}
        },
        {
          "output_type": "stream",
          "name": "stdout",
          "text": [
            "The following table is stored at \u001b[1mSomeMovies\u001b[0m variable.\n"
          ]
        },
        {
          "output_type": "display_data",
          "data": {
            "application/vnd.google.colaboratory.module+javascript": "\n      import \"https://ssl.gstatic.com/colaboratory/data_table/a6224c040fa35dcf/data_table.js\";\n\n      window.createDataTable({\n        data: [[{\n            'v': 0,\n            'f': \"0\",\n        },\n{\n            'v': 10449147,\n            'f': \"10449147\",\n        },\n\"Chez nous\",\n\"[458752]\"],\n [{\n            'v': 1,\n            'f': \"1\",\n        },\n{\n            'v': 1764347,\n            'f': \"1764347\",\n        },\n\"SOS \\u2013 en segels\\u00e4llskapsresa\",\n\"[458752,714141,5961246,1770250,3372998,5627798]\"],\n [{\n            'v': 2,\n            'f': \"2\",\n        },\n{\n            'v': 517239,\n            'f': \"517239\",\n        },\n\"The Big Blue\",\n\"[524544,551683,89130,109232,484779,3898080,43697,3287976,530176,2178802,3170909,470260,132205,17418814,260909,2524503]\"],\n [{\n            'v': 3,\n            'f': \"3\",\n        },\n{\n            'v': 4004228,\n            'f': \"4004228\",\n        },\n\"A Perfect Family\",\n\"[524544,468793,241154,3846163,3734264,450442,202281]\"],\n [{\n            'v': 4,\n            'f': \"4\",\n        },\n{\n            'v': 25460,\n            'f': \"25460\",\n        },\n\"36 Views from the Pic Saint-Loup\",\n\"[524544,212873,2848242,441071,923461,3559331]\"],\n [{\n            'v': 5,\n            'f': \"5\",\n        },\n{\n            'v': 2943857,\n            'f': \"2943857\",\n        },\n\"Va savoir\",\n\"[524544,298905,3740386,543898,531256,923461,116189,3553690,462147,270005,3124061]\"],\n [{\n            'v': 6,\n            'f': \"6\",\n        },\n{\n            'v': 586569,\n            'f': \"586569\",\n        },\n\"The Star Maker\",\n\"[524544,2437312,983069,3905249,3945964,684794,1225616,472419,3680412,3161841,3993308,775324,3876199]\"],\n [{\n            'v': 7,\n            'f': \"7\",\n        },\n{\n            'v': 2927272,\n            'f': \"2927272\",\n        },\n\"Brief Encounters\",\n\"[512,435805,4400363]\"],\n [{\n            'v': 8,\n            'f': \"8\",\n        },\n{\n            'v': 4444445,\n            'f': \"4444445\",\n        },\n\"\\u0421\\u0442\\u0440\\u044f\\u043f\\u0443\\u0445\\u0430\",\n\"[512,4429200,1750617]\"],\n [{\n            'v': 9,\n            'f': \"9\",\n        },\n{\n            'v': 6461073,\n            'f': \"6461073\",\n        },\n\"La Bailanta\",\n\"[5833472,439182,5475691,22122546,16527966,29425686,29418768,5998407]\"]],\n        columns: [[\"number\", \"index\"], [\"number\", \"movie_id\"], [\"string\", \"name\"], [\"string\", \"casting\"]],\n        columnOptions: [{\"width\": \"1px\", \"className\": \"index_column\"}],\n        rowsPerPage: 25,\n        helpUrl: \"https://colab.research.google.com/notebooks/data_table.ipynb\",\n        suppressOutputScrolling: true,\n        minimumWidth: undefined,\n      });\n    ",
            "text/html": [
              "\n",
              "  <div id=\"df-2dbf98aa-be47-4172-8d07-9b6ac7ccf2dc\">\n",
              "    <div class=\"colab-df-container\">\n",
              "      <div>\n",
              "<style scoped>\n",
              "    .dataframe tbody tr th:only-of-type {\n",
              "        vertical-align: middle;\n",
              "    }\n",
              "\n",
              "    .dataframe tbody tr th {\n",
              "        vertical-align: top;\n",
              "    }\n",
              "\n",
              "    .dataframe thead th {\n",
              "        text-align: right;\n",
              "    }\n",
              "</style>\n",
              "<table border=\"1\" class=\"dataframe\">\n",
              "  <thead>\n",
              "    <tr style=\"text-align: right;\">\n",
              "      <th></th>\n",
              "      <th>movie_id</th>\n",
              "      <th>name</th>\n",
              "      <th>casting</th>\n",
              "    </tr>\n",
              "  </thead>\n",
              "  <tbody>\n",
              "    <tr>\n",
              "      <th>0</th>\n",
              "      <td>10449147</td>\n",
              "      <td>Chez nous</td>\n",
              "      <td>[458752]</td>\n",
              "    </tr>\n",
              "    <tr>\n",
              "      <th>1</th>\n",
              "      <td>1764347</td>\n",
              "      <td>SOS – en segelsällskapsresa</td>\n",
              "      <td>[458752,714141,5961246,1770250,3372998,5627798]</td>\n",
              "    </tr>\n",
              "    <tr>\n",
              "      <th>2</th>\n",
              "      <td>517239</td>\n",
              "      <td>The Big Blue</td>\n",
              "      <td>[524544,551683,89130,109232,484779,3898080,436...</td>\n",
              "    </tr>\n",
              "    <tr>\n",
              "      <th>3</th>\n",
              "      <td>4004228</td>\n",
              "      <td>A Perfect Family</td>\n",
              "      <td>[524544,468793,241154,3846163,3734264,450442,2...</td>\n",
              "    </tr>\n",
              "    <tr>\n",
              "      <th>4</th>\n",
              "      <td>25460</td>\n",
              "      <td>36 Views from the Pic Saint-Loup</td>\n",
              "      <td>[524544,212873,2848242,441071,923461,3559331]</td>\n",
              "    </tr>\n",
              "    <tr>\n",
              "      <th>5</th>\n",
              "      <td>2943857</td>\n",
              "      <td>Va savoir</td>\n",
              "      <td>[524544,298905,3740386,543898,531256,923461,11...</td>\n",
              "    </tr>\n",
              "    <tr>\n",
              "      <th>6</th>\n",
              "      <td>586569</td>\n",
              "      <td>The Star Maker</td>\n",
              "      <td>[524544,2437312,983069,3905249,3945964,684794,...</td>\n",
              "    </tr>\n",
              "    <tr>\n",
              "      <th>7</th>\n",
              "      <td>2927272</td>\n",
              "      <td>Brief Encounters</td>\n",
              "      <td>[512,435805,4400363]</td>\n",
              "    </tr>\n",
              "    <tr>\n",
              "      <th>8</th>\n",
              "      <td>4444445</td>\n",
              "      <td>Стряпуха</td>\n",
              "      <td>[512,4429200,1750617]</td>\n",
              "    </tr>\n",
              "    <tr>\n",
              "      <th>9</th>\n",
              "      <td>6461073</td>\n",
              "      <td>La Bailanta</td>\n",
              "      <td>[5833472,439182,5475691,22122546,16527966,2942...</td>\n",
              "    </tr>\n",
              "  </tbody>\n",
              "</table>\n",
              "</div>\n",
              "      <button class=\"colab-df-convert\" onclick=\"convertToInteractive('df-2dbf98aa-be47-4172-8d07-9b6ac7ccf2dc')\"\n",
              "              title=\"Convert this dataframe to an interactive table.\"\n",
              "              style=\"display:none;\">\n",
              "        \n",
              "  <svg xmlns=\"http://www.w3.org/2000/svg\" height=\"24px\"viewBox=\"0 0 24 24\"\n",
              "       width=\"24px\">\n",
              "    <path d=\"M0 0h24v24H0V0z\" fill=\"none\"/>\n",
              "    <path d=\"M18.56 5.44l.94 2.06.94-2.06 2.06-.94-2.06-.94-.94-2.06-.94 2.06-2.06.94zm-11 1L8.5 8.5l.94-2.06 2.06-.94-2.06-.94L8.5 2.5l-.94 2.06-2.06.94zm10 10l.94 2.06.94-2.06 2.06-.94-2.06-.94-.94-2.06-.94 2.06-2.06.94z\"/><path d=\"M17.41 7.96l-1.37-1.37c-.4-.4-.92-.59-1.43-.59-.52 0-1.04.2-1.43.59L10.3 9.45l-7.72 7.72c-.78.78-.78 2.05 0 2.83L4 21.41c.39.39.9.59 1.41.59.51 0 1.02-.2 1.41-.59l7.78-7.78 2.81-2.81c.8-.78.8-2.07 0-2.86zM5.41 20L4 18.59l7.72-7.72 1.47 1.35L5.41 20z\"/>\n",
              "  </svg>\n",
              "      </button>\n",
              "      \n",
              "  <style>\n",
              "    .colab-df-container {\n",
              "      display:flex;\n",
              "      flex-wrap:wrap;\n",
              "      gap: 12px;\n",
              "    }\n",
              "\n",
              "    .colab-df-convert {\n",
              "      background-color: #E8F0FE;\n",
              "      border: none;\n",
              "      border-radius: 50%;\n",
              "      cursor: pointer;\n",
              "      display: none;\n",
              "      fill: #1967D2;\n",
              "      height: 32px;\n",
              "      padding: 0 0 0 0;\n",
              "      width: 32px;\n",
              "    }\n",
              "\n",
              "    .colab-df-convert:hover {\n",
              "      background-color: #E2EBFA;\n",
              "      box-shadow: 0px 1px 2px rgba(60, 64, 67, 0.3), 0px 1px 3px 1px rgba(60, 64, 67, 0.15);\n",
              "      fill: #174EA6;\n",
              "    }\n",
              "\n",
              "    [theme=dark] .colab-df-convert {\n",
              "      background-color: #3B4455;\n",
              "      fill: #D2E3FC;\n",
              "    }\n",
              "\n",
              "    [theme=dark] .colab-df-convert:hover {\n",
              "      background-color: #434B5C;\n",
              "      box-shadow: 0px 1px 3px 1px rgba(0, 0, 0, 0.15);\n",
              "      filter: drop-shadow(0px 1px 2px rgba(0, 0, 0, 0.3));\n",
              "      fill: #FFFFFF;\n",
              "    }\n",
              "  </style>\n",
              "\n",
              "      <script>\n",
              "        const buttonEl =\n",
              "          document.querySelector('#df-2dbf98aa-be47-4172-8d07-9b6ac7ccf2dc button.colab-df-convert');\n",
              "        buttonEl.style.display =\n",
              "          google.colab.kernel.accessAllowed ? 'block' : 'none';\n",
              "\n",
              "        async function convertToInteractive(key) {\n",
              "          const element = document.querySelector('#df-2dbf98aa-be47-4172-8d07-9b6ac7ccf2dc');\n",
              "          const dataTable =\n",
              "            await google.colab.kernel.invokeFunction('convertToInteractive',\n",
              "                                                     [key], {});\n",
              "          if (!dataTable) return;\n",
              "\n",
              "          const docLinkHtml = 'Like what you see? Visit the ' +\n",
              "            '<a target=\"_blank\" href=https://colab.research.google.com/notebooks/data_table.ipynb>data table notebook</a>'\n",
              "            + ' to learn more about interactive tables.';\n",
              "          element.innerHTML = '';\n",
              "          dataTable['output_type'] = 'display_data';\n",
              "          await google.colab.output.renderOutput(dataTable, element);\n",
              "          const docLink = document.createElement('div');\n",
              "          docLink.innerHTML = docLinkHtml;\n",
              "          element.appendChild(docLink);\n",
              "        }\n",
              "      </script>\n",
              "    </div>\n",
              "  </div>\n",
              "  "
            ],
            "text/plain": [
              "   movie_id  ...                                            casting\n",
              "0  10449147  ...                                           [458752]\n",
              "1   1764347  ...    [458752,714141,5961246,1770250,3372998,5627798]\n",
              "2    517239  ...  [524544,551683,89130,109232,484779,3898080,436...\n",
              "3   4004228  ...  [524544,468793,241154,3846163,3734264,450442,2...\n",
              "4     25460  ...      [524544,212873,2848242,441071,923461,3559331]\n",
              "5   2943857  ...  [524544,298905,3740386,543898,531256,923461,11...\n",
              "6    586569  ...  [524544,2437312,983069,3905249,3945964,684794,...\n",
              "7   2927272  ...                               [512,435805,4400363]\n",
              "8   4444445  ...                              [512,4429200,1750617]\n",
              "9   6461073  ...  [5833472,439182,5475691,22122546,16527966,2942...\n",
              "\n",
              "[10 rows x 3 columns]"
            ]
          },
          "metadata": {}
        },
        {
          "output_type": "display_data",
          "data": {
            "application/javascript": [
              "window[\"ca0ca7ca-6720-11ec-87a2-0242ac1c0002\"] = google.colab.output.setActiveOutputArea(window[\"ca056ec4-6720-11ec-87a2-0242ac1c0002\"]);\n",
              "//# sourceURL=js_0e0fcbb3b3"
            ],
            "text/plain": [
              "<IPython.core.display.Javascript object>"
            ]
          },
          "metadata": {}
        },
        {
          "output_type": "stream",
          "name": "stdout",
          "text": [
            " \n"
          ]
        },
        {
          "output_type": "display_data",
          "data": {
            "application/javascript": [
              "window[\"ca0e751e-6720-11ec-87a2-0242ac1c0002\"] = google.colab.output.setActiveOutputArea(window[\"ca0247da-6720-11ec-87a2-0242ac1c0002\"]);\n",
              "//# sourceURL=js_cfe1c80af8"
            ],
            "text/plain": [
              "<IPython.core.display.Javascript object>"
            ]
          },
          "metadata": {}
        },
        {
          "output_type": "display_data",
          "data": {
            "application/javascript": [
              "window[\"ca1040d8-6720-11ec-87a2-0242ac1c0002\"] = google.colab.output.getActiveOutputArea();\n",
              "//# sourceURL=js_2b7129ac28"
            ],
            "text/plain": [
              "<IPython.core.display.Javascript object>"
            ]
          },
          "metadata": {}
        },
        {
          "output_type": "display_data",
          "data": {
            "application/javascript": [
              "window[\"ca10873c-6720-11ec-87a2-0242ac1c0002\"] = document.querySelector(\"#id326_content_1\");\n",
              "//# sourceURL=js_c82357e9d6"
            ],
            "text/plain": [
              "<IPython.core.display.Javascript object>"
            ]
          },
          "metadata": {}
        },
        {
          "output_type": "display_data",
          "data": {
            "application/javascript": [
              "window[\"ca10c4cc-6720-11ec-87a2-0242ac1c0002\"] = google.colab.output.setActiveOutputArea(window[\"ca10873c-6720-11ec-87a2-0242ac1c0002\"]);\n",
              "//# sourceURL=js_8040496e59"
            ],
            "text/plain": [
              "<IPython.core.display.Javascript object>"
            ]
          },
          "metadata": {}
        },
        {
          "output_type": "display_data",
          "data": {
            "application/javascript": [
              "window[\"ca1102c0-6720-11ec-87a2-0242ac1c0002\"] = window[\"id326\"].setSelectedTabIndex(1);\n",
              "//# sourceURL=js_18192dd810"
            ],
            "text/plain": [
              "<IPython.core.display.Javascript object>"
            ]
          },
          "metadata": {}
        },
        {
          "output_type": "display_data",
          "data": {
            "application/javascript": [
              "window[\"ca1229d4-6720-11ec-87a2-0242ac1c0002\"] = google.colab.output.getActiveOutputArea();\n",
              "//# sourceURL=js_8437ba8577"
            ],
            "text/plain": [
              "<IPython.core.display.Javascript object>"
            ]
          },
          "metadata": {}
        },
        {
          "output_type": "display_data",
          "data": {
            "application/javascript": [
              "window[\"ca1273b2-6720-11ec-87a2-0242ac1c0002\"] = document.querySelector(\"#id328_content_1\");\n",
              "//# sourceURL=js_26bb51783b"
            ],
            "text/plain": [
              "<IPython.core.display.Javascript object>"
            ]
          },
          "metadata": {}
        },
        {
          "output_type": "display_data",
          "data": {
            "application/javascript": [
              "window[\"ca12b4d0-6720-11ec-87a2-0242ac1c0002\"] = google.colab.output.setActiveOutputArea(window[\"ca1273b2-6720-11ec-87a2-0242ac1c0002\"]);\n",
              "//# sourceURL=js_6e3f0c60eb"
            ],
            "text/plain": [
              "<IPython.core.display.Javascript object>"
            ]
          },
          "metadata": {}
        },
        {
          "output_type": "display_data",
          "data": {
            "application/javascript": [
              "window[\"ca12f986-6720-11ec-87a2-0242ac1c0002\"] = window[\"id328\"].setSelectedTabIndex(1);\n",
              "//# sourceURL=js_e4b20b7220"
            ],
            "text/plain": [
              "<IPython.core.display.Javascript object>"
            ]
          },
          "metadata": {}
        },
        {
          "output_type": "stream",
          "name": "stdout",
          "text": [
            "The following table is stored at \u001b[1mSomePeople\u001b[0m variable.\n"
          ]
        },
        {
          "output_type": "display_data",
          "data": {
            "application/vnd.google.colaboratory.module+javascript": "\n      import \"https://ssl.gstatic.com/colaboratory/data_table/a6224c040fa35dcf/data_table.js\";\n\n      window.createDataTable({\n        data: [[{\n            'v': 0,\n            'f': \"0\",\n        },\n{\n            'v': 877041,\n            'f': \"877041\",\n        },\n\"Elanne Kong\",\n\"[\\\"People's Republic of China\\\"]\"],\n [{\n            'v': 1,\n            'f': \"1\",\n        },\n{\n            'v': 58314,\n            'f': \"58314\",\n        },\n\"Maxim Gvinjia\",\n\"[\\\"Russia\\\"]\"],\n [{\n            'v': 2,\n            'f': \"2\",\n        },\n{\n            'v': 1936098,\n            'f': \"1936098\",\n        },\n\"Mimmo Poli\",\n\"[\\\"Italy\\\",\\\"Kingdom of Italy\\\"]\"],\n [{\n            'v': 3,\n            'f': \"3\",\n        },\n{\n            'v': 2209514,\n            'f': \"2209514\",\n        },\n\"Sabin Tambrea\",\n\"[\\\"Germany\\\",\\\"Romania\\\"]\"],\n [{\n            'v': 4,\n            'f': \"4\",\n        },\n{\n            'v': 3446441,\n            'f': \"3446441\",\n        },\n\"Ruba Blal\",\n\"[\\\"Israel\\\"]\"],\n [{\n            'v': 5,\n            'f': \"5\",\n        },\n{\n            'v': 3077378,\n            'f': \"3077378\",\n        },\n\"Pim de la Parra\",\n\"[\\\"Suriname\\\",\\\"Kingdom of the Netherlands\\\"]\"],\n [{\n            'v': 6,\n            'f': \"6\",\n        },\n{\n            'v': 71698,\n            'f': \"71698\",\n        },\n\"Katrin Sa\\u00df\",\n\"[\\\"German Democratic Republic\\\",\\\"Germany\\\"]\"],\n [{\n            'v': 7,\n            'f': \"7\",\n        },\n{\n            'v': 6520861,\n            'f': \"6520861\",\n        },\n\"Leleti Khumalo\",\n\"[\\\"South Africa\\\"]\"],\n [{\n            'v': 8,\n            'f': \"8\",\n        },\n{\n            'v': 54957869,\n            'f': \"54957869\",\n        },\n\"Salon Basnet\",\n\"[\\\"Nepal\\\"]\"],\n [{\n            'v': 9,\n            'f': \"9\",\n        },\n{\n            'v': 73945,\n            'f': \"73945\",\n        },\n\"Hendrik Duryn\",\n\"[\\\"German Democratic Republic\\\",\\\"Germany\\\"]\"]],\n        columns: [[\"number\", \"index\"], [\"number\", \"person_id\"], [\"string\", \"name\"], [\"string\", \"citizenships\"]],\n        columnOptions: [{\"width\": \"1px\", \"className\": \"index_column\"}],\n        rowsPerPage: 25,\n        helpUrl: \"https://colab.research.google.com/notebooks/data_table.ipynb\",\n        suppressOutputScrolling: true,\n        minimumWidth: undefined,\n      });\n    ",
            "text/html": [
              "\n",
              "  <div id=\"df-1f46bbab-d5ff-4de5-ac73-04eea838dc4c\">\n",
              "    <div class=\"colab-df-container\">\n",
              "      <div>\n",
              "<style scoped>\n",
              "    .dataframe tbody tr th:only-of-type {\n",
              "        vertical-align: middle;\n",
              "    }\n",
              "\n",
              "    .dataframe tbody tr th {\n",
              "        vertical-align: top;\n",
              "    }\n",
              "\n",
              "    .dataframe thead th {\n",
              "        text-align: right;\n",
              "    }\n",
              "</style>\n",
              "<table border=\"1\" class=\"dataframe\">\n",
              "  <thead>\n",
              "    <tr style=\"text-align: right;\">\n",
              "      <th></th>\n",
              "      <th>person_id</th>\n",
              "      <th>name</th>\n",
              "      <th>citizenships</th>\n",
              "    </tr>\n",
              "  </thead>\n",
              "  <tbody>\n",
              "    <tr>\n",
              "      <th>0</th>\n",
              "      <td>877041</td>\n",
              "      <td>Elanne Kong</td>\n",
              "      <td>[\"People's Republic of China\"]</td>\n",
              "    </tr>\n",
              "    <tr>\n",
              "      <th>1</th>\n",
              "      <td>58314</td>\n",
              "      <td>Maxim Gvinjia</td>\n",
              "      <td>[\"Russia\"]</td>\n",
              "    </tr>\n",
              "    <tr>\n",
              "      <th>2</th>\n",
              "      <td>1936098</td>\n",
              "      <td>Mimmo Poli</td>\n",
              "      <td>[\"Italy\",\"Kingdom of Italy\"]</td>\n",
              "    </tr>\n",
              "    <tr>\n",
              "      <th>3</th>\n",
              "      <td>2209514</td>\n",
              "      <td>Sabin Tambrea</td>\n",
              "      <td>[\"Germany\",\"Romania\"]</td>\n",
              "    </tr>\n",
              "    <tr>\n",
              "      <th>4</th>\n",
              "      <td>3446441</td>\n",
              "      <td>Ruba Blal</td>\n",
              "      <td>[\"Israel\"]</td>\n",
              "    </tr>\n",
              "    <tr>\n",
              "      <th>5</th>\n",
              "      <td>3077378</td>\n",
              "      <td>Pim de la Parra</td>\n",
              "      <td>[\"Suriname\",\"Kingdom of the Netherlands\"]</td>\n",
              "    </tr>\n",
              "    <tr>\n",
              "      <th>6</th>\n",
              "      <td>71698</td>\n",
              "      <td>Katrin Saß</td>\n",
              "      <td>[\"German Democratic Republic\",\"Germany\"]</td>\n",
              "    </tr>\n",
              "    <tr>\n",
              "      <th>7</th>\n",
              "      <td>6520861</td>\n",
              "      <td>Leleti Khumalo</td>\n",
              "      <td>[\"South Africa\"]</td>\n",
              "    </tr>\n",
              "    <tr>\n",
              "      <th>8</th>\n",
              "      <td>54957869</td>\n",
              "      <td>Salon Basnet</td>\n",
              "      <td>[\"Nepal\"]</td>\n",
              "    </tr>\n",
              "    <tr>\n",
              "      <th>9</th>\n",
              "      <td>73945</td>\n",
              "      <td>Hendrik Duryn</td>\n",
              "      <td>[\"German Democratic Republic\",\"Germany\"]</td>\n",
              "    </tr>\n",
              "  </tbody>\n",
              "</table>\n",
              "</div>\n",
              "      <button class=\"colab-df-convert\" onclick=\"convertToInteractive('df-1f46bbab-d5ff-4de5-ac73-04eea838dc4c')\"\n",
              "              title=\"Convert this dataframe to an interactive table.\"\n",
              "              style=\"display:none;\">\n",
              "        \n",
              "  <svg xmlns=\"http://www.w3.org/2000/svg\" height=\"24px\"viewBox=\"0 0 24 24\"\n",
              "       width=\"24px\">\n",
              "    <path d=\"M0 0h24v24H0V0z\" fill=\"none\"/>\n",
              "    <path d=\"M18.56 5.44l.94 2.06.94-2.06 2.06-.94-2.06-.94-.94-2.06-.94 2.06-2.06.94zm-11 1L8.5 8.5l.94-2.06 2.06-.94-2.06-.94L8.5 2.5l-.94 2.06-2.06.94zm10 10l.94 2.06.94-2.06 2.06-.94-2.06-.94-.94-2.06-.94 2.06-2.06.94z\"/><path d=\"M17.41 7.96l-1.37-1.37c-.4-.4-.92-.59-1.43-.59-.52 0-1.04.2-1.43.59L10.3 9.45l-7.72 7.72c-.78.78-.78 2.05 0 2.83L4 21.41c.39.39.9.59 1.41.59.51 0 1.02-.2 1.41-.59l7.78-7.78 2.81-2.81c.8-.78.8-2.07 0-2.86zM5.41 20L4 18.59l7.72-7.72 1.47 1.35L5.41 20z\"/>\n",
              "  </svg>\n",
              "      </button>\n",
              "      \n",
              "  <style>\n",
              "    .colab-df-container {\n",
              "      display:flex;\n",
              "      flex-wrap:wrap;\n",
              "      gap: 12px;\n",
              "    }\n",
              "\n",
              "    .colab-df-convert {\n",
              "      background-color: #E8F0FE;\n",
              "      border: none;\n",
              "      border-radius: 50%;\n",
              "      cursor: pointer;\n",
              "      display: none;\n",
              "      fill: #1967D2;\n",
              "      height: 32px;\n",
              "      padding: 0 0 0 0;\n",
              "      width: 32px;\n",
              "    }\n",
              "\n",
              "    .colab-df-convert:hover {\n",
              "      background-color: #E2EBFA;\n",
              "      box-shadow: 0px 1px 2px rgba(60, 64, 67, 0.3), 0px 1px 3px 1px rgba(60, 64, 67, 0.15);\n",
              "      fill: #174EA6;\n",
              "    }\n",
              "\n",
              "    [theme=dark] .colab-df-convert {\n",
              "      background-color: #3B4455;\n",
              "      fill: #D2E3FC;\n",
              "    }\n",
              "\n",
              "    [theme=dark] .colab-df-convert:hover {\n",
              "      background-color: #434B5C;\n",
              "      box-shadow: 0px 1px 3px 1px rgba(0, 0, 0, 0.15);\n",
              "      filter: drop-shadow(0px 1px 2px rgba(0, 0, 0, 0.3));\n",
              "      fill: #FFFFFF;\n",
              "    }\n",
              "  </style>\n",
              "\n",
              "      <script>\n",
              "        const buttonEl =\n",
              "          document.querySelector('#df-1f46bbab-d5ff-4de5-ac73-04eea838dc4c button.colab-df-convert');\n",
              "        buttonEl.style.display =\n",
              "          google.colab.kernel.accessAllowed ? 'block' : 'none';\n",
              "\n",
              "        async function convertToInteractive(key) {\n",
              "          const element = document.querySelector('#df-1f46bbab-d5ff-4de5-ac73-04eea838dc4c');\n",
              "          const dataTable =\n",
              "            await google.colab.kernel.invokeFunction('convertToInteractive',\n",
              "                                                     [key], {});\n",
              "          if (!dataTable) return;\n",
              "\n",
              "          const docLinkHtml = 'Like what you see? Visit the ' +\n",
              "            '<a target=\"_blank\" href=https://colab.research.google.com/notebooks/data_table.ipynb>data table notebook</a>'\n",
              "            + ' to learn more about interactive tables.';\n",
              "          element.innerHTML = '';\n",
              "          dataTable['output_type'] = 'display_data';\n",
              "          await google.colab.output.renderOutput(dataTable, element);\n",
              "          const docLink = document.createElement('div');\n",
              "          docLink.innerHTML = docLinkHtml;\n",
              "          element.appendChild(docLink);\n",
              "        }\n",
              "      </script>\n",
              "    </div>\n",
              "  </div>\n",
              "  "
            ],
            "text/plain": [
              "   person_id             name                               citizenships\n",
              "0     877041      Elanne Kong             [\"People's Republic of China\"]\n",
              "1      58314    Maxim Gvinjia                                 [\"Russia\"]\n",
              "2    1936098       Mimmo Poli               [\"Italy\",\"Kingdom of Italy\"]\n",
              "3    2209514    Sabin Tambrea                      [\"Germany\",\"Romania\"]\n",
              "4    3446441        Ruba Blal                                 [\"Israel\"]\n",
              "5    3077378  Pim de la Parra  [\"Suriname\",\"Kingdom of the Netherlands\"]\n",
              "6      71698       Katrin Saß   [\"German Democratic Republic\",\"Germany\"]\n",
              "7    6520861   Leleti Khumalo                           [\"South Africa\"]\n",
              "8   54957869     Salon Basnet                                  [\"Nepal\"]\n",
              "9      73945    Hendrik Duryn   [\"German Democratic Republic\",\"Germany\"]"
            ]
          },
          "metadata": {}
        },
        {
          "output_type": "display_data",
          "data": {
            "application/javascript": [
              "window[\"ca198df0-6720-11ec-87a2-0242ac1c0002\"] = google.colab.output.setActiveOutputArea(window[\"ca1229d4-6720-11ec-87a2-0242ac1c0002\"]);\n",
              "//# sourceURL=js_7c8e1a7dd3"
            ],
            "text/plain": [
              "<IPython.core.display.Javascript object>"
            ]
          },
          "metadata": {}
        },
        {
          "output_type": "stream",
          "name": "stdout",
          "text": [
            " \n"
          ]
        },
        {
          "output_type": "display_data",
          "data": {
            "application/javascript": [
              "window[\"ca1b2f20-6720-11ec-87a2-0242ac1c0002\"] = google.colab.output.setActiveOutputArea(window[\"ca1040d8-6720-11ec-87a2-0242ac1c0002\"]);\n",
              "//# sourceURL=js_d054c8c1bf"
            ],
            "text/plain": [
              "<IPython.core.display.Javascript object>"
            ]
          },
          "metadata": {}
        },
        {
          "output_type": "display_data",
          "data": {
            "application/javascript": [
              "window[\"ca1cd14a-6720-11ec-87a2-0242ac1c0002\"] = google.colab.output.getActiveOutputArea();\n",
              "//# sourceURL=js_0df129975a"
            ],
            "text/plain": [
              "<IPython.core.display.Javascript object>"
            ]
          },
          "metadata": {}
        },
        {
          "output_type": "display_data",
          "data": {
            "application/javascript": [
              "window[\"ca1d2294-6720-11ec-87a2-0242ac1c0002\"] = document.querySelector(\"#id326_content_2\");\n",
              "//# sourceURL=js_d5aa864395"
            ],
            "text/plain": [
              "<IPython.core.display.Javascript object>"
            ]
          },
          "metadata": {}
        },
        {
          "output_type": "display_data",
          "data": {
            "application/javascript": [
              "window[\"ca1d7e60-6720-11ec-87a2-0242ac1c0002\"] = google.colab.output.setActiveOutputArea(window[\"ca1d2294-6720-11ec-87a2-0242ac1c0002\"]);\n",
              "//# sourceURL=js_eded307036"
            ],
            "text/plain": [
              "<IPython.core.display.Javascript object>"
            ]
          },
          "metadata": {}
        },
        {
          "output_type": "display_data",
          "data": {
            "application/javascript": [
              "window[\"ca1dc320-6720-11ec-87a2-0242ac1c0002\"] = window[\"id326\"].setSelectedTabIndex(2);\n",
              "//# sourceURL=js_13adfbc97f"
            ],
            "text/plain": [
              "<IPython.core.display.Javascript object>"
            ]
          },
          "metadata": {}
        },
        {
          "output_type": "display_data",
          "data": {
            "application/javascript": [
              "window[\"ca1f45ba-6720-11ec-87a2-0242ac1c0002\"] = google.colab.output.getActiveOutputArea();\n",
              "//# sourceURL=js_2f1d7255e7"
            ],
            "text/plain": [
              "<IPython.core.display.Javascript object>"
            ]
          },
          "metadata": {}
        },
        {
          "output_type": "display_data",
          "data": {
            "application/javascript": [
              "window[\"ca1f8606-6720-11ec-87a2-0242ac1c0002\"] = document.querySelector(\"#id329_content_1\");\n",
              "//# sourceURL=js_f8a634f1c1"
            ],
            "text/plain": [
              "<IPython.core.display.Javascript object>"
            ]
          },
          "metadata": {}
        },
        {
          "output_type": "display_data",
          "data": {
            "application/javascript": [
              "window[\"ca201c24-6720-11ec-87a2-0242ac1c0002\"] = google.colab.output.setActiveOutputArea(window[\"ca1f8606-6720-11ec-87a2-0242ac1c0002\"]);\n",
              "//# sourceURL=js_eabd909886"
            ],
            "text/plain": [
              "<IPython.core.display.Javascript object>"
            ]
          },
          "metadata": {}
        },
        {
          "output_type": "display_data",
          "data": {
            "application/javascript": [
              "window[\"ca206882-6720-11ec-87a2-0242ac1c0002\"] = window[\"id329\"].setSelectedTabIndex(1);\n",
              "//# sourceURL=js_28b3cd5215"
            ],
            "text/plain": [
              "<IPython.core.display.Javascript object>"
            ]
          },
          "metadata": {}
        },
        {
          "output_type": "stream",
          "name": "stdout",
          "text": [
            "The following table is stored at \u001b[1mSomeRockBands\u001b[0m variable.\n"
          ]
        },
        {
          "output_type": "display_data",
          "data": {
            "application/vnd.google.colaboratory.module+javascript": "\n      import \"https://ssl.gstatic.com/colaboratory/data_table/a6224c040fa35dcf/data_table.js\";\n\n      window.createDataTable({\n        data: [[{\n            'v': 0,\n            'f': \"0\",\n        },\n{\n            'v': 16821277,\n            'f': \"16821277\",\n        },\n\"Alice Cooper\",\n\"[332032,2313011,427302,665549,2720155]\"],\n [{\n            'v': 1,\n            'f': \"1\",\n        },\n{\n            'v': 728707,\n            'f': \"728707\",\n        },\n\"Noir D\\u00e9sir\",\n\"[3479552,3022539,545516,3168680]\"],\n [{\n            'v': 2,\n            'f': \"2\",\n        },\n{\n            'v': 205001,\n            'f': \"205001\",\n        },\n\"Talking Heads\",\n\"[336640,2695530,438635,2634067]\"],\n [{\n            'v': 3,\n            'f': \"3\",\n        },\n{\n            'v': 182890,\n            'f': \"182890\",\n        },\n\"Def Leppard\",\n\"[511488,323356,1143956,1336388,10699937,367617,541573,366758]\"],\n [{\n            'v': 4,\n            'f': \"4\",\n        },\n{\n            'v': 1850330,\n            'f': \"1850330\",\n        },\n\"The Walkmen\",\n\"[17037824]\"],\n [{\n            'v': 5,\n            'f': \"5\",\n        },\n{\n            'v': 7737085,\n            'f': \"7737085\",\n        },\n\"The Golden Palominos\",\n\"[589313]\"],\n [{\n            'v': 6,\n            'f': \"6\",\n        },\n{\n            'v': 1544817,\n            'f': \"1544817\",\n        },\n\"The Feelies\",\n\"[589313,5568993]\"],\n [{\n            'v': 7,\n            'f': \"7\",\n        },\n{\n            'v': 261,\n            'f': \"261\",\n        },\n\"Linkin Park\",\n\"[19202,19198,19200,19205,19204,19199,19201]\"],\n [{\n            'v': 8,\n            'f': \"8\",\n        },\n{\n            'v': 807957,\n            'f': \"807957\",\n        },\n\"Barclay James Harvest\",\n\"[153346]\"],\n [{\n            'v': 9,\n            'f': \"9\",\n        },\n{\n            'v': 773640,\n            'f': \"773640\",\n        },\n\"Apocalypse\",\n\"[2252546]\"]],\n        columns: [[\"number\", \"index\"], [\"number\", \"band_id\"], [\"string\", \"name\"], [\"string\", \"members\"]],\n        columnOptions: [{\"width\": \"1px\", \"className\": \"index_column\"}],\n        rowsPerPage: 25,\n        helpUrl: \"https://colab.research.google.com/notebooks/data_table.ipynb\",\n        suppressOutputScrolling: true,\n        minimumWidth: undefined,\n      });\n    ",
            "text/html": [
              "\n",
              "  <div id=\"df-d88688e4-c928-4b24-9cfa-4cae24d2e0ce\">\n",
              "    <div class=\"colab-df-container\">\n",
              "      <div>\n",
              "<style scoped>\n",
              "    .dataframe tbody tr th:only-of-type {\n",
              "        vertical-align: middle;\n",
              "    }\n",
              "\n",
              "    .dataframe tbody tr th {\n",
              "        vertical-align: top;\n",
              "    }\n",
              "\n",
              "    .dataframe thead th {\n",
              "        text-align: right;\n",
              "    }\n",
              "</style>\n",
              "<table border=\"1\" class=\"dataframe\">\n",
              "  <thead>\n",
              "    <tr style=\"text-align: right;\">\n",
              "      <th></th>\n",
              "      <th>band_id</th>\n",
              "      <th>name</th>\n",
              "      <th>members</th>\n",
              "    </tr>\n",
              "  </thead>\n",
              "  <tbody>\n",
              "    <tr>\n",
              "      <th>0</th>\n",
              "      <td>16821277</td>\n",
              "      <td>Alice Cooper</td>\n",
              "      <td>[332032,2313011,427302,665549,2720155]</td>\n",
              "    </tr>\n",
              "    <tr>\n",
              "      <th>1</th>\n",
              "      <td>728707</td>\n",
              "      <td>Noir Désir</td>\n",
              "      <td>[3479552,3022539,545516,3168680]</td>\n",
              "    </tr>\n",
              "    <tr>\n",
              "      <th>2</th>\n",
              "      <td>205001</td>\n",
              "      <td>Talking Heads</td>\n",
              "      <td>[336640,2695530,438635,2634067]</td>\n",
              "    </tr>\n",
              "    <tr>\n",
              "      <th>3</th>\n",
              "      <td>182890</td>\n",
              "      <td>Def Leppard</td>\n",
              "      <td>[511488,323356,1143956,1336388,10699937,367617...</td>\n",
              "    </tr>\n",
              "    <tr>\n",
              "      <th>4</th>\n",
              "      <td>1850330</td>\n",
              "      <td>The Walkmen</td>\n",
              "      <td>[17037824]</td>\n",
              "    </tr>\n",
              "    <tr>\n",
              "      <th>5</th>\n",
              "      <td>7737085</td>\n",
              "      <td>The Golden Palominos</td>\n",
              "      <td>[589313]</td>\n",
              "    </tr>\n",
              "    <tr>\n",
              "      <th>6</th>\n",
              "      <td>1544817</td>\n",
              "      <td>The Feelies</td>\n",
              "      <td>[589313,5568993]</td>\n",
              "    </tr>\n",
              "    <tr>\n",
              "      <th>7</th>\n",
              "      <td>261</td>\n",
              "      <td>Linkin Park</td>\n",
              "      <td>[19202,19198,19200,19205,19204,19199,19201]</td>\n",
              "    </tr>\n",
              "    <tr>\n",
              "      <th>8</th>\n",
              "      <td>807957</td>\n",
              "      <td>Barclay James Harvest</td>\n",
              "      <td>[153346]</td>\n",
              "    </tr>\n",
              "    <tr>\n",
              "      <th>9</th>\n",
              "      <td>773640</td>\n",
              "      <td>Apocalypse</td>\n",
              "      <td>[2252546]</td>\n",
              "    </tr>\n",
              "  </tbody>\n",
              "</table>\n",
              "</div>\n",
              "      <button class=\"colab-df-convert\" onclick=\"convertToInteractive('df-d88688e4-c928-4b24-9cfa-4cae24d2e0ce')\"\n",
              "              title=\"Convert this dataframe to an interactive table.\"\n",
              "              style=\"display:none;\">\n",
              "        \n",
              "  <svg xmlns=\"http://www.w3.org/2000/svg\" height=\"24px\"viewBox=\"0 0 24 24\"\n",
              "       width=\"24px\">\n",
              "    <path d=\"M0 0h24v24H0V0z\" fill=\"none\"/>\n",
              "    <path d=\"M18.56 5.44l.94 2.06.94-2.06 2.06-.94-2.06-.94-.94-2.06-.94 2.06-2.06.94zm-11 1L8.5 8.5l.94-2.06 2.06-.94-2.06-.94L8.5 2.5l-.94 2.06-2.06.94zm10 10l.94 2.06.94-2.06 2.06-.94-2.06-.94-.94-2.06-.94 2.06-2.06.94z\"/><path d=\"M17.41 7.96l-1.37-1.37c-.4-.4-.92-.59-1.43-.59-.52 0-1.04.2-1.43.59L10.3 9.45l-7.72 7.72c-.78.78-.78 2.05 0 2.83L4 21.41c.39.39.9.59 1.41.59.51 0 1.02-.2 1.41-.59l7.78-7.78 2.81-2.81c.8-.78.8-2.07 0-2.86zM5.41 20L4 18.59l7.72-7.72 1.47 1.35L5.41 20z\"/>\n",
              "  </svg>\n",
              "      </button>\n",
              "      \n",
              "  <style>\n",
              "    .colab-df-container {\n",
              "      display:flex;\n",
              "      flex-wrap:wrap;\n",
              "      gap: 12px;\n",
              "    }\n",
              "\n",
              "    .colab-df-convert {\n",
              "      background-color: #E8F0FE;\n",
              "      border: none;\n",
              "      border-radius: 50%;\n",
              "      cursor: pointer;\n",
              "      display: none;\n",
              "      fill: #1967D2;\n",
              "      height: 32px;\n",
              "      padding: 0 0 0 0;\n",
              "      width: 32px;\n",
              "    }\n",
              "\n",
              "    .colab-df-convert:hover {\n",
              "      background-color: #E2EBFA;\n",
              "      box-shadow: 0px 1px 2px rgba(60, 64, 67, 0.3), 0px 1px 3px 1px rgba(60, 64, 67, 0.15);\n",
              "      fill: #174EA6;\n",
              "    }\n",
              "\n",
              "    [theme=dark] .colab-df-convert {\n",
              "      background-color: #3B4455;\n",
              "      fill: #D2E3FC;\n",
              "    }\n",
              "\n",
              "    [theme=dark] .colab-df-convert:hover {\n",
              "      background-color: #434B5C;\n",
              "      box-shadow: 0px 1px 3px 1px rgba(0, 0, 0, 0.15);\n",
              "      filter: drop-shadow(0px 1px 2px rgba(0, 0, 0, 0.3));\n",
              "      fill: #FFFFFF;\n",
              "    }\n",
              "  </style>\n",
              "\n",
              "      <script>\n",
              "        const buttonEl =\n",
              "          document.querySelector('#df-d88688e4-c928-4b24-9cfa-4cae24d2e0ce button.colab-df-convert');\n",
              "        buttonEl.style.display =\n",
              "          google.colab.kernel.accessAllowed ? 'block' : 'none';\n",
              "\n",
              "        async function convertToInteractive(key) {\n",
              "          const element = document.querySelector('#df-d88688e4-c928-4b24-9cfa-4cae24d2e0ce');\n",
              "          const dataTable =\n",
              "            await google.colab.kernel.invokeFunction('convertToInteractive',\n",
              "                                                     [key], {});\n",
              "          if (!dataTable) return;\n",
              "\n",
              "          const docLinkHtml = 'Like what you see? Visit the ' +\n",
              "            '<a target=\"_blank\" href=https://colab.research.google.com/notebooks/data_table.ipynb>data table notebook</a>'\n",
              "            + ' to learn more about interactive tables.';\n",
              "          element.innerHTML = '';\n",
              "          dataTable['output_type'] = 'display_data';\n",
              "          await google.colab.output.renderOutput(dataTable, element);\n",
              "          const docLink = document.createElement('div');\n",
              "          docLink.innerHTML = docLinkHtml;\n",
              "          element.appendChild(docLink);\n",
              "        }\n",
              "      </script>\n",
              "    </div>\n",
              "  </div>\n",
              "  "
            ],
            "text/plain": [
              "    band_id  ...                                            members\n",
              "0  16821277  ...             [332032,2313011,427302,665549,2720155]\n",
              "1    728707  ...                   [3479552,3022539,545516,3168680]\n",
              "2    205001  ...                    [336640,2695530,438635,2634067]\n",
              "3    182890  ...  [511488,323356,1143956,1336388,10699937,367617...\n",
              "4   1850330  ...                                         [17037824]\n",
              "5   7737085  ...                                           [589313]\n",
              "6   1544817  ...                                   [589313,5568993]\n",
              "7       261  ...        [19202,19198,19200,19205,19204,19199,19201]\n",
              "8    807957  ...                                           [153346]\n",
              "9    773640  ...                                          [2252546]\n",
              "\n",
              "[10 rows x 3 columns]"
            ]
          },
          "metadata": {}
        },
        {
          "output_type": "display_data",
          "data": {
            "application/javascript": [
              "window[\"ca27c064-6720-11ec-87a2-0242ac1c0002\"] = google.colab.output.setActiveOutputArea(window[\"ca1f45ba-6720-11ec-87a2-0242ac1c0002\"]);\n",
              "//# sourceURL=js_c35e5e6d22"
            ],
            "text/plain": [
              "<IPython.core.display.Javascript object>"
            ]
          },
          "metadata": {}
        },
        {
          "output_type": "stream",
          "name": "stdout",
          "text": [
            " \n"
          ]
        },
        {
          "output_type": "display_data",
          "data": {
            "application/javascript": [
              "window[\"ca29bf04-6720-11ec-87a2-0242ac1c0002\"] = google.colab.output.setActiveOutputArea(window[\"ca1cd14a-6720-11ec-87a2-0242ac1c0002\"]);\n",
              "//# sourceURL=js_b29d5e08ab"
            ],
            "text/plain": [
              "<IPython.core.display.Javascript object>"
            ]
          },
          "metadata": {}
        },
        {
          "output_type": "display_data",
          "data": {
            "application/javascript": [
              "window[\"ca2b44fa-6720-11ec-87a2-0242ac1c0002\"] = google.colab.output.getActiveOutputArea();\n",
              "//# sourceURL=js_ba92a06078"
            ],
            "text/plain": [
              "<IPython.core.display.Javascript object>"
            ]
          },
          "metadata": {}
        },
        {
          "output_type": "display_data",
          "data": {
            "application/javascript": [
              "window[\"ca2b8b2c-6720-11ec-87a2-0242ac1c0002\"] = document.querySelector(\"#id326_content_3\");\n",
              "//# sourceURL=js_018b320879"
            ],
            "text/plain": [
              "<IPython.core.display.Javascript object>"
            ]
          },
          "metadata": {}
        },
        {
          "output_type": "display_data",
          "data": {
            "application/javascript": [
              "window[\"ca2bcef2-6720-11ec-87a2-0242ac1c0002\"] = google.colab.output.setActiveOutputArea(window[\"ca2b8b2c-6720-11ec-87a2-0242ac1c0002\"]);\n",
              "//# sourceURL=js_3c5a5687ce"
            ],
            "text/plain": [
              "<IPython.core.display.Javascript object>"
            ]
          },
          "metadata": {}
        },
        {
          "output_type": "display_data",
          "data": {
            "application/javascript": [
              "window[\"ca2c1808-6720-11ec-87a2-0242ac1c0002\"] = window[\"id326\"].setSelectedTabIndex(3);\n",
              "//# sourceURL=js_8bf9eb5197"
            ],
            "text/plain": [
              "<IPython.core.display.Javascript object>"
            ]
          },
          "metadata": {}
        },
        {
          "output_type": "display_data",
          "data": {
            "application/javascript": [
              "window[\"ca2dd486-6720-11ec-87a2-0242ac1c0002\"] = google.colab.output.getActiveOutputArea();\n",
              "//# sourceURL=js_44d7e06ae6"
            ],
            "text/plain": [
              "<IPython.core.display.Javascript object>"
            ]
          },
          "metadata": {}
        },
        {
          "output_type": "display_data",
          "data": {
            "application/javascript": [
              "window[\"ca2e17ac-6720-11ec-87a2-0242ac1c0002\"] = document.querySelector(\"#id330_content_1\");\n",
              "//# sourceURL=js_8e7ee9ac86"
            ],
            "text/plain": [
              "<IPython.core.display.Javascript object>"
            ]
          },
          "metadata": {}
        },
        {
          "output_type": "display_data",
          "data": {
            "application/javascript": [
              "window[\"ca2e924a-6720-11ec-87a2-0242ac1c0002\"] = google.colab.output.setActiveOutputArea(window[\"ca2e17ac-6720-11ec-87a2-0242ac1c0002\"]);\n",
              "//# sourceURL=js_8a4409c80f"
            ],
            "text/plain": [
              "<IPython.core.display.Javascript object>"
            ]
          },
          "metadata": {}
        },
        {
          "output_type": "display_data",
          "data": {
            "application/javascript": [
              "window[\"ca2ed8ae-6720-11ec-87a2-0242ac1c0002\"] = window[\"id330\"].setSelectedTabIndex(1);\n",
              "//# sourceURL=js_eedbed4c50"
            ],
            "text/plain": [
              "<IPython.core.display.Javascript object>"
            ]
          },
          "metadata": {}
        },
        {
          "output_type": "stream",
          "name": "stdout",
          "text": [
            "The following table is stored at \u001b[1mSomeAwards\u001b[0m variable.\n"
          ]
        },
        {
          "output_type": "display_data",
          "data": {
            "application/vnd.google.colaboratory.module+javascript": "\n      import \"https://ssl.gstatic.com/colaboratory/data_table/a6224c040fa35dcf/data_table.js\";\n\n      window.createDataTable({\n        data: [[{\n            'v': 0,\n            'f': \"0\",\n        },\n{\n            'v': 4724516,\n            'f': \"4724516\",\n        },\n\"Ali\",\n\"Filmfare Awards South\"],\n [{\n            'v': 1,\n            'f': \"1\",\n        },\n{\n            'v': 4724516,\n            'f': \"4724516\",\n        },\n\"Ali\",\n\"Nandi Award for Best Male Comedian\"],\n [{\n            'v': 2,\n            'f': \"2\",\n        },\n{\n            'v': 232449,\n            'f': \"232449\",\n        },\n\"BoA\",\n\"Mnet Asian Music Award for Best New Artist\"],\n [{\n            'v': 3,\n            'f': \"3\",\n        },\n{\n            'v': 20729,\n            'f': \"20729\",\n        },\n\"Cro\",\n\"2013 Echo Awards\"],\n [{\n            'v': 4,\n            'f': \"4\",\n        },\n{\n            'v': 20729,\n            'f': \"20729\",\n        },\n\"Cro\",\n\"Swiss Music Awards 2013\"],\n [{\n            'v': 5,\n            'f': \"5\",\n        },\n{\n            'v': 20729,\n            'f': \"20729\",\n        },\n\"Cro\",\n\"1 Live Krone\"],\n [{\n            'v': 6,\n            'f': \"6\",\n        },\n{\n            'v': 20729,\n            'f': \"20729\",\n        },\n\"Cro\",\n\"Bambi Award\"],\n [{\n            'v': 7,\n            'f': \"7\",\n        },\n{\n            'v': 154543,\n            'f': \"154543\",\n        },\n\"D12\",\n\"MTV Europe Music Award for Best Hip-Hop\"],\n [{\n            'v': 8,\n            'f': \"8\",\n        },\n{\n            'v': 239464,\n            'f': \"239464\",\n        },\n\"Eve\",\n\"Grammy Award for Best Rap/Sung Performance\"],\n [{\n            'v': 9,\n            'f': \"9\",\n        },\n{\n            'v': 6480008,\n            'f': \"6480008\",\n        },\n\"Lal\",\n\"Kerala State Film Award for Best Actor\"]],\n        columns: [[\"number\", \"index\"], [\"number\", \"awardee_id\"], [\"string\", \"awardee_name\"], [\"string\", \"award\"]],\n        columnOptions: [{\"width\": \"1px\", \"className\": \"index_column\"}],\n        rowsPerPage: 25,\n        helpUrl: \"https://colab.research.google.com/notebooks/data_table.ipynb\",\n        suppressOutputScrolling: true,\n        minimumWidth: undefined,\n      });\n    ",
            "text/html": [
              "\n",
              "  <div id=\"df-ad18bb9d-71a6-4c2a-9a80-a7058eb4e338\">\n",
              "    <div class=\"colab-df-container\">\n",
              "      <div>\n",
              "<style scoped>\n",
              "    .dataframe tbody tr th:only-of-type {\n",
              "        vertical-align: middle;\n",
              "    }\n",
              "\n",
              "    .dataframe tbody tr th {\n",
              "        vertical-align: top;\n",
              "    }\n",
              "\n",
              "    .dataframe thead th {\n",
              "        text-align: right;\n",
              "    }\n",
              "</style>\n",
              "<table border=\"1\" class=\"dataframe\">\n",
              "  <thead>\n",
              "    <tr style=\"text-align: right;\">\n",
              "      <th></th>\n",
              "      <th>awardee_id</th>\n",
              "      <th>awardee_name</th>\n",
              "      <th>award</th>\n",
              "    </tr>\n",
              "  </thead>\n",
              "  <tbody>\n",
              "    <tr>\n",
              "      <th>0</th>\n",
              "      <td>4724516</td>\n",
              "      <td>Ali</td>\n",
              "      <td>Filmfare Awards South</td>\n",
              "    </tr>\n",
              "    <tr>\n",
              "      <th>1</th>\n",
              "      <td>4724516</td>\n",
              "      <td>Ali</td>\n",
              "      <td>Nandi Award for Best Male Comedian</td>\n",
              "    </tr>\n",
              "    <tr>\n",
              "      <th>2</th>\n",
              "      <td>232449</td>\n",
              "      <td>BoA</td>\n",
              "      <td>Mnet Asian Music Award for Best New Artist</td>\n",
              "    </tr>\n",
              "    <tr>\n",
              "      <th>3</th>\n",
              "      <td>20729</td>\n",
              "      <td>Cro</td>\n",
              "      <td>2013 Echo Awards</td>\n",
              "    </tr>\n",
              "    <tr>\n",
              "      <th>4</th>\n",
              "      <td>20729</td>\n",
              "      <td>Cro</td>\n",
              "      <td>Swiss Music Awards 2013</td>\n",
              "    </tr>\n",
              "    <tr>\n",
              "      <th>5</th>\n",
              "      <td>20729</td>\n",
              "      <td>Cro</td>\n",
              "      <td>1 Live Krone</td>\n",
              "    </tr>\n",
              "    <tr>\n",
              "      <th>6</th>\n",
              "      <td>20729</td>\n",
              "      <td>Cro</td>\n",
              "      <td>Bambi Award</td>\n",
              "    </tr>\n",
              "    <tr>\n",
              "      <th>7</th>\n",
              "      <td>154543</td>\n",
              "      <td>D12</td>\n",
              "      <td>MTV Europe Music Award for Best Hip-Hop</td>\n",
              "    </tr>\n",
              "    <tr>\n",
              "      <th>8</th>\n",
              "      <td>239464</td>\n",
              "      <td>Eve</td>\n",
              "      <td>Grammy Award for Best Rap/Sung Performance</td>\n",
              "    </tr>\n",
              "    <tr>\n",
              "      <th>9</th>\n",
              "      <td>6480008</td>\n",
              "      <td>Lal</td>\n",
              "      <td>Kerala State Film Award for Best Actor</td>\n",
              "    </tr>\n",
              "  </tbody>\n",
              "</table>\n",
              "</div>\n",
              "      <button class=\"colab-df-convert\" onclick=\"convertToInteractive('df-ad18bb9d-71a6-4c2a-9a80-a7058eb4e338')\"\n",
              "              title=\"Convert this dataframe to an interactive table.\"\n",
              "              style=\"display:none;\">\n",
              "        \n",
              "  <svg xmlns=\"http://www.w3.org/2000/svg\" height=\"24px\"viewBox=\"0 0 24 24\"\n",
              "       width=\"24px\">\n",
              "    <path d=\"M0 0h24v24H0V0z\" fill=\"none\"/>\n",
              "    <path d=\"M18.56 5.44l.94 2.06.94-2.06 2.06-.94-2.06-.94-.94-2.06-.94 2.06-2.06.94zm-11 1L8.5 8.5l.94-2.06 2.06-.94-2.06-.94L8.5 2.5l-.94 2.06-2.06.94zm10 10l.94 2.06.94-2.06 2.06-.94-2.06-.94-.94-2.06-.94 2.06-2.06.94z\"/><path d=\"M17.41 7.96l-1.37-1.37c-.4-.4-.92-.59-1.43-.59-.52 0-1.04.2-1.43.59L10.3 9.45l-7.72 7.72c-.78.78-.78 2.05 0 2.83L4 21.41c.39.39.9.59 1.41.59.51 0 1.02-.2 1.41-.59l7.78-7.78 2.81-2.81c.8-.78.8-2.07 0-2.86zM5.41 20L4 18.59l7.72-7.72 1.47 1.35L5.41 20z\"/>\n",
              "  </svg>\n",
              "      </button>\n",
              "      \n",
              "  <style>\n",
              "    .colab-df-container {\n",
              "      display:flex;\n",
              "      flex-wrap:wrap;\n",
              "      gap: 12px;\n",
              "    }\n",
              "\n",
              "    .colab-df-convert {\n",
              "      background-color: #E8F0FE;\n",
              "      border: none;\n",
              "      border-radius: 50%;\n",
              "      cursor: pointer;\n",
              "      display: none;\n",
              "      fill: #1967D2;\n",
              "      height: 32px;\n",
              "      padding: 0 0 0 0;\n",
              "      width: 32px;\n",
              "    }\n",
              "\n",
              "    .colab-df-convert:hover {\n",
              "      background-color: #E2EBFA;\n",
              "      box-shadow: 0px 1px 2px rgba(60, 64, 67, 0.3), 0px 1px 3px 1px rgba(60, 64, 67, 0.15);\n",
              "      fill: #174EA6;\n",
              "    }\n",
              "\n",
              "    [theme=dark] .colab-df-convert {\n",
              "      background-color: #3B4455;\n",
              "      fill: #D2E3FC;\n",
              "    }\n",
              "\n",
              "    [theme=dark] .colab-df-convert:hover {\n",
              "      background-color: #434B5C;\n",
              "      box-shadow: 0px 1px 3px 1px rgba(0, 0, 0, 0.15);\n",
              "      filter: drop-shadow(0px 1px 2px rgba(0, 0, 0, 0.3));\n",
              "      fill: #FFFFFF;\n",
              "    }\n",
              "  </style>\n",
              "\n",
              "      <script>\n",
              "        const buttonEl =\n",
              "          document.querySelector('#df-ad18bb9d-71a6-4c2a-9a80-a7058eb4e338 button.colab-df-convert');\n",
              "        buttonEl.style.display =\n",
              "          google.colab.kernel.accessAllowed ? 'block' : 'none';\n",
              "\n",
              "        async function convertToInteractive(key) {\n",
              "          const element = document.querySelector('#df-ad18bb9d-71a6-4c2a-9a80-a7058eb4e338');\n",
              "          const dataTable =\n",
              "            await google.colab.kernel.invokeFunction('convertToInteractive',\n",
              "                                                     [key], {});\n",
              "          if (!dataTable) return;\n",
              "\n",
              "          const docLinkHtml = 'Like what you see? Visit the ' +\n",
              "            '<a target=\"_blank\" href=https://colab.research.google.com/notebooks/data_table.ipynb>data table notebook</a>'\n",
              "            + ' to learn more about interactive tables.';\n",
              "          element.innerHTML = '';\n",
              "          dataTable['output_type'] = 'display_data';\n",
              "          await google.colab.output.renderOutput(dataTable, element);\n",
              "          const docLink = document.createElement('div');\n",
              "          docLink.innerHTML = docLinkHtml;\n",
              "          element.appendChild(docLink);\n",
              "        }\n",
              "      </script>\n",
              "    </div>\n",
              "  </div>\n",
              "  "
            ],
            "text/plain": [
              "   awardee_id awardee_name                                       award\n",
              "0     4724516          Ali                       Filmfare Awards South\n",
              "1     4724516          Ali          Nandi Award for Best Male Comedian\n",
              "2      232449          BoA  Mnet Asian Music Award for Best New Artist\n",
              "3       20729          Cro                            2013 Echo Awards\n",
              "4       20729          Cro                     Swiss Music Awards 2013\n",
              "5       20729          Cro                                1 Live Krone\n",
              "6       20729          Cro                                 Bambi Award\n",
              "7      154543          D12     MTV Europe Music Award for Best Hip-Hop\n",
              "8      239464          Eve  Grammy Award for Best Rap/Sung Performance\n",
              "9     6480008          Lal      Kerala State Film Award for Best Actor"
            ]
          },
          "metadata": {}
        },
        {
          "output_type": "display_data",
          "data": {
            "application/javascript": [
              "window[\"ca36140c-6720-11ec-87a2-0242ac1c0002\"] = google.colab.output.setActiveOutputArea(window[\"ca2dd486-6720-11ec-87a2-0242ac1c0002\"]);\n",
              "//# sourceURL=js_8ae3ded424"
            ],
            "text/plain": [
              "<IPython.core.display.Javascript object>"
            ]
          },
          "metadata": {}
        },
        {
          "output_type": "stream",
          "name": "stdout",
          "text": [
            " \n"
          ]
        },
        {
          "output_type": "display_data",
          "data": {
            "application/javascript": [
              "window[\"ca37eaca-6720-11ec-87a2-0242ac1c0002\"] = google.colab.output.setActiveOutputArea(window[\"ca2b44fa-6720-11ec-87a2-0242ac1c0002\"]);\n",
              "//# sourceURL=js_9b287bb43a"
            ],
            "text/plain": [
              "<IPython.core.display.Javascript object>"
            ]
          },
          "metadata": {}
        },
        {
          "output_type": "display_data",
          "data": {
            "application/javascript": [
              "window[\"ca3a5c10-6720-11ec-87a2-0242ac1c0002\"] = google.colab.output.getActiveOutputArea();\n",
              "//# sourceURL=js_bd54ca6c51"
            ],
            "text/plain": [
              "<IPython.core.display.Javascript object>"
            ]
          },
          "metadata": {}
        },
        {
          "output_type": "display_data",
          "data": {
            "application/javascript": [
              "window[\"ca3ac010-6720-11ec-87a2-0242ac1c0002\"] = document.querySelector(\"#id326_content_4\");\n",
              "//# sourceURL=js_acc275a163"
            ],
            "text/plain": [
              "<IPython.core.display.Javascript object>"
            ]
          },
          "metadata": {}
        },
        {
          "output_type": "display_data",
          "data": {
            "application/javascript": [
              "window[\"ca3b1330-6720-11ec-87a2-0242ac1c0002\"] = google.colab.output.setActiveOutputArea(window[\"ca3ac010-6720-11ec-87a2-0242ac1c0002\"]);\n",
              "//# sourceURL=js_5a886acb64"
            ],
            "text/plain": [
              "<IPython.core.display.Javascript object>"
            ]
          },
          "metadata": {}
        },
        {
          "output_type": "display_data",
          "data": {
            "application/javascript": [
              "window[\"ca3bb204-6720-11ec-87a2-0242ac1c0002\"] = window[\"id326\"].setSelectedTabIndex(4);\n",
              "//# sourceURL=js_3d9370eb46"
            ],
            "text/plain": [
              "<IPython.core.display.Javascript object>"
            ]
          },
          "metadata": {}
        },
        {
          "output_type": "display_data",
          "data": {
            "application/javascript": [
              "window[\"ca3d8138-6720-11ec-87a2-0242ac1c0002\"] = google.colab.output.getActiveOutputArea();\n",
              "//# sourceURL=js_920613ab65"
            ],
            "text/plain": [
              "<IPython.core.display.Javascript object>"
            ]
          },
          "metadata": {}
        },
        {
          "output_type": "display_data",
          "data": {
            "application/javascript": [
              "window[\"ca3dd91c-6720-11ec-87a2-0242ac1c0002\"] = document.querySelector(\"#id331_content_1\");\n",
              "//# sourceURL=js_8439d68ed0"
            ],
            "text/plain": [
              "<IPython.core.display.Javascript object>"
            ]
          },
          "metadata": {}
        },
        {
          "output_type": "display_data",
          "data": {
            "application/javascript": [
              "window[\"ca3e2d2c-6720-11ec-87a2-0242ac1c0002\"] = google.colab.output.setActiveOutputArea(window[\"ca3dd91c-6720-11ec-87a2-0242ac1c0002\"]);\n",
              "//# sourceURL=js_7ba01a3e9d"
            ],
            "text/plain": [
              "<IPython.core.display.Javascript object>"
            ]
          },
          "metadata": {}
        },
        {
          "output_type": "display_data",
          "data": {
            "application/javascript": [
              "window[\"ca3e7c46-6720-11ec-87a2-0242ac1c0002\"] = window[\"id331\"].setSelectedTabIndex(1);\n",
              "//# sourceURL=js_d825297522"
            ],
            "text/plain": [
              "<IPython.core.display.Javascript object>"
            ]
          },
          "metadata": {}
        },
        {
          "output_type": "stream",
          "name": "stdout",
          "text": [
            "The following table is stored at \u001b[1mShowbusinessStats\u001b[0m variable.\n"
          ]
        },
        {
          "output_type": "display_data",
          "data": {
            "application/vnd.google.colaboratory.module+javascript": "\n      import \"https://ssl.gstatic.com/colaboratory/data_table/a6224c040fa35dcf/data_table.js\";\n\n      window.createDataTable({\n        data: [[{\n            'v': 0,\n            'f': \"0\",\n        },\n{\n            'v': 110475,\n            'f': \"110475\",\n        },\n{\n            'v': 105982,\n            'f': \"105982\",\n        },\n{\n            'v': 728,\n            'f': \"728\",\n        }]],\n        columns: [[\"number\", \"index\"], [\"number\", \"num_movies\"], [\"number\", \"num_people\"], [\"number\", \"num_bands\"]],\n        columnOptions: [{\"width\": \"1px\", \"className\": \"index_column\"}],\n        rowsPerPage: 25,\n        helpUrl: \"https://colab.research.google.com/notebooks/data_table.ipynb\",\n        suppressOutputScrolling: true,\n        minimumWidth: undefined,\n      });\n    ",
            "text/html": [
              "\n",
              "  <div id=\"df-5e0eb6cc-b520-48b1-a079-98e570e59531\">\n",
              "    <div class=\"colab-df-container\">\n",
              "      <div>\n",
              "<style scoped>\n",
              "    .dataframe tbody tr th:only-of-type {\n",
              "        vertical-align: middle;\n",
              "    }\n",
              "\n",
              "    .dataframe tbody tr th {\n",
              "        vertical-align: top;\n",
              "    }\n",
              "\n",
              "    .dataframe thead th {\n",
              "        text-align: right;\n",
              "    }\n",
              "</style>\n",
              "<table border=\"1\" class=\"dataframe\">\n",
              "  <thead>\n",
              "    <tr style=\"text-align: right;\">\n",
              "      <th></th>\n",
              "      <th>num_movies</th>\n",
              "      <th>num_people</th>\n",
              "      <th>num_bands</th>\n",
              "    </tr>\n",
              "  </thead>\n",
              "  <tbody>\n",
              "    <tr>\n",
              "      <th>0</th>\n",
              "      <td>110475</td>\n",
              "      <td>105982</td>\n",
              "      <td>728</td>\n",
              "    </tr>\n",
              "  </tbody>\n",
              "</table>\n",
              "</div>\n",
              "      <button class=\"colab-df-convert\" onclick=\"convertToInteractive('df-5e0eb6cc-b520-48b1-a079-98e570e59531')\"\n",
              "              title=\"Convert this dataframe to an interactive table.\"\n",
              "              style=\"display:none;\">\n",
              "        \n",
              "  <svg xmlns=\"http://www.w3.org/2000/svg\" height=\"24px\"viewBox=\"0 0 24 24\"\n",
              "       width=\"24px\">\n",
              "    <path d=\"M0 0h24v24H0V0z\" fill=\"none\"/>\n",
              "    <path d=\"M18.56 5.44l.94 2.06.94-2.06 2.06-.94-2.06-.94-.94-2.06-.94 2.06-2.06.94zm-11 1L8.5 8.5l.94-2.06 2.06-.94-2.06-.94L8.5 2.5l-.94 2.06-2.06.94zm10 10l.94 2.06.94-2.06 2.06-.94-2.06-.94-.94-2.06-.94 2.06-2.06.94z\"/><path d=\"M17.41 7.96l-1.37-1.37c-.4-.4-.92-.59-1.43-.59-.52 0-1.04.2-1.43.59L10.3 9.45l-7.72 7.72c-.78.78-.78 2.05 0 2.83L4 21.41c.39.39.9.59 1.41.59.51 0 1.02-.2 1.41-.59l7.78-7.78 2.81-2.81c.8-.78.8-2.07 0-2.86zM5.41 20L4 18.59l7.72-7.72 1.47 1.35L5.41 20z\"/>\n",
              "  </svg>\n",
              "      </button>\n",
              "      \n",
              "  <style>\n",
              "    .colab-df-container {\n",
              "      display:flex;\n",
              "      flex-wrap:wrap;\n",
              "      gap: 12px;\n",
              "    }\n",
              "\n",
              "    .colab-df-convert {\n",
              "      background-color: #E8F0FE;\n",
              "      border: none;\n",
              "      border-radius: 50%;\n",
              "      cursor: pointer;\n",
              "      display: none;\n",
              "      fill: #1967D2;\n",
              "      height: 32px;\n",
              "      padding: 0 0 0 0;\n",
              "      width: 32px;\n",
              "    }\n",
              "\n",
              "    .colab-df-convert:hover {\n",
              "      background-color: #E2EBFA;\n",
              "      box-shadow: 0px 1px 2px rgba(60, 64, 67, 0.3), 0px 1px 3px 1px rgba(60, 64, 67, 0.15);\n",
              "      fill: #174EA6;\n",
              "    }\n",
              "\n",
              "    [theme=dark] .colab-df-convert {\n",
              "      background-color: #3B4455;\n",
              "      fill: #D2E3FC;\n",
              "    }\n",
              "\n",
              "    [theme=dark] .colab-df-convert:hover {\n",
              "      background-color: #434B5C;\n",
              "      box-shadow: 0px 1px 3px 1px rgba(0, 0, 0, 0.15);\n",
              "      filter: drop-shadow(0px 1px 2px rgba(0, 0, 0, 0.3));\n",
              "      fill: #FFFFFF;\n",
              "    }\n",
              "  </style>\n",
              "\n",
              "      <script>\n",
              "        const buttonEl =\n",
              "          document.querySelector('#df-5e0eb6cc-b520-48b1-a079-98e570e59531 button.colab-df-convert');\n",
              "        buttonEl.style.display =\n",
              "          google.colab.kernel.accessAllowed ? 'block' : 'none';\n",
              "\n",
              "        async function convertToInteractive(key) {\n",
              "          const element = document.querySelector('#df-5e0eb6cc-b520-48b1-a079-98e570e59531');\n",
              "          const dataTable =\n",
              "            await google.colab.kernel.invokeFunction('convertToInteractive',\n",
              "                                                     [key], {});\n",
              "          if (!dataTable) return;\n",
              "\n",
              "          const docLinkHtml = 'Like what you see? Visit the ' +\n",
              "            '<a target=\"_blank\" href=https://colab.research.google.com/notebooks/data_table.ipynb>data table notebook</a>'\n",
              "            + ' to learn more about interactive tables.';\n",
              "          element.innerHTML = '';\n",
              "          dataTable['output_type'] = 'display_data';\n",
              "          await google.colab.output.renderOutput(dataTable, element);\n",
              "          const docLink = document.createElement('div');\n",
              "          docLink.innerHTML = docLinkHtml;\n",
              "          element.appendChild(docLink);\n",
              "        }\n",
              "      </script>\n",
              "    </div>\n",
              "  </div>\n",
              "  "
            ],
            "text/plain": [
              "   num_movies  num_people  num_bands\n",
              "0      110475      105982        728"
            ]
          },
          "metadata": {}
        },
        {
          "output_type": "display_data",
          "data": {
            "application/javascript": [
              "window[\"ca44506c-6720-11ec-87a2-0242ac1c0002\"] = google.colab.output.setActiveOutputArea(window[\"ca3d8138-6720-11ec-87a2-0242ac1c0002\"]);\n",
              "//# sourceURL=js_8a3550fadd"
            ],
            "text/plain": [
              "<IPython.core.display.Javascript object>"
            ]
          },
          "metadata": {}
        },
        {
          "output_type": "stream",
          "name": "stdout",
          "text": [
            " \n"
          ]
        },
        {
          "output_type": "display_data",
          "data": {
            "application/javascript": [
              "window[\"ca469354-6720-11ec-87a2-0242ac1c0002\"] = google.colab.output.setActiveOutputArea(window[\"ca3a5c10-6720-11ec-87a2-0242ac1c0002\"]);\n",
              "//# sourceURL=js_da0da0ca71"
            ],
            "text/plain": [
              "<IPython.core.display.Javascript object>"
            ]
          },
          "metadata": {}
        },
        {
          "output_type": "display_data",
          "data": {
            "application/javascript": [
              "window[\"ca490daa-6720-11ec-87a2-0242ac1c0002\"] = google.colab.output.getActiveOutputArea();\n",
              "//# sourceURL=js_6dcb68724a"
            ],
            "text/plain": [
              "<IPython.core.display.Javascript object>"
            ]
          },
          "metadata": {}
        },
        {
          "output_type": "display_data",
          "data": {
            "application/javascript": [
              "window[\"ca495f9e-6720-11ec-87a2-0242ac1c0002\"] = document.querySelector(\"#id326_content_5\");\n",
              "//# sourceURL=js_1b8916f8ef"
            ],
            "text/plain": [
              "<IPython.core.display.Javascript object>"
            ]
          },
          "metadata": {}
        },
        {
          "output_type": "display_data",
          "data": {
            "application/javascript": [
              "window[\"ca49c9fc-6720-11ec-87a2-0242ac1c0002\"] = google.colab.output.setActiveOutputArea(window[\"ca495f9e-6720-11ec-87a2-0242ac1c0002\"]);\n",
              "//# sourceURL=js_983c20e98c"
            ],
            "text/plain": [
              "<IPython.core.display.Javascript object>"
            ]
          },
          "metadata": {}
        },
        {
          "output_type": "display_data",
          "data": {
            "application/javascript": [
              "window[\"ca4a152e-6720-11ec-87a2-0242ac1c0002\"] = window[\"id326\"].setSelectedTabIndex(5);\n",
              "//# sourceURL=js_a3f2941cfc"
            ],
            "text/plain": [
              "<IPython.core.display.Javascript object>"
            ]
          },
          "metadata": {}
        },
        {
          "output_type": "display_data",
          "data": {
            "application/javascript": [
              "window[\"ca4bfe0c-6720-11ec-87a2-0242ac1c0002\"] = google.colab.output.getActiveOutputArea();\n",
              "//# sourceURL=js_d9f34b8985"
            ],
            "text/plain": [
              "<IPython.core.display.Javascript object>"
            ]
          },
          "metadata": {}
        },
        {
          "output_type": "display_data",
          "data": {
            "application/javascript": [
              "window[\"ca4c55b4-6720-11ec-87a2-0242ac1c0002\"] = document.querySelector(\"#id332_content_1\");\n",
              "//# sourceURL=js_83f2a00db5"
            ],
            "text/plain": [
              "<IPython.core.display.Javascript object>"
            ]
          },
          "metadata": {}
        },
        {
          "output_type": "display_data",
          "data": {
            "application/javascript": [
              "window[\"ca4ca6fe-6720-11ec-87a2-0242ac1c0002\"] = google.colab.output.setActiveOutputArea(window[\"ca4c55b4-6720-11ec-87a2-0242ac1c0002\"]);\n",
              "//# sourceURL=js_8bb1d3b152"
            ],
            "text/plain": [
              "<IPython.core.display.Javascript object>"
            ]
          },
          "metadata": {}
        },
        {
          "output_type": "display_data",
          "data": {
            "application/javascript": [
              "window[\"ca4d183c-6720-11ec-87a2-0242ac1c0002\"] = window[\"id332\"].setSelectedTabIndex(1);\n",
              "//# sourceURL=js_f1153aea03"
            ],
            "text/plain": [
              "<IPython.core.display.Javascript object>"
            ]
          },
          "metadata": {}
        },
        {
          "output_type": "stream",
          "name": "stdout",
          "text": [
            "The following table is stored at \u001b[1mPathFromVladimirToArnold\u001b[0m variable.\n"
          ]
        },
        {
          "output_type": "display_data",
          "data": {
            "application/vnd.google.colaboratory.module+javascript": "\n      import \"https://ssl.gstatic.com/colaboratory/data_table/a6224c040fa35dcf/data_table.js\";\n\n      window.createDataTable({\n        data: [[{\n            'v': 0,\n            'f': \"0\",\n        },\n{\n            'v': 1,\n            'f': \"1\",\n        },\n\"Vladimir Vysotsky\",\n\"Otar Koberidze\",\n\"\\\"713\\\" Requests Permission to Land\"],\n [{\n            'v': 1,\n            'f': \"1\",\n        },\n{\n            'v': 2,\n            'f': \"2\",\n        },\n\"Otar Koberidze\",\n\"Sean Connery\",\n\"The Red Tent\"],\n [{\n            'v': 2,\n            'f': \"2\",\n        },\n{\n            'v': 3,\n            'f': \"3\",\n        },\n\"Sean Connery\",\n\"Arnold Schwarzenegger\",\n\"Junket Whore\"]],\n        columns: [[\"number\", \"index\"], [\"number\", \"step_number\"], [\"string\", \"from_person\"], [\"string\", \"to_person\"], [\"string\", \"movie\"]],\n        columnOptions: [{\"width\": \"1px\", \"className\": \"index_column\"}],\n        rowsPerPage: 25,\n        helpUrl: \"https://colab.research.google.com/notebooks/data_table.ipynb\",\n        suppressOutputScrolling: true,\n        minimumWidth: undefined,\n      });\n    ",
            "text/html": [
              "\n",
              "  <div id=\"df-c9e693b5-3bb4-4aee-9849-3dabc3c2fc4c\">\n",
              "    <div class=\"colab-df-container\">\n",
              "      <div>\n",
              "<style scoped>\n",
              "    .dataframe tbody tr th:only-of-type {\n",
              "        vertical-align: middle;\n",
              "    }\n",
              "\n",
              "    .dataframe tbody tr th {\n",
              "        vertical-align: top;\n",
              "    }\n",
              "\n",
              "    .dataframe thead th {\n",
              "        text-align: right;\n",
              "    }\n",
              "</style>\n",
              "<table border=\"1\" class=\"dataframe\">\n",
              "  <thead>\n",
              "    <tr style=\"text-align: right;\">\n",
              "      <th></th>\n",
              "      <th>step_number</th>\n",
              "      <th>from_person</th>\n",
              "      <th>to_person</th>\n",
              "      <th>movie</th>\n",
              "    </tr>\n",
              "  </thead>\n",
              "  <tbody>\n",
              "    <tr>\n",
              "      <th>0</th>\n",
              "      <td>1</td>\n",
              "      <td>Vladimir Vysotsky</td>\n",
              "      <td>Otar Koberidze</td>\n",
              "      <td>\"713\" Requests Permission to Land</td>\n",
              "    </tr>\n",
              "    <tr>\n",
              "      <th>1</th>\n",
              "      <td>2</td>\n",
              "      <td>Otar Koberidze</td>\n",
              "      <td>Sean Connery</td>\n",
              "      <td>The Red Tent</td>\n",
              "    </tr>\n",
              "    <tr>\n",
              "      <th>2</th>\n",
              "      <td>3</td>\n",
              "      <td>Sean Connery</td>\n",
              "      <td>Arnold Schwarzenegger</td>\n",
              "      <td>Junket Whore</td>\n",
              "    </tr>\n",
              "  </tbody>\n",
              "</table>\n",
              "</div>\n",
              "      <button class=\"colab-df-convert\" onclick=\"convertToInteractive('df-c9e693b5-3bb4-4aee-9849-3dabc3c2fc4c')\"\n",
              "              title=\"Convert this dataframe to an interactive table.\"\n",
              "              style=\"display:none;\">\n",
              "        \n",
              "  <svg xmlns=\"http://www.w3.org/2000/svg\" height=\"24px\"viewBox=\"0 0 24 24\"\n",
              "       width=\"24px\">\n",
              "    <path d=\"M0 0h24v24H0V0z\" fill=\"none\"/>\n",
              "    <path d=\"M18.56 5.44l.94 2.06.94-2.06 2.06-.94-2.06-.94-.94-2.06-.94 2.06-2.06.94zm-11 1L8.5 8.5l.94-2.06 2.06-.94-2.06-.94L8.5 2.5l-.94 2.06-2.06.94zm10 10l.94 2.06.94-2.06 2.06-.94-2.06-.94-.94-2.06-.94 2.06-2.06.94z\"/><path d=\"M17.41 7.96l-1.37-1.37c-.4-.4-.92-.59-1.43-.59-.52 0-1.04.2-1.43.59L10.3 9.45l-7.72 7.72c-.78.78-.78 2.05 0 2.83L4 21.41c.39.39.9.59 1.41.59.51 0 1.02-.2 1.41-.59l7.78-7.78 2.81-2.81c.8-.78.8-2.07 0-2.86zM5.41 20L4 18.59l7.72-7.72 1.47 1.35L5.41 20z\"/>\n",
              "  </svg>\n",
              "      </button>\n",
              "      \n",
              "  <style>\n",
              "    .colab-df-container {\n",
              "      display:flex;\n",
              "      flex-wrap:wrap;\n",
              "      gap: 12px;\n",
              "    }\n",
              "\n",
              "    .colab-df-convert {\n",
              "      background-color: #E8F0FE;\n",
              "      border: none;\n",
              "      border-radius: 50%;\n",
              "      cursor: pointer;\n",
              "      display: none;\n",
              "      fill: #1967D2;\n",
              "      height: 32px;\n",
              "      padding: 0 0 0 0;\n",
              "      width: 32px;\n",
              "    }\n",
              "\n",
              "    .colab-df-convert:hover {\n",
              "      background-color: #E2EBFA;\n",
              "      box-shadow: 0px 1px 2px rgba(60, 64, 67, 0.3), 0px 1px 3px 1px rgba(60, 64, 67, 0.15);\n",
              "      fill: #174EA6;\n",
              "    }\n",
              "\n",
              "    [theme=dark] .colab-df-convert {\n",
              "      background-color: #3B4455;\n",
              "      fill: #D2E3FC;\n",
              "    }\n",
              "\n",
              "    [theme=dark] .colab-df-convert:hover {\n",
              "      background-color: #434B5C;\n",
              "      box-shadow: 0px 1px 3px 1px rgba(0, 0, 0, 0.15);\n",
              "      filter: drop-shadow(0px 1px 2px rgba(0, 0, 0, 0.3));\n",
              "      fill: #FFFFFF;\n",
              "    }\n",
              "  </style>\n",
              "\n",
              "      <script>\n",
              "        const buttonEl =\n",
              "          document.querySelector('#df-c9e693b5-3bb4-4aee-9849-3dabc3c2fc4c button.colab-df-convert');\n",
              "        buttonEl.style.display =\n",
              "          google.colab.kernel.accessAllowed ? 'block' : 'none';\n",
              "\n",
              "        async function convertToInteractive(key) {\n",
              "          const element = document.querySelector('#df-c9e693b5-3bb4-4aee-9849-3dabc3c2fc4c');\n",
              "          const dataTable =\n",
              "            await google.colab.kernel.invokeFunction('convertToInteractive',\n",
              "                                                     [key], {});\n",
              "          if (!dataTable) return;\n",
              "\n",
              "          const docLinkHtml = 'Like what you see? Visit the ' +\n",
              "            '<a target=\"_blank\" href=https://colab.research.google.com/notebooks/data_table.ipynb>data table notebook</a>'\n",
              "            + ' to learn more about interactive tables.';\n",
              "          element.innerHTML = '';\n",
              "          dataTable['output_type'] = 'display_data';\n",
              "          await google.colab.output.renderOutput(dataTable, element);\n",
              "          const docLink = document.createElement('div');\n",
              "          docLink.innerHTML = docLinkHtml;\n",
              "          element.appendChild(docLink);\n",
              "        }\n",
              "      </script>\n",
              "    </div>\n",
              "  </div>\n",
              "  "
            ],
            "text/plain": [
              "   step_number  ...                              movie\n",
              "0            1  ...  \"713\" Requests Permission to Land\n",
              "1            2  ...                       The Red Tent\n",
              "2            3  ...                       Junket Whore\n",
              "\n",
              "[3 rows x 4 columns]"
            ]
          },
          "metadata": {}
        },
        {
          "output_type": "display_data",
          "data": {
            "application/javascript": [
              "window[\"ca532bbe-6720-11ec-87a2-0242ac1c0002\"] = google.colab.output.setActiveOutputArea(window[\"ca4bfe0c-6720-11ec-87a2-0242ac1c0002\"]);\n",
              "//# sourceURL=js_807ae762fc"
            ],
            "text/plain": [
              "<IPython.core.display.Javascript object>"
            ]
          },
          "metadata": {}
        },
        {
          "output_type": "stream",
          "name": "stdout",
          "text": [
            " \n"
          ]
        },
        {
          "output_type": "display_data",
          "data": {
            "application/javascript": [
              "window[\"ca55284c-6720-11ec-87a2-0242ac1c0002\"] = google.colab.output.setActiveOutputArea(window[\"ca490daa-6720-11ec-87a2-0242ac1c0002\"]);\n",
              "//# sourceURL=js_f59d943927"
            ],
            "text/plain": [
              "<IPython.core.display.Javascript object>"
            ]
          },
          "metadata": {}
        },
        {
          "output_type": "display_data",
          "data": {
            "application/javascript": [
              "window[\"ca57354c-6720-11ec-87a2-0242ac1c0002\"] = google.colab.output.getActiveOutputArea();\n",
              "//# sourceURL=js_7c0799c39d"
            ],
            "text/plain": [
              "<IPython.core.display.Javascript object>"
            ]
          },
          "metadata": {}
        },
        {
          "output_type": "display_data",
          "data": {
            "application/javascript": [
              "window[\"ca57b3b4-6720-11ec-87a2-0242ac1c0002\"] = document.querySelector(\"#id326_content_6\");\n",
              "//# sourceURL=js_5ca8174414"
            ],
            "text/plain": [
              "<IPython.core.display.Javascript object>"
            ]
          },
          "metadata": {}
        },
        {
          "output_type": "display_data",
          "data": {
            "application/javascript": [
              "window[\"ca581e58-6720-11ec-87a2-0242ac1c0002\"] = google.colab.output.setActiveOutputArea(window[\"ca57b3b4-6720-11ec-87a2-0242ac1c0002\"]);\n",
              "//# sourceURL=js_1c80a611db"
            ],
            "text/plain": [
              "<IPython.core.display.Javascript object>"
            ]
          },
          "metadata": {}
        },
        {
          "output_type": "display_data",
          "data": {
            "application/javascript": [
              "window[\"ca58685e-6720-11ec-87a2-0242ac1c0002\"] = window[\"id326\"].setSelectedTabIndex(6);\n",
              "//# sourceURL=js_72d04e524c"
            ],
            "text/plain": [
              "<IPython.core.display.Javascript object>"
            ]
          },
          "metadata": {}
        },
        {
          "output_type": "display_data",
          "data": {
            "application/javascript": [
              "window[\"ca5ae1ba-6720-11ec-87a2-0242ac1c0002\"] = google.colab.output.getActiveOutputArea();\n",
              "//# sourceURL=js_7c26e074c5"
            ],
            "text/plain": [
              "<IPython.core.display.Javascript object>"
            ]
          },
          "metadata": {}
        },
        {
          "output_type": "display_data",
          "data": {
            "application/javascript": [
              "window[\"ca5b4b64-6720-11ec-87a2-0242ac1c0002\"] = document.querySelector(\"#id333_content_1\");\n",
              "//# sourceURL=js_6a29a2f2eb"
            ],
            "text/plain": [
              "<IPython.core.display.Javascript object>"
            ]
          },
          "metadata": {}
        },
        {
          "output_type": "display_data",
          "data": {
            "application/javascript": [
              "window[\"ca5b9c2c-6720-11ec-87a2-0242ac1c0002\"] = google.colab.output.setActiveOutputArea(window[\"ca5b4b64-6720-11ec-87a2-0242ac1c0002\"]);\n",
              "//# sourceURL=js_b4eaa2c73d"
            ],
            "text/plain": [
              "<IPython.core.display.Javascript object>"
            ]
          },
          "metadata": {}
        },
        {
          "output_type": "display_data",
          "data": {
            "application/javascript": [
              "window[\"ca5bf05a-6720-11ec-87a2-0242ac1c0002\"] = window[\"id333\"].setSelectedTabIndex(1);\n",
              "//# sourceURL=js_0029f80602"
            ],
            "text/plain": [
              "<IPython.core.display.Javascript object>"
            ]
          },
          "metadata": {}
        },
        {
          "output_type": "stream",
          "name": "stdout",
          "text": [
            "The following table is stored at \u001b[1mPathFromLyudmilaToMarilyn\u001b[0m variable.\n"
          ]
        },
        {
          "output_type": "display_data",
          "data": {
            "application/vnd.google.colaboratory.module+javascript": "\n      import \"https://ssl.gstatic.com/colaboratory/data_table/a6224c040fa35dcf/data_table.js\";\n\n      window.createDataTable({\n        data: [[{\n            'v': 0,\n            'f': \"0\",\n        },\n{\n            'v': 1,\n            'f': \"1\",\n        },\n\"Lyudmila Gurchenko\",\n\"Nikita Mikhalkov\",\n\"Flights in Dreams and Reality\"],\n [{\n            'v': 1,\n            'f': \"1\",\n        },\n{\n            'v': 1,\n            'f': \"1\",\n        },\n\"Lyudmila Gurchenko\",\n\"Nikita Mikhalkov\",\n\"Siberiade\"],\n [{\n            'v': 2,\n            'f': \"2\",\n        },\n{\n            'v': 1,\n            'f': \"1\",\n        },\n\"Lyudmila Gurchenko\",\n\"Nikita Mikhalkov\",\n\"Station for Two\"],\n [{\n            'v': 3,\n            'f': \"3\",\n        },\n{\n            'v': 2,\n            'f': \"2\",\n        },\n\"Nikita Mikhalkov\",\n\"Yves Montand\",\n\"Cannes, 60 ans d'histoire\"],\n [{\n            'v': 4,\n            'f': \"4\",\n        },\n{\n            'v': 3,\n            'f': \"3\",\n        },\n\"Yves Montand\",\n\"Marilyn Monroe\",\n\"Let's Make Love\"]],\n        columns: [[\"number\", \"index\"], [\"number\", \"step_number\"], [\"string\", \"from_person\"], [\"string\", \"to_person\"], [\"string\", \"movie\"]],\n        columnOptions: [{\"width\": \"1px\", \"className\": \"index_column\"}],\n        rowsPerPage: 25,\n        helpUrl: \"https://colab.research.google.com/notebooks/data_table.ipynb\",\n        suppressOutputScrolling: true,\n        minimumWidth: undefined,\n      });\n    ",
            "text/html": [
              "\n",
              "  <div id=\"df-9c15662c-c011-4dbc-8010-9727716c766a\">\n",
              "    <div class=\"colab-df-container\">\n",
              "      <div>\n",
              "<style scoped>\n",
              "    .dataframe tbody tr th:only-of-type {\n",
              "        vertical-align: middle;\n",
              "    }\n",
              "\n",
              "    .dataframe tbody tr th {\n",
              "        vertical-align: top;\n",
              "    }\n",
              "\n",
              "    .dataframe thead th {\n",
              "        text-align: right;\n",
              "    }\n",
              "</style>\n",
              "<table border=\"1\" class=\"dataframe\">\n",
              "  <thead>\n",
              "    <tr style=\"text-align: right;\">\n",
              "      <th></th>\n",
              "      <th>step_number</th>\n",
              "      <th>from_person</th>\n",
              "      <th>to_person</th>\n",
              "      <th>movie</th>\n",
              "    </tr>\n",
              "  </thead>\n",
              "  <tbody>\n",
              "    <tr>\n",
              "      <th>0</th>\n",
              "      <td>1</td>\n",
              "      <td>Lyudmila Gurchenko</td>\n",
              "      <td>Nikita Mikhalkov</td>\n",
              "      <td>Flights in Dreams and Reality</td>\n",
              "    </tr>\n",
              "    <tr>\n",
              "      <th>1</th>\n",
              "      <td>1</td>\n",
              "      <td>Lyudmila Gurchenko</td>\n",
              "      <td>Nikita Mikhalkov</td>\n",
              "      <td>Siberiade</td>\n",
              "    </tr>\n",
              "    <tr>\n",
              "      <th>2</th>\n",
              "      <td>1</td>\n",
              "      <td>Lyudmila Gurchenko</td>\n",
              "      <td>Nikita Mikhalkov</td>\n",
              "      <td>Station for Two</td>\n",
              "    </tr>\n",
              "    <tr>\n",
              "      <th>3</th>\n",
              "      <td>2</td>\n",
              "      <td>Nikita Mikhalkov</td>\n",
              "      <td>Yves Montand</td>\n",
              "      <td>Cannes, 60 ans d'histoire</td>\n",
              "    </tr>\n",
              "    <tr>\n",
              "      <th>4</th>\n",
              "      <td>3</td>\n",
              "      <td>Yves Montand</td>\n",
              "      <td>Marilyn Monroe</td>\n",
              "      <td>Let's Make Love</td>\n",
              "    </tr>\n",
              "  </tbody>\n",
              "</table>\n",
              "</div>\n",
              "      <button class=\"colab-df-convert\" onclick=\"convertToInteractive('df-9c15662c-c011-4dbc-8010-9727716c766a')\"\n",
              "              title=\"Convert this dataframe to an interactive table.\"\n",
              "              style=\"display:none;\">\n",
              "        \n",
              "  <svg xmlns=\"http://www.w3.org/2000/svg\" height=\"24px\"viewBox=\"0 0 24 24\"\n",
              "       width=\"24px\">\n",
              "    <path d=\"M0 0h24v24H0V0z\" fill=\"none\"/>\n",
              "    <path d=\"M18.56 5.44l.94 2.06.94-2.06 2.06-.94-2.06-.94-.94-2.06-.94 2.06-2.06.94zm-11 1L8.5 8.5l.94-2.06 2.06-.94-2.06-.94L8.5 2.5l-.94 2.06-2.06.94zm10 10l.94 2.06.94-2.06 2.06-.94-2.06-.94-.94-2.06-.94 2.06-2.06.94z\"/><path d=\"M17.41 7.96l-1.37-1.37c-.4-.4-.92-.59-1.43-.59-.52 0-1.04.2-1.43.59L10.3 9.45l-7.72 7.72c-.78.78-.78 2.05 0 2.83L4 21.41c.39.39.9.59 1.41.59.51 0 1.02-.2 1.41-.59l7.78-7.78 2.81-2.81c.8-.78.8-2.07 0-2.86zM5.41 20L4 18.59l7.72-7.72 1.47 1.35L5.41 20z\"/>\n",
              "  </svg>\n",
              "      </button>\n",
              "      \n",
              "  <style>\n",
              "    .colab-df-container {\n",
              "      display:flex;\n",
              "      flex-wrap:wrap;\n",
              "      gap: 12px;\n",
              "    }\n",
              "\n",
              "    .colab-df-convert {\n",
              "      background-color: #E8F0FE;\n",
              "      border: none;\n",
              "      border-radius: 50%;\n",
              "      cursor: pointer;\n",
              "      display: none;\n",
              "      fill: #1967D2;\n",
              "      height: 32px;\n",
              "      padding: 0 0 0 0;\n",
              "      width: 32px;\n",
              "    }\n",
              "\n",
              "    .colab-df-convert:hover {\n",
              "      background-color: #E2EBFA;\n",
              "      box-shadow: 0px 1px 2px rgba(60, 64, 67, 0.3), 0px 1px 3px 1px rgba(60, 64, 67, 0.15);\n",
              "      fill: #174EA6;\n",
              "    }\n",
              "\n",
              "    [theme=dark] .colab-df-convert {\n",
              "      background-color: #3B4455;\n",
              "      fill: #D2E3FC;\n",
              "    }\n",
              "\n",
              "    [theme=dark] .colab-df-convert:hover {\n",
              "      background-color: #434B5C;\n",
              "      box-shadow: 0px 1px 3px 1px rgba(0, 0, 0, 0.15);\n",
              "      filter: drop-shadow(0px 1px 2px rgba(0, 0, 0, 0.3));\n",
              "      fill: #FFFFFF;\n",
              "    }\n",
              "  </style>\n",
              "\n",
              "      <script>\n",
              "        const buttonEl =\n",
              "          document.querySelector('#df-9c15662c-c011-4dbc-8010-9727716c766a button.colab-df-convert');\n",
              "        buttonEl.style.display =\n",
              "          google.colab.kernel.accessAllowed ? 'block' : 'none';\n",
              "\n",
              "        async function convertToInteractive(key) {\n",
              "          const element = document.querySelector('#df-9c15662c-c011-4dbc-8010-9727716c766a');\n",
              "          const dataTable =\n",
              "            await google.colab.kernel.invokeFunction('convertToInteractive',\n",
              "                                                     [key], {});\n",
              "          if (!dataTable) return;\n",
              "\n",
              "          const docLinkHtml = 'Like what you see? Visit the ' +\n",
              "            '<a target=\"_blank\" href=https://colab.research.google.com/notebooks/data_table.ipynb>data table notebook</a>'\n",
              "            + ' to learn more about interactive tables.';\n",
              "          element.innerHTML = '';\n",
              "          dataTable['output_type'] = 'display_data';\n",
              "          await google.colab.output.renderOutput(dataTable, element);\n",
              "          const docLink = document.createElement('div');\n",
              "          docLink.innerHTML = docLinkHtml;\n",
              "          element.appendChild(docLink);\n",
              "        }\n",
              "      </script>\n",
              "    </div>\n",
              "  </div>\n",
              "  "
            ],
            "text/plain": [
              "   step_number  ...                          movie\n",
              "0            1  ...  Flights in Dreams and Reality\n",
              "1            1  ...                      Siberiade\n",
              "2            1  ...                Station for Two\n",
              "3            2  ...      Cannes, 60 ans d'histoire\n",
              "4            3  ...                Let's Make Love\n",
              "\n",
              "[5 rows x 4 columns]"
            ]
          },
          "metadata": {}
        },
        {
          "output_type": "display_data",
          "data": {
            "application/javascript": [
              "window[\"ca62e608-6720-11ec-87a2-0242ac1c0002\"] = google.colab.output.setActiveOutputArea(window[\"ca5ae1ba-6720-11ec-87a2-0242ac1c0002\"]);\n",
              "//# sourceURL=js_7edf91ed0e"
            ],
            "text/plain": [
              "<IPython.core.display.Javascript object>"
            ]
          },
          "metadata": {}
        },
        {
          "output_type": "stream",
          "name": "stdout",
          "text": [
            " \n"
          ]
        },
        {
          "output_type": "display_data",
          "data": {
            "application/javascript": [
              "window[\"ca6542a4-6720-11ec-87a2-0242ac1c0002\"] = google.colab.output.setActiveOutputArea(window[\"ca57354c-6720-11ec-87a2-0242ac1c0002\"]);\n",
              "//# sourceURL=js_b513f26d6a"
            ],
            "text/plain": [
              "<IPython.core.display.Javascript object>"
            ]
          },
          "metadata": {}
        }
      ]
    },
    {
      "cell_type": "code",
      "source": [
        "%%logica SomeCrime, NumCrimes, CrimeCountAtHour, CrimeAtHour, NeighbourhoodCrimeDistribution, CrimeChangeExpanded, MostVolatileType, CrimeChange\n",
        "\n",
        "@Engine(\"sqlite\");\n",
        "@AttachDatabase(\"db\", \"vancouver_crime.db\");\n",
        "\n",
        "@Limit(SomeCrime, 10);\n",
        "SomeCrime(..r) :- db.crime(..r);\n",
        "\n",
        "NumCrimes() += 1 :- db.crime();\n",
        "\n",
        "#11\n",
        "CrimeAtHour(hour:, crimetype? ArgMax= crimetype -> count ) distinct :- CrimeCountAtHour(hour:, crimetype:, count:);\n",
        "\n",
        "CrimeCountAtHour(hour:, crimetype:, count? +=1) distinct :- db.crime(hour:, crimetype:);\n",
        "\n",
        "#12\n",
        "NeighbourhoodCrimeDistribution(neighbourhood:, crimes? List= {crimetype:, proportion:}) distinct :-\n",
        "  proportion == CrimetypeProportionInNeighbourhood(neighbourhood:, crimetype:);\n",
        "\n",
        "CrimetypeProportionInNeighbourhood(neighbourhood:, crimetype:) = ToFloat64(count)/all_crimes_in_nei :-\n",
        "  count == CrimesCountInNeighbourhood(neighbourhood:, crimetype:),\n",
        "  all_crimes_in_nei == AllCrimesCountInNeighbourhood(neighbourhood:);\n",
        "\n",
        "CrimesCountInNeighbourhood(neighbourhood:, crimetype:) +=1 :- db.crime(neighbourhood:, crimetype:);\n",
        "\n",
        "@Ground(AllCrimesCountInNeighbourhood);\n",
        "AllCrimesCountInNeighbourhood(neighbourhood:) += CrimesCountInNeighbourhood(neighbourhood:, crimetype:);\n",
        "\n",
        "#TODO delete\n",
        "CheckPerc(neighbourhood:, r? += proportion) distinct :- \n",
        "  proportion == CrimetypeProportionInNeighbourhood(neighbourhood:, crimetype:);\n",
        "\n",
        "  \n",
        "Abs(x) = if x > 0 then x else -1*x;\n",
        "#13\n",
        "CrimeChange(year:, crimetype:, changed_from:, changed_to:) :- \n",
        "  MostVolatileType(year:, crimetype:),\n",
        "  CrimeChangeExpanded(year:, crimetype:, changed_from:, changed_to:);\n",
        "\n",
        "MostVolatileType(year:, crimetype? ArgMax= ct -> delta) distinct :- \n",
        "  CrimeChangeExpanded(year:, crimetype:ct, changed_from:, changed_to:, delta:);\n",
        "\n",
        "CrimeChangeExpanded(year:this_year, crimetype:, changed_from:prev_count, changed_to:cur_count, delta:):-\n",
        "  cur_count == CrimeCountByYear(year:this_year, crimetype:),\n",
        "  prev_count == CrimeCountByYear(year:this_year - 1, crimetype:),\n",
        "  delta == Abs(cur_count - prev_count);\n",
        "\n",
        "@Ground(CrimeCountByYear);\n",
        "CrimeCountByYear(year:, crimetype:) += 1 :- db.crime(year:, crimetype:);"
      ],
      "metadata": {
        "id": "-_ANACli4iPd",
        "colab": {
          "resources": {
            "http://localhost:8080/nbextensions/google.colab/tabbar.css": {
              "data": "Lmdvb2ctdGFie3Bvc2l0aW9uOnJlbGF0aXZlO3BhZGRpbmc6NHB4IDhweDtjb2xvcjojMDBjO3RleHQtZGVjb3JhdGlvbjp1bmRlcmxpbmU7Y3Vyc29yOmRlZmF1bHR9Lmdvb2ctdGFiLWJhci10b3AgLmdvb2ctdGFie21hcmdpbjoxcHggNHB4IDAgMDtib3JkZXItYm90dG9tOjA7ZmxvYXQ6bGVmdH0uZ29vZy10YWItYmFyLXRvcDphZnRlciwuZ29vZy10YWItYmFyLWJvdHRvbTphZnRlcntjb250ZW50OiIgIjtkaXNwbGF5OmJsb2NrO2hlaWdodDowO2NsZWFyOmJvdGg7dmlzaWJpbGl0eTpoaWRkZW59Lmdvb2ctdGFiLWJhci1ib3R0b20gLmdvb2ctdGFie21hcmdpbjowIDRweCAxcHggMDtib3JkZXItdG9wOjA7ZmxvYXQ6bGVmdH0uZ29vZy10YWItYmFyLXN0YXJ0IC5nb29nLXRhYnttYXJnaW46MCAwIDRweCAxcHg7Ym9yZGVyLXJpZ2h0OjB9Lmdvb2ctdGFiLWJhci1lbmQgLmdvb2ctdGFie21hcmdpbjowIDFweCA0cHggMDtib3JkZXItbGVmdDowfS5nb29nLXRhYi1ob3ZlcntiYWNrZ3JvdW5kOiNlZWV9Lmdvb2ctdGFiLWRpc2FibGVke2NvbG9yOiM2NjZ9Lmdvb2ctdGFiLXNlbGVjdGVke2NvbG9yOiMwMDA7YmFja2dyb3VuZDojZmZmO3RleHQtZGVjb3JhdGlvbjpub25lO2ZvbnQtd2VpZ2h0OmJvbGQ7Ym9yZGVyOjFweCBzb2xpZCAjNmI5MGRhfS5nb29nLXRhYi1iYXItdG9we3BhZGRpbmctdG9wOjVweCFpbXBvcnRhbnQ7cGFkZGluZy1sZWZ0OjVweCFpbXBvcnRhbnQ7Ym9yZGVyLWJvdHRvbToxcHggc29saWQgIzZiOTBkYSFpbXBvcnRhbnR9Lmdvb2ctdGFiLWJhci10b3AgLmdvb2ctdGFiLXNlbGVjdGVke3RvcDoxcHg7bWFyZ2luLXRvcDowO3BhZGRpbmctYm90dG9tOjVweH0uZ29vZy10YWItYmFyLWJvdHRvbSAuZ29vZy10YWItc2VsZWN0ZWR7dG9wOi0xcHg7bWFyZ2luLWJvdHRvbTowO3BhZGRpbmctdG9wOjVweH0uZ29vZy10YWItYmFyLXN0YXJ0IC5nb29nLXRhYi1zZWxlY3RlZHtsZWZ0OjFweDttYXJnaW4tbGVmdDowO3BhZGRpbmctcmlnaHQ6OXB4fS5nb29nLXRhYi1iYXItZW5kIC5nb29nLXRhYi1zZWxlY3RlZHtsZWZ0Oi0xcHg7bWFyZ2luLXJpZ2h0OjA7cGFkZGluZy1sZWZ0OjlweH0uZ29vZy10YWItYmFye21hcmdpbjowO2JvcmRlcjowO3BhZGRpbmc6MDtsaXN0LXN0eWxlOm5vbmU7Y3Vyc29yOmRlZmF1bHQ7b3V0bGluZTpub25lO2JhY2tncm91bmQ6I2ViZWZmOX0uZ29vZy10YWItYmFyLWNsZWFye2NsZWFyOmJvdGg7aGVpZ2h0OjA7b3ZlcmZsb3c6aGlkZGVufS5nb29nLXRhYi1iYXItc3RhcnR7ZmxvYXQ6bGVmdH0uZ29vZy10YWItYmFyLWVuZHtmbG9hdDpyaWdodH0qIGh0bWwgLmdvb2ctdGFiLWJhci1zdGFydHttYXJnaW4tcmlnaHQ6LTNweH0qIGh0bWwgLmdvb2ctdGFiLWJhci1lbmR7bWFyZ2luLWxlZnQ6LTNweH0=",
              "ok": true,
              "headers": [
                [
                  "content-type",
                  "text/css"
                ]
              ],
              "status": 200,
              "status_text": ""
            },
            "http://localhost:8080/nbextensions/google.colab/tabbar_main.min.js": {
              "data": "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",
              "ok": true,
              "headers": [
                [
                  "content-type",
                  "application/javascript"
                ]
              ],
              "status": 200,
              "status_text": ""
            }
          },
          "base_uri": "https://localhost:8080/",
          "height": 497
        },
        "outputId": "99dd10de-6860-4fc9-a644-18610c894393"
      },
      "execution_count": 46,
      "outputs": [
        {
          "output_type": "display_data",
          "data": {
            "text/html": [
              "<link rel=stylesheet type=text/css href='/nbextensions/google.colab/tabbar.css'></link>"
            ],
            "text/plain": [
              "<IPython.core.display.HTML object>"
            ]
          },
          "metadata": {}
        },
        {
          "output_type": "display_data",
          "data": {
            "text/html": [
              "<script src='/nbextensions/google.colab/tabbar_main.min.js'></script>"
            ],
            "text/plain": [
              "<IPython.core.display.HTML object>"
            ]
          },
          "metadata": {}
        },
        {
          "output_type": "display_data",
          "data": {
            "text/html": [
              "<div id=\"id226\"></div>"
            ],
            "text/plain": [
              "<IPython.core.display.HTML object>"
            ]
          },
          "metadata": {}
        },
        {
          "output_type": "display_data",
          "data": {
            "application/javascript": [
              "window[\"6d1d8a26-6710-11ec-87a2-0242ac1c0002\"] = colab_lib.createTabBar({\"location\": \"top\", \"elementId\": \"id226\", \"tabNames\": [\"SomeCrime\", \"NumCrimes\", \"CrimeCountAtHour\", \"CrimeAtHour\", \"NeighbourhoodCrimeDistribution\", \"CrimeChangeExpanded\", \"MostVolatileType\", \"CrimeChange\", \"(Log)\"], \"initialSelection\": 0, \"contentBorder\": [\"0px\"], \"contentHeight\": [\"initial\"], \"borderColor\": [\"#a7a7a7\"]});\n",
              "//# sourceURL=js_9ece261abe"
            ],
            "text/plain": [
              "<IPython.core.display.Javascript object>"
            ]
          },
          "metadata": {}
        },
        {
          "output_type": "display_data",
          "data": {
            "application/javascript": [
              "window[\"6d1e0e42-6710-11ec-87a2-0242ac1c0002\"] = window[\"id226\"].setSelectedTabIndex(0);\n",
              "//# sourceURL=js_4fea130ee6"
            ],
            "text/plain": [
              "<IPython.core.display.Javascript object>"
            ]
          },
          "metadata": {}
        },
        {
          "output_type": "display_data",
          "data": {
            "application/javascript": [
              "window[\"6d20eda6-6710-11ec-87a2-0242ac1c0002\"] = google.colab.output.getActiveOutputArea();\n",
              "//# sourceURL=js_f27a7d8741"
            ],
            "text/plain": [
              "<IPython.core.display.Javascript object>"
            ]
          },
          "metadata": {}
        },
        {
          "output_type": "display_data",
          "data": {
            "application/javascript": [
              "window[\"6d2185a4-6710-11ec-87a2-0242ac1c0002\"] = document.querySelector(\"#id226_content_8\");\n",
              "//# sourceURL=js_32361477ee"
            ],
            "text/plain": [
              "<IPython.core.display.Javascript object>"
            ]
          },
          "metadata": {}
        },
        {
          "output_type": "display_data",
          "data": {
            "application/javascript": [
              "window[\"6d222b4e-6710-11ec-87a2-0242ac1c0002\"] = google.colab.output.setActiveOutputArea(window[\"6d2185a4-6710-11ec-87a2-0242ac1c0002\"]);\n",
              "//# sourceURL=js_7d0b5c5f32"
            ],
            "text/plain": [
              "<IPython.core.display.Javascript object>"
            ]
          },
          "metadata": {}
        },
        {
          "output_type": "display_data",
          "data": {
            "application/javascript": [
              "window[\"6d22d4a4-6710-11ec-87a2-0242ac1c0002\"] = window[\"id226\"].setSelectedTabIndex(8);\n",
              "//# sourceURL=js_72b78cd78e"
            ],
            "text/plain": [
              "<IPython.core.display.Javascript object>"
            ]
          },
          "metadata": {}
        },
        {
          "output_type": "display_data",
          "data": {
            "application/javascript": [
              "window[\"6d24595a-6710-11ec-87a2-0242ac1c0002\"] = google.colab.output.setActiveOutputArea(window[\"6d20eda6-6710-11ec-87a2-0242ac1c0002\"]);\n",
              "//# sourceURL=js_98715cce0a"
            ],
            "text/plain": [
              "<IPython.core.display.Javascript object>"
            ]
          },
          "metadata": {}
        },
        {
          "output_type": "display_data",
          "data": {
            "application/javascript": [
              "window[\"6d263400-6710-11ec-87a2-0242ac1c0002\"] = google.colab.output.getActiveOutputArea();\n",
              "//# sourceURL=js_47a94d3af4"
            ],
            "text/plain": [
              "<IPython.core.display.Javascript object>"
            ]
          },
          "metadata": {}
        },
        {
          "output_type": "display_data",
          "data": {
            "application/javascript": [
              "window[\"6d267ee2-6710-11ec-87a2-0242ac1c0002\"] = document.querySelector(\"#id226_content_0\");\n",
              "//# sourceURL=js_2b001e749a"
            ],
            "text/plain": [
              "<IPython.core.display.Javascript object>"
            ]
          },
          "metadata": {}
        },
        {
          "output_type": "display_data",
          "data": {
            "application/javascript": [
              "window[\"6d26cd52-6710-11ec-87a2-0242ac1c0002\"] = google.colab.output.setActiveOutputArea(window[\"6d267ee2-6710-11ec-87a2-0242ac1c0002\"]);\n",
              "//# sourceURL=js_2881391db2"
            ],
            "text/plain": [
              "<IPython.core.display.Javascript object>"
            ]
          },
          "metadata": {}
        },
        {
          "output_type": "display_data",
          "data": {
            "application/javascript": [
              "window[\"6d27182a-6710-11ec-87a2-0242ac1c0002\"] = window[\"id226\"].setSelectedTabIndex(0);\n",
              "//# sourceURL=js_ba422e033d"
            ],
            "text/plain": [
              "<IPython.core.display.Javascript object>"
            ]
          },
          "metadata": {}
        },
        {
          "output_type": "display_data",
          "data": {
            "text/html": [
              "<link rel=stylesheet type=text/css href='/nbextensions/google.colab/tabbar.css'></link>"
            ],
            "text/plain": [
              "<IPython.core.display.HTML object>"
            ]
          },
          "metadata": {}
        },
        {
          "output_type": "display_data",
          "data": {
            "text/html": [
              "<script src='/nbextensions/google.colab/tabbar_main.min.js'></script>"
            ],
            "text/plain": [
              "<IPython.core.display.HTML object>"
            ]
          },
          "metadata": {}
        },
        {
          "output_type": "display_data",
          "data": {
            "text/html": [
              "<div id=\"id227\"></div>"
            ],
            "text/plain": [
              "<IPython.core.display.HTML object>"
            ]
          },
          "metadata": {}
        },
        {
          "output_type": "display_data",
          "data": {
            "application/javascript": [
              "window[\"6d28f672-6710-11ec-87a2-0242ac1c0002\"] = colab_lib.createTabBar({\"location\": \"top\", \"elementId\": \"id227\", \"tabNames\": [\"SQL\", \"Result\"], \"initialSelection\": 0, \"contentBorder\": [\"0px\"], \"contentHeight\": [\"initial\"], \"borderColor\": [\"#a7a7a7\"]});\n",
              "//# sourceURL=js_db861c324e"
            ],
            "text/plain": [
              "<IPython.core.display.Javascript object>"
            ]
          },
          "metadata": {}
        },
        {
          "output_type": "display_data",
          "data": {
            "application/javascript": [
              "window[\"6d294226-6710-11ec-87a2-0242ac1c0002\"] = window[\"id227\"].setSelectedTabIndex(0);\n",
              "//# sourceURL=js_b4a0c61321"
            ],
            "text/plain": [
              "<IPython.core.display.Javascript object>"
            ]
          },
          "metadata": {}
        },
        {
          "output_type": "display_data",
          "data": {
            "application/javascript": [
              "window[\"6d2aba2a-6710-11ec-87a2-0242ac1c0002\"] = google.colab.output.getActiveOutputArea();\n",
              "//# sourceURL=js_59202fd5ff"
            ],
            "text/plain": [
              "<IPython.core.display.Javascript object>"
            ]
          },
          "metadata": {}
        },
        {
          "output_type": "display_data",
          "data": {
            "application/javascript": [
              "window[\"6d2b03c2-6710-11ec-87a2-0242ac1c0002\"] = document.querySelector(\"#id227_content_0\");\n",
              "//# sourceURL=js_c979a2b52d"
            ],
            "text/plain": [
              "<IPython.core.display.Javascript object>"
            ]
          },
          "metadata": {}
        },
        {
          "output_type": "display_data",
          "data": {
            "application/javascript": [
              "window[\"6d2b521e-6710-11ec-87a2-0242ac1c0002\"] = google.colab.output.setActiveOutputArea(window[\"6d2b03c2-6710-11ec-87a2-0242ac1c0002\"]);\n",
              "//# sourceURL=js_4c2306d242"
            ],
            "text/plain": [
              "<IPython.core.display.Javascript object>"
            ]
          },
          "metadata": {}
        },
        {
          "output_type": "display_data",
          "data": {
            "application/javascript": [
              "window[\"6d2b9972-6710-11ec-87a2-0242ac1c0002\"] = window[\"id227\"].setSelectedTabIndex(0);\n",
              "//# sourceURL=js_e5482fa6ee"
            ],
            "text/plain": [
              "<IPython.core.display.Javascript object>"
            ]
          },
          "metadata": {}
        },
        {
          "output_type": "stream",
          "name": "stdout",
          "text": [
            "The following query is stored at \u001b[1mSomeCrime_sql\u001b[0m variable.\n",
            "ATTACH DATABASE 'vancouver_crime.db' AS db;\n",
            "ATTACH DATABASE ':memory:' AS logica_test;\n",
            "\n",
            "SELECT\n",
            "  db_crime.*\n",
            "FROM\n",
            "  db.crime AS db_crime LIMIT 10;\n"
          ]
        },
        {
          "output_type": "display_data",
          "data": {
            "application/javascript": [
              "window[\"6d2d2f08-6710-11ec-87a2-0242ac1c0002\"] = google.colab.output.setActiveOutputArea(window[\"6d2aba2a-6710-11ec-87a2-0242ac1c0002\"]);\n",
              "//# sourceURL=js_2e92ef2d97"
            ],
            "text/plain": [
              "<IPython.core.display.Javascript object>"
            ]
          },
          "metadata": {}
        },
        {
          "output_type": "display_data",
          "data": {
            "application/javascript": [
              "window[\"6d2f3ea6-6710-11ec-87a2-0242ac1c0002\"] = google.colab.output.setActiveOutputArea(window[\"6d263400-6710-11ec-87a2-0242ac1c0002\"]);\n",
              "//# sourceURL=js_78697f2c89"
            ],
            "text/plain": [
              "<IPython.core.display.Javascript object>"
            ]
          },
          "metadata": {}
        },
        {
          "output_type": "display_data",
          "data": {
            "application/javascript": [
              "window[\"6d310902-6710-11ec-87a2-0242ac1c0002\"] = google.colab.output.getActiveOutputArea();\n",
              "//# sourceURL=js_9e6bad628d"
            ],
            "text/plain": [
              "<IPython.core.display.Javascript object>"
            ]
          },
          "metadata": {}
        },
        {
          "output_type": "display_data",
          "data": {
            "application/javascript": [
              "window[\"6d314e3a-6710-11ec-87a2-0242ac1c0002\"] = document.querySelector(\"#id226_content_8\");\n",
              "//# sourceURL=js_2e6bf52cbb"
            ],
            "text/plain": [
              "<IPython.core.display.Javascript object>"
            ]
          },
          "metadata": {}
        },
        {
          "output_type": "display_data",
          "data": {
            "application/javascript": [
              "window[\"6d31b050-6710-11ec-87a2-0242ac1c0002\"] = google.colab.output.setActiveOutputArea(window[\"6d314e3a-6710-11ec-87a2-0242ac1c0002\"]);\n",
              "//# sourceURL=js_d266c11876"
            ],
            "text/plain": [
              "<IPython.core.display.Javascript object>"
            ]
          },
          "metadata": {}
        },
        {
          "output_type": "display_data",
          "data": {
            "application/javascript": [
              "window[\"6d321946-6710-11ec-87a2-0242ac1c0002\"] = window[\"id226\"].setSelectedTabIndex(8);\n",
              "//# sourceURL=js_19bd4a5af1"
            ],
            "text/plain": [
              "<IPython.core.display.Javascript object>"
            ]
          },
          "metadata": {}
        },
        {
          "output_type": "display_data",
          "data": {
            "application/javascript": [
              "window[\"6d35e31e-6710-11ec-87a2-0242ac1c0002\"] = google.colab.output.setActiveOutputArea(window[\"6d310902-6710-11ec-87a2-0242ac1c0002\"]);\n",
              "//# sourceURL=js_1cd44180ed"
            ],
            "text/plain": [
              "<IPython.core.display.Javascript object>"
            ]
          },
          "metadata": {}
        },
        {
          "output_type": "display_data",
          "data": {
            "application/javascript": [
              "window[\"6d37f7c6-6710-11ec-87a2-0242ac1c0002\"] = google.colab.output.getActiveOutputArea();\n",
              "//# sourceURL=js_93d4a85823"
            ],
            "text/plain": [
              "<IPython.core.display.Javascript object>"
            ]
          },
          "metadata": {}
        },
        {
          "output_type": "display_data",
          "data": {
            "application/javascript": [
              "window[\"6d3848ca-6710-11ec-87a2-0242ac1c0002\"] = document.querySelector(\"#id226_content_1\");\n",
              "//# sourceURL=js_26d13b8b83"
            ],
            "text/plain": [
              "<IPython.core.display.Javascript object>"
            ]
          },
          "metadata": {}
        },
        {
          "output_type": "display_data",
          "data": {
            "application/javascript": [
              "window[\"6d389654-6710-11ec-87a2-0242ac1c0002\"] = google.colab.output.setActiveOutputArea(window[\"6d3848ca-6710-11ec-87a2-0242ac1c0002\"]);\n",
              "//# sourceURL=js_d1089ca793"
            ],
            "text/plain": [
              "<IPython.core.display.Javascript object>"
            ]
          },
          "metadata": {}
        },
        {
          "output_type": "display_data",
          "data": {
            "application/javascript": [
              "window[\"6d39f4d6-6710-11ec-87a2-0242ac1c0002\"] = window[\"id226\"].setSelectedTabIndex(1);\n",
              "//# sourceURL=js_68b4b1cae1"
            ],
            "text/plain": [
              "<IPython.core.display.Javascript object>"
            ]
          },
          "metadata": {}
        },
        {
          "output_type": "display_data",
          "data": {
            "text/html": [
              "<link rel=stylesheet type=text/css href='/nbextensions/google.colab/tabbar.css'></link>"
            ],
            "text/plain": [
              "<IPython.core.display.HTML object>"
            ]
          },
          "metadata": {}
        },
        {
          "output_type": "display_data",
          "data": {
            "text/html": [
              "<script src='/nbextensions/google.colab/tabbar_main.min.js'></script>"
            ],
            "text/plain": [
              "<IPython.core.display.HTML object>"
            ]
          },
          "metadata": {}
        },
        {
          "output_type": "display_data",
          "data": {
            "text/html": [
              "<div id=\"id228\"></div>"
            ],
            "text/plain": [
              "<IPython.core.display.HTML object>"
            ]
          },
          "metadata": {}
        },
        {
          "output_type": "display_data",
          "data": {
            "application/javascript": [
              "window[\"6d3cce90-6710-11ec-87a2-0242ac1c0002\"] = colab_lib.createTabBar({\"location\": \"top\", \"elementId\": \"id228\", \"tabNames\": [\"SQL\", \"Result\"], \"initialSelection\": 0, \"contentBorder\": [\"0px\"], \"contentHeight\": [\"initial\"], \"borderColor\": [\"#a7a7a7\"]});\n",
              "//# sourceURL=js_18aea51092"
            ],
            "text/plain": [
              "<IPython.core.display.Javascript object>"
            ]
          },
          "metadata": {}
        },
        {
          "output_type": "display_data",
          "data": {
            "application/javascript": [
              "window[\"6d3d168e-6710-11ec-87a2-0242ac1c0002\"] = window[\"id228\"].setSelectedTabIndex(0);\n",
              "//# sourceURL=js_de689f21b2"
            ],
            "text/plain": [
              "<IPython.core.display.Javascript object>"
            ]
          },
          "metadata": {}
        },
        {
          "output_type": "display_data",
          "data": {
            "application/javascript": [
              "window[\"6d3e75ba-6710-11ec-87a2-0242ac1c0002\"] = google.colab.output.getActiveOutputArea();\n",
              "//# sourceURL=js_682b76a890"
            ],
            "text/plain": [
              "<IPython.core.display.Javascript object>"
            ]
          },
          "metadata": {}
        },
        {
          "output_type": "display_data",
          "data": {
            "application/javascript": [
              "window[\"6d3ec3f8-6710-11ec-87a2-0242ac1c0002\"] = document.querySelector(\"#id228_content_0\");\n",
              "//# sourceURL=js_d814eb29f3"
            ],
            "text/plain": [
              "<IPython.core.display.Javascript object>"
            ]
          },
          "metadata": {}
        },
        {
          "output_type": "display_data",
          "data": {
            "application/javascript": [
              "window[\"6d3f0d2c-6710-11ec-87a2-0242ac1c0002\"] = google.colab.output.setActiveOutputArea(window[\"6d3ec3f8-6710-11ec-87a2-0242ac1c0002\"]);\n",
              "//# sourceURL=js_712706c6c8"
            ],
            "text/plain": [
              "<IPython.core.display.Javascript object>"
            ]
          },
          "metadata": {}
        },
        {
          "output_type": "display_data",
          "data": {
            "application/javascript": [
              "window[\"6d3f52fa-6710-11ec-87a2-0242ac1c0002\"] = window[\"id228\"].setSelectedTabIndex(0);\n",
              "//# sourceURL=js_5831af9571"
            ],
            "text/plain": [
              "<IPython.core.display.Javascript object>"
            ]
          },
          "metadata": {}
        },
        {
          "output_type": "stream",
          "name": "stdout",
          "text": [
            "The following query is stored at \u001b[1mNumCrimes_sql\u001b[0m variable.\n",
            "ATTACH DATABASE 'vancouver_crime.db' AS db;\n",
            "ATTACH DATABASE ':memory:' AS logica_test;\n",
            "\n",
            "SELECT\n",
            "  SUM(1) AS logica_value\n",
            "FROM\n",
            "  db.crime AS db_crime;\n"
          ]
        },
        {
          "output_type": "display_data",
          "data": {
            "application/javascript": [
              "window[\"6d406b04-6710-11ec-87a2-0242ac1c0002\"] = google.colab.output.setActiveOutputArea(window[\"6d3e75ba-6710-11ec-87a2-0242ac1c0002\"]);\n",
              "//# sourceURL=js_b8e7d1f0c0"
            ],
            "text/plain": [
              "<IPython.core.display.Javascript object>"
            ]
          },
          "metadata": {}
        },
        {
          "output_type": "display_data",
          "data": {
            "application/javascript": [
              "window[\"6d41c0c6-6710-11ec-87a2-0242ac1c0002\"] = google.colab.output.setActiveOutputArea(window[\"6d37f7c6-6710-11ec-87a2-0242ac1c0002\"]);\n",
              "//# sourceURL=js_c1e248e15e"
            ],
            "text/plain": [
              "<IPython.core.display.Javascript object>"
            ]
          },
          "metadata": {}
        },
        {
          "output_type": "display_data",
          "data": {
            "application/javascript": [
              "window[\"6d435bfc-6710-11ec-87a2-0242ac1c0002\"] = google.colab.output.getActiveOutputArea();\n",
              "//# sourceURL=js_24743c2284"
            ],
            "text/plain": [
              "<IPython.core.display.Javascript object>"
            ]
          },
          "metadata": {}
        },
        {
          "output_type": "display_data",
          "data": {
            "application/javascript": [
              "window[\"6d43a288-6710-11ec-87a2-0242ac1c0002\"] = document.querySelector(\"#id226_content_8\");\n",
              "//# sourceURL=js_fc667a1b11"
            ],
            "text/plain": [
              "<IPython.core.display.Javascript object>"
            ]
          },
          "metadata": {}
        },
        {
          "output_type": "display_data",
          "data": {
            "application/javascript": [
              "window[\"6d43ecac-6710-11ec-87a2-0242ac1c0002\"] = google.colab.output.setActiveOutputArea(window[\"6d43a288-6710-11ec-87a2-0242ac1c0002\"]);\n",
              "//# sourceURL=js_0ee0c501c9"
            ],
            "text/plain": [
              "<IPython.core.display.Javascript object>"
            ]
          },
          "metadata": {}
        },
        {
          "output_type": "display_data",
          "data": {
            "application/javascript": [
              "window[\"6d44327a-6710-11ec-87a2-0242ac1c0002\"] = window[\"id226\"].setSelectedTabIndex(8);\n",
              "//# sourceURL=js_a07c416adb"
            ],
            "text/plain": [
              "<IPython.core.display.Javascript object>"
            ]
          },
          "metadata": {}
        },
        {
          "output_type": "display_data",
          "data": {
            "application/javascript": [
              "window[\"6d4773fe-6710-11ec-87a2-0242ac1c0002\"] = google.colab.output.setActiveOutputArea(window[\"6d435bfc-6710-11ec-87a2-0242ac1c0002\"]);\n",
              "//# sourceURL=js_bbfe34587c"
            ],
            "text/plain": [
              "<IPython.core.display.Javascript object>"
            ]
          },
          "metadata": {}
        },
        {
          "output_type": "display_data",
          "data": {
            "application/javascript": [
              "window[\"6d49fe3a-6710-11ec-87a2-0242ac1c0002\"] = google.colab.output.getActiveOutputArea();\n",
              "//# sourceURL=js_9fe3c2fb7e"
            ],
            "text/plain": [
              "<IPython.core.display.Javascript object>"
            ]
          },
          "metadata": {}
        },
        {
          "output_type": "display_data",
          "data": {
            "application/javascript": [
              "window[\"6d4a3f26-6710-11ec-87a2-0242ac1c0002\"] = document.querySelector(\"#id226_content_2\");\n",
              "//# sourceURL=js_45f309a32f"
            ],
            "text/plain": [
              "<IPython.core.display.Javascript object>"
            ]
          },
          "metadata": {}
        },
        {
          "output_type": "display_data",
          "data": {
            "application/javascript": [
              "window[\"6d4ac536-6710-11ec-87a2-0242ac1c0002\"] = google.colab.output.setActiveOutputArea(window[\"6d4a3f26-6710-11ec-87a2-0242ac1c0002\"]);\n",
              "//# sourceURL=js_39772b74b3"
            ],
            "text/plain": [
              "<IPython.core.display.Javascript object>"
            ]
          },
          "metadata": {}
        },
        {
          "output_type": "display_data",
          "data": {
            "application/javascript": [
              "window[\"6d4b34c6-6710-11ec-87a2-0242ac1c0002\"] = window[\"id226\"].setSelectedTabIndex(2);\n",
              "//# sourceURL=js_4c04660a74"
            ],
            "text/plain": [
              "<IPython.core.display.Javascript object>"
            ]
          },
          "metadata": {}
        },
        {
          "output_type": "display_data",
          "data": {
            "text/html": [
              "<link rel=stylesheet type=text/css href='/nbextensions/google.colab/tabbar.css'></link>"
            ],
            "text/plain": [
              "<IPython.core.display.HTML object>"
            ]
          },
          "metadata": {}
        },
        {
          "output_type": "display_data",
          "data": {
            "text/html": [
              "<script src='/nbextensions/google.colab/tabbar_main.min.js'></script>"
            ],
            "text/plain": [
              "<IPython.core.display.HTML object>"
            ]
          },
          "metadata": {}
        },
        {
          "output_type": "display_data",
          "data": {
            "text/html": [
              "<div id=\"id229\"></div>"
            ],
            "text/plain": [
              "<IPython.core.display.HTML object>"
            ]
          },
          "metadata": {}
        },
        {
          "output_type": "display_data",
          "data": {
            "application/javascript": [
              "window[\"6d4e4d0a-6710-11ec-87a2-0242ac1c0002\"] = colab_lib.createTabBar({\"location\": \"top\", \"elementId\": \"id229\", \"tabNames\": [\"SQL\", \"Result\"], \"initialSelection\": 0, \"contentBorder\": [\"0px\"], \"contentHeight\": [\"initial\"], \"borderColor\": [\"#a7a7a7\"]});\n",
              "//# sourceURL=js_3fac6d9ffa"
            ],
            "text/plain": [
              "<IPython.core.display.Javascript object>"
            ]
          },
          "metadata": {}
        },
        {
          "output_type": "display_data",
          "data": {
            "application/javascript": [
              "window[\"6d4ec6f4-6710-11ec-87a2-0242ac1c0002\"] = window[\"id229\"].setSelectedTabIndex(0);\n",
              "//# sourceURL=js_3f33991533"
            ],
            "text/plain": [
              "<IPython.core.display.Javascript object>"
            ]
          },
          "metadata": {}
        },
        {
          "output_type": "display_data",
          "data": {
            "application/javascript": [
              "window[\"6d512124-6710-11ec-87a2-0242ac1c0002\"] = google.colab.output.getActiveOutputArea();\n",
              "//# sourceURL=js_28811408e1"
            ],
            "text/plain": [
              "<IPython.core.display.Javascript object>"
            ]
          },
          "metadata": {}
        },
        {
          "output_type": "display_data",
          "data": {
            "application/javascript": [
              "window[\"6d518e7a-6710-11ec-87a2-0242ac1c0002\"] = document.querySelector(\"#id229_content_0\");\n",
              "//# sourceURL=js_6cc94e1921"
            ],
            "text/plain": [
              "<IPython.core.display.Javascript object>"
            ]
          },
          "metadata": {}
        },
        {
          "output_type": "display_data",
          "data": {
            "application/javascript": [
              "window[\"6d51fe82-6710-11ec-87a2-0242ac1c0002\"] = google.colab.output.setActiveOutputArea(window[\"6d518e7a-6710-11ec-87a2-0242ac1c0002\"]);\n",
              "//# sourceURL=js_0d21e1d534"
            ],
            "text/plain": [
              "<IPython.core.display.Javascript object>"
            ]
          },
          "metadata": {}
        },
        {
          "output_type": "display_data",
          "data": {
            "application/javascript": [
              "window[\"6d525f08-6710-11ec-87a2-0242ac1c0002\"] = window[\"id229\"].setSelectedTabIndex(0);\n",
              "//# sourceURL=js_8595258d9c"
            ],
            "text/plain": [
              "<IPython.core.display.Javascript object>"
            ]
          },
          "metadata": {}
        },
        {
          "output_type": "stream",
          "name": "stdout",
          "text": [
            "The following query is stored at \u001b[1mCrimeCountAtHour_sql\u001b[0m variable.\n",
            "ATTACH DATABASE 'vancouver_crime.db' AS db;\n",
            "ATTACH DATABASE ':memory:' AS logica_test;\n",
            "\n",
            "SELECT\n",
            "  db_crime.hour AS hour,\n",
            "  db_crime.crimetype AS crimetype,\n",
            "  SUM(1) AS count\n",
            "FROM\n",
            "  db.crime AS db_crime\n",
            "GROUP BY db_crime.hour, db_crime.crimetype;\n"
          ]
        },
        {
          "output_type": "display_data",
          "data": {
            "application/javascript": [
              "window[\"6d546c1c-6710-11ec-87a2-0242ac1c0002\"] = google.colab.output.setActiveOutputArea(window[\"6d512124-6710-11ec-87a2-0242ac1c0002\"]);\n",
              "//# sourceURL=js_0c98aedf24"
            ],
            "text/plain": [
              "<IPython.core.display.Javascript object>"
            ]
          },
          "metadata": {}
        },
        {
          "output_type": "display_data",
          "data": {
            "application/javascript": [
              "window[\"6d56112a-6710-11ec-87a2-0242ac1c0002\"] = google.colab.output.setActiveOutputArea(window[\"6d49fe3a-6710-11ec-87a2-0242ac1c0002\"]);\n",
              "//# sourceURL=js_50ccea2c6d"
            ],
            "text/plain": [
              "<IPython.core.display.Javascript object>"
            ]
          },
          "metadata": {}
        },
        {
          "output_type": "display_data",
          "data": {
            "application/javascript": [
              "window[\"6d5809b2-6710-11ec-87a2-0242ac1c0002\"] = google.colab.output.getActiveOutputArea();\n",
              "//# sourceURL=js_ccc9b69a48"
            ],
            "text/plain": [
              "<IPython.core.display.Javascript object>"
            ]
          },
          "metadata": {}
        },
        {
          "output_type": "display_data",
          "data": {
            "application/javascript": [
              "window[\"6d584c10-6710-11ec-87a2-0242ac1c0002\"] = document.querySelector(\"#id226_content_8\");\n",
              "//# sourceURL=js_c1411343d3"
            ],
            "text/plain": [
              "<IPython.core.display.Javascript object>"
            ]
          },
          "metadata": {}
        },
        {
          "output_type": "display_data",
          "data": {
            "application/javascript": [
              "window[\"6d5892ce-6710-11ec-87a2-0242ac1c0002\"] = google.colab.output.setActiveOutputArea(window[\"6d584c10-6710-11ec-87a2-0242ac1c0002\"]);\n",
              "//# sourceURL=js_4de724b2ee"
            ],
            "text/plain": [
              "<IPython.core.display.Javascript object>"
            ]
          },
          "metadata": {}
        },
        {
          "output_type": "display_data",
          "data": {
            "application/javascript": [
              "window[\"6d58dea0-6710-11ec-87a2-0242ac1c0002\"] = window[\"id226\"].setSelectedTabIndex(8);\n",
              "//# sourceURL=js_4b4559c9d9"
            ],
            "text/plain": [
              "<IPython.core.display.Javascript object>"
            ]
          },
          "metadata": {}
        },
        {
          "output_type": "display_data",
          "data": {
            "application/javascript": [
              "window[\"6d647bc0-6710-11ec-87a2-0242ac1c0002\"] = google.colab.output.setActiveOutputArea(window[\"6d5809b2-6710-11ec-87a2-0242ac1c0002\"]);\n",
              "//# sourceURL=js_d1c9e98f6f"
            ],
            "text/plain": [
              "<IPython.core.display.Javascript object>"
            ]
          },
          "metadata": {}
        },
        {
          "output_type": "display_data",
          "data": {
            "application/javascript": [
              "window[\"6d685df8-6710-11ec-87a2-0242ac1c0002\"] = google.colab.output.getActiveOutputArea();\n",
              "//# sourceURL=js_4fc38f84f9"
            ],
            "text/plain": [
              "<IPython.core.display.Javascript object>"
            ]
          },
          "metadata": {}
        },
        {
          "output_type": "display_data",
          "data": {
            "application/javascript": [
              "window[\"6d68df94-6710-11ec-87a2-0242ac1c0002\"] = document.querySelector(\"#id226_content_3\");\n",
              "//# sourceURL=js_ec92e724d8"
            ],
            "text/plain": [
              "<IPython.core.display.Javascript object>"
            ]
          },
          "metadata": {}
        },
        {
          "output_type": "display_data",
          "data": {
            "application/javascript": [
              "window[\"6d692184-6710-11ec-87a2-0242ac1c0002\"] = google.colab.output.setActiveOutputArea(window[\"6d68df94-6710-11ec-87a2-0242ac1c0002\"]);\n",
              "//# sourceURL=js_f93e090d02"
            ],
            "text/plain": [
              "<IPython.core.display.Javascript object>"
            ]
          },
          "metadata": {}
        },
        {
          "output_type": "display_data",
          "data": {
            "application/javascript": [
              "window[\"6d69dcdc-6710-11ec-87a2-0242ac1c0002\"] = window[\"id226\"].setSelectedTabIndex(3);\n",
              "//# sourceURL=js_f43006116c"
            ],
            "text/plain": [
              "<IPython.core.display.Javascript object>"
            ]
          },
          "metadata": {}
        },
        {
          "output_type": "display_data",
          "data": {
            "text/html": [
              "<link rel=stylesheet type=text/css href='/nbextensions/google.colab/tabbar.css'></link>"
            ],
            "text/plain": [
              "<IPython.core.display.HTML object>"
            ]
          },
          "metadata": {}
        },
        {
          "output_type": "display_data",
          "data": {
            "text/html": [
              "<script src='/nbextensions/google.colab/tabbar_main.min.js'></script>"
            ],
            "text/plain": [
              "<IPython.core.display.HTML object>"
            ]
          },
          "metadata": {}
        },
        {
          "output_type": "display_data",
          "data": {
            "text/html": [
              "<div id=\"id230\"></div>"
            ],
            "text/plain": [
              "<IPython.core.display.HTML object>"
            ]
          },
          "metadata": {}
        },
        {
          "output_type": "display_data",
          "data": {
            "application/javascript": [
              "window[\"6d6c8a5e-6710-11ec-87a2-0242ac1c0002\"] = colab_lib.createTabBar({\"location\": \"top\", \"elementId\": \"id230\", \"tabNames\": [\"SQL\", \"Result\"], \"initialSelection\": 0, \"contentBorder\": [\"0px\"], \"contentHeight\": [\"initial\"], \"borderColor\": [\"#a7a7a7\"]});\n",
              "//# sourceURL=js_773ee5e120"
            ],
            "text/plain": [
              "<IPython.core.display.Javascript object>"
            ]
          },
          "metadata": {}
        },
        {
          "output_type": "display_data",
          "data": {
            "application/javascript": [
              "window[\"6d6cdf7c-6710-11ec-87a2-0242ac1c0002\"] = window[\"id230\"].setSelectedTabIndex(0);\n",
              "//# sourceURL=js_1f0682b8f5"
            ],
            "text/plain": [
              "<IPython.core.display.Javascript object>"
            ]
          },
          "metadata": {}
        },
        {
          "output_type": "display_data",
          "data": {
            "application/javascript": [
              "window[\"6d6e4eac-6710-11ec-87a2-0242ac1c0002\"] = google.colab.output.getActiveOutputArea();\n",
              "//# sourceURL=js_f5ce3c4625"
            ],
            "text/plain": [
              "<IPython.core.display.Javascript object>"
            ]
          },
          "metadata": {}
        },
        {
          "output_type": "display_data",
          "data": {
            "application/javascript": [
              "window[\"6d6e9998-6710-11ec-87a2-0242ac1c0002\"] = document.querySelector(\"#id230_content_0\");\n",
              "//# sourceURL=js_3dc1bad143"
            ],
            "text/plain": [
              "<IPython.core.display.Javascript object>"
            ]
          },
          "metadata": {}
        },
        {
          "output_type": "display_data",
          "data": {
            "application/javascript": [
              "window[\"6d6ee9c0-6710-11ec-87a2-0242ac1c0002\"] = google.colab.output.setActiveOutputArea(window[\"6d6e9998-6710-11ec-87a2-0242ac1c0002\"]);\n",
              "//# sourceURL=js_ee6d5edb74"
            ],
            "text/plain": [
              "<IPython.core.display.Javascript object>"
            ]
          },
          "metadata": {}
        },
        {
          "output_type": "display_data",
          "data": {
            "application/javascript": [
              "window[\"6d6f3fec-6710-11ec-87a2-0242ac1c0002\"] = window[\"id230\"].setSelectedTabIndex(0);\n",
              "//# sourceURL=js_93e0095097"
            ],
            "text/plain": [
              "<IPython.core.display.Javascript object>"
            ]
          },
          "metadata": {}
        },
        {
          "output_type": "stream",
          "name": "stdout",
          "text": [
            "The following query is stored at \u001b[1mCrimeAtHour_sql\u001b[0m variable.\n",
            "ATTACH DATABASE 'vancouver_crime.db' AS db;\n",
            "ATTACH DATABASE ':memory:' AS logica_test;\n",
            "\n",
            "WITH t_1_CrimeCountAtHour AS (SELECT\n",
            "  db_crime.hour AS hour,\n",
            "  db_crime.crimetype AS crimetype,\n",
            "  SUM(1) AS count\n",
            "FROM\n",
            "  db.crime AS db_crime\n",
            "GROUP BY db_crime.hour, db_crime.crimetype)\n",
            "SELECT\n",
            "  CrimeCountAtHour.hour AS hour,\n",
            "  JSON_EXTRACT(ArgMax(CrimeCountAtHour.crimetype, CrimeCountAtHour.count, 1), '$[' || 0 || ']') AS crimetype\n",
            "FROM\n",
            "  t_1_CrimeCountAtHour AS CrimeCountAtHour\n",
            "GROUP BY CrimeCountAtHour.hour;\n"
          ]
        },
        {
          "output_type": "display_data",
          "data": {
            "application/javascript": [
              "window[\"6d706e76-6710-11ec-87a2-0242ac1c0002\"] = google.colab.output.setActiveOutputArea(window[\"6d6e4eac-6710-11ec-87a2-0242ac1c0002\"]);\n",
              "//# sourceURL=js_a67757c6db"
            ],
            "text/plain": [
              "<IPython.core.display.Javascript object>"
            ]
          },
          "metadata": {}
        },
        {
          "output_type": "display_data",
          "data": {
            "application/javascript": [
              "window[\"6d71ccbc-6710-11ec-87a2-0242ac1c0002\"] = google.colab.output.setActiveOutputArea(window[\"6d685df8-6710-11ec-87a2-0242ac1c0002\"]);\n",
              "//# sourceURL=js_397f8217a4"
            ],
            "text/plain": [
              "<IPython.core.display.Javascript object>"
            ]
          },
          "metadata": {}
        },
        {
          "output_type": "display_data",
          "data": {
            "application/javascript": [
              "window[\"6d739218-6710-11ec-87a2-0242ac1c0002\"] = google.colab.output.getActiveOutputArea();\n",
              "//# sourceURL=js_07fa63fb6e"
            ],
            "text/plain": [
              "<IPython.core.display.Javascript object>"
            ]
          },
          "metadata": {}
        },
        {
          "output_type": "display_data",
          "data": {
            "application/javascript": [
              "window[\"6d73e10a-6710-11ec-87a2-0242ac1c0002\"] = document.querySelector(\"#id226_content_8\");\n",
              "//# sourceURL=js_eef6455a25"
            ],
            "text/plain": [
              "<IPython.core.display.Javascript object>"
            ]
          },
          "metadata": {}
        },
        {
          "output_type": "display_data",
          "data": {
            "application/javascript": [
              "window[\"6d742552-6710-11ec-87a2-0242ac1c0002\"] = google.colab.output.setActiveOutputArea(window[\"6d73e10a-6710-11ec-87a2-0242ac1c0002\"]);\n",
              "//# sourceURL=js_e7751b56bb"
            ],
            "text/plain": [
              "<IPython.core.display.Javascript object>"
            ]
          },
          "metadata": {}
        },
        {
          "output_type": "display_data",
          "data": {
            "application/javascript": [
              "window[\"6d7478ea-6710-11ec-87a2-0242ac1c0002\"] = window[\"id226\"].setSelectedTabIndex(8);\n",
              "//# sourceURL=js_9c147be00c"
            ],
            "text/plain": [
              "<IPython.core.display.Javascript object>"
            ]
          },
          "metadata": {}
        },
        {
          "output_type": "display_data",
          "data": {
            "application/javascript": [
              "window[\"6d7b78e8-6710-11ec-87a2-0242ac1c0002\"] = google.colab.output.setActiveOutputArea(window[\"6d739218-6710-11ec-87a2-0242ac1c0002\"]);\n",
              "//# sourceURL=js_7b29643e2f"
            ],
            "text/plain": [
              "<IPython.core.display.Javascript object>"
            ]
          },
          "metadata": {}
        },
        {
          "output_type": "display_data",
          "data": {
            "application/javascript": [
              "window[\"6d7d4844-6710-11ec-87a2-0242ac1c0002\"] = google.colab.output.getActiveOutputArea();\n",
              "//# sourceURL=js_5e2b96be74"
            ],
            "text/plain": [
              "<IPython.core.display.Javascript object>"
            ]
          },
          "metadata": {}
        },
        {
          "output_type": "display_data",
          "data": {
            "application/javascript": [
              "window[\"6d7d92e0-6710-11ec-87a2-0242ac1c0002\"] = document.querySelector(\"#id226_content_4\");\n",
              "//# sourceURL=js_84a67fd166"
            ],
            "text/plain": [
              "<IPython.core.display.Javascript object>"
            ]
          },
          "metadata": {}
        },
        {
          "output_type": "display_data",
          "data": {
            "application/javascript": [
              "window[\"6d7de43e-6710-11ec-87a2-0242ac1c0002\"] = google.colab.output.setActiveOutputArea(window[\"6d7d92e0-6710-11ec-87a2-0242ac1c0002\"]);\n",
              "//# sourceURL=js_b74793bb79"
            ],
            "text/plain": [
              "<IPython.core.display.Javascript object>"
            ]
          },
          "metadata": {}
        },
        {
          "output_type": "display_data",
          "data": {
            "application/javascript": [
              "window[\"6d7e2fc0-6710-11ec-87a2-0242ac1c0002\"] = window[\"id226\"].setSelectedTabIndex(4);\n",
              "//# sourceURL=js_a6452e4361"
            ],
            "text/plain": [
              "<IPython.core.display.Javascript object>"
            ]
          },
          "metadata": {}
        },
        {
          "output_type": "display_data",
          "data": {
            "text/html": [
              "<link rel=stylesheet type=text/css href='/nbextensions/google.colab/tabbar.css'></link>"
            ],
            "text/plain": [
              "<IPython.core.display.HTML object>"
            ]
          },
          "metadata": {}
        },
        {
          "output_type": "display_data",
          "data": {
            "text/html": [
              "<script src='/nbextensions/google.colab/tabbar_main.min.js'></script>"
            ],
            "text/plain": [
              "<IPython.core.display.HTML object>"
            ]
          },
          "metadata": {}
        },
        {
          "output_type": "display_data",
          "data": {
            "text/html": [
              "<div id=\"id231\"></div>"
            ],
            "text/plain": [
              "<IPython.core.display.HTML object>"
            ]
          },
          "metadata": {}
        },
        {
          "output_type": "display_data",
          "data": {
            "application/javascript": [
              "window[\"6d80148e-6710-11ec-87a2-0242ac1c0002\"] = colab_lib.createTabBar({\"location\": \"top\", \"elementId\": \"id231\", \"tabNames\": [\"SQL\", \"Result\"], \"initialSelection\": 0, \"contentBorder\": [\"0px\"], \"contentHeight\": [\"initial\"], \"borderColor\": [\"#a7a7a7\"]});\n",
              "//# sourceURL=js_42622b370e"
            ],
            "text/plain": [
              "<IPython.core.display.Javascript object>"
            ]
          },
          "metadata": {}
        },
        {
          "output_type": "display_data",
          "data": {
            "application/javascript": [
              "window[\"6d805f2a-6710-11ec-87a2-0242ac1c0002\"] = window[\"id231\"].setSelectedTabIndex(0);\n",
              "//# sourceURL=js_20e1d31bc2"
            ],
            "text/plain": [
              "<IPython.core.display.Javascript object>"
            ]
          },
          "metadata": {}
        },
        {
          "output_type": "display_data",
          "data": {
            "application/javascript": [
              "window[\"6d81d5f8-6710-11ec-87a2-0242ac1c0002\"] = google.colab.output.getActiveOutputArea();\n",
              "//# sourceURL=js_9edb540ed6"
            ],
            "text/plain": [
              "<IPython.core.display.Javascript object>"
            ]
          },
          "metadata": {}
        },
        {
          "output_type": "display_data",
          "data": {
            "application/javascript": [
              "window[\"6d82230a-6710-11ec-87a2-0242ac1c0002\"] = document.querySelector(\"#id231_content_0\");\n",
              "//# sourceURL=js_a0bc5622c6"
            ],
            "text/plain": [
              "<IPython.core.display.Javascript object>"
            ]
          },
          "metadata": {}
        },
        {
          "output_type": "display_data",
          "data": {
            "application/javascript": [
              "window[\"6d8271ca-6710-11ec-87a2-0242ac1c0002\"] = google.colab.output.setActiveOutputArea(window[\"6d82230a-6710-11ec-87a2-0242ac1c0002\"]);\n",
              "//# sourceURL=js_b810f7df35"
            ],
            "text/plain": [
              "<IPython.core.display.Javascript object>"
            ]
          },
          "metadata": {}
        },
        {
          "output_type": "display_data",
          "data": {
            "application/javascript": [
              "window[\"6d82c026-6710-11ec-87a2-0242ac1c0002\"] = window[\"id231\"].setSelectedTabIndex(0);\n",
              "//# sourceURL=js_65fe044113"
            ],
            "text/plain": [
              "<IPython.core.display.Javascript object>"
            ]
          },
          "metadata": {}
        },
        {
          "output_type": "stream",
          "name": "stdout",
          "text": [
            "The following query is stored at \u001b[1mNeighbourhoodCrimeDistribution_sql\u001b[0m variable.\n",
            "ATTACH DATABASE 'vancouver_crime.db' AS db;\n",
            "ATTACH DATABASE ':memory:' AS logica_test;\n",
            "\n",
            "DROP TABLE IF EXISTS logica_test.AllCrimesCountInNeighbourhood;\n",
            "CREATE TABLE logica_test.AllCrimesCountInNeighbourhood AS WITH t_0_CrimesCountInNeighbourhood AS (SELECT\n",
            "  db_crime.neighbourhood AS neighbourhood,\n",
            "  db_crime.crimetype AS crimetype,\n",
            "  SUM(1) AS logica_value\n",
            "FROM\n",
            "  db.crime AS db_crime\n",
            "GROUP BY db_crime.neighbourhood, db_crime.crimetype)\n",
            "SELECT\n",
            "  t_1_CrimesCountInNeighbourhood.neighbourhood AS neighbourhood,\n",
            "  SUM(t_1_CrimesCountInNeighbourhood.logica_value) AS logica_value\n",
            "FROM\n",
            "  t_0_CrimesCountInNeighbourhood AS t_1_CrimesCountInNeighbourhood\n",
            "GROUP BY t_1_CrimesCountInNeighbourhood.neighbourhood;\n",
            "\n",
            "-- Interacting with table logica_test.AllCrimesCountInNeighbourhood\n",
            "\n",
            "WITH t_0_CrimesCountInNeighbourhood AS (SELECT\n",
            "  db_crime.neighbourhood AS neighbourhood,\n",
            "  db_crime.crimetype AS crimetype,\n",
            "  SUM(1) AS logica_value\n",
            "FROM\n",
            "  db.crime AS db_crime\n",
            "GROUP BY db_crime.neighbourhood, db_crime.crimetype)\n",
            "SELECT\n",
            "  CrimesCountInNeighbourhood.neighbourhood AS neighbourhood,\n",
            "  JSON_GROUP_ARRAY(JSON_OBJECT('crimetype', CrimesCountInNeighbourhood.crimetype, 'proportion', ((CAST(CrimesCountInNeighbourhood.logica_value AS FLOAT64)) / (AllCrimesCountInNeighbourhood.logica_value)))) AS crimes\n",
            "FROM\n",
            "  t_0_CrimesCountInNeighbourhood AS CrimesCountInNeighbourhood, logica_test.AllCrimesCountInNeighbourhood AS AllCrimesCountInNeighbourhood\n",
            "WHERE\n",
            "  (AllCrimesCountInNeighbourhood.neighbourhood = CrimesCountInNeighbourhood.neighbourhood)\n",
            "GROUP BY CrimesCountInNeighbourhood.neighbourhood;\n"
          ]
        },
        {
          "output_type": "display_data",
          "data": {
            "application/javascript": [
              "window[\"6d83f0ea-6710-11ec-87a2-0242ac1c0002\"] = google.colab.output.setActiveOutputArea(window[\"6d81d5f8-6710-11ec-87a2-0242ac1c0002\"]);\n",
              "//# sourceURL=js_7d23ccd123"
            ],
            "text/plain": [
              "<IPython.core.display.Javascript object>"
            ]
          },
          "metadata": {}
        },
        {
          "output_type": "display_data",
          "data": {
            "application/javascript": [
              "window[\"6d854846-6710-11ec-87a2-0242ac1c0002\"] = google.colab.output.setActiveOutputArea(window[\"6d7d4844-6710-11ec-87a2-0242ac1c0002\"]);\n",
              "//# sourceURL=js_3bba34f840"
            ],
            "text/plain": [
              "<IPython.core.display.Javascript object>"
            ]
          },
          "metadata": {}
        },
        {
          "output_type": "display_data",
          "data": {
            "application/javascript": [
              "window[\"6d870db6-6710-11ec-87a2-0242ac1c0002\"] = google.colab.output.getActiveOutputArea();\n",
              "//# sourceURL=js_c616af0462"
            ],
            "text/plain": [
              "<IPython.core.display.Javascript object>"
            ]
          },
          "metadata": {}
        },
        {
          "output_type": "display_data",
          "data": {
            "application/javascript": [
              "window[\"6d875b72-6710-11ec-87a2-0242ac1c0002\"] = document.querySelector(\"#id226_content_8\");\n",
              "//# sourceURL=js_57cb6331fb"
            ],
            "text/plain": [
              "<IPython.core.display.Javascript object>"
            ]
          },
          "metadata": {}
        },
        {
          "output_type": "display_data",
          "data": {
            "application/javascript": [
              "window[\"6d87a596-6710-11ec-87a2-0242ac1c0002\"] = google.colab.output.setActiveOutputArea(window[\"6d875b72-6710-11ec-87a2-0242ac1c0002\"]);\n",
              "//# sourceURL=js_71e02f25bc"
            ],
            "text/plain": [
              "<IPython.core.display.Javascript object>"
            ]
          },
          "metadata": {}
        },
        {
          "output_type": "display_data",
          "data": {
            "application/javascript": [
              "window[\"6d87ec18-6710-11ec-87a2-0242ac1c0002\"] = window[\"id226\"].setSelectedTabIndex(8);\n",
              "//# sourceURL=js_af7bbf755e"
            ],
            "text/plain": [
              "<IPython.core.display.Javascript object>"
            ]
          },
          "metadata": {}
        },
        {
          "output_type": "display_data",
          "data": {
            "application/javascript": [
              "window[\"6d8d68f0-6710-11ec-87a2-0242ac1c0002\"] = google.colab.output.setActiveOutputArea(window[\"6d870db6-6710-11ec-87a2-0242ac1c0002\"]);\n",
              "//# sourceURL=js_a15889f78d"
            ],
            "text/plain": [
              "<IPython.core.display.Javascript object>"
            ]
          },
          "metadata": {}
        },
        {
          "output_type": "display_data",
          "data": {
            "application/javascript": [
              "window[\"6d8f28a2-6710-11ec-87a2-0242ac1c0002\"] = google.colab.output.getActiveOutputArea();\n",
              "//# sourceURL=js_1bfe6c7a2e"
            ],
            "text/plain": [
              "<IPython.core.display.Javascript object>"
            ]
          },
          "metadata": {}
        },
        {
          "output_type": "display_data",
          "data": {
            "application/javascript": [
              "window[\"6d8f791a-6710-11ec-87a2-0242ac1c0002\"] = document.querySelector(\"#id226_content_5\");\n",
              "//# sourceURL=js_1fd58d252c"
            ],
            "text/plain": [
              "<IPython.core.display.Javascript object>"
            ]
          },
          "metadata": {}
        },
        {
          "output_type": "display_data",
          "data": {
            "application/javascript": [
              "window[\"6d8fc7d0-6710-11ec-87a2-0242ac1c0002\"] = google.colab.output.setActiveOutputArea(window[\"6d8f791a-6710-11ec-87a2-0242ac1c0002\"]);\n",
              "//# sourceURL=js_e512b34abd"
            ],
            "text/plain": [
              "<IPython.core.display.Javascript object>"
            ]
          },
          "metadata": {}
        },
        {
          "output_type": "display_data",
          "data": {
            "application/javascript": [
              "window[\"6d901604-6710-11ec-87a2-0242ac1c0002\"] = window[\"id226\"].setSelectedTabIndex(5);\n",
              "//# sourceURL=js_80c400886a"
            ],
            "text/plain": [
              "<IPython.core.display.Javascript object>"
            ]
          },
          "metadata": {}
        },
        {
          "output_type": "display_data",
          "data": {
            "text/html": [
              "<link rel=stylesheet type=text/css href='/nbextensions/google.colab/tabbar.css'></link>"
            ],
            "text/plain": [
              "<IPython.core.display.HTML object>"
            ]
          },
          "metadata": {}
        },
        {
          "output_type": "display_data",
          "data": {
            "text/html": [
              "<script src='/nbextensions/google.colab/tabbar_main.min.js'></script>"
            ],
            "text/plain": [
              "<IPython.core.display.HTML object>"
            ]
          },
          "metadata": {}
        },
        {
          "output_type": "display_data",
          "data": {
            "text/html": [
              "<div id=\"id232\"></div>"
            ],
            "text/plain": [
              "<IPython.core.display.HTML object>"
            ]
          },
          "metadata": {}
        },
        {
          "output_type": "display_data",
          "data": {
            "application/javascript": [
              "window[\"6d92522a-6710-11ec-87a2-0242ac1c0002\"] = colab_lib.createTabBar({\"location\": \"top\", \"elementId\": \"id232\", \"tabNames\": [\"SQL\", \"Result\"], \"initialSelection\": 0, \"contentBorder\": [\"0px\"], \"contentHeight\": [\"initial\"], \"borderColor\": [\"#a7a7a7\"]});\n",
              "//# sourceURL=js_f072efa892"
            ],
            "text/plain": [
              "<IPython.core.display.Javascript object>"
            ]
          },
          "metadata": {}
        },
        {
          "output_type": "display_data",
          "data": {
            "application/javascript": [
              "window[\"6d9296f4-6710-11ec-87a2-0242ac1c0002\"] = window[\"id232\"].setSelectedTabIndex(0);\n",
              "//# sourceURL=js_2bc373e348"
            ],
            "text/plain": [
              "<IPython.core.display.Javascript object>"
            ]
          },
          "metadata": {}
        },
        {
          "output_type": "display_data",
          "data": {
            "application/javascript": [
              "window[\"6d949f44-6710-11ec-87a2-0242ac1c0002\"] = google.colab.output.getActiveOutputArea();\n",
              "//# sourceURL=js_b6a0abc441"
            ],
            "text/plain": [
              "<IPython.core.display.Javascript object>"
            ]
          },
          "metadata": {}
        },
        {
          "output_type": "display_data",
          "data": {
            "application/javascript": [
              "window[\"6d94e7f6-6710-11ec-87a2-0242ac1c0002\"] = document.querySelector(\"#id232_content_0\");\n",
              "//# sourceURL=js_bdff99fd84"
            ],
            "text/plain": [
              "<IPython.core.display.Javascript object>"
            ]
          },
          "metadata": {}
        },
        {
          "output_type": "display_data",
          "data": {
            "application/javascript": [
              "window[\"6d95358a-6710-11ec-87a2-0242ac1c0002\"] = google.colab.output.setActiveOutputArea(window[\"6d94e7f6-6710-11ec-87a2-0242ac1c0002\"]);\n",
              "//# sourceURL=js_26a6b28b40"
            ],
            "text/plain": [
              "<IPython.core.display.Javascript object>"
            ]
          },
          "metadata": {}
        },
        {
          "output_type": "display_data",
          "data": {
            "application/javascript": [
              "window[\"6d9587b0-6710-11ec-87a2-0242ac1c0002\"] = window[\"id232\"].setSelectedTabIndex(0);\n",
              "//# sourceURL=js_62a8aa3720"
            ],
            "text/plain": [
              "<IPython.core.display.Javascript object>"
            ]
          },
          "metadata": {}
        },
        {
          "output_type": "stream",
          "name": "stdout",
          "text": [
            "The following query is stored at \u001b[1mCrimeChangeExpanded_sql\u001b[0m variable.\n",
            "ATTACH DATABASE 'vancouver_crime.db' AS db;\n",
            "ATTACH DATABASE ':memory:' AS logica_test;\n",
            "\n",
            "DROP TABLE IF EXISTS logica_test.CrimeCountByYear;\n",
            "CREATE TABLE logica_test.CrimeCountByYear AS SELECT\n",
            "  db_crime.year AS year,\n",
            "  db_crime.crimetype AS crimetype,\n",
            "  SUM(1) AS logica_value\n",
            "FROM\n",
            "  db.crime AS db_crime\n",
            "GROUP BY db_crime.year, db_crime.crimetype;\n",
            "\n",
            "-- Interacting with table logica_test.CrimeCountByYear\n",
            "\n",
            "SELECT\n",
            "  CrimeCountByYear.year AS year,\n",
            "  CrimeCountByYear.crimetype AS crimetype,\n",
            "  t_0_CrimeCountByYear.logica_value AS changed_from,\n",
            "  CrimeCountByYear.logica_value AS changed_to,\n",
            "  ABS(((CrimeCountByYear.logica_value) - (t_0_CrimeCountByYear.logica_value))) AS delta\n",
            "FROM\n",
            "  logica_test.CrimeCountByYear AS CrimeCountByYear, logica_test.CrimeCountByYear AS t_0_CrimeCountByYear\n",
            "WHERE\n",
            "  (t_0_CrimeCountByYear.year = ((CrimeCountByYear.year) - (1))) AND\n",
            "  (t_0_CrimeCountByYear.crimetype = CrimeCountByYear.crimetype);\n"
          ]
        },
        {
          "output_type": "display_data",
          "data": {
            "application/javascript": [
              "window[\"6d96ce90-6710-11ec-87a2-0242ac1c0002\"] = google.colab.output.setActiveOutputArea(window[\"6d949f44-6710-11ec-87a2-0242ac1c0002\"]);\n",
              "//# sourceURL=js_2cdfbb8b49"
            ],
            "text/plain": [
              "<IPython.core.display.Javascript object>"
            ]
          },
          "metadata": {}
        },
        {
          "output_type": "display_data",
          "data": {
            "application/javascript": [
              "window[\"6d98254c-6710-11ec-87a2-0242ac1c0002\"] = google.colab.output.setActiveOutputArea(window[\"6d8f28a2-6710-11ec-87a2-0242ac1c0002\"]);\n",
              "//# sourceURL=js_5d79e2c22b"
            ],
            "text/plain": [
              "<IPython.core.display.Javascript object>"
            ]
          },
          "metadata": {}
        },
        {
          "output_type": "display_data",
          "data": {
            "application/javascript": [
              "window[\"6d99dcca-6710-11ec-87a2-0242ac1c0002\"] = google.colab.output.getActiveOutputArea();\n",
              "//# sourceURL=js_8c5429dd95"
            ],
            "text/plain": [
              "<IPython.core.display.Javascript object>"
            ]
          },
          "metadata": {}
        },
        {
          "output_type": "display_data",
          "data": {
            "application/javascript": [
              "window[\"6d9a273e-6710-11ec-87a2-0242ac1c0002\"] = document.querySelector(\"#id226_content_8\");\n",
              "//# sourceURL=js_49475fcaeb"
            ],
            "text/plain": [
              "<IPython.core.display.Javascript object>"
            ]
          },
          "metadata": {}
        },
        {
          "output_type": "display_data",
          "data": {
            "application/javascript": [
              "window[\"6d9a71bc-6710-11ec-87a2-0242ac1c0002\"] = google.colab.output.setActiveOutputArea(window[\"6d9a273e-6710-11ec-87a2-0242ac1c0002\"]);\n",
              "//# sourceURL=js_8bcb0d3c94"
            ],
            "text/plain": [
              "<IPython.core.display.Javascript object>"
            ]
          },
          "metadata": {}
        },
        {
          "output_type": "display_data",
          "data": {
            "application/javascript": [
              "window[\"6d9abb68-6710-11ec-87a2-0242ac1c0002\"] = window[\"id226\"].setSelectedTabIndex(8);\n",
              "//# sourceURL=js_81f26c8528"
            ],
            "text/plain": [
              "<IPython.core.display.Javascript object>"
            ]
          },
          "metadata": {}
        },
        {
          "output_type": "display_data",
          "data": {
            "application/javascript": [
              "window[\"6db3f308-6710-11ec-87a2-0242ac1c0002\"] = google.colab.output.setActiveOutputArea(window[\"6d99dcca-6710-11ec-87a2-0242ac1c0002\"]);\n",
              "//# sourceURL=js_c515048da2"
            ],
            "text/plain": [
              "<IPython.core.display.Javascript object>"
            ]
          },
          "metadata": {}
        },
        {
          "output_type": "display_data",
          "data": {
            "application/javascript": [
              "window[\"6db5ae46-6710-11ec-87a2-0242ac1c0002\"] = google.colab.output.getActiveOutputArea();\n",
              "//# sourceURL=js_13af6935b4"
            ],
            "text/plain": [
              "<IPython.core.display.Javascript object>"
            ]
          },
          "metadata": {}
        },
        {
          "output_type": "display_data",
          "data": {
            "application/javascript": [
              "window[\"6db5f856-6710-11ec-87a2-0242ac1c0002\"] = document.querySelector(\"#id226_content_6\");\n",
              "//# sourceURL=js_25d1d3368c"
            ],
            "text/plain": [
              "<IPython.core.display.Javascript object>"
            ]
          },
          "metadata": {}
        },
        {
          "output_type": "display_data",
          "data": {
            "application/javascript": [
              "window[\"6db640b8-6710-11ec-87a2-0242ac1c0002\"] = google.colab.output.setActiveOutputArea(window[\"6db5f856-6710-11ec-87a2-0242ac1c0002\"]);\n",
              "//# sourceURL=js_d41ec6d743"
            ],
            "text/plain": [
              "<IPython.core.display.Javascript object>"
            ]
          },
          "metadata": {}
        },
        {
          "output_type": "display_data",
          "data": {
            "application/javascript": [
              "window[\"6db68db6-6710-11ec-87a2-0242ac1c0002\"] = window[\"id226\"].setSelectedTabIndex(6);\n",
              "//# sourceURL=js_a41ecf9a3a"
            ],
            "text/plain": [
              "<IPython.core.display.Javascript object>"
            ]
          },
          "metadata": {}
        },
        {
          "output_type": "display_data",
          "data": {
            "text/html": [
              "<link rel=stylesheet type=text/css href='/nbextensions/google.colab/tabbar.css'></link>"
            ],
            "text/plain": [
              "<IPython.core.display.HTML object>"
            ]
          },
          "metadata": {}
        },
        {
          "output_type": "display_data",
          "data": {
            "text/html": [
              "<script src='/nbextensions/google.colab/tabbar_main.min.js'></script>"
            ],
            "text/plain": [
              "<IPython.core.display.HTML object>"
            ]
          },
          "metadata": {}
        },
        {
          "output_type": "display_data",
          "data": {
            "text/html": [
              "<div id=\"id233\"></div>"
            ],
            "text/plain": [
              "<IPython.core.display.HTML object>"
            ]
          },
          "metadata": {}
        },
        {
          "output_type": "display_data",
          "data": {
            "application/javascript": [
              "window[\"6db83940-6710-11ec-87a2-0242ac1c0002\"] = colab_lib.createTabBar({\"location\": \"top\", \"elementId\": \"id233\", \"tabNames\": [\"SQL\", \"Result\"], \"initialSelection\": 0, \"contentBorder\": [\"0px\"], \"contentHeight\": [\"initial\"], \"borderColor\": [\"#a7a7a7\"]});\n",
              "//# sourceURL=js_0d4f87ba19"
            ],
            "text/plain": [
              "<IPython.core.display.Javascript object>"
            ]
          },
          "metadata": {}
        },
        {
          "output_type": "display_data",
          "data": {
            "application/javascript": [
              "window[\"6db88260-6710-11ec-87a2-0242ac1c0002\"] = window[\"id233\"].setSelectedTabIndex(0);\n",
              "//# sourceURL=js_fbfffe58ac"
            ],
            "text/plain": [
              "<IPython.core.display.Javascript object>"
            ]
          },
          "metadata": {}
        },
        {
          "output_type": "display_data",
          "data": {
            "application/javascript": [
              "window[\"6db9d840-6710-11ec-87a2-0242ac1c0002\"] = google.colab.output.getActiveOutputArea();\n",
              "//# sourceURL=js_2c62416d7c"
            ],
            "text/plain": [
              "<IPython.core.display.Javascript object>"
            ]
          },
          "metadata": {}
        },
        {
          "output_type": "display_data",
          "data": {
            "application/javascript": [
              "window[\"6dba27be-6710-11ec-87a2-0242ac1c0002\"] = document.querySelector(\"#id233_content_0\");\n",
              "//# sourceURL=js_aa49b2c123"
            ],
            "text/plain": [
              "<IPython.core.display.Javascript object>"
            ]
          },
          "metadata": {}
        },
        {
          "output_type": "display_data",
          "data": {
            "application/javascript": [
              "window[\"6dba73b8-6710-11ec-87a2-0242ac1c0002\"] = google.colab.output.setActiveOutputArea(window[\"6dba27be-6710-11ec-87a2-0242ac1c0002\"]);\n",
              "//# sourceURL=js_21a1d71eac"
            ],
            "text/plain": [
              "<IPython.core.display.Javascript object>"
            ]
          },
          "metadata": {}
        },
        {
          "output_type": "display_data",
          "data": {
            "application/javascript": [
              "window[\"6dbabdbe-6710-11ec-87a2-0242ac1c0002\"] = window[\"id233\"].setSelectedTabIndex(0);\n",
              "//# sourceURL=js_a566b83def"
            ],
            "text/plain": [
              "<IPython.core.display.Javascript object>"
            ]
          },
          "metadata": {}
        },
        {
          "output_type": "stream",
          "name": "stdout",
          "text": [
            "The following query is stored at \u001b[1mMostVolatileType_sql\u001b[0m variable.\n",
            "ATTACH DATABASE 'vancouver_crime.db' AS db;\n",
            "ATTACH DATABASE ':memory:' AS logica_test;\n",
            "\n",
            "DROP TABLE IF EXISTS logica_test.CrimeCountByYear;\n",
            "CREATE TABLE logica_test.CrimeCountByYear AS SELECT\n",
            "  db_crime.year AS year,\n",
            "  db_crime.crimetype AS crimetype,\n",
            "  SUM(1) AS logica_value\n",
            "FROM\n",
            "  db.crime AS db_crime\n",
            "GROUP BY db_crime.year, db_crime.crimetype;\n",
            "\n",
            "-- Interacting with table logica_test.CrimeCountByYear\n",
            "\n",
            "SELECT\n",
            "  CrimeCountByYear.year AS year,\n",
            "  JSON_EXTRACT(ArgMax(CrimeCountByYear.crimetype, ABS(((CrimeCountByYear.logica_value) - (t_1_CrimeCountByYear.logica_value))), 1), '$[' || 0 || ']') AS crimetype\n",
            "FROM\n",
            "  logica_test.CrimeCountByYear AS CrimeCountByYear, logica_test.CrimeCountByYear AS t_1_CrimeCountByYear\n",
            "WHERE\n",
            "  (t_1_CrimeCountByYear.year = ((CrimeCountByYear.year) - (1))) AND\n",
            "  (t_1_CrimeCountByYear.crimetype = CrimeCountByYear.crimetype)\n",
            "GROUP BY CrimeCountByYear.year;\n"
          ]
        },
        {
          "output_type": "display_data",
          "data": {
            "application/javascript": [
              "window[\"6dbbde6a-6710-11ec-87a2-0242ac1c0002\"] = google.colab.output.setActiveOutputArea(window[\"6db9d840-6710-11ec-87a2-0242ac1c0002\"]);\n",
              "//# sourceURL=js_86d9d9ceb7"
            ],
            "text/plain": [
              "<IPython.core.display.Javascript object>"
            ]
          },
          "metadata": {}
        },
        {
          "output_type": "display_data",
          "data": {
            "application/javascript": [
              "window[\"6dbd4318-6710-11ec-87a2-0242ac1c0002\"] = google.colab.output.setActiveOutputArea(window[\"6db5ae46-6710-11ec-87a2-0242ac1c0002\"]);\n",
              "//# sourceURL=js_da554301c6"
            ],
            "text/plain": [
              "<IPython.core.display.Javascript object>"
            ]
          },
          "metadata": {}
        },
        {
          "output_type": "display_data",
          "data": {
            "application/javascript": [
              "window[\"6dbecabc-6710-11ec-87a2-0242ac1c0002\"] = google.colab.output.getActiveOutputArea();\n",
              "//# sourceURL=js_612272826c"
            ],
            "text/plain": [
              "<IPython.core.display.Javascript object>"
            ]
          },
          "metadata": {}
        },
        {
          "output_type": "display_data",
          "data": {
            "application/javascript": [
              "window[\"6dbf0cfc-6710-11ec-87a2-0242ac1c0002\"] = document.querySelector(\"#id226_content_8\");\n",
              "//# sourceURL=js_55021cd34b"
            ],
            "text/plain": [
              "<IPython.core.display.Javascript object>"
            ]
          },
          "metadata": {}
        },
        {
          "output_type": "display_data",
          "data": {
            "application/javascript": [
              "window[\"6dbf56da-6710-11ec-87a2-0242ac1c0002\"] = google.colab.output.setActiveOutputArea(window[\"6dbf0cfc-6710-11ec-87a2-0242ac1c0002\"]);\n",
              "//# sourceURL=js_a6aac77f15"
            ],
            "text/plain": [
              "<IPython.core.display.Javascript object>"
            ]
          },
          "metadata": {}
        },
        {
          "output_type": "display_data",
          "data": {
            "application/javascript": [
              "window[\"6dbfa40a-6710-11ec-87a2-0242ac1c0002\"] = window[\"id226\"].setSelectedTabIndex(8);\n",
              "//# sourceURL=js_a022d5091c"
            ],
            "text/plain": [
              "<IPython.core.display.Javascript object>"
            ]
          },
          "metadata": {}
        },
        {
          "output_type": "display_data",
          "data": {
            "application/javascript": [
              "window[\"6ddb53f8-6710-11ec-87a2-0242ac1c0002\"] = google.colab.output.setActiveOutputArea(window[\"6dbecabc-6710-11ec-87a2-0242ac1c0002\"]);\n",
              "//# sourceURL=js_111a1eb622"
            ],
            "text/plain": [
              "<IPython.core.display.Javascript object>"
            ]
          },
          "metadata": {}
        },
        {
          "output_type": "display_data",
          "data": {
            "application/javascript": [
              "window[\"6dde081e-6710-11ec-87a2-0242ac1c0002\"] = google.colab.output.getActiveOutputArea();\n",
              "//# sourceURL=js_f28b752a92"
            ],
            "text/plain": [
              "<IPython.core.display.Javascript object>"
            ]
          },
          "metadata": {}
        },
        {
          "output_type": "display_data",
          "data": {
            "application/javascript": [
              "window[\"6dde7dee-6710-11ec-87a2-0242ac1c0002\"] = document.querySelector(\"#id226_content_7\");\n",
              "//# sourceURL=js_fa02f6bc9d"
            ],
            "text/plain": [
              "<IPython.core.display.Javascript object>"
            ]
          },
          "metadata": {}
        },
        {
          "output_type": "display_data",
          "data": {
            "application/javascript": [
              "window[\"6ddeccea-6710-11ec-87a2-0242ac1c0002\"] = google.colab.output.setActiveOutputArea(window[\"6dde7dee-6710-11ec-87a2-0242ac1c0002\"]);\n",
              "//# sourceURL=js_6a01306132"
            ],
            "text/plain": [
              "<IPython.core.display.Javascript object>"
            ]
          },
          "metadata": {}
        },
        {
          "output_type": "display_data",
          "data": {
            "application/javascript": [
              "window[\"6ddf170e-6710-11ec-87a2-0242ac1c0002\"] = window[\"id226\"].setSelectedTabIndex(7);\n",
              "//# sourceURL=js_24cfbed0cc"
            ],
            "text/plain": [
              "<IPython.core.display.Javascript object>"
            ]
          },
          "metadata": {}
        },
        {
          "output_type": "display_data",
          "data": {
            "text/html": [
              "<link rel=stylesheet type=text/css href='/nbextensions/google.colab/tabbar.css'></link>"
            ],
            "text/plain": [
              "<IPython.core.display.HTML object>"
            ]
          },
          "metadata": {}
        },
        {
          "output_type": "display_data",
          "data": {
            "text/html": [
              "<script src='/nbextensions/google.colab/tabbar_main.min.js'></script>"
            ],
            "text/plain": [
              "<IPython.core.display.HTML object>"
            ]
          },
          "metadata": {}
        },
        {
          "output_type": "display_data",
          "data": {
            "text/html": [
              "<div id=\"id234\"></div>"
            ],
            "text/plain": [
              "<IPython.core.display.HTML object>"
            ]
          },
          "metadata": {}
        },
        {
          "output_type": "display_data",
          "data": {
            "application/javascript": [
              "window[\"6de1ddea-6710-11ec-87a2-0242ac1c0002\"] = colab_lib.createTabBar({\"location\": \"top\", \"elementId\": \"id234\", \"tabNames\": [\"SQL\", \"Result\"], \"initialSelection\": 0, \"contentBorder\": [\"0px\"], \"contentHeight\": [\"initial\"], \"borderColor\": [\"#a7a7a7\"]});\n",
              "//# sourceURL=js_b7e17dc200"
            ],
            "text/plain": [
              "<IPython.core.display.Javascript object>"
            ]
          },
          "metadata": {}
        },
        {
          "output_type": "display_data",
          "data": {
            "application/javascript": [
              "window[\"6de2285e-6710-11ec-87a2-0242ac1c0002\"] = window[\"id234\"].setSelectedTabIndex(0);\n",
              "//# sourceURL=js_c4941cea9d"
            ],
            "text/plain": [
              "<IPython.core.display.Javascript object>"
            ]
          },
          "metadata": {}
        },
        {
          "output_type": "display_data",
          "data": {
            "application/javascript": [
              "window[\"6de3c984-6710-11ec-87a2-0242ac1c0002\"] = google.colab.output.getActiveOutputArea();\n",
              "//# sourceURL=js_10018449d4"
            ],
            "text/plain": [
              "<IPython.core.display.Javascript object>"
            ]
          },
          "metadata": {}
        },
        {
          "output_type": "display_data",
          "data": {
            "application/javascript": [
              "window[\"6de414ac-6710-11ec-87a2-0242ac1c0002\"] = document.querySelector(\"#id234_content_0\");\n",
              "//# sourceURL=js_8ba9461f5c"
            ],
            "text/plain": [
              "<IPython.core.display.Javascript object>"
            ]
          },
          "metadata": {}
        },
        {
          "output_type": "display_data",
          "data": {
            "application/javascript": [
              "window[\"6de46b82-6710-11ec-87a2-0242ac1c0002\"] = google.colab.output.setActiveOutputArea(window[\"6de414ac-6710-11ec-87a2-0242ac1c0002\"]);\n",
              "//# sourceURL=js_55da8873dd"
            ],
            "text/plain": [
              "<IPython.core.display.Javascript object>"
            ]
          },
          "metadata": {}
        },
        {
          "output_type": "display_data",
          "data": {
            "application/javascript": [
              "window[\"6de5213a-6710-11ec-87a2-0242ac1c0002\"] = window[\"id234\"].setSelectedTabIndex(0);\n",
              "//# sourceURL=js_9bfa630880"
            ],
            "text/plain": [
              "<IPython.core.display.Javascript object>"
            ]
          },
          "metadata": {}
        },
        {
          "output_type": "stream",
          "name": "stdout",
          "text": [
            "The following query is stored at \u001b[1mCrimeChange_sql\u001b[0m variable.\n",
            "ATTACH DATABASE 'vancouver_crime.db' AS db;\n",
            "ATTACH DATABASE ':memory:' AS logica_test;\n",
            "\n",
            "DROP TABLE IF EXISTS logica_test.CrimeCountByYear;\n",
            "CREATE TABLE logica_test.CrimeCountByYear AS SELECT\n",
            "  db_crime.year AS year,\n",
            "  db_crime.crimetype AS crimetype,\n",
            "  SUM(1) AS logica_value\n",
            "FROM\n",
            "  db.crime AS db_crime\n",
            "GROUP BY db_crime.year, db_crime.crimetype;\n",
            "\n",
            "-- Interacting with table logica_test.CrimeCountByYear\n",
            "\n",
            "WITH t_1_MostVolatileType AS (SELECT\n",
            "  t_4_CrimeCountByYear.year AS year,\n",
            "  JSON_EXTRACT(ArgMax(t_4_CrimeCountByYear.crimetype, ABS(((t_4_CrimeCountByYear.logica_value) - (t_5_CrimeCountByYear.logica_value))), 1), '$[' || 0 || ']') AS crimetype\n",
            "FROM\n",
            "  logica_test.CrimeCountByYear AS t_4_CrimeCountByYear, logica_test.CrimeCountByYear AS t_5_CrimeCountByYear\n",
            "WHERE\n",
            "  (t_5_CrimeCountByYear.year = ((t_4_CrimeCountByYear.year) - (1))) AND\n",
            "  (t_5_CrimeCountByYear.crimetype = t_4_CrimeCountByYear.crimetype)\n",
            "GROUP BY t_4_CrimeCountByYear.year)\n",
            "SELECT\n",
            "  MostVolatileType.year AS year,\n",
            "  MostVolatileType.crimetype AS crimetype,\n",
            "  t_0_CrimeCountByYear.logica_value AS changed_from,\n",
            "  CrimeCountByYear.logica_value AS changed_to\n",
            "FROM\n",
            "  t_1_MostVolatileType AS MostVolatileType, logica_test.CrimeCountByYear AS CrimeCountByYear, logica_test.CrimeCountByYear AS t_0_CrimeCountByYear\n",
            "WHERE\n",
            "  (t_0_CrimeCountByYear.year = ((CrimeCountByYear.year) - (1))) AND\n",
            "  (t_0_CrimeCountByYear.crimetype = CrimeCountByYear.crimetype) AND\n",
            "  (MostVolatileType.year = CrimeCountByYear.year) AND\n",
            "  (MostVolatileType.crimetype = CrimeCountByYear.crimetype);\n"
          ]
        },
        {
          "output_type": "display_data",
          "data": {
            "application/javascript": [
              "window[\"6de70108-6710-11ec-87a2-0242ac1c0002\"] = google.colab.output.setActiveOutputArea(window[\"6de3c984-6710-11ec-87a2-0242ac1c0002\"]);\n",
              "//# sourceURL=js_ca66605fc5"
            ],
            "text/plain": [
              "<IPython.core.display.Javascript object>"
            ]
          },
          "metadata": {}
        },
        {
          "output_type": "display_data",
          "data": {
            "application/javascript": [
              "window[\"6de95a0c-6710-11ec-87a2-0242ac1c0002\"] = google.colab.output.setActiveOutputArea(window[\"6dde081e-6710-11ec-87a2-0242ac1c0002\"]);\n",
              "//# sourceURL=js_b0716b2952"
            ],
            "text/plain": [
              "<IPython.core.display.Javascript object>"
            ]
          },
          "metadata": {}
        },
        {
          "output_type": "display_data",
          "data": {
            "application/javascript": [
              "window[\"6debff64-6710-11ec-87a2-0242ac1c0002\"] = google.colab.output.getActiveOutputArea();\n",
              "//# sourceURL=js_bf5cf34d11"
            ],
            "text/plain": [
              "<IPython.core.display.Javascript object>"
            ]
          },
          "metadata": {}
        },
        {
          "output_type": "display_data",
          "data": {
            "application/javascript": [
              "window[\"6dec59c8-6710-11ec-87a2-0242ac1c0002\"] = document.querySelector(\"#id226_content_8\");\n",
              "//# sourceURL=js_342ed1af44"
            ],
            "text/plain": [
              "<IPython.core.display.Javascript object>"
            ]
          },
          "metadata": {}
        },
        {
          "output_type": "display_data",
          "data": {
            "application/javascript": [
              "window[\"6decaebe-6710-11ec-87a2-0242ac1c0002\"] = google.colab.output.setActiveOutputArea(window[\"6dec59c8-6710-11ec-87a2-0242ac1c0002\"]);\n",
              "//# sourceURL=js_be31b1d25a"
            ],
            "text/plain": [
              "<IPython.core.display.Javascript object>"
            ]
          },
          "metadata": {}
        },
        {
          "output_type": "display_data",
          "data": {
            "application/javascript": [
              "window[\"6ded06d4-6710-11ec-87a2-0242ac1c0002\"] = window[\"id226\"].setSelectedTabIndex(8);\n",
              "//# sourceURL=js_1ba5e64437"
            ],
            "text/plain": [
              "<IPython.core.display.Javascript object>"
            ]
          },
          "metadata": {}
        },
        {
          "output_type": "display_data",
          "data": {
            "text/plain": [
              "<graphviz.dot.Digraph at 0x7f63c523e4d0>"
            ],
            "image/svg+xml": "<?xml version=\"1.0\" encoding=\"UTF-8\" standalone=\"no\"?>\n<!DOCTYPE svg PUBLIC \"-//W3C//DTD SVG 1.1//EN\"\n \"http://www.w3.org/Graphics/SVG/1.1/DTD/svg11.dtd\">\n<!-- Generated by graphviz version 2.40.1 (20161225.0304)\n -->\n<!-- Title: Concertina Pages: 1 -->\n<svg width=\"1226pt\" height=\"188pt\"\n viewBox=\"0.00 0.00 1225.91 188.00\" xmlns=\"http://www.w3.org/2000/svg\" xmlns:xlink=\"http://www.w3.org/1999/xlink\">\n<g id=\"graph0\" class=\"graph\" transform=\"scale(1 1) rotate(0) translate(4 184)\">\n<title>Concertina</title>\n<polygon fill=\"#ffffff\" stroke=\"transparent\" points=\"-4,4 -4,-184 1221.9089,-184 1221.9089,4 -4,4\"/>\n<!-- SomeCrime -->\n<g id=\"node1\" class=\"node\">\n<title>SomeCrime</title>\n<path fill=\"#caff70\" stroke=\"#575757\" d=\"M66.4337,-105.3101C66.4337,-105.3101 11.5661,-92.6899 11.5661,-92.6899 5.7187,-91.345 5.7187,-88.655 11.5661,-87.3101 11.5661,-87.3101 66.4337,-74.6899 66.4337,-74.6899 72.2811,-73.345 83.9757,-73.345 89.823,-74.6899 89.823,-74.6899 144.6907,-87.3101 144.6907,-87.3101 150.538,-88.655 150.538,-91.345 144.6907,-92.6899 144.6907,-92.6899 89.823,-105.3101 89.823,-105.3101 83.9757,-106.655 72.2811,-106.655 66.4337,-105.3101\"/>\n<text text-anchor=\"middle\" x=\"78.1284\" y=\"-86.3\" font-family=\"Times,serif\" font-size=\"14.00\" fill=\"#000000\">SomeCrime</text>\n</g>\n<!-- db.crime -->\n<g id=\"node2\" class=\"node\">\n<title>db.crime</title>\n<path fill=\"#b0e2ff\" stroke=\"#575757\" d=\"M672.6284,-176.7273C672.6284,-178.5331 657.6131,-180 639.1284,-180 620.6436,-180 605.6284,-178.5331 605.6284,-176.7273 605.6284,-176.7273 605.6284,-147.2727 605.6284,-147.2727 605.6284,-145.4669 620.6436,-144 639.1284,-144 657.6131,-144 672.6284,-145.4669 672.6284,-147.2727 672.6284,-147.2727 672.6284,-176.7273 672.6284,-176.7273\"/>\n<path fill=\"none\" stroke=\"#575757\" d=\"M672.6284,-176.7273C672.6284,-174.9214 657.6131,-173.4545 639.1284,-173.4545 620.6436,-173.4545 605.6284,-174.9214 605.6284,-176.7273\"/>\n<text text-anchor=\"middle\" x=\"639.1284\" y=\"-158.3\" font-family=\"Times,serif\" font-size=\"14.00\" fill=\"#000000\">db.crime</text>\n</g>\n<!-- db.crime&#45;&gt;SomeCrime -->\n<g id=\"edge1\" class=\"edge\">\n<title>db.crime&#45;&gt;SomeCrime</title>\n<path fill=\"none\" stroke=\"#000000\" d=\"M605.3653,-159.2123C527.4752,-152.5504 329.3074,-134.2806 165.1284,-108 152.9918,-106.0573 139.9811,-103.5799 127.8165,-101.089\"/>\n<polygon fill=\"#000000\" stroke=\"#000000\" points=\"128.3392,-97.6227 117.8349,-99.0048 126.9084,-104.4749 128.3392,-97.6227\"/>\n</g>\n<!-- CrimeAtHour -->\n<g id=\"node3\" class=\"node\">\n<title>CrimeAtHour</title>\n<path fill=\"#caff70\" stroke=\"#575757\" d=\"M250.3692,-105.6077C250.3692,-105.6077 185.4087,-92.3923 185.4087,-92.3923 179.5291,-91.1961 179.5291,-88.8039 185.4087,-87.6077 185.4087,-87.6077 250.3692,-74.3923 250.3692,-74.3923 256.2488,-73.1961 268.0079,-73.1961 273.8875,-74.3923 273.8875,-74.3923 338.8481,-87.6077 338.8481,-87.6077 344.7276,-88.8039 344.7276,-91.1961 338.8481,-92.3923 338.8481,-92.3923 273.8875,-105.6077 273.8875,-105.6077 268.0079,-106.8039 256.2488,-106.8039 250.3692,-105.6077\"/>\n<text text-anchor=\"middle\" x=\"262.1284\" y=\"-86.3\" font-family=\"Times,serif\" font-size=\"14.00\" fill=\"#000000\">CrimeAtHour</text>\n</g>\n<!-- db.crime&#45;&gt;CrimeAtHour -->\n<g id=\"edge2\" class=\"edge\">\n<title>db.crime&#45;&gt;CrimeAtHour</title>\n<path fill=\"none\" stroke=\"#000000\" d=\"M605.3404,-155.5471C540.3914,-143.1431 397.5349,-115.8601 318.1318,-100.6956\"/>\n<polygon fill=\"#000000\" stroke=\"#000000\" points=\"318.3123,-97.1669 307.8333,-98.7288 316.9991,-104.0426 318.3123,-97.1669\"/>\n</g>\n<!-- CrimeCountByYear -->\n<g id=\"node5\" class=\"node\">\n<title>CrimeCountByYear</title>\n<path fill=\"#caff70\" stroke=\"#575757\" d=\"M487.6284,-108C487.6284,-108 380.6284,-108 380.6284,-108 374.6284,-108 368.6284,-102 368.6284,-96 368.6284,-96 368.6284,-84 368.6284,-84 368.6284,-78 374.6284,-72 380.6284,-72 380.6284,-72 487.6284,-72 487.6284,-72 493.6284,-72 499.6284,-78 499.6284,-84 499.6284,-84 499.6284,-96 499.6284,-96 499.6284,-102 493.6284,-108 487.6284,-108\"/>\n<text text-anchor=\"middle\" x=\"434.1284\" y=\"-86.3\" font-family=\"Times,serif\" font-size=\"14.00\" fill=\"#000000\">CrimeCountByYear</text>\n</g>\n<!-- db.crime&#45;&gt;CrimeCountByYear -->\n<g id=\"edge10\" class=\"edge\">\n<title>db.crime&#45;&gt;CrimeCountByYear</title>\n<path fill=\"none\" stroke=\"#000000\" d=\"M605.2768,-150.1107C575.4203,-139.6245 531.182,-124.0871 495.1615,-111.436\"/>\n<polygon fill=\"#000000\" stroke=\"#000000\" points=\"496.3127,-108.1308 485.7179,-108.1193 493.9931,-114.7353 496.3127,-108.1308\"/>\n</g>\n<!-- CrimeCountAtHour -->\n<g id=\"node7\" class=\"node\">\n<title>CrimeCountAtHour</title>\n<path fill=\"#caff70\" stroke=\"#575757\" d=\"M627.2586,-106.2366C627.2586,-106.2366 529.8403,-91.7634 529.8403,-91.7634 523.9055,-90.8817 523.9055,-89.1183 529.8403,-88.2366 529.8403,-88.2366 627.2586,-73.7634 627.2586,-73.7634 633.1935,-72.8817 645.0632,-72.8817 650.9981,-73.7634 650.9981,-73.7634 748.4164,-88.2366 748.4164,-88.2366 754.3513,-89.1183 754.3513,-90.8817 748.4164,-91.7634 748.4164,-91.7634 650.9981,-106.2366 650.9981,-106.2366 645.0632,-107.1183 633.1935,-107.1183 627.2586,-106.2366\"/>\n<text text-anchor=\"middle\" x=\"639.1284\" y=\"-86.3\" font-family=\"Times,serif\" font-size=\"14.00\" fill=\"#000000\">CrimeCountAtHour</text>\n</g>\n<!-- db.crime&#45;&gt;CrimeCountAtHour -->\n<g id=\"edge5\" class=\"edge\">\n<title>db.crime&#45;&gt;CrimeCountAtHour</title>\n<path fill=\"none\" stroke=\"#000000\" d=\"M639.1284,-143.8314C639.1284,-136.131 639.1284,-126.9743 639.1284,-118.4166\"/>\n<polygon fill=\"#000000\" stroke=\"#000000\" points=\"642.6285,-118.4132 639.1284,-108.4133 635.6285,-118.4133 642.6285,-118.4132\"/>\n</g>\n<!-- AllCrimesCountInNeighbourhood -->\n<g id=\"node8\" class=\"node\">\n<title>AllCrimesCountInNeighbourhood</title>\n<path fill=\"#caff70\" stroke=\"#575757\" d=\"M981.6284,-108C981.6284,-108 790.6284,-108 790.6284,-108 784.6284,-108 778.6284,-102 778.6284,-96 778.6284,-96 778.6284,-84 778.6284,-84 778.6284,-78 784.6284,-72 790.6284,-72 790.6284,-72 981.6284,-72 981.6284,-72 987.6284,-72 993.6284,-78 993.6284,-84 993.6284,-84 993.6284,-96 993.6284,-96 993.6284,-102 987.6284,-108 981.6284,-108\"/>\n<text text-anchor=\"middle\" x=\"886.1284\" y=\"-86.3\" font-family=\"Times,serif\" font-size=\"14.00\" fill=\"#000000\">AllCrimesCountInNeighbourhood</text>\n</g>\n<!-- db.crime&#45;&gt;AllCrimesCountInNeighbourhood -->\n<g id=\"edge6\" class=\"edge\">\n<title>db.crime&#45;&gt;AllCrimesCountInNeighbourhood</title>\n<path fill=\"none\" stroke=\"#000000\" d=\"M672.6969,-152.2148C708.9012,-141.6613 767.6261,-124.5432 814.3209,-110.9317\"/>\n<polygon fill=\"#000000\" stroke=\"#000000\" points=\"815.4691,-114.2428 824.09,-108.084 813.5101,-107.5225 815.4691,-114.2428\"/>\n</g>\n<!-- NeighbourhoodCrimeDistribution -->\n<g id=\"node9\" class=\"node\">\n<title>NeighbourhoodCrimeDistribution</title>\n<path fill=\"#caff70\" stroke=\"#575757\" d=\"M1010.1789,-34.9001C1010.1789,-34.9001 838.5166,-19.0999 838.5166,-19.0999 832.5419,-18.5499 832.5419,-17.4501 838.5166,-16.9001 838.5166,-16.9001 1010.1789,-1.0999 1010.1789,-1.0999 1016.1536,-.5499 1028.1031,-.5499 1034.0779,-1.0999 1034.0779,-1.0999 1205.7401,-16.9001 1205.7401,-16.9001 1211.7149,-17.4501 1211.7149,-18.5499 1205.7401,-19.0999 1205.7401,-19.0999 1034.0779,-34.9001 1034.0779,-34.9001 1028.1031,-35.4501 1016.1536,-35.4501 1010.1789,-34.9001\"/>\n<text text-anchor=\"middle\" x=\"1022.1284\" y=\"-14.3\" font-family=\"Times,serif\" font-size=\"14.00\" fill=\"#000000\">NeighbourhoodCrimeDistribution</text>\n</g>\n<!-- db.crime&#45;&gt;NeighbourhoodCrimeDistribution -->\n<g id=\"edge7\" class=\"edge\">\n<title>db.crime&#45;&gt;NeighbourhoodCrimeDistribution</title>\n<path fill=\"none\" stroke=\"#000000\" d=\"M672.9304,-159.178C758.607,-151.7221 979.1965,-130.5198 1003.1284,-108 1019.6902,-92.4154 1023.7055,-66.3197 1024.0081,-46.2296\"/>\n<polygon fill=\"#000000\" stroke=\"#000000\" points=\"1027.5056,-46.0242 1023.8627,-36.0754 1020.5063,-46.1245 1027.5056,-46.0242\"/>\n</g>\n<!-- NumCrimes -->\n<g id=\"node11\" class=\"node\">\n<title>NumCrimes</title>\n<path fill=\"#caff70\" stroke=\"#575757\" d=\"M1117.4275,-105.3372C1117.4275,-105.3372 1061.7341,-92.6628 1061.7341,-92.6628 1055.8837,-91.3314 1055.8837,-88.6686 1061.7341,-87.3372 1061.7341,-87.3372 1117.4275,-74.6628 1117.4275,-74.6628 1123.278,-73.3314 1134.9788,-73.3314 1140.8292,-74.6628 1140.8292,-74.6628 1196.5226,-87.3372 1196.5226,-87.3372 1202.373,-88.6686 1202.373,-91.3314 1196.5226,-92.6628 1196.5226,-92.6628 1140.8292,-105.3372 1140.8292,-105.3372 1134.9788,-106.6686 1123.278,-106.6686 1117.4275,-105.3372\"/>\n<text text-anchor=\"middle\" x=\"1129.1284\" y=\"-86.3\" font-family=\"Times,serif\" font-size=\"14.00\" fill=\"#000000\">NumCrimes</text>\n</g>\n<!-- db.crime&#45;&gt;NumCrimes -->\n<g id=\"edge11\" class=\"edge\">\n<title>db.crime&#45;&gt;NumCrimes</title>\n<path fill=\"none\" stroke=\"#000000\" d=\"M672.6845,-158.0794C741.1791,-149.9349 901.9486,-130.0929 1036.1284,-108 1049.5765,-105.7857 1064.064,-103.1187 1077.5086,-100.5241\"/>\n<polygon fill=\"#000000\" stroke=\"#000000\" points=\"1078.4082,-103.9146 1087.5519,-98.5628 1077.0665,-97.0444 1078.4082,-103.9146\"/>\n</g>\n<!-- MostVolatileType -->\n<g id=\"node4\" class=\"node\">\n<title>MostVolatileType</title>\n<path fill=\"#caff70\" stroke=\"#575757\" d=\"M189.288,-34.0494C189.288,-34.0494 103.7092,-19.9506 103.7092,-19.9506 97.789,-18.9753 97.789,-17.0247 103.7092,-16.0494 103.7092,-16.0494 189.288,-1.9506 189.288,-1.9506 195.2082,-.9753 207.0486,-.9753 212.9688,-1.9506 212.9688,-1.9506 298.5475,-16.0494 298.5475,-16.0494 304.4677,-17.0247 304.4677,-18.9753 298.5475,-19.9506 298.5475,-19.9506 212.9688,-34.0494 212.9688,-34.0494 207.0486,-35.0247 195.2082,-35.0247 189.288,-34.0494\"/>\n<text text-anchor=\"middle\" x=\"201.1284\" y=\"-14.3\" font-family=\"Times,serif\" font-size=\"14.00\" fill=\"#000000\">MostVolatileType</text>\n</g>\n<!-- CrimeCountByYear&#45;&gt;MostVolatileType -->\n<g id=\"edge3\" class=\"edge\">\n<title>CrimeCountByYear&#45;&gt;MostVolatileType</title>\n<path fill=\"none\" stroke=\"#000000\" d=\"M375.6334,-71.9243C336.5732,-59.8542 285.8334,-44.1749 249.1439,-32.8374\"/>\n<polygon fill=\"#000000\" stroke=\"#000000\" points=\"249.7772,-29.3699 239.1896,-29.7614 247.7105,-36.0578 249.7772,-29.3699\"/>\n</g>\n<!-- CrimeChange -->\n<g id=\"node6\" class=\"node\">\n<title>CrimeChange</title>\n<path fill=\"#caff70\" stroke=\"#575757\" d=\"M405.3692,-33.6077C405.3692,-33.6077 340.4087,-20.3923 340.4087,-20.3923 334.5291,-19.1961 334.5291,-16.8039 340.4087,-15.6077 340.4087,-15.6077 405.3692,-2.3923 405.3692,-2.3923 411.2488,-1.1961 423.0079,-1.1961 428.8875,-2.3923 428.8875,-2.3923 493.8481,-15.6077 493.8481,-15.6077 499.7276,-16.8039 499.7276,-19.1961 493.8481,-20.3923 493.8481,-20.3923 428.8875,-33.6077 428.8875,-33.6077 423.0079,-34.8039 411.2488,-34.8039 405.3692,-33.6077\"/>\n<text text-anchor=\"middle\" x=\"417.1284\" y=\"-14.3\" font-family=\"Times,serif\" font-size=\"14.00\" fill=\"#000000\">CrimeChange</text>\n</g>\n<!-- CrimeCountByYear&#45;&gt;CrimeChange -->\n<g id=\"edge4\" class=\"edge\">\n<title>CrimeCountByYear&#45;&gt;CrimeChange</title>\n<path fill=\"none\" stroke=\"#000000\" d=\"M429.8385,-71.8314C427.9439,-63.8068 425.6758,-54.2008 423.5835,-45.3392\"/>\n<polygon fill=\"#000000\" stroke=\"#000000\" points=\"426.9452,-44.3458 421.2409,-35.4177 420.1325,-45.9544 426.9452,-44.3458\"/>\n</g>\n<!-- CrimeChangeExpanded -->\n<g id=\"node10\" class=\"node\">\n<title>CrimeChangeExpanded</title>\n<path fill=\"#caff70\" stroke=\"#575757\" d=\"M654.2231,-34.4955C654.2231,-34.4955 535.5949,-19.5045 535.5949,-19.5045 529.6423,-18.7522 529.6423,-17.2478 535.5949,-16.4955 535.5949,-16.4955 654.2231,-1.5045 654.2231,-1.5045 660.1757,-.7522 672.081,-.7522 678.0337,-1.5045 678.0337,-1.5045 796.6618,-16.4955 796.6618,-16.4955 802.6145,-17.2478 802.6145,-18.7522 796.6618,-19.5045 796.6618,-19.5045 678.0337,-34.4955 678.0337,-34.4955 672.081,-35.2478 660.1757,-35.2478 654.2231,-34.4955\"/>\n<text text-anchor=\"middle\" x=\"666.1284\" y=\"-14.3\" font-family=\"Times,serif\" font-size=\"14.00\" fill=\"#000000\">CrimeChangeExpanded</text>\n</g>\n<!-- CrimeCountByYear&#45;&gt;CrimeChangeExpanded -->\n<g id=\"edge9\" class=\"edge\">\n<title>CrimeCountByYear&#45;&gt;CrimeChangeExpanded</title>\n<path fill=\"none\" stroke=\"#000000\" d=\"M492.3723,-71.9243C530.038,-60.2349 578.611,-45.1606 614.8206,-33.9231\"/>\n<polygon fill=\"#000000\" stroke=\"#000000\" points=\"616.1732,-37.1681 624.6864,-30.8613 614.0984,-30.4826 616.1732,-37.1681\"/>\n</g>\n<!-- AllCrimesCountInNeighbourhood&#45;&gt;NeighbourhoodCrimeDistribution -->\n<g id=\"edge8\" class=\"edge\">\n<title>AllCrimesCountInNeighbourhood&#45;&gt;NeighbourhoodCrimeDistribution</title>\n<path fill=\"none\" stroke=\"#000000\" d=\"M920.4469,-71.8314C939.7393,-61.6177 963.8707,-48.8423 983.7831,-38.3004\"/>\n<polygon fill=\"#000000\" stroke=\"#000000\" points=\"985.6901,-41.2512 992.8903,-33.479 982.4148,-35.0646 985.6901,-41.2512\"/>\n</g>\n</g>\n</svg>\n"
          },
          "metadata": {}
        },
        {
          "output_type": "stream",
          "name": "stdout",
          "text": [
            "Running predicate: CrimeCountAtHour (1 seconds)\n",
            "Running predicate: AllCrimesCountInNeighbourhood (0 seconds)\n",
            "Running predicate: NeighbourhoodCrimeDistribution (1 seconds)\n",
            "Running predicate: CrimeCountByYear (0 seconds)\n",
            "Running predicate: NumCrimes (0 seconds)\n",
            "Running predicate: SomeCrime (0 seconds)\n",
            "Running predicate: CrimeAtHour (1 seconds)\n",
            "Running predicate: MostVolatileType (0 seconds)\n",
            "Running predicate: CrimeChange (0 seconds)\n",
            "Running predicate: CrimeChangeExpanded (0 seconds)\n"
          ]
        },
        {
          "output_type": "display_data",
          "data": {
            "application/javascript": [
              "window[\"71dcd8e6-6710-11ec-87a2-0242ac1c0002\"] = google.colab.output.setActiveOutputArea(window[\"6debff64-6710-11ec-87a2-0242ac1c0002\"]);\n",
              "//# sourceURL=js_1bcf1134ee"
            ],
            "text/plain": [
              "<IPython.core.display.Javascript object>"
            ]
          },
          "metadata": {}
        },
        {
          "output_type": "display_data",
          "data": {
            "application/javascript": [
              "window[\"71de9b72-6710-11ec-87a2-0242ac1c0002\"] = google.colab.output.getActiveOutputArea();\n",
              "//# sourceURL=js_40de01f14d"
            ],
            "text/plain": [
              "<IPython.core.display.Javascript object>"
            ]
          },
          "metadata": {}
        },
        {
          "output_type": "display_data",
          "data": {
            "application/javascript": [
              "window[\"71deec9e-6710-11ec-87a2-0242ac1c0002\"] = document.querySelector(\"#id226_content_0\");\n",
              "//# sourceURL=js_8f7d299720"
            ],
            "text/plain": [
              "<IPython.core.display.Javascript object>"
            ]
          },
          "metadata": {}
        },
        {
          "output_type": "display_data",
          "data": {
            "application/javascript": [
              "window[\"71df3ae6-6710-11ec-87a2-0242ac1c0002\"] = google.colab.output.setActiveOutputArea(window[\"71deec9e-6710-11ec-87a2-0242ac1c0002\"]);\n",
              "//# sourceURL=js_09ca042b7b"
            ],
            "text/plain": [
              "<IPython.core.display.Javascript object>"
            ]
          },
          "metadata": {}
        },
        {
          "output_type": "display_data",
          "data": {
            "application/javascript": [
              "window[\"71df88b6-6710-11ec-87a2-0242ac1c0002\"] = window[\"id226\"].setSelectedTabIndex(0);\n",
              "//# sourceURL=js_5544ed16f3"
            ],
            "text/plain": [
              "<IPython.core.display.Javascript object>"
            ]
          },
          "metadata": {}
        },
        {
          "output_type": "display_data",
          "data": {
            "application/javascript": [
              "window[\"71e13d50-6710-11ec-87a2-0242ac1c0002\"] = google.colab.output.getActiveOutputArea();\n",
              "//# sourceURL=js_130fab4bc3"
            ],
            "text/plain": [
              "<IPython.core.display.Javascript object>"
            ]
          },
          "metadata": {}
        },
        {
          "output_type": "display_data",
          "data": {
            "application/javascript": [
              "window[\"71e191ec-6710-11ec-87a2-0242ac1c0002\"] = document.querySelector(\"#id227_content_1\");\n",
              "//# sourceURL=js_4a15666fa8"
            ],
            "text/plain": [
              "<IPython.core.display.Javascript object>"
            ]
          },
          "metadata": {}
        },
        {
          "output_type": "display_data",
          "data": {
            "application/javascript": [
              "window[\"71e1ecfa-6710-11ec-87a2-0242ac1c0002\"] = google.colab.output.setActiveOutputArea(window[\"71e191ec-6710-11ec-87a2-0242ac1c0002\"]);\n",
              "//# sourceURL=js_6ae9256585"
            ],
            "text/plain": [
              "<IPython.core.display.Javascript object>"
            ]
          },
          "metadata": {}
        },
        {
          "output_type": "display_data",
          "data": {
            "application/javascript": [
              "window[\"71e23386-6710-11ec-87a2-0242ac1c0002\"] = window[\"id227\"].setSelectedTabIndex(1);\n",
              "//# sourceURL=js_8c93af20ed"
            ],
            "text/plain": [
              "<IPython.core.display.Javascript object>"
            ]
          },
          "metadata": {}
        },
        {
          "output_type": "stream",
          "name": "stdout",
          "text": [
            "The following table is stored at \u001b[1mSomeCrime\u001b[0m variable.\n"
          ]
        },
        {
          "output_type": "display_data",
          "data": {
            "application/vnd.google.colaboratory.module+javascript": "\n      import \"https://ssl.gstatic.com/colaboratory/data_table/a6224c040fa35dcf/data_table.js\";\n\n      window.createDataTable({\n        data: [[{\n            'v': 0,\n            'f': \"0\",\n        },\n\"Other Theft\",\n{\n            'v': 2003,\n            'f': \"2003\",\n        },\n{\n            'v': 5,\n            'f': \"5\",\n        },\n{\n            'v': 12,\n            'f': \"12\",\n        },\n{\n            'v': 16.0,\n            'f': \"16.0\",\n        },\n{\n            'v': 15.0,\n            'f': \"15.0\",\n        },\n\"9XX TERMINAL AVE\",\n\"Strathcona\",\n{\n            'v': 493906.5,\n            'f': \"493906.5\",\n        },\n{\n            'v': 5457452.47,\n            'f': \"5457452.47\",\n        },\n{\n            'v': 49.26980201,\n            'f': \"49.26980201\",\n        },\n{\n            'v': -123.08376329999999,\n            'f': \"-123.08376329999999\",\n        }],\n [{\n            'v': 1,\n            'f': \"1\",\n        },\n\"Other Theft\",\n{\n            'v': 2003,\n            'f': \"2003\",\n        },\n{\n            'v': 5,\n            'f': \"5\",\n        },\n{\n            'v': 7,\n            'f': \"7\",\n        },\n{\n            'v': 15.0,\n            'f': \"15.0\",\n        },\n{\n            'v': 20.0,\n            'f': \"20.0\",\n        },\n\"9XX TERMINAL AVE\",\n\"Strathcona\",\n{\n            'v': 493906.5,\n            'f': \"493906.5\",\n        },\n{\n            'v': 5457452.47,\n            'f': \"5457452.47\",\n        },\n{\n            'v': 49.26980201,\n            'f': \"49.26980201\",\n        },\n{\n            'v': -123.08376329999999,\n            'f': \"-123.08376329999999\",\n        }],\n [{\n            'v': 2,\n            'f': \"2\",\n        },\n\"Other Theft\",\n{\n            'v': 2003,\n            'f': \"2003\",\n        },\n{\n            'v': 4,\n            'f': \"4\",\n        },\n{\n            'v': 23,\n            'f': \"23\",\n        },\n{\n            'v': 16.0,\n            'f': \"16.0\",\n        },\n{\n            'v': 40.0,\n            'f': \"40.0\",\n        },\n\"9XX TERMINAL AVE\",\n\"Strathcona\",\n{\n            'v': 493906.5,\n            'f': \"493906.5\",\n        },\n{\n            'v': 5457452.47,\n            'f': \"5457452.47\",\n        },\n{\n            'v': 49.26980201,\n            'f': \"49.26980201\",\n        },\n{\n            'v': -123.08376329999999,\n            'f': \"-123.08376329999999\",\n        }],\n [{\n            'v': 3,\n            'f': \"3\",\n        },\n\"Other Theft\",\n{\n            'v': 2003,\n            'f': \"2003\",\n        },\n{\n            'v': 4,\n            'f': \"4\",\n        },\n{\n            'v': 20,\n            'f': \"20\",\n        },\n{\n            'v': 11.0,\n            'f': \"11.0\",\n        },\n{\n            'v': 15.0,\n            'f': \"15.0\",\n        },\n\"9XX TERMINAL AVE\",\n\"Strathcona\",\n{\n            'v': 493906.5,\n            'f': \"493906.5\",\n        },\n{\n            'v': 5457452.47,\n            'f': \"5457452.47\",\n        },\n{\n            'v': 49.26980201,\n            'f': \"49.26980201\",\n        },\n{\n            'v': -123.08376329999999,\n            'f': \"-123.08376329999999\",\n        }],\n [{\n            'v': 4,\n            'f': \"4\",\n        },\n\"Other Theft\",\n{\n            'v': 2003,\n            'f': \"2003\",\n        },\n{\n            'v': 4,\n            'f': \"4\",\n        },\n{\n            'v': 12,\n            'f': \"12\",\n        },\n{\n            'v': 17.0,\n            'f': \"17.0\",\n        },\n{\n            'v': 45.0,\n            'f': \"45.0\",\n        },\n\"9XX TERMINAL AVE\",\n\"Strathcona\",\n{\n            'v': 493906.5,\n            'f': \"493906.5\",\n        },\n{\n            'v': 5457452.47,\n            'f': \"5457452.47\",\n        },\n{\n            'v': 49.26980201,\n            'f': \"49.26980201\",\n        },\n{\n            'v': -123.08376329999999,\n            'f': \"-123.08376329999999\",\n        }],\n [{\n            'v': 5,\n            'f': \"5\",\n        },\n\"Other Theft\",\n{\n            'v': 2003,\n            'f': \"2003\",\n        },\n{\n            'v': 3,\n            'f': \"3\",\n        },\n{\n            'v': 26,\n            'f': \"26\",\n        },\n{\n            'v': 20.0,\n            'f': \"20.0\",\n        },\n{\n            'v': 45.0,\n            'f': \"45.0\",\n        },\n\"9XX TERMINAL AVE\",\n\"Strathcona\",\n{\n            'v': 493906.5,\n            'f': \"493906.5\",\n        },\n{\n            'v': 5457452.47,\n            'f': \"5457452.47\",\n        },\n{\n            'v': 49.26980201,\n            'f': \"49.26980201\",\n        },\n{\n            'v': -123.08376329999999,\n            'f': \"-123.08376329999999\",\n        }],\n [{\n            'v': 6,\n            'f': \"6\",\n        },\n\"Break and Enter Residential/Other\",\n{\n            'v': 2003,\n            'f': \"2003\",\n        },\n{\n            'v': 3,\n            'f': \"3\",\n        },\n{\n            'v': 10,\n            'f': \"10\",\n        },\n{\n            'v': 12.0,\n            'f': \"12.0\",\n        },\n{\n            'v': 0.0,\n            'f': \"0.0\",\n        },\n\"63XX WILTSHIRE ST\",\n\"Kerrisdale\",\n{\n            'v': 489325.58,\n            'f': \"489325.58\",\n        },\n{\n            'v': 5452817.95,\n            'f': \"5452817.95\",\n        },\n{\n            'v': 49.22805078,\n            'f': \"49.22805078\",\n        },\n{\n            'v': -123.1466105,\n            'f': \"-123.1466105\",\n        }],\n [{\n            'v': 7,\n            'f': \"7\",\n        },\n\"Mischief\",\n{\n            'v': 2003,\n            'f': \"2003\",\n        },\n{\n            'v': 6,\n            'f': \"6\",\n        },\n{\n            'v': 28,\n            'f': \"28\",\n        },\n{\n            'v': 4.0,\n            'f': \"4.0\",\n        },\n{\n            'v': 13.0,\n            'f': \"13.0\",\n        },\n\"40XX W 19TH AVE\",\n\"Dunbar-Southlands\",\n{\n            'v': 485903.09,\n            'f': \"485903.09\",\n        },\n{\n            'v': 5455883.77,\n            'f': \"5455883.77\",\n        },\n{\n            'v': 49.25555918,\n            'f': \"49.25555918\",\n        },\n{\n            'v': -123.1937252,\n            'f': \"-123.1937252\",\n        }],\n [{\n            'v': 8,\n            'f': \"8\",\n        },\n\"Other Theft\",\n{\n            'v': 2003,\n            'f': \"2003\",\n        },\n{\n            'v': 2,\n            'f': \"2\",\n        },\n{\n            'v': 16,\n            'f': \"16\",\n        },\n{\n            'v': 9.0,\n            'f': \"9.0\",\n        },\n{\n            'v': 2.0,\n            'f': \"2.0\",\n        },\n\"9XX TERMINAL AVE\",\n\"Strathcona\",\n{\n            'v': 493906.5,\n            'f': \"493906.5\",\n        },\n{\n            'v': 5457452.47,\n            'f': \"5457452.47\",\n        },\n{\n            'v': 49.26980201,\n            'f': \"49.26980201\",\n        },\n{\n            'v': -123.08376329999999,\n            'f': \"-123.08376329999999\",\n        }],\n [{\n            'v': 9,\n            'f': \"9\",\n        },\n\"Break and Enter Residential/Other\",\n{\n            'v': 2003,\n            'f': \"2003\",\n        },\n{\n            'v': 7,\n            'f': \"7\",\n        },\n{\n            'v': 9,\n            'f': \"9\",\n        },\n{\n            'v': 18.0,\n            'f': \"18.0\",\n        },\n{\n            'v': 15.0,\n            'f': \"15.0\",\n        },\n\"18XX E 3RD AVE\",\n\"Grandview-Woodland\",\n{\n            'v': 495078.19,\n            'f': \"495078.19\",\n        },\n{\n            'v': 5457221.38,\n            'f': \"5457221.38\",\n        },\n{\n            'v': 49.26773386,\n            'f': \"49.26773386\",\n        },\n{\n            'v': -123.067654,\n            'f': \"-123.067654\",\n        }]],\n        columns: [[\"number\", \"index\"], [\"string\", \"crimetype\"], [\"number\", \"year\"], [\"number\", \"month\"], [\"number\", \"day\"], [\"number\", \"hour\"], [\"number\", \"minute\"], [\"string\", \"hundred_block\"], [\"string\", \"neighbourhood\"], [\"number\", \"x\"], [\"number\", \"y\"], [\"number\", \"latitude\"], [\"number\", \"longitude\"]],\n        columnOptions: [{\"width\": \"1px\", \"className\": \"index_column\"}],\n        rowsPerPage: 25,\n        helpUrl: \"https://colab.research.google.com/notebooks/data_table.ipynb\",\n        suppressOutputScrolling: true,\n        minimumWidth: undefined,\n      });\n    ",
            "text/html": [
              "\n",
              "  <div id=\"df-633a7ef8-b31e-479f-b762-821e8e98318e\">\n",
              "    <div class=\"colab-df-container\">\n",
              "      <div>\n",
              "<style scoped>\n",
              "    .dataframe tbody tr th:only-of-type {\n",
              "        vertical-align: middle;\n",
              "    }\n",
              "\n",
              "    .dataframe tbody tr th {\n",
              "        vertical-align: top;\n",
              "    }\n",
              "\n",
              "    .dataframe thead th {\n",
              "        text-align: right;\n",
              "    }\n",
              "</style>\n",
              "<table border=\"1\" class=\"dataframe\">\n",
              "  <thead>\n",
              "    <tr style=\"text-align: right;\">\n",
              "      <th></th>\n",
              "      <th>crimetype</th>\n",
              "      <th>year</th>\n",
              "      <th>month</th>\n",
              "      <th>day</th>\n",
              "      <th>hour</th>\n",
              "      <th>minute</th>\n",
              "      <th>hundred_block</th>\n",
              "      <th>neighbourhood</th>\n",
              "      <th>x</th>\n",
              "      <th>y</th>\n",
              "      <th>latitude</th>\n",
              "      <th>longitude</th>\n",
              "    </tr>\n",
              "  </thead>\n",
              "  <tbody>\n",
              "    <tr>\n",
              "      <th>0</th>\n",
              "      <td>Other Theft</td>\n",
              "      <td>2003</td>\n",
              "      <td>5</td>\n",
              "      <td>12</td>\n",
              "      <td>16.0</td>\n",
              "      <td>15.0</td>\n",
              "      <td>9XX TERMINAL AVE</td>\n",
              "      <td>Strathcona</td>\n",
              "      <td>493906.50</td>\n",
              "      <td>5457452.47</td>\n",
              "      <td>49.269802</td>\n",
              "      <td>-123.083763</td>\n",
              "    </tr>\n",
              "    <tr>\n",
              "      <th>1</th>\n",
              "      <td>Other Theft</td>\n",
              "      <td>2003</td>\n",
              "      <td>5</td>\n",
              "      <td>7</td>\n",
              "      <td>15.0</td>\n",
              "      <td>20.0</td>\n",
              "      <td>9XX TERMINAL AVE</td>\n",
              "      <td>Strathcona</td>\n",
              "      <td>493906.50</td>\n",
              "      <td>5457452.47</td>\n",
              "      <td>49.269802</td>\n",
              "      <td>-123.083763</td>\n",
              "    </tr>\n",
              "    <tr>\n",
              "      <th>2</th>\n",
              "      <td>Other Theft</td>\n",
              "      <td>2003</td>\n",
              "      <td>4</td>\n",
              "      <td>23</td>\n",
              "      <td>16.0</td>\n",
              "      <td>40.0</td>\n",
              "      <td>9XX TERMINAL AVE</td>\n",
              "      <td>Strathcona</td>\n",
              "      <td>493906.50</td>\n",
              "      <td>5457452.47</td>\n",
              "      <td>49.269802</td>\n",
              "      <td>-123.083763</td>\n",
              "    </tr>\n",
              "    <tr>\n",
              "      <th>3</th>\n",
              "      <td>Other Theft</td>\n",
              "      <td>2003</td>\n",
              "      <td>4</td>\n",
              "      <td>20</td>\n",
              "      <td>11.0</td>\n",
              "      <td>15.0</td>\n",
              "      <td>9XX TERMINAL AVE</td>\n",
              "      <td>Strathcona</td>\n",
              "      <td>493906.50</td>\n",
              "      <td>5457452.47</td>\n",
              "      <td>49.269802</td>\n",
              "      <td>-123.083763</td>\n",
              "    </tr>\n",
              "    <tr>\n",
              "      <th>4</th>\n",
              "      <td>Other Theft</td>\n",
              "      <td>2003</td>\n",
              "      <td>4</td>\n",
              "      <td>12</td>\n",
              "      <td>17.0</td>\n",
              "      <td>45.0</td>\n",
              "      <td>9XX TERMINAL AVE</td>\n",
              "      <td>Strathcona</td>\n",
              "      <td>493906.50</td>\n",
              "      <td>5457452.47</td>\n",
              "      <td>49.269802</td>\n",
              "      <td>-123.083763</td>\n",
              "    </tr>\n",
              "    <tr>\n",
              "      <th>5</th>\n",
              "      <td>Other Theft</td>\n",
              "      <td>2003</td>\n",
              "      <td>3</td>\n",
              "      <td>26</td>\n",
              "      <td>20.0</td>\n",
              "      <td>45.0</td>\n",
              "      <td>9XX TERMINAL AVE</td>\n",
              "      <td>Strathcona</td>\n",
              "      <td>493906.50</td>\n",
              "      <td>5457452.47</td>\n",
              "      <td>49.269802</td>\n",
              "      <td>-123.083763</td>\n",
              "    </tr>\n",
              "    <tr>\n",
              "      <th>6</th>\n",
              "      <td>Break and Enter Residential/Other</td>\n",
              "      <td>2003</td>\n",
              "      <td>3</td>\n",
              "      <td>10</td>\n",
              "      <td>12.0</td>\n",
              "      <td>0.0</td>\n",
              "      <td>63XX WILTSHIRE ST</td>\n",
              "      <td>Kerrisdale</td>\n",
              "      <td>489325.58</td>\n",
              "      <td>5452817.95</td>\n",
              "      <td>49.228051</td>\n",
              "      <td>-123.146610</td>\n",
              "    </tr>\n",
              "    <tr>\n",
              "      <th>7</th>\n",
              "      <td>Mischief</td>\n",
              "      <td>2003</td>\n",
              "      <td>6</td>\n",
              "      <td>28</td>\n",
              "      <td>4.0</td>\n",
              "      <td>13.0</td>\n",
              "      <td>40XX W 19TH AVE</td>\n",
              "      <td>Dunbar-Southlands</td>\n",
              "      <td>485903.09</td>\n",
              "      <td>5455883.77</td>\n",
              "      <td>49.255559</td>\n",
              "      <td>-123.193725</td>\n",
              "    </tr>\n",
              "    <tr>\n",
              "      <th>8</th>\n",
              "      <td>Other Theft</td>\n",
              "      <td>2003</td>\n",
              "      <td>2</td>\n",
              "      <td>16</td>\n",
              "      <td>9.0</td>\n",
              "      <td>2.0</td>\n",
              "      <td>9XX TERMINAL AVE</td>\n",
              "      <td>Strathcona</td>\n",
              "      <td>493906.50</td>\n",
              "      <td>5457452.47</td>\n",
              "      <td>49.269802</td>\n",
              "      <td>-123.083763</td>\n",
              "    </tr>\n",
              "    <tr>\n",
              "      <th>9</th>\n",
              "      <td>Break and Enter Residential/Other</td>\n",
              "      <td>2003</td>\n",
              "      <td>7</td>\n",
              "      <td>9</td>\n",
              "      <td>18.0</td>\n",
              "      <td>15.0</td>\n",
              "      <td>18XX E 3RD AVE</td>\n",
              "      <td>Grandview-Woodland</td>\n",
              "      <td>495078.19</td>\n",
              "      <td>5457221.38</td>\n",
              "      <td>49.267734</td>\n",
              "      <td>-123.067654</td>\n",
              "    </tr>\n",
              "  </tbody>\n",
              "</table>\n",
              "</div>\n",
              "      <button class=\"colab-df-convert\" onclick=\"convertToInteractive('df-633a7ef8-b31e-479f-b762-821e8e98318e')\"\n",
              "              title=\"Convert this dataframe to an interactive table.\"\n",
              "              style=\"display:none;\">\n",
              "        \n",
              "  <svg xmlns=\"http://www.w3.org/2000/svg\" height=\"24px\"viewBox=\"0 0 24 24\"\n",
              "       width=\"24px\">\n",
              "    <path d=\"M0 0h24v24H0V0z\" fill=\"none\"/>\n",
              "    <path d=\"M18.56 5.44l.94 2.06.94-2.06 2.06-.94-2.06-.94-.94-2.06-.94 2.06-2.06.94zm-11 1L8.5 8.5l.94-2.06 2.06-.94-2.06-.94L8.5 2.5l-.94 2.06-2.06.94zm10 10l.94 2.06.94-2.06 2.06-.94-2.06-.94-.94-2.06-.94 2.06-2.06.94z\"/><path d=\"M17.41 7.96l-1.37-1.37c-.4-.4-.92-.59-1.43-.59-.52 0-1.04.2-1.43.59L10.3 9.45l-7.72 7.72c-.78.78-.78 2.05 0 2.83L4 21.41c.39.39.9.59 1.41.59.51 0 1.02-.2 1.41-.59l7.78-7.78 2.81-2.81c.8-.78.8-2.07 0-2.86zM5.41 20L4 18.59l7.72-7.72 1.47 1.35L5.41 20z\"/>\n",
              "  </svg>\n",
              "      </button>\n",
              "      \n",
              "  <style>\n",
              "    .colab-df-container {\n",
              "      display:flex;\n",
              "      flex-wrap:wrap;\n",
              "      gap: 12px;\n",
              "    }\n",
              "\n",
              "    .colab-df-convert {\n",
              "      background-color: #E8F0FE;\n",
              "      border: none;\n",
              "      border-radius: 50%;\n",
              "      cursor: pointer;\n",
              "      display: none;\n",
              "      fill: #1967D2;\n",
              "      height: 32px;\n",
              "      padding: 0 0 0 0;\n",
              "      width: 32px;\n",
              "    }\n",
              "\n",
              "    .colab-df-convert:hover {\n",
              "      background-color: #E2EBFA;\n",
              "      box-shadow: 0px 1px 2px rgba(60, 64, 67, 0.3), 0px 1px 3px 1px rgba(60, 64, 67, 0.15);\n",
              "      fill: #174EA6;\n",
              "    }\n",
              "\n",
              "    [theme=dark] .colab-df-convert {\n",
              "      background-color: #3B4455;\n",
              "      fill: #D2E3FC;\n",
              "    }\n",
              "\n",
              "    [theme=dark] .colab-df-convert:hover {\n",
              "      background-color: #434B5C;\n",
              "      box-shadow: 0px 1px 3px 1px rgba(0, 0, 0, 0.15);\n",
              "      filter: drop-shadow(0px 1px 2px rgba(0, 0, 0, 0.3));\n",
              "      fill: #FFFFFF;\n",
              "    }\n",
              "  </style>\n",
              "\n",
              "      <script>\n",
              "        const buttonEl =\n",
              "          document.querySelector('#df-633a7ef8-b31e-479f-b762-821e8e98318e button.colab-df-convert');\n",
              "        buttonEl.style.display =\n",
              "          google.colab.kernel.accessAllowed ? 'block' : 'none';\n",
              "\n",
              "        async function convertToInteractive(key) {\n",
              "          const element = document.querySelector('#df-633a7ef8-b31e-479f-b762-821e8e98318e');\n",
              "          const dataTable =\n",
              "            await google.colab.kernel.invokeFunction('convertToInteractive',\n",
              "                                                     [key], {});\n",
              "          if (!dataTable) return;\n",
              "\n",
              "          const docLinkHtml = 'Like what you see? Visit the ' +\n",
              "            '<a target=\"_blank\" href=https://colab.research.google.com/notebooks/data_table.ipynb>data table notebook</a>'\n",
              "            + ' to learn more about interactive tables.';\n",
              "          element.innerHTML = '';\n",
              "          dataTable['output_type'] = 'display_data';\n",
              "          await google.colab.output.renderOutput(dataTable, element);\n",
              "          const docLink = document.createElement('div');\n",
              "          docLink.innerHTML = docLinkHtml;\n",
              "          element.appendChild(docLink);\n",
              "        }\n",
              "      </script>\n",
              "    </div>\n",
              "  </div>\n",
              "  "
            ],
            "text/plain": [
              "                           crimetype  year  ...   latitude   longitude\n",
              "0                        Other Theft  2003  ...  49.269802 -123.083763\n",
              "1                        Other Theft  2003  ...  49.269802 -123.083763\n",
              "2                        Other Theft  2003  ...  49.269802 -123.083763\n",
              "3                        Other Theft  2003  ...  49.269802 -123.083763\n",
              "4                        Other Theft  2003  ...  49.269802 -123.083763\n",
              "5                        Other Theft  2003  ...  49.269802 -123.083763\n",
              "6  Break and Enter Residential/Other  2003  ...  49.228051 -123.146610\n",
              "7                           Mischief  2003  ...  49.255559 -123.193725\n",
              "8                        Other Theft  2003  ...  49.269802 -123.083763\n",
              "9  Break and Enter Residential/Other  2003  ...  49.267734 -123.067654\n",
              "\n",
              "[10 rows x 12 columns]"
            ]
          },
          "metadata": {}
        },
        {
          "output_type": "display_data",
          "data": {
            "application/javascript": [
              "window[\"71ef1c54-6710-11ec-87a2-0242ac1c0002\"] = google.colab.output.setActiveOutputArea(window[\"71e13d50-6710-11ec-87a2-0242ac1c0002\"]);\n",
              "//# sourceURL=js_14f77ad3c1"
            ],
            "text/plain": [
              "<IPython.core.display.Javascript object>"
            ]
          },
          "metadata": {}
        },
        {
          "output_type": "stream",
          "name": "stdout",
          "text": [
            " \n"
          ]
        },
        {
          "output_type": "display_data",
          "data": {
            "application/javascript": [
              "window[\"71f1f988-6710-11ec-87a2-0242ac1c0002\"] = google.colab.output.setActiveOutputArea(window[\"71de9b72-6710-11ec-87a2-0242ac1c0002\"]);\n",
              "//# sourceURL=js_3de44fbac9"
            ],
            "text/plain": [
              "<IPython.core.display.Javascript object>"
            ]
          },
          "metadata": {}
        },
        {
          "output_type": "display_data",
          "data": {
            "application/javascript": [
              "window[\"71f49120-6710-11ec-87a2-0242ac1c0002\"] = google.colab.output.getActiveOutputArea();\n",
              "//# sourceURL=js_058536b6e4"
            ],
            "text/plain": [
              "<IPython.core.display.Javascript object>"
            ]
          },
          "metadata": {}
        },
        {
          "output_type": "display_data",
          "data": {
            "application/javascript": [
              "window[\"71f4da40-6710-11ec-87a2-0242ac1c0002\"] = document.querySelector(\"#id226_content_1\");\n",
              "//# sourceURL=js_b6b2ce735a"
            ],
            "text/plain": [
              "<IPython.core.display.Javascript object>"
            ]
          },
          "metadata": {}
        },
        {
          "output_type": "display_data",
          "data": {
            "application/javascript": [
              "window[\"71f51e42-6710-11ec-87a2-0242ac1c0002\"] = google.colab.output.setActiveOutputArea(window[\"71f4da40-6710-11ec-87a2-0242ac1c0002\"]);\n",
              "//# sourceURL=js_87629cf514"
            ],
            "text/plain": [
              "<IPython.core.display.Javascript object>"
            ]
          },
          "metadata": {}
        },
        {
          "output_type": "display_data",
          "data": {
            "application/javascript": [
              "window[\"71f5f5ba-6710-11ec-87a2-0242ac1c0002\"] = window[\"id226\"].setSelectedTabIndex(1);\n",
              "//# sourceURL=js_73adb4df7a"
            ],
            "text/plain": [
              "<IPython.core.display.Javascript object>"
            ]
          },
          "metadata": {}
        },
        {
          "output_type": "display_data",
          "data": {
            "application/javascript": [
              "window[\"71f7a4d2-6710-11ec-87a2-0242ac1c0002\"] = google.colab.output.getActiveOutputArea();\n",
              "//# sourceURL=js_75473bd766"
            ],
            "text/plain": [
              "<IPython.core.display.Javascript object>"
            ]
          },
          "metadata": {}
        },
        {
          "output_type": "display_data",
          "data": {
            "application/javascript": [
              "window[\"71f7e6b8-6710-11ec-87a2-0242ac1c0002\"] = document.querySelector(\"#id228_content_1\");\n",
              "//# sourceURL=js_6be05a6db8"
            ],
            "text/plain": [
              "<IPython.core.display.Javascript object>"
            ]
          },
          "metadata": {}
        },
        {
          "output_type": "display_data",
          "data": {
            "application/javascript": [
              "window[\"71f82fa6-6710-11ec-87a2-0242ac1c0002\"] = google.colab.output.setActiveOutputArea(window[\"71f7e6b8-6710-11ec-87a2-0242ac1c0002\"]);\n",
              "//# sourceURL=js_287d7a9f99"
            ],
            "text/plain": [
              "<IPython.core.display.Javascript object>"
            ]
          },
          "metadata": {}
        },
        {
          "output_type": "display_data",
          "data": {
            "application/javascript": [
              "window[\"71f87c36-6710-11ec-87a2-0242ac1c0002\"] = window[\"id228\"].setSelectedTabIndex(1);\n",
              "//# sourceURL=js_23bdee0f38"
            ],
            "text/plain": [
              "<IPython.core.display.Javascript object>"
            ]
          },
          "metadata": {}
        },
        {
          "output_type": "stream",
          "name": "stdout",
          "text": [
            "The following table is stored at \u001b[1mNumCrimes\u001b[0m variable.\n"
          ]
        },
        {
          "output_type": "display_data",
          "data": {
            "application/vnd.google.colaboratory.module+javascript": "\n      import \"https://ssl.gstatic.com/colaboratory/data_table/a6224c040fa35dcf/data_table.js\";\n\n      window.createDataTable({\n        data: [[{\n            'v': 0,\n            'f': \"0\",\n        },\n{\n            'v': 530652,\n            'f': \"530652\",\n        }]],\n        columns: [[\"number\", \"index\"], [\"number\", \"logica_value\"]],\n        columnOptions: [{\"width\": \"1px\", \"className\": \"index_column\"}],\n        rowsPerPage: 25,\n        helpUrl: \"https://colab.research.google.com/notebooks/data_table.ipynb\",\n        suppressOutputScrolling: true,\n        minimumWidth: undefined,\n      });\n    ",
            "text/html": [
              "\n",
              "  <div id=\"df-02ec0f22-019b-499b-a9fe-8b3271f57eac\">\n",
              "    <div class=\"colab-df-container\">\n",
              "      <div>\n",
              "<style scoped>\n",
              "    .dataframe tbody tr th:only-of-type {\n",
              "        vertical-align: middle;\n",
              "    }\n",
              "\n",
              "    .dataframe tbody tr th {\n",
              "        vertical-align: top;\n",
              "    }\n",
              "\n",
              "    .dataframe thead th {\n",
              "        text-align: right;\n",
              "    }\n",
              "</style>\n",
              "<table border=\"1\" class=\"dataframe\">\n",
              "  <thead>\n",
              "    <tr style=\"text-align: right;\">\n",
              "      <th></th>\n",
              "      <th>logica_value</th>\n",
              "    </tr>\n",
              "  </thead>\n",
              "  <tbody>\n",
              "    <tr>\n",
              "      <th>0</th>\n",
              "      <td>530652</td>\n",
              "    </tr>\n",
              "  </tbody>\n",
              "</table>\n",
              "</div>\n",
              "      <button class=\"colab-df-convert\" onclick=\"convertToInteractive('df-02ec0f22-019b-499b-a9fe-8b3271f57eac')\"\n",
              "              title=\"Convert this dataframe to an interactive table.\"\n",
              "              style=\"display:none;\">\n",
              "        \n",
              "  <svg xmlns=\"http://www.w3.org/2000/svg\" height=\"24px\"viewBox=\"0 0 24 24\"\n",
              "       width=\"24px\">\n",
              "    <path d=\"M0 0h24v24H0V0z\" fill=\"none\"/>\n",
              "    <path d=\"M18.56 5.44l.94 2.06.94-2.06 2.06-.94-2.06-.94-.94-2.06-.94 2.06-2.06.94zm-11 1L8.5 8.5l.94-2.06 2.06-.94-2.06-.94L8.5 2.5l-.94 2.06-2.06.94zm10 10l.94 2.06.94-2.06 2.06-.94-2.06-.94-.94-2.06-.94 2.06-2.06.94z\"/><path d=\"M17.41 7.96l-1.37-1.37c-.4-.4-.92-.59-1.43-.59-.52 0-1.04.2-1.43.59L10.3 9.45l-7.72 7.72c-.78.78-.78 2.05 0 2.83L4 21.41c.39.39.9.59 1.41.59.51 0 1.02-.2 1.41-.59l7.78-7.78 2.81-2.81c.8-.78.8-2.07 0-2.86zM5.41 20L4 18.59l7.72-7.72 1.47 1.35L5.41 20z\"/>\n",
              "  </svg>\n",
              "      </button>\n",
              "      \n",
              "  <style>\n",
              "    .colab-df-container {\n",
              "      display:flex;\n",
              "      flex-wrap:wrap;\n",
              "      gap: 12px;\n",
              "    }\n",
              "\n",
              "    .colab-df-convert {\n",
              "      background-color: #E8F0FE;\n",
              "      border: none;\n",
              "      border-radius: 50%;\n",
              "      cursor: pointer;\n",
              "      display: none;\n",
              "      fill: #1967D2;\n",
              "      height: 32px;\n",
              "      padding: 0 0 0 0;\n",
              "      width: 32px;\n",
              "    }\n",
              "\n",
              "    .colab-df-convert:hover {\n",
              "      background-color: #E2EBFA;\n",
              "      box-shadow: 0px 1px 2px rgba(60, 64, 67, 0.3), 0px 1px 3px 1px rgba(60, 64, 67, 0.15);\n",
              "      fill: #174EA6;\n",
              "    }\n",
              "\n",
              "    [theme=dark] .colab-df-convert {\n",
              "      background-color: #3B4455;\n",
              "      fill: #D2E3FC;\n",
              "    }\n",
              "\n",
              "    [theme=dark] .colab-df-convert:hover {\n",
              "      background-color: #434B5C;\n",
              "      box-shadow: 0px 1px 3px 1px rgba(0, 0, 0, 0.15);\n",
              "      filter: drop-shadow(0px 1px 2px rgba(0, 0, 0, 0.3));\n",
              "      fill: #FFFFFF;\n",
              "    }\n",
              "  </style>\n",
              "\n",
              "      <script>\n",
              "        const buttonEl =\n",
              "          document.querySelector('#df-02ec0f22-019b-499b-a9fe-8b3271f57eac button.colab-df-convert');\n",
              "        buttonEl.style.display =\n",
              "          google.colab.kernel.accessAllowed ? 'block' : 'none';\n",
              "\n",
              "        async function convertToInteractive(key) {\n",
              "          const element = document.querySelector('#df-02ec0f22-019b-499b-a9fe-8b3271f57eac');\n",
              "          const dataTable =\n",
              "            await google.colab.kernel.invokeFunction('convertToInteractive',\n",
              "                                                     [key], {});\n",
              "          if (!dataTable) return;\n",
              "\n",
              "          const docLinkHtml = 'Like what you see? Visit the ' +\n",
              "            '<a target=\"_blank\" href=https://colab.research.google.com/notebooks/data_table.ipynb>data table notebook</a>'\n",
              "            + ' to learn more about interactive tables.';\n",
              "          element.innerHTML = '';\n",
              "          dataTable['output_type'] = 'display_data';\n",
              "          await google.colab.output.renderOutput(dataTable, element);\n",
              "          const docLink = document.createElement('div');\n",
              "          docLink.innerHTML = docLinkHtml;\n",
              "          element.appendChild(docLink);\n",
              "        }\n",
              "      </script>\n",
              "    </div>\n",
              "  </div>\n",
              "  "
            ],
            "text/plain": [
              "   logica_value\n",
              "0        530652"
            ]
          },
          "metadata": {}
        },
        {
          "output_type": "display_data",
          "data": {
            "application/javascript": [
              "window[\"71fcf950-6710-11ec-87a2-0242ac1c0002\"] = google.colab.output.setActiveOutputArea(window[\"71f7a4d2-6710-11ec-87a2-0242ac1c0002\"]);\n",
              "//# sourceURL=js_1d8ae2f20a"
            ],
            "text/plain": [
              "<IPython.core.display.Javascript object>"
            ]
          },
          "metadata": {}
        },
        {
          "output_type": "stream",
          "name": "stdout",
          "text": [
            " \n"
          ]
        },
        {
          "output_type": "display_data",
          "data": {
            "application/javascript": [
              "window[\"71fe4544-6710-11ec-87a2-0242ac1c0002\"] = google.colab.output.setActiveOutputArea(window[\"71f49120-6710-11ec-87a2-0242ac1c0002\"]);\n",
              "//# sourceURL=js_2accaf601c"
            ],
            "text/plain": [
              "<IPython.core.display.Javascript object>"
            ]
          },
          "metadata": {}
        },
        {
          "output_type": "display_data",
          "data": {
            "application/javascript": [
              "window[\"71ffdf76-6710-11ec-87a2-0242ac1c0002\"] = google.colab.output.getActiveOutputArea();\n",
              "//# sourceURL=js_d52b23f416"
            ],
            "text/plain": [
              "<IPython.core.display.Javascript object>"
            ]
          },
          "metadata": {}
        },
        {
          "output_type": "display_data",
          "data": {
            "application/javascript": [
              "window[\"720029cc-6710-11ec-87a2-0242ac1c0002\"] = document.querySelector(\"#id226_content_2\");\n",
              "//# sourceURL=js_5398ff6921"
            ],
            "text/plain": [
              "<IPython.core.display.Javascript object>"
            ]
          },
          "metadata": {}
        },
        {
          "output_type": "display_data",
          "data": {
            "application/javascript": [
              "window[\"72006d24-6710-11ec-87a2-0242ac1c0002\"] = google.colab.output.setActiveOutputArea(window[\"720029cc-6710-11ec-87a2-0242ac1c0002\"]);\n",
              "//# sourceURL=js_2fcf23778f"
            ],
            "text/plain": [
              "<IPython.core.display.Javascript object>"
            ]
          },
          "metadata": {}
        },
        {
          "output_type": "display_data",
          "data": {
            "application/javascript": [
              "window[\"7200ba72-6710-11ec-87a2-0242ac1c0002\"] = window[\"id226\"].setSelectedTabIndex(2);\n",
              "//# sourceURL=js_bc3e6791b1"
            ],
            "text/plain": [
              "<IPython.core.display.Javascript object>"
            ]
          },
          "metadata": {}
        },
        {
          "output_type": "display_data",
          "data": {
            "application/javascript": [
              "window[\"7201efd2-6710-11ec-87a2-0242ac1c0002\"] = google.colab.output.getActiveOutputArea();\n",
              "//# sourceURL=js_4305791c69"
            ],
            "text/plain": [
              "<IPython.core.display.Javascript object>"
            ]
          },
          "metadata": {}
        },
        {
          "output_type": "display_data",
          "data": {
            "application/javascript": [
              "window[\"72023258-6710-11ec-87a2-0242ac1c0002\"] = document.querySelector(\"#id229_content_1\");\n",
              "//# sourceURL=js_ec02ac3062"
            ],
            "text/plain": [
              "<IPython.core.display.Javascript object>"
            ]
          },
          "metadata": {}
        },
        {
          "output_type": "display_data",
          "data": {
            "application/javascript": [
              "window[\"7202858c-6710-11ec-87a2-0242ac1c0002\"] = google.colab.output.setActiveOutputArea(window[\"72023258-6710-11ec-87a2-0242ac1c0002\"]);\n",
              "//# sourceURL=js_a48fe5a12e"
            ],
            "text/plain": [
              "<IPython.core.display.Javascript object>"
            ]
          },
          "metadata": {}
        },
        {
          "output_type": "display_data",
          "data": {
            "application/javascript": [
              "window[\"7202c722-6710-11ec-87a2-0242ac1c0002\"] = window[\"id229\"].setSelectedTabIndex(1);\n",
              "//# sourceURL=js_e73eab39d3"
            ],
            "text/plain": [
              "<IPython.core.display.Javascript object>"
            ]
          },
          "metadata": {}
        },
        {
          "output_type": "stream",
          "name": "stdout",
          "text": [
            "The following table is stored at \u001b[1mCrimeCountAtHour\u001b[0m variable.\n"
          ]
        },
        {
          "output_type": "display_data",
          "data": {
            "application/vnd.google.colaboratory.module+javascript": "\n      import \"https://ssl.gstatic.com/colaboratory/data_table/a6224c040fa35dcf/data_table.js\";\n\n      window.createDataTable({\n        data: [[{\n            'v': 0,\n            'f': \"0\",\n        },\n{\n            'v': NaN,\n            'f': \"NaN\",\n        },\n\"Homicide\",\n{\n            'v': 220,\n            'f': \"220\",\n        }],\n [{\n            'v': 1,\n            'f': \"1\",\n        },\n{\n            'v': NaN,\n            'f': \"NaN\",\n        },\n\"Offence Against a Person\",\n{\n            'v': 54142,\n            'f': \"54142\",\n        }],\n [{\n            'v': 2,\n            'f': \"2\",\n        },\n{\n            'v': 0.0,\n            'f': \"0.0\",\n        },\n\"Break and Enter Commercial\",\n{\n            'v': 2326,\n            'f': \"2326\",\n        }],\n [{\n            'v': 3,\n            'f': \"3\",\n        },\n{\n            'v': 0.0,\n            'f': \"0.0\",\n        },\n\"Break and Enter Residential/Other\",\n{\n            'v': 3049,\n            'f': \"3049\",\n        }],\n [{\n            'v': 4,\n            'f': \"4\",\n        },\n{\n            'v': 0.0,\n            'f': \"0.0\",\n        },\n\"Mischief\",\n{\n            'v': 5616,\n            'f': \"5616\",\n        }],\n [{\n            'v': 5,\n            'f': \"5\",\n        },\n{\n            'v': 0.0,\n            'f': \"0.0\",\n        },\n\"Other Theft\",\n{\n            'v': 369,\n            'f': \"369\",\n        }],\n [{\n            'v': 6,\n            'f': \"6\",\n        },\n{\n            'v': 0.0,\n            'f': \"0.0\",\n        },\n\"Theft from Vehicle\",\n{\n            'v': 11328,\n            'f': \"11328\",\n        }],\n [{\n            'v': 7,\n            'f': \"7\",\n        },\n{\n            'v': 0.0,\n            'f': \"0.0\",\n        },\n\"Theft of Bicycle\",\n{\n            'v': 1687,\n            'f': \"1687\",\n        }],\n [{\n            'v': 8,\n            'f': \"8\",\n        },\n{\n            'v': 0.0,\n            'f': \"0.0\",\n        },\n\"Theft of Vehicle\",\n{\n            'v': 2316,\n            'f': \"2316\",\n        }],\n [{\n            'v': 9,\n            'f': \"9\",\n        },\n{\n            'v': 0.0,\n            'f': \"0.0\",\n        },\n\"Vehicle Collision or Pedestrian Struck (with Fatality)\",\n{\n            'v': 9,\n            'f': \"9\",\n        }],\n [{\n            'v': 10,\n            'f': \"10\",\n        },\n{\n            'v': 0.0,\n            'f': \"0.0\",\n        },\n\"Vehicle Collision or Pedestrian Struck (with Injury)\",\n{\n            'v': 477,\n            'f': \"477\",\n        }],\n [{\n            'v': 11,\n            'f': \"11\",\n        },\n{\n            'v': 1.0,\n            'f': \"1.0\",\n        },\n\"Break and Enter Commercial\",\n{\n            'v': 1635,\n            'f': \"1635\",\n        }],\n [{\n            'v': 12,\n            'f': \"12\",\n        },\n{\n            'v': 1.0,\n            'f': \"1.0\",\n        },\n\"Break and Enter Residential/Other\",\n{\n            'v': 1345,\n            'f': \"1345\",\n        }],\n [{\n            'v': 13,\n            'f': \"13\",\n        },\n{\n            'v': 1.0,\n            'f': \"1.0\",\n        },\n\"Mischief\",\n{\n            'v': 3390,\n            'f': \"3390\",\n        }],\n [{\n            'v': 14,\n            'f': \"14\",\n        },\n{\n            'v': 1.0,\n            'f': \"1.0\",\n        },\n\"Other Theft\",\n{\n            'v': 285,\n            'f': \"285\",\n        }],\n [{\n            'v': 15,\n            'f': \"15\",\n        },\n{\n            'v': 1.0,\n            'f': \"1.0\",\n        },\n\"Theft from Vehicle\",\n{\n            'v': 4012,\n            'f': \"4012\",\n        }],\n [{\n            'v': 16,\n            'f': \"16\",\n        },\n{\n            'v': 1.0,\n            'f': \"1.0\",\n        },\n\"Theft of Bicycle\",\n{\n            'v': 500,\n            'f': \"500\",\n        }],\n [{\n            'v': 17,\n            'f': \"17\",\n        },\n{\n            'v': 1.0,\n            'f': \"1.0\",\n        },\n\"Theft of Vehicle\",\n{\n            'v': 1093,\n            'f': \"1093\",\n        }],\n [{\n            'v': 18,\n            'f': \"18\",\n        },\n{\n            'v': 1.0,\n            'f': \"1.0\",\n        },\n\"Vehicle Collision or Pedestrian Struck (with Fatality)\",\n{\n            'v': 12,\n            'f': \"12\",\n        }],\n [{\n            'v': 19,\n            'f': \"19\",\n        },\n{\n            'v': 1.0,\n            'f': \"1.0\",\n        },\n\"Vehicle Collision or Pedestrian Struck (with Injury)\",\n{\n            'v': 449,\n            'f': \"449\",\n        }],\n [{\n            'v': 20,\n            'f': \"20\",\n        },\n{\n            'v': 2.0,\n            'f': \"2.0\",\n        },\n\"Break and Enter Commercial\",\n{\n            'v': 1808,\n            'f': \"1808\",\n        }],\n [{\n            'v': 21,\n            'f': \"21\",\n        },\n{\n            'v': 2.0,\n            'f': \"2.0\",\n        },\n\"Break and Enter Residential/Other\",\n{\n            'v': 1188,\n            'f': \"1188\",\n        }],\n [{\n            'v': 22,\n            'f': \"22\",\n        },\n{\n            'v': 2.0,\n            'f': \"2.0\",\n        },\n\"Mischief\",\n{\n            'v': 2819,\n            'f': \"2819\",\n        }],\n [{\n            'v': 23,\n            'f': \"23\",\n        },\n{\n            'v': 2.0,\n            'f': \"2.0\",\n        },\n\"Other Theft\",\n{\n            'v': 223,\n            'f': \"223\",\n        }],\n [{\n            'v': 24,\n            'f': \"24\",\n        },\n{\n            'v': 2.0,\n            'f': \"2.0\",\n        },\n\"Theft from Vehicle\",\n{\n            'v': 2786,\n            'f': \"2786\",\n        }],\n [{\n            'v': 25,\n            'f': \"25\",\n        },\n{\n            'v': 2.0,\n            'f': \"2.0\",\n        },\n\"Theft of Bicycle\",\n{\n            'v': 314,\n            'f': \"314\",\n        }],\n [{\n            'v': 26,\n            'f': \"26\",\n        },\n{\n            'v': 2.0,\n            'f': \"2.0\",\n        },\n\"Theft of Vehicle\",\n{\n            'v': 813,\n            'f': \"813\",\n        }],\n [{\n            'v': 27,\n            'f': \"27\",\n        },\n{\n            'v': 2.0,\n            'f': \"2.0\",\n        },\n\"Vehicle Collision or Pedestrian Struck (with Fatality)\",\n{\n            'v': 6,\n            'f': \"6\",\n        }],\n [{\n            'v': 28,\n            'f': \"28\",\n        },\n{\n            'v': 2.0,\n            'f': \"2.0\",\n        },\n\"Vehicle Collision or Pedestrian Struck (with Injury)\",\n{\n            'v': 380,\n            'f': \"380\",\n        }],\n [{\n            'v': 29,\n            'f': \"29\",\n        },\n{\n            'v': 3.0,\n            'f': \"3.0\",\n        },\n\"Break and Enter Commercial\",\n{\n            'v': 2267,\n            'f': \"2267\",\n        }],\n [{\n            'v': 30,\n            'f': \"30\",\n        },\n{\n            'v': 3.0,\n            'f': \"3.0\",\n        },\n\"Break and Enter Residential/Other\",\n{\n            'v': 1099,\n            'f': \"1099\",\n        }],\n [{\n            'v': 31,\n            'f': \"31\",\n        },\n{\n            'v': 3.0,\n            'f': \"3.0\",\n        },\n\"Mischief\",\n{\n            'v': 2189,\n            'f': \"2189\",\n        }],\n [{\n            'v': 32,\n            'f': \"32\",\n        },\n{\n            'v': 3.0,\n            'f': \"3.0\",\n        },\n\"Other Theft\",\n{\n            'v': 192,\n            'f': \"192\",\n        }],\n [{\n            'v': 33,\n            'f': \"33\",\n        },\n{\n            'v': 3.0,\n            'f': \"3.0\",\n        },\n\"Theft from Vehicle\",\n{\n            'v': 1976,\n            'f': \"1976\",\n        }],\n [{\n            'v': 34,\n            'f': \"34\",\n        },\n{\n            'v': 3.0,\n            'f': \"3.0\",\n        },\n\"Theft of Bicycle\",\n{\n            'v': 205,\n            'f': \"205\",\n        }],\n [{\n            'v': 35,\n            'f': \"35\",\n        },\n{\n            'v': 3.0,\n            'f': \"3.0\",\n        },\n\"Theft of Vehicle\",\n{\n            'v': 499,\n            'f': \"499\",\n        }],\n [{\n            'v': 36,\n            'f': \"36\",\n        },\n{\n            'v': 3.0,\n            'f': \"3.0\",\n        },\n\"Vehicle Collision or Pedestrian Struck (with Fatality)\",\n{\n            'v': 11,\n            'f': \"11\",\n        }],\n [{\n            'v': 37,\n            'f': \"37\",\n        },\n{\n            'v': 3.0,\n            'f': \"3.0\",\n        },\n\"Vehicle Collision or Pedestrian Struck (with Injury)\",\n{\n            'v': 319,\n            'f': \"319\",\n        }],\n [{\n            'v': 38,\n            'f': \"38\",\n        },\n{\n            'v': 4.0,\n            'f': \"4.0\",\n        },\n\"Break and Enter Commercial\",\n{\n            'v': 2589,\n            'f': \"2589\",\n        }],\n [{\n            'v': 39,\n            'f': \"39\",\n        },\n{\n            'v': 4.0,\n            'f': \"4.0\",\n        },\n\"Break and Enter Residential/Other\",\n{\n            'v': 1026,\n            'f': \"1026\",\n        }],\n [{\n            'v': 40,\n            'f': \"40\",\n        },\n{\n            'v': 4.0,\n            'f': \"4.0\",\n        },\n\"Mischief\",\n{\n            'v': 1636,\n            'f': \"1636\",\n        }],\n [{\n            'v': 41,\n            'f': \"41\",\n        },\n{\n            'v': 4.0,\n            'f': \"4.0\",\n        },\n\"Other Theft\",\n{\n            'v': 156,\n            'f': \"156\",\n        }],\n [{\n            'v': 42,\n            'f': \"42\",\n        },\n{\n            'v': 4.0,\n            'f': \"4.0\",\n        },\n\"Theft from Vehicle\",\n{\n            'v': 1674,\n            'f': \"1674\",\n        }],\n [{\n            'v': 43,\n            'f': \"43\",\n        },\n{\n            'v': 4.0,\n            'f': \"4.0\",\n        },\n\"Theft of Bicycle\",\n{\n            'v': 189,\n            'f': \"189\",\n        }],\n [{\n            'v': 44,\n            'f': \"44\",\n        },\n{\n            'v': 4.0,\n            'f': \"4.0\",\n        },\n\"Theft of Vehicle\",\n{\n            'v': 408,\n            'f': \"408\",\n        }],\n [{\n            'v': 45,\n            'f': \"45\",\n        },\n{\n            'v': 4.0,\n            'f': \"4.0\",\n        },\n\"Vehicle Collision or Pedestrian Struck (with Fatality)\",\n{\n            'v': 10,\n            'f': \"10\",\n        }],\n [{\n            'v': 46,\n            'f': \"46\",\n        },\n{\n            'v': 4.0,\n            'f': \"4.0\",\n        },\n\"Vehicle Collision or Pedestrian Struck (with Injury)\",\n{\n            'v': 224,\n            'f': \"224\",\n        }],\n [{\n            'v': 47,\n            'f': \"47\",\n        },\n{\n            'v': 5.0,\n            'f': \"5.0\",\n        },\n\"Break and Enter Commercial\",\n{\n            'v': 2383,\n            'f': \"2383\",\n        }],\n [{\n            'v': 48,\n            'f': \"48\",\n        },\n{\n            'v': 5.0,\n            'f': \"5.0\",\n        },\n\"Break and Enter Residential/Other\",\n{\n            'v': 1037,\n            'f': \"1037\",\n        }],\n [{\n            'v': 49,\n            'f': \"49\",\n        },\n{\n            'v': 5.0,\n            'f': \"5.0\",\n        },\n\"Mischief\",\n{\n            'v': 1336,\n            'f': \"1336\",\n        }],\n [{\n            'v': 50,\n            'f': \"50\",\n        },\n{\n            'v': 5.0,\n            'f': \"5.0\",\n        },\n\"Other Theft\",\n{\n            'v': 179,\n            'f': \"179\",\n        }],\n [{\n            'v': 51,\n            'f': \"51\",\n        },\n{\n            'v': 5.0,\n            'f': \"5.0\",\n        },\n\"Theft from Vehicle\",\n{\n            'v': 1704,\n            'f': \"1704\",\n        }],\n [{\n            'v': 52,\n            'f': \"52\",\n        },\n{\n            'v': 5.0,\n            'f': \"5.0\",\n        },\n\"Theft of Bicycle\",\n{\n            'v': 204,\n            'f': \"204\",\n        }],\n [{\n            'v': 53,\n            'f': \"53\",\n        },\n{\n            'v': 5.0,\n            'f': \"5.0\",\n        },\n\"Theft of Vehicle\",\n{\n            'v': 348,\n            'f': \"348\",\n        }],\n [{\n            'v': 54,\n            'f': \"54\",\n        },\n{\n            'v': 5.0,\n            'f': \"5.0\",\n        },\n\"Vehicle Collision or Pedestrian Struck (with Fatality)\",\n{\n            'v': 8,\n            'f': \"8\",\n        }],\n [{\n            'v': 55,\n            'f': \"55\",\n        },\n{\n            'v': 5.0,\n            'f': \"5.0\",\n        },\n\"Vehicle Collision or Pedestrian Struck (with Injury)\",\n{\n            'v': 263,\n            'f': \"263\",\n        }],\n [{\n            'v': 56,\n            'f': \"56\",\n        },\n{\n            'v': 6.0,\n            'f': \"6.0\",\n        },\n\"Break and Enter Commercial\",\n{\n            'v': 1489,\n            'f': \"1489\",\n        }],\n [{\n            'v': 57,\n            'f': \"57\",\n        },\n{\n            'v': 6.0,\n            'f': \"6.0\",\n        },\n\"Break and Enter Residential/Other\",\n{\n            'v': 1397,\n            'f': \"1397\",\n        }],\n [{\n            'v': 58,\n            'f': \"58\",\n        },\n{\n            'v': 6.0,\n            'f': \"6.0\",\n        },\n\"Mischief\",\n{\n            'v': 1283,\n            'f': \"1283\",\n        }],\n [{\n            'v': 59,\n            'f': \"59\",\n        },\n{\n            'v': 6.0,\n            'f': \"6.0\",\n        },\n\"Other Theft\",\n{\n            'v': 225,\n            'f': \"225\",\n        }],\n [{\n            'v': 60,\n            'f': \"60\",\n        },\n{\n            'v': 6.0,\n            'f': \"6.0\",\n        },\n\"Theft from Vehicle\",\n{\n            'v': 2336,\n            'f': \"2336\",\n        }],\n [{\n            'v': 61,\n            'f': \"61\",\n        },\n{\n            'v': 6.0,\n            'f': \"6.0\",\n        },\n\"Theft of Bicycle\",\n{\n            'v': 320,\n            'f': \"320\",\n        }],\n [{\n            'v': 62,\n            'f': \"62\",\n        },\n{\n            'v': 6.0,\n            'f': \"6.0\",\n        },\n\"Theft of Vehicle\",\n{\n            'v': 538,\n            'f': \"538\",\n        }],\n [{\n            'v': 63,\n            'f': \"63\",\n        },\n{\n            'v': 6.0,\n            'f': \"6.0\",\n        },\n\"Vehicle Collision or Pedestrian Struck (with Fatality)\",\n{\n            'v': 3,\n            'f': \"3\",\n        }],\n [{\n            'v': 64,\n            'f': \"64\",\n        },\n{\n            'v': 6.0,\n            'f': \"6.0\",\n        },\n\"Vehicle Collision or Pedestrian Struck (with Injury)\",\n{\n            'v': 510,\n            'f': \"510\",\n        }],\n [{\n            'v': 65,\n            'f': \"65\",\n        },\n{\n            'v': 7.0,\n            'f': \"7.0\",\n        },\n\"Break and Enter Commercial\",\n{\n            'v': 990,\n            'f': \"990\",\n        }],\n [{\n            'v': 66,\n            'f': \"66\",\n        },\n{\n            'v': 7.0,\n            'f': \"7.0\",\n        },\n\"Break and Enter Residential/Other\",\n{\n            'v': 2220,\n            'f': \"2220\",\n        }],\n [{\n            'v': 67,\n            'f': \"67\",\n        },\n{\n            'v': 7.0,\n            'f': \"7.0\",\n        },\n\"Mischief\",\n{\n            'v': 1531,\n            'f': \"1531\",\n        }],\n [{\n            'v': 68,\n            'f': \"68\",\n        },\n{\n            'v': 7.0,\n            'f': \"7.0\",\n        },\n\"Other Theft\",\n{\n            'v': 368,\n            'f': \"368\",\n        }],\n [{\n            'v': 69,\n            'f': \"69\",\n        },\n{\n            'v': 7.0,\n            'f': \"7.0\",\n        },\n\"Theft from Vehicle\",\n{\n            'v': 3568,\n            'f': \"3568\",\n        }],\n [{\n            'v': 70,\n            'f': \"70\",\n        },\n{\n            'v': 7.0,\n            'f': \"7.0\",\n        },\n\"Theft of Bicycle\",\n{\n            'v': 571,\n            'f': \"571\",\n        }],\n [{\n            'v': 71,\n            'f': \"71\",\n        },\n{\n            'v': 7.0,\n            'f': \"7.0\",\n        },\n\"Theft of Vehicle\",\n{\n            'v': 729,\n            'f': \"729\",\n        }],\n [{\n            'v': 72,\n            'f': \"72\",\n        },\n{\n            'v': 7.0,\n            'f': \"7.0\",\n        },\n\"Vehicle Collision or Pedestrian Struck (with Fatality)\",\n{\n            'v': 6,\n            'f': \"6\",\n        }],\n [{\n            'v': 73,\n            'f': \"73\",\n        },\n{\n            'v': 7.0,\n            'f': \"7.0\",\n        },\n\"Vehicle Collision or Pedestrian Struck (with Injury)\",\n{\n            'v': 819,\n            'f': \"819\",\n        }],\n [{\n            'v': 74,\n            'f': \"74\",\n        },\n{\n            'v': 8.0,\n            'f': \"8.0\",\n        },\n\"Break and Enter Commercial\",\n{\n            'v': 822,\n            'f': \"822\",\n        }],\n [{\n            'v': 75,\n            'f': \"75\",\n        },\n{\n            'v': 8.0,\n            'f': \"8.0\",\n        },\n\"Break and Enter Residential/Other\",\n{\n            'v': 3730,\n            'f': \"3730\",\n        }],\n [{\n            'v': 76,\n            'f': \"76\",\n        },\n{\n            'v': 8.0,\n            'f': \"8.0\",\n        },\n\"Mischief\",\n{\n            'v': 2157,\n            'f': \"2157\",\n        }],\n [{\n            'v': 77,\n            'f': \"77\",\n        },\n{\n            'v': 8.0,\n            'f': \"8.0\",\n        },\n\"Other Theft\",\n{\n            'v': 623,\n            'f': \"623\",\n        }],\n [{\n            'v': 78,\n            'f': \"78\",\n        },\n{\n            'v': 8.0,\n            'f': \"8.0\",\n        },\n\"Theft from Vehicle\",\n{\n            'v': 5296,\n            'f': \"5296\",\n        }],\n [{\n            'v': 79,\n            'f': \"79\",\n        },\n{\n            'v': 8.0,\n            'f': \"8.0\",\n        },\n\"Theft of Bicycle\",\n{\n            'v': 1095,\n            'f': \"1095\",\n        }],\n [{\n            'v': 80,\n            'f': \"80\",\n        },\n{\n            'v': 8.0,\n            'f': \"8.0\",\n        },\n\"Theft of Vehicle\",\n{\n            'v': 1056,\n            'f': \"1056\",\n        }],\n [{\n            'v': 81,\n            'f': \"81\",\n        },\n{\n            'v': 8.0,\n            'f': \"8.0\",\n        },\n\"Vehicle Collision or Pedestrian Struck (with Fatality)\",\n{\n            'v': 6,\n            'f': \"6\",\n        }],\n [{\n            'v': 82,\n            'f': \"82\",\n        },\n{\n            'v': 8.0,\n            'f': \"8.0\",\n        },\n\"Vehicle Collision or Pedestrian Struck (with Injury)\",\n{\n            'v': 1149,\n            'f': \"1149\",\n        }],\n [{\n            'v': 83,\n            'f': \"83\",\n        },\n{\n            'v': 9.0,\n            'f': \"9.0\",\n        },\n\"Break and Enter Commercial\",\n{\n            'v': 771,\n            'f': \"771\",\n        }],\n [{\n            'v': 84,\n            'f': \"84\",\n        },\n{\n            'v': 9.0,\n            'f': \"9.0\",\n        },\n\"Break and Enter Residential/Other\",\n{\n            'v': 3247,\n            'f': \"3247\",\n        }],\n [{\n            'v': 85,\n            'f': \"85\",\n        },\n{\n            'v': 9.0,\n            'f': \"9.0\",\n        },\n\"Mischief\",\n{\n            'v': 2205,\n            'f': \"2205\",\n        }],\n [{\n            'v': 86,\n            'f': \"86\",\n        },\n{\n            'v': 9.0,\n            'f': \"9.0\",\n        },\n\"Other Theft\",\n{\n            'v': 1355,\n            'f': \"1355\",\n        }],\n [{\n            'v': 87,\n            'f': \"87\",\n        },\n{\n            'v': 9.0,\n            'f': \"9.0\",\n        },\n\"Theft from Vehicle\",\n{\n            'v': 5648,\n            'f': \"5648\",\n        }],\n [{\n            'v': 88,\n            'f': \"88\",\n        },\n{\n            'v': 9.0,\n            'f': \"9.0\",\n        },\n\"Theft of Bicycle\",\n{\n            'v': 1121,\n            'f': \"1121\",\n        }],\n [{\n            'v': 89,\n            'f': \"89\",\n        },\n{\n            'v': 9.0,\n            'f': \"9.0\",\n        },\n\"Theft of Vehicle\",\n{\n            'v': 1073,\n            'f': \"1073\",\n        }],\n [{\n            'v': 90,\n            'f': \"90\",\n        },\n{\n            'v': 9.0,\n            'f': \"9.0\",\n        },\n\"Vehicle Collision or Pedestrian Struck (with Fatality)\",\n{\n            'v': 10,\n            'f': \"10\",\n        }],\n [{\n            'v': 91,\n            'f': \"91\",\n        },\n{\n            'v': 9.0,\n            'f': \"9.0\",\n        },\n\"Vehicle Collision or Pedestrian Struck (with Injury)\",\n{\n            'v': 1046,\n            'f': \"1046\",\n        }],\n [{\n            'v': 92,\n            'f': \"92\",\n        },\n{\n            'v': 10.0,\n            'f': \"10.0\",\n        },\n\"Break and Enter Commercial\",\n{\n            'v': 690,\n            'f': \"690\",\n        }],\n [{\n            'v': 93,\n            'f': \"93\",\n        },\n{\n            'v': 10.0,\n            'f': \"10.0\",\n        },\n\"Break and Enter Residential/Other\",\n{\n            'v': 3049,\n            'f': \"3049\",\n        }],\n [{\n            'v': 94,\n            'f': \"94\",\n        },\n{\n            'v': 10.0,\n            'f': \"10.0\",\n        },\n\"Mischief\",\n{\n            'v': 2029,\n            'f': \"2029\",\n        }],\n [{\n            'v': 95,\n            'f': \"95\",\n        },\n{\n            'v': 10.0,\n            'f': \"10.0\",\n        },\n\"Other Theft\",\n{\n            'v': 2420,\n            'f': \"2420\",\n        }],\n [{\n            'v': 96,\n            'f': \"96\",\n        },\n{\n            'v': 10.0,\n            'f': \"10.0\",\n        },\n\"Theft from Vehicle\",\n{\n            'v': 4867,\n            'f': \"4867\",\n        }],\n [{\n            'v': 97,\n            'f': \"97\",\n        },\n{\n            'v': 10.0,\n            'f': \"10.0\",\n        },\n\"Theft of Bicycle\",\n{\n            'v': 916,\n            'f': \"916\",\n        }],\n [{\n            'v': 98,\n            'f': \"98\",\n        },\n{\n            'v': 10.0,\n            'f': \"10.0\",\n        },\n\"Theft of Vehicle\",\n{\n            'v': 959,\n            'f': \"959\",\n        }],\n [{\n            'v': 99,\n            'f': \"99\",\n        },\n{\n            'v': 10.0,\n            'f': \"10.0\",\n        },\n\"Vehicle Collision or Pedestrian Struck (with Fatality)\",\n{\n            'v': 11,\n            'f': \"11\",\n        }],\n [{\n            'v': 100,\n            'f': \"100\",\n        },\n{\n            'v': 10.0,\n            'f': \"10.0\",\n        },\n\"Vehicle Collision or Pedestrian Struck (with Injury)\",\n{\n            'v': 1050,\n            'f': \"1050\",\n        }],\n [{\n            'v': 101,\n            'f': \"101\",\n        },\n{\n            'v': 11.0,\n            'f': \"11.0\",\n        },\n\"Break and Enter Commercial\",\n{\n            'v': 545,\n            'f': \"545\",\n        }],\n [{\n            'v': 102,\n            'f': \"102\",\n        },\n{\n            'v': 11.0,\n            'f': \"11.0\",\n        },\n\"Break and Enter Residential/Other\",\n{\n            'v': 2836,\n            'f': \"2836\",\n        }],\n [{\n            'v': 103,\n            'f': \"103\",\n        },\n{\n            'v': 11.0,\n            'f': \"11.0\",\n        },\n\"Mischief\",\n{\n            'v': 1965,\n            'f': \"1965\",\n        }],\n [{\n            'v': 104,\n            'f': \"104\",\n        },\n{\n            'v': 11.0,\n            'f': \"11.0\",\n        },\n\"Other Theft\",\n{\n            'v': 3136,\n            'f': \"3136\",\n        }],\n [{\n            'v': 105,\n            'f': \"105\",\n        },\n{\n            'v': 11.0,\n            'f': \"11.0\",\n        },\n\"Theft from Vehicle\",\n{\n            'v': 4755,\n            'f': \"4755\",\n        }],\n [{\n            'v': 106,\n            'f': \"106\",\n        },\n{\n            'v': 11.0,\n            'f': \"11.0\",\n        },\n\"Theft of Bicycle\",\n{\n            'v': 866,\n            'f': \"866\",\n        }],\n [{\n            'v': 107,\n            'f': \"107\",\n        },\n{\n            'v': 11.0,\n            'f': \"11.0\",\n        },\n\"Theft of Vehicle\",\n{\n            'v': 902,\n            'f': \"902\",\n        }],\n [{\n            'v': 108,\n            'f': \"108\",\n        },\n{\n            'v': 11.0,\n            'f': \"11.0\",\n        },\n\"Vehicle Collision or Pedestrian Struck (with Fatality)\",\n{\n            'v': 9,\n            'f': \"9\",\n        }],\n [{\n            'v': 109,\n            'f': \"109\",\n        },\n{\n            'v': 11.0,\n            'f': \"11.0\",\n        },\n\"Vehicle Collision or Pedestrian Struck (with Injury)\",\n{\n            'v': 1041,\n            'f': \"1041\",\n        }],\n [{\n            'v': 110,\n            'f': \"110\",\n        },\n{\n            'v': 12.0,\n            'f': \"12.0\",\n        },\n\"Break and Enter Commercial\",\n{\n            'v': 689,\n            'f': \"689\",\n        }],\n [{\n            'v': 111,\n            'f': \"111\",\n        },\n{\n            'v': 12.0,\n            'f': \"12.0\",\n        },\n\"Break and Enter Residential/Other\",\n{\n            'v': 3872,\n            'f': \"3872\",\n        }],\n [{\n            'v': 112,\n            'f': \"112\",\n        },\n{\n            'v': 12.0,\n            'f': \"12.0\",\n        },\n\"Mischief\",\n{\n            'v': 2848,\n            'f': \"2848\",\n        }],\n [{\n            'v': 113,\n            'f': \"113\",\n        },\n{\n            'v': 12.0,\n            'f': \"12.0\",\n        },\n\"Other Theft\",\n{\n            'v': 3646,\n            'f': \"3646\",\n        }],\n [{\n            'v': 114,\n            'f': \"114\",\n        },\n{\n            'v': 12.0,\n            'f': \"12.0\",\n        },\n\"Theft from Vehicle\",\n{\n            'v': 8224,\n            'f': \"8224\",\n        }],\n [{\n            'v': 115,\n            'f': \"115\",\n        },\n{\n            'v': 12.0,\n            'f': \"12.0\",\n        },\n\"Theft of Bicycle\",\n{\n            'v': 1651,\n            'f': \"1651\",\n        }],\n [{\n            'v': 116,\n            'f': \"116\",\n        },\n{\n            'v': 12.0,\n            'f': \"12.0\",\n        },\n\"Theft of Vehicle\",\n{\n            'v': 1553,\n            'f': \"1553\",\n        }],\n [{\n            'v': 117,\n            'f': \"117\",\n        },\n{\n            'v': 12.0,\n            'f': \"12.0\",\n        },\n\"Vehicle Collision or Pedestrian Struck (with Fatality)\",\n{\n            'v': 17,\n            'f': \"17\",\n        }],\n [{\n            'v': 118,\n            'f': \"118\",\n        },\n{\n            'v': 12.0,\n            'f': \"12.0\",\n        },\n\"Vehicle Collision or Pedestrian Struck (with Injury)\",\n{\n            'v': 1113,\n            'f': \"1113\",\n        }],\n [{\n            'v': 119,\n            'f': \"119\",\n        },\n{\n            'v': 13.0,\n            'f': \"13.0\",\n        },\n\"Break and Enter Commercial\",\n{\n            'v': 476,\n            'f': \"476\",\n        }],\n [{\n            'v': 120,\n            'f': \"120\",\n        },\n{\n            'v': 13.0,\n            'f': \"13.0\",\n        },\n\"Break and Enter Residential/Other\",\n{\n            'v': 2757,\n            'f': \"2757\",\n        }],\n [{\n            'v': 121,\n            'f': \"121\",\n        },\n{\n            'v': 13.0,\n            'f': \"13.0\",\n        },\n\"Mischief\",\n{\n            'v': 2048,\n            'f': \"2048\",\n        }],\n [{\n            'v': 122,\n            'f': \"122\",\n        },\n{\n            'v': 13.0,\n            'f': \"13.0\",\n        },\n\"Other Theft\",\n{\n            'v': 4253,\n            'f': \"4253\",\n        }],\n [{\n            'v': 123,\n            'f': \"123\",\n        },\n{\n            'v': 13.0,\n            'f': \"13.0\",\n        },\n\"Theft from Vehicle\",\n{\n            'v': 5765,\n            'f': \"5765\",\n        }],\n [{\n            'v': 124,\n            'f': \"124\",\n        },\n{\n            'v': 13.0,\n            'f': \"13.0\",\n        },\n\"Theft of Bicycle\",\n{\n            'v': 1154,\n            'f': \"1154\",\n        }],\n [{\n            'v': 125,\n            'f': \"125\",\n        },\n{\n            'v': 13.0,\n            'f': \"13.0\",\n        },\n\"Theft of Vehicle\",\n{\n            'v': 991,\n            'f': \"991\",\n        }],\n [{\n            'v': 126,\n            'f': \"126\",\n        },\n{\n            'v': 13.0,\n            'f': \"13.0\",\n        },\n\"Vehicle Collision or Pedestrian Struck (with Fatality)\",\n{\n            'v': 10,\n            'f': \"10\",\n        }],\n [{\n            'v': 127,\n            'f': \"127\",\n        },\n{\n            'v': 13.0,\n            'f': \"13.0\",\n        },\n\"Vehicle Collision or Pedestrian Struck (with Injury)\",\n{\n            'v': 1069,\n            'f': \"1069\",\n        }],\n [{\n            'v': 128,\n            'f': \"128\",\n        },\n{\n            'v': 14.0,\n            'f': \"14.0\",\n        },\n\"Break and Enter Commercial\",\n{\n            'v': 554,\n            'f': \"554\",\n        }],\n [{\n            'v': 129,\n            'f': \"129\",\n        },\n{\n            'v': 14.0,\n            'f': \"14.0\",\n        },\n\"Break and Enter Residential/Other\",\n{\n            'v': 2946,\n            'f': \"2946\",\n        }],\n [{\n            'v': 130,\n            'f': \"130\",\n        },\n{\n            'v': 14.0,\n            'f': \"14.0\",\n        },\n\"Mischief\",\n{\n            'v': 2249,\n            'f': \"2249\",\n        }],\n [{\n            'v': 131,\n            'f': \"131\",\n        },\n{\n            'v': 14.0,\n            'f': \"14.0\",\n        },\n\"Other Theft\",\n{\n            'v': 4824,\n            'f': \"4824\",\n        }],\n [{\n            'v': 132,\n            'f': \"132\",\n        },\n{\n            'v': 14.0,\n            'f': \"14.0\",\n        },\n\"Theft from Vehicle\",\n{\n            'v': 6418,\n            'f': \"6418\",\n        }],\n [{\n            'v': 133,\n            'f': \"133\",\n        },\n{\n            'v': 14.0,\n            'f': \"14.0\",\n        },\n\"Theft of Bicycle\",\n{\n            'v': 1297,\n            'f': \"1297\",\n        }],\n [{\n            'v': 134,\n            'f': \"134\",\n        },\n{\n            'v': 14.0,\n            'f': \"14.0\",\n        },\n\"Theft of Vehicle\",\n{\n            'v': 1258,\n            'f': \"1258\",\n        }],\n [{\n            'v': 135,\n            'f': \"135\",\n        },\n{\n            'v': 14.0,\n            'f': \"14.0\",\n        },\n\"Vehicle Collision or Pedestrian Struck (with Fatality)\",\n{\n            'v': 17,\n            'f': \"17\",\n        }],\n [{\n            'v': 136,\n            'f': \"136\",\n        },\n{\n            'v': 14.0,\n            'f': \"14.0\",\n        },\n\"Vehicle Collision or Pedestrian Struck (with Injury)\",\n{\n            'v': 1231,\n            'f': \"1231\",\n        }],\n [{\n            'v': 137,\n            'f': \"137\",\n        },\n{\n            'v': 15.0,\n            'f': \"15.0\",\n        },\n\"Break and Enter Commercial\",\n{\n            'v': 783,\n            'f': \"783\",\n        }],\n [{\n            'v': 138,\n            'f': \"138\",\n        },\n{\n            'v': 15.0,\n            'f': \"15.0\",\n        },\n\"Break and Enter Residential/Other\",\n{\n            'v': 3037,\n            'f': \"3037\",\n        }],\n [{\n            'v': 139,\n            'f': \"139\",\n        },\n{\n            'v': 15.0,\n            'f': \"15.0\",\n        },\n\"Mischief\",\n{\n            'v': 2689,\n            'f': \"2689\",\n        }],\n [{\n            'v': 140,\n            'f': \"140\",\n        },\n{\n            'v': 15.0,\n            'f': \"15.0\",\n        },\n\"Other Theft\",\n{\n            'v': 5229,\n            'f': \"5229\",\n        }],\n [{\n            'v': 141,\n            'f': \"141\",\n        },\n{\n            'v': 15.0,\n            'f': \"15.0\",\n        },\n\"Theft from Vehicle\",\n{\n            'v': 7596,\n            'f': \"7596\",\n        }],\n [{\n            'v': 142,\n            'f': \"142\",\n        },\n{\n            'v': 15.0,\n            'f': \"15.0\",\n        },\n\"Theft of Bicycle\",\n{\n            'v': 1529,\n            'f': \"1529\",\n        }],\n [{\n            'v': 143,\n            'f': \"143\",\n        },\n{\n            'v': 15.0,\n            'f': \"15.0\",\n        },\n\"Theft of Vehicle\",\n{\n            'v': 1464,\n            'f': \"1464\",\n        }],\n [{\n            'v': 144,\n            'f': \"144\",\n        },\n{\n            'v': 15.0,\n            'f': \"15.0\",\n        },\n\"Vehicle Collision or Pedestrian Struck (with Fatality)\",\n{\n            'v': 19,\n            'f': \"19\",\n        }],\n [{\n            'v': 145,\n            'f': \"145\",\n        },\n{\n            'v': 15.0,\n            'f': \"15.0\",\n        },\n\"Vehicle Collision or Pedestrian Struck (with Injury)\",\n{\n            'v': 1550,\n            'f': \"1550\",\n        }],\n [{\n            'v': 146,\n            'f': \"146\",\n        },\n{\n            'v': 16.0,\n            'f': \"16.0\",\n        },\n\"Break and Enter Commercial\",\n{\n            'v': 1142,\n            'f': \"1142\",\n        }],\n [{\n            'v': 147,\n            'f': \"147\",\n        },\n{\n            'v': 16.0,\n            'f': \"16.0\",\n        },\n\"Break and Enter Residential/Other\",\n{\n            'v': 2810,\n            'f': \"2810\",\n        }],\n [{\n            'v': 148,\n            'f': \"148\",\n        },\n{\n            'v': 16.0,\n            'f': \"16.0\",\n        },\n\"Mischief\",\n{\n            'v': 3092,\n            'f': \"3092\",\n        }],\n [{\n            'v': 149,\n            'f': \"149\",\n        },\n{\n            'v': 16.0,\n            'f': \"16.0\",\n        },\n\"Other Theft\",\n{\n            'v': 5148,\n            'f': \"5148\",\n        }],\n [{\n            'v': 150,\n            'f': \"150\",\n        },\n{\n            'v': 16.0,\n            'f': \"16.0\",\n        },\n\"Theft from Vehicle\",\n{\n            'v': 8984,\n            'f': \"8984\",\n        }],\n [{\n            'v': 151,\n            'f': \"151\",\n        },\n{\n            'v': 16.0,\n            'f': \"16.0\",\n        },\n\"Theft of Bicycle\",\n{\n            'v': 1581,\n            'f': \"1581\",\n        }],\n [{\n            'v': 152,\n            'f': \"152\",\n        },\n{\n            'v': 16.0,\n            'f': \"16.0\",\n        },\n\"Theft of Vehicle\",\n{\n            'v': 1775,\n            'f': \"1775\",\n        }],\n [{\n            'v': 153,\n            'f': \"153\",\n        },\n{\n            'v': 16.0,\n            'f': \"16.0\",\n        },\n\"Vehicle Collision or Pedestrian Struck (with Fatality)\",\n{\n            'v': 8,\n            'f': \"8\",\n        }],\n [{\n            'v': 154,\n            'f': \"154\",\n        },\n{\n            'v': 16.0,\n            'f': \"16.0\",\n        },\n\"Vehicle Collision or Pedestrian Struck (with Injury)\",\n{\n            'v': 1545,\n            'f': \"1545\",\n        }],\n [{\n            'v': 155,\n            'f': \"155\",\n        },\n{\n            'v': 17.0,\n            'f': \"17.0\",\n        },\n\"Break and Enter Commercial\",\n{\n            'v': 1955,\n            'f': \"1955\",\n        }],\n [{\n            'v': 156,\n            'f': \"156\",\n        },\n{\n            'v': 17.0,\n            'f': \"17.0\",\n        },\n\"Break and Enter Residential/Other\",\n{\n            'v': 3209,\n            'f': \"3209\",\n        }],\n [{\n            'v': 157,\n            'f': \"157\",\n        },\n{\n            'v': 17.0,\n            'f': \"17.0\",\n        },\n\"Mischief\",\n{\n            'v': 3814,\n            'f': \"3814\",\n        }],\n [{\n            'v': 158,\n            'f': \"158\",\n        },\n{\n            'v': 17.0,\n            'f': \"17.0\",\n        },\n\"Other Theft\",\n{\n            'v': 4947,\n            'f': \"4947\",\n        }],\n [{\n            'v': 159,\n            'f': \"159\",\n        },\n{\n            'v': 17.0,\n            'f': \"17.0\",\n        },\n\"Theft from Vehicle\",\n{\n            'v': 11586,\n            'f': \"11586\",\n        }],\n [{\n            'v': 160,\n            'f': \"160\",\n        },\n{\n            'v': 17.0,\n            'f': \"17.0\",\n        },\n\"Theft of Bicycle\",\n{\n            'v': 1822,\n            'f': \"1822\",\n        }],\n [{\n            'v': 161,\n            'f': \"161\",\n        },\n{\n            'v': 17.0,\n            'f': \"17.0\",\n        },\n\"Theft of Vehicle\",\n{\n            'v': 2456,\n            'f': \"2456\",\n        }],\n [{\n            'v': 162,\n            'f': \"162\",\n        },\n{\n            'v': 17.0,\n            'f': \"17.0\",\n        },\n\"Vehicle Collision or Pedestrian Struck (with Fatality)\",\n{\n            'v': 16,\n            'f': \"16\",\n        }],\n [{\n            'v': 163,\n            'f': \"163\",\n        },\n{\n            'v': 17.0,\n            'f': \"17.0\",\n        },\n\"Vehicle Collision or Pedestrian Struck (with Injury)\",\n{\n            'v': 1816,\n            'f': \"1816\",\n        }],\n [{\n            'v': 164,\n            'f': \"164\",\n        },\n{\n            'v': 18.0,\n            'f': \"18.0\",\n        },\n\"Break and Enter Commercial\",\n{\n            'v': 2344,\n            'f': \"2344\",\n        }],\n [{\n            'v': 165,\n            'f': \"165\",\n        },\n{\n            'v': 18.0,\n            'f': \"18.0\",\n        },\n\"Break and Enter Residential/Other\",\n{\n            'v': 3640,\n            'f': \"3640\",\n        }],\n [{\n            'v': 166,\n            'f': \"166\",\n        },\n{\n            'v': 18.0,\n            'f': \"18.0\",\n        },\n\"Mischief\",\n{\n            'v': 4455,\n            'f': \"4455\",\n        }],\n [{\n            'v': 167,\n            'f': \"167\",\n        },\n{\n            'v': 18.0,\n            'f': \"18.0\",\n        },\n\"Other Theft\",\n{\n            'v': 4231,\n            'f': \"4231\",\n        }],\n [{\n            'v': 168,\n            'f': \"168\",\n        },\n{\n            'v': 18.0,\n            'f': \"18.0\",\n        },\n\"Theft from Vehicle\",\n{\n            'v': 14942,\n            'f': \"14942\",\n        }],\n [{\n            'v': 169,\n            'f': \"169\",\n        },\n{\n            'v': 18.0,\n            'f': \"18.0\",\n        },\n\"Theft of Bicycle\",\n{\n            'v': 2060,\n            'f': \"2060\",\n        }],\n [{\n            'v': 170,\n            'f': \"170\",\n        },\n{\n            'v': 18.0,\n            'f': \"18.0\",\n        },\n\"Theft of Vehicle\",\n{\n            'v': 3031,\n            'f': \"3031\",\n        }],\n [{\n            'v': 171,\n            'f': \"171\",\n        },\n{\n            'v': 18.0,\n            'f': \"18.0\",\n        },\n\"Vehicle Collision or Pedestrian Struck (with Fatality)\",\n{\n            'v': 13,\n            'f': \"13\",\n        }],\n [{\n            'v': 172,\n            'f': \"172\",\n        },\n{\n            'v': 18.0,\n            'f': \"18.0\",\n        },\n\"Vehicle Collision or Pedestrian Struck (with Injury)\",\n{\n            'v': 1479,\n            'f': \"1479\",\n        }],\n [{\n            'v': 173,\n            'f': \"173\",\n        },\n{\n            'v': 19.0,\n            'f': \"19.0\",\n        },\n\"Break and Enter Commercial\",\n{\n            'v': 1420,\n            'f': \"1420\",\n        }],\n [{\n            'v': 174,\n            'f': \"174\",\n        },\n{\n            'v': 19.0,\n            'f': \"19.0\",\n        },\n\"Break and Enter Residential/Other\",\n{\n            'v': 2991,\n            'f': \"2991\",\n        }],\n [{\n            'v': 175,\n            'f': \"175\",\n        },\n{\n            'v': 19.0,\n            'f': \"19.0\",\n        },\n\"Mischief\",\n{\n            'v': 3902,\n            'f': \"3902\",\n        }],\n [{\n            'v': 176,\n            'f': \"176\",\n        },\n{\n            'v': 19.0,\n            'f': \"19.0\",\n        },\n\"Other Theft\",\n{\n            'v': 3581,\n            'f': \"3581\",\n        }],\n [{\n            'v': 177,\n            'f': \"177\",\n        },\n{\n            'v': 19.0,\n            'f': \"19.0\",\n        },\n\"Theft from Vehicle\",\n{\n            'v': 12161,\n            'f': \"12161\",\n        }],\n [{\n            'v': 178,\n            'f': \"178\",\n        },\n{\n            'v': 19.0,\n            'f': \"19.0\",\n        },\n\"Theft of Bicycle\",\n{\n            'v': 1634,\n            'f': \"1634\",\n        }],\n [{\n            'v': 179,\n            'f': \"179\",\n        },\n{\n            'v': 19.0,\n            'f': \"19.0\",\n        },\n\"Theft of Vehicle\",\n{\n            'v': 2802,\n            'f': \"2802\",\n        }],\n [{\n            'v': 180,\n            'f': \"180\",\n        },\n{\n            'v': 19.0,\n            'f': \"19.0\",\n        },\n\"Vehicle Collision or Pedestrian Struck (with Fatality)\",\n{\n            'v': 14,\n            'f': \"14\",\n        }],\n [{\n            'v': 181,\n            'f': \"181\",\n        },\n{\n            'v': 19.0,\n            'f': \"19.0\",\n        },\n\"Vehicle Collision or Pedestrian Struck (with Injury)\",\n{\n            'v': 1085,\n            'f': \"1085\",\n        }],\n [{\n            'v': 182,\n            'f': \"182\",\n        },\n{\n            'v': 20.0,\n            'f': \"20.0\",\n        },\n\"Break and Enter Commercial\",\n{\n            'v': 1327,\n            'f': \"1327\",\n        }],\n [{\n            'v': 183,\n            'f': \"183\",\n        },\n{\n            'v': 20.0,\n            'f': \"20.0\",\n        },\n\"Break and Enter Residential/Other\",\n{\n            'v': 2657,\n            'f': \"2657\",\n        }],\n [{\n            'v': 184,\n            'f': \"184\",\n        },\n{\n            'v': 20.0,\n            'f': \"20.0\",\n        },\n\"Mischief\",\n{\n            'v': 3974,\n            'f': \"3974\",\n        }],\n [{\n            'v': 185,\n            'f': \"185\",\n        },\n{\n            'v': 20.0,\n            'f': \"20.0\",\n        },\n\"Other Theft\",\n{\n            'v': 2857,\n            'f': \"2857\",\n        }],\n [{\n            'v': 186,\n            'f': \"186\",\n        },\n{\n            'v': 20.0,\n            'f': \"20.0\",\n        },\n\"Theft from Vehicle\",\n{\n            'v': 11645,\n            'f': \"11645\",\n        }],\n [{\n            'v': 187,\n            'f': \"187\",\n        },\n{\n            'v': 20.0,\n            'f': \"20.0\",\n        },\n\"Theft of Bicycle\",\n{\n            'v': 1464,\n            'f': \"1464\",\n        }],\n [{\n            'v': 188,\n            'f': \"188\",\n        },\n{\n            'v': 20.0,\n            'f': \"20.0\",\n        },\n\"Theft of Vehicle\",\n{\n            'v': 2879,\n            'f': \"2879\",\n        }],\n [{\n            'v': 189,\n            'f': \"189\",\n        },\n{\n            'v': 20.0,\n            'f': \"20.0\",\n        },\n\"Vehicle Collision or Pedestrian Struck (with Fatality)\",\n{\n            'v': 9,\n            'f': \"9\",\n        }],\n [{\n            'v': 190,\n            'f': \"190\",\n        },\n{\n            'v': 20.0,\n            'f': \"20.0\",\n        },\n\"Vehicle Collision or Pedestrian Struck (with Injury)\",\n{\n            'v': 895,\n            'f': \"895\",\n        }],\n [{\n            'v': 191,\n            'f': \"191\",\n        },\n{\n            'v': 21.0,\n            'f': \"21.0\",\n        },\n\"Break and Enter Commercial\",\n{\n            'v': 1427,\n            'f': \"1427\",\n        }],\n [{\n            'v': 192,\n            'f': \"192\",\n        },\n{\n            'v': 21.0,\n            'f': \"21.0\",\n        },\n\"Break and Enter Residential/Other\",\n{\n            'v': 2587,\n            'f': \"2587\",\n        }],\n [{\n            'v': 193,\n            'f': \"193\",\n        },\n{\n            'v': 21.0,\n            'f': \"21.0\",\n        },\n\"Mischief\",\n{\n            'v': 4247,\n            'f': \"4247\",\n        }],\n [{\n            'v': 194,\n            'f': \"194\",\n        },\n{\n            'v': 21.0,\n            'f': \"21.0\",\n        },\n\"Other Theft\",\n{\n            'v': 1974,\n            'f': \"1974\",\n        }],\n [{\n            'v': 195,\n            'f': \"195\",\n        },\n{\n            'v': 21.0,\n            'f': \"21.0\",\n        },\n\"Theft from Vehicle\",\n{\n            'v': 11721,\n            'f': \"11721\",\n        }],\n [{\n            'v': 196,\n            'f': \"196\",\n        },\n{\n            'v': 21.0,\n            'f': \"21.0\",\n        },\n\"Theft of Bicycle\",\n{\n            'v': 1294,\n            'f': \"1294\",\n        }],\n [{\n            'v': 197,\n            'f': \"197\",\n        },\n{\n            'v': 21.0,\n            'f': \"21.0\",\n        },\n\"Theft of Vehicle\",\n{\n            'v': 3202,\n            'f': \"3202\",\n        }],\n [{\n            'v': 198,\n            'f': \"198\",\n        },\n{\n            'v': 21.0,\n            'f': \"21.0\",\n        },\n\"Vehicle Collision or Pedestrian Struck (with Fatality)\",\n{\n            'v': 6,\n            'f': \"6\",\n        }],\n [{\n            'v': 199,\n            'f': \"199\",\n        },\n{\n            'v': 21.0,\n            'f': \"21.0\",\n        },\n\"Vehicle Collision or Pedestrian Struck (with Injury)\",\n{\n            'v': 903,\n            'f': \"903\",\n        }],\n [{\n            'v': 200,\n            'f': \"200\",\n        },\n{\n            'v': 22.0,\n            'f': \"22.0\",\n        },\n\"Break and Enter Commercial\",\n{\n            'v': 1640,\n            'f': \"1640\",\n        }],\n [{\n            'v': 201,\n            'f': \"201\",\n        },\n{\n            'v': 22.0,\n            'f': \"22.0\",\n        },\n\"Break and Enter Residential/Other\",\n{\n            'v': 2650,\n            'f': \"2650\",\n        }],\n [{\n            'v': 202,\n            'f': \"202\",\n        },\n{\n            'v': 22.0,\n            'f': \"22.0\",\n        },\n\"Mischief\",\n{\n            'v': 4626,\n            'f': \"4626\",\n        }],\n [{\n            'v': 203,\n            'f': \"203\",\n        },\n{\n            'v': 22.0,\n            'f': \"22.0\",\n        },\n\"Other Theft\",\n{\n            'v': 1282,\n            'f': \"1282\",\n        }],\n [{\n            'v': 204,\n            'f': \"204\",\n        },\n{\n            'v': 22.0,\n            'f': \"22.0\",\n        },\n\"Theft from Vehicle\",\n{\n            'v': 13106,\n            'f': \"13106\",\n        }],\n [{\n            'v': 205,\n            'f': \"205\",\n        },\n{\n            'v': 22.0,\n            'f': \"22.0\",\n        },\n\"Theft of Bicycle\",\n{\n            'v': 1285,\n            'f': \"1285\",\n        }],\n [{\n            'v': 206,\n            'f': \"206\",\n        },\n{\n            'v': 22.0,\n            'f': \"22.0\",\n        },\n\"Theft of Vehicle\",\n{\n            'v': 3361,\n            'f': \"3361\",\n        }],\n [{\n            'v': 207,\n            'f': \"207\",\n        },\n{\n            'v': 22.0,\n            'f': \"22.0\",\n        },\n\"Vehicle Collision or Pedestrian Struck (with Fatality)\",\n{\n            'v': 14,\n            'f': \"14\",\n        }],\n [{\n            'v': 208,\n            'f': \"208\",\n        },\n{\n            'v': 22.0,\n            'f': \"22.0\",\n        },\n\"Vehicle Collision or Pedestrian Struck (with Injury)\",\n{\n            'v': 827,\n            'f': \"827\",\n        }],\n [{\n            'v': 209,\n            'f': \"209\",\n        },\n{\n            'v': 23.0,\n            'f': \"23.0\",\n        },\n\"Break and Enter Commercial\",\n{\n            'v': 1773,\n            'f': \"1773\",\n        }],\n [{\n            'v': 210,\n            'f': \"210\",\n        },\n{\n            'v': 23.0,\n            'f': \"23.0\",\n        },\n\"Break and Enter Residential/Other\",\n{\n            'v': 2483,\n            'f': \"2483\",\n        }],\n [{\n            'v': 211,\n            'f': \"211\",\n        },\n{\n            'v': 23.0,\n            'f': \"23.0\",\n        },\n\"Mischief\",\n{\n            'v': 4313,\n            'f': \"4313\",\n        }],\n [{\n            'v': 212,\n            'f': \"212\",\n        },\n{\n            'v': 23.0,\n            'f': \"23.0\",\n        },\n\"Other Theft\",\n{\n            'v': 664,\n            'f': \"664\",\n        }],\n [{\n            'v': 213,\n            'f': \"213\",\n        },\n{\n            'v': 23.0,\n            'f': \"23.0\",\n        },\n\"Theft from Vehicle\",\n{\n            'v': 10602,\n            'f': \"10602\",\n        }],\n [{\n            'v': 214,\n            'f': \"214\",\n        },\n{\n            'v': 23.0,\n            'f': \"23.0\",\n        },\n\"Theft of Bicycle\",\n{\n            'v': 971,\n            'f': \"971\",\n        }],\n [{\n            'v': 215,\n            'f': \"215\",\n        },\n{\n            'v': 23.0,\n            'f': \"23.0\",\n        },\n\"Theft of Vehicle\",\n{\n            'v': 2912,\n            'f': \"2912\",\n        }],\n [{\n            'v': 216,\n            'f': \"216\",\n        },\n{\n            'v': 23.0,\n            'f': \"23.0\",\n        },\n\"Vehicle Collision or Pedestrian Struck (with Fatality)\",\n{\n            'v': 10,\n            'f': \"10\",\n        }],\n [{\n            'v': 217,\n            'f': \"217\",\n        },\n{\n            'v': 23.0,\n            'f': \"23.0\",\n        },\n\"Vehicle Collision or Pedestrian Struck (with Injury)\",\n{\n            'v': 661,\n            'f': \"661\",\n        }]],\n        columns: [[\"number\", \"index\"], [\"number\", \"hour\"], [\"string\", \"crimetype\"], [\"number\", \"count\"]],\n        columnOptions: [{\"width\": \"1px\", \"className\": \"index_column\"}],\n        rowsPerPage: 25,\n        helpUrl: \"https://colab.research.google.com/notebooks/data_table.ipynb\",\n        suppressOutputScrolling: true,\n        minimumWidth: undefined,\n      });\n    ",
            "text/html": [
              "\n",
              "  <div id=\"df-fcd284a3-d674-436c-883d-1a10b69701bf\">\n",
              "    <div class=\"colab-df-container\">\n",
              "      <div>\n",
              "<style scoped>\n",
              "    .dataframe tbody tr th:only-of-type {\n",
              "        vertical-align: middle;\n",
              "    }\n",
              "\n",
              "    .dataframe tbody tr th {\n",
              "        vertical-align: top;\n",
              "    }\n",
              "\n",
              "    .dataframe thead th {\n",
              "        text-align: right;\n",
              "    }\n",
              "</style>\n",
              "<table border=\"1\" class=\"dataframe\">\n",
              "  <thead>\n",
              "    <tr style=\"text-align: right;\">\n",
              "      <th></th>\n",
              "      <th>hour</th>\n",
              "      <th>crimetype</th>\n",
              "      <th>count</th>\n",
              "    </tr>\n",
              "  </thead>\n",
              "  <tbody>\n",
              "    <tr>\n",
              "      <th>0</th>\n",
              "      <td>NaN</td>\n",
              "      <td>Homicide</td>\n",
              "      <td>220</td>\n",
              "    </tr>\n",
              "    <tr>\n",
              "      <th>1</th>\n",
              "      <td>NaN</td>\n",
              "      <td>Offence Against a Person</td>\n",
              "      <td>54142</td>\n",
              "    </tr>\n",
              "    <tr>\n",
              "      <th>2</th>\n",
              "      <td>0.0</td>\n",
              "      <td>Break and Enter Commercial</td>\n",
              "      <td>2326</td>\n",
              "    </tr>\n",
              "    <tr>\n",
              "      <th>3</th>\n",
              "      <td>0.0</td>\n",
              "      <td>Break and Enter Residential/Other</td>\n",
              "      <td>3049</td>\n",
              "    </tr>\n",
              "    <tr>\n",
              "      <th>4</th>\n",
              "      <td>0.0</td>\n",
              "      <td>Mischief</td>\n",
              "      <td>5616</td>\n",
              "    </tr>\n",
              "    <tr>\n",
              "      <th>...</th>\n",
              "      <td>...</td>\n",
              "      <td>...</td>\n",
              "      <td>...</td>\n",
              "    </tr>\n",
              "    <tr>\n",
              "      <th>213</th>\n",
              "      <td>23.0</td>\n",
              "      <td>Theft from Vehicle</td>\n",
              "      <td>10602</td>\n",
              "    </tr>\n",
              "    <tr>\n",
              "      <th>214</th>\n",
              "      <td>23.0</td>\n",
              "      <td>Theft of Bicycle</td>\n",
              "      <td>971</td>\n",
              "    </tr>\n",
              "    <tr>\n",
              "      <th>215</th>\n",
              "      <td>23.0</td>\n",
              "      <td>Theft of Vehicle</td>\n",
              "      <td>2912</td>\n",
              "    </tr>\n",
              "    <tr>\n",
              "      <th>216</th>\n",
              "      <td>23.0</td>\n",
              "      <td>Vehicle Collision or Pedestrian Struck (with F...</td>\n",
              "      <td>10</td>\n",
              "    </tr>\n",
              "    <tr>\n",
              "      <th>217</th>\n",
              "      <td>23.0</td>\n",
              "      <td>Vehicle Collision or Pedestrian Struck (with I...</td>\n",
              "      <td>661</td>\n",
              "    </tr>\n",
              "  </tbody>\n",
              "</table>\n",
              "<p>218 rows × 3 columns</p>\n",
              "</div>\n",
              "      <button class=\"colab-df-convert\" onclick=\"convertToInteractive('df-fcd284a3-d674-436c-883d-1a10b69701bf')\"\n",
              "              title=\"Convert this dataframe to an interactive table.\"\n",
              "              style=\"display:none;\">\n",
              "        \n",
              "  <svg xmlns=\"http://www.w3.org/2000/svg\" height=\"24px\"viewBox=\"0 0 24 24\"\n",
              "       width=\"24px\">\n",
              "    <path d=\"M0 0h24v24H0V0z\" fill=\"none\"/>\n",
              "    <path d=\"M18.56 5.44l.94 2.06.94-2.06 2.06-.94-2.06-.94-.94-2.06-.94 2.06-2.06.94zm-11 1L8.5 8.5l.94-2.06 2.06-.94-2.06-.94L8.5 2.5l-.94 2.06-2.06.94zm10 10l.94 2.06.94-2.06 2.06-.94-2.06-.94-.94-2.06-.94 2.06-2.06.94z\"/><path d=\"M17.41 7.96l-1.37-1.37c-.4-.4-.92-.59-1.43-.59-.52 0-1.04.2-1.43.59L10.3 9.45l-7.72 7.72c-.78.78-.78 2.05 0 2.83L4 21.41c.39.39.9.59 1.41.59.51 0 1.02-.2 1.41-.59l7.78-7.78 2.81-2.81c.8-.78.8-2.07 0-2.86zM5.41 20L4 18.59l7.72-7.72 1.47 1.35L5.41 20z\"/>\n",
              "  </svg>\n",
              "      </button>\n",
              "      \n",
              "  <style>\n",
              "    .colab-df-container {\n",
              "      display:flex;\n",
              "      flex-wrap:wrap;\n",
              "      gap: 12px;\n",
              "    }\n",
              "\n",
              "    .colab-df-convert {\n",
              "      background-color: #E8F0FE;\n",
              "      border: none;\n",
              "      border-radius: 50%;\n",
              "      cursor: pointer;\n",
              "      display: none;\n",
              "      fill: #1967D2;\n",
              "      height: 32px;\n",
              "      padding: 0 0 0 0;\n",
              "      width: 32px;\n",
              "    }\n",
              "\n",
              "    .colab-df-convert:hover {\n",
              "      background-color: #E2EBFA;\n",
              "      box-shadow: 0px 1px 2px rgba(60, 64, 67, 0.3), 0px 1px 3px 1px rgba(60, 64, 67, 0.15);\n",
              "      fill: #174EA6;\n",
              "    }\n",
              "\n",
              "    [theme=dark] .colab-df-convert {\n",
              "      background-color: #3B4455;\n",
              "      fill: #D2E3FC;\n",
              "    }\n",
              "\n",
              "    [theme=dark] .colab-df-convert:hover {\n",
              "      background-color: #434B5C;\n",
              "      box-shadow: 0px 1px 3px 1px rgba(0, 0, 0, 0.15);\n",
              "      filter: drop-shadow(0px 1px 2px rgba(0, 0, 0, 0.3));\n",
              "      fill: #FFFFFF;\n",
              "    }\n",
              "  </style>\n",
              "\n",
              "      <script>\n",
              "        const buttonEl =\n",
              "          document.querySelector('#df-fcd284a3-d674-436c-883d-1a10b69701bf button.colab-df-convert');\n",
              "        buttonEl.style.display =\n",
              "          google.colab.kernel.accessAllowed ? 'block' : 'none';\n",
              "\n",
              "        async function convertToInteractive(key) {\n",
              "          const element = document.querySelector('#df-fcd284a3-d674-436c-883d-1a10b69701bf');\n",
              "          const dataTable =\n",
              "            await google.colab.kernel.invokeFunction('convertToInteractive',\n",
              "                                                     [key], {});\n",
              "          if (!dataTable) return;\n",
              "\n",
              "          const docLinkHtml = 'Like what you see? Visit the ' +\n",
              "            '<a target=\"_blank\" href=https://colab.research.google.com/notebooks/data_table.ipynb>data table notebook</a>'\n",
              "            + ' to learn more about interactive tables.';\n",
              "          element.innerHTML = '';\n",
              "          dataTable['output_type'] = 'display_data';\n",
              "          await google.colab.output.renderOutput(dataTable, element);\n",
              "          const docLink = document.createElement('div');\n",
              "          docLink.innerHTML = docLinkHtml;\n",
              "          element.appendChild(docLink);\n",
              "        }\n",
              "      </script>\n",
              "    </div>\n",
              "  </div>\n",
              "  "
            ],
            "text/plain": [
              "     hour                                          crimetype  count\n",
              "0     NaN                                           Homicide    220\n",
              "1     NaN                           Offence Against a Person  54142\n",
              "2     0.0                         Break and Enter Commercial   2326\n",
              "3     0.0                  Break and Enter Residential/Other   3049\n",
              "4     0.0                                           Mischief   5616\n",
              "..    ...                                                ...    ...\n",
              "213  23.0                                 Theft from Vehicle  10602\n",
              "214  23.0                                   Theft of Bicycle    971\n",
              "215  23.0                                   Theft of Vehicle   2912\n",
              "216  23.0  Vehicle Collision or Pedestrian Struck (with F...     10\n",
              "217  23.0  Vehicle Collision or Pedestrian Struck (with I...    661\n",
              "\n",
              "[218 rows x 3 columns]"
            ]
          },
          "metadata": {}
        },
        {
          "output_type": "display_data",
          "data": {
            "application/javascript": [
              "window[\"7212ff70-6710-11ec-87a2-0242ac1c0002\"] = google.colab.output.setActiveOutputArea(window[\"7201efd2-6710-11ec-87a2-0242ac1c0002\"]);\n",
              "//# sourceURL=js_fa0fe14a50"
            ],
            "text/plain": [
              "<IPython.core.display.Javascript object>"
            ]
          },
          "metadata": {}
        },
        {
          "output_type": "stream",
          "name": "stdout",
          "text": [
            " \n"
          ]
        },
        {
          "output_type": "display_data",
          "data": {
            "application/javascript": [
              "window[\"7214cad0-6710-11ec-87a2-0242ac1c0002\"] = google.colab.output.setActiveOutputArea(window[\"71ffdf76-6710-11ec-87a2-0242ac1c0002\"]);\n",
              "//# sourceURL=js_ec158dba47"
            ],
            "text/plain": [
              "<IPython.core.display.Javascript object>"
            ]
          },
          "metadata": {}
        },
        {
          "output_type": "display_data",
          "data": {
            "application/javascript": [
              "window[\"72166f16-6710-11ec-87a2-0242ac1c0002\"] = google.colab.output.getActiveOutputArea();\n",
              "//# sourceURL=js_b08e44a4a0"
            ],
            "text/plain": [
              "<IPython.core.display.Javascript object>"
            ]
          },
          "metadata": {}
        },
        {
          "output_type": "display_data",
          "data": {
            "application/javascript": [
              "window[\"7216b3cc-6710-11ec-87a2-0242ac1c0002\"] = document.querySelector(\"#id226_content_3\");\n",
              "//# sourceURL=js_57438bfd64"
            ],
            "text/plain": [
              "<IPython.core.display.Javascript object>"
            ]
          },
          "metadata": {}
        },
        {
          "output_type": "display_data",
          "data": {
            "application/javascript": [
              "window[\"721705b6-6710-11ec-87a2-0242ac1c0002\"] = google.colab.output.setActiveOutputArea(window[\"7216b3cc-6710-11ec-87a2-0242ac1c0002\"]);\n",
              "//# sourceURL=js_a06c830a57"
            ],
            "text/plain": [
              "<IPython.core.display.Javascript object>"
            ]
          },
          "metadata": {}
        },
        {
          "output_type": "display_data",
          "data": {
            "application/javascript": [
              "window[\"72175278-6710-11ec-87a2-0242ac1c0002\"] = window[\"id226\"].setSelectedTabIndex(3);\n",
              "//# sourceURL=js_8ca1700681"
            ],
            "text/plain": [
              "<IPython.core.display.Javascript object>"
            ]
          },
          "metadata": {}
        },
        {
          "output_type": "display_data",
          "data": {
            "application/javascript": [
              "window[\"7218a362-6710-11ec-87a2-0242ac1c0002\"] = google.colab.output.getActiveOutputArea();\n",
              "//# sourceURL=js_2bea5d8997"
            ],
            "text/plain": [
              "<IPython.core.display.Javascript object>"
            ]
          },
          "metadata": {}
        },
        {
          "output_type": "display_data",
          "data": {
            "application/javascript": [
              "window[\"7218dc2e-6710-11ec-87a2-0242ac1c0002\"] = document.querySelector(\"#id230_content_1\");\n",
              "//# sourceURL=js_73013b52f3"
            ],
            "text/plain": [
              "<IPython.core.display.Javascript object>"
            ]
          },
          "metadata": {}
        },
        {
          "output_type": "display_data",
          "data": {
            "application/javascript": [
              "window[\"7219256c-6710-11ec-87a2-0242ac1c0002\"] = google.colab.output.setActiveOutputArea(window[\"7218dc2e-6710-11ec-87a2-0242ac1c0002\"]);\n",
              "//# sourceURL=js_91556bb6bf"
            ],
            "text/plain": [
              "<IPython.core.display.Javascript object>"
            ]
          },
          "metadata": {}
        },
        {
          "output_type": "display_data",
          "data": {
            "application/javascript": [
              "window[\"72196f72-6710-11ec-87a2-0242ac1c0002\"] = window[\"id230\"].setSelectedTabIndex(1);\n",
              "//# sourceURL=js_52bd62099c"
            ],
            "text/plain": [
              "<IPython.core.display.Javascript object>"
            ]
          },
          "metadata": {}
        },
        {
          "output_type": "stream",
          "name": "stdout",
          "text": [
            "The following table is stored at \u001b[1mCrimeAtHour\u001b[0m variable.\n"
          ]
        },
        {
          "output_type": "display_data",
          "data": {
            "application/vnd.google.colaboratory.module+javascript": "\n      import \"https://ssl.gstatic.com/colaboratory/data_table/a6224c040fa35dcf/data_table.js\";\n\n      window.createDataTable({\n        data: [[{\n            'v': 0,\n            'f': \"0\",\n        },\n{\n            'v': NaN,\n            'f': \"NaN\",\n        },\n\"Offence Against a Person\"],\n [{\n            'v': 1,\n            'f': \"1\",\n        },\n{\n            'v': 0.0,\n            'f': \"0.0\",\n        },\n\"Theft from Vehicle\"],\n [{\n            'v': 2,\n            'f': \"2\",\n        },\n{\n            'v': 1.0,\n            'f': \"1.0\",\n        },\n\"Theft from Vehicle\"],\n [{\n            'v': 3,\n            'f': \"3\",\n        },\n{\n            'v': 2.0,\n            'f': \"2.0\",\n        },\n\"Mischief\"],\n [{\n            'v': 4,\n            'f': \"4\",\n        },\n{\n            'v': 3.0,\n            'f': \"3.0\",\n        },\n\"Break and Enter Commercial\"],\n [{\n            'v': 5,\n            'f': \"5\",\n        },\n{\n            'v': 4.0,\n            'f': \"4.0\",\n        },\n\"Break and Enter Commercial\"],\n [{\n            'v': 6,\n            'f': \"6\",\n        },\n{\n            'v': 5.0,\n            'f': \"5.0\",\n        },\n\"Break and Enter Commercial\"],\n [{\n            'v': 7,\n            'f': \"7\",\n        },\n{\n            'v': 6.0,\n            'f': \"6.0\",\n        },\n\"Theft from Vehicle\"],\n [{\n            'v': 8,\n            'f': \"8\",\n        },\n{\n            'v': 7.0,\n            'f': \"7.0\",\n        },\n\"Theft from Vehicle\"],\n [{\n            'v': 9,\n            'f': \"9\",\n        },\n{\n            'v': 8.0,\n            'f': \"8.0\",\n        },\n\"Theft from Vehicle\"],\n [{\n            'v': 10,\n            'f': \"10\",\n        },\n{\n            'v': 9.0,\n            'f': \"9.0\",\n        },\n\"Theft from Vehicle\"],\n [{\n            'v': 11,\n            'f': \"11\",\n        },\n{\n            'v': 10.0,\n            'f': \"10.0\",\n        },\n\"Theft from Vehicle\"],\n [{\n            'v': 12,\n            'f': \"12\",\n        },\n{\n            'v': 11.0,\n            'f': \"11.0\",\n        },\n\"Theft from Vehicle\"],\n [{\n            'v': 13,\n            'f': \"13\",\n        },\n{\n            'v': 12.0,\n            'f': \"12.0\",\n        },\n\"Theft from Vehicle\"],\n [{\n            'v': 14,\n            'f': \"14\",\n        },\n{\n            'v': 13.0,\n            'f': \"13.0\",\n        },\n\"Theft from Vehicle\"],\n [{\n            'v': 15,\n            'f': \"15\",\n        },\n{\n            'v': 14.0,\n            'f': \"14.0\",\n        },\n\"Theft from Vehicle\"],\n [{\n            'v': 16,\n            'f': \"16\",\n        },\n{\n            'v': 15.0,\n            'f': \"15.0\",\n        },\n\"Theft from Vehicle\"],\n [{\n            'v': 17,\n            'f': \"17\",\n        },\n{\n            'v': 16.0,\n            'f': \"16.0\",\n        },\n\"Theft from Vehicle\"],\n [{\n            'v': 18,\n            'f': \"18\",\n        },\n{\n            'v': 17.0,\n            'f': \"17.0\",\n        },\n\"Theft from Vehicle\"],\n [{\n            'v': 19,\n            'f': \"19\",\n        },\n{\n            'v': 18.0,\n            'f': \"18.0\",\n        },\n\"Theft from Vehicle\"],\n [{\n            'v': 20,\n            'f': \"20\",\n        },\n{\n            'v': 19.0,\n            'f': \"19.0\",\n        },\n\"Theft from Vehicle\"],\n [{\n            'v': 21,\n            'f': \"21\",\n        },\n{\n            'v': 20.0,\n            'f': \"20.0\",\n        },\n\"Theft from Vehicle\"],\n [{\n            'v': 22,\n            'f': \"22\",\n        },\n{\n            'v': 21.0,\n            'f': \"21.0\",\n        },\n\"Theft from Vehicle\"],\n [{\n            'v': 23,\n            'f': \"23\",\n        },\n{\n            'v': 22.0,\n            'f': \"22.0\",\n        },\n\"Theft from Vehicle\"],\n [{\n            'v': 24,\n            'f': \"24\",\n        },\n{\n            'v': 23.0,\n            'f': \"23.0\",\n        },\n\"Theft from Vehicle\"]],\n        columns: [[\"number\", \"index\"], [\"number\", \"hour\"], [\"string\", \"crimetype\"]],\n        columnOptions: [{\"width\": \"1px\", \"className\": \"index_column\"}],\n        rowsPerPage: 25,\n        helpUrl: \"https://colab.research.google.com/notebooks/data_table.ipynb\",\n        suppressOutputScrolling: true,\n        minimumWidth: undefined,\n      });\n    ",
            "text/html": [
              "\n",
              "  <div id=\"df-95aaeea2-5e85-4e54-a494-7731239f3fb0\">\n",
              "    <div class=\"colab-df-container\">\n",
              "      <div>\n",
              "<style scoped>\n",
              "    .dataframe tbody tr th:only-of-type {\n",
              "        vertical-align: middle;\n",
              "    }\n",
              "\n",
              "    .dataframe tbody tr th {\n",
              "        vertical-align: top;\n",
              "    }\n",
              "\n",
              "    .dataframe thead th {\n",
              "        text-align: right;\n",
              "    }\n",
              "</style>\n",
              "<table border=\"1\" class=\"dataframe\">\n",
              "  <thead>\n",
              "    <tr style=\"text-align: right;\">\n",
              "      <th></th>\n",
              "      <th>hour</th>\n",
              "      <th>crimetype</th>\n",
              "    </tr>\n",
              "  </thead>\n",
              "  <tbody>\n",
              "    <tr>\n",
              "      <th>0</th>\n",
              "      <td>NaN</td>\n",
              "      <td>Offence Against a Person</td>\n",
              "    </tr>\n",
              "    <tr>\n",
              "      <th>1</th>\n",
              "      <td>0.0</td>\n",
              "      <td>Theft from Vehicle</td>\n",
              "    </tr>\n",
              "    <tr>\n",
              "      <th>2</th>\n",
              "      <td>1.0</td>\n",
              "      <td>Theft from Vehicle</td>\n",
              "    </tr>\n",
              "    <tr>\n",
              "      <th>3</th>\n",
              "      <td>2.0</td>\n",
              "      <td>Mischief</td>\n",
              "    </tr>\n",
              "    <tr>\n",
              "      <th>4</th>\n",
              "      <td>3.0</td>\n",
              "      <td>Break and Enter Commercial</td>\n",
              "    </tr>\n",
              "    <tr>\n",
              "      <th>5</th>\n",
              "      <td>4.0</td>\n",
              "      <td>Break and Enter Commercial</td>\n",
              "    </tr>\n",
              "    <tr>\n",
              "      <th>6</th>\n",
              "      <td>5.0</td>\n",
              "      <td>Break and Enter Commercial</td>\n",
              "    </tr>\n",
              "    <tr>\n",
              "      <th>7</th>\n",
              "      <td>6.0</td>\n",
              "      <td>Theft from Vehicle</td>\n",
              "    </tr>\n",
              "    <tr>\n",
              "      <th>8</th>\n",
              "      <td>7.0</td>\n",
              "      <td>Theft from Vehicle</td>\n",
              "    </tr>\n",
              "    <tr>\n",
              "      <th>9</th>\n",
              "      <td>8.0</td>\n",
              "      <td>Theft from Vehicle</td>\n",
              "    </tr>\n",
              "    <tr>\n",
              "      <th>10</th>\n",
              "      <td>9.0</td>\n",
              "      <td>Theft from Vehicle</td>\n",
              "    </tr>\n",
              "    <tr>\n",
              "      <th>11</th>\n",
              "      <td>10.0</td>\n",
              "      <td>Theft from Vehicle</td>\n",
              "    </tr>\n",
              "    <tr>\n",
              "      <th>12</th>\n",
              "      <td>11.0</td>\n",
              "      <td>Theft from Vehicle</td>\n",
              "    </tr>\n",
              "    <tr>\n",
              "      <th>13</th>\n",
              "      <td>12.0</td>\n",
              "      <td>Theft from Vehicle</td>\n",
              "    </tr>\n",
              "    <tr>\n",
              "      <th>14</th>\n",
              "      <td>13.0</td>\n",
              "      <td>Theft from Vehicle</td>\n",
              "    </tr>\n",
              "    <tr>\n",
              "      <th>15</th>\n",
              "      <td>14.0</td>\n",
              "      <td>Theft from Vehicle</td>\n",
              "    </tr>\n",
              "    <tr>\n",
              "      <th>16</th>\n",
              "      <td>15.0</td>\n",
              "      <td>Theft from Vehicle</td>\n",
              "    </tr>\n",
              "    <tr>\n",
              "      <th>17</th>\n",
              "      <td>16.0</td>\n",
              "      <td>Theft from Vehicle</td>\n",
              "    </tr>\n",
              "    <tr>\n",
              "      <th>18</th>\n",
              "      <td>17.0</td>\n",
              "      <td>Theft from Vehicle</td>\n",
              "    </tr>\n",
              "    <tr>\n",
              "      <th>19</th>\n",
              "      <td>18.0</td>\n",
              "      <td>Theft from Vehicle</td>\n",
              "    </tr>\n",
              "    <tr>\n",
              "      <th>20</th>\n",
              "      <td>19.0</td>\n",
              "      <td>Theft from Vehicle</td>\n",
              "    </tr>\n",
              "    <tr>\n",
              "      <th>21</th>\n",
              "      <td>20.0</td>\n",
              "      <td>Theft from Vehicle</td>\n",
              "    </tr>\n",
              "    <tr>\n",
              "      <th>22</th>\n",
              "      <td>21.0</td>\n",
              "      <td>Theft from Vehicle</td>\n",
              "    </tr>\n",
              "    <tr>\n",
              "      <th>23</th>\n",
              "      <td>22.0</td>\n",
              "      <td>Theft from Vehicle</td>\n",
              "    </tr>\n",
              "    <tr>\n",
              "      <th>24</th>\n",
              "      <td>23.0</td>\n",
              "      <td>Theft from Vehicle</td>\n",
              "    </tr>\n",
              "  </tbody>\n",
              "</table>\n",
              "</div>\n",
              "      <button class=\"colab-df-convert\" onclick=\"convertToInteractive('df-95aaeea2-5e85-4e54-a494-7731239f3fb0')\"\n",
              "              title=\"Convert this dataframe to an interactive table.\"\n",
              "              style=\"display:none;\">\n",
              "        \n",
              "  <svg xmlns=\"http://www.w3.org/2000/svg\" height=\"24px\"viewBox=\"0 0 24 24\"\n",
              "       width=\"24px\">\n",
              "    <path d=\"M0 0h24v24H0V0z\" fill=\"none\"/>\n",
              "    <path d=\"M18.56 5.44l.94 2.06.94-2.06 2.06-.94-2.06-.94-.94-2.06-.94 2.06-2.06.94zm-11 1L8.5 8.5l.94-2.06 2.06-.94-2.06-.94L8.5 2.5l-.94 2.06-2.06.94zm10 10l.94 2.06.94-2.06 2.06-.94-2.06-.94-.94-2.06-.94 2.06-2.06.94z\"/><path d=\"M17.41 7.96l-1.37-1.37c-.4-.4-.92-.59-1.43-.59-.52 0-1.04.2-1.43.59L10.3 9.45l-7.72 7.72c-.78.78-.78 2.05 0 2.83L4 21.41c.39.39.9.59 1.41.59.51 0 1.02-.2 1.41-.59l7.78-7.78 2.81-2.81c.8-.78.8-2.07 0-2.86zM5.41 20L4 18.59l7.72-7.72 1.47 1.35L5.41 20z\"/>\n",
              "  </svg>\n",
              "      </button>\n",
              "      \n",
              "  <style>\n",
              "    .colab-df-container {\n",
              "      display:flex;\n",
              "      flex-wrap:wrap;\n",
              "      gap: 12px;\n",
              "    }\n",
              "\n",
              "    .colab-df-convert {\n",
              "      background-color: #E8F0FE;\n",
              "      border: none;\n",
              "      border-radius: 50%;\n",
              "      cursor: pointer;\n",
              "      display: none;\n",
              "      fill: #1967D2;\n",
              "      height: 32px;\n",
              "      padding: 0 0 0 0;\n",
              "      width: 32px;\n",
              "    }\n",
              "\n",
              "    .colab-df-convert:hover {\n",
              "      background-color: #E2EBFA;\n",
              "      box-shadow: 0px 1px 2px rgba(60, 64, 67, 0.3), 0px 1px 3px 1px rgba(60, 64, 67, 0.15);\n",
              "      fill: #174EA6;\n",
              "    }\n",
              "\n",
              "    [theme=dark] .colab-df-convert {\n",
              "      background-color: #3B4455;\n",
              "      fill: #D2E3FC;\n",
              "    }\n",
              "\n",
              "    [theme=dark] .colab-df-convert:hover {\n",
              "      background-color: #434B5C;\n",
              "      box-shadow: 0px 1px 3px 1px rgba(0, 0, 0, 0.15);\n",
              "      filter: drop-shadow(0px 1px 2px rgba(0, 0, 0, 0.3));\n",
              "      fill: #FFFFFF;\n",
              "    }\n",
              "  </style>\n",
              "\n",
              "      <script>\n",
              "        const buttonEl =\n",
              "          document.querySelector('#df-95aaeea2-5e85-4e54-a494-7731239f3fb0 button.colab-df-convert');\n",
              "        buttonEl.style.display =\n",
              "          google.colab.kernel.accessAllowed ? 'block' : 'none';\n",
              "\n",
              "        async function convertToInteractive(key) {\n",
              "          const element = document.querySelector('#df-95aaeea2-5e85-4e54-a494-7731239f3fb0');\n",
              "          const dataTable =\n",
              "            await google.colab.kernel.invokeFunction('convertToInteractive',\n",
              "                                                     [key], {});\n",
              "          if (!dataTable) return;\n",
              "\n",
              "          const docLinkHtml = 'Like what you see? Visit the ' +\n",
              "            '<a target=\"_blank\" href=https://colab.research.google.com/notebooks/data_table.ipynb>data table notebook</a>'\n",
              "            + ' to learn more about interactive tables.';\n",
              "          element.innerHTML = '';\n",
              "          dataTable['output_type'] = 'display_data';\n",
              "          await google.colab.output.renderOutput(dataTable, element);\n",
              "          const docLink = document.createElement('div');\n",
              "          docLink.innerHTML = docLinkHtml;\n",
              "          element.appendChild(docLink);\n",
              "        }\n",
              "      </script>\n",
              "    </div>\n",
              "  </div>\n",
              "  "
            ],
            "text/plain": [
              "    hour                   crimetype\n",
              "0    NaN    Offence Against a Person\n",
              "1    0.0          Theft from Vehicle\n",
              "2    1.0          Theft from Vehicle\n",
              "3    2.0                    Mischief\n",
              "4    3.0  Break and Enter Commercial\n",
              "5    4.0  Break and Enter Commercial\n",
              "6    5.0  Break and Enter Commercial\n",
              "7    6.0          Theft from Vehicle\n",
              "8    7.0          Theft from Vehicle\n",
              "9    8.0          Theft from Vehicle\n",
              "10   9.0          Theft from Vehicle\n",
              "11  10.0          Theft from Vehicle\n",
              "12  11.0          Theft from Vehicle\n",
              "13  12.0          Theft from Vehicle\n",
              "14  13.0          Theft from Vehicle\n",
              "15  14.0          Theft from Vehicle\n",
              "16  15.0          Theft from Vehicle\n",
              "17  16.0          Theft from Vehicle\n",
              "18  17.0          Theft from Vehicle\n",
              "19  18.0          Theft from Vehicle\n",
              "20  19.0          Theft from Vehicle\n",
              "21  20.0          Theft from Vehicle\n",
              "22  21.0          Theft from Vehicle\n",
              "23  22.0          Theft from Vehicle\n",
              "24  23.0          Theft from Vehicle"
            ]
          },
          "metadata": {}
        },
        {
          "output_type": "display_data",
          "data": {
            "application/javascript": [
              "window[\"721fd59c-6710-11ec-87a2-0242ac1c0002\"] = google.colab.output.setActiveOutputArea(window[\"7218a362-6710-11ec-87a2-0242ac1c0002\"]);\n",
              "//# sourceURL=js_7b4f5ebb09"
            ],
            "text/plain": [
              "<IPython.core.display.Javascript object>"
            ]
          },
          "metadata": {}
        },
        {
          "output_type": "stream",
          "name": "stdout",
          "text": [
            " \n"
          ]
        },
        {
          "output_type": "display_data",
          "data": {
            "application/javascript": [
              "window[\"7222491c-6710-11ec-87a2-0242ac1c0002\"] = google.colab.output.setActiveOutputArea(window[\"72166f16-6710-11ec-87a2-0242ac1c0002\"]);\n",
              "//# sourceURL=js_217768c596"
            ],
            "text/plain": [
              "<IPython.core.display.Javascript object>"
            ]
          },
          "metadata": {}
        },
        {
          "output_type": "display_data",
          "data": {
            "application/javascript": [
              "window[\"7224e546-6710-11ec-87a2-0242ac1c0002\"] = google.colab.output.getActiveOutputArea();\n",
              "//# sourceURL=js_18e18774c2"
            ],
            "text/plain": [
              "<IPython.core.display.Javascript object>"
            ]
          },
          "metadata": {}
        },
        {
          "output_type": "display_data",
          "data": {
            "application/javascript": [
              "window[\"722538d4-6710-11ec-87a2-0242ac1c0002\"] = document.querySelector(\"#id226_content_4\");\n",
              "//# sourceURL=js_8eeb22175c"
            ],
            "text/plain": [
              "<IPython.core.display.Javascript object>"
            ]
          },
          "metadata": {}
        },
        {
          "output_type": "display_data",
          "data": {
            "application/javascript": [
              "window[\"7225952c-6710-11ec-87a2-0242ac1c0002\"] = google.colab.output.setActiveOutputArea(window[\"722538d4-6710-11ec-87a2-0242ac1c0002\"]);\n",
              "//# sourceURL=js_6d30caefa3"
            ],
            "text/plain": [
              "<IPython.core.display.Javascript object>"
            ]
          },
          "metadata": {}
        },
        {
          "output_type": "display_data",
          "data": {
            "application/javascript": [
              "window[\"7225f468-6710-11ec-87a2-0242ac1c0002\"] = window[\"id226\"].setSelectedTabIndex(4);\n",
              "//# sourceURL=js_8de439cf1f"
            ],
            "text/plain": [
              "<IPython.core.display.Javascript object>"
            ]
          },
          "metadata": {}
        },
        {
          "output_type": "display_data",
          "data": {
            "application/javascript": [
              "window[\"7227f402-6710-11ec-87a2-0242ac1c0002\"] = google.colab.output.getActiveOutputArea();\n",
              "//# sourceURL=js_501f8521ab"
            ],
            "text/plain": [
              "<IPython.core.display.Javascript object>"
            ]
          },
          "metadata": {}
        },
        {
          "output_type": "display_data",
          "data": {
            "application/javascript": [
              "window[\"72283e58-6710-11ec-87a2-0242ac1c0002\"] = document.querySelector(\"#id231_content_1\");\n",
              "//# sourceURL=js_fd1dc194e5"
            ],
            "text/plain": [
              "<IPython.core.display.Javascript object>"
            ]
          },
          "metadata": {}
        },
        {
          "output_type": "display_data",
          "data": {
            "application/javascript": [
              "window[\"72289ac4-6710-11ec-87a2-0242ac1c0002\"] = google.colab.output.setActiveOutputArea(window[\"72283e58-6710-11ec-87a2-0242ac1c0002\"]);\n",
              "//# sourceURL=js_5c5e2643a6"
            ],
            "text/plain": [
              "<IPython.core.display.Javascript object>"
            ]
          },
          "metadata": {}
        },
        {
          "output_type": "display_data",
          "data": {
            "application/javascript": [
              "window[\"7228fc8a-6710-11ec-87a2-0242ac1c0002\"] = window[\"id231\"].setSelectedTabIndex(1);\n",
              "//# sourceURL=js_635efd139b"
            ],
            "text/plain": [
              "<IPython.core.display.Javascript object>"
            ]
          },
          "metadata": {}
        },
        {
          "output_type": "stream",
          "name": "stdout",
          "text": [
            "The following table is stored at \u001b[1mNeighbourhoodCrimeDistribution\u001b[0m variable.\n"
          ]
        },
        {
          "output_type": "display_data",
          "data": {
            "application/vnd.google.colaboratory.module+javascript": "\n      import \"https://ssl.gstatic.com/colaboratory/data_table/a6224c040fa35dcf/data_table.js\";\n\n      window.createDataTable({\n        data: [[{\n            'v': 0,\n            'f': \"0\",\n        },\n\"Arbutus Ridge\",\n\"[{\\\"crimetype\\\":\\\"Break and Enter Commercial\\\",\\\"proportion\\\":0.0535773161885922},{\\\"crimetype\\\":\\\"Break and Enter Residential/Other\\\",\\\"proportion\\\":0.275634685130234},{\\\"crimetype\\\":\\\"Mischief\\\",\\\"proportion\\\":0.153972964061985},{\\\"crimetype\\\":\\\"Other Theft\\\",\\\"proportion\\\":0.0555555555555556},{\\\"crimetype\\\":\\\"Theft from Vehicle\\\",\\\"proportion\\\":0.305308275634685},{\\\"crimetype\\\":\\\"Theft of Bicycle\\\",\\\"proportion\\\":0.0263765248928454},{\\\"crimetype\\\":\\\"Theft of Vehicle\\\",\\\"proportion\\\":0.0820969337289812},{\\\"crimetype\\\":\\\"Vehicle Collision or Pedestrian Struck (with Fatality)\\\",\\\"proportion\\\":0.000494559841740851},{\\\"crimetype\\\":\\\"Vehicle Collision or Pedestrian Struck (with Injury)\\\",\\\"proportion\\\":0.0469831849653808}]\"],\n [{\n            'v': 1,\n            'f': \"1\",\n        },\n\"Central Business District\",\n\"[{\\\"crimetype\\\":\\\"Break and Enter Commercial\\\",\\\"proportion\\\":0.0844637529631265},{\\\"crimetype\\\":\\\"Break and Enter Residential/Other\\\",\\\"proportion\\\":0.0315916608831244},{\\\"crimetype\\\":\\\"Mischief\\\",\\\"proportion\\\":0.150269948714251},{\\\"crimetype\\\":\\\"Other Theft\\\",\\\"proportion\\\":0.17345218888298},{\\\"crimetype\\\":\\\"Theft from Vehicle\\\",\\\"proportion\\\":0.43266604775253},{\\\"crimetype\\\":\\\"Theft of Bicycle\\\",\\\"proportion\\\":0.06225495056198},{\\\"crimetype\\\":\\\"Theft of Vehicle\\\",\\\"proportion\\\":0.0361974636538167},{\\\"crimetype\\\":\\\"Vehicle Collision or Pedestrian Struck (with Fatality)\\\",\\\"proportion\\\":0.000369545819174921},{\\\"crimetype\\\":\\\"Vehicle Collision or Pedestrian Struck (with Injury)\\\",\\\"proportion\\\":0.0287344407690158}]\"],\n [{\n            'v': 2,\n            'f': \"2\",\n        },\n\"Dunbar-Southlands\",\n\"[{\\\"crimetype\\\":\\\"Break and Enter Commercial\\\",\\\"proportion\\\":0.0379550735863672},{\\\"crimetype\\\":\\\"Break and Enter Residential/Other\\\",\\\"proportion\\\":0.238445649367415},{\\\"crimetype\\\":\\\"Mischief\\\",\\\"proportion\\\":0.170926930028402},{\\\"crimetype\\\":\\\"Other Theft\\\",\\\"proportion\\\":0.0311128324296411},{\\\"crimetype\\\":\\\"Theft from Vehicle\\\",\\\"proportion\\\":0.37425768138394},{\\\"crimetype\\\":\\\"Theft of Bicycle\\\",\\\"proportion\\\":0.0309837335398916},{\\\"crimetype\\\":\\\"Theft of Vehicle\\\",\\\"proportion\\\":0.0812032016524658},{\\\"crimetype\\\":\\\"Vehicle Collision or Pedestrian Struck (with Fatality)\\\",\\\"proportion\\\":0.000387296669248644},{\\\"crimetype\\\":\\\"Vehicle Collision or Pedestrian Struck (with Injury)\\\",\\\"proportion\\\":0.0347276013426285}]\"],\n [{\n            'v': 3,\n            'f': \"3\",\n        },\n\"Fairview\",\n\"[{\\\"crimetype\\\":\\\"Break and Enter Commercial\\\",\\\"proportion\\\":0.102702030409502},{\\\"crimetype\\\":\\\"Break and Enter Residential/Other\\\",\\\"proportion\\\":0.119212711047542},{\\\"crimetype\\\":\\\"Mischief\\\",\\\"proportion\\\":0.0993750194334753},{\\\"crimetype\\\":\\\"Other Theft\\\",\\\"proportion\\\":0.101644849351699},{\\\"crimetype\\\":\\\"Theft from Vehicle\\\",\\\"proportion\\\":0.371070551288828},{\\\"crimetype\\\":\\\"Theft of Bicycle\\\",\\\"proportion\\\":0.105531544417151},{\\\"crimetype\\\":\\\"Theft of Vehicle\\\",\\\"proportion\\\":0.0633375827866049},{\\\"crimetype\\\":\\\"Vehicle Collision or Pedestrian Struck (with Fatality)\\\",\\\"proportion\\\":0.000435309847330618},{\\\"crimetype\\\":\\\"Vehicle Collision or Pedestrian Struck (with Injury)\\\",\\\"proportion\\\":0.0366904014178664}]\"],\n [{\n            'v': 4,\n            'f': \"4\",\n        },\n\"Grandview-Woodland\",\n\"[{\\\"crimetype\\\":\\\"Break and Enter Commercial\\\",\\\"proportion\\\":0.0766004415011037},{\\\"crimetype\\\":\\\"Break and Enter Residential/Other\\\",\\\"proportion\\\":0.166114790286976},{\\\"crimetype\\\":\\\"Mischief\\\",\\\"proportion\\\":0.182855040470935},{\\\"crimetype\\\":\\\"Other Theft\\\",\\\"proportion\\\":0.0922737306843267},{\\\"crimetype\\\":\\\"Theft from Vehicle\\\",\\\"proportion\\\":0.270125091979397},{\\\"crimetype\\\":\\\"Theft of Bicycle\\\",\\\"proportion\\\":0.0516188373804268},{\\\"crimetype\\\":\\\"Theft of Vehicle\\\",\\\"proportion\\\":0.114459161147903},{\\\"crimetype\\\":\\\"Vehicle Collision or Pedestrian Struck (with Fatality)\\\",\\\"proportion\\\":0.00033112582781457},{\\\"crimetype\\\":\\\"Vehicle Collision or Pedestrian Struck (with Injury)\\\",\\\"proportion\\\":0.0456217807211185}]\"],\n [{\n            'v': 5,\n            'f': \"5\",\n        },\n\"Hastings-Sunrise\",\n\"[{\\\"crimetype\\\":\\\"Break and Enter Commercial\\\",\\\"proportion\\\":0.0512523446982235},{\\\"crimetype\\\":\\\"Break and Enter Residential/Other\\\",\\\"proportion\\\":0.176486814520578},{\\\"crimetype\\\":\\\"Mischief\\\",\\\"proportion\\\":0.160211850380669},{\\\"crimetype\\\":\\\"Other Theft\\\",\\\"proportion\\\":0.0760785611828313},{\\\"crimetype\\\":\\\"Theft from Vehicle\\\",\\\"proportion\\\":0.311927617786605},{\\\"crimetype\\\":\\\"Theft of Bicycle\\\",\\\"proportion\\\":0.0177093677590202},{\\\"crimetype\\\":\\\"Theft of Vehicle\\\",\\\"proportion\\\":0.135275295156129},{\\\"crimetype\\\":\\\"Vehicle Collision or Pedestrian Struck (with Fatality)\\\",\\\"proportion\\\":0.00099304865938431},{\\\"crimetype\\\":\\\"Vehicle Collision or Pedestrian Struck (with Injury)\\\",\\\"proportion\\\":0.0700650998565596}]\"],\n [{\n            'v': 6,\n            'f': \"6\",\n        },\n\"Kensington-Cedar Cottage\",\n\"[{\\\"crimetype\\\":\\\"Break and Enter Commercial\\\",\\\"proportion\\\":0.0512008339681649},{\\\"crimetype\\\":\\\"Break and Enter Residential/Other\\\",\\\"proportion\\\":0.165831362014354},{\\\"crimetype\\\":\\\"Mischief\\\",\\\"proportion\\\":0.150755783649413},{\\\"crimetype\\\":\\\"Other Theft\\\",\\\"proportion\\\":0.118720179623912},{\\\"crimetype\\\":\\\"Theft from Vehicle\\\",\\\"proportion\\\":0.299667214626519},{\\\"crimetype\\\":\\\"Theft of Bicycle\\\",\\\"proportion\\\":0.034441281424161},{\\\"crimetype\\\":\\\"Theft of Vehicle\\\",\\\"proportion\\\":0.11703620544485},{\\\"crimetype\\\":\\\"Vehicle Collision or Pedestrian Struck (with Fatality)\\\",\\\"proportion\\\":0.000441040856421154},{\\\"crimetype\\\":\\\"Vehicle Collision or Pedestrian Struck (with Injury)\\\",\\\"proportion\\\":0.0619060983922056}]\"],\n [{\n            'v': 7,\n            'f': \"7\",\n        },\n\"Kerrisdale\",\n\"[{\\\"crimetype\\\":\\\"Break and Enter Commercial\\\",\\\"proportion\\\":0.0437760171881294},{\\\"crimetype\\\":\\\"Break and Enter Residential/Other\\\",\\\"proportion\\\":0.24519940915805},{\\\"crimetype\\\":\\\"Mischief\\\",\\\"proportion\\\":0.140862092117631},{\\\"crimetype\\\":\\\"Other Theft\\\",\\\"proportion\\\":0.0355847992480193},{\\\"crimetype\\\":\\\"Theft from Vehicle\\\",\\\"proportion\\\":0.376661742983752},{\\\"crimetype\\\":\\\"Theft of Bicycle\\\",\\\"proportion\\\":0.0240365247750772},{\\\"crimetype\\\":\\\"Theft of Vehicle\\\",\\\"proportion\\\":0.0734523969383644},{\\\"crimetype\\\":\\\"Vehicle Collision or Pedestrian Struck (with Fatality)\\\",\\\"proportion\\\":0.000939975829192964},{\\\"crimetype\\\":\\\"Vehicle Collision or Pedestrian Struck (with Injury)\\\",\\\"proportion\\\":0.0594870417617833}]\"],\n [{\n            'v': 8,\n            'f': \"8\",\n        },\n\"Killarney\",\n\"[{\\\"crimetype\\\":\\\"Break and Enter Commercial\\\",\\\"proportion\\\":0.0288305489260143},{\\\"crimetype\\\":\\\"Break and Enter Residential/Other\\\",\\\"proportion\\\":0.203341288782816},{\\\"crimetype\\\":\\\"Mischief\\\",\\\"proportion\\\":0.168114558472554},{\\\"crimetype\\\":\\\"Other Theft\\\",\\\"proportion\\\":0.0233890214797136},{\\\"crimetype\\\":\\\"Theft from Vehicle\\\",\\\"proportion\\\":0.38090692124105},{\\\"crimetype\\\":\\\"Theft of Bicycle\\\",\\\"proportion\\\":0.0155608591885442},{\\\"crimetype\\\":\\\"Theft of Vehicle\\\",\\\"proportion\\\":0.124295942720764},{\\\"crimetype\\\":\\\"Vehicle Collision or Pedestrian Struck (with Fatality)\\\",\\\"proportion\\\":0.00114558472553699},{\\\"crimetype\\\":\\\"Vehicle Collision or Pedestrian Struck (with Injury)\\\",\\\"proportion\\\":0.0544152744630072}]\"],\n [{\n            'v': 9,\n            'f': \"9\",\n        },\n\"Kitsilano\",\n\"[{\\\"crimetype\\\":\\\"Break and Enter Commercial\\\",\\\"proportion\\\":0.078354994569085},{\\\"crimetype\\\":\\\"Break and Enter Residential/Other\\\",\\\"proportion\\\":0.164425633918873},{\\\"crimetype\\\":\\\"Mischief\\\",\\\"proportion\\\":0.138282332671636},{\\\"crimetype\\\":\\\"Other Theft\\\",\\\"proportion\\\":0.0647964343233829},{\\\"crimetype\\\":\\\"Theft from Vehicle\\\",\\\"proportion\\\":0.333795273231207},{\\\"crimetype\\\":\\\"Theft of Bicycle\\\",\\\"proportion\\\":0.092288100677928},{\\\"crimetype\\\":\\\"Theft of Vehicle\\\",\\\"proportion\\\":0.0886175512191468},{\\\"crimetype\\\":\\\"Vehicle Collision or Pedestrian Struck (with Fatality)\\\",\\\"proportion\\\":0.000486909622083224},{\\\"crimetype\\\":\\\"Vehicle Collision or Pedestrian Struck (with Injury)\\\",\\\"proportion\\\":0.0389527697666579}]\"],\n [{\n            'v': 10,\n            'f': \"10\",\n        },\n\"Marpole\",\n\"[{\\\"crimetype\\\":\\\"Break and Enter Commercial\\\",\\\"proportion\\\":0.0839257051135061},{\\\"crimetype\\\":\\\"Break and Enter Residential/Other\\\",\\\"proportion\\\":0.193151417870519},{\\\"crimetype\\\":\\\"Mischief\\\",\\\"proportion\\\":0.145608805319881},{\\\"crimetype\\\":\\\"Other Theft\\\",\\\"proportion\\\":0.0467782618665444},{\\\"crimetype\\\":\\\"Theft from Vehicle\\\",\\\"proportion\\\":0.317281968967362},{\\\"crimetype\\\":\\\"Theft of Bicycle\\\",\\\"proportion\\\":0.0177329358709776},{\\\"crimetype\\\":\\\"Theft of Vehicle\\\",\\\"proportion\\\":0.123595505617978},{\\\"crimetype\\\":\\\"Vehicle Collision or Pedestrian Struck (with Fatality)\\\",\\\"proportion\\\":0.000764350684093862},{\\\"crimetype\\\":\\\"Vehicle Collision or Pedestrian Struck (with Injury)\\\",\\\"proportion\\\":0.0711610486891386}]\"],\n [{\n            'v': 11,\n            'f': \"11\",\n        },\n\"Mount Pleasant\",\n\"[{\\\"crimetype\\\":\\\"Break and Enter Commercial\\\",\\\"proportion\\\":0.0906798532879225},{\\\"crimetype\\\":\\\"Break and Enter Residential/Other\\\",\\\"proportion\\\":0.107348703170029},{\\\"crimetype\\\":\\\"Mischief\\\",\\\"proportion\\\":0.13328530259366},{\\\"crimetype\\\":\\\"Other Theft\\\",\\\"proportion\\\":0.121102960440136},{\\\"crimetype\\\":\\\"Theft from Vehicle\\\",\\\"proportion\\\":0.316970133612785},{\\\"crimetype\\\":\\\"Theft of Bicycle\\\",\\\"proportion\\\":0.0899266439612261},{\\\"crimetype\\\":\\\"Theft of Vehicle\\\",\\\"proportion\\\":0.0869138066544407},{\\\"crimetype\\\":\\\"Vehicle Collision or Pedestrian Struck (with Fatality)\\\",\\\"proportion\\\":0.000589468168718889},{\\\"crimetype\\\":\\\"Vehicle Collision or Pedestrian Struck (with Injury)\\\",\\\"proportion\\\":0.053183128111082}]\"],\n [{\n            'v': 12,\n            'f': \"12\",\n        },\n\"Musqueam\",\n\"[{\\\"crimetype\\\":\\\"Break and Enter Commercial\\\",\\\"proportion\\\":0.0319548872180451},{\\\"crimetype\\\":\\\"Break and Enter Residential/Other\\\",\\\"proportion\\\":0.161654135338346},{\\\"crimetype\\\":\\\"Mischief\\\",\\\"proportion\\\":0.195488721804511},{\\\"crimetype\\\":\\\"Other Theft\\\",\\\"proportion\\\":0.0018796992481203},{\\\"crimetype\\\":\\\"Theft from Vehicle\\\",\\\"proportion\\\":0.407894736842105},{\\\"crimetype\\\":\\\"Theft of Bicycle\\\",\\\"proportion\\\":0.0131578947368421},{\\\"crimetype\\\":\\\"Theft of Vehicle\\\",\\\"proportion\\\":0.075187969924812},{\\\"crimetype\\\":\\\"Vehicle Collision or Pedestrian Struck (with Fatality)\\\",\\\"proportion\\\":0.0018796992481203},{\\\"crimetype\\\":\\\"Vehicle Collision or Pedestrian Struck (with Injury)\\\",\\\"proportion\\\":0.110902255639098}]\"],\n [{\n            'v': 13,\n            'f': \"13\",\n        },\n\"Oakridge\",\n\"[{\\\"crimetype\\\":\\\"Break and Enter Commercial\\\",\\\"proportion\\\":0.0413089461241757},{\\\"crimetype\\\":\\\"Break and Enter Residential/Other\\\",\\\"proportion\\\":0.259922856787358},{\\\"crimetype\\\":\\\"Mischief\\\",\\\"proportion\\\":0.110613412965037},{\\\"crimetype\\\":\\\"Other Theft\\\",\\\"proportion\\\":0.146323254945875},{\\\"crimetype\\\":\\\"Theft from Vehicle\\\",\\\"proportion\\\":0.284932188627597},{\\\"crimetype\\\":\\\"Theft of Bicycle\\\",\\\"proportion\\\":0.0214010202811995},{\\\"crimetype\\\":\\\"Theft of Vehicle\\\",\\\"proportion\\\":0.0832400149309444},{\\\"crimetype\\\":\\\"Vehicle Collision or Pedestrian Struck (with Fatality)\\\",\\\"proportion\\\":0.000746547219111609},{\\\"crimetype\\\":\\\"Vehicle Collision or Pedestrian Struck (with Injury)\\\",\\\"proportion\\\":0.051511758118701}]\"],\n [{\n            'v': 14,\n            'f': \"14\",\n        },\n\"Renfrew-Collingwood\",\n\"[{\\\"crimetype\\\":\\\"Break and Enter Commercial\\\",\\\"proportion\\\":0.044729270206644},{\\\"crimetype\\\":\\\"Break and Enter Residential/Other\\\",\\\"proportion\\\":0.16053211763387},{\\\"crimetype\\\":\\\"Mischief\\\",\\\"proportion\\\":0.145211314973282},{\\\"crimetype\\\":\\\"Other Theft\\\",\\\"proportion\\\":0.15391801502186},{\\\"crimetype\\\":\\\"Theft from Vehicle\\\",\\\"proportion\\\":0.314636971712567},{\\\"crimetype\\\":\\\"Theft of Bicycle\\\",\\\"proportion\\\":0.0156571129628938},{\\\"crimetype\\\":\\\"Theft of Vehicle\\\",\\\"proportion\\\":0.112514480026905},{\\\"crimetype\\\":\\\"Vehicle Collision or Pedestrian Struck (with Fatality)\\\",\\\"proportion\\\":0.000448413736407459},{\\\"crimetype\\\":\\\"Vehicle Collision or Pedestrian Struck (with Injury)\\\",\\\"proportion\\\":0.0523523037255708}]\"],\n [{\n            'v': 15,\n            'f': \"15\",\n        },\n\"Riley Park\",\n\"[{\\\"crimetype\\\":\\\"Break and Enter Commercial\\\",\\\"proportion\\\":0.0677262199504832},{\\\"crimetype\\\":\\\"Break and Enter Residential/Other\\\",\\\"proportion\\\":0.216116923568405},{\\\"crimetype\\\":\\\"Mischief\\\",\\\"proportion\\\":0.143359156616884},{\\\"crimetype\\\":\\\"Other Theft\\\",\\\"proportion\\\":0.0327449884194553},{\\\"crimetype\\\":\\\"Theft from Vehicle\\\",\\\"proportion\\\":0.340947208689402},{\\\"crimetype\\\":\\\"Theft of Bicycle\\\",\\\"proportion\\\":0.0495966775816628},{\\\"crimetype\\\":\\\"Theft of Vehicle\\\",\\\"proportion\\\":0.0955993930197269},{\\\"crimetype\\\":\\\"Vehicle Collision or Pedestrian Struck (with Fatality)\\\",\\\"proportion\\\":0.000319463301653223},{\\\"crimetype\\\":\\\"Vehicle Collision or Pedestrian Struck (with Injury)\\\",\\\"proportion\\\":0.0535899688523281}]\"],\n [{\n            'v': 16,\n            'f': \"16\",\n        },\n\"Shaughnessy\",\n\"[{\\\"crimetype\\\":\\\"Break and Enter Commercial\\\",\\\"proportion\\\":0.0237744194618504},{\\\"crimetype\\\":\\\"Break and Enter Residential/Other\\\",\\\"proportion\\\":0.326944342056764},{\\\"crimetype\\\":\\\"Mischief\\\",\\\"proportion\\\":0.116660523405824},{\\\"crimetype\\\":\\\"Other Theft\\\",\\\"proportion\\\":0.00460744563214154},{\\\"crimetype\\\":\\\"Theft from Vehicle\\\",\\\"proportion\\\":0.326022852930335},{\\\"crimetype\\\":\\\"Theft of Bicycle\\\",\\\"proportion\\\":0.025617397714707},{\\\"crimetype\\\":\\\"Theft of Vehicle\\\",\\\"proportion\\\":0.0683744931809805},{\\\"crimetype\\\":\\\"Vehicle Collision or Pedestrian Struck (with Fatality)\\\",\\\"proportion\\\":0.00129008477699963},{\\\"crimetype\\\":\\\"Vehicle Collision or Pedestrian Struck (with Injury)\\\",\\\"proportion\\\":0.106708440840398}]\"],\n [{\n            'v': 17,\n            'f': \"17\",\n        },\n\"South Cambie\",\n\"[{\\\"crimetype\\\":\\\"Break and Enter Commercial\\\",\\\"proportion\\\":0.0602455871066769},{\\\"crimetype\\\":\\\"Break and Enter Residential/Other\\\",\\\"proportion\\\":0.212778204144282},{\\\"crimetype\\\":\\\"Mischief\\\",\\\"proportion\\\":0.116270145817345},{\\\"crimetype\\\":\\\"Other Theft\\\",\\\"proportion\\\":0.145625479662318},{\\\"crimetype\\\":\\\"Theft from Vehicle\\\",\\\"proportion\\\":0.29336147352264},{\\\"crimetype\\\":\\\"Theft of Bicycle\\\",\\\"proportion\\\":0.0424021488871834},{\\\"crimetype\\\":\\\"Theft of Vehicle\\\",\\\"proportion\\\":0.0834612432847276},{\\\"crimetype\\\":\\\"Vehicle Collision or Pedestrian Struck (with Fatality)\\\",\\\"proportion\\\":0.000383729854182655},{\\\"crimetype\\\":\\\"Vehicle Collision or Pedestrian Struck (with Injury)\\\",\\\"proportion\\\":0.0454719877206447}]\"],\n [{\n            'v': 18,\n            'f': \"18\",\n        },\n\"Stanley Park\",\n\"[{\\\"crimetype\\\":\\\"Break and Enter Commercial\\\",\\\"proportion\\\":0.0190728476821192},{\\\"crimetype\\\":\\\"Break and Enter Residential/Other\\\",\\\"proportion\\\":0.0172185430463576},{\\\"crimetype\\\":\\\"Mischief\\\",\\\"proportion\\\":0.0651655629139073},{\\\"crimetype\\\":\\\"Other Theft\\\",\\\"proportion\\\":0.00344370860927152},{\\\"crimetype\\\":\\\"Theft from Vehicle\\\",\\\"proportion\\\":0.759735099337748},{\\\"crimetype\\\":\\\"Theft of Bicycle\\\",\\\"proportion\\\":0.0566887417218543},{\\\"crimetype\\\":\\\"Theft of Vehicle\\\",\\\"proportion\\\":0.0196026490066225},{\\\"crimetype\\\":\\\"Vehicle Collision or Pedestrian Struck (with Fatality)\\\",\\\"proportion\\\":0.00158940397350993},{\\\"crimetype\\\":\\\"Vehicle Collision or Pedestrian Struck (with Injury)\\\",\\\"proportion\\\":0.0574834437086093}]\"],\n [{\n            'v': 19,\n            'f': \"19\",\n        },\n\"Strathcona\",\n\"[{\\\"crimetype\\\":\\\"Break and Enter Commercial\\\",\\\"proportion\\\":0.103637841196998},{\\\"crimetype\\\":\\\"Break and Enter Residential/Other\\\",\\\"proportion\\\":0.0965151297863187},{\\\"crimetype\\\":\\\"Mischief\\\",\\\"proportion\\\":0.217792437497012},{\\\"crimetype\\\":\\\"Other Theft\\\",\\\"proportion\\\":0.0475166116927195},{\\\"crimetype\\\":\\\"Theft from Vehicle\\\",\\\"proportion\\\":0.351020603279315},{\\\"crimetype\\\":\\\"Theft of Bicycle\\\",\\\"proportion\\\":0.0485204837707347},{\\\"crimetype\\\":\\\"Theft of Vehicle\\\",\\\"proportion\\\":0.078875663272623},{\\\"crimetype\\\":\\\"Vehicle Collision or Pedestrian Struck (with Fatality)\\\",\\\"proportion\\\":0.000956068645728763},{\\\"crimetype\\\":\\\"Vehicle Collision or Pedestrian Struck (with Injury)\\\",\\\"proportion\\\":0.0551651608585496}]\"],\n [{\n            'v': 20,\n            'f': \"20\",\n        },\n\"Sunset\",\n\"[{\\\"crimetype\\\":\\\"Break and Enter Commercial\\\",\\\"proportion\\\":0.0635203495056335},{\\\"crimetype\\\":\\\"Break and Enter Residential/Other\\\",\\\"proportion\\\":0.148194987353415},{\\\"crimetype\\\":\\\"Mischief\\\",\\\"proportion\\\":0.186422166015176},{\\\"crimetype\\\":\\\"Other Theft\\\",\\\"proportion\\\":0.0805357553460566},{\\\"crimetype\\\":\\\"Theft from Vehicle\\\",\\\"proportion\\\":0.300413888250172},{\\\"crimetype\\\":\\\"Theft of Bicycle\\\",\\\"proportion\\\":0.0146585421936077},{\\\"crimetype\\\":\\\"Theft of Vehicle\\\",\\\"proportion\\\":0.130777190158657},{\\\"crimetype\\\":\\\"Vehicle Collision or Pedestrian Struck (with Fatality)\\\",\\\"proportion\\\":0.000977236146240515},{\\\"crimetype\\\":\\\"Vehicle Collision or Pedestrian Struck (with Injury)\\\",\\\"proportion\\\":0.0744998850310416}]\"],\n [{\n            'v': 21,\n            'f': \"21\",\n        },\n\"Victoria-Fraserview\",\n\"[{\\\"crimetype\\\":\\\"Break and Enter Commercial\\\",\\\"proportion\\\":0.0356779739347444},{\\\"crimetype\\\":\\\"Break and Enter Residential/Other\\\",\\\"proportion\\\":0.23098253073297},{\\\"crimetype\\\":\\\"Mischief\\\",\\\"proportion\\\":0.162769202329236},{\\\"crimetype\\\":\\\"Other Theft\\\",\\\"proportion\\\":0.044643682410574},{\\\"crimetype\\\":\\\"Theft from Vehicle\\\",\\\"proportion\\\":0.3133376467326},{\\\"crimetype\\\":\\\"Theft of Bicycle\\\",\\\"proportion\\\":0.0122007579258712},{\\\"crimetype\\\":\\\"Theft of Vehicle\\\",\\\"proportion\\\":0.12681393844163},{\\\"crimetype\\\":\\\"Vehicle Collision or Pedestrian Struck (with Fatality)\\\",\\\"proportion\\\":0.000924299842869027},{\\\"crimetype\\\":\\\"Vehicle Collision or Pedestrian Struck (with Injury)\\\",\\\"proportion\\\":0.0726499676495055}]\"],\n [{\n            'v': 22,\n            'f': \"22\",\n        },\n\"West End\",\n\"[{\\\"crimetype\\\":\\\"Break and Enter Commercial\\\",\\\"proportion\\\":0.0671067904817179},{\\\"crimetype\\\":\\\"Break and Enter Residential/Other\\\",\\\"proportion\\\":0.0841555426581544},{\\\"crimetype\\\":\\\"Mischief\\\",\\\"proportion\\\":0.128772489843297},{\\\"crimetype\\\":\\\"Other Theft\\\",\\\"proportion\\\":0.145893789901335},{\\\"crimetype\\\":\\\"Theft from Vehicle\\\",\\\"proportion\\\":0.408783130199265},{\\\"crimetype\\\":\\\"Theft of Bicycle\\\",\\\"proportion\\\":0.0721851421938479},{\\\"crimetype\\\":\\\"Theft of Vehicle\\\",\\\"proportion\\\":0.0643257883536467},{\\\"crimetype\\\":\\\"Vehicle Collision or Pedestrian Struck (with Fatality)\\\",\\\"proportion\\\":0.000145095763203714},{\\\"crimetype\\\":\\\"Vehicle Collision or Pedestrian Struck (with Injury)\\\",\\\"proportion\\\":0.028632230605533}]\"],\n [{\n            'v': 23,\n            'f': \"23\",\n        },\n\"West Point Grey\",\n\"[{\\\"crimetype\\\":\\\"Break and Enter Commercial\\\",\\\"proportion\\\":0.0563788111054335},{\\\"crimetype\\\":\\\"Break and Enter Residential/Other\\\",\\\"proportion\\\":0.221257026060296},{\\\"crimetype\\\":\\\"Mischief\\\",\\\"proportion\\\":0.149718957588145},{\\\"crimetype\\\":\\\"Other Theft\\\",\\\"proportion\\\":0.0442854709589508},{\\\"crimetype\\\":\\\"Theft from Vehicle\\\",\\\"proportion\\\":0.335717935615738},{\\\"crimetype\\\":\\\"Theft of Bicycle\\\",\\\"proportion\\\":0.0633622892181911},{\\\"crimetype\\\":\\\"Theft of Vehicle\\\",\\\"proportion\\\":0.0766479305058763},{\\\"crimetype\\\":\\\"Vehicle Collision or Pedestrian Struck (with Fatality)\\\",\\\"proportion\\\":0.000681314937830012},{\\\"crimetype\\\":\\\"Vehicle Collision or Pedestrian Struck (with Injury)\\\",\\\"proportion\\\":0.0519502640095384}]\"]],\n        columns: [[\"number\", \"index\"], [\"string\", \"neighbourhood\"], [\"string\", \"crimes\"]],\n        columnOptions: [{\"width\": \"1px\", \"className\": \"index_column\"}],\n        rowsPerPage: 25,\n        helpUrl: \"https://colab.research.google.com/notebooks/data_table.ipynb\",\n        suppressOutputScrolling: true,\n        minimumWidth: undefined,\n      });\n    ",
            "text/html": [
              "\n",
              "  <div id=\"df-96e4058c-4206-44b8-a021-48f5b3db8c8b\">\n",
              "    <div class=\"colab-df-container\">\n",
              "      <div>\n",
              "<style scoped>\n",
              "    .dataframe tbody tr th:only-of-type {\n",
              "        vertical-align: middle;\n",
              "    }\n",
              "\n",
              "    .dataframe tbody tr th {\n",
              "        vertical-align: top;\n",
              "    }\n",
              "\n",
              "    .dataframe thead th {\n",
              "        text-align: right;\n",
              "    }\n",
              "</style>\n",
              "<table border=\"1\" class=\"dataframe\">\n",
              "  <thead>\n",
              "    <tr style=\"text-align: right;\">\n",
              "      <th></th>\n",
              "      <th>neighbourhood</th>\n",
              "      <th>crimes</th>\n",
              "    </tr>\n",
              "  </thead>\n",
              "  <tbody>\n",
              "    <tr>\n",
              "      <th>0</th>\n",
              "      <td>Arbutus Ridge</td>\n",
              "      <td>[{\"crimetype\":\"Break and Enter Commercial\",\"pr...</td>\n",
              "    </tr>\n",
              "    <tr>\n",
              "      <th>1</th>\n",
              "      <td>Central Business District</td>\n",
              "      <td>[{\"crimetype\":\"Break and Enter Commercial\",\"pr...</td>\n",
              "    </tr>\n",
              "    <tr>\n",
              "      <th>2</th>\n",
              "      <td>Dunbar-Southlands</td>\n",
              "      <td>[{\"crimetype\":\"Break and Enter Commercial\",\"pr...</td>\n",
              "    </tr>\n",
              "    <tr>\n",
              "      <th>3</th>\n",
              "      <td>Fairview</td>\n",
              "      <td>[{\"crimetype\":\"Break and Enter Commercial\",\"pr...</td>\n",
              "    </tr>\n",
              "    <tr>\n",
              "      <th>4</th>\n",
              "      <td>Grandview-Woodland</td>\n",
              "      <td>[{\"crimetype\":\"Break and Enter Commercial\",\"pr...</td>\n",
              "    </tr>\n",
              "    <tr>\n",
              "      <th>5</th>\n",
              "      <td>Hastings-Sunrise</td>\n",
              "      <td>[{\"crimetype\":\"Break and Enter Commercial\",\"pr...</td>\n",
              "    </tr>\n",
              "    <tr>\n",
              "      <th>6</th>\n",
              "      <td>Kensington-Cedar Cottage</td>\n",
              "      <td>[{\"crimetype\":\"Break and Enter Commercial\",\"pr...</td>\n",
              "    </tr>\n",
              "    <tr>\n",
              "      <th>7</th>\n",
              "      <td>Kerrisdale</td>\n",
              "      <td>[{\"crimetype\":\"Break and Enter Commercial\",\"pr...</td>\n",
              "    </tr>\n",
              "    <tr>\n",
              "      <th>8</th>\n",
              "      <td>Killarney</td>\n",
              "      <td>[{\"crimetype\":\"Break and Enter Commercial\",\"pr...</td>\n",
              "    </tr>\n",
              "    <tr>\n",
              "      <th>9</th>\n",
              "      <td>Kitsilano</td>\n",
              "      <td>[{\"crimetype\":\"Break and Enter Commercial\",\"pr...</td>\n",
              "    </tr>\n",
              "    <tr>\n",
              "      <th>10</th>\n",
              "      <td>Marpole</td>\n",
              "      <td>[{\"crimetype\":\"Break and Enter Commercial\",\"pr...</td>\n",
              "    </tr>\n",
              "    <tr>\n",
              "      <th>11</th>\n",
              "      <td>Mount Pleasant</td>\n",
              "      <td>[{\"crimetype\":\"Break and Enter Commercial\",\"pr...</td>\n",
              "    </tr>\n",
              "    <tr>\n",
              "      <th>12</th>\n",
              "      <td>Musqueam</td>\n",
              "      <td>[{\"crimetype\":\"Break and Enter Commercial\",\"pr...</td>\n",
              "    </tr>\n",
              "    <tr>\n",
              "      <th>13</th>\n",
              "      <td>Oakridge</td>\n",
              "      <td>[{\"crimetype\":\"Break and Enter Commercial\",\"pr...</td>\n",
              "    </tr>\n",
              "    <tr>\n",
              "      <th>14</th>\n",
              "      <td>Renfrew-Collingwood</td>\n",
              "      <td>[{\"crimetype\":\"Break and Enter Commercial\",\"pr...</td>\n",
              "    </tr>\n",
              "    <tr>\n",
              "      <th>15</th>\n",
              "      <td>Riley Park</td>\n",
              "      <td>[{\"crimetype\":\"Break and Enter Commercial\",\"pr...</td>\n",
              "    </tr>\n",
              "    <tr>\n",
              "      <th>16</th>\n",
              "      <td>Shaughnessy</td>\n",
              "      <td>[{\"crimetype\":\"Break and Enter Commercial\",\"pr...</td>\n",
              "    </tr>\n",
              "    <tr>\n",
              "      <th>17</th>\n",
              "      <td>South Cambie</td>\n",
              "      <td>[{\"crimetype\":\"Break and Enter Commercial\",\"pr...</td>\n",
              "    </tr>\n",
              "    <tr>\n",
              "      <th>18</th>\n",
              "      <td>Stanley Park</td>\n",
              "      <td>[{\"crimetype\":\"Break and Enter Commercial\",\"pr...</td>\n",
              "    </tr>\n",
              "    <tr>\n",
              "      <th>19</th>\n",
              "      <td>Strathcona</td>\n",
              "      <td>[{\"crimetype\":\"Break and Enter Commercial\",\"pr...</td>\n",
              "    </tr>\n",
              "    <tr>\n",
              "      <th>20</th>\n",
              "      <td>Sunset</td>\n",
              "      <td>[{\"crimetype\":\"Break and Enter Commercial\",\"pr...</td>\n",
              "    </tr>\n",
              "    <tr>\n",
              "      <th>21</th>\n",
              "      <td>Victoria-Fraserview</td>\n",
              "      <td>[{\"crimetype\":\"Break and Enter Commercial\",\"pr...</td>\n",
              "    </tr>\n",
              "    <tr>\n",
              "      <th>22</th>\n",
              "      <td>West End</td>\n",
              "      <td>[{\"crimetype\":\"Break and Enter Commercial\",\"pr...</td>\n",
              "    </tr>\n",
              "    <tr>\n",
              "      <th>23</th>\n",
              "      <td>West Point Grey</td>\n",
              "      <td>[{\"crimetype\":\"Break and Enter Commercial\",\"pr...</td>\n",
              "    </tr>\n",
              "  </tbody>\n",
              "</table>\n",
              "</div>\n",
              "      <button class=\"colab-df-convert\" onclick=\"convertToInteractive('df-96e4058c-4206-44b8-a021-48f5b3db8c8b')\"\n",
              "              title=\"Convert this dataframe to an interactive table.\"\n",
              "              style=\"display:none;\">\n",
              "        \n",
              "  <svg xmlns=\"http://www.w3.org/2000/svg\" height=\"24px\"viewBox=\"0 0 24 24\"\n",
              "       width=\"24px\">\n",
              "    <path d=\"M0 0h24v24H0V0z\" fill=\"none\"/>\n",
              "    <path d=\"M18.56 5.44l.94 2.06.94-2.06 2.06-.94-2.06-.94-.94-2.06-.94 2.06-2.06.94zm-11 1L8.5 8.5l.94-2.06 2.06-.94-2.06-.94L8.5 2.5l-.94 2.06-2.06.94zm10 10l.94 2.06.94-2.06 2.06-.94-2.06-.94-.94-2.06-.94 2.06-2.06.94z\"/><path d=\"M17.41 7.96l-1.37-1.37c-.4-.4-.92-.59-1.43-.59-.52 0-1.04.2-1.43.59L10.3 9.45l-7.72 7.72c-.78.78-.78 2.05 0 2.83L4 21.41c.39.39.9.59 1.41.59.51 0 1.02-.2 1.41-.59l7.78-7.78 2.81-2.81c.8-.78.8-2.07 0-2.86zM5.41 20L4 18.59l7.72-7.72 1.47 1.35L5.41 20z\"/>\n",
              "  </svg>\n",
              "      </button>\n",
              "      \n",
              "  <style>\n",
              "    .colab-df-container {\n",
              "      display:flex;\n",
              "      flex-wrap:wrap;\n",
              "      gap: 12px;\n",
              "    }\n",
              "\n",
              "    .colab-df-convert {\n",
              "      background-color: #E8F0FE;\n",
              "      border: none;\n",
              "      border-radius: 50%;\n",
              "      cursor: pointer;\n",
              "      display: none;\n",
              "      fill: #1967D2;\n",
              "      height: 32px;\n",
              "      padding: 0 0 0 0;\n",
              "      width: 32px;\n",
              "    }\n",
              "\n",
              "    .colab-df-convert:hover {\n",
              "      background-color: #E2EBFA;\n",
              "      box-shadow: 0px 1px 2px rgba(60, 64, 67, 0.3), 0px 1px 3px 1px rgba(60, 64, 67, 0.15);\n",
              "      fill: #174EA6;\n",
              "    }\n",
              "\n",
              "    [theme=dark] .colab-df-convert {\n",
              "      background-color: #3B4455;\n",
              "      fill: #D2E3FC;\n",
              "    }\n",
              "\n",
              "    [theme=dark] .colab-df-convert:hover {\n",
              "      background-color: #434B5C;\n",
              "      box-shadow: 0px 1px 3px 1px rgba(0, 0, 0, 0.15);\n",
              "      filter: drop-shadow(0px 1px 2px rgba(0, 0, 0, 0.3));\n",
              "      fill: #FFFFFF;\n",
              "    }\n",
              "  </style>\n",
              "\n",
              "      <script>\n",
              "        const buttonEl =\n",
              "          document.querySelector('#df-96e4058c-4206-44b8-a021-48f5b3db8c8b button.colab-df-convert');\n",
              "        buttonEl.style.display =\n",
              "          google.colab.kernel.accessAllowed ? 'block' : 'none';\n",
              "\n",
              "        async function convertToInteractive(key) {\n",
              "          const element = document.querySelector('#df-96e4058c-4206-44b8-a021-48f5b3db8c8b');\n",
              "          const dataTable =\n",
              "            await google.colab.kernel.invokeFunction('convertToInteractive',\n",
              "                                                     [key], {});\n",
              "          if (!dataTable) return;\n",
              "\n",
              "          const docLinkHtml = 'Like what you see? Visit the ' +\n",
              "            '<a target=\"_blank\" href=https://colab.research.google.com/notebooks/data_table.ipynb>data table notebook</a>'\n",
              "            + ' to learn more about interactive tables.';\n",
              "          element.innerHTML = '';\n",
              "          dataTable['output_type'] = 'display_data';\n",
              "          await google.colab.output.renderOutput(dataTable, element);\n",
              "          const docLink = document.createElement('div');\n",
              "          docLink.innerHTML = docLinkHtml;\n",
              "          element.appendChild(docLink);\n",
              "        }\n",
              "      </script>\n",
              "    </div>\n",
              "  </div>\n",
              "  "
            ],
            "text/plain": [
              "                neighbourhood                                             crimes\n",
              "0               Arbutus Ridge  [{\"crimetype\":\"Break and Enter Commercial\",\"pr...\n",
              "1   Central Business District  [{\"crimetype\":\"Break and Enter Commercial\",\"pr...\n",
              "2           Dunbar-Southlands  [{\"crimetype\":\"Break and Enter Commercial\",\"pr...\n",
              "3                    Fairview  [{\"crimetype\":\"Break and Enter Commercial\",\"pr...\n",
              "4          Grandview-Woodland  [{\"crimetype\":\"Break and Enter Commercial\",\"pr...\n",
              "5            Hastings-Sunrise  [{\"crimetype\":\"Break and Enter Commercial\",\"pr...\n",
              "6    Kensington-Cedar Cottage  [{\"crimetype\":\"Break and Enter Commercial\",\"pr...\n",
              "7                  Kerrisdale  [{\"crimetype\":\"Break and Enter Commercial\",\"pr...\n",
              "8                   Killarney  [{\"crimetype\":\"Break and Enter Commercial\",\"pr...\n",
              "9                   Kitsilano  [{\"crimetype\":\"Break and Enter Commercial\",\"pr...\n",
              "10                    Marpole  [{\"crimetype\":\"Break and Enter Commercial\",\"pr...\n",
              "11             Mount Pleasant  [{\"crimetype\":\"Break and Enter Commercial\",\"pr...\n",
              "12                   Musqueam  [{\"crimetype\":\"Break and Enter Commercial\",\"pr...\n",
              "13                   Oakridge  [{\"crimetype\":\"Break and Enter Commercial\",\"pr...\n",
              "14        Renfrew-Collingwood  [{\"crimetype\":\"Break and Enter Commercial\",\"pr...\n",
              "15                 Riley Park  [{\"crimetype\":\"Break and Enter Commercial\",\"pr...\n",
              "16                Shaughnessy  [{\"crimetype\":\"Break and Enter Commercial\",\"pr...\n",
              "17               South Cambie  [{\"crimetype\":\"Break and Enter Commercial\",\"pr...\n",
              "18               Stanley Park  [{\"crimetype\":\"Break and Enter Commercial\",\"pr...\n",
              "19                 Strathcona  [{\"crimetype\":\"Break and Enter Commercial\",\"pr...\n",
              "20                     Sunset  [{\"crimetype\":\"Break and Enter Commercial\",\"pr...\n",
              "21        Victoria-Fraserview  [{\"crimetype\":\"Break and Enter Commercial\",\"pr...\n",
              "22                   West End  [{\"crimetype\":\"Break and Enter Commercial\",\"pr...\n",
              "23            West Point Grey  [{\"crimetype\":\"Break and Enter Commercial\",\"pr..."
            ]
          },
          "metadata": {}
        },
        {
          "output_type": "display_data",
          "data": {
            "application/javascript": [
              "window[\"7231759a-6710-11ec-87a2-0242ac1c0002\"] = google.colab.output.setActiveOutputArea(window[\"7227f402-6710-11ec-87a2-0242ac1c0002\"]);\n",
              "//# sourceURL=js_7a972b929e"
            ],
            "text/plain": [
              "<IPython.core.display.Javascript object>"
            ]
          },
          "metadata": {}
        },
        {
          "output_type": "stream",
          "name": "stdout",
          "text": [
            " \n"
          ]
        },
        {
          "output_type": "display_data",
          "data": {
            "application/javascript": [
              "window[\"72335ef0-6710-11ec-87a2-0242ac1c0002\"] = google.colab.output.setActiveOutputArea(window[\"7224e546-6710-11ec-87a2-0242ac1c0002\"]);\n",
              "//# sourceURL=js_87af324037"
            ],
            "text/plain": [
              "<IPython.core.display.Javascript object>"
            ]
          },
          "metadata": {}
        },
        {
          "output_type": "display_data",
          "data": {
            "application/javascript": [
              "window[\"72354530-6710-11ec-87a2-0242ac1c0002\"] = google.colab.output.getActiveOutputArea();\n",
              "//# sourceURL=js_68d6507801"
            ],
            "text/plain": [
              "<IPython.core.display.Javascript object>"
            ]
          },
          "metadata": {}
        },
        {
          "output_type": "display_data",
          "data": {
            "application/javascript": [
              "window[\"72357f5a-6710-11ec-87a2-0242ac1c0002\"] = document.querySelector(\"#id226_content_5\");\n",
              "//# sourceURL=js_3195fe6ef5"
            ],
            "text/plain": [
              "<IPython.core.display.Javascript object>"
            ]
          },
          "metadata": {}
        },
        {
          "output_type": "display_data",
          "data": {
            "application/javascript": [
              "window[\"7235c05a-6710-11ec-87a2-0242ac1c0002\"] = google.colab.output.setActiveOutputArea(window[\"72357f5a-6710-11ec-87a2-0242ac1c0002\"]);\n",
              "//# sourceURL=js_99edd551df"
            ],
            "text/plain": [
              "<IPython.core.display.Javascript object>"
            ]
          },
          "metadata": {}
        },
        {
          "output_type": "display_data",
          "data": {
            "application/javascript": [
              "window[\"7236013c-6710-11ec-87a2-0242ac1c0002\"] = window[\"id226\"].setSelectedTabIndex(5);\n",
              "//# sourceURL=js_2509705d03"
            ],
            "text/plain": [
              "<IPython.core.display.Javascript object>"
            ]
          },
          "metadata": {}
        },
        {
          "output_type": "display_data",
          "data": {
            "application/javascript": [
              "window[\"7237b1b2-6710-11ec-87a2-0242ac1c0002\"] = google.colab.output.getActiveOutputArea();\n",
              "//# sourceURL=js_6fa39ea740"
            ],
            "text/plain": [
              "<IPython.core.display.Javascript object>"
            ]
          },
          "metadata": {}
        },
        {
          "output_type": "display_data",
          "data": {
            "application/javascript": [
              "window[\"7237efe2-6710-11ec-87a2-0242ac1c0002\"] = document.querySelector(\"#id232_content_1\");\n",
              "//# sourceURL=js_4e4e250be4"
            ],
            "text/plain": [
              "<IPython.core.display.Javascript object>"
            ]
          },
          "metadata": {}
        },
        {
          "output_type": "display_data",
          "data": {
            "application/javascript": [
              "window[\"72383236-6710-11ec-87a2-0242ac1c0002\"] = google.colab.output.setActiveOutputArea(window[\"7237efe2-6710-11ec-87a2-0242ac1c0002\"]);\n",
              "//# sourceURL=js_76849a2bf2"
            ],
            "text/plain": [
              "<IPython.core.display.Javascript object>"
            ]
          },
          "metadata": {}
        },
        {
          "output_type": "display_data",
          "data": {
            "application/javascript": [
              "window[\"7238eb86-6710-11ec-87a2-0242ac1c0002\"] = window[\"id232\"].setSelectedTabIndex(1);\n",
              "//# sourceURL=js_1eb6351fce"
            ],
            "text/plain": [
              "<IPython.core.display.Javascript object>"
            ]
          },
          "metadata": {}
        },
        {
          "output_type": "stream",
          "name": "stdout",
          "text": [
            "The following table is stored at \u001b[1mCrimeChangeExpanded\u001b[0m variable.\n"
          ]
        },
        {
          "output_type": "display_data",
          "data": {
            "application/vnd.google.colaboratory.module+javascript": "\n      import \"https://ssl.gstatic.com/colaboratory/data_table/a6224c040fa35dcf/data_table.js\";\n\n      window.createDataTable({\n        data: [[{\n            'v': 0,\n            'f': \"0\",\n        },\n{\n            'v': 2004,\n            'f': \"2004\",\n        },\n\"Break and Enter Commercial\",\n{\n            'v': 3197,\n            'f': \"3197\",\n        },\n{\n            'v': 3283,\n            'f': \"3283\",\n        },\n{\n            'v': 86,\n            'f': \"86\",\n        }],\n [{\n            'v': 1,\n            'f': \"1\",\n        },\n{\n            'v': 2004,\n            'f': \"2004\",\n        },\n\"Break and Enter Residential/Other\",\n{\n            'v': 6883,\n            'f': \"6883\",\n        },\n{\n            'v': 6538,\n            'f': \"6538\",\n        },\n{\n            'v': 345,\n            'f': \"345\",\n        }],\n [{\n            'v': 2,\n            'f': \"2\",\n        },\n{\n            'v': 2004,\n            'f': \"2004\",\n        },\n\"Homicide\",\n{\n            'v': 18,\n            'f': \"18\",\n        },\n{\n            'v': 22,\n            'f': \"22\",\n        },\n{\n            'v': 4,\n            'f': \"4\",\n        }],\n [{\n            'v': 3,\n            'f': \"3\",\n        },\n{\n            'v': 2004,\n            'f': \"2004\",\n        },\n\"Mischief\",\n{\n            'v': 6391,\n            'f': \"6391\",\n        },\n{\n            'v': 5601,\n            'f': \"5601\",\n        },\n{\n            'v': 790,\n            'f': \"790\",\n        }],\n [{\n            'v': 4,\n            'f': \"4\",\n        },\n{\n            'v': 2004,\n            'f': \"2004\",\n        },\n\"Offence Against a Person\",\n{\n            'v': 3507,\n            'f': \"3507\",\n        },\n{\n            'v': 3804,\n            'f': \"3804\",\n        },\n{\n            'v': 297,\n            'f': \"297\",\n        }],\n [{\n            'v': 5,\n            'f': \"5\",\n        },\n{\n            'v': 2004,\n            'f': \"2004\",\n        },\n\"Other Theft\",\n{\n            'v': 2582,\n            'f': \"2582\",\n        },\n{\n            'v': 2605,\n            'f': \"2605\",\n        },\n{\n            'v': 23,\n            'f': \"23\",\n        }],\n [{\n            'v': 6,\n            'f': \"6\",\n        },\n{\n            'v': 2004,\n            'f': \"2004\",\n        },\n\"Theft from Vehicle\",\n{\n            'v': 17744,\n            'f': \"17744\",\n        },\n{\n            'v': 18204,\n            'f': \"18204\",\n        },\n{\n            'v': 460,\n            'f': \"460\",\n        }],\n [{\n            'v': 7,\n            'f': \"7\",\n        },\n{\n            'v': 2004,\n            'f': \"2004\",\n        },\n\"Theft of Bicycle\",\n{\n            'v': 1418,\n            'f': \"1418\",\n        },\n{\n            'v': 1230,\n            'f': \"1230\",\n        },\n{\n            'v': 188,\n            'f': \"188\",\n        }],\n [{\n            'v': 8,\n            'f': \"8\",\n        },\n{\n            'v': 2004,\n            'f': \"2004\",\n        },\n\"Theft of Vehicle\",\n{\n            'v': 6361,\n            'f': \"6361\",\n        },\n{\n            'v': 6102,\n            'f': \"6102\",\n        },\n{\n            'v': 259,\n            'f': \"259\",\n        }],\n [{\n            'v': 9,\n            'f': \"9\",\n        },\n{\n            'v': 2004,\n            'f': \"2004\",\n        },\n\"Vehicle Collision or Pedestrian Struck (with Fatality)\",\n{\n            'v': 24,\n            'f': \"24\",\n        },\n{\n            'v': 22,\n            'f': \"22\",\n        },\n{\n            'v': 2,\n            'f': \"2\",\n        }],\n [{\n            'v': 10,\n            'f': \"10\",\n        },\n{\n            'v': 2004,\n            'f': \"2004\",\n        },\n\"Vehicle Collision or Pedestrian Struck (with Injury)\",\n{\n            'v': 1803,\n            'f': \"1803\",\n        },\n{\n            'v': 1868,\n            'f': \"1868\",\n        },\n{\n            'v': 65,\n            'f': \"65\",\n        }],\n [{\n            'v': 11,\n            'f': \"11\",\n        },\n{\n            'v': 2005,\n            'f': \"2005\",\n        },\n\"Break and Enter Commercial\",\n{\n            'v': 3283,\n            'f': \"3283\",\n        },\n{\n            'v': 2639,\n            'f': \"2639\",\n        },\n{\n            'v': 644,\n            'f': \"644\",\n        }],\n [{\n            'v': 12,\n            'f': \"12\",\n        },\n{\n            'v': 2005,\n            'f': \"2005\",\n        },\n\"Break and Enter Residential/Other\",\n{\n            'v': 6538,\n            'f': \"6538\",\n        },\n{\n            'v': 5542,\n            'f': \"5542\",\n        },\n{\n            'v': 996,\n            'f': \"996\",\n        }],\n [{\n            'v': 13,\n            'f': \"13\",\n        },\n{\n            'v': 2005,\n            'f': \"2005\",\n        },\n\"Homicide\",\n{\n            'v': 22,\n            'f': \"22\",\n        },\n{\n            'v': 22,\n            'f': \"22\",\n        },\n{\n            'v': 0,\n            'f': \"0\",\n        }],\n [{\n            'v': 14,\n            'f': \"14\",\n        },\n{\n            'v': 2005,\n            'f': \"2005\",\n        },\n\"Mischief\",\n{\n            'v': 5601,\n            'f': \"5601\",\n        },\n{\n            'v': 5062,\n            'f': \"5062\",\n        },\n{\n            'v': 539,\n            'f': \"539\",\n        }],\n [{\n            'v': 15,\n            'f': \"15\",\n        },\n{\n            'v': 2005,\n            'f': \"2005\",\n        },\n\"Offence Against a Person\",\n{\n            'v': 3804,\n            'f': \"3804\",\n        },\n{\n            'v': 3771,\n            'f': \"3771\",\n        },\n{\n            'v': 33,\n            'f': \"33\",\n        }],\n [{\n            'v': 16,\n            'f': \"16\",\n        },\n{\n            'v': 2005,\n            'f': \"2005\",\n        },\n\"Other Theft\",\n{\n            'v': 2605,\n            'f': \"2605\",\n        },\n{\n            'v': 2611,\n            'f': \"2611\",\n        },\n{\n            'v': 6,\n            'f': \"6\",\n        }],\n [{\n            'v': 17,\n            'f': \"17\",\n        },\n{\n            'v': 2005,\n            'f': \"2005\",\n        },\n\"Theft from Vehicle\",\n{\n            'v': 18204,\n            'f': \"18204\",\n        },\n{\n            'v': 16554,\n            'f': \"16554\",\n        },\n{\n            'v': 1650,\n            'f': \"1650\",\n        }],\n [{\n            'v': 18,\n            'f': \"18\",\n        },\n{\n            'v': 2005,\n            'f': \"2005\",\n        },\n\"Theft of Bicycle\",\n{\n            'v': 1230,\n            'f': \"1230\",\n        },\n{\n            'v': 1416,\n            'f': \"1416\",\n        },\n{\n            'v': 186,\n            'f': \"186\",\n        }],\n [{\n            'v': 19,\n            'f': \"19\",\n        },\n{\n            'v': 2005,\n            'f': \"2005\",\n        },\n\"Theft of Vehicle\",\n{\n            'v': 6102,\n            'f': \"6102\",\n        },\n{\n            'v': 5031,\n            'f': \"5031\",\n        },\n{\n            'v': 1071,\n            'f': \"1071\",\n        }],\n [{\n            'v': 20,\n            'f': \"20\",\n        },\n{\n            'v': 2005,\n            'f': \"2005\",\n        },\n\"Vehicle Collision or Pedestrian Struck (with Fatality)\",\n{\n            'v': 22,\n            'f': \"22\",\n        },\n{\n            'v': 32,\n            'f': \"32\",\n        },\n{\n            'v': 10,\n            'f': \"10\",\n        }],\n [{\n            'v': 21,\n            'f': \"21\",\n        },\n{\n            'v': 2005,\n            'f': \"2005\",\n        },\n\"Vehicle Collision or Pedestrian Struck (with Injury)\",\n{\n            'v': 1868,\n            'f': \"1868\",\n        },\n{\n            'v': 1984,\n            'f': \"1984\",\n        },\n{\n            'v': 116,\n            'f': \"116\",\n        }],\n [{\n            'v': 22,\n            'f': \"22\",\n        },\n{\n            'v': 2006,\n            'f': \"2006\",\n        },\n\"Break and Enter Commercial\",\n{\n            'v': 2639,\n            'f': \"2639\",\n        },\n{\n            'v': 2844,\n            'f': \"2844\",\n        },\n{\n            'v': 205,\n            'f': \"205\",\n        }],\n [{\n            'v': 23,\n            'f': \"23\",\n        },\n{\n            'v': 2006,\n            'f': \"2006\",\n        },\n\"Break and Enter Residential/Other\",\n{\n            'v': 5542,\n            'f': \"5542\",\n        },\n{\n            'v': 5674,\n            'f': \"5674\",\n        },\n{\n            'v': 132,\n            'f': \"132\",\n        }],\n [{\n            'v': 24,\n            'f': \"24\",\n        },\n{\n            'v': 2006,\n            'f': \"2006\",\n        },\n\"Homicide\",\n{\n            'v': 22,\n            'f': \"22\",\n        },\n{\n            'v': 17,\n            'f': \"17\",\n        },\n{\n            'v': 5,\n            'f': \"5\",\n        }],\n [{\n            'v': 25,\n            'f': \"25\",\n        },\n{\n            'v': 2006,\n            'f': \"2006\",\n        },\n\"Mischief\",\n{\n            'v': 5062,\n            'f': \"5062\",\n        },\n{\n            'v': 5184,\n            'f': \"5184\",\n        },\n{\n            'v': 122,\n            'f': \"122\",\n        }],\n [{\n            'v': 26,\n            'f': \"26\",\n        },\n{\n            'v': 2006,\n            'f': \"2006\",\n        },\n\"Offence Against a Person\",\n{\n            'v': 3771,\n            'f': \"3771\",\n        },\n{\n            'v': 4350,\n            'f': \"4350\",\n        },\n{\n            'v': 579,\n            'f': \"579\",\n        }],\n [{\n            'v': 27,\n            'f': \"27\",\n        },\n{\n            'v': 2006,\n            'f': \"2006\",\n        },\n\"Other Theft\",\n{\n            'v': 2611,\n            'f': \"2611\",\n        },\n{\n            'v': 2966,\n            'f': \"2966\",\n        },\n{\n            'v': 355,\n            'f': \"355\",\n        }],\n [{\n            'v': 28,\n            'f': \"28\",\n        },\n{\n            'v': 2006,\n            'f': \"2006\",\n        },\n\"Theft from Vehicle\",\n{\n            'v': 16554,\n            'f': \"16554\",\n        },\n{\n            'v': 14734,\n            'f': \"14734\",\n        },\n{\n            'v': 1820,\n            'f': \"1820\",\n        }],\n [{\n            'v': 29,\n            'f': \"29\",\n        },\n{\n            'v': 2006,\n            'f': \"2006\",\n        },\n\"Theft of Bicycle\",\n{\n            'v': 1416,\n            'f': \"1416\",\n        },\n{\n            'v': 1467,\n            'f': \"1467\",\n        },\n{\n            'v': 51,\n            'f': \"51\",\n        }],\n [{\n            'v': 30,\n            'f': \"30\",\n        },\n{\n            'v': 2006,\n            'f': \"2006\",\n        },\n\"Theft of Vehicle\",\n{\n            'v': 5031,\n            'f': \"5031\",\n        },\n{\n            'v': 3682,\n            'f': \"3682\",\n        },\n{\n            'v': 1349,\n            'f': \"1349\",\n        }],\n [{\n            'v': 31,\n            'f': \"31\",\n        },\n{\n            'v': 2006,\n            'f': \"2006\",\n        },\n\"Vehicle Collision or Pedestrian Struck (with Fatality)\",\n{\n            'v': 32,\n            'f': \"32\",\n        },\n{\n            'v': 20,\n            'f': \"20\",\n        },\n{\n            'v': 12,\n            'f': \"12\",\n        }],\n [{\n            'v': 32,\n            'f': \"32\",\n        },\n{\n            'v': 2006,\n            'f': \"2006\",\n        },\n\"Vehicle Collision or Pedestrian Struck (with Injury)\",\n{\n            'v': 1984,\n            'f': \"1984\",\n        },\n{\n            'v': 1384,\n            'f': \"1384\",\n        },\n{\n            'v': 600,\n            'f': \"600\",\n        }],\n [{\n            'v': 33,\n            'f': \"33\",\n        },\n{\n            'v': 2007,\n            'f': \"2007\",\n        },\n\"Break and Enter Commercial\",\n{\n            'v': 2844,\n            'f': \"2844\",\n        },\n{\n            'v': 2436,\n            'f': \"2436\",\n        },\n{\n            'v': 408,\n            'f': \"408\",\n        }],\n [{\n            'v': 34,\n            'f': \"34\",\n        },\n{\n            'v': 2007,\n            'f': \"2007\",\n        },\n\"Break and Enter Residential/Other\",\n{\n            'v': 5674,\n            'f': \"5674\",\n        },\n{\n            'v': 4996,\n            'f': \"4996\",\n        },\n{\n            'v': 678,\n            'f': \"678\",\n        }],\n [{\n            'v': 35,\n            'f': \"35\",\n        },\n{\n            'v': 2007,\n            'f': \"2007\",\n        },\n\"Homicide\",\n{\n            'v': 17,\n            'f': \"17\",\n        },\n{\n            'v': 19,\n            'f': \"19\",\n        },\n{\n            'v': 2,\n            'f': \"2\",\n        }],\n [{\n            'v': 36,\n            'f': \"36\",\n        },\n{\n            'v': 2007,\n            'f': \"2007\",\n        },\n\"Mischief\",\n{\n            'v': 5184,\n            'f': \"5184\",\n        },\n{\n            'v': 4810,\n            'f': \"4810\",\n        },\n{\n            'v': 374,\n            'f': \"374\",\n        }],\n [{\n            'v': 37,\n            'f': \"37\",\n        },\n{\n            'v': 2007,\n            'f': \"2007\",\n        },\n\"Offence Against a Person\",\n{\n            'v': 4350,\n            'f': \"4350\",\n        },\n{\n            'v': 4412,\n            'f': \"4412\",\n        },\n{\n            'v': 62,\n            'f': \"62\",\n        }],\n [{\n            'v': 38,\n            'f': \"38\",\n        },\n{\n            'v': 2007,\n            'f': \"2007\",\n        },\n\"Other Theft\",\n{\n            'v': 2966,\n            'f': \"2966\",\n        },\n{\n            'v': 3024,\n            'f': \"3024\",\n        },\n{\n            'v': 58,\n            'f': \"58\",\n        }],\n [{\n            'v': 39,\n            'f': \"39\",\n        },\n{\n            'v': 2007,\n            'f': \"2007\",\n        },\n\"Theft from Vehicle\",\n{\n            'v': 14734,\n            'f': \"14734\",\n        },\n{\n            'v': 12226,\n            'f': \"12226\",\n        },\n{\n            'v': 2508,\n            'f': \"2508\",\n        }],\n [{\n            'v': 40,\n            'f': \"40\",\n        },\n{\n            'v': 2007,\n            'f': \"2007\",\n        },\n\"Theft of Bicycle\",\n{\n            'v': 1467,\n            'f': \"1467\",\n        },\n{\n            'v': 1203,\n            'f': \"1203\",\n        },\n{\n            'v': 264,\n            'f': \"264\",\n        }],\n [{\n            'v': 41,\n            'f': \"41\",\n        },\n{\n            'v': 2007,\n            'f': \"2007\",\n        },\n\"Theft of Vehicle\",\n{\n            'v': 3682,\n            'f': \"3682\",\n        },\n{\n            'v': 3305,\n            'f': \"3305\",\n        },\n{\n            'v': 377,\n            'f': \"377\",\n        }],\n [{\n            'v': 42,\n            'f': \"42\",\n        },\n{\n            'v': 2007,\n            'f': \"2007\",\n        },\n\"Vehicle Collision or Pedestrian Struck (with Fatality)\",\n{\n            'v': 20,\n            'f': \"20\",\n        },\n{\n            'v': 24,\n            'f': \"24\",\n        },\n{\n            'v': 4,\n            'f': \"4\",\n        }],\n [{\n            'v': 43,\n            'f': \"43\",\n        },\n{\n            'v': 2007,\n            'f': \"2007\",\n        },\n\"Vehicle Collision or Pedestrian Struck (with Injury)\",\n{\n            'v': 1384,\n            'f': \"1384\",\n        },\n{\n            'v': 1237,\n            'f': \"1237\",\n        },\n{\n            'v': 147,\n            'f': \"147\",\n        }],\n [{\n            'v': 44,\n            'f': \"44\",\n        },\n{\n            'v': 2008,\n            'f': \"2008\",\n        },\n\"Break and Enter Commercial\",\n{\n            'v': 2436,\n            'f': \"2436\",\n        },\n{\n            'v': 2224,\n            'f': \"2224\",\n        },\n{\n            'v': 212,\n            'f': \"212\",\n        }],\n [{\n            'v': 45,\n            'f': \"45\",\n        },\n{\n            'v': 2008,\n            'f': \"2008\",\n        },\n\"Break and Enter Residential/Other\",\n{\n            'v': 4996,\n            'f': \"4996\",\n        },\n{\n            'v': 4432,\n            'f': \"4432\",\n        },\n{\n            'v': 564,\n            'f': \"564\",\n        }],\n [{\n            'v': 46,\n            'f': \"46\",\n        },\n{\n            'v': 2008,\n            'f': \"2008\",\n        },\n\"Homicide\",\n{\n            'v': 19,\n            'f': \"19\",\n        },\n{\n            'v': 18,\n            'f': \"18\",\n        },\n{\n            'v': 1,\n            'f': \"1\",\n        }],\n [{\n            'v': 47,\n            'f': \"47\",\n        },\n{\n            'v': 2008,\n            'f': \"2008\",\n        },\n\"Mischief\",\n{\n            'v': 4810,\n            'f': \"4810\",\n        },\n{\n            'v': 5276,\n            'f': \"5276\",\n        },\n{\n            'v': 466,\n            'f': \"466\",\n        }],\n [{\n            'v': 48,\n            'f': \"48\",\n        },\n{\n            'v': 2008,\n            'f': \"2008\",\n        },\n\"Offence Against a Person\",\n{\n            'v': 4412,\n            'f': \"4412\",\n        },\n{\n            'v': 4226,\n            'f': \"4226\",\n        },\n{\n            'v': 186,\n            'f': \"186\",\n        }],\n [{\n            'v': 49,\n            'f': \"49\",\n        },\n{\n            'v': 2008,\n            'f': \"2008\",\n        },\n\"Other Theft\",\n{\n            'v': 3024,\n            'f': \"3024\",\n        },\n{\n            'v': 3142,\n            'f': \"3142\",\n        },\n{\n            'v': 118,\n            'f': \"118\",\n        }],\n [{\n            'v': 50,\n            'f': \"50\",\n        },\n{\n            'v': 2008,\n            'f': \"2008\",\n        },\n\"Theft from Vehicle\",\n{\n            'v': 12226,\n            'f': \"12226\",\n        },\n{\n            'v': 11298,\n            'f': \"11298\",\n        },\n{\n            'v': 928,\n            'f': \"928\",\n        }],\n [{\n            'v': 51,\n            'f': \"51\",\n        },\n{\n            'v': 2008,\n            'f': \"2008\",\n        },\n\"Theft of Bicycle\",\n{\n            'v': 1203,\n            'f': \"1203\",\n        },\n{\n            'v': 1176,\n            'f': \"1176\",\n        },\n{\n            'v': 27,\n            'f': \"27\",\n        }],\n [{\n            'v': 52,\n            'f': \"52\",\n        },\n{\n            'v': 2008,\n            'f': \"2008\",\n        },\n\"Theft of Vehicle\",\n{\n            'v': 3305,\n            'f': \"3305\",\n        },\n{\n            'v': 2420,\n            'f': \"2420\",\n        },\n{\n            'v': 885,\n            'f': \"885\",\n        }],\n [{\n            'v': 53,\n            'f': \"53\",\n        },\n{\n            'v': 2008,\n            'f': \"2008\",\n        },\n\"Vehicle Collision or Pedestrian Struck (with Fatality)\",\n{\n            'v': 24,\n            'f': \"24\",\n        },\n{\n            'v': 17,\n            'f': \"17\",\n        },\n{\n            'v': 7,\n            'f': \"7\",\n        }],\n [{\n            'v': 54,\n            'f': \"54\",\n        },\n{\n            'v': 2008,\n            'f': \"2008\",\n        },\n\"Vehicle Collision or Pedestrian Struck (with Injury)\",\n{\n            'v': 1237,\n            'f': \"1237\",\n        },\n{\n            'v': 1185,\n            'f': \"1185\",\n        },\n{\n            'v': 52,\n            'f': \"52\",\n        }],\n [{\n            'v': 55,\n            'f': \"55\",\n        },\n{\n            'v': 2009,\n            'f': \"2009\",\n        },\n\"Break and Enter Commercial\",\n{\n            'v': 2224,\n            'f': \"2224\",\n        },\n{\n            'v': 1858,\n            'f': \"1858\",\n        },\n{\n            'v': 366,\n            'f': \"366\",\n        }],\n [{\n            'v': 56,\n            'f': \"56\",\n        },\n{\n            'v': 2009,\n            'f': \"2009\",\n        },\n\"Break and Enter Residential/Other\",\n{\n            'v': 4432,\n            'f': \"4432\",\n        },\n{\n            'v': 3497,\n            'f': \"3497\",\n        },\n{\n            'v': 935,\n            'f': \"935\",\n        }],\n [{\n            'v': 57,\n            'f': \"57\",\n        },\n{\n            'v': 2009,\n            'f': \"2009\",\n        },\n\"Homicide\",\n{\n            'v': 18,\n            'f': \"18\",\n        },\n{\n            'v': 18,\n            'f': \"18\",\n        },\n{\n            'v': 0,\n            'f': \"0\",\n        }],\n [{\n            'v': 58,\n            'f': \"58\",\n        },\n{\n            'v': 2009,\n            'f': \"2009\",\n        },\n\"Mischief\",\n{\n            'v': 5276,\n            'f': \"5276\",\n        },\n{\n            'v': 4430,\n            'f': \"4430\",\n        },\n{\n            'v': 846,\n            'f': \"846\",\n        }],\n [{\n            'v': 59,\n            'f': \"59\",\n        },\n{\n            'v': 2009,\n            'f': \"2009\",\n        },\n\"Offence Against a Person\",\n{\n            'v': 4226,\n            'f': \"4226\",\n        },\n{\n            'v': 3885,\n            'f': \"3885\",\n        },\n{\n            'v': 341,\n            'f': \"341\",\n        }],\n [{\n            'v': 60,\n            'f': \"60\",\n        },\n{\n            'v': 2009,\n            'f': \"2009\",\n        },\n\"Other Theft\",\n{\n            'v': 3142,\n            'f': \"3142\",\n        },\n{\n            'v': 3662,\n            'f': \"3662\",\n        },\n{\n            'v': 520,\n            'f': \"520\",\n        }],\n [{\n            'v': 61,\n            'f': \"61\",\n        },\n{\n            'v': 2009,\n            'f': \"2009\",\n        },\n\"Theft from Vehicle\",\n{\n            'v': 11298,\n            'f': \"11298\",\n        },\n{\n            'v': 10007,\n            'f': \"10007\",\n        },\n{\n            'v': 1291,\n            'f': \"1291\",\n        }],\n [{\n            'v': 62,\n            'f': \"62\",\n        },\n{\n            'v': 2009,\n            'f': \"2009\",\n        },\n\"Theft of Bicycle\",\n{\n            'v': 1176,\n            'f': \"1176\",\n        },\n{\n            'v': 1641,\n            'f': \"1641\",\n        },\n{\n            'v': 465,\n            'f': \"465\",\n        }],\n [{\n            'v': 63,\n            'f': \"63\",\n        },\n{\n            'v': 2009,\n            'f': \"2009\",\n        },\n\"Theft of Vehicle\",\n{\n            'v': 2420,\n            'f': \"2420\",\n        },\n{\n            'v': 1882,\n            'f': \"1882\",\n        },\n{\n            'v': 538,\n            'f': \"538\",\n        }],\n [{\n            'v': 64,\n            'f': \"64\",\n        },\n{\n            'v': 2009,\n            'f': \"2009\",\n        },\n\"Vehicle Collision or Pedestrian Struck (with Fatality)\",\n{\n            'v': 17,\n            'f': \"17\",\n        },\n{\n            'v': 14,\n            'f': \"14\",\n        },\n{\n            'v': 3,\n            'f': \"3\",\n        }],\n [{\n            'v': 65,\n            'f': \"65\",\n        },\n{\n            'v': 2009,\n            'f': \"2009\",\n        },\n\"Vehicle Collision or Pedestrian Struck (with Injury)\",\n{\n            'v': 1185,\n            'f': \"1185\",\n        },\n{\n            'v': 1278,\n            'f': \"1278\",\n        },\n{\n            'v': 93,\n            'f': \"93\",\n        }],\n [{\n            'v': 66,\n            'f': \"66\",\n        },\n{\n            'v': 2010,\n            'f': \"2010\",\n        },\n\"Break and Enter Commercial\",\n{\n            'v': 1858,\n            'f': \"1858\",\n        },\n{\n            'v': 1656,\n            'f': \"1656\",\n        },\n{\n            'v': 202,\n            'f': \"202\",\n        }],\n [{\n            'v': 67,\n            'f': \"67\",\n        },\n{\n            'v': 2010,\n            'f': \"2010\",\n        },\n\"Break and Enter Residential/Other\",\n{\n            'v': 3497,\n            'f': \"3497\",\n        },\n{\n            'v': 3270,\n            'f': \"3270\",\n        },\n{\n            'v': 227,\n            'f': \"227\",\n        }],\n [{\n            'v': 68,\n            'f': \"68\",\n        },\n{\n            'v': 2010,\n            'f': \"2010\",\n        },\n\"Homicide\",\n{\n            'v': 18,\n            'f': \"18\",\n        },\n{\n            'v': 10,\n            'f': \"10\",\n        },\n{\n            'v': 8,\n            'f': \"8\",\n        }],\n [{\n            'v': 69,\n            'f': \"69\",\n        },\n{\n            'v': 2010,\n            'f': \"2010\",\n        },\n\"Mischief\",\n{\n            'v': 4430,\n            'f': \"4430\",\n        },\n{\n            'v': 4506,\n            'f': \"4506\",\n        },\n{\n            'v': 76,\n            'f': \"76\",\n        }],\n [{\n            'v': 70,\n            'f': \"70\",\n        },\n{\n            'v': 2010,\n            'f': \"2010\",\n        },\n\"Offence Against a Person\",\n{\n            'v': 3885,\n            'f': \"3885\",\n        },\n{\n            'v': 3731,\n            'f': \"3731\",\n        },\n{\n            'v': 154,\n            'f': \"154\",\n        }],\n [{\n            'v': 71,\n            'f': \"71\",\n        },\n{\n            'v': 2010,\n            'f': \"2010\",\n        },\n\"Other Theft\",\n{\n            'v': 3662,\n            'f': \"3662\",\n        },\n{\n            'v': 3432,\n            'f': \"3432\",\n        },\n{\n            'v': 230,\n            'f': \"230\",\n        }],\n [{\n            'v': 72,\n            'f': \"72\",\n        },\n{\n            'v': 2010,\n            'f': \"2010\",\n        },\n\"Theft from Vehicle\",\n{\n            'v': 10007,\n            'f': \"10007\",\n        },\n{\n            'v': 8612,\n            'f': \"8612\",\n        },\n{\n            'v': 1395,\n            'f': \"1395\",\n        }],\n [{\n            'v': 73,\n            'f': \"73\",\n        },\n{\n            'v': 2010,\n            'f': \"2010\",\n        },\n\"Theft of Bicycle\",\n{\n            'v': 1641,\n            'f': \"1641\",\n        },\n{\n            'v': 1667,\n            'f': \"1667\",\n        },\n{\n            'v': 26,\n            'f': \"26\",\n        }],\n [{\n            'v': 74,\n            'f': \"74\",\n        },\n{\n            'v': 2010,\n            'f': \"2010\",\n        },\n\"Theft of Vehicle\",\n{\n            'v': 1882,\n            'f': \"1882\",\n        },\n{\n            'v': 1467,\n            'f': \"1467\",\n        },\n{\n            'v': 415,\n            'f': \"415\",\n        }],\n [{\n            'v': 75,\n            'f': \"75\",\n        },\n{\n            'v': 2010,\n            'f': \"2010\",\n        },\n\"Vehicle Collision or Pedestrian Struck (with Fatality)\",\n{\n            'v': 14,\n            'f': \"14\",\n        },\n{\n            'v': 10,\n            'f': \"10\",\n        },\n{\n            'v': 4,\n            'f': \"4\",\n        }],\n [{\n            'v': 76,\n            'f': \"76\",\n        },\n{\n            'v': 2010,\n            'f': \"2010\",\n        },\n\"Vehicle Collision or Pedestrian Struck (with Injury)\",\n{\n            'v': 1278,\n            'f': \"1278\",\n        },\n{\n            'v': 1327,\n            'f': \"1327\",\n        },\n{\n            'v': 49,\n            'f': \"49\",\n        }],\n [{\n            'v': 77,\n            'f': \"77\",\n        },\n{\n            'v': 2011,\n            'f': \"2011\",\n        },\n\"Break and Enter Commercial\",\n{\n            'v': 1656,\n            'f': \"1656\",\n        },\n{\n            'v': 1749,\n            'f': \"1749\",\n        },\n{\n            'v': 93,\n            'f': \"93\",\n        }],\n [{\n            'v': 78,\n            'f': \"78\",\n        },\n{\n            'v': 2011,\n            'f': \"2011\",\n        },\n\"Break and Enter Residential/Other\",\n{\n            'v': 3270,\n            'f': \"3270\",\n        },\n{\n            'v': 3231,\n            'f': \"3231\",\n        },\n{\n            'v': 39,\n            'f': \"39\",\n        }],\n [{\n            'v': 79,\n            'f': \"79\",\n        },\n{\n            'v': 2011,\n            'f': \"2011\",\n        },\n\"Homicide\",\n{\n            'v': 10,\n            'f': \"10\",\n        },\n{\n            'v': 15,\n            'f': \"15\",\n        },\n{\n            'v': 5,\n            'f': \"5\",\n        }],\n [{\n            'v': 80,\n            'f': \"80\",\n        },\n{\n            'v': 2011,\n            'f': \"2011\",\n        },\n\"Mischief\",\n{\n            'v': 4506,\n            'f': \"4506\",\n        },\n{\n            'v': 4828,\n            'f': \"4828\",\n        },\n{\n            'v': 322,\n            'f': \"322\",\n        }],\n [{\n            'v': 81,\n            'f': \"81\",\n        },\n{\n            'v': 2011,\n            'f': \"2011\",\n        },\n\"Offence Against a Person\",\n{\n            'v': 3731,\n            'f': \"3731\",\n        },\n{\n            'v': 3870,\n            'f': \"3870\",\n        },\n{\n            'v': 139,\n            'f': \"139\",\n        }],\n [{\n            'v': 82,\n            'f': \"82\",\n        },\n{\n            'v': 2011,\n            'f': \"2011\",\n        },\n\"Other Theft\",\n{\n            'v': 3432,\n            'f': \"3432\",\n        },\n{\n            'v': 3562,\n            'f': \"3562\",\n        },\n{\n            'v': 130,\n            'f': \"130\",\n        }],\n [{\n            'v': 83,\n            'f': \"83\",\n        },\n{\n            'v': 2011,\n            'f': \"2011\",\n        },\n\"Theft from Vehicle\",\n{\n            'v': 8612,\n            'f': \"8612\",\n        },\n{\n            'v': 7435,\n            'f': \"7435\",\n        },\n{\n            'v': 1177,\n            'f': \"1177\",\n        }],\n [{\n            'v': 84,\n            'f': \"84\",\n        },\n{\n            'v': 2011,\n            'f': \"2011\",\n        },\n\"Theft of Bicycle\",\n{\n            'v': 1667,\n            'f': \"1667\",\n        },\n{\n            'v': 1517,\n            'f': \"1517\",\n        },\n{\n            'v': 150,\n            'f': \"150\",\n        }],\n [{\n            'v': 85,\n            'f': \"85\",\n        },\n{\n            'v': 2011,\n            'f': \"2011\",\n        },\n\"Theft of Vehicle\",\n{\n            'v': 1467,\n            'f': \"1467\",\n        },\n{\n            'v': 1093,\n            'f': \"1093\",\n        },\n{\n            'v': 374,\n            'f': \"374\",\n        }],\n [{\n            'v': 86,\n            'f': \"86\",\n        },\n{\n            'v': 2011,\n            'f': \"2011\",\n        },\n\"Vehicle Collision or Pedestrian Struck (with Fatality)\",\n{\n            'v': 10,\n            'f': \"10\",\n        },\n{\n            'v': 11,\n            'f': \"11\",\n        },\n{\n            'v': 1,\n            'f': \"1\",\n        }],\n [{\n            'v': 87,\n            'f': \"87\",\n        },\n{\n            'v': 2011,\n            'f': \"2011\",\n        },\n\"Vehicle Collision or Pedestrian Struck (with Injury)\",\n{\n            'v': 1327,\n            'f': \"1327\",\n        },\n{\n            'v': 1262,\n            'f': \"1262\",\n        },\n{\n            'v': 65,\n            'f': \"65\",\n        }],\n [{\n            'v': 88,\n            'f': \"88\",\n        },\n{\n            'v': 2012,\n            'f': \"2012\",\n        },\n\"Break and Enter Commercial\",\n{\n            'v': 1749,\n            'f': \"1749\",\n        },\n{\n            'v': 1687,\n            'f': \"1687\",\n        },\n{\n            'v': 62,\n            'f': \"62\",\n        }],\n [{\n            'v': 89,\n            'f': \"89\",\n        },\n{\n            'v': 2012,\n            'f': \"2012\",\n        },\n\"Break and Enter Residential/Other\",\n{\n            'v': 3231,\n            'f': \"3231\",\n        },\n{\n            'v': 3311,\n            'f': \"3311\",\n        },\n{\n            'v': 80,\n            'f': \"80\",\n        }],\n [{\n            'v': 90,\n            'f': \"90\",\n        },\n{\n            'v': 2012,\n            'f': \"2012\",\n        },\n\"Homicide\",\n{\n            'v': 15,\n            'f': \"15\",\n        },\n{\n            'v': 8,\n            'f': \"8\",\n        },\n{\n            'v': 7,\n            'f': \"7\",\n        }],\n [{\n            'v': 91,\n            'f': \"91\",\n        },\n{\n            'v': 2012,\n            'f': \"2012\",\n        },\n\"Mischief\",\n{\n            'v': 4828,\n            'f': \"4828\",\n        },\n{\n            'v': 4243,\n            'f': \"4243\",\n        },\n{\n            'v': 585,\n            'f': \"585\",\n        }],\n [{\n            'v': 92,\n            'f': \"92\",\n        },\n{\n            'v': 2012,\n            'f': \"2012\",\n        },\n\"Offence Against a Person\",\n{\n            'v': 3870,\n            'f': \"3870\",\n        },\n{\n            'v': 3786,\n            'f': \"3786\",\n        },\n{\n            'v': 84,\n            'f': \"84\",\n        }],\n [{\n            'v': 93,\n            'f': \"93\",\n        },\n{\n            'v': 2012,\n            'f': \"2012\",\n        },\n\"Other Theft\",\n{\n            'v': 3562,\n            'f': \"3562\",\n        },\n{\n            'v': 3630,\n            'f': \"3630\",\n        },\n{\n            'v': 68,\n            'f': \"68\",\n        }],\n [{\n            'v': 94,\n            'f': \"94\",\n        },\n{\n            'v': 2012,\n            'f': \"2012\",\n        },\n\"Theft from Vehicle\",\n{\n            'v': 7435,\n            'f': \"7435\",\n        },\n{\n            'v': 8097,\n            'f': \"8097\",\n        },\n{\n            'v': 662,\n            'f': \"662\",\n        }],\n [{\n            'v': 95,\n            'f': \"95\",\n        },\n{\n            'v': 2012,\n            'f': \"2012\",\n        },\n\"Theft of Bicycle\",\n{\n            'v': 1517,\n            'f': \"1517\",\n        },\n{\n            'v': 1817,\n            'f': \"1817\",\n        },\n{\n            'v': 300,\n            'f': \"300\",\n        }],\n [{\n            'v': 96,\n            'f': \"96\",\n        },\n{\n            'v': 2012,\n            'f': \"2012\",\n        },\n\"Theft of Vehicle\",\n{\n            'v': 1093,\n            'f': \"1093\",\n        },\n{\n            'v': 1151,\n            'f': \"1151\",\n        },\n{\n            'v': 58,\n            'f': \"58\",\n        }],\n [{\n            'v': 97,\n            'f': \"97\",\n        },\n{\n            'v': 2012,\n            'f': \"2012\",\n        },\n\"Vehicle Collision or Pedestrian Struck (with Fatality)\",\n{\n            'v': 11,\n            'f': \"11\",\n        },\n{\n            'v': 18,\n            'f': \"18\",\n        },\n{\n            'v': 7,\n            'f': \"7\",\n        }],\n [{\n            'v': 98,\n            'f': \"98\",\n        },\n{\n            'v': 2012,\n            'f': \"2012\",\n        },\n\"Vehicle Collision or Pedestrian Struck (with Injury)\",\n{\n            'v': 1262,\n            'f': \"1262\",\n        },\n{\n            'v': 1474,\n            'f': \"1474\",\n        },\n{\n            'v': 212,\n            'f': \"212\",\n        }],\n [{\n            'v': 99,\n            'f': \"99\",\n        },\n{\n            'v': 2013,\n            'f': \"2013\",\n        },\n\"Break and Enter Commercial\",\n{\n            'v': 1687,\n            'f': \"1687\",\n        },\n{\n            'v': 1774,\n            'f': \"1774\",\n        },\n{\n            'v': 87,\n            'f': \"87\",\n        }],\n [{\n            'v': 100,\n            'f': \"100\",\n        },\n{\n            'v': 2013,\n            'f': \"2013\",\n        },\n\"Break and Enter Residential/Other\",\n{\n            'v': 3311,\n            'f': \"3311\",\n        },\n{\n            'v': 3025,\n            'f': \"3025\",\n        },\n{\n            'v': 286,\n            'f': \"286\",\n        }],\n [{\n            'v': 101,\n            'f': \"101\",\n        },\n{\n            'v': 2013,\n            'f': \"2013\",\n        },\n\"Homicide\",\n{\n            'v': 8,\n            'f': \"8\",\n        },\n{\n            'v': 7,\n            'f': \"7\",\n        },\n{\n            'v': 1,\n            'f': \"1\",\n        }],\n [{\n            'v': 102,\n            'f': \"102\",\n        },\n{\n            'v': 2013,\n            'f': \"2013\",\n        },\n\"Mischief\",\n{\n            'v': 4243,\n            'f': \"4243\",\n        },\n{\n            'v': 4191,\n            'f': \"4191\",\n        },\n{\n            'v': 52,\n            'f': \"52\",\n        }],\n [{\n            'v': 103,\n            'f': \"103\",\n        },\n{\n            'v': 2013,\n            'f': \"2013\",\n        },\n\"Offence Against a Person\",\n{\n            'v': 3786,\n            'f': \"3786\",\n        },\n{\n            'v': 3663,\n            'f': \"3663\",\n        },\n{\n            'v': 123,\n            'f': \"123\",\n        }],\n [{\n            'v': 104,\n            'f': \"104\",\n        },\n{\n            'v': 2013,\n            'f': \"2013\",\n        },\n\"Other Theft\",\n{\n            'v': 3630,\n            'f': \"3630\",\n        },\n{\n            'v': 3488,\n            'f': \"3488\",\n        },\n{\n            'v': 142,\n            'f': \"142\",\n        }],\n [{\n            'v': 105,\n            'f': \"105\",\n        },\n{\n            'v': 2013,\n            'f': \"2013\",\n        },\n\"Theft from Vehicle\",\n{\n            'v': 8097,\n            'f': \"8097\",\n        },\n{\n            'v': 8340,\n            'f': \"8340\",\n        },\n{\n            'v': 243,\n            'f': \"243\",\n        }],\n [{\n            'v': 106,\n            'f': \"106\",\n        },\n{\n            'v': 2013,\n            'f': \"2013\",\n        },\n\"Theft of Bicycle\",\n{\n            'v': 1817,\n            'f': \"1817\",\n        },\n{\n            'v': 2034,\n            'f': \"2034\",\n        },\n{\n            'v': 217,\n            'f': \"217\",\n        }],\n [{\n            'v': 107,\n            'f': \"107\",\n        },\n{\n            'v': 2013,\n            'f': \"2013\",\n        },\n\"Theft of Vehicle\",\n{\n            'v': 1151,\n            'f': \"1151\",\n        },\n{\n            'v': 1034,\n            'f': \"1034\",\n        },\n{\n            'v': 117,\n            'f': \"117\",\n        }],\n [{\n            'v': 108,\n            'f': \"108\",\n        },\n{\n            'v': 2013,\n            'f': \"2013\",\n        },\n\"Vehicle Collision or Pedestrian Struck (with Fatality)\",\n{\n            'v': 18,\n            'f': \"18\",\n        },\n{\n            'v': 15,\n            'f': \"15\",\n        },\n{\n            'v': 3,\n            'f': \"3\",\n        }],\n [{\n            'v': 109,\n            'f': \"109\",\n        },\n{\n            'v': 2013,\n            'f': \"2013\",\n        },\n\"Vehicle Collision or Pedestrian Struck (with Injury)\",\n{\n            'v': 1474,\n            'f': \"1474\",\n        },\n{\n            'v': 1485,\n            'f': \"1485\",\n        },\n{\n            'v': 11,\n            'f': \"11\",\n        }],\n [{\n            'v': 110,\n            'f': \"110\",\n        },\n{\n            'v': 2014,\n            'f': \"2014\",\n        },\n\"Break and Enter Commercial\",\n{\n            'v': 1774,\n            'f': \"1774\",\n        },\n{\n            'v': 2244,\n            'f': \"2244\",\n        },\n{\n            'v': 470,\n            'f': \"470\",\n        }],\n [{\n            'v': 111,\n            'f': \"111\",\n        },\n{\n            'v': 2014,\n            'f': \"2014\",\n        },\n\"Break and Enter Residential/Other\",\n{\n            'v': 3025,\n            'f': \"3025\",\n        },\n{\n            'v': 3044,\n            'f': \"3044\",\n        },\n{\n            'v': 19,\n            'f': \"19\",\n        }],\n [{\n            'v': 112,\n            'f': \"112\",\n        },\n{\n            'v': 2014,\n            'f': \"2014\",\n        },\n\"Homicide\",\n{\n            'v': 7,\n            'f': \"7\",\n        },\n{\n            'v': 9,\n            'f': \"9\",\n        },\n{\n            'v': 2,\n            'f': \"2\",\n        }],\n [{\n            'v': 113,\n            'f': \"113\",\n        },\n{\n            'v': 2014,\n            'f': \"2014\",\n        },\n\"Mischief\",\n{\n            'v': 4191,\n            'f': \"4191\",\n        },\n{\n            'v': 4518,\n            'f': \"4518\",\n        },\n{\n            'v': 327,\n            'f': \"327\",\n        }],\n [{\n            'v': 114,\n            'f': \"114\",\n        },\n{\n            'v': 2014,\n            'f': \"2014\",\n        },\n\"Offence Against a Person\",\n{\n            'v': 3663,\n            'f': \"3663\",\n        },\n{\n            'v': 3158,\n            'f': \"3158\",\n        },\n{\n            'v': 505,\n            'f': \"505\",\n        }],\n [{\n            'v': 115,\n            'f': \"115\",\n        },\n{\n            'v': 2014,\n            'f': \"2014\",\n        },\n\"Other Theft\",\n{\n            'v': 3488,\n            'f': \"3488\",\n        },\n{\n            'v': 4210,\n            'f': \"4210\",\n        },\n{\n            'v': 722,\n            'f': \"722\",\n        }],\n [{\n            'v': 116,\n            'f': \"116\",\n        },\n{\n            'v': 2014,\n            'f': \"2014\",\n        },\n\"Theft from Vehicle\",\n{\n            'v': 8340,\n            'f': \"8340\",\n        },\n{\n            'v': 10137,\n            'f': \"10137\",\n        },\n{\n            'v': 1797,\n            'f': \"1797\",\n        }],\n [{\n            'v': 117,\n            'f': \"117\",\n        },\n{\n            'v': 2014,\n            'f': \"2014\",\n        },\n\"Theft of Bicycle\",\n{\n            'v': 2034,\n            'f': \"2034\",\n        },\n{\n            'v': 2461,\n            'f': \"2461\",\n        },\n{\n            'v': 427,\n            'f': \"427\",\n        }],\n [{\n            'v': 118,\n            'f': \"118\",\n        },\n{\n            'v': 2014,\n            'f': \"2014\",\n        },\n\"Theft of Vehicle\",\n{\n            'v': 1034,\n            'f': \"1034\",\n        },\n{\n            'v': 1290,\n            'f': \"1290\",\n        },\n{\n            'v': 256,\n            'f': \"256\",\n        }],\n [{\n            'v': 119,\n            'f': \"119\",\n        },\n{\n            'v': 2014,\n            'f': \"2014\",\n        },\n\"Vehicle Collision or Pedestrian Struck (with Fatality)\",\n{\n            'v': 15,\n            'f': \"15\",\n        },\n{\n            'v': 13,\n            'f': \"13\",\n        },\n{\n            'v': 2,\n            'f': \"2\",\n        }],\n [{\n            'v': 120,\n            'f': \"120\",\n        },\n{\n            'v': 2014,\n            'f': \"2014\",\n        },\n\"Vehicle Collision or Pedestrian Struck (with Injury)\",\n{\n            'v': 1485,\n            'f': \"1485\",\n        },\n{\n            'v': 1575,\n            'f': \"1575\",\n        },\n{\n            'v': 90,\n            'f': \"90\",\n        }],\n [{\n            'v': 121,\n            'f': \"121\",\n        },\n{\n            'v': 2015,\n            'f': \"2015\",\n        },\n\"Break and Enter Commercial\",\n{\n            'v': 2244,\n            'f': \"2244\",\n        },\n{\n            'v': 2457,\n            'f': \"2457\",\n        },\n{\n            'v': 213,\n            'f': \"213\",\n        }],\n [{\n            'v': 122,\n            'f': \"122\",\n        },\n{\n            'v': 2015,\n            'f': \"2015\",\n        },\n\"Break and Enter Residential/Other\",\n{\n            'v': 3044,\n            'f': \"3044\",\n        },\n{\n            'v': 3121,\n            'f': \"3121\",\n        },\n{\n            'v': 77,\n            'f': \"77\",\n        }],\n [{\n            'v': 123,\n            'f': \"123\",\n        },\n{\n            'v': 2015,\n            'f': \"2015\",\n        },\n\"Homicide\",\n{\n            'v': 9,\n            'f': \"9\",\n        },\n{\n            'v': 15,\n            'f': \"15\",\n        },\n{\n            'v': 6,\n            'f': \"6\",\n        }],\n [{\n            'v': 124,\n            'f': \"124\",\n        },\n{\n            'v': 2015,\n            'f': \"2015\",\n        },\n\"Mischief\",\n{\n            'v': 4518,\n            'f': \"4518\",\n        },\n{\n            'v': 4193,\n            'f': \"4193\",\n        },\n{\n            'v': 325,\n            'f': \"325\",\n        }],\n [{\n            'v': 125,\n            'f': \"125\",\n        },\n{\n            'v': 2015,\n            'f': \"2015\",\n        },\n\"Offence Against a Person\",\n{\n            'v': 3158,\n            'f': \"3158\",\n        },\n{\n            'v': 3202,\n            'f': \"3202\",\n        },\n{\n            'v': 44,\n            'f': \"44\",\n        }],\n [{\n            'v': 126,\n            'f': \"126\",\n        },\n{\n            'v': 2015,\n            'f': \"2015\",\n        },\n\"Other Theft\",\n{\n            'v': 4210,\n            'f': \"4210\",\n        },\n{\n            'v': 4679,\n            'f': \"4679\",\n        },\n{\n            'v': 469,\n            'f': \"469\",\n        }],\n [{\n            'v': 127,\n            'f': \"127\",\n        },\n{\n            'v': 2015,\n            'f': \"2015\",\n        },\n\"Theft from Vehicle\",\n{\n            'v': 10137,\n            'f': \"10137\",\n        },\n{\n            'v': 10544,\n            'f': \"10544\",\n        },\n{\n            'v': 407,\n            'f': \"407\",\n        }],\n [{\n            'v': 128,\n            'f': \"128\",\n        },\n{\n            'v': 2015,\n            'f': \"2015\",\n        },\n\"Theft of Bicycle\",\n{\n            'v': 2461,\n            'f': \"2461\",\n        },\n{\n            'v': 3063,\n            'f': \"3063\",\n        },\n{\n            'v': 602,\n            'f': \"602\",\n        }],\n [{\n            'v': 129,\n            'f': \"129\",\n        },\n{\n            'v': 2015,\n            'f': \"2015\",\n        },\n\"Theft of Vehicle\",\n{\n            'v': 1290,\n            'f': \"1290\",\n        },\n{\n            'v': 1371,\n            'f': \"1371\",\n        },\n{\n            'v': 81,\n            'f': \"81\",\n        }],\n [{\n            'v': 130,\n            'f': \"130\",\n        },\n{\n            'v': 2015,\n            'f': \"2015\",\n        },\n\"Vehicle Collision or Pedestrian Struck (with Fatality)\",\n{\n            'v': 13,\n            'f': \"13\",\n        },\n{\n            'v': 14,\n            'f': \"14\",\n        },\n{\n            'v': 1,\n            'f': \"1\",\n        }],\n [{\n            'v': 131,\n            'f': \"131\",\n        },\n{\n            'v': 2015,\n            'f': \"2015\",\n        },\n\"Vehicle Collision or Pedestrian Struck (with Injury)\",\n{\n            'v': 1575,\n            'f': \"1575\",\n        },\n{\n            'v': 1669,\n            'f': \"1669\",\n        },\n{\n            'v': 94,\n            'f': \"94\",\n        }],\n [{\n            'v': 132,\n            'f': \"132\",\n        },\n{\n            'v': 2016,\n            'f': \"2016\",\n        },\n\"Break and Enter Commercial\",\n{\n            'v': 2457,\n            'f': \"2457\",\n        },\n{\n            'v': 2686,\n            'f': \"2686\",\n        },\n{\n            'v': 229,\n            'f': \"229\",\n        }],\n [{\n            'v': 133,\n            'f': \"133\",\n        },\n{\n            'v': 2016,\n            'f': \"2016\",\n        },\n\"Break and Enter Residential/Other\",\n{\n            'v': 3121,\n            'f': \"3121\",\n        },\n{\n            'v': 2994,\n            'f': \"2994\",\n        },\n{\n            'v': 127,\n            'f': \"127\",\n        }],\n [{\n            'v': 134,\n            'f': \"134\",\n        },\n{\n            'v': 2016,\n            'f': \"2016\",\n        },\n\"Homicide\",\n{\n            'v': 15,\n            'f': \"15\",\n        },\n{\n            'v': 11,\n            'f': \"11\",\n        },\n{\n            'v': 4,\n            'f': \"4\",\n        }],\n [{\n            'v': 135,\n            'f': \"135\",\n        },\n{\n            'v': 2016,\n            'f': \"2016\",\n        },\n\"Mischief\",\n{\n            'v': 4193,\n            'f': \"4193\",\n        },\n{\n            'v': 4599,\n            'f': \"4599\",\n        },\n{\n            'v': 406,\n            'f': \"406\",\n        }],\n [{\n            'v': 136,\n            'f': \"136\",\n        },\n{\n            'v': 2016,\n            'f': \"2016\",\n        },\n\"Offence Against a Person\",\n{\n            'v': 3202,\n            'f': \"3202\",\n        },\n{\n            'v': 3172,\n            'f': \"3172\",\n        },\n{\n            'v': 30,\n            'f': \"30\",\n        }],\n [{\n            'v': 137,\n            'f': \"137\",\n        },\n{\n            'v': 2016,\n            'f': \"2016\",\n        },\n\"Other Theft\",\n{\n            'v': 4679,\n            'f': \"4679\",\n        },\n{\n            'v': 5708,\n            'f': \"5708\",\n        },\n{\n            'v': 1029,\n            'f': \"1029\",\n        }],\n [{\n            'v': 138,\n            'f': \"138\",\n        },\n{\n            'v': 2016,\n            'f': \"2016\",\n        },\n\"Theft from Vehicle\",\n{\n            'v': 10544,\n            'f': \"10544\",\n        },\n{\n            'v': 12806,\n            'f': \"12806\",\n        },\n{\n            'v': 2262,\n            'f': \"2262\",\n        }],\n [{\n            'v': 139,\n            'f': \"139\",\n        },\n{\n            'v': 2016,\n            'f': \"2016\",\n        },\n\"Theft of Bicycle\",\n{\n            'v': 3063,\n            'f': \"3063\",\n        },\n{\n            'v': 2634,\n            'f': \"2634\",\n        },\n{\n            'v': 429,\n            'f': \"429\",\n        }],\n [{\n            'v': 140,\n            'f': \"140\",\n        },\n{\n            'v': 2016,\n            'f': \"2016\",\n        },\n\"Theft of Vehicle\",\n{\n            'v': 1371,\n            'f': \"1371\",\n        },\n{\n            'v': 1474,\n            'f': \"1474\",\n        },\n{\n            'v': 103,\n            'f': \"103\",\n        }],\n [{\n            'v': 141,\n            'f': \"141\",\n        },\n{\n            'v': 2016,\n            'f': \"2016\",\n        },\n\"Vehicle Collision or Pedestrian Struck (with Fatality)\",\n{\n            'v': 14,\n            'f': \"14\",\n        },\n{\n            'v': 15,\n            'f': \"15\",\n        },\n{\n            'v': 1,\n            'f': \"1\",\n        }],\n [{\n            'v': 142,\n            'f': \"142\",\n        },\n{\n            'v': 2016,\n            'f': \"2016\",\n        },\n\"Vehicle Collision or Pedestrian Struck (with Injury)\",\n{\n            'v': 1669,\n            'f': \"1669\",\n        },\n{\n            'v': 1699,\n            'f': \"1699\",\n        },\n{\n            'v': 30,\n            'f': \"30\",\n        }],\n [{\n            'v': 143,\n            'f': \"143\",\n        },\n{\n            'v': 2017,\n            'f': \"2017\",\n        },\n\"Break and Enter Commercial\",\n{\n            'v': 2686,\n            'f': \"2686\",\n        },\n{\n            'v': 1111,\n            'f': \"1111\",\n        },\n{\n            'v': 1575,\n            'f': \"1575\",\n        }],\n [{\n            'v': 144,\n            'f': \"144\",\n        },\n{\n            'v': 2017,\n            'f': \"2017\",\n        },\n\"Break and Enter Residential/Other\",\n{\n            'v': 2994,\n            'f': \"2994\",\n        },\n{\n            'v': 1304,\n            'f': \"1304\",\n        },\n{\n            'v': 1690,\n            'f': \"1690\",\n        }],\n [{\n            'v': 145,\n            'f': \"145\",\n        },\n{\n            'v': 2017,\n            'f': \"2017\",\n        },\n\"Homicide\",\n{\n            'v': 11,\n            'f': \"11\",\n        },\n{\n            'v': 11,\n            'f': \"11\",\n        },\n{\n            'v': 0,\n            'f': \"0\",\n        }],\n [{\n            'v': 146,\n            'f': \"146\",\n        },\n{\n            'v': 2017,\n            'f': \"2017\",\n        },\n\"Mischief\",\n{\n            'v': 4599,\n            'f': \"4599\",\n        },\n{\n            'v': 2581,\n            'f': \"2581\",\n        },\n{\n            'v': 2018,\n            'f': \"2018\",\n        }],\n [{\n            'v': 147,\n            'f': \"147\",\n        },\n{\n            'v': 2017,\n            'f': \"2017\",\n        },\n\"Offence Against a Person\",\n{\n            'v': 3172,\n            'f': \"3172\",\n        },\n{\n            'v': 1605,\n            'f': \"1605\",\n        },\n{\n            'v': 1567,\n            'f': \"1567\",\n        }],\n [{\n            'v': 148,\n            'f': \"148\",\n        },\n{\n            'v': 2017,\n            'f': \"2017\",\n        },\n\"Other Theft\",\n{\n            'v': 5708,\n            'f': \"5708\",\n        },\n{\n            'v': 2866,\n            'f': \"2866\",\n        },\n{\n            'v': 2842,\n            'f': \"2842\",\n        }],\n [{\n            'v': 149,\n            'f': \"149\",\n        },\n{\n            'v': 2017,\n            'f': \"2017\",\n        },\n\"Theft from Vehicle\",\n{\n            'v': 12806,\n            'f': \"12806\",\n        },\n{\n            'v': 5962,\n            'f': \"5962\",\n        },\n{\n            'v': 6844,\n            'f': \"6844\",\n        }],\n [{\n            'v': 150,\n            'f': \"150\",\n        },\n{\n            'v': 2017,\n            'f': \"2017\",\n        },\n\"Theft of Bicycle\",\n{\n            'v': 2634,\n            'f': \"2634\",\n        },\n{\n            'v': 986,\n            'f': \"986\",\n        },\n{\n            'v': 1648,\n            'f': \"1648\",\n        }],\n [{\n            'v': 151,\n            'f': \"151\",\n        },\n{\n            'v': 2017,\n            'f': \"2017\",\n        },\n\"Theft of Vehicle\",\n{\n            'v': 1474,\n            'f': \"1474\",\n        },\n{\n            'v': 755,\n            'f': \"755\",\n        },\n{\n            'v': 719,\n            'f': \"719\",\n        }],\n [{\n            'v': 152,\n            'f': \"152\",\n        },\n{\n            'v': 2017,\n            'f': \"2017\",\n        },\n\"Vehicle Collision or Pedestrian Struck (with Fatality)\",\n{\n            'v': 15,\n            'f': \"15\",\n        },\n{\n            'v': 5,\n            'f': \"5\",\n        },\n{\n            'v': 10,\n            'f': \"10\",\n        }],\n [{\n            'v': 153,\n            'f': \"153\",\n        },\n{\n            'v': 2017,\n            'f': \"2017\",\n        },\n\"Vehicle Collision or Pedestrian Struck (with Injury)\",\n{\n            'v': 1699,\n            'f': \"1699\",\n        },\n{\n            'v': 671,\n            'f': \"671\",\n        },\n{\n            'v': 1028,\n            'f': \"1028\",\n        }]],\n        columns: [[\"number\", \"index\"], [\"number\", \"year\"], [\"string\", \"crimetype\"], [\"number\", \"changed_from\"], [\"number\", \"changed_to\"], [\"number\", \"delta\"]],\n        columnOptions: [{\"width\": \"1px\", \"className\": \"index_column\"}],\n        rowsPerPage: 25,\n        helpUrl: \"https://colab.research.google.com/notebooks/data_table.ipynb\",\n        suppressOutputScrolling: true,\n        minimumWidth: undefined,\n      });\n    ",
            "text/html": [
              "\n",
              "  <div id=\"df-8013364d-15a2-46d5-9d0f-15d353364dab\">\n",
              "    <div class=\"colab-df-container\">\n",
              "      <div>\n",
              "<style scoped>\n",
              "    .dataframe tbody tr th:only-of-type {\n",
              "        vertical-align: middle;\n",
              "    }\n",
              "\n",
              "    .dataframe tbody tr th {\n",
              "        vertical-align: top;\n",
              "    }\n",
              "\n",
              "    .dataframe thead th {\n",
              "        text-align: right;\n",
              "    }\n",
              "</style>\n",
              "<table border=\"1\" class=\"dataframe\">\n",
              "  <thead>\n",
              "    <tr style=\"text-align: right;\">\n",
              "      <th></th>\n",
              "      <th>year</th>\n",
              "      <th>crimetype</th>\n",
              "      <th>changed_from</th>\n",
              "      <th>changed_to</th>\n",
              "      <th>delta</th>\n",
              "    </tr>\n",
              "  </thead>\n",
              "  <tbody>\n",
              "    <tr>\n",
              "      <th>0</th>\n",
              "      <td>2004</td>\n",
              "      <td>Break and Enter Commercial</td>\n",
              "      <td>3197</td>\n",
              "      <td>3283</td>\n",
              "      <td>86</td>\n",
              "    </tr>\n",
              "    <tr>\n",
              "      <th>1</th>\n",
              "      <td>2004</td>\n",
              "      <td>Break and Enter Residential/Other</td>\n",
              "      <td>6883</td>\n",
              "      <td>6538</td>\n",
              "      <td>345</td>\n",
              "    </tr>\n",
              "    <tr>\n",
              "      <th>2</th>\n",
              "      <td>2004</td>\n",
              "      <td>Homicide</td>\n",
              "      <td>18</td>\n",
              "      <td>22</td>\n",
              "      <td>4</td>\n",
              "    </tr>\n",
              "    <tr>\n",
              "      <th>3</th>\n",
              "      <td>2004</td>\n",
              "      <td>Mischief</td>\n",
              "      <td>6391</td>\n",
              "      <td>5601</td>\n",
              "      <td>790</td>\n",
              "    </tr>\n",
              "    <tr>\n",
              "      <th>4</th>\n",
              "      <td>2004</td>\n",
              "      <td>Offence Against a Person</td>\n",
              "      <td>3507</td>\n",
              "      <td>3804</td>\n",
              "      <td>297</td>\n",
              "    </tr>\n",
              "    <tr>\n",
              "      <th>...</th>\n",
              "      <td>...</td>\n",
              "      <td>...</td>\n",
              "      <td>...</td>\n",
              "      <td>...</td>\n",
              "      <td>...</td>\n",
              "    </tr>\n",
              "    <tr>\n",
              "      <th>149</th>\n",
              "      <td>2017</td>\n",
              "      <td>Theft from Vehicle</td>\n",
              "      <td>12806</td>\n",
              "      <td>5962</td>\n",
              "      <td>6844</td>\n",
              "    </tr>\n",
              "    <tr>\n",
              "      <th>150</th>\n",
              "      <td>2017</td>\n",
              "      <td>Theft of Bicycle</td>\n",
              "      <td>2634</td>\n",
              "      <td>986</td>\n",
              "      <td>1648</td>\n",
              "    </tr>\n",
              "    <tr>\n",
              "      <th>151</th>\n",
              "      <td>2017</td>\n",
              "      <td>Theft of Vehicle</td>\n",
              "      <td>1474</td>\n",
              "      <td>755</td>\n",
              "      <td>719</td>\n",
              "    </tr>\n",
              "    <tr>\n",
              "      <th>152</th>\n",
              "      <td>2017</td>\n",
              "      <td>Vehicle Collision or Pedestrian Struck (with F...</td>\n",
              "      <td>15</td>\n",
              "      <td>5</td>\n",
              "      <td>10</td>\n",
              "    </tr>\n",
              "    <tr>\n",
              "      <th>153</th>\n",
              "      <td>2017</td>\n",
              "      <td>Vehicle Collision or Pedestrian Struck (with I...</td>\n",
              "      <td>1699</td>\n",
              "      <td>671</td>\n",
              "      <td>1028</td>\n",
              "    </tr>\n",
              "  </tbody>\n",
              "</table>\n",
              "<p>154 rows × 5 columns</p>\n",
              "</div>\n",
              "      <button class=\"colab-df-convert\" onclick=\"convertToInteractive('df-8013364d-15a2-46d5-9d0f-15d353364dab')\"\n",
              "              title=\"Convert this dataframe to an interactive table.\"\n",
              "              style=\"display:none;\">\n",
              "        \n",
              "  <svg xmlns=\"http://www.w3.org/2000/svg\" height=\"24px\"viewBox=\"0 0 24 24\"\n",
              "       width=\"24px\">\n",
              "    <path d=\"M0 0h24v24H0V0z\" fill=\"none\"/>\n",
              "    <path d=\"M18.56 5.44l.94 2.06.94-2.06 2.06-.94-2.06-.94-.94-2.06-.94 2.06-2.06.94zm-11 1L8.5 8.5l.94-2.06 2.06-.94-2.06-.94L8.5 2.5l-.94 2.06-2.06.94zm10 10l.94 2.06.94-2.06 2.06-.94-2.06-.94-.94-2.06-.94 2.06-2.06.94z\"/><path d=\"M17.41 7.96l-1.37-1.37c-.4-.4-.92-.59-1.43-.59-.52 0-1.04.2-1.43.59L10.3 9.45l-7.72 7.72c-.78.78-.78 2.05 0 2.83L4 21.41c.39.39.9.59 1.41.59.51 0 1.02-.2 1.41-.59l7.78-7.78 2.81-2.81c.8-.78.8-2.07 0-2.86zM5.41 20L4 18.59l7.72-7.72 1.47 1.35L5.41 20z\"/>\n",
              "  </svg>\n",
              "      </button>\n",
              "      \n",
              "  <style>\n",
              "    .colab-df-container {\n",
              "      display:flex;\n",
              "      flex-wrap:wrap;\n",
              "      gap: 12px;\n",
              "    }\n",
              "\n",
              "    .colab-df-convert {\n",
              "      background-color: #E8F0FE;\n",
              "      border: none;\n",
              "      border-radius: 50%;\n",
              "      cursor: pointer;\n",
              "      display: none;\n",
              "      fill: #1967D2;\n",
              "      height: 32px;\n",
              "      padding: 0 0 0 0;\n",
              "      width: 32px;\n",
              "    }\n",
              "\n",
              "    .colab-df-convert:hover {\n",
              "      background-color: #E2EBFA;\n",
              "      box-shadow: 0px 1px 2px rgba(60, 64, 67, 0.3), 0px 1px 3px 1px rgba(60, 64, 67, 0.15);\n",
              "      fill: #174EA6;\n",
              "    }\n",
              "\n",
              "    [theme=dark] .colab-df-convert {\n",
              "      background-color: #3B4455;\n",
              "      fill: #D2E3FC;\n",
              "    }\n",
              "\n",
              "    [theme=dark] .colab-df-convert:hover {\n",
              "      background-color: #434B5C;\n",
              "      box-shadow: 0px 1px 3px 1px rgba(0, 0, 0, 0.15);\n",
              "      filter: drop-shadow(0px 1px 2px rgba(0, 0, 0, 0.3));\n",
              "      fill: #FFFFFF;\n",
              "    }\n",
              "  </style>\n",
              "\n",
              "      <script>\n",
              "        const buttonEl =\n",
              "          document.querySelector('#df-8013364d-15a2-46d5-9d0f-15d353364dab button.colab-df-convert');\n",
              "        buttonEl.style.display =\n",
              "          google.colab.kernel.accessAllowed ? 'block' : 'none';\n",
              "\n",
              "        async function convertToInteractive(key) {\n",
              "          const element = document.querySelector('#df-8013364d-15a2-46d5-9d0f-15d353364dab');\n",
              "          const dataTable =\n",
              "            await google.colab.kernel.invokeFunction('convertToInteractive',\n",
              "                                                     [key], {});\n",
              "          if (!dataTable) return;\n",
              "\n",
              "          const docLinkHtml = 'Like what you see? Visit the ' +\n",
              "            '<a target=\"_blank\" href=https://colab.research.google.com/notebooks/data_table.ipynb>data table notebook</a>'\n",
              "            + ' to learn more about interactive tables.';\n",
              "          element.innerHTML = '';\n",
              "          dataTable['output_type'] = 'display_data';\n",
              "          await google.colab.output.renderOutput(dataTable, element);\n",
              "          const docLink = document.createElement('div');\n",
              "          docLink.innerHTML = docLinkHtml;\n",
              "          element.appendChild(docLink);\n",
              "        }\n",
              "      </script>\n",
              "    </div>\n",
              "  </div>\n",
              "  "
            ],
            "text/plain": [
              "     year                                          crimetype  ...  changed_to  delta\n",
              "0    2004                         Break and Enter Commercial  ...        3283     86\n",
              "1    2004                  Break and Enter Residential/Other  ...        6538    345\n",
              "2    2004                                           Homicide  ...          22      4\n",
              "3    2004                                           Mischief  ...        5601    790\n",
              "4    2004                           Offence Against a Person  ...        3804    297\n",
              "..    ...                                                ...  ...         ...    ...\n",
              "149  2017                                 Theft from Vehicle  ...        5962   6844\n",
              "150  2017                                   Theft of Bicycle  ...         986   1648\n",
              "151  2017                                   Theft of Vehicle  ...         755    719\n",
              "152  2017  Vehicle Collision or Pedestrian Struck (with F...  ...           5     10\n",
              "153  2017  Vehicle Collision or Pedestrian Struck (with I...  ...         671   1028\n",
              "\n",
              "[154 rows x 5 columns]"
            ]
          },
          "metadata": {}
        },
        {
          "output_type": "display_data",
          "data": {
            "application/javascript": [
              "window[\"72498504-6710-11ec-87a2-0242ac1c0002\"] = google.colab.output.setActiveOutputArea(window[\"7237b1b2-6710-11ec-87a2-0242ac1c0002\"]);\n",
              "//# sourceURL=js_a0dd253a75"
            ],
            "text/plain": [
              "<IPython.core.display.Javascript object>"
            ]
          },
          "metadata": {}
        },
        {
          "output_type": "stream",
          "name": "stdout",
          "text": [
            " \n"
          ]
        },
        {
          "output_type": "display_data",
          "data": {
            "application/javascript": [
              "window[\"724b48d0-6710-11ec-87a2-0242ac1c0002\"] = google.colab.output.setActiveOutputArea(window[\"72354530-6710-11ec-87a2-0242ac1c0002\"]);\n",
              "//# sourceURL=js_79800b3730"
            ],
            "text/plain": [
              "<IPython.core.display.Javascript object>"
            ]
          },
          "metadata": {}
        },
        {
          "output_type": "display_data",
          "data": {
            "application/javascript": [
              "window[\"724cdc9a-6710-11ec-87a2-0242ac1c0002\"] = google.colab.output.getActiveOutputArea();\n",
              "//# sourceURL=js_93484aa976"
            ],
            "text/plain": [
              "<IPython.core.display.Javascript object>"
            ]
          },
          "metadata": {}
        },
        {
          "output_type": "display_data",
          "data": {
            "application/javascript": [
              "window[\"724d229a-6710-11ec-87a2-0242ac1c0002\"] = document.querySelector(\"#id226_content_6\");\n",
              "//# sourceURL=js_1acf7b5641"
            ],
            "text/plain": [
              "<IPython.core.display.Javascript object>"
            ]
          },
          "metadata": {}
        },
        {
          "output_type": "display_data",
          "data": {
            "application/javascript": [
              "window[\"724d673c-6710-11ec-87a2-0242ac1c0002\"] = google.colab.output.setActiveOutputArea(window[\"724d229a-6710-11ec-87a2-0242ac1c0002\"]);\n",
              "//# sourceURL=js_b84fa6e550"
            ],
            "text/plain": [
              "<IPython.core.display.Javascript object>"
            ]
          },
          "metadata": {}
        },
        {
          "output_type": "display_data",
          "data": {
            "application/javascript": [
              "window[\"724dacd8-6710-11ec-87a2-0242ac1c0002\"] = window[\"id226\"].setSelectedTabIndex(6);\n",
              "//# sourceURL=js_db07991f1b"
            ],
            "text/plain": [
              "<IPython.core.display.Javascript object>"
            ]
          },
          "metadata": {}
        },
        {
          "output_type": "display_data",
          "data": {
            "application/javascript": [
              "window[\"724f1190-6710-11ec-87a2-0242ac1c0002\"] = google.colab.output.getActiveOutputArea();\n",
              "//# sourceURL=js_ac4ece3542"
            ],
            "text/plain": [
              "<IPython.core.display.Javascript object>"
            ]
          },
          "metadata": {}
        },
        {
          "output_type": "display_data",
          "data": {
            "application/javascript": [
              "window[\"724f56aa-6710-11ec-87a2-0242ac1c0002\"] = document.querySelector(\"#id233_content_1\");\n",
              "//# sourceURL=js_6f9ddc9989"
            ],
            "text/plain": [
              "<IPython.core.display.Javascript object>"
            ]
          },
          "metadata": {}
        },
        {
          "output_type": "display_data",
          "data": {
            "application/javascript": [
              "window[\"724fb21c-6710-11ec-87a2-0242ac1c0002\"] = google.colab.output.setActiveOutputArea(window[\"724f56aa-6710-11ec-87a2-0242ac1c0002\"]);\n",
              "//# sourceURL=js_97c6583b48"
            ],
            "text/plain": [
              "<IPython.core.display.Javascript object>"
            ]
          },
          "metadata": {}
        },
        {
          "output_type": "display_data",
          "data": {
            "application/javascript": [
              "window[\"725005d2-6710-11ec-87a2-0242ac1c0002\"] = window[\"id233\"].setSelectedTabIndex(1);\n",
              "//# sourceURL=js_b61cb2b37b"
            ],
            "text/plain": [
              "<IPython.core.display.Javascript object>"
            ]
          },
          "metadata": {}
        },
        {
          "output_type": "stream",
          "name": "stdout",
          "text": [
            "The following table is stored at \u001b[1mMostVolatileType\u001b[0m variable.\n"
          ]
        },
        {
          "output_type": "display_data",
          "data": {
            "application/vnd.google.colaboratory.module+javascript": "\n      import \"https://ssl.gstatic.com/colaboratory/data_table/a6224c040fa35dcf/data_table.js\";\n\n      window.createDataTable({\n        data: [[{\n            'v': 0,\n            'f': \"0\",\n        },\n{\n            'v': 2004,\n            'f': \"2004\",\n        },\n\"Mischief\"],\n [{\n            'v': 1,\n            'f': \"1\",\n        },\n{\n            'v': 2005,\n            'f': \"2005\",\n        },\n\"Theft from Vehicle\"],\n [{\n            'v': 2,\n            'f': \"2\",\n        },\n{\n            'v': 2006,\n            'f': \"2006\",\n        },\n\"Theft from Vehicle\"],\n [{\n            'v': 3,\n            'f': \"3\",\n        },\n{\n            'v': 2007,\n            'f': \"2007\",\n        },\n\"Theft from Vehicle\"],\n [{\n            'v': 4,\n            'f': \"4\",\n        },\n{\n            'v': 2008,\n            'f': \"2008\",\n        },\n\"Theft from Vehicle\"],\n [{\n            'v': 5,\n            'f': \"5\",\n        },\n{\n            'v': 2009,\n            'f': \"2009\",\n        },\n\"Theft from Vehicle\"],\n [{\n            'v': 6,\n            'f': \"6\",\n        },\n{\n            'v': 2010,\n            'f': \"2010\",\n        },\n\"Theft from Vehicle\"],\n [{\n            'v': 7,\n            'f': \"7\",\n        },\n{\n            'v': 2011,\n            'f': \"2011\",\n        },\n\"Theft from Vehicle\"],\n [{\n            'v': 8,\n            'f': \"8\",\n        },\n{\n            'v': 2012,\n            'f': \"2012\",\n        },\n\"Theft from Vehicle\"],\n [{\n            'v': 9,\n            'f': \"9\",\n        },\n{\n            'v': 2013,\n            'f': \"2013\",\n        },\n\"Break and Enter Residential/Other\"],\n [{\n            'v': 10,\n            'f': \"10\",\n        },\n{\n            'v': 2014,\n            'f': \"2014\",\n        },\n\"Theft from Vehicle\"],\n [{\n            'v': 11,\n            'f': \"11\",\n        },\n{\n            'v': 2015,\n            'f': \"2015\",\n        },\n\"Theft of Bicycle\"],\n [{\n            'v': 12,\n            'f': \"12\",\n        },\n{\n            'v': 2016,\n            'f': \"2016\",\n        },\n\"Theft from Vehicle\"],\n [{\n            'v': 13,\n            'f': \"13\",\n        },\n{\n            'v': 2017,\n            'f': \"2017\",\n        },\n\"Theft from Vehicle\"]],\n        columns: [[\"number\", \"index\"], [\"number\", \"year\"], [\"string\", \"crimetype\"]],\n        columnOptions: [{\"width\": \"1px\", \"className\": \"index_column\"}],\n        rowsPerPage: 25,\n        helpUrl: \"https://colab.research.google.com/notebooks/data_table.ipynb\",\n        suppressOutputScrolling: true,\n        minimumWidth: undefined,\n      });\n    ",
            "text/html": [
              "\n",
              "  <div id=\"df-f3b0cd06-4581-4fc3-b22d-72feb4199488\">\n",
              "    <div class=\"colab-df-container\">\n",
              "      <div>\n",
              "<style scoped>\n",
              "    .dataframe tbody tr th:only-of-type {\n",
              "        vertical-align: middle;\n",
              "    }\n",
              "\n",
              "    .dataframe tbody tr th {\n",
              "        vertical-align: top;\n",
              "    }\n",
              "\n",
              "    .dataframe thead th {\n",
              "        text-align: right;\n",
              "    }\n",
              "</style>\n",
              "<table border=\"1\" class=\"dataframe\">\n",
              "  <thead>\n",
              "    <tr style=\"text-align: right;\">\n",
              "      <th></th>\n",
              "      <th>year</th>\n",
              "      <th>crimetype</th>\n",
              "    </tr>\n",
              "  </thead>\n",
              "  <tbody>\n",
              "    <tr>\n",
              "      <th>0</th>\n",
              "      <td>2004</td>\n",
              "      <td>Mischief</td>\n",
              "    </tr>\n",
              "    <tr>\n",
              "      <th>1</th>\n",
              "      <td>2005</td>\n",
              "      <td>Theft from Vehicle</td>\n",
              "    </tr>\n",
              "    <tr>\n",
              "      <th>2</th>\n",
              "      <td>2006</td>\n",
              "      <td>Theft from Vehicle</td>\n",
              "    </tr>\n",
              "    <tr>\n",
              "      <th>3</th>\n",
              "      <td>2007</td>\n",
              "      <td>Theft from Vehicle</td>\n",
              "    </tr>\n",
              "    <tr>\n",
              "      <th>4</th>\n",
              "      <td>2008</td>\n",
              "      <td>Theft from Vehicle</td>\n",
              "    </tr>\n",
              "    <tr>\n",
              "      <th>5</th>\n",
              "      <td>2009</td>\n",
              "      <td>Theft from Vehicle</td>\n",
              "    </tr>\n",
              "    <tr>\n",
              "      <th>6</th>\n",
              "      <td>2010</td>\n",
              "      <td>Theft from Vehicle</td>\n",
              "    </tr>\n",
              "    <tr>\n",
              "      <th>7</th>\n",
              "      <td>2011</td>\n",
              "      <td>Theft from Vehicle</td>\n",
              "    </tr>\n",
              "    <tr>\n",
              "      <th>8</th>\n",
              "      <td>2012</td>\n",
              "      <td>Theft from Vehicle</td>\n",
              "    </tr>\n",
              "    <tr>\n",
              "      <th>9</th>\n",
              "      <td>2013</td>\n",
              "      <td>Break and Enter Residential/Other</td>\n",
              "    </tr>\n",
              "    <tr>\n",
              "      <th>10</th>\n",
              "      <td>2014</td>\n",
              "      <td>Theft from Vehicle</td>\n",
              "    </tr>\n",
              "    <tr>\n",
              "      <th>11</th>\n",
              "      <td>2015</td>\n",
              "      <td>Theft of Bicycle</td>\n",
              "    </tr>\n",
              "    <tr>\n",
              "      <th>12</th>\n",
              "      <td>2016</td>\n",
              "      <td>Theft from Vehicle</td>\n",
              "    </tr>\n",
              "    <tr>\n",
              "      <th>13</th>\n",
              "      <td>2017</td>\n",
              "      <td>Theft from Vehicle</td>\n",
              "    </tr>\n",
              "  </tbody>\n",
              "</table>\n",
              "</div>\n",
              "      <button class=\"colab-df-convert\" onclick=\"convertToInteractive('df-f3b0cd06-4581-4fc3-b22d-72feb4199488')\"\n",
              "              title=\"Convert this dataframe to an interactive table.\"\n",
              "              style=\"display:none;\">\n",
              "        \n",
              "  <svg xmlns=\"http://www.w3.org/2000/svg\" height=\"24px\"viewBox=\"0 0 24 24\"\n",
              "       width=\"24px\">\n",
              "    <path d=\"M0 0h24v24H0V0z\" fill=\"none\"/>\n",
              "    <path d=\"M18.56 5.44l.94 2.06.94-2.06 2.06-.94-2.06-.94-.94-2.06-.94 2.06-2.06.94zm-11 1L8.5 8.5l.94-2.06 2.06-.94-2.06-.94L8.5 2.5l-.94 2.06-2.06.94zm10 10l.94 2.06.94-2.06 2.06-.94-2.06-.94-.94-2.06-.94 2.06-2.06.94z\"/><path d=\"M17.41 7.96l-1.37-1.37c-.4-.4-.92-.59-1.43-.59-.52 0-1.04.2-1.43.59L10.3 9.45l-7.72 7.72c-.78.78-.78 2.05 0 2.83L4 21.41c.39.39.9.59 1.41.59.51 0 1.02-.2 1.41-.59l7.78-7.78 2.81-2.81c.8-.78.8-2.07 0-2.86zM5.41 20L4 18.59l7.72-7.72 1.47 1.35L5.41 20z\"/>\n",
              "  </svg>\n",
              "      </button>\n",
              "      \n",
              "  <style>\n",
              "    .colab-df-container {\n",
              "      display:flex;\n",
              "      flex-wrap:wrap;\n",
              "      gap: 12px;\n",
              "    }\n",
              "\n",
              "    .colab-df-convert {\n",
              "      background-color: #E8F0FE;\n",
              "      border: none;\n",
              "      border-radius: 50%;\n",
              "      cursor: pointer;\n",
              "      display: none;\n",
              "      fill: #1967D2;\n",
              "      height: 32px;\n",
              "      padding: 0 0 0 0;\n",
              "      width: 32px;\n",
              "    }\n",
              "\n",
              "    .colab-df-convert:hover {\n",
              "      background-color: #E2EBFA;\n",
              "      box-shadow: 0px 1px 2px rgba(60, 64, 67, 0.3), 0px 1px 3px 1px rgba(60, 64, 67, 0.15);\n",
              "      fill: #174EA6;\n",
              "    }\n",
              "\n",
              "    [theme=dark] .colab-df-convert {\n",
              "      background-color: #3B4455;\n",
              "      fill: #D2E3FC;\n",
              "    }\n",
              "\n",
              "    [theme=dark] .colab-df-convert:hover {\n",
              "      background-color: #434B5C;\n",
              "      box-shadow: 0px 1px 3px 1px rgba(0, 0, 0, 0.15);\n",
              "      filter: drop-shadow(0px 1px 2px rgba(0, 0, 0, 0.3));\n",
              "      fill: #FFFFFF;\n",
              "    }\n",
              "  </style>\n",
              "\n",
              "      <script>\n",
              "        const buttonEl =\n",
              "          document.querySelector('#df-f3b0cd06-4581-4fc3-b22d-72feb4199488 button.colab-df-convert');\n",
              "        buttonEl.style.display =\n",
              "          google.colab.kernel.accessAllowed ? 'block' : 'none';\n",
              "\n",
              "        async function convertToInteractive(key) {\n",
              "          const element = document.querySelector('#df-f3b0cd06-4581-4fc3-b22d-72feb4199488');\n",
              "          const dataTable =\n",
              "            await google.colab.kernel.invokeFunction('convertToInteractive',\n",
              "                                                     [key], {});\n",
              "          if (!dataTable) return;\n",
              "\n",
              "          const docLinkHtml = 'Like what you see? Visit the ' +\n",
              "            '<a target=\"_blank\" href=https://colab.research.google.com/notebooks/data_table.ipynb>data table notebook</a>'\n",
              "            + ' to learn more about interactive tables.';\n",
              "          element.innerHTML = '';\n",
              "          dataTable['output_type'] = 'display_data';\n",
              "          await google.colab.output.renderOutput(dataTable, element);\n",
              "          const docLink = document.createElement('div');\n",
              "          docLink.innerHTML = docLinkHtml;\n",
              "          element.appendChild(docLink);\n",
              "        }\n",
              "      </script>\n",
              "    </div>\n",
              "  </div>\n",
              "  "
            ],
            "text/plain": [
              "    year                          crimetype\n",
              "0   2004                           Mischief\n",
              "1   2005                 Theft from Vehicle\n",
              "2   2006                 Theft from Vehicle\n",
              "3   2007                 Theft from Vehicle\n",
              "4   2008                 Theft from Vehicle\n",
              "5   2009                 Theft from Vehicle\n",
              "6   2010                 Theft from Vehicle\n",
              "7   2011                 Theft from Vehicle\n",
              "8   2012                 Theft from Vehicle\n",
              "9   2013  Break and Enter Residential/Other\n",
              "10  2014                 Theft from Vehicle\n",
              "11  2015                   Theft of Bicycle\n",
              "12  2016                 Theft from Vehicle\n",
              "13  2017                 Theft from Vehicle"
            ]
          },
          "metadata": {}
        },
        {
          "output_type": "display_data",
          "data": {
            "application/javascript": [
              "window[\"7256203e-6710-11ec-87a2-0242ac1c0002\"] = google.colab.output.setActiveOutputArea(window[\"724f1190-6710-11ec-87a2-0242ac1c0002\"]);\n",
              "//# sourceURL=js_50ad81de06"
            ],
            "text/plain": [
              "<IPython.core.display.Javascript object>"
            ]
          },
          "metadata": {}
        },
        {
          "output_type": "stream",
          "name": "stdout",
          "text": [
            " \n"
          ]
        },
        {
          "output_type": "display_data",
          "data": {
            "application/javascript": [
              "window[\"72579400-6710-11ec-87a2-0242ac1c0002\"] = google.colab.output.setActiveOutputArea(window[\"724cdc9a-6710-11ec-87a2-0242ac1c0002\"]);\n",
              "//# sourceURL=js_3d07048352"
            ],
            "text/plain": [
              "<IPython.core.display.Javascript object>"
            ]
          },
          "metadata": {}
        },
        {
          "output_type": "display_data",
          "data": {
            "application/javascript": [
              "window[\"72592450-6710-11ec-87a2-0242ac1c0002\"] = google.colab.output.getActiveOutputArea();\n",
              "//# sourceURL=js_54ece147b6"
            ],
            "text/plain": [
              "<IPython.core.display.Javascript object>"
            ]
          },
          "metadata": {}
        },
        {
          "output_type": "display_data",
          "data": {
            "application/javascript": [
              "window[\"72596726-6710-11ec-87a2-0242ac1c0002\"] = document.querySelector(\"#id226_content_7\");\n",
              "//# sourceURL=js_b342b01c1a"
            ],
            "text/plain": [
              "<IPython.core.display.Javascript object>"
            ]
          },
          "metadata": {}
        },
        {
          "output_type": "display_data",
          "data": {
            "application/javascript": [
              "window[\"7259b050-6710-11ec-87a2-0242ac1c0002\"] = google.colab.output.setActiveOutputArea(window[\"72596726-6710-11ec-87a2-0242ac1c0002\"]);\n",
              "//# sourceURL=js_1834c5574a"
            ],
            "text/plain": [
              "<IPython.core.display.Javascript object>"
            ]
          },
          "metadata": {}
        },
        {
          "output_type": "display_data",
          "data": {
            "application/javascript": [
              "window[\"725a06e0-6710-11ec-87a2-0242ac1c0002\"] = window[\"id226\"].setSelectedTabIndex(7);\n",
              "//# sourceURL=js_ea8a33e8a1"
            ],
            "text/plain": [
              "<IPython.core.display.Javascript object>"
            ]
          },
          "metadata": {}
        },
        {
          "output_type": "display_data",
          "data": {
            "application/javascript": [
              "window[\"725b3f92-6710-11ec-87a2-0242ac1c0002\"] = google.colab.output.getActiveOutputArea();\n",
              "//# sourceURL=js_cd67d046a0"
            ],
            "text/plain": [
              "<IPython.core.display.Javascript object>"
            ]
          },
          "metadata": {}
        },
        {
          "output_type": "display_data",
          "data": {
            "application/javascript": [
              "window[\"725b83b2-6710-11ec-87a2-0242ac1c0002\"] = document.querySelector(\"#id234_content_1\");\n",
              "//# sourceURL=js_1a3610fc06"
            ],
            "text/plain": [
              "<IPython.core.display.Javascript object>"
            ]
          },
          "metadata": {}
        },
        {
          "output_type": "display_data",
          "data": {
            "application/javascript": [
              "window[\"725bceee-6710-11ec-87a2-0242ac1c0002\"] = google.colab.output.setActiveOutputArea(window[\"725b83b2-6710-11ec-87a2-0242ac1c0002\"]);\n",
              "//# sourceURL=js_aede4f8e37"
            ],
            "text/plain": [
              "<IPython.core.display.Javascript object>"
            ]
          },
          "metadata": {}
        },
        {
          "output_type": "display_data",
          "data": {
            "application/javascript": [
              "window[\"725c13f4-6710-11ec-87a2-0242ac1c0002\"] = window[\"id234\"].setSelectedTabIndex(1);\n",
              "//# sourceURL=js_4ae2f8850f"
            ],
            "text/plain": [
              "<IPython.core.display.Javascript object>"
            ]
          },
          "metadata": {}
        },
        {
          "output_type": "stream",
          "name": "stdout",
          "text": [
            "The following table is stored at \u001b[1mCrimeChange\u001b[0m variable.\n"
          ]
        },
        {
          "output_type": "display_data",
          "data": {
            "application/vnd.google.colaboratory.module+javascript": "\n      import \"https://ssl.gstatic.com/colaboratory/data_table/a6224c040fa35dcf/data_table.js\";\n\n      window.createDataTable({\n        data: [[{\n            'v': 0,\n            'f': \"0\",\n        },\n{\n            'v': 2004,\n            'f': \"2004\",\n        },\n\"Mischief\",\n{\n            'v': 6391,\n            'f': \"6391\",\n        },\n{\n            'v': 5601,\n            'f': \"5601\",\n        }],\n [{\n            'v': 1,\n            'f': \"1\",\n        },\n{\n            'v': 2005,\n            'f': \"2005\",\n        },\n\"Theft from Vehicle\",\n{\n            'v': 18204,\n            'f': \"18204\",\n        },\n{\n            'v': 16554,\n            'f': \"16554\",\n        }],\n [{\n            'v': 2,\n            'f': \"2\",\n        },\n{\n            'v': 2006,\n            'f': \"2006\",\n        },\n\"Theft from Vehicle\",\n{\n            'v': 16554,\n            'f': \"16554\",\n        },\n{\n            'v': 14734,\n            'f': \"14734\",\n        }],\n [{\n            'v': 3,\n            'f': \"3\",\n        },\n{\n            'v': 2007,\n            'f': \"2007\",\n        },\n\"Theft from Vehicle\",\n{\n            'v': 14734,\n            'f': \"14734\",\n        },\n{\n            'v': 12226,\n            'f': \"12226\",\n        }],\n [{\n            'v': 4,\n            'f': \"4\",\n        },\n{\n            'v': 2008,\n            'f': \"2008\",\n        },\n\"Theft from Vehicle\",\n{\n            'v': 12226,\n            'f': \"12226\",\n        },\n{\n            'v': 11298,\n            'f': \"11298\",\n        }],\n [{\n            'v': 5,\n            'f': \"5\",\n        },\n{\n            'v': 2009,\n            'f': \"2009\",\n        },\n\"Theft from Vehicle\",\n{\n            'v': 11298,\n            'f': \"11298\",\n        },\n{\n            'v': 10007,\n            'f': \"10007\",\n        }],\n [{\n            'v': 6,\n            'f': \"6\",\n        },\n{\n            'v': 2010,\n            'f': \"2010\",\n        },\n\"Theft from Vehicle\",\n{\n            'v': 10007,\n            'f': \"10007\",\n        },\n{\n            'v': 8612,\n            'f': \"8612\",\n        }],\n [{\n            'v': 7,\n            'f': \"7\",\n        },\n{\n            'v': 2011,\n            'f': \"2011\",\n        },\n\"Theft from Vehicle\",\n{\n            'v': 8612,\n            'f': \"8612\",\n        },\n{\n            'v': 7435,\n            'f': \"7435\",\n        }],\n [{\n            'v': 8,\n            'f': \"8\",\n        },\n{\n            'v': 2012,\n            'f': \"2012\",\n        },\n\"Theft from Vehicle\",\n{\n            'v': 7435,\n            'f': \"7435\",\n        },\n{\n            'v': 8097,\n            'f': \"8097\",\n        }],\n [{\n            'v': 9,\n            'f': \"9\",\n        },\n{\n            'v': 2013,\n            'f': \"2013\",\n        },\n\"Break and Enter Residential/Other\",\n{\n            'v': 3311,\n            'f': \"3311\",\n        },\n{\n            'v': 3025,\n            'f': \"3025\",\n        }],\n [{\n            'v': 10,\n            'f': \"10\",\n        },\n{\n            'v': 2014,\n            'f': \"2014\",\n        },\n\"Theft from Vehicle\",\n{\n            'v': 8340,\n            'f': \"8340\",\n        },\n{\n            'v': 10137,\n            'f': \"10137\",\n        }],\n [{\n            'v': 11,\n            'f': \"11\",\n        },\n{\n            'v': 2015,\n            'f': \"2015\",\n        },\n\"Theft of Bicycle\",\n{\n            'v': 2461,\n            'f': \"2461\",\n        },\n{\n            'v': 3063,\n            'f': \"3063\",\n        }],\n [{\n            'v': 12,\n            'f': \"12\",\n        },\n{\n            'v': 2016,\n            'f': \"2016\",\n        },\n\"Theft from Vehicle\",\n{\n            'v': 10544,\n            'f': \"10544\",\n        },\n{\n            'v': 12806,\n            'f': \"12806\",\n        }],\n [{\n            'v': 13,\n            'f': \"13\",\n        },\n{\n            'v': 2017,\n            'f': \"2017\",\n        },\n\"Theft from Vehicle\",\n{\n            'v': 12806,\n            'f': \"12806\",\n        },\n{\n            'v': 5962,\n            'f': \"5962\",\n        }]],\n        columns: [[\"number\", \"index\"], [\"number\", \"year\"], [\"string\", \"crimetype\"], [\"number\", \"changed_from\"], [\"number\", \"changed_to\"]],\n        columnOptions: [{\"width\": \"1px\", \"className\": \"index_column\"}],\n        rowsPerPage: 25,\n        helpUrl: \"https://colab.research.google.com/notebooks/data_table.ipynb\",\n        suppressOutputScrolling: true,\n        minimumWidth: undefined,\n      });\n    ",
            "text/html": [
              "\n",
              "  <div id=\"df-023c8373-c1a5-4ee7-919a-6138ab7be3cd\">\n",
              "    <div class=\"colab-df-container\">\n",
              "      <div>\n",
              "<style scoped>\n",
              "    .dataframe tbody tr th:only-of-type {\n",
              "        vertical-align: middle;\n",
              "    }\n",
              "\n",
              "    .dataframe tbody tr th {\n",
              "        vertical-align: top;\n",
              "    }\n",
              "\n",
              "    .dataframe thead th {\n",
              "        text-align: right;\n",
              "    }\n",
              "</style>\n",
              "<table border=\"1\" class=\"dataframe\">\n",
              "  <thead>\n",
              "    <tr style=\"text-align: right;\">\n",
              "      <th></th>\n",
              "      <th>year</th>\n",
              "      <th>crimetype</th>\n",
              "      <th>changed_from</th>\n",
              "      <th>changed_to</th>\n",
              "    </tr>\n",
              "  </thead>\n",
              "  <tbody>\n",
              "    <tr>\n",
              "      <th>0</th>\n",
              "      <td>2004</td>\n",
              "      <td>Mischief</td>\n",
              "      <td>6391</td>\n",
              "      <td>5601</td>\n",
              "    </tr>\n",
              "    <tr>\n",
              "      <th>1</th>\n",
              "      <td>2005</td>\n",
              "      <td>Theft from Vehicle</td>\n",
              "      <td>18204</td>\n",
              "      <td>16554</td>\n",
              "    </tr>\n",
              "    <tr>\n",
              "      <th>2</th>\n",
              "      <td>2006</td>\n",
              "      <td>Theft from Vehicle</td>\n",
              "      <td>16554</td>\n",
              "      <td>14734</td>\n",
              "    </tr>\n",
              "    <tr>\n",
              "      <th>3</th>\n",
              "      <td>2007</td>\n",
              "      <td>Theft from Vehicle</td>\n",
              "      <td>14734</td>\n",
              "      <td>12226</td>\n",
              "    </tr>\n",
              "    <tr>\n",
              "      <th>4</th>\n",
              "      <td>2008</td>\n",
              "      <td>Theft from Vehicle</td>\n",
              "      <td>12226</td>\n",
              "      <td>11298</td>\n",
              "    </tr>\n",
              "    <tr>\n",
              "      <th>5</th>\n",
              "      <td>2009</td>\n",
              "      <td>Theft from Vehicle</td>\n",
              "      <td>11298</td>\n",
              "      <td>10007</td>\n",
              "    </tr>\n",
              "    <tr>\n",
              "      <th>6</th>\n",
              "      <td>2010</td>\n",
              "      <td>Theft from Vehicle</td>\n",
              "      <td>10007</td>\n",
              "      <td>8612</td>\n",
              "    </tr>\n",
              "    <tr>\n",
              "      <th>7</th>\n",
              "      <td>2011</td>\n",
              "      <td>Theft from Vehicle</td>\n",
              "      <td>8612</td>\n",
              "      <td>7435</td>\n",
              "    </tr>\n",
              "    <tr>\n",
              "      <th>8</th>\n",
              "      <td>2012</td>\n",
              "      <td>Theft from Vehicle</td>\n",
              "      <td>7435</td>\n",
              "      <td>8097</td>\n",
              "    </tr>\n",
              "    <tr>\n",
              "      <th>9</th>\n",
              "      <td>2013</td>\n",
              "      <td>Break and Enter Residential/Other</td>\n",
              "      <td>3311</td>\n",
              "      <td>3025</td>\n",
              "    </tr>\n",
              "    <tr>\n",
              "      <th>10</th>\n",
              "      <td>2014</td>\n",
              "      <td>Theft from Vehicle</td>\n",
              "      <td>8340</td>\n",
              "      <td>10137</td>\n",
              "    </tr>\n",
              "    <tr>\n",
              "      <th>11</th>\n",
              "      <td>2015</td>\n",
              "      <td>Theft of Bicycle</td>\n",
              "      <td>2461</td>\n",
              "      <td>3063</td>\n",
              "    </tr>\n",
              "    <tr>\n",
              "      <th>12</th>\n",
              "      <td>2016</td>\n",
              "      <td>Theft from Vehicle</td>\n",
              "      <td>10544</td>\n",
              "      <td>12806</td>\n",
              "    </tr>\n",
              "    <tr>\n",
              "      <th>13</th>\n",
              "      <td>2017</td>\n",
              "      <td>Theft from Vehicle</td>\n",
              "      <td>12806</td>\n",
              "      <td>5962</td>\n",
              "    </tr>\n",
              "  </tbody>\n",
              "</table>\n",
              "</div>\n",
              "      <button class=\"colab-df-convert\" onclick=\"convertToInteractive('df-023c8373-c1a5-4ee7-919a-6138ab7be3cd')\"\n",
              "              title=\"Convert this dataframe to an interactive table.\"\n",
              "              style=\"display:none;\">\n",
              "        \n",
              "  <svg xmlns=\"http://www.w3.org/2000/svg\" height=\"24px\"viewBox=\"0 0 24 24\"\n",
              "       width=\"24px\">\n",
              "    <path d=\"M0 0h24v24H0V0z\" fill=\"none\"/>\n",
              "    <path d=\"M18.56 5.44l.94 2.06.94-2.06 2.06-.94-2.06-.94-.94-2.06-.94 2.06-2.06.94zm-11 1L8.5 8.5l.94-2.06 2.06-.94-2.06-.94L8.5 2.5l-.94 2.06-2.06.94zm10 10l.94 2.06.94-2.06 2.06-.94-2.06-.94-.94-2.06-.94 2.06-2.06.94z\"/><path d=\"M17.41 7.96l-1.37-1.37c-.4-.4-.92-.59-1.43-.59-.52 0-1.04.2-1.43.59L10.3 9.45l-7.72 7.72c-.78.78-.78 2.05 0 2.83L4 21.41c.39.39.9.59 1.41.59.51 0 1.02-.2 1.41-.59l7.78-7.78 2.81-2.81c.8-.78.8-2.07 0-2.86zM5.41 20L4 18.59l7.72-7.72 1.47 1.35L5.41 20z\"/>\n",
              "  </svg>\n",
              "      </button>\n",
              "      \n",
              "  <style>\n",
              "    .colab-df-container {\n",
              "      display:flex;\n",
              "      flex-wrap:wrap;\n",
              "      gap: 12px;\n",
              "    }\n",
              "\n",
              "    .colab-df-convert {\n",
              "      background-color: #E8F0FE;\n",
              "      border: none;\n",
              "      border-radius: 50%;\n",
              "      cursor: pointer;\n",
              "      display: none;\n",
              "      fill: #1967D2;\n",
              "      height: 32px;\n",
              "      padding: 0 0 0 0;\n",
              "      width: 32px;\n",
              "    }\n",
              "\n",
              "    .colab-df-convert:hover {\n",
              "      background-color: #E2EBFA;\n",
              "      box-shadow: 0px 1px 2px rgba(60, 64, 67, 0.3), 0px 1px 3px 1px rgba(60, 64, 67, 0.15);\n",
              "      fill: #174EA6;\n",
              "    }\n",
              "\n",
              "    [theme=dark] .colab-df-convert {\n",
              "      background-color: #3B4455;\n",
              "      fill: #D2E3FC;\n",
              "    }\n",
              "\n",
              "    [theme=dark] .colab-df-convert:hover {\n",
              "      background-color: #434B5C;\n",
              "      box-shadow: 0px 1px 3px 1px rgba(0, 0, 0, 0.15);\n",
              "      filter: drop-shadow(0px 1px 2px rgba(0, 0, 0, 0.3));\n",
              "      fill: #FFFFFF;\n",
              "    }\n",
              "  </style>\n",
              "\n",
              "      <script>\n",
              "        const buttonEl =\n",
              "          document.querySelector('#df-023c8373-c1a5-4ee7-919a-6138ab7be3cd button.colab-df-convert');\n",
              "        buttonEl.style.display =\n",
              "          google.colab.kernel.accessAllowed ? 'block' : 'none';\n",
              "\n",
              "        async function convertToInteractive(key) {\n",
              "          const element = document.querySelector('#df-023c8373-c1a5-4ee7-919a-6138ab7be3cd');\n",
              "          const dataTable =\n",
              "            await google.colab.kernel.invokeFunction('convertToInteractive',\n",
              "                                                     [key], {});\n",
              "          if (!dataTable) return;\n",
              "\n",
              "          const docLinkHtml = 'Like what you see? Visit the ' +\n",
              "            '<a target=\"_blank\" href=https://colab.research.google.com/notebooks/data_table.ipynb>data table notebook</a>'\n",
              "            + ' to learn more about interactive tables.';\n",
              "          element.innerHTML = '';\n",
              "          dataTable['output_type'] = 'display_data';\n",
              "          await google.colab.output.renderOutput(dataTable, element);\n",
              "          const docLink = document.createElement('div');\n",
              "          docLink.innerHTML = docLinkHtml;\n",
              "          element.appendChild(docLink);\n",
              "        }\n",
              "      </script>\n",
              "    </div>\n",
              "  </div>\n",
              "  "
            ],
            "text/plain": [
              "    year                          crimetype  changed_from  changed_to\n",
              "0   2004                           Mischief          6391        5601\n",
              "1   2005                 Theft from Vehicle         18204       16554\n",
              "2   2006                 Theft from Vehicle         16554       14734\n",
              "3   2007                 Theft from Vehicle         14734       12226\n",
              "4   2008                 Theft from Vehicle         12226       11298\n",
              "5   2009                 Theft from Vehicle         11298       10007\n",
              "6   2010                 Theft from Vehicle         10007        8612\n",
              "7   2011                 Theft from Vehicle          8612        7435\n",
              "8   2012                 Theft from Vehicle          7435        8097\n",
              "9   2013  Break and Enter Residential/Other          3311        3025\n",
              "10  2014                 Theft from Vehicle          8340       10137\n",
              "11  2015                   Theft of Bicycle          2461        3063\n",
              "12  2016                 Theft from Vehicle         10544       12806\n",
              "13  2017                 Theft from Vehicle         12806        5962"
            ]
          },
          "metadata": {}
        },
        {
          "output_type": "display_data",
          "data": {
            "application/javascript": [
              "window[\"72639804-6710-11ec-87a2-0242ac1c0002\"] = google.colab.output.setActiveOutputArea(window[\"725b3f92-6710-11ec-87a2-0242ac1c0002\"]);\n",
              "//# sourceURL=js_cade3e6070"
            ],
            "text/plain": [
              "<IPython.core.display.Javascript object>"
            ]
          },
          "metadata": {}
        },
        {
          "output_type": "stream",
          "name": "stdout",
          "text": [
            " \n"
          ]
        },
        {
          "output_type": "display_data",
          "data": {
            "application/javascript": [
              "window[\"72650a72-6710-11ec-87a2-0242ac1c0002\"] = google.colab.output.setActiveOutputArea(window[\"72592450-6710-11ec-87a2-0242ac1c0002\"]);\n",
              "//# sourceURL=js_2cd7a67ee5"
            ],
            "text/plain": [
              "<IPython.core.display.Javascript object>"
            ]
          },
          "metadata": {}
        }
      ]
    },
    {
      "cell_type": "code",
      "source": [
        "%%logica Fibonacci\n",
        "\n",
        "@Engine(\"sqlite\");\n",
        "\n",
        "#14\n",
        "Fibonacci(number_index:0, number_value:0);\n",
        "Fibonacci(number_index:1, number_value:1);\n",
        "\n",
        "Fibonacci(number_index:, number_value:prev+prev_prev) :- \n",
        "  Fibonacci(number_index:number_index-1, number_value:prev),\n",
        "  Fibonacci(number_index:number_index-2, number_value:prev_prev),\n",
        "  number_index in Range(10),\n",
        "  number_index > 1;\n"
      ],
      "metadata": {
        "colab": {
          "resources": {
            "http://localhost:8080/nbextensions/google.colab/tabbar.css": {
              "data": "Lmdvb2ctdGFie3Bvc2l0aW9uOnJlbGF0aXZlO3BhZGRpbmc6NHB4IDhweDtjb2xvcjojMDBjO3RleHQtZGVjb3JhdGlvbjp1bmRlcmxpbmU7Y3Vyc29yOmRlZmF1bHR9Lmdvb2ctdGFiLWJhci10b3AgLmdvb2ctdGFie21hcmdpbjoxcHggNHB4IDAgMDtib3JkZXItYm90dG9tOjA7ZmxvYXQ6bGVmdH0uZ29vZy10YWItYmFyLXRvcDphZnRlciwuZ29vZy10YWItYmFyLWJvdHRvbTphZnRlcntjb250ZW50OiIgIjtkaXNwbGF5OmJsb2NrO2hlaWdodDowO2NsZWFyOmJvdGg7dmlzaWJpbGl0eTpoaWRkZW59Lmdvb2ctdGFiLWJhci1ib3R0b20gLmdvb2ctdGFie21hcmdpbjowIDRweCAxcHggMDtib3JkZXItdG9wOjA7ZmxvYXQ6bGVmdH0uZ29vZy10YWItYmFyLXN0YXJ0IC5nb29nLXRhYnttYXJnaW46MCAwIDRweCAxcHg7Ym9yZGVyLXJpZ2h0OjB9Lmdvb2ctdGFiLWJhci1lbmQgLmdvb2ctdGFie21hcmdpbjowIDFweCA0cHggMDtib3JkZXItbGVmdDowfS5nb29nLXRhYi1ob3ZlcntiYWNrZ3JvdW5kOiNlZWV9Lmdvb2ctdGFiLWRpc2FibGVke2NvbG9yOiM2NjZ9Lmdvb2ctdGFiLXNlbGVjdGVke2NvbG9yOiMwMDA7YmFja2dyb3VuZDojZmZmO3RleHQtZGVjb3JhdGlvbjpub25lO2ZvbnQtd2VpZ2h0OmJvbGQ7Ym9yZGVyOjFweCBzb2xpZCAjNmI5MGRhfS5nb29nLXRhYi1iYXItdG9we3BhZGRpbmctdG9wOjVweCFpbXBvcnRhbnQ7cGFkZGluZy1sZWZ0OjVweCFpbXBvcnRhbnQ7Ym9yZGVyLWJvdHRvbToxcHggc29saWQgIzZiOTBkYSFpbXBvcnRhbnR9Lmdvb2ctdGFiLWJhci10b3AgLmdvb2ctdGFiLXNlbGVjdGVke3RvcDoxcHg7bWFyZ2luLXRvcDowO3BhZGRpbmctYm90dG9tOjVweH0uZ29vZy10YWItYmFyLWJvdHRvbSAuZ29vZy10YWItc2VsZWN0ZWR7dG9wOi0xcHg7bWFyZ2luLWJvdHRvbTowO3BhZGRpbmctdG9wOjVweH0uZ29vZy10YWItYmFyLXN0YXJ0IC5nb29nLXRhYi1zZWxlY3RlZHtsZWZ0OjFweDttYXJnaW4tbGVmdDowO3BhZGRpbmctcmlnaHQ6OXB4fS5nb29nLXRhYi1iYXItZW5kIC5nb29nLXRhYi1zZWxlY3RlZHtsZWZ0Oi0xcHg7bWFyZ2luLXJpZ2h0OjA7cGFkZGluZy1sZWZ0OjlweH0uZ29vZy10YWItYmFye21hcmdpbjowO2JvcmRlcjowO3BhZGRpbmc6MDtsaXN0LXN0eWxlOm5vbmU7Y3Vyc29yOmRlZmF1bHQ7b3V0bGluZTpub25lO2JhY2tncm91bmQ6I2ViZWZmOX0uZ29vZy10YWItYmFyLWNsZWFye2NsZWFyOmJvdGg7aGVpZ2h0OjA7b3ZlcmZsb3c6aGlkZGVufS5nb29nLXRhYi1iYXItc3RhcnR7ZmxvYXQ6bGVmdH0uZ29vZy10YWItYmFyLWVuZHtmbG9hdDpyaWdodH0qIGh0bWwgLmdvb2ctdGFiLWJhci1zdGFydHttYXJnaW4tcmlnaHQ6LTNweH0qIGh0bWwgLmdvb2ctdGFiLWJhci1lbmR7bWFyZ2luLWxlZnQ6LTNweH0=",
              "ok": true,
              "headers": [
                [
                  "content-type",
                  "text/css"
                ]
              ],
              "status": 200,
              "status_text": ""
            },
            "http://localhost:8080/nbextensions/google.colab/tabbar_main.min.js": {
              "data": "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",
              "ok": true,
              "headers": [
                [
                  "content-type",
                  "application/javascript"
                ]
              ],
              "status": 200,
              "status_text": ""
            }
          },
          "base_uri": "https://localhost:8080/",
          "height": 473
        },
        "id": "SK6LSHepBnu1",
        "outputId": "1c7a132d-8eb9-4b5c-cba4-b3e58ae6c8b6"
      },
      "execution_count": 5,
      "outputs": [
        {
          "output_type": "display_data",
          "data": {
            "text/html": [
              "<link rel=stylesheet type=text/css href='/nbextensions/google.colab/tabbar.css'></link>"
            ],
            "text/plain": [
              "<IPython.core.display.HTML object>"
            ]
          },
          "metadata": {}
        },
        {
          "output_type": "display_data",
          "data": {
            "text/html": [
              "<script src='/nbextensions/google.colab/tabbar_main.min.js'></script>"
            ],
            "text/plain": [
              "<IPython.core.display.HTML object>"
            ]
          },
          "metadata": {}
        },
        {
          "output_type": "display_data",
          "data": {
            "text/html": [
              "<div id=\"id11\"></div>"
            ],
            "text/plain": [
              "<IPython.core.display.HTML object>"
            ]
          },
          "metadata": {}
        },
        {
          "output_type": "display_data",
          "data": {
            "application/javascript": [
              "window[\"a0435952-6702-11ec-87a2-0242ac1c0002\"] = colab_lib.createTabBar({\"location\": \"top\", \"elementId\": \"id11\", \"tabNames\": [\"Fibonacci\", \"(Log)\"], \"initialSelection\": 0, \"contentBorder\": [\"0px\"], \"contentHeight\": [\"initial\"], \"borderColor\": [\"#a7a7a7\"]});\n",
              "//# sourceURL=js_0ca96ffd1a"
            ],
            "text/plain": [
              "<IPython.core.display.Javascript object>"
            ]
          },
          "metadata": {}
        },
        {
          "output_type": "display_data",
          "data": {
            "application/javascript": [
              "window[\"a043bd7a-6702-11ec-87a2-0242ac1c0002\"] = window[\"id11\"].setSelectedTabIndex(0);\n",
              "//# sourceURL=js_9002d1d0b0"
            ],
            "text/plain": [
              "<IPython.core.display.Javascript object>"
            ]
          },
          "metadata": {}
        },
        {
          "output_type": "display_data",
          "data": {
            "application/javascript": [
              "window[\"a047238e-6702-11ec-87a2-0242ac1c0002\"] = google.colab.output.getActiveOutputArea();\n",
              "//# sourceURL=js_84376027d5"
            ],
            "text/plain": [
              "<IPython.core.display.Javascript object>"
            ]
          },
          "metadata": {}
        },
        {
          "output_type": "display_data",
          "data": {
            "application/javascript": [
              "window[\"a047bc18-6702-11ec-87a2-0242ac1c0002\"] = document.querySelector(\"#id11_content_1\");\n",
              "//# sourceURL=js_cee412d83d"
            ],
            "text/plain": [
              "<IPython.core.display.Javascript object>"
            ]
          },
          "metadata": {}
        },
        {
          "output_type": "display_data",
          "data": {
            "application/javascript": [
              "window[\"a04850b0-6702-11ec-87a2-0242ac1c0002\"] = google.colab.output.setActiveOutputArea(window[\"a047bc18-6702-11ec-87a2-0242ac1c0002\"]);\n",
              "//# sourceURL=js_f02387e5a1"
            ],
            "text/plain": [
              "<IPython.core.display.Javascript object>"
            ]
          },
          "metadata": {}
        },
        {
          "output_type": "display_data",
          "data": {
            "application/javascript": [
              "window[\"a048e570-6702-11ec-87a2-0242ac1c0002\"] = window[\"id11\"].setSelectedTabIndex(1);\n",
              "//# sourceURL=js_f684699368"
            ],
            "text/plain": [
              "<IPython.core.display.Javascript object>"
            ]
          },
          "metadata": {}
        },
        {
          "output_type": "display_data",
          "data": {
            "application/javascript": [
              "window[\"a0593312-6702-11ec-87a2-0242ac1c0002\"] = google.colab.output.setActiveOutputArea(window[\"a047238e-6702-11ec-87a2-0242ac1c0002\"]);\n",
              "//# sourceURL=js_70d152f5fb"
            ],
            "text/plain": [
              "<IPython.core.display.Javascript object>"
            ]
          },
          "metadata": {}
        },
        {
          "output_type": "display_data",
          "data": {
            "application/javascript": [
              "window[\"a05cf97a-6702-11ec-87a2-0242ac1c0002\"] = google.colab.output.getActiveOutputArea();\n",
              "//# sourceURL=js_276e5c7150"
            ],
            "text/plain": [
              "<IPython.core.display.Javascript object>"
            ]
          },
          "metadata": {}
        },
        {
          "output_type": "display_data",
          "data": {
            "application/javascript": [
              "window[\"a05d4fc4-6702-11ec-87a2-0242ac1c0002\"] = document.querySelector(\"#id11_content_0\");\n",
              "//# sourceURL=js_48391e0c53"
            ],
            "text/plain": [
              "<IPython.core.display.Javascript object>"
            ]
          },
          "metadata": {}
        },
        {
          "output_type": "display_data",
          "data": {
            "application/javascript": [
              "window[\"a05db338-6702-11ec-87a2-0242ac1c0002\"] = google.colab.output.setActiveOutputArea(window[\"a05d4fc4-6702-11ec-87a2-0242ac1c0002\"]);\n",
              "//# sourceURL=js_e4d533b84e"
            ],
            "text/plain": [
              "<IPython.core.display.Javascript object>"
            ]
          },
          "metadata": {}
        },
        {
          "output_type": "display_data",
          "data": {
            "application/javascript": [
              "window[\"a05e0f90-6702-11ec-87a2-0242ac1c0002\"] = window[\"id11\"].setSelectedTabIndex(0);\n",
              "//# sourceURL=js_a1cc23a0fe"
            ],
            "text/plain": [
              "<IPython.core.display.Javascript object>"
            ]
          },
          "metadata": {}
        },
        {
          "output_type": "display_data",
          "data": {
            "text/html": [
              "<link rel=stylesheet type=text/css href='/nbextensions/google.colab/tabbar.css'></link>"
            ],
            "text/plain": [
              "<IPython.core.display.HTML object>"
            ]
          },
          "metadata": {}
        },
        {
          "output_type": "display_data",
          "data": {
            "text/html": [
              "<script src='/nbextensions/google.colab/tabbar_main.min.js'></script>"
            ],
            "text/plain": [
              "<IPython.core.display.HTML object>"
            ]
          },
          "metadata": {}
        },
        {
          "output_type": "display_data",
          "data": {
            "text/html": [
              "<div id=\"id12\"></div>"
            ],
            "text/plain": [
              "<IPython.core.display.HTML object>"
            ]
          },
          "metadata": {}
        },
        {
          "output_type": "display_data",
          "data": {
            "application/javascript": [
              "window[\"a05ff242-6702-11ec-87a2-0242ac1c0002\"] = colab_lib.createTabBar({\"location\": \"top\", \"elementId\": \"id12\", \"tabNames\": [\"SQL\", \"Result\"], \"initialSelection\": 0, \"contentBorder\": [\"0px\"], \"contentHeight\": [\"initial\"], \"borderColor\": [\"#a7a7a7\"]});\n",
              "//# sourceURL=js_c84ae2bd01"
            ],
            "text/plain": [
              "<IPython.core.display.Javascript object>"
            ]
          },
          "metadata": {}
        },
        {
          "output_type": "display_data",
          "data": {
            "application/javascript": [
              "window[\"a0607ae6-6702-11ec-87a2-0242ac1c0002\"] = window[\"id12\"].setSelectedTabIndex(0);\n",
              "//# sourceURL=js_cca0cca9be"
            ],
            "text/plain": [
              "<IPython.core.display.Javascript object>"
            ]
          },
          "metadata": {}
        },
        {
          "output_type": "display_data",
          "data": {
            "application/javascript": [
              "window[\"a06320ac-6702-11ec-87a2-0242ac1c0002\"] = google.colab.output.getActiveOutputArea();\n",
              "//# sourceURL=js_c02179e21b"
            ],
            "text/plain": [
              "<IPython.core.display.Javascript object>"
            ]
          },
          "metadata": {}
        },
        {
          "output_type": "display_data",
          "data": {
            "application/javascript": [
              "window[\"a0636f3a-6702-11ec-87a2-0242ac1c0002\"] = document.querySelector(\"#id12_content_0\");\n",
              "//# sourceURL=js_eb3c57ee23"
            ],
            "text/plain": [
              "<IPython.core.display.Javascript object>"
            ]
          },
          "metadata": {}
        },
        {
          "output_type": "display_data",
          "data": {
            "application/javascript": [
              "window[\"a063c4bc-6702-11ec-87a2-0242ac1c0002\"] = google.colab.output.setActiveOutputArea(window[\"a0636f3a-6702-11ec-87a2-0242ac1c0002\"]);\n",
              "//# sourceURL=js_873b5f394a"
            ],
            "text/plain": [
              "<IPython.core.display.Javascript object>"
            ]
          },
          "metadata": {}
        },
        {
          "output_type": "display_data",
          "data": {
            "application/javascript": [
              "window[\"a0641692-6702-11ec-87a2-0242ac1c0002\"] = window[\"id12\"].setSelectedTabIndex(0);\n",
              "//# sourceURL=js_203ce9fd3c"
            ],
            "text/plain": [
              "<IPython.core.display.Javascript object>"
            ]
          },
          "metadata": {}
        },
        {
          "output_type": "stream",
          "name": "stdout",
          "text": [
            "The following query is stored at \u001b[1mFibonacci_sql\u001b[0m variable.\n",
            "WITH t_15_Fibonacci_r0 AS (SELECT * FROM (\n",
            "  \n",
            "    SELECT\n",
            "      0 AS number_index,\n",
            "      0 AS number_value\n",
            "   UNION ALL\n",
            "  \n",
            "    SELECT\n",
            "      1 AS number_index,\n",
            "      1 AS number_value\n",
            "  \n",
            ") AS UNUSED_TABLE_NAME  ),\n",
            "t_13_Fibonacci_r1 AS (SELECT * FROM (\n",
            "  \n",
            "    SELECT\n",
            "      0 AS number_index,\n",
            "      0 AS number_value\n",
            "   UNION ALL\n",
            "  \n",
            "    SELECT\n",
            "      1 AS number_index,\n",
            "      1 AS number_value\n",
            "   UNION ALL\n",
            "  \n",
            "    SELECT\n",
            "      x_47.value AS number_index,\n",
            "      ((Fibonacci_r0.number_value) + (t_14_Fibonacci_r0.number_value)) AS number_value\n",
            "    FROM\n",
            "      t_15_Fibonacci_r0 AS Fibonacci_r0, t_15_Fibonacci_r0 AS t_14_Fibonacci_r0, JSON_EACH((select json_group_array(n) from (with recursive t as(select 0 as n union all select n + 1 as n from t where n + 1 < 10) select n from t) where n < 10)) as x_47\n",
            "    WHERE\n",
            "      (x_47.value > 1) AND\n",
            "      (Fibonacci_r0.number_index = ((x_47.value) - (1))) AND\n",
            "      (t_14_Fibonacci_r0.number_index = ((x_47.value) - (2)))\n",
            "  \n",
            ") AS UNUSED_TABLE_NAME  ),\n",
            "t_11_Fibonacci_r2 AS (SELECT * FROM (\n",
            "  \n",
            "    SELECT\n",
            "      0 AS number_index,\n",
            "      0 AS number_value\n",
            "   UNION ALL\n",
            "  \n",
            "    SELECT\n",
            "      1 AS number_index,\n",
            "      1 AS number_value\n",
            "   UNION ALL\n",
            "  \n",
            "    SELECT\n",
            "      x_41.value AS number_index,\n",
            "      ((Fibonacci_r1.number_value) + (t_12_Fibonacci_r1.number_value)) AS number_value\n",
            "    FROM\n",
            "      t_13_Fibonacci_r1 AS Fibonacci_r1, t_13_Fibonacci_r1 AS t_12_Fibonacci_r1, JSON_EACH((select json_group_array(n) from (with recursive t as(select 0 as n union all select n + 1 as n from t where n + 1 < 10) select n from t) where n < 10)) as x_41\n",
            "    WHERE\n",
            "      (x_41.value > 1) AND\n",
            "      (Fibonacci_r1.number_index = ((x_41.value) - (1))) AND\n",
            "      (t_12_Fibonacci_r1.number_index = ((x_41.value) - (2)))\n",
            "  \n",
            ") AS UNUSED_TABLE_NAME  ),\n",
            "t_9_Fibonacci_r3 AS (SELECT * FROM (\n",
            "  \n",
            "    SELECT\n",
            "      0 AS number_index,\n",
            "      0 AS number_value\n",
            "   UNION ALL\n",
            "  \n",
            "    SELECT\n",
            "      1 AS number_index,\n",
            "      1 AS number_value\n",
            "   UNION ALL\n",
            "  \n",
            "    SELECT\n",
            "      x_35.value AS number_index,\n",
            "      ((Fibonacci_r2.number_value) + (t_10_Fibonacci_r2.number_value)) AS number_value\n",
            "    FROM\n",
            "      t_11_Fibonacci_r2 AS Fibonacci_r2, t_11_Fibonacci_r2 AS t_10_Fibonacci_r2, JSON_EACH((select json_group_array(n) from (with recursive t as(select 0 as n union all select n + 1 as n from t where n + 1 < 10) select n from t) where n < 10)) as x_35\n",
            "    WHERE\n",
            "      (x_35.value > 1) AND\n",
            "      (Fibonacci_r2.number_index = ((x_35.value) - (1))) AND\n",
            "      (t_10_Fibonacci_r2.number_index = ((x_35.value) - (2)))\n",
            "  \n",
            ") AS UNUSED_TABLE_NAME  ),\n",
            "t_7_Fibonacci_r4 AS (SELECT * FROM (\n",
            "  \n",
            "    SELECT\n",
            "      0 AS number_index,\n",
            "      0 AS number_value\n",
            "   UNION ALL\n",
            "  \n",
            "    SELECT\n",
            "      1 AS number_index,\n",
            "      1 AS number_value\n",
            "   UNION ALL\n",
            "  \n",
            "    SELECT\n",
            "      x_29.value AS number_index,\n",
            "      ((Fibonacci_r3.number_value) + (t_8_Fibonacci_r3.number_value)) AS number_value\n",
            "    FROM\n",
            "      t_9_Fibonacci_r3 AS Fibonacci_r3, t_9_Fibonacci_r3 AS t_8_Fibonacci_r3, JSON_EACH((select json_group_array(n) from (with recursive t as(select 0 as n union all select n + 1 as n from t where n + 1 < 10) select n from t) where n < 10)) as x_29\n",
            "    WHERE\n",
            "      (x_29.value > 1) AND\n",
            "      (Fibonacci_r3.number_index = ((x_29.value) - (1))) AND\n",
            "      (t_8_Fibonacci_r3.number_index = ((x_29.value) - (2)))\n",
            "  \n",
            ") AS UNUSED_TABLE_NAME  ),\n",
            "t_5_Fibonacci_r5 AS (SELECT * FROM (\n",
            "  \n",
            "    SELECT\n",
            "      0 AS number_index,\n",
            "      0 AS number_value\n",
            "   UNION ALL\n",
            "  \n",
            "    SELECT\n",
            "      1 AS number_index,\n",
            "      1 AS number_value\n",
            "   UNION ALL\n",
            "  \n",
            "    SELECT\n",
            "      x_23.value AS number_index,\n",
            "      ((Fibonacci_r4.number_value) + (t_6_Fibonacci_r4.number_value)) AS number_value\n",
            "    FROM\n",
            "      t_7_Fibonacci_r4 AS Fibonacci_r4, t_7_Fibonacci_r4 AS t_6_Fibonacci_r4, JSON_EACH((select json_group_array(n) from (with recursive t as(select 0 as n union all select n + 1 as n from t where n + 1 < 10) select n from t) where n < 10)) as x_23\n",
            "    WHERE\n",
            "      (x_23.value > 1) AND\n",
            "      (Fibonacci_r4.number_index = ((x_23.value) - (1))) AND\n",
            "      (t_6_Fibonacci_r4.number_index = ((x_23.value) - (2)))\n",
            "  \n",
            ") AS UNUSED_TABLE_NAME  ),\n",
            "t_3_Fibonacci_r6 AS (SELECT * FROM (\n",
            "  \n",
            "    SELECT\n",
            "      0 AS number_index,\n",
            "      0 AS number_value\n",
            "   UNION ALL\n",
            "  \n",
            "    SELECT\n",
            "      1 AS number_index,\n",
            "      1 AS number_value\n",
            "   UNION ALL\n",
            "  \n",
            "    SELECT\n",
            "      x_17.value AS number_index,\n",
            "      ((Fibonacci_r5.number_value) + (t_4_Fibonacci_r5.number_value)) AS number_value\n",
            "    FROM\n",
            "      t_5_Fibonacci_r5 AS Fibonacci_r5, t_5_Fibonacci_r5 AS t_4_Fibonacci_r5, JSON_EACH((select json_group_array(n) from (with recursive t as(select 0 as n union all select n + 1 as n from t where n + 1 < 10) select n from t) where n < 10)) as x_17\n",
            "    WHERE\n",
            "      (x_17.value > 1) AND\n",
            "      (Fibonacci_r5.number_index = ((x_17.value) - (1))) AND\n",
            "      (t_4_Fibonacci_r5.number_index = ((x_17.value) - (2)))\n",
            "  \n",
            ") AS UNUSED_TABLE_NAME  ),\n",
            "t_1_Fibonacci_r7 AS (SELECT * FROM (\n",
            "  \n",
            "    SELECT\n",
            "      0 AS number_index,\n",
            "      0 AS number_value\n",
            "   UNION ALL\n",
            "  \n",
            "    SELECT\n",
            "      1 AS number_index,\n",
            "      1 AS number_value\n",
            "   UNION ALL\n",
            "  \n",
            "    SELECT\n",
            "      x_11.value AS number_index,\n",
            "      ((Fibonacci_r6.number_value) + (t_2_Fibonacci_r6.number_value)) AS number_value\n",
            "    FROM\n",
            "      t_3_Fibonacci_r6 AS Fibonacci_r6, t_3_Fibonacci_r6 AS t_2_Fibonacci_r6, JSON_EACH((select json_group_array(n) from (with recursive t as(select 0 as n union all select n + 1 as n from t where n + 1 < 10) select n from t) where n < 10)) as x_11\n",
            "    WHERE\n",
            "      (x_11.value > 1) AND\n",
            "      (Fibonacci_r6.number_index = ((x_11.value) - (1))) AND\n",
            "      (t_2_Fibonacci_r6.number_index = ((x_11.value) - (2)))\n",
            "  \n",
            ") AS UNUSED_TABLE_NAME  )\n",
            "SELECT * FROM (\n",
            "  \n",
            "    SELECT\n",
            "      0 AS number_index,\n",
            "      0 AS number_value\n",
            "   UNION ALL\n",
            "  \n",
            "    SELECT\n",
            "      1 AS number_index,\n",
            "      1 AS number_value\n",
            "   UNION ALL\n",
            "  \n",
            "    SELECT\n",
            "      x_5.value AS number_index,\n",
            "      ((Fibonacci_r7.number_value) + (t_0_Fibonacci_r7.number_value)) AS number_value\n",
            "    FROM\n",
            "      t_1_Fibonacci_r7 AS Fibonacci_r7, t_1_Fibonacci_r7 AS t_0_Fibonacci_r7, JSON_EACH((select json_group_array(n) from (with recursive t as(select 0 as n union all select n + 1 as n from t where n + 1 < 10) select n from t) where n < 10)) as x_5\n",
            "    WHERE\n",
            "      (x_5.value > 1) AND\n",
            "      (Fibonacci_r7.number_index = ((x_5.value) - (1))) AND\n",
            "      (t_0_Fibonacci_r7.number_index = ((x_5.value) - (2)))\n",
            "  \n",
            ") AS UNUSED_TABLE_NAME  ;\n"
          ]
        },
        {
          "output_type": "display_data",
          "data": {
            "application/javascript": [
              "window[\"a065562e-6702-11ec-87a2-0242ac1c0002\"] = google.colab.output.setActiveOutputArea(window[\"a06320ac-6702-11ec-87a2-0242ac1c0002\"]);\n",
              "//# sourceURL=js_bc792307bc"
            ],
            "text/plain": [
              "<IPython.core.display.Javascript object>"
            ]
          },
          "metadata": {}
        },
        {
          "output_type": "display_data",
          "data": {
            "application/javascript": [
              "window[\"a066e26e-6702-11ec-87a2-0242ac1c0002\"] = google.colab.output.setActiveOutputArea(window[\"a05cf97a-6702-11ec-87a2-0242ac1c0002\"]);\n",
              "//# sourceURL=js_aec835c6fd"
            ],
            "text/plain": [
              "<IPython.core.display.Javascript object>"
            ]
          },
          "metadata": {}
        },
        {
          "output_type": "display_data",
          "data": {
            "application/javascript": [
              "window[\"a068c426-6702-11ec-87a2-0242ac1c0002\"] = google.colab.output.getActiveOutputArea();\n",
              "//# sourceURL=js_37dc1fe986"
            ],
            "text/plain": [
              "<IPython.core.display.Javascript object>"
            ]
          },
          "metadata": {}
        },
        {
          "output_type": "display_data",
          "data": {
            "application/javascript": [
              "window[\"a0690f1c-6702-11ec-87a2-0242ac1c0002\"] = document.querySelector(\"#id11_content_1\");\n",
              "//# sourceURL=js_4c710b3be3"
            ],
            "text/plain": [
              "<IPython.core.display.Javascript object>"
            ]
          },
          "metadata": {}
        },
        {
          "output_type": "display_data",
          "data": {
            "application/javascript": [
              "window[\"a069586e-6702-11ec-87a2-0242ac1c0002\"] = google.colab.output.setActiveOutputArea(window[\"a0690f1c-6702-11ec-87a2-0242ac1c0002\"]);\n",
              "//# sourceURL=js_fdefda6e66"
            ],
            "text/plain": [
              "<IPython.core.display.Javascript object>"
            ]
          },
          "metadata": {}
        },
        {
          "output_type": "display_data",
          "data": {
            "application/javascript": [
              "window[\"a069a7d8-6702-11ec-87a2-0242ac1c0002\"] = window[\"id11\"].setSelectedTabIndex(1);\n",
              "//# sourceURL=js_9d0ff81c48"
            ],
            "text/plain": [
              "<IPython.core.display.Javascript object>"
            ]
          },
          "metadata": {}
        },
        {
          "output_type": "display_data",
          "data": {
            "text/plain": [
              "<graphviz.dot.Digraph at 0x7f63c74f82d0>"
            ],
            "image/svg+xml": "<?xml version=\"1.0\" encoding=\"UTF-8\" standalone=\"no\"?>\n<!DOCTYPE svg PUBLIC \"-//W3C//DTD SVG 1.1//EN\"\n \"http://www.w3.org/Graphics/SVG/1.1/DTD/svg11.dtd\">\n<!-- Generated by graphviz version 2.40.1 (20161225.0304)\n -->\n<!-- Title: Concertina Pages: 1 -->\n<svg width=\"142pt\" height=\"116pt\"\n viewBox=\"0.00 0.00 142.20 116.00\" xmlns=\"http://www.w3.org/2000/svg\" xmlns:xlink=\"http://www.w3.org/1999/xlink\">\n<g id=\"graph0\" class=\"graph\" transform=\"scale(1 1) rotate(0) translate(4 112)\">\n<title>Concertina</title>\n<polygon fill=\"#ffffff\" stroke=\"transparent\" points=\"-4,4 -4,-112 138.197,-112 138.197,4 -4,4\"/>\n<!-- Fibonacci -->\n<g id=\"node1\" class=\"node\">\n<title>Fibonacci</title>\n<path fill=\"#caff70\" stroke=\"#575757\" d=\"M55.5071,-32.895C55.5071,-32.895 11.4927,-21.105 11.4927,-21.105 5.697,-19.5525 5.697,-16.4475 11.4927,-14.895 11.4927,-14.895 55.5071,-3.105 55.5071,-3.105 61.3028,-1.5525 72.8942,-1.5525 78.6898,-3.105 78.6898,-3.105 122.7042,-14.895 122.7042,-14.895 128.4999,-16.4475 128.4999,-19.5525 122.7042,-21.105 122.7042,-21.105 78.6898,-32.895 78.6898,-32.895 72.8942,-34.4475 61.3028,-34.4475 55.5071,-32.895\"/>\n<text text-anchor=\"middle\" x=\"67.0985\" y=\"-14.3\" font-family=\"Times,serif\" font-size=\"14.00\" fill=\"#000000\">Fibonacci</text>\n</g>\n<!-- nil -->\n<g id=\"node2\" class=\"node\">\n<title>nil</title>\n<path fill=\"#b0e2ff\" stroke=\"#575757\" d=\"M94.0985,-104.7273C94.0985,-106.5331 81.9966,-108 67.0985,-108 52.2003,-108 40.0985,-106.5331 40.0985,-104.7273 40.0985,-104.7273 40.0985,-75.2727 40.0985,-75.2727 40.0985,-73.4669 52.2003,-72 67.0985,-72 81.9966,-72 94.0985,-73.4669 94.0985,-75.2727 94.0985,-75.2727 94.0985,-104.7273 94.0985,-104.7273\"/>\n<path fill=\"none\" stroke=\"#575757\" d=\"M94.0985,-104.7273C94.0985,-102.9214 81.9966,-101.4545 67.0985,-101.4545 52.2003,-101.4545 40.0985,-102.9214 40.0985,-104.7273\"/>\n<text text-anchor=\"middle\" x=\"67.0985\" y=\"-86.3\" font-family=\"Times,serif\" font-size=\"14.00\" fill=\"#000000\">nil</text>\n</g>\n<!-- nil&#45;&gt;Fibonacci -->\n<g id=\"edge1\" class=\"edge\">\n<title>nil&#45;&gt;Fibonacci</title>\n<path fill=\"none\" stroke=\"#000000\" d=\"M67.0985,-71.8314C67.0985,-64.131 67.0985,-54.9743 67.0985,-46.4166\"/>\n<polygon fill=\"#000000\" stroke=\"#000000\" points=\"70.5986,-46.4132 67.0985,-36.4133 63.5986,-46.4133 70.5986,-46.4132\"/>\n</g>\n</g>\n</svg>\n"
          },
          "metadata": {}
        },
        {
          "output_type": "stream",
          "name": "stdout",
          "text": [
            "Running predicate: Fibonacci (0 seconds)\n"
          ]
        },
        {
          "output_type": "display_data",
          "data": {
            "application/javascript": [
              "window[\"a0a229b4-6702-11ec-87a2-0242ac1c0002\"] = google.colab.output.setActiveOutputArea(window[\"a068c426-6702-11ec-87a2-0242ac1c0002\"]);\n",
              "//# sourceURL=js_66d3710e8e"
            ],
            "text/plain": [
              "<IPython.core.display.Javascript object>"
            ]
          },
          "metadata": {}
        },
        {
          "output_type": "display_data",
          "data": {
            "application/javascript": [
              "window[\"a0a4a0ae-6702-11ec-87a2-0242ac1c0002\"] = google.colab.output.getActiveOutputArea();\n",
              "//# sourceURL=js_4c9df61c84"
            ],
            "text/plain": [
              "<IPython.core.display.Javascript object>"
            ]
          },
          "metadata": {}
        },
        {
          "output_type": "display_data",
          "data": {
            "application/javascript": [
              "window[\"a0a4e8c0-6702-11ec-87a2-0242ac1c0002\"] = document.querySelector(\"#id11_content_0\");\n",
              "//# sourceURL=js_d19cb1fea7"
            ],
            "text/plain": [
              "<IPython.core.display.Javascript object>"
            ]
          },
          "metadata": {}
        },
        {
          "output_type": "display_data",
          "data": {
            "application/javascript": [
              "window[\"a0a54108-6702-11ec-87a2-0242ac1c0002\"] = google.colab.output.setActiveOutputArea(window[\"a0a4e8c0-6702-11ec-87a2-0242ac1c0002\"]);\n",
              "//# sourceURL=js_6d93d34526"
            ],
            "text/plain": [
              "<IPython.core.display.Javascript object>"
            ]
          },
          "metadata": {}
        },
        {
          "output_type": "display_data",
          "data": {
            "application/javascript": [
              "window[\"a0a581cc-6702-11ec-87a2-0242ac1c0002\"] = window[\"id11\"].setSelectedTabIndex(0);\n",
              "//# sourceURL=js_1e93fa52c3"
            ],
            "text/plain": [
              "<IPython.core.display.Javascript object>"
            ]
          },
          "metadata": {}
        },
        {
          "output_type": "display_data",
          "data": {
            "application/javascript": [
              "window[\"a0a74106-6702-11ec-87a2-0242ac1c0002\"] = google.colab.output.getActiveOutputArea();\n",
              "//# sourceURL=js_f2916b09c6"
            ],
            "text/plain": [
              "<IPython.core.display.Javascript object>"
            ]
          },
          "metadata": {}
        },
        {
          "output_type": "display_data",
          "data": {
            "application/javascript": [
              "window[\"a0a7939a-6702-11ec-87a2-0242ac1c0002\"] = document.querySelector(\"#id12_content_1\");\n",
              "//# sourceURL=js_79ec310412"
            ],
            "text/plain": [
              "<IPython.core.display.Javascript object>"
            ]
          },
          "metadata": {}
        },
        {
          "output_type": "display_data",
          "data": {
            "application/javascript": [
              "window[\"a0a7f2ea-6702-11ec-87a2-0242ac1c0002\"] = google.colab.output.setActiveOutputArea(window[\"a0a7939a-6702-11ec-87a2-0242ac1c0002\"]);\n",
              "//# sourceURL=js_3f46b6c326"
            ],
            "text/plain": [
              "<IPython.core.display.Javascript object>"
            ]
          },
          "metadata": {}
        },
        {
          "output_type": "display_data",
          "data": {
            "application/javascript": [
              "window[\"a0a838b8-6702-11ec-87a2-0242ac1c0002\"] = window[\"id12\"].setSelectedTabIndex(1);\n",
              "//# sourceURL=js_4f8d56f36a"
            ],
            "text/plain": [
              "<IPython.core.display.Javascript object>"
            ]
          },
          "metadata": {}
        },
        {
          "output_type": "stream",
          "name": "stdout",
          "text": [
            "The following table is stored at \u001b[1mFibonacci\u001b[0m variable.\n"
          ]
        },
        {
          "output_type": "display_data",
          "data": {
            "text/html": [
              "\n",
              "  <div id=\"df-c4459c91-cff6-426e-babc-7b55af7094fc\">\n",
              "    <div class=\"colab-df-container\">\n",
              "      <div>\n",
              "<style scoped>\n",
              "    .dataframe tbody tr th:only-of-type {\n",
              "        vertical-align: middle;\n",
              "    }\n",
              "\n",
              "    .dataframe tbody tr th {\n",
              "        vertical-align: top;\n",
              "    }\n",
              "\n",
              "    .dataframe thead th {\n",
              "        text-align: right;\n",
              "    }\n",
              "</style>\n",
              "<table border=\"1\" class=\"dataframe\">\n",
              "  <thead>\n",
              "    <tr style=\"text-align: right;\">\n",
              "      <th></th>\n",
              "      <th>number_index</th>\n",
              "      <th>number_value</th>\n",
              "    </tr>\n",
              "  </thead>\n",
              "  <tbody>\n",
              "    <tr>\n",
              "      <th>0</th>\n",
              "      <td>0</td>\n",
              "      <td>0</td>\n",
              "    </tr>\n",
              "    <tr>\n",
              "      <th>1</th>\n",
              "      <td>1</td>\n",
              "      <td>1</td>\n",
              "    </tr>\n",
              "    <tr>\n",
              "      <th>2</th>\n",
              "      <td>2</td>\n",
              "      <td>1</td>\n",
              "    </tr>\n",
              "    <tr>\n",
              "      <th>3</th>\n",
              "      <td>3</td>\n",
              "      <td>2</td>\n",
              "    </tr>\n",
              "    <tr>\n",
              "      <th>4</th>\n",
              "      <td>4</td>\n",
              "      <td>3</td>\n",
              "    </tr>\n",
              "    <tr>\n",
              "      <th>5</th>\n",
              "      <td>5</td>\n",
              "      <td>5</td>\n",
              "    </tr>\n",
              "    <tr>\n",
              "      <th>6</th>\n",
              "      <td>6</td>\n",
              "      <td>8</td>\n",
              "    </tr>\n",
              "    <tr>\n",
              "      <th>7</th>\n",
              "      <td>7</td>\n",
              "      <td>13</td>\n",
              "    </tr>\n",
              "    <tr>\n",
              "      <th>8</th>\n",
              "      <td>8</td>\n",
              "      <td>21</td>\n",
              "    </tr>\n",
              "    <tr>\n",
              "      <th>9</th>\n",
              "      <td>9</td>\n",
              "      <td>34</td>\n",
              "    </tr>\n",
              "  </tbody>\n",
              "</table>\n",
              "</div>\n",
              "      <button class=\"colab-df-convert\" onclick=\"convertToInteractive('df-c4459c91-cff6-426e-babc-7b55af7094fc')\"\n",
              "              title=\"Convert this dataframe to an interactive table.\"\n",
              "              style=\"display:none;\">\n",
              "        \n",
              "  <svg xmlns=\"http://www.w3.org/2000/svg\" height=\"24px\"viewBox=\"0 0 24 24\"\n",
              "       width=\"24px\">\n",
              "    <path d=\"M0 0h24v24H0V0z\" fill=\"none\"/>\n",
              "    <path d=\"M18.56 5.44l.94 2.06.94-2.06 2.06-.94-2.06-.94-.94-2.06-.94 2.06-2.06.94zm-11 1L8.5 8.5l.94-2.06 2.06-.94-2.06-.94L8.5 2.5l-.94 2.06-2.06.94zm10 10l.94 2.06.94-2.06 2.06-.94-2.06-.94-.94-2.06-.94 2.06-2.06.94z\"/><path d=\"M17.41 7.96l-1.37-1.37c-.4-.4-.92-.59-1.43-.59-.52 0-1.04.2-1.43.59L10.3 9.45l-7.72 7.72c-.78.78-.78 2.05 0 2.83L4 21.41c.39.39.9.59 1.41.59.51 0 1.02-.2 1.41-.59l7.78-7.78 2.81-2.81c.8-.78.8-2.07 0-2.86zM5.41 20L4 18.59l7.72-7.72 1.47 1.35L5.41 20z\"/>\n",
              "  </svg>\n",
              "      </button>\n",
              "      \n",
              "  <style>\n",
              "    .colab-df-container {\n",
              "      display:flex;\n",
              "      flex-wrap:wrap;\n",
              "      gap: 12px;\n",
              "    }\n",
              "\n",
              "    .colab-df-convert {\n",
              "      background-color: #E8F0FE;\n",
              "      border: none;\n",
              "      border-radius: 50%;\n",
              "      cursor: pointer;\n",
              "      display: none;\n",
              "      fill: #1967D2;\n",
              "      height: 32px;\n",
              "      padding: 0 0 0 0;\n",
              "      width: 32px;\n",
              "    }\n",
              "\n",
              "    .colab-df-convert:hover {\n",
              "      background-color: #E2EBFA;\n",
              "      box-shadow: 0px 1px 2px rgba(60, 64, 67, 0.3), 0px 1px 3px 1px rgba(60, 64, 67, 0.15);\n",
              "      fill: #174EA6;\n",
              "    }\n",
              "\n",
              "    [theme=dark] .colab-df-convert {\n",
              "      background-color: #3B4455;\n",
              "      fill: #D2E3FC;\n",
              "    }\n",
              "\n",
              "    [theme=dark] .colab-df-convert:hover {\n",
              "      background-color: #434B5C;\n",
              "      box-shadow: 0px 1px 3px 1px rgba(0, 0, 0, 0.15);\n",
              "      filter: drop-shadow(0px 1px 2px rgba(0, 0, 0, 0.3));\n",
              "      fill: #FFFFFF;\n",
              "    }\n",
              "  </style>\n",
              "\n",
              "      <script>\n",
              "        const buttonEl =\n",
              "          document.querySelector('#df-c4459c91-cff6-426e-babc-7b55af7094fc button.colab-df-convert');\n",
              "        buttonEl.style.display =\n",
              "          google.colab.kernel.accessAllowed ? 'block' : 'none';\n",
              "\n",
              "        async function convertToInteractive(key) {\n",
              "          const element = document.querySelector('#df-c4459c91-cff6-426e-babc-7b55af7094fc');\n",
              "          const dataTable =\n",
              "            await google.colab.kernel.invokeFunction('convertToInteractive',\n",
              "                                                     [key], {});\n",
              "          if (!dataTable) return;\n",
              "\n",
              "          const docLinkHtml = 'Like what you see? Visit the ' +\n",
              "            '<a target=\"_blank\" href=https://colab.research.google.com/notebooks/data_table.ipynb>data table notebook</a>'\n",
              "            + ' to learn more about interactive tables.';\n",
              "          element.innerHTML = '';\n",
              "          dataTable['output_type'] = 'display_data';\n",
              "          await google.colab.output.renderOutput(dataTable, element);\n",
              "          const docLink = document.createElement('div');\n",
              "          docLink.innerHTML = docLinkHtml;\n",
              "          element.appendChild(docLink);\n",
              "        }\n",
              "      </script>\n",
              "    </div>\n",
              "  </div>\n",
              "  "
            ],
            "text/plain": [
              "   number_index  number_value\n",
              "0             0             0\n",
              "1             1             1\n",
              "2             2             1\n",
              "3             3             2\n",
              "4             4             3\n",
              "5             5             5\n",
              "6             6             8\n",
              "7             7            13\n",
              "8             8            21\n",
              "9             9            34"
            ]
          },
          "metadata": {}
        },
        {
          "output_type": "display_data",
          "data": {
            "application/javascript": [
              "window[\"a0acdc7e-6702-11ec-87a2-0242ac1c0002\"] = google.colab.output.setActiveOutputArea(window[\"a0a74106-6702-11ec-87a2-0242ac1c0002\"]);\n",
              "//# sourceURL=js_b27170cdd8"
            ],
            "text/plain": [
              "<IPython.core.display.Javascript object>"
            ]
          },
          "metadata": {}
        },
        {
          "output_type": "stream",
          "name": "stdout",
          "text": [
            " \n"
          ]
        },
        {
          "output_type": "display_data",
          "data": {
            "application/javascript": [
              "window[\"a0ae784a-6702-11ec-87a2-0242ac1c0002\"] = google.colab.output.setActiveOutputArea(window[\"a0a4a0ae-6702-11ec-87a2-0242ac1c0002\"]);\n",
              "//# sourceURL=js_28939e3203"
            ],
            "text/plain": [
              "<IPython.core.display.Javascript object>"
            ]
          },
          "metadata": {}
        }
      ]
    },
    {
      "cell_type": "code",
      "source": [
        "%%logica Word\n",
        "\n",
        "@Engine(\"sqlite\");\n",
        "Word(\"20211212\");\n",
        "Word(\"neveragain\");\n",
        "Word(\"civil\");\n",
        "Word(\"abbaforever\");\n",
        "Word(\"taxxataxxazere\");\n"
      ],
      "metadata": {
        "id": "81J0Z1Yq4lj7",
        "colab": {
          "resources": {
            "http://localhost:8080/nbextensions/google.colab/tabbar.css": {
              "data": "Lmdvb2ctdGFie3Bvc2l0aW9uOnJlbGF0aXZlO3BhZGRpbmc6NHB4IDhweDtjb2xvcjojMDBjO3RleHQtZGVjb3JhdGlvbjp1bmRlcmxpbmU7Y3Vyc29yOmRlZmF1bHR9Lmdvb2ctdGFiLWJhci10b3AgLmdvb2ctdGFie21hcmdpbjoxcHggNHB4IDAgMDtib3JkZXItYm90dG9tOjA7ZmxvYXQ6bGVmdH0uZ29vZy10YWItYmFyLXRvcDphZnRlciwuZ29vZy10YWItYmFyLWJvdHRvbTphZnRlcntjb250ZW50OiIgIjtkaXNwbGF5OmJsb2NrO2hlaWdodDowO2NsZWFyOmJvdGg7dmlzaWJpbGl0eTpoaWRkZW59Lmdvb2ctdGFiLWJhci1ib3R0b20gLmdvb2ctdGFie21hcmdpbjowIDRweCAxcHggMDtib3JkZXItdG9wOjA7ZmxvYXQ6bGVmdH0uZ29vZy10YWItYmFyLXN0YXJ0IC5nb29nLXRhYnttYXJnaW46MCAwIDRweCAxcHg7Ym9yZGVyLXJpZ2h0OjB9Lmdvb2ctdGFiLWJhci1lbmQgLmdvb2ctdGFie21hcmdpbjowIDFweCA0cHggMDtib3JkZXItbGVmdDowfS5nb29nLXRhYi1ob3ZlcntiYWNrZ3JvdW5kOiNlZWV9Lmdvb2ctdGFiLWRpc2FibGVke2NvbG9yOiM2NjZ9Lmdvb2ctdGFiLXNlbGVjdGVke2NvbG9yOiMwMDA7YmFja2dyb3VuZDojZmZmO3RleHQtZGVjb3JhdGlvbjpub25lO2ZvbnQtd2VpZ2h0OmJvbGQ7Ym9yZGVyOjFweCBzb2xpZCAjNmI5MGRhfS5nb29nLXRhYi1iYXItdG9we3BhZGRpbmctdG9wOjVweCFpbXBvcnRhbnQ7cGFkZGluZy1sZWZ0OjVweCFpbXBvcnRhbnQ7Ym9yZGVyLWJvdHRvbToxcHggc29saWQgIzZiOTBkYSFpbXBvcnRhbnR9Lmdvb2ctdGFiLWJhci10b3AgLmdvb2ctdGFiLXNlbGVjdGVke3RvcDoxcHg7bWFyZ2luLXRvcDowO3BhZGRpbmctYm90dG9tOjVweH0uZ29vZy10YWItYmFyLWJvdHRvbSAuZ29vZy10YWItc2VsZWN0ZWR7dG9wOi0xcHg7bWFyZ2luLWJvdHRvbTowO3BhZGRpbmctdG9wOjVweH0uZ29vZy10YWItYmFyLXN0YXJ0IC5nb29nLXRhYi1zZWxlY3RlZHtsZWZ0OjFweDttYXJnaW4tbGVmdDowO3BhZGRpbmctcmlnaHQ6OXB4fS5nb29nLXRhYi1iYXItZW5kIC5nb29nLXRhYi1zZWxlY3RlZHtsZWZ0Oi0xcHg7bWFyZ2luLXJpZ2h0OjA7cGFkZGluZy1sZWZ0OjlweH0uZ29vZy10YWItYmFye21hcmdpbjowO2JvcmRlcjowO3BhZGRpbmc6MDtsaXN0LXN0eWxlOm5vbmU7Y3Vyc29yOmRlZmF1bHQ7b3V0bGluZTpub25lO2JhY2tncm91bmQ6I2ViZWZmOX0uZ29vZy10YWItYmFyLWNsZWFye2NsZWFyOmJvdGg7aGVpZ2h0OjA7b3ZlcmZsb3c6aGlkZGVufS5nb29nLXRhYi1iYXItc3RhcnR7ZmxvYXQ6bGVmdH0uZ29vZy10YWItYmFyLWVuZHtmbG9hdDpyaWdodH0qIGh0bWwgLmdvb2ctdGFiLWJhci1zdGFydHttYXJnaW4tcmlnaHQ6LTNweH0qIGh0bWwgLmdvb2ctdGFiLWJhci1lbmR7bWFyZ2luLWxlZnQ6LTNweH0=",
              "ok": true,
              "headers": [
                [
                  "content-type",
                  "text/css"
                ]
              ],
              "status": 200,
              "status_text": ""
            },
            "http://localhost:8080/nbextensions/google.colab/tabbar_main.min.js": {
              "data": "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",
              "ok": true,
              "headers": [
                [
                  "content-type",
                  "application/javascript"
                ]
              ],
              "status": 200,
              "status_text": ""
            }
          },
          "base_uri": "https://localhost:8080/",
          "height": 318
        },
        "outputId": "4ee7cbaf-83fd-4093-8fc4-d531404fd09b"
      },
      "execution_count": 6,
      "outputs": [
        {
          "output_type": "display_data",
          "data": {
            "text/html": [
              "<link rel=stylesheet type=text/css href='/nbextensions/google.colab/tabbar.css'></link>"
            ],
            "text/plain": [
              "<IPython.core.display.HTML object>"
            ]
          },
          "metadata": {}
        },
        {
          "output_type": "display_data",
          "data": {
            "text/html": [
              "<script src='/nbextensions/google.colab/tabbar_main.min.js'></script>"
            ],
            "text/plain": [
              "<IPython.core.display.HTML object>"
            ]
          },
          "metadata": {}
        },
        {
          "output_type": "display_data",
          "data": {
            "text/html": [
              "<div id=\"id13\"></div>"
            ],
            "text/plain": [
              "<IPython.core.display.HTML object>"
            ]
          },
          "metadata": {}
        },
        {
          "output_type": "display_data",
          "data": {
            "application/javascript": [
              "window[\"a0ce165a-6702-11ec-87a2-0242ac1c0002\"] = colab_lib.createTabBar({\"location\": \"top\", \"elementId\": \"id13\", \"tabNames\": [\"Word\", \"(Log)\"], \"initialSelection\": 0, \"contentBorder\": [\"0px\"], \"contentHeight\": [\"initial\"], \"borderColor\": [\"#a7a7a7\"]});\n",
              "//# sourceURL=js_3361a5be53"
            ],
            "text/plain": [
              "<IPython.core.display.Javascript object>"
            ]
          },
          "metadata": {}
        },
        {
          "output_type": "display_data",
          "data": {
            "application/javascript": [
              "window[\"a0ce7bea-6702-11ec-87a2-0242ac1c0002\"] = window[\"id13\"].setSelectedTabIndex(0);\n",
              "//# sourceURL=js_f14f9772e2"
            ],
            "text/plain": [
              "<IPython.core.display.Javascript object>"
            ]
          },
          "metadata": {}
        },
        {
          "output_type": "display_data",
          "data": {
            "application/javascript": [
              "window[\"a0d208c8-6702-11ec-87a2-0242ac1c0002\"] = google.colab.output.getActiveOutputArea();\n",
              "//# sourceURL=js_948ff42615"
            ],
            "text/plain": [
              "<IPython.core.display.Javascript object>"
            ]
          },
          "metadata": {}
        },
        {
          "output_type": "display_data",
          "data": {
            "application/javascript": [
              "window[\"a0d28e42-6702-11ec-87a2-0242ac1c0002\"] = document.querySelector(\"#id13_content_1\");\n",
              "//# sourceURL=js_8357c82968"
            ],
            "text/plain": [
              "<IPython.core.display.Javascript object>"
            ]
          },
          "metadata": {}
        },
        {
          "output_type": "display_data",
          "data": {
            "application/javascript": [
              "window[\"a0d333ba-6702-11ec-87a2-0242ac1c0002\"] = google.colab.output.setActiveOutputArea(window[\"a0d28e42-6702-11ec-87a2-0242ac1c0002\"]);\n",
              "//# sourceURL=js_68ea71c1bc"
            ],
            "text/plain": [
              "<IPython.core.display.Javascript object>"
            ]
          },
          "metadata": {}
        },
        {
          "output_type": "display_data",
          "data": {
            "application/javascript": [
              "window[\"a0d3b646-6702-11ec-87a2-0242ac1c0002\"] = window[\"id13\"].setSelectedTabIndex(1);\n",
              "//# sourceURL=js_c335207a65"
            ],
            "text/plain": [
              "<IPython.core.display.Javascript object>"
            ]
          },
          "metadata": {}
        },
        {
          "output_type": "display_data",
          "data": {
            "application/javascript": [
              "window[\"a0d5fb2c-6702-11ec-87a2-0242ac1c0002\"] = google.colab.output.setActiveOutputArea(window[\"a0d208c8-6702-11ec-87a2-0242ac1c0002\"]);\n",
              "//# sourceURL=js_f577dea8e8"
            ],
            "text/plain": [
              "<IPython.core.display.Javascript object>"
            ]
          },
          "metadata": {}
        },
        {
          "output_type": "display_data",
          "data": {
            "application/javascript": [
              "window[\"a0d97cfc-6702-11ec-87a2-0242ac1c0002\"] = google.colab.output.getActiveOutputArea();\n",
              "//# sourceURL=js_24ebdcb976"
            ],
            "text/plain": [
              "<IPython.core.display.Javascript object>"
            ]
          },
          "metadata": {}
        },
        {
          "output_type": "display_data",
          "data": {
            "application/javascript": [
              "window[\"a0da01ae-6702-11ec-87a2-0242ac1c0002\"] = document.querySelector(\"#id13_content_0\");\n",
              "//# sourceURL=js_78e51312a8"
            ],
            "text/plain": [
              "<IPython.core.display.Javascript object>"
            ]
          },
          "metadata": {}
        },
        {
          "output_type": "display_data",
          "data": {
            "application/javascript": [
              "window[\"a0da753a-6702-11ec-87a2-0242ac1c0002\"] = google.colab.output.setActiveOutputArea(window[\"a0da01ae-6702-11ec-87a2-0242ac1c0002\"]);\n",
              "//# sourceURL=js_2e273b5b62"
            ],
            "text/plain": [
              "<IPython.core.display.Javascript object>"
            ]
          },
          "metadata": {}
        },
        {
          "output_type": "display_data",
          "data": {
            "application/javascript": [
              "window[\"a0db381c-6702-11ec-87a2-0242ac1c0002\"] = window[\"id13\"].setSelectedTabIndex(0);\n",
              "//# sourceURL=js_22ecc55360"
            ],
            "text/plain": [
              "<IPython.core.display.Javascript object>"
            ]
          },
          "metadata": {}
        },
        {
          "output_type": "display_data",
          "data": {
            "text/html": [
              "<link rel=stylesheet type=text/css href='/nbextensions/google.colab/tabbar.css'></link>"
            ],
            "text/plain": [
              "<IPython.core.display.HTML object>"
            ]
          },
          "metadata": {}
        },
        {
          "output_type": "display_data",
          "data": {
            "text/html": [
              "<script src='/nbextensions/google.colab/tabbar_main.min.js'></script>"
            ],
            "text/plain": [
              "<IPython.core.display.HTML object>"
            ]
          },
          "metadata": {}
        },
        {
          "output_type": "display_data",
          "data": {
            "text/html": [
              "<div id=\"id14\"></div>"
            ],
            "text/plain": [
              "<IPython.core.display.HTML object>"
            ]
          },
          "metadata": {}
        },
        {
          "output_type": "display_data",
          "data": {
            "application/javascript": [
              "window[\"a0dec590-6702-11ec-87a2-0242ac1c0002\"] = colab_lib.createTabBar({\"location\": \"top\", \"elementId\": \"id14\", \"tabNames\": [\"SQL\", \"Result\"], \"initialSelection\": 0, \"contentBorder\": [\"0px\"], \"contentHeight\": [\"initial\"], \"borderColor\": [\"#a7a7a7\"]});\n",
              "//# sourceURL=js_20fe52b37a"
            ],
            "text/plain": [
              "<IPython.core.display.Javascript object>"
            ]
          },
          "metadata": {}
        },
        {
          "output_type": "display_data",
          "data": {
            "application/javascript": [
              "window[\"a0df2f76-6702-11ec-87a2-0242ac1c0002\"] = window[\"id14\"].setSelectedTabIndex(0);\n",
              "//# sourceURL=js_bd462e9061"
            ],
            "text/plain": [
              "<IPython.core.display.Javascript object>"
            ]
          },
          "metadata": {}
        },
        {
          "output_type": "display_data",
          "data": {
            "application/javascript": [
              "window[\"a0e16084-6702-11ec-87a2-0242ac1c0002\"] = google.colab.output.getActiveOutputArea();\n",
              "//# sourceURL=js_b2ff0e57ba"
            ],
            "text/plain": [
              "<IPython.core.display.Javascript object>"
            ]
          },
          "metadata": {}
        },
        {
          "output_type": "display_data",
          "data": {
            "application/javascript": [
              "window[\"a0e1a828-6702-11ec-87a2-0242ac1c0002\"] = document.querySelector(\"#id14_content_0\");\n",
              "//# sourceURL=js_4898501194"
            ],
            "text/plain": [
              "<IPython.core.display.Javascript object>"
            ]
          },
          "metadata": {}
        },
        {
          "output_type": "display_data",
          "data": {
            "application/javascript": [
              "window[\"a0e1eefa-6702-11ec-87a2-0242ac1c0002\"] = google.colab.output.setActiveOutputArea(window[\"a0e1a828-6702-11ec-87a2-0242ac1c0002\"]);\n",
              "//# sourceURL=js_ec8646299e"
            ],
            "text/plain": [
              "<IPython.core.display.Javascript object>"
            ]
          },
          "metadata": {}
        },
        {
          "output_type": "display_data",
          "data": {
            "application/javascript": [
              "window[\"a0e23752-6702-11ec-87a2-0242ac1c0002\"] = window[\"id14\"].setSelectedTabIndex(0);\n",
              "//# sourceURL=js_3d895d6c52"
            ],
            "text/plain": [
              "<IPython.core.display.Javascript object>"
            ]
          },
          "metadata": {}
        },
        {
          "output_type": "stream",
          "name": "stdout",
          "text": [
            "The following query is stored at \u001b[1mWord_sql\u001b[0m variable.\n",
            "SELECT * FROM (\n",
            "  \n",
            "    SELECT\n",
            "      '20211212' AS col0\n",
            "   UNION ALL\n",
            "  \n",
            "    SELECT\n",
            "      'neveragain' AS col0\n",
            "   UNION ALL\n",
            "  \n",
            "    SELECT\n",
            "      'civil' AS col0\n",
            "   UNION ALL\n",
            "  \n",
            "    SELECT\n",
            "      'abbaforever' AS col0\n",
            "   UNION ALL\n",
            "  \n",
            "    SELECT\n",
            "      'taxxataxxazere' AS col0\n",
            "  \n",
            ") AS UNUSED_TABLE_NAME  ;\n"
          ]
        },
        {
          "output_type": "display_data",
          "data": {
            "application/javascript": [
              "window[\"a0e34ec6-6702-11ec-87a2-0242ac1c0002\"] = google.colab.output.setActiveOutputArea(window[\"a0e16084-6702-11ec-87a2-0242ac1c0002\"]);\n",
              "//# sourceURL=js_383832e161"
            ],
            "text/plain": [
              "<IPython.core.display.Javascript object>"
            ]
          },
          "metadata": {}
        },
        {
          "output_type": "display_data",
          "data": {
            "application/javascript": [
              "window[\"a0e495f6-6702-11ec-87a2-0242ac1c0002\"] = google.colab.output.setActiveOutputArea(window[\"a0d97cfc-6702-11ec-87a2-0242ac1c0002\"]);\n",
              "//# sourceURL=js_cdb88e113b"
            ],
            "text/plain": [
              "<IPython.core.display.Javascript object>"
            ]
          },
          "metadata": {}
        },
        {
          "output_type": "display_data",
          "data": {
            "application/javascript": [
              "window[\"a0e63726-6702-11ec-87a2-0242ac1c0002\"] = google.colab.output.getActiveOutputArea();\n",
              "//# sourceURL=js_46930dc280"
            ],
            "text/plain": [
              "<IPython.core.display.Javascript object>"
            ]
          },
          "metadata": {}
        },
        {
          "output_type": "display_data",
          "data": {
            "application/javascript": [
              "window[\"a0e67f38-6702-11ec-87a2-0242ac1c0002\"] = document.querySelector(\"#id13_content_1\");\n",
              "//# sourceURL=js_fc797af3e6"
            ],
            "text/plain": [
              "<IPython.core.display.Javascript object>"
            ]
          },
          "metadata": {}
        },
        {
          "output_type": "display_data",
          "data": {
            "application/javascript": [
              "window[\"a0e6c3bc-6702-11ec-87a2-0242ac1c0002\"] = google.colab.output.setActiveOutputArea(window[\"a0e67f38-6702-11ec-87a2-0242ac1c0002\"]);\n",
              "//# sourceURL=js_1c5a25e372"
            ],
            "text/plain": [
              "<IPython.core.display.Javascript object>"
            ]
          },
          "metadata": {}
        },
        {
          "output_type": "display_data",
          "data": {
            "application/javascript": [
              "window[\"a0e70890-6702-11ec-87a2-0242ac1c0002\"] = window[\"id13\"].setSelectedTabIndex(1);\n",
              "//# sourceURL=js_cca3c823f0"
            ],
            "text/plain": [
              "<IPython.core.display.Javascript object>"
            ]
          },
          "metadata": {}
        },
        {
          "output_type": "display_data",
          "data": {
            "text/plain": [
              "<graphviz.dot.Digraph at 0x7f63c74f8350>"
            ],
            "image/svg+xml": "<?xml version=\"1.0\" encoding=\"UTF-8\" standalone=\"no\"?>\n<!DOCTYPE svg PUBLIC \"-//W3C//DTD SVG 1.1//EN\"\n \"http://www.w3.org/Graphics/SVG/1.1/DTD/svg11.dtd\">\n<!-- Generated by graphviz version 2.40.1 (20161225.0304)\n -->\n<!-- Title: Concertina Pages: 1 -->\n<svg width=\"98pt\" height=\"44pt\"\n viewBox=\"0.00 0.00 98.08 44.00\" xmlns=\"http://www.w3.org/2000/svg\" xmlns:xlink=\"http://www.w3.org/1999/xlink\">\n<g id=\"graph0\" class=\"graph\" transform=\"scale(1 1) rotate(0) translate(4 40)\">\n<title>Concertina</title>\n<polygon fill=\"#ffffff\" stroke=\"transparent\" points=\"-4,4 -4,-40 94.0774,-40 94.0774,4 -4,4\"/>\n<!-- Word -->\n<g id=\"node1\" class=\"node\">\n<title>Word</title>\n<path fill=\"#caff70\" stroke=\"#575757\" d=\"M33.8943,-31.5499C33.8943,-31.5499 11.1056,-22.4501 11.1056,-22.4501 5.5334,-20.225 5.5334,-15.775 11.1056,-13.5499 11.1056,-13.5499 33.8943,-4.4501 33.8943,-4.4501 39.4665,-2.225 50.6109,-2.225 56.1831,-4.4501 56.1831,-4.4501 78.9718,-13.5499 78.9718,-13.5499 84.544,-15.775 84.544,-20.225 78.9718,-22.4501 78.9718,-22.4501 56.1831,-31.5499 56.1831,-31.5499 50.6109,-33.775 39.4665,-33.775 33.8943,-31.5499\"/>\n<text text-anchor=\"middle\" x=\"45.0387\" y=\"-14.3\" font-family=\"Times,serif\" font-size=\"14.00\" fill=\"#000000\">Word</text>\n</g>\n</g>\n</svg>\n"
          },
          "metadata": {}
        },
        {
          "output_type": "stream",
          "name": "stdout",
          "text": [
            "Running predicate: Word (0 seconds)\n"
          ]
        },
        {
          "output_type": "display_data",
          "data": {
            "application/javascript": [
              "window[\"a100389c-6702-11ec-87a2-0242ac1c0002\"] = google.colab.output.setActiveOutputArea(window[\"a0e63726-6702-11ec-87a2-0242ac1c0002\"]);\n",
              "//# sourceURL=js_57c665b8c5"
            ],
            "text/plain": [
              "<IPython.core.display.Javascript object>"
            ]
          },
          "metadata": {}
        },
        {
          "output_type": "display_data",
          "data": {
            "application/javascript": [
              "window[\"a1048686-6702-11ec-87a2-0242ac1c0002\"] = google.colab.output.getActiveOutputArea();\n",
              "//# sourceURL=js_f293eb5d08"
            ],
            "text/plain": [
              "<IPython.core.display.Javascript object>"
            ]
          },
          "metadata": {}
        },
        {
          "output_type": "display_data",
          "data": {
            "application/javascript": [
              "window[\"a1050eb2-6702-11ec-87a2-0242ac1c0002\"] = document.querySelector(\"#id13_content_0\");\n",
              "//# sourceURL=js_39f8bf8a0c"
            ],
            "text/plain": [
              "<IPython.core.display.Javascript object>"
            ]
          },
          "metadata": {}
        },
        {
          "output_type": "display_data",
          "data": {
            "application/javascript": [
              "window[\"a106b71c-6702-11ec-87a2-0242ac1c0002\"] = google.colab.output.setActiveOutputArea(window[\"a1050eb2-6702-11ec-87a2-0242ac1c0002\"]);\n",
              "//# sourceURL=js_3610c0272f"
            ],
            "text/plain": [
              "<IPython.core.display.Javascript object>"
            ]
          },
          "metadata": {}
        },
        {
          "output_type": "display_data",
          "data": {
            "application/javascript": [
              "window[\"a1075604-6702-11ec-87a2-0242ac1c0002\"] = window[\"id13\"].setSelectedTabIndex(0);\n",
              "//# sourceURL=js_04ba0157f4"
            ],
            "text/plain": [
              "<IPython.core.display.Javascript object>"
            ]
          },
          "metadata": {}
        },
        {
          "output_type": "display_data",
          "data": {
            "application/javascript": [
              "window[\"a10a7a28-6702-11ec-87a2-0242ac1c0002\"] = google.colab.output.getActiveOutputArea();\n",
              "//# sourceURL=js_fac7861fab"
            ],
            "text/plain": [
              "<IPython.core.display.Javascript object>"
            ]
          },
          "metadata": {}
        },
        {
          "output_type": "display_data",
          "data": {
            "application/javascript": [
              "window[\"a10b2874-6702-11ec-87a2-0242ac1c0002\"] = document.querySelector(\"#id14_content_1\");\n",
              "//# sourceURL=js_a8eb4d0fb4"
            ],
            "text/plain": [
              "<IPython.core.display.Javascript object>"
            ]
          },
          "metadata": {}
        },
        {
          "output_type": "display_data",
          "data": {
            "application/javascript": [
              "window[\"a10bdb0c-6702-11ec-87a2-0242ac1c0002\"] = google.colab.output.setActiveOutputArea(window[\"a10b2874-6702-11ec-87a2-0242ac1c0002\"]);\n",
              "//# sourceURL=js_4fde3ede6a"
            ],
            "text/plain": [
              "<IPython.core.display.Javascript object>"
            ]
          },
          "metadata": {}
        },
        {
          "output_type": "display_data",
          "data": {
            "application/javascript": [
              "window[\"a10c834a-6702-11ec-87a2-0242ac1c0002\"] = window[\"id14\"].setSelectedTabIndex(1);\n",
              "//# sourceURL=js_1d8bb3f7e5"
            ],
            "text/plain": [
              "<IPython.core.display.Javascript object>"
            ]
          },
          "metadata": {}
        },
        {
          "output_type": "stream",
          "name": "stdout",
          "text": [
            "The following table is stored at \u001b[1mWord\u001b[0m variable.\n"
          ]
        },
        {
          "output_type": "display_data",
          "data": {
            "text/html": [
              "\n",
              "  <div id=\"df-dfe23ed4-19c6-498e-b6ad-96008ed67ea1\">\n",
              "    <div class=\"colab-df-container\">\n",
              "      <div>\n",
              "<style scoped>\n",
              "    .dataframe tbody tr th:only-of-type {\n",
              "        vertical-align: middle;\n",
              "    }\n",
              "\n",
              "    .dataframe tbody tr th {\n",
              "        vertical-align: top;\n",
              "    }\n",
              "\n",
              "    .dataframe thead th {\n",
              "        text-align: right;\n",
              "    }\n",
              "</style>\n",
              "<table border=\"1\" class=\"dataframe\">\n",
              "  <thead>\n",
              "    <tr style=\"text-align: right;\">\n",
              "      <th></th>\n",
              "      <th>col0</th>\n",
              "    </tr>\n",
              "  </thead>\n",
              "  <tbody>\n",
              "    <tr>\n",
              "      <th>0</th>\n",
              "      <td>20211212</td>\n",
              "    </tr>\n",
              "    <tr>\n",
              "      <th>1</th>\n",
              "      <td>neveragain</td>\n",
              "    </tr>\n",
              "    <tr>\n",
              "      <th>2</th>\n",
              "      <td>civil</td>\n",
              "    </tr>\n",
              "    <tr>\n",
              "      <th>3</th>\n",
              "      <td>abbaforever</td>\n",
              "    </tr>\n",
              "    <tr>\n",
              "      <th>4</th>\n",
              "      <td>taxxataxxazere</td>\n",
              "    </tr>\n",
              "  </tbody>\n",
              "</table>\n",
              "</div>\n",
              "      <button class=\"colab-df-convert\" onclick=\"convertToInteractive('df-dfe23ed4-19c6-498e-b6ad-96008ed67ea1')\"\n",
              "              title=\"Convert this dataframe to an interactive table.\"\n",
              "              style=\"display:none;\">\n",
              "        \n",
              "  <svg xmlns=\"http://www.w3.org/2000/svg\" height=\"24px\"viewBox=\"0 0 24 24\"\n",
              "       width=\"24px\">\n",
              "    <path d=\"M0 0h24v24H0V0z\" fill=\"none\"/>\n",
              "    <path d=\"M18.56 5.44l.94 2.06.94-2.06 2.06-.94-2.06-.94-.94-2.06-.94 2.06-2.06.94zm-11 1L8.5 8.5l.94-2.06 2.06-.94-2.06-.94L8.5 2.5l-.94 2.06-2.06.94zm10 10l.94 2.06.94-2.06 2.06-.94-2.06-.94-.94-2.06-.94 2.06-2.06.94z\"/><path d=\"M17.41 7.96l-1.37-1.37c-.4-.4-.92-.59-1.43-.59-.52 0-1.04.2-1.43.59L10.3 9.45l-7.72 7.72c-.78.78-.78 2.05 0 2.83L4 21.41c.39.39.9.59 1.41.59.51 0 1.02-.2 1.41-.59l7.78-7.78 2.81-2.81c.8-.78.8-2.07 0-2.86zM5.41 20L4 18.59l7.72-7.72 1.47 1.35L5.41 20z\"/>\n",
              "  </svg>\n",
              "      </button>\n",
              "      \n",
              "  <style>\n",
              "    .colab-df-container {\n",
              "      display:flex;\n",
              "      flex-wrap:wrap;\n",
              "      gap: 12px;\n",
              "    }\n",
              "\n",
              "    .colab-df-convert {\n",
              "      background-color: #E8F0FE;\n",
              "      border: none;\n",
              "      border-radius: 50%;\n",
              "      cursor: pointer;\n",
              "      display: none;\n",
              "      fill: #1967D2;\n",
              "      height: 32px;\n",
              "      padding: 0 0 0 0;\n",
              "      width: 32px;\n",
              "    }\n",
              "\n",
              "    .colab-df-convert:hover {\n",
              "      background-color: #E2EBFA;\n",
              "      box-shadow: 0px 1px 2px rgba(60, 64, 67, 0.3), 0px 1px 3px 1px rgba(60, 64, 67, 0.15);\n",
              "      fill: #174EA6;\n",
              "    }\n",
              "\n",
              "    [theme=dark] .colab-df-convert {\n",
              "      background-color: #3B4455;\n",
              "      fill: #D2E3FC;\n",
              "    }\n",
              "\n",
              "    [theme=dark] .colab-df-convert:hover {\n",
              "      background-color: #434B5C;\n",
              "      box-shadow: 0px 1px 3px 1px rgba(0, 0, 0, 0.15);\n",
              "      filter: drop-shadow(0px 1px 2px rgba(0, 0, 0, 0.3));\n",
              "      fill: #FFFFFF;\n",
              "    }\n",
              "  </style>\n",
              "\n",
              "      <script>\n",
              "        const buttonEl =\n",
              "          document.querySelector('#df-dfe23ed4-19c6-498e-b6ad-96008ed67ea1 button.colab-df-convert');\n",
              "        buttonEl.style.display =\n",
              "          google.colab.kernel.accessAllowed ? 'block' : 'none';\n",
              "\n",
              "        async function convertToInteractive(key) {\n",
              "          const element = document.querySelector('#df-dfe23ed4-19c6-498e-b6ad-96008ed67ea1');\n",
              "          const dataTable =\n",
              "            await google.colab.kernel.invokeFunction('convertToInteractive',\n",
              "                                                     [key], {});\n",
              "          if (!dataTable) return;\n",
              "\n",
              "          const docLinkHtml = 'Like what you see? Visit the ' +\n",
              "            '<a target=\"_blank\" href=https://colab.research.google.com/notebooks/data_table.ipynb>data table notebook</a>'\n",
              "            + ' to learn more about interactive tables.';\n",
              "          element.innerHTML = '';\n",
              "          dataTable['output_type'] = 'display_data';\n",
              "          await google.colab.output.renderOutput(dataTable, element);\n",
              "          const docLink = document.createElement('div');\n",
              "          docLink.innerHTML = docLinkHtml;\n",
              "          element.appendChild(docLink);\n",
              "        }\n",
              "      </script>\n",
              "    </div>\n",
              "  </div>\n",
              "  "
            ],
            "text/plain": [
              "             col0\n",
              "0        20211212\n",
              "1      neveragain\n",
              "2           civil\n",
              "3     abbaforever\n",
              "4  taxxataxxazere"
            ]
          },
          "metadata": {}
        },
        {
          "output_type": "display_data",
          "data": {
            "application/javascript": [
              "window[\"a111c2d8-6702-11ec-87a2-0242ac1c0002\"] = google.colab.output.setActiveOutputArea(window[\"a10a7a28-6702-11ec-87a2-0242ac1c0002\"]);\n",
              "//# sourceURL=js_6c2a35e0f9"
            ],
            "text/plain": [
              "<IPython.core.display.Javascript object>"
            ]
          },
          "metadata": {}
        },
        {
          "output_type": "stream",
          "name": "stdout",
          "text": [
            " \n"
          ]
        },
        {
          "output_type": "display_data",
          "data": {
            "application/javascript": [
              "window[\"a114c37a-6702-11ec-87a2-0242ac1c0002\"] = google.colab.output.setActiveOutputArea(window[\"a1048686-6702-11ec-87a2-0242ac1c0002\"]);\n",
              "//# sourceURL=js_c3d6b25c64"
            ],
            "text/plain": [
              "<IPython.core.display.Javascript object>"
            ]
          },
          "metadata": {}
        }
      ]
    },
    {
      "cell_type": "code",
      "source": [
        ""
      ],
      "metadata": {
        "id": "WJF06bLKwIbp"
      },
      "execution_count": 6,
      "outputs": []
    }
  ]
}